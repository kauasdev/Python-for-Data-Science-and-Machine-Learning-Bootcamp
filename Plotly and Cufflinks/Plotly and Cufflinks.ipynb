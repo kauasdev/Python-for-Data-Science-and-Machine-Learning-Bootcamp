{
 "cells": [
  {
   "cell_type": "markdown",
   "id": "9d61b657",
   "metadata": {},
   "source": [
    "## Plotly and Cufflinks\n",
    "\n",
    "Plotly is a library that allows you to create interactive plots that you can use in dashboards or websites (you can save them as html files or static images)."
   ]
  },
  {
   "cell_type": "code",
   "execution_count": 1,
   "id": "29691ace",
   "metadata": {},
   "outputs": [],
   "source": [
    "import pandas as pd\n",
    "import numpy as np\n",
    "\n",
    "%matplotlib inline"
   ]
  },
  {
   "cell_type": "code",
   "execution_count": 2,
   "id": "16f9e278",
   "metadata": {},
   "outputs": [],
   "source": [
    "from plotly import __version__\n",
    "from plotly.offline import download_plotlyjs, init_notebook_mode, plot"
   ]
  },
  {
   "cell_type": "code",
   "execution_count": 3,
   "id": "d51fd7a6",
   "metadata": {},
   "outputs": [
    {
     "name": "stdout",
     "output_type": "stream",
     "text": [
      "5.9.0\n"
     ]
    }
   ],
   "source": [
    "print(__version__)"
   ]
  },
  {
   "cell_type": "code",
   "execution_count": 4,
   "id": "ce05a432",
   "metadata": {},
   "outputs": [],
   "source": [
    "import cufflinks as cf"
   ]
  },
  {
   "cell_type": "code",
   "execution_count": 5,
   "id": "a678cc43",
   "metadata": {},
   "outputs": [
    {
     "data": {
      "text/html": [
       "        <script type=\"text/javascript\">\n",
       "        window.PlotlyConfig = {MathJaxConfig: 'local'};\n",
       "        if (window.MathJax && window.MathJax.Hub && window.MathJax.Hub.Config) {window.MathJax.Hub.Config({SVG: {font: \"STIX-Web\"}});}\n",
       "        if (typeof require !== 'undefined') {\n",
       "        require.undef(\"plotly\");\n",
       "        requirejs.config({\n",
       "            paths: {\n",
       "                'plotly': ['https://cdn.plot.ly/plotly-2.12.1.min']\n",
       "            }\n",
       "        });\n",
       "        require(['plotly'], function(Plotly) {\n",
       "            window._Plotly = Plotly;\n",
       "        });\n",
       "        }\n",
       "        </script>\n",
       "        "
      ]
     },
     "metadata": {},
     "output_type": "display_data"
    }
   ],
   "source": [
    "# For Notebooks\n",
    "init_notebook_mode(connected=True)"
   ]
  },
  {
   "cell_type": "code",
   "execution_count": 6,
   "id": "30e9c91f",
   "metadata": {},
   "outputs": [
    {
     "data": {
      "text/html": [
       "        <script type=\"text/javascript\">\n",
       "        window.PlotlyConfig = {MathJaxConfig: 'local'};\n",
       "        if (window.MathJax && window.MathJax.Hub && window.MathJax.Hub.Config) {window.MathJax.Hub.Config({SVG: {font: \"STIX-Web\"}});}\n",
       "        if (typeof require !== 'undefined') {\n",
       "        require.undef(\"plotly\");\n",
       "        requirejs.config({\n",
       "            paths: {\n",
       "                'plotly': ['https://cdn.plot.ly/plotly-2.12.1.min']\n",
       "            }\n",
       "        });\n",
       "        require(['plotly'], function(Plotly) {\n",
       "            window._Plotly = Plotly;\n",
       "        });\n",
       "        }\n",
       "        </script>\n",
       "        "
      ]
     },
     "metadata": {},
     "output_type": "display_data"
    }
   ],
   "source": [
    "# For offline use\n",
    "cf.go_offline()"
   ]
  },
  {
   "cell_type": "markdown",
   "id": "3046da3c",
   "metadata": {},
   "source": [
    "### Fake Data"
   ]
  },
  {
   "cell_type": "code",
   "execution_count": 7,
   "id": "f3919024",
   "metadata": {},
   "outputs": [],
   "source": [
    "df = pd.DataFrame(np.random.randn(100, 4), columns='A B C D'.split())"
   ]
  },
  {
   "cell_type": "code",
   "execution_count": 8,
   "id": "c5a16ccd",
   "metadata": {},
   "outputs": [
    {
     "data": {
      "text/html": [
       "<div>\n",
       "<style scoped>\n",
       "    .dataframe tbody tr th:only-of-type {\n",
       "        vertical-align: middle;\n",
       "    }\n",
       "\n",
       "    .dataframe tbody tr th {\n",
       "        vertical-align: top;\n",
       "    }\n",
       "\n",
       "    .dataframe thead th {\n",
       "        text-align: right;\n",
       "    }\n",
       "</style>\n",
       "<table border=\"1\" class=\"dataframe\">\n",
       "  <thead>\n",
       "    <tr style=\"text-align: right;\">\n",
       "      <th></th>\n",
       "      <th>A</th>\n",
       "      <th>B</th>\n",
       "      <th>C</th>\n",
       "      <th>D</th>\n",
       "    </tr>\n",
       "  </thead>\n",
       "  <tbody>\n",
       "    <tr>\n",
       "      <th>0</th>\n",
       "      <td>0.778458</td>\n",
       "      <td>-0.124185</td>\n",
       "      <td>-0.038020</td>\n",
       "      <td>0.193649</td>\n",
       "    </tr>\n",
       "    <tr>\n",
       "      <th>1</th>\n",
       "      <td>-0.968045</td>\n",
       "      <td>0.528505</td>\n",
       "      <td>0.877356</td>\n",
       "      <td>0.185832</td>\n",
       "    </tr>\n",
       "    <tr>\n",
       "      <th>2</th>\n",
       "      <td>0.393591</td>\n",
       "      <td>-0.648338</td>\n",
       "      <td>-1.118725</td>\n",
       "      <td>1.992392</td>\n",
       "    </tr>\n",
       "    <tr>\n",
       "      <th>3</th>\n",
       "      <td>-1.239499</td>\n",
       "      <td>-0.288224</td>\n",
       "      <td>-0.100269</td>\n",
       "      <td>1.318813</td>\n",
       "    </tr>\n",
       "    <tr>\n",
       "      <th>4</th>\n",
       "      <td>-0.216484</td>\n",
       "      <td>0.573621</td>\n",
       "      <td>-0.773240</td>\n",
       "      <td>0.537806</td>\n",
       "    </tr>\n",
       "  </tbody>\n",
       "</table>\n",
       "</div>"
      ],
      "text/plain": [
       "          A         B         C         D\n",
       "0  0.778458 -0.124185 -0.038020  0.193649\n",
       "1 -0.968045  0.528505  0.877356  0.185832\n",
       "2  0.393591 -0.648338 -1.118725  1.992392\n",
       "3 -1.239499 -0.288224 -0.100269  1.318813\n",
       "4 -0.216484  0.573621 -0.773240  0.537806"
      ]
     },
     "execution_count": 8,
     "metadata": {},
     "output_type": "execute_result"
    }
   ],
   "source": [
    "df.head()"
   ]
  },
  {
   "cell_type": "code",
   "execution_count": 9,
   "id": "71ee65e4",
   "metadata": {},
   "outputs": [],
   "source": [
    " df2 = pd.DataFrame({'Category':['A','B','C'],'Values':[32,43,50]})"
   ]
  },
  {
   "cell_type": "code",
   "execution_count": 10,
   "id": "73a7449b",
   "metadata": {},
   "outputs": [
    {
     "data": {
      "text/html": [
       "<div>\n",
       "<style scoped>\n",
       "    .dataframe tbody tr th:only-of-type {\n",
       "        vertical-align: middle;\n",
       "    }\n",
       "\n",
       "    .dataframe tbody tr th {\n",
       "        vertical-align: top;\n",
       "    }\n",
       "\n",
       "    .dataframe thead th {\n",
       "        text-align: right;\n",
       "    }\n",
       "</style>\n",
       "<table border=\"1\" class=\"dataframe\">\n",
       "  <thead>\n",
       "    <tr style=\"text-align: right;\">\n",
       "      <th></th>\n",
       "      <th>Category</th>\n",
       "      <th>Values</th>\n",
       "    </tr>\n",
       "  </thead>\n",
       "  <tbody>\n",
       "    <tr>\n",
       "      <th>0</th>\n",
       "      <td>A</td>\n",
       "      <td>32</td>\n",
       "    </tr>\n",
       "    <tr>\n",
       "      <th>1</th>\n",
       "      <td>B</td>\n",
       "      <td>43</td>\n",
       "    </tr>\n",
       "    <tr>\n",
       "      <th>2</th>\n",
       "      <td>C</td>\n",
       "      <td>50</td>\n",
       "    </tr>\n",
       "  </tbody>\n",
       "</table>\n",
       "</div>"
      ],
      "text/plain": [
       "  Category  Values\n",
       "0        A      32\n",
       "1        B      43\n",
       "2        C      50"
      ]
     },
     "execution_count": 10,
     "metadata": {},
     "output_type": "execute_result"
    }
   ],
   "source": [
    "df2.head()"
   ]
  },
  {
   "cell_type": "code",
   "execution_count": 11,
   "id": "d0e06ea5",
   "metadata": {},
   "outputs": [
    {
     "data": {
      "text/plain": [
       "<Axes: >"
      ]
     },
     "execution_count": 11,
     "metadata": {},
     "output_type": "execute_result"
    },
    {
     "data": {
      "image/png": "[encoded data removed]",
      "text/plain": [
       "<Figure size 640x480 with 1 Axes>"
      ]
     },
     "metadata": {},
     "output_type": "display_data"
    }
   ],
   "source": [
    "df.plot() # No Interactive"
   ]
  },
  {
   "cell_type": "code",
   "execution_count": 12,
   "id": "30c159ee",
   "metadata": {},
   "outputs": [
    {
     "data": {
      "application/vnd.plotly.v1+json": {
       "config": {
        "linkText": "Export to plot.ly",
        "plotlyServerURL": "https://plot.ly",
        "showLink": true
       },
       "data": [
        {
         "line": {
          "color": "rgba(255, 153, 51, 1.0)",
          "dash": "solid",
          "shape": "linear",
          "width": 1.3
         },
         "mode": "lines",
         "name": "A",
         "text": "",
         "type": "scatter",
         "x": [
          0,
          1,
          2,
          3,
          4,
          5,
          6,
          7,
          8,
          9,
          10,
          11,
          12,
          13,
          14,
          15,
          16,
          17,
          18,
          19,
          20,
          21,
          22,
          23,
          24,
          25,
          26,
          27,
          28,
          29,
          30,
          31,
          32,
          33,
          34,
          35,
          36,
          37,
          38,
          39,
          40,
          41,
          42,
          43,
          44,
          45,
          46,
          47,
          48,
          49,
          50,
          51,
          52,
          53,
          54,
          55,
          56,
          57,
          58,
          59,
          60,
          61,
          62,
          63,
          64,
          65,
          66,
          67,
          68,
          69,
          70,
          71,
          72,
          73,
          74,
          75,
          76,
          77,
          78,
          79,
          80,
          81,
          82,
          83,
          84,
          85,
          86,
          87,
          88,
          89,
          90,
          91,
          92,
          93,
          94,
          95,
          96,
          97,
          98,
          99
         ],
         "y": [
          0.778457933302214,
          -0.9680449357550578,
          0.39359084183301096,
          -1.2394985928585338,
          -0.2164835093388013,
          -0.1356228708503378,
          -1.2521746730325765,
          -1.0835243246963888,
          0.6250752248509963,
          0.7718451818596955,
          0.4318676271026053,
          -0.8686984687467546,
          0.18229522144610463,
          -0.17752709417956644,
          -0.7853823575966619,
          -0.06893337907779387,
          -0.9466983840211649,
          -0.9221095109610769,
          1.5774648689521218,
          0.3930242065630447,
          0.8277738191842602,
          -0.8241508298553344,
          0.07495661144670138,
          -0.3590170031546842,
          1.2734557212058224,
          -1.504383022229239,
          -0.12596790196229846,
          0.6123225576918307,
          0.3426474625945798,
          0.846089362700548,
          1.3523055165355302,
          0.284811559971216,
          -1.6013083992544557,
          1.6679084568187605,
          1.5145816453277892,
          -0.0046250819630932315,
          -0.07829149222527237,
          0.9916207650528954,
          1.1145048640682926,
          -1.089729192815636,
          0.17314040189558932,
          -0.033796344362975864,
          0.07562690561269443,
          1.892594834465393,
          -1.8348706724093262,
          1.2584334190829263,
          0.17218282514485775,
          0.34213290139111757,
          -0.7402663222325283,
          -0.588544402128247,
          -0.27975100910657263,
          -0.36609359684194237,
          -0.8452472534162175,
          -0.4468861894570877,
          0.6034241098470298,
          3.1023651388360145,
          0.214644091222445,
          -0.8612338237196326,
          0.13263420361251016,
          -0.9710094581449149,
          0.7227469378577297,
          -0.7822128929376538,
          -0.22143889112664097,
          0.14416334626005273,
          -0.8833756073627672,
          1.2612268675473937,
          0.7928279434498183,
          -1.0251422302062176,
          -0.4536854547609093,
          -0.45958745335640483,
          0.5182900495849041,
          0.850977459520938,
          0.04421513310499319,
          -1.1175849668722495,
          -0.8030693507661488,
          1.92519394398426,
          0.7217912827510005,
          -0.3116468245019817,
          -1.750355552577647,
          -0.6873302147493952,
          1.5993325144520412,
          1.2093688325747638,
          0.7382608277486163,
          -0.01307177710019666,
          0.4249358964426604,
          1.8114662802257053,
          -0.23812364488121177,
          -0.04821109509459664,
          -0.47886446654041864,
          -0.4038921916964521,
          0.5091420384625585,
          0.4801272970933442,
          -0.48912145451354583,
          -1.147042924817787,
          -0.01032179386658933,
          0.1321566262110016,
          -0.384385463475132,
          1.2891000679608127,
          0.9391036286315693,
          1.0197304435884655
         ]
        },
        {
         "line": {
          "color": "rgba(55, 128, 191, 1.0)",
          "dash": "solid",
          "shape": "linear",
          "width": 1.3
         },
         "mode": "lines",
         "name": "B",
         "text": "",
         "type": "scatter",
         "x": [
          0,
          1,
          2,
          3,
          4,
          5,
          6,
          7,
          8,
          9,
          10,
          11,
          12,
          13,
          14,
          15,
          16,
          17,
          18,
          19,
          20,
          21,
          22,
          23,
          24,
          25,
          26,
          27,
          28,
          29,
          30,
          31,
          32,
          33,
          34,
          35,
          36,
          37,
          38,
          39,
          40,
          41,
          42,
          43,
          44,
          45,
          46,
          47,
          48,
          49,
          50,
          51,
          52,
          53,
          54,
          55,
          56,
          57,
          58,
          59,
          60,
          61,
          62,
          63,
          64,
          65,
          66,
          67,
          68,
          69,
          70,
          71,
          72,
          73,
          74,
          75,
          76,
          77,
          78,
          79,
          80,
          81,
          82,
          83,
          84,
          85,
          86,
          87,
          88,
          89,
          90,
          91,
          92,
          93,
          94,
          95,
          96,
          97,
          98,
          99
         ],
         "y": [
          -0.12418495906275873,
          0.5285054303759434,
          -0.6483376777606301,
          -0.2882240309938093,
          0.5736212497816112,
          2.239254267902068,
          -3.7132010957566717,
          -0.827361314325003,
          -0.07056871306249225,
          0.4485007765695378,
          -1.1425087248215398,
          0.713665370670025,
          -0.12237518106470253,
          -1.5779230985738613,
          -1.6518453654137415,
          0.7872739570953827,
          0.6696097676881092,
          0.12485407678766407,
          -0.2592731741227891,
          -0.6034697000193865,
          -0.1634147137662408,
          -0.9185909367956211,
          -1.5225614971140846,
          0.32708339513992823,
          -0.7881580126865311,
          -0.253793228203105,
          -0.20667844715897066,
          0.9083395167937691,
          0.48256960720999503,
          -0.9609842265734008,
          -0.9045949603882426,
          -0.8259097380548978,
          -0.4414993729915333,
          -0.2965042673868797,
          -1.8110254612575696,
          -0.6947125921837172,
          0.22518886816166567,
          0.9620639813793939,
          -1.4689365913873842,
          -0.5002907290334543,
          0.15554850993818742,
          1.0644877346151136,
          0.08741835263849135,
          -1.2266050665518022,
          0.009267372916793585,
          0.9365478847521909,
          -0.06849812894451411,
          0.572511977530958,
          0.2490562834386925,
          -0.7544740172893082,
          0.6270155247426541,
          0.4392751700611625,
          0.8876910389681761,
          0.6895447204388416,
          -0.08376221605853913,
          0.7519574530059915,
          0.7928931750275154,
          -0.07844246435307307,
          -0.6610778230711215,
          0.4710622226800591,
          -3.102751806348052,
          1.3879524318512182,
          -1.9793711097598718,
          0.08488617246516036,
          -1.6306338131169662,
          0.31209134076027195,
          1.527604855019396,
          2.0868502636121495,
          -0.41398376859852154,
          -0.5958562882694559,
          0.1407586248600635,
          1.1241522625681128,
          -0.7699943106290851,
          0.13748390446668632,
          -1.0344313621767662,
          1.589065501698242,
          -1.483419352532759,
          1.1109792033938501,
          0.6953782435953554,
          0.5181307791043384,
          1.3792400569088539,
          -0.19834484065509467,
          -1.6984989450444554,
          0.6454744077409759,
          1.156837525492291,
          -1.3392031859801345,
          -1.0476297371919077,
          0.8978011452694012,
          0.21692629572147912,
          -0.4597509119081817,
          0.19481940643523454,
          -0.08341557197324237,
          0.7726127026487843,
          -1.6792646825069584,
          -0.6350127596847416,
          1.0570017823937987,
          -1.0115000812255166,
          -1.5882588060836178,
          -1.8493217471273957,
          -1.1361901014810987
         ]
        },
        {
         "line": {
          "color": "rgba(50, 171, 96, 1.0)",
          "dash": "solid",
          "shape": "linear",
          "width": 1.3
         },
         "mode": "lines",
         "name": "C",
         "text": "",
         "type": "scatter",
         "x": [
          0,
          1,
          2,
          3,
          4,
          5,
          6,
          7,
          8,
          9,
          10,
          11,
          12,
          13,
          14,
          15,
          16,
          17,
          18,
          19,
          20,
          21,
          22,
          23,
          24,
          25,
          26,
          27,
          28,
          29,
          30,
          31,
          32,
          33,
          34,
          35,
          36,
          37,
          38,
          39,
          40,
          41,
          42,
          43,
          44,
          45,
          46,
          47,
          48,
          49,
          50,
          51,
          52,
          53,
          54,
          55,
          56,
          57,
          58,
          59,
          60,
          61,
          62,
          63,
          64,
          65,
          66,
          67,
          68,
          69,
          70,
          71,
          72,
          73,
          74,
          75,
          76,
          77,
          78,
          79,
          80,
          81,
          82,
          83,
          84,
          85,
          86,
          87,
          88,
          89,
          90,
          91,
          92,
          93,
          94,
          95,
          96,
          97,
          98,
          99
         ],
         "y": [
          -0.03802047411749776,
          0.8773557408303123,
          -1.118725034659502,
          -0.10026853830176642,
          -0.7732404050535409,
          0.5046837399056341,
          1.0405541917419667,
          0.12608346116189315,
          0.40577463423542737,
          -0.7153215479409281,
          1.327560943752907,
          1.1656233384029329,
          -2.556184188197719,
          0.180403725260928,
          -0.6420497906812835,
          0.08261155402733383,
          -0.8722369739240854,
          -0.5958593510195808,
          0.5411573911111616,
          1.5574465766371541,
          0.35858615040219993,
          0.1359352618178365,
          1.2729618354111418,
          -0.724388992300664,
          0.8689737956283615,
          1.0324712942410976,
          -0.10856722968255036,
          0.47116535782786606,
          0.9854431855075556,
          0.5648817725467724,
          -0.6741775517296723,
          -0.08507260800209669,
          -1.8491296419326837,
          1.1585345801397426,
          0.7410669957381095,
          0.2377646618768121,
          0.19636956338180683,
          1.5272074918028045,
          -0.29867294983582043,
          -0.1412752058259444,
          0.9105342836340018,
          -0.16649235126773396,
          -0.7152579905771318,
          1.4136319519783282,
          -0.3128878018946804,
          -0.433290552957218,
          0.8179761999340025,
          -1.3827284215191413,
          -0.24279974102893276,
          0.11564818225015172,
          0.4496854850035945,
          -0.4559239150446873,
          -2.252429793836703,
          -0.8597249668399786,
          -2.460767890721159,
          -0.08821510633908855,
          -0.7027062778648545,
          -0.3130299866317652,
          1.0320592354230556,
          -0.777357882169852,
          -2.3438996888466708,
          -0.5605666594946894,
          0.06741236942830532,
          -1.649231246416628,
          0.22273379564641857,
          0.13066572471482163,
          0.5362449801226784,
          1.4914964504089971,
          2.2322188903267848,
          -1.112526390987042,
          0.1861509871569323,
          1.1601974306427612,
          1.2891048070459077,
          0.9421954734630205,
          1.175179094583278,
          0.8345503271306458,
          0.3124997756836522,
          0.7382997585383295,
          2.3441395948533015,
          -1.4850691091821289,
          0.3943088653341731,
          -0.7125698889211279,
          -0.9260100929069468,
          0.9521314338176424,
          -1.3468987254887934,
          0.07818695724198196,
          -0.48812591175553643,
          -0.22272894573145505,
          -0.8905830222532648,
          0.5555690475707767,
          -0.7112369108121137,
          -0.893619327106401,
          2.1987281322799466,
          -0.7478258734501629,
          -0.11900790060739504,
          -0.8285148541919645,
          0.3855746642174358,
          -0.29794909083781856,
          -0.16683726369167023,
          -0.8803568268703029
         ]
        },
        {
         "line": {
          "color": "rgba(128, 0, 128, 1.0)",
          "dash": "solid",
          "shape": "linear",
          "width": 1.3
         },
         "mode": "lines",
         "name": "D",
         "text": "",
         "type": "scatter",
         "x": [
          0,
          1,
          2,
          3,
          4,
          5,
          6,
          7,
          8,
          9,
          10,
          11,
          12,
          13,
          14,
          15,
          16,
          17,
          18,
          19,
          20,
          21,
          22,
          23,
          24,
          25,
          26,
          27,
          28,
          29,
          30,
          31,
          32,
          33,
          34,
          35,
          36,
          37,
          38,
          39,
          40,
          41,
          42,
          43,
          44,
          45,
          46,
          47,
          48,
          49,
          50,
          51,
          52,
          53,
          54,
          55,
          56,
          57,
          58,
          59,
          60,
          61,
          62,
          63,
          64,
          65,
          66,
          67,
          68,
          69,
          70,
          71,
          72,
          73,
          74,
          75,
          76,
          77,
          78,
          79,
          80,
          81,
          82,
          83,
          84,
          85,
          86,
          87,
          88,
          89,
          90,
          91,
          92,
          93,
          94,
          95,
          96,
          97,
          98,
          99
         ],
         "y": [
          0.19364859956418953,
          0.18583207547663305,
          1.9923921588463627,
          1.3188125240482078,
          0.537805874410933,
          -0.03848186401102001,
          -0.32930061650478093,
          2.2958952087568933,
          0.466505724210726,
          -0.7716409579262643,
          0.5784030178865545,
          -0.3085829845995051,
          1.0569521428997875,
          -0.021678681671287593,
          -0.15327032167682586,
          0.38532094024232333,
          1.624630133457499,
          1.6736838752131884,
          0.507620878463986,
          -1.3331888479271912,
          -0.008692936117062714,
          1.2755057690525256,
          0.8334251065844482,
          0.10786480563820008,
          -1.4328300955495161,
          0.6307401316199052,
          0.3757313710757838,
          -0.12381204243145601,
          2.444630116068402,
          1.2776539720839692,
          -0.2753571484946713,
          1.074406283764291,
          0.8935449560464446,
          0.8226339589212641,
          -0.3760182003569667,
          -0.5435492836183557,
          -1.204887322087643,
          -0.6063927925516598,
          -1.0747457830894218,
          0.2609786837151405,
          0.8486504892819745,
          -1.1875268382847586,
          0.7291652246195226,
          -0.2714729225650268,
          -0.3149788852602245,
          0.5933801088684901,
          -0.7001484527953258,
          0.31057113592398455,
          0.8941997046364684,
          0.696871322191756,
          0.9667732459813809,
          0.0795886917274917,
          1.4708668673386436,
          1.435440588634307,
          1.5617836556337106,
          -1.9930260097477197,
          0.33343907469044654,
          0.7127913736643632,
          0.43648801789717556,
          -0.48176628908925917,
          2.1851520391957804,
          -0.2831216918398867,
          1.5002057782776956,
          -0.7422075662104347,
          0.4674871043293601,
          1.487680377713003,
          -0.8109754686950558,
          1.1836151400260517,
          -3.2886518125876725,
          0.47420116098063736,
          0.4156506373988291,
          -1.4147882771469515,
          1.706363977610135,
          0.2884294207465923,
          0.14815841816801092,
          -0.6279943804082091,
          -0.5284554553268069,
          -1.3528423917747028,
          0.7441972948781518,
          -0.5380758183313948,
          -1.4680677526079209,
          0.42836894521875163,
          0.4874581159173152,
          -0.03322481239843942,
          -0.4362206070834838,
          -2.235968198210766,
          0.5219170909718297,
          0.7372645208846011,
          1.3745998157042327,
          -0.34707955390016204,
          -1.5015300123463025,
          1.0820404851499366,
          -0.526174680349923,
          1.1793021497147862,
          -0.10148494094334251,
          1.2444090645162498,
          2.236896752361946,
          0.4292984789795256,
          0.7317923794372792,
          -1.2032486736964108
         ]
        }
       ],
       "layout": {
        "legend": {
         "bgcolor": "#F5F6F9",
         "font": {
          "color": "#4D5663"
         }
        },
        "paper_bgcolor": "#F5F6F9",
        "plot_bgcolor": "#F5F6F9",
        "template": {
         "data": {
          "bar": [
           {
            "error_x": {
             "color": "#2a3f5f"
            },
            "error_y": {
             "color": "#2a3f5f"
            },
            "marker": {
             "line": {
              "color": "#E5ECF6",
              "width": 0.5
             },
             "pattern": {
              "fillmode": "overlay",
              "size": 10,
              "solidity": 0.2
             }
            },
            "type": "bar"
           }
          ],
          "barpolar": [
           {
            "marker": {
             "line": {
              "color": "#E5ECF6",
              "width": 0.5
             },
             "pattern": {
              "fillmode": "overlay",
              "size": 10,
              "solidity": 0.2
             }
            },
            "type": "barpolar"
           }
          ],
          "carpet": [
           {
            "aaxis": {
             "endlinecolor": "#2a3f5f",
             "gridcolor": "white",
             "linecolor": "white",
             "minorgridcolor": "white",
             "startlinecolor": "#2a3f5f"
            },
            "baxis": {
             "endlinecolor": "#2a3f5f",
             "gridcolor": "white",
             "linecolor": "white",
             "minorgridcolor": "white",
             "startlinecolor": "#2a3f5f"
            },
            "type": "carpet"
           }
          ],
          "choropleth": [
           {
            "colorbar": {
             "outlinewidth": 0,
             "ticks": ""
            },
            "type": "choropleth"
           }
          ],
          "contour": [
           {
            "colorbar": {
             "outlinewidth": 0,
             "ticks": ""
            },
            "colorscale": [
             [
              0,
              "#0d0887"
             ],
             [
              0.1111111111111111,
              "#46039f"
             ],
             [
              0.2222222222222222,
              "#7201a8"
             ],
             [
              0.3333333333333333,
              "#9c179e"
             ],
             [
              0.4444444444444444,
              "#bd3786"
             ],
             [
              0.5555555555555556,
              "#d8576b"
             ],
             [
              0.6666666666666666,
              "#ed7953"
             ],
             [
              0.7777777777777778,
              "#fb9f3a"
             ],
             [
              0.8888888888888888,
              "#fdca26"
             ],
             [
              1,
              "#f0f921"
             ]
            ],
            "type": "contour"
           }
          ],
          "contourcarpet": [
           {
            "colorbar": {
             "outlinewidth": 0,
             "ticks": ""
            },
            "type": "contourcarpet"
           }
          ],
          "heatmap": [
           {
            "colorbar": {
             "outlinewidth": 0,
             "ticks": ""
            },
            "colorscale": [
             [
              0,
              "#0d0887"
             ],
             [
              0.1111111111111111,
              "#46039f"
             ],
             [
              0.2222222222222222,
              "#7201a8"
             ],
             [
              0.3333333333333333,
              "#9c179e"
             ],
             [
              0.4444444444444444,
              "#bd3786"
             ],
             [
              0.5555555555555556,
              "#d8576b"
             ],
             [
              0.6666666666666666,
              "#ed7953"
             ],
             [
              0.7777777777777778,
              "#fb9f3a"
             ],
             [
              0.8888888888888888,
              "#fdca26"
             ],
             [
              1,
              "#f0f921"
             ]
            ],
            "type": "heatmap"
           }
          ],
          "heatmapgl": [
           {
            "colorbar": {
             "outlinewidth": 0,
             "ticks": ""
            },
            "colorscale": [
             [
              0,
              "#0d0887"
             ],
             [
              0.1111111111111111,
              "#46039f"
             ],
             [
              0.2222222222222222,
              "#7201a8"
             ],
             [
              0.3333333333333333,
              "#9c179e"
             ],
             [
              0.4444444444444444,
              "#bd3786"
             ],
             [
              0.5555555555555556,
              "#d8576b"
             ],
             [
              0.6666666666666666,
              "#ed7953"
             ],
             [
              0.7777777777777778,
              "#fb9f3a"
             ],
             [
              0.8888888888888888,
              "#fdca26"
             ],
             [
              1,
              "#f0f921"
             ]
            ],
            "type": "heatmapgl"
           }
          ],
          "histogram": [
           {
            "marker": {
             "pattern": {
              "fillmode": "overlay",
              "size": 10,
              "solidity": 0.2
             }
            },
            "type": "histogram"
           }
          ],
          "histogram2d": [
           {
            "colorbar": {
             "outlinewidth": 0,
             "ticks": ""
            },
            "colorscale": [
             [
              0,
              "#0d0887"
             ],
             [
              0.1111111111111111,
              "#46039f"
             ],
             [
              0.2222222222222222,
              "#7201a8"
             ],
             [
              0.3333333333333333,
              "#9c179e"
             ],
             [
              0.4444444444444444,
              "#bd3786"
             ],
             [
              0.5555555555555556,
              "#d8576b"
             ],
             [
              0.6666666666666666,
              "#ed7953"
             ],
             [
              0.7777777777777778,
              "#fb9f3a"
             ],
             [
              0.8888888888888888,
              "#fdca26"
             ],
             [
              1,
              "#f0f921"
             ]
            ],
            "type": "histogram2d"
           }
          ],
          "histogram2dcontour": [
           {
            "colorbar": {
             "outlinewidth": 0,
             "ticks": ""
            },
            "colorscale": [
             [
              0,
              "#0d0887"
             ],
             [
              0.1111111111111111,
              "#46039f"
             ],
             [
              0.2222222222222222,
              "#7201a8"
             ],
             [
              0.3333333333333333,
              "#9c179e"
             ],
             [
              0.4444444444444444,
              "#bd3786"
             ],
             [
              0.5555555555555556,
              "#d8576b"
             ],
             [
              0.6666666666666666,
              "#ed7953"
             ],
             [
              0.7777777777777778,
              "#fb9f3a"
             ],
             [
              0.8888888888888888,
              "#fdca26"
             ],
             [
              1,
              "#f0f921"
             ]
            ],
            "type": "histogram2dcontour"
           }
          ],
          "mesh3d": [
           {
            "colorbar": {
             "outlinewidth": 0,
             "ticks": ""
            },
            "type": "mesh3d"
           }
          ],
          "parcoords": [
           {
            "line": {
             "colorbar": {
              "outlinewidth": 0,
              "ticks": ""
             }
            },
            "type": "parcoords"
           }
          ],
          "pie": [
           {
            "automargin": true,
            "type": "pie"
           }
          ],
          "scatter": [
           {
            "fillpattern": {
             "fillmode": "overlay",
             "size": 10,
             "solidity": 0.2
            },
            "type": "scatter"
           }
          ],
          "scatter3d": [
           {
            "line": {
             "colorbar": {
              "outlinewidth": 0,
              "ticks": ""
             }
            },
            "marker": {
             "colorbar": {
              "outlinewidth": 0,
              "ticks": ""
             }
            },
            "type": "scatter3d"
           }
          ],
          "scattercarpet": [
           {
            "marker": {
             "colorbar": {
              "outlinewidth": 0,
              "ticks": ""
             }
            },
            "type": "scattercarpet"
           }
          ],
          "scattergeo": [
           {
            "marker": {
             "colorbar": {
              "outlinewidth": 0,
              "ticks": ""
             }
            },
            "type": "scattergeo"
           }
          ],
          "scattergl": [
           {
            "marker": {
             "colorbar": {
              "outlinewidth": 0,
              "ticks": ""
             }
            },
            "type": "scattergl"
           }
          ],
          "scattermapbox": [
           {
            "marker": {
             "colorbar": {
              "outlinewidth": 0,
              "ticks": ""
             }
            },
            "type": "scattermapbox"
           }
          ],
          "scatterpolar": [
           {
            "marker": {
             "colorbar": {
              "outlinewidth": 0,
              "ticks": ""
             }
            },
            "type": "scatterpolar"
           }
          ],
          "scatterpolargl": [
           {
            "marker": {
             "colorbar": {
              "outlinewidth": 0,
              "ticks": ""
             }
            },
            "type": "scatterpolargl"
           }
          ],
          "scatterternary": [
           {
            "marker": {
             "colorbar": {
              "outlinewidth": 0,
              "ticks": ""
             }
            },
            "type": "scatterternary"
           }
          ],
          "surface": [
           {
            "colorbar": {
             "outlinewidth": 0,
             "ticks": ""
            },
            "colorscale": [
             [
              0,
              "#0d0887"
             ],
             [
              0.1111111111111111,
              "#46039f"
             ],
             [
              0.2222222222222222,
              "#7201a8"
             ],
             [
              0.3333333333333333,
              "#9c179e"
             ],
             [
              0.4444444444444444,
              "#bd3786"
             ],
             [
              0.5555555555555556,
              "#d8576b"
             ],
             [
              0.6666666666666666,
              "#ed7953"
             ],
             [
              0.7777777777777778,
              "#fb9f3a"
             ],
             [
              0.8888888888888888,
              "#fdca26"
             ],
             [
              1,
              "#f0f921"
             ]
            ],
            "type": "surface"
           }
          ],
          "table": [
           {
            "cells": {
             "fill": {
              "color": "#EBF0F8"
             },
             "line": {
              "color": "white"
             }
            },
            "header": {
             "fill": {
              "color": "#C8D4E3"
             },
             "line": {
              "color": "white"
             }
            },
            "type": "table"
           }
          ]
         },
         "layout": {
          "annotationdefaults": {
           "arrowcolor": "#2a3f5f",
           "arrowhead": 0,
           "arrowwidth": 1
          },
          "autotypenumbers": "strict",
          "coloraxis": {
           "colorbar": {
            "outlinewidth": 0,
            "ticks": ""
           }
          },
          "colorscale": {
           "diverging": [
            [
             0,
             "#8e0152"
            ],
            [
             0.1,
             "#c51b7d"
            ],
            [
             0.2,
             "#de77ae"
            ],
            [
             0.3,
             "#f1b6da"
            ],
            [
             0.4,
             "#fde0ef"
            ],
            [
             0.5,
             "#f7f7f7"
            ],
            [
             0.6,
             "#e6f5d0"
            ],
            [
             0.7,
             "#b8e186"
            ],
            [
             0.8,
             "#7fbc41"
            ],
            [
             0.9,
             "#4d9221"
            ],
            [
             1,
             "#276419"
            ]
           ],
           "sequential": [
            [
             0,
             "#0d0887"
            ],
            [
             0.1111111111111111,
             "#46039f"
            ],
            [
             0.2222222222222222,
             "#7201a8"
            ],
            [
             0.3333333333333333,
             "#9c179e"
            ],
            [
             0.4444444444444444,
             "#bd3786"
            ],
            [
             0.5555555555555556,
             "#d8576b"
            ],
            [
             0.6666666666666666,
             "#ed7953"
            ],
            [
             0.7777777777777778,
             "#fb9f3a"
            ],
            [
             0.8888888888888888,
             "#fdca26"
            ],
            [
             1,
             "#f0f921"
            ]
           ],
           "sequentialminus": [
            [
             0,
             "#0d0887"
            ],
            [
             0.1111111111111111,
             "#46039f"
            ],
            [
             0.2222222222222222,
             "#7201a8"
            ],
            [
             0.3333333333333333,
             "#9c179e"
            ],
            [
             0.4444444444444444,
             "#bd3786"
            ],
            [
             0.5555555555555556,
             "#d8576b"
            ],
            [
             0.6666666666666666,
             "#ed7953"
            ],
            [
             0.7777777777777778,
             "#fb9f3a"
            ],
            [
             0.8888888888888888,
             "#fdca26"
            ],
            [
             1,
             "#f0f921"
            ]
           ]
          },
          "colorway": [
           "#636efa",
           "#EF553B",
           "#00cc96",
           "#ab63fa",
           "#FFA15A",
           "#19d3f3",
           "#FF6692",
           "#B6E880",
           "#FF97FF",
           "#FECB52"
          ],
          "font": {
           "color": "#2a3f5f"
          },
          "geo": {
           "bgcolor": "white",
           "lakecolor": "white",
           "landcolor": "#E5ECF6",
           "showlakes": true,
           "showland": true,
           "subunitcolor": "white"
          },
          "hoverlabel": {
           "align": "left"
          },
          "hovermode": "closest",
          "mapbox": {
           "style": "light"
          },
          "paper_bgcolor": "white",
          "plot_bgcolor": "#E5ECF6",
          "polar": {
           "angularaxis": {
            "gridcolor": "white",
            "linecolor": "white",
            "ticks": ""
           },
           "bgcolor": "#E5ECF6",
           "radialaxis": {
            "gridcolor": "white",
            "linecolor": "white",
            "ticks": ""
           }
          },
          "scene": {
           "xaxis": {
            "backgroundcolor": "#E5ECF6",
            "gridcolor": "white",
            "gridwidth": 2,
            "linecolor": "white",
            "showbackground": true,
            "ticks": "",
            "zerolinecolor": "white"
           },
           "yaxis": {
            "backgroundcolor": "#E5ECF6",
            "gridcolor": "white",
            "gridwidth": 2,
            "linecolor": "white",
            "showbackground": true,
            "ticks": "",
            "zerolinecolor": "white"
           },
           "zaxis": {
            "backgroundcolor": "#E5ECF6",
            "gridcolor": "white",
            "gridwidth": 2,
            "linecolor": "white",
            "showbackground": true,
            "ticks": "",
            "zerolinecolor": "white"
           }
          },
          "shapedefaults": {
           "line": {
            "color": "#2a3f5f"
           }
          },
          "ternary": {
           "aaxis": {
            "gridcolor": "white",
            "linecolor": "white",
            "ticks": ""
           },
           "baxis": {
            "gridcolor": "white",
            "linecolor": "white",
            "ticks": ""
           },
           "bgcolor": "#E5ECF6",
           "caxis": {
            "gridcolor": "white",
            "linecolor": "white",
            "ticks": ""
           }
          },
          "title": {
           "x": 0.05
          },
          "xaxis": {
           "automargin": true,
           "gridcolor": "white",
           "linecolor": "white",
           "ticks": "",
           "title": {
            "standoff": 15
           },
           "zerolinecolor": "white",
           "zerolinewidth": 2
          },
          "yaxis": {
           "automargin": true,
           "gridcolor": "white",
           "linecolor": "white",
           "ticks": "",
           "title": {
            "standoff": 15
           },
           "zerolinecolor": "white",
           "zerolinewidth": 2
          }
         }
        },
        "title": {
         "font": {
          "color": "#4D5663"
         }
        },
        "xaxis": {
         "gridcolor": "#E1E5ED",
         "showgrid": true,
         "tickfont": {
          "color": "#4D5663"
         },
         "title": {
          "font": {
           "color": "#4D5663"
          },
          "text": ""
         },
         "zerolinecolor": "#E1E5ED"
        },
        "yaxis": {
         "gridcolor": "#E1E5ED",
         "showgrid": true,
         "tickfont": {
          "color": "#4D5663"
         },
         "title": {
          "font": {
           "color": "#4D5663"
          },
          "text": ""
         },
         "zerolinecolor": "#E1E5ED"
        }
       }
      },
      "text/html": [
       "<div>                            <div id=\"755caa26-02cf-4a0c-9bd9-4125484b481c\" class=\"plotly-graph-div\" style=\"height:525px; width:100%;\"></div>            <script type=\"text/javascript\">                require([\"plotly\"], function(Plotly) {                    window.PLOTLYENV=window.PLOTLYENV || {};\n",
       "                    window.PLOTLYENV.BASE_URL='https://plot.ly';                                    if (document.getElementById(\"755caa26-02cf-4a0c-9bd9-4125484b481c\")) {                    Plotly.newPlot(                        \"755caa26-02cf-4a0c-9bd9-4125484b481c\",                        [{\"line\":{\"color\":\"rgba(255, 153, 51, 1.0)\",\"dash\":\"solid\",\"shape\":\"linear\",\"width\":1.3},\"mode\":\"lines\",\"name\":\"A\",\"text\":\"\",\"x\":[0,1,2,3,4,5,6,7,8,9,10,11,12,13,14,15,16,17,18,19,20,21,22,23,24,25,26,27,28,29,30,31,32,33,34,35,36,37,38,39,40,41,42,43,44,45,46,47,48,49,50,51,52,53,54,55,56,57,58,59,60,61,62,63,64,65,66,67,68,69,70,71,72,73,74,75,76,77,78,79,80,81,82,83,84,85,86,87,88,89,90,91,92,93,94,95,96,97,98,99],\"y\":[0.778457933302214,-0.9680449357550578,0.39359084183301096,-1.2394985928585338,-0.2164835093388013,-0.1356228708503378,-1.2521746730325765,-1.0835243246963888,0.6250752248509963,0.7718451818596955,0.4318676271026053,-0.8686984687467546,0.18229522144610463,-0.17752709417956644,-0.7853823575966619,-0.06893337907779387,-0.9466983840211649,-0.9221095109610769,1.5774648689521218,0.3930242065630447,0.8277738191842602,-0.8241508298553344,0.07495661144670138,-0.3590170031546842,1.2734557212058224,-1.504383022229239,-0.12596790196229846,0.6123225576918307,0.3426474625945798,0.846089362700548,1.3523055165355302,0.284811559971216,-1.6013083992544557,1.6679084568187605,1.5145816453277892,-0.0046250819630932315,-0.07829149222527237,0.9916207650528954,1.1145048640682926,-1.089729192815636,0.17314040189558932,-0.033796344362975864,0.07562690561269443,1.892594834465393,-1.8348706724093262,1.2584334190829263,0.17218282514485775,0.34213290139111757,-0.7402663222325283,-0.588544402128247,-0.27975100910657263,-0.36609359684194237,-0.8452472534162175,-0.4468861894570877,0.6034241098470298,3.1023651388360145,0.214644091222445,-0.8612338237196326,0.13263420361251016,-0.9710094581449149,0.7227469378577297,-0.7822128929376538,-0.22143889112664097,0.14416334626005273,-0.8833756073627672,1.2612268675473937,0.7928279434498183,-1.0251422302062176,-0.4536854547609093,-0.45958745335640483,0.5182900495849041,0.850977459520938,0.04421513310499319,-1.1175849668722495,-0.8030693507661488,1.92519394398426,0.7217912827510005,-0.3116468245019817,-1.750355552577647,-0.6873302147493952,1.5993325144520412,1.2093688325747638,0.7382608277486163,-0.01307177710019666,0.4249358964426604,1.8114662802257053,-0.23812364488121177,-0.04821109509459664,-0.47886446654041864,-0.4038921916964521,0.5091420384625585,0.4801272970933442,-0.48912145451354583,-1.147042924817787,-0.01032179386658933,0.1321566262110016,-0.384385463475132,1.2891000679608127,0.9391036286315693,1.0197304435884655],\"type\":\"scatter\"},{\"line\":{\"color\":\"rgba(55, 128, 191, 1.0)\",\"dash\":\"solid\",\"shape\":\"linear\",\"width\":1.3},\"mode\":\"lines\",\"name\":\"B\",\"text\":\"\",\"x\":[0,1,2,3,4,5,6,7,8,9,10,11,12,13,14,15,16,17,18,19,20,21,22,23,24,25,26,27,28,29,30,31,32,33,34,35,36,37,38,39,40,41,42,43,44,45,46,47,48,49,50,51,52,53,54,55,56,57,58,59,60,61,62,63,64,65,66,67,68,69,70,71,72,73,74,75,76,77,78,79,80,81,82,83,84,85,86,87,88,89,90,91,92,93,94,95,96,97,98,99],\"y\":[-0.12418495906275873,0.5285054303759434,-0.6483376777606301,-0.2882240309938093,0.5736212497816112,2.239254267902068,-3.7132010957566717,-0.827361314325003,-0.07056871306249225,0.4485007765695378,-1.1425087248215398,0.713665370670025,-0.12237518106470253,-1.5779230985738613,-1.6518453654137415,0.7872739570953827,0.6696097676881092,0.12485407678766407,-0.2592731741227891,-0.6034697000193865,-0.1634147137662408,-0.9185909367956211,-1.5225614971140846,0.32708339513992823,-0.7881580126865311,-0.253793228203105,-0.20667844715897066,0.9083395167937691,0.48256960720999503,-0.9609842265734008,-0.9045949603882426,-0.8259097380548978,-0.4414993729915333,-0.2965042673868797,-1.8110254612575696,-0.6947125921837172,0.22518886816166567,0.9620639813793939,-1.4689365913873842,-0.5002907290334543,0.15554850993818742,1.0644877346151136,0.08741835263849135,-1.2266050665518022,0.009267372916793585,0.9365478847521909,-0.06849812894451411,0.572511977530958,0.2490562834386925,-0.7544740172893082,0.6270155247426541,0.4392751700611625,0.8876910389681761,0.6895447204388416,-0.08376221605853913,0.7519574530059915,0.7928931750275154,-0.07844246435307307,-0.6610778230711215,0.4710622226800591,-3.102751806348052,1.3879524318512182,-1.9793711097598718,0.08488617246516036,-1.6306338131169662,0.31209134076027195,1.527604855019396,2.0868502636121495,-0.41398376859852154,-0.5958562882694559,0.1407586248600635,1.1241522625681128,-0.7699943106290851,0.13748390446668632,-1.0344313621767662,1.589065501698242,-1.483419352532759,1.1109792033938501,0.6953782435953554,0.5181307791043384,1.3792400569088539,-0.19834484065509467,-1.6984989450444554,0.6454744077409759,1.156837525492291,-1.3392031859801345,-1.0476297371919077,0.8978011452694012,0.21692629572147912,-0.4597509119081817,0.19481940643523454,-0.08341557197324237,0.7726127026487843,-1.6792646825069584,-0.6350127596847416,1.0570017823937987,-1.0115000812255166,-1.5882588060836178,-1.8493217471273957,-1.1361901014810987],\"type\":\"scatter\"},{\"line\":{\"color\":\"rgba(50, 171, 96, 1.0)\",\"dash\":\"solid\",\"shape\":\"linear\",\"width\":1.3},\"mode\":\"lines\",\"name\":\"C\",\"text\":\"\",\"x\":[0,1,2,3,4,5,6,7,8,9,10,11,12,13,14,15,16,17,18,19,20,21,22,23,24,25,26,27,28,29,30,31,32,33,34,35,36,37,38,39,40,41,42,43,44,45,46,47,48,49,50,51,52,53,54,55,56,57,58,59,60,61,62,63,64,65,66,67,68,69,70,71,72,73,74,75,76,77,78,79,80,81,82,83,84,85,86,87,88,89,90,91,92,93,94,95,96,97,98,99],\"y\":[-0.03802047411749776,0.8773557408303123,-1.118725034659502,-0.10026853830176642,-0.7732404050535409,0.5046837399056341,1.0405541917419667,0.12608346116189315,0.40577463423542737,-0.7153215479409281,1.327560943752907,1.1656233384029329,-2.556184188197719,0.180403725260928,-0.6420497906812835,0.08261155402733383,-0.8722369739240854,-0.5958593510195808,0.5411573911111616,1.5574465766371541,0.35858615040219993,0.1359352618178365,1.2729618354111418,-0.724388992300664,0.8689737956283615,1.0324712942410976,-0.10856722968255036,0.47116535782786606,0.9854431855075556,0.5648817725467724,-0.6741775517296723,-0.08507260800209669,-1.8491296419326837,1.1585345801397426,0.7410669957381095,0.2377646618768121,0.19636956338180683,1.5272074918028045,-0.29867294983582043,-0.1412752058259444,0.9105342836340018,-0.16649235126773396,-0.7152579905771318,1.4136319519783282,-0.3128878018946804,-0.433290552957218,0.8179761999340025,-1.3827284215191413,-0.24279974102893276,0.11564818225015172,0.4496854850035945,-0.4559239150446873,-2.252429793836703,-0.8597249668399786,-2.460767890721159,-0.08821510633908855,-0.7027062778648545,-0.3130299866317652,1.0320592354230556,-0.777357882169852,-2.3438996888466708,-0.5605666594946894,0.06741236942830532,-1.649231246416628,0.22273379564641857,0.13066572471482163,0.5362449801226784,1.4914964504089971,2.2322188903267848,-1.112526390987042,0.1861509871569323,1.1601974306427612,1.2891048070459077,0.9421954734630205,1.175179094583278,0.8345503271306458,0.3124997756836522,0.7382997585383295,2.3441395948533015,-1.4850691091821289,0.3943088653341731,-0.7125698889211279,-0.9260100929069468,0.9521314338176424,-1.3468987254887934,0.07818695724198196,-0.48812591175553643,-0.22272894573145505,-0.8905830222532648,0.5555690475707767,-0.7112369108121137,-0.893619327106401,2.1987281322799466,-0.7478258734501629,-0.11900790060739504,-0.8285148541919645,0.3855746642174358,-0.29794909083781856,-0.16683726369167023,-0.8803568268703029],\"type\":\"scatter\"},{\"line\":{\"color\":\"rgba(128, 0, 128, 1.0)\",\"dash\":\"solid\",\"shape\":\"linear\",\"width\":1.3},\"mode\":\"lines\",\"name\":\"D\",\"text\":\"\",\"x\":[0,1,2,3,4,5,6,7,8,9,10,11,12,13,14,15,16,17,18,19,20,21,22,23,24,25,26,27,28,29,30,31,32,33,34,35,36,37,38,39,40,41,42,43,44,45,46,47,48,49,50,51,52,53,54,55,56,57,58,59,60,61,62,63,64,65,66,67,68,69,70,71,72,73,74,75,76,77,78,79,80,81,82,83,84,85,86,87,88,89,90,91,92,93,94,95,96,97,98,99],\"y\":[0.19364859956418953,0.18583207547663305,1.9923921588463627,1.3188125240482078,0.537805874410933,-0.03848186401102001,-0.32930061650478093,2.2958952087568933,0.466505724210726,-0.7716409579262643,0.5784030178865545,-0.3085829845995051,1.0569521428997875,-0.021678681671287593,-0.15327032167682586,0.38532094024232333,1.624630133457499,1.6736838752131884,0.507620878463986,-1.3331888479271912,-0.008692936117062714,1.2755057690525256,0.8334251065844482,0.10786480563820008,-1.4328300955495161,0.6307401316199052,0.3757313710757838,-0.12381204243145601,2.444630116068402,1.2776539720839692,-0.2753571484946713,1.074406283764291,0.8935449560464446,0.8226339589212641,-0.3760182003569667,-0.5435492836183557,-1.204887322087643,-0.6063927925516598,-1.0747457830894218,0.2609786837151405,0.8486504892819745,-1.1875268382847586,0.7291652246195226,-0.2714729225650268,-0.3149788852602245,0.5933801088684901,-0.7001484527953258,0.31057113592398455,0.8941997046364684,0.696871322191756,0.9667732459813809,0.0795886917274917,1.4708668673386436,1.435440588634307,1.5617836556337106,-1.9930260097477197,0.33343907469044654,0.7127913736643632,0.43648801789717556,-0.48176628908925917,2.1851520391957804,-0.2831216918398867,1.5002057782776956,-0.7422075662104347,0.4674871043293601,1.487680377713003,-0.8109754686950558,1.1836151400260517,-3.2886518125876725,0.47420116098063736,0.4156506373988291,-1.4147882771469515,1.706363977610135,0.2884294207465923,0.14815841816801092,-0.6279943804082091,-0.5284554553268069,-1.3528423917747028,0.7441972948781518,-0.5380758183313948,-1.4680677526079209,0.42836894521875163,0.4874581159173152,-0.03322481239843942,-0.4362206070834838,-2.235968198210766,0.5219170909718297,0.7372645208846011,1.3745998157042327,-0.34707955390016204,-1.5015300123463025,1.0820404851499366,-0.526174680349923,1.1793021497147862,-0.10148494094334251,1.2444090645162498,2.236896752361946,0.4292984789795256,0.7317923794372792,-1.2032486736964108],\"type\":\"scatter\"}],                        {\"legend\":{\"bgcolor\":\"#F5F6F9\",\"font\":{\"color\":\"#4D5663\"}},\"paper_bgcolor\":\"#F5F6F9\",\"plot_bgcolor\":\"#F5F6F9\",\"template\":{\"data\":{\"barpolar\":[{\"marker\":{\"line\":{\"color\":\"#E5ECF6\",\"width\":0.5},\"pattern\":{\"fillmode\":\"overlay\",\"size\":10,\"solidity\":0.2}},\"type\":\"barpolar\"}],\"bar\":[{\"error_x\":{\"color\":\"#2a3f5f\"},\"error_y\":{\"color\":\"#2a3f5f\"},\"marker\":{\"line\":{\"color\":\"#E5ECF6\",\"width\":0.5},\"pattern\":{\"fillmode\":\"overlay\",\"size\":10,\"solidity\":0.2}},\"type\":\"bar\"}],\"carpet\":[{\"aaxis\":{\"endlinecolor\":\"#2a3f5f\",\"gridcolor\":\"white\",\"linecolor\":\"white\",\"minorgridcolor\":\"white\",\"startlinecolor\":\"#2a3f5f\"},\"baxis\":{\"endlinecolor\":\"#2a3f5f\",\"gridcolor\":\"white\",\"linecolor\":\"white\",\"minorgridcolor\":\"white\",\"startlinecolor\":\"#2a3f5f\"},\"type\":\"carpet\"}],\"choropleth\":[{\"colorbar\":{\"outlinewidth\":0,\"ticks\":\"\"},\"type\":\"choropleth\"}],\"contourcarpet\":[{\"colorbar\":{\"outlinewidth\":0,\"ticks\":\"\"},\"type\":\"contourcarpet\"}],\"contour\":[{\"colorbar\":{\"outlinewidth\":0,\"ticks\":\"\"},\"colorscale\":[[0.0,\"#0d0887\"],[0.1111111111111111,\"#46039f\"],[0.2222222222222222,\"#7201a8\"],[0.3333333333333333,\"#9c179e\"],[0.4444444444444444,\"#bd3786\"],[0.5555555555555556,\"#d8576b\"],[0.6666666666666666,\"#ed7953\"],[0.7777777777777778,\"#fb9f3a\"],[0.8888888888888888,\"#fdca26\"],[1.0,\"#f0f921\"]],\"type\":\"contour\"}],\"heatmapgl\":[{\"colorbar\":{\"outlinewidth\":0,\"ticks\":\"\"},\"colorscale\":[[0.0,\"#0d0887\"],[0.1111111111111111,\"#46039f\"],[0.2222222222222222,\"#7201a8\"],[0.3333333333333333,\"#9c179e\"],[0.4444444444444444,\"#bd3786\"],[0.5555555555555556,\"#d8576b\"],[0.6666666666666666,\"#ed7953\"],[0.7777777777777778,\"#fb9f3a\"],[0.8888888888888888,\"#fdca26\"],[1.0,\"#f0f921\"]],\"type\":\"heatmapgl\"}],\"heatmap\":[{\"colorbar\":{\"outlinewidth\":0,\"ticks\":\"\"},\"colorscale\":[[0.0,\"#0d0887\"],[0.1111111111111111,\"#46039f\"],[0.2222222222222222,\"#7201a8\"],[0.3333333333333333,\"#9c179e\"],[0.4444444444444444,\"#bd3786\"],[0.5555555555555556,\"#d8576b\"],[0.6666666666666666,\"#ed7953\"],[0.7777777777777778,\"#fb9f3a\"],[0.8888888888888888,\"#fdca26\"],[1.0,\"#f0f921\"]],\"type\":\"heatmap\"}],\"histogram2dcontour\":[{\"colorbar\":{\"outlinewidth\":0,\"ticks\":\"\"},\"colorscale\":[[0.0,\"#0d0887\"],[0.1111111111111111,\"#46039f\"],[0.2222222222222222,\"#7201a8\"],[0.3333333333333333,\"#9c179e\"],[0.4444444444444444,\"#bd3786\"],[0.5555555555555556,\"#d8576b\"],[0.6666666666666666,\"#ed7953\"],[0.7777777777777778,\"#fb9f3a\"],[0.8888888888888888,\"#fdca26\"],[1.0,\"#f0f921\"]],\"type\":\"histogram2dcontour\"}],\"histogram2d\":[{\"colorbar\":{\"outlinewidth\":0,\"ticks\":\"\"},\"colorscale\":[[0.0,\"#0d0887\"],[0.1111111111111111,\"#46039f\"],[0.2222222222222222,\"#7201a8\"],[0.3333333333333333,\"#9c179e\"],[0.4444444444444444,\"#bd3786\"],[0.5555555555555556,\"#d8576b\"],[0.6666666666666666,\"#ed7953\"],[0.7777777777777778,\"#fb9f3a\"],[0.8888888888888888,\"#fdca26\"],[1.0,\"#f0f921\"]],\"type\":\"histogram2d\"}],\"histogram\":[{\"marker\":{\"pattern\":{\"fillmode\":\"overlay\",\"size\":10,\"solidity\":0.2}},\"type\":\"histogram\"}],\"mesh3d\":[{\"colorbar\":{\"outlinewidth\":0,\"ticks\":\"\"},\"type\":\"mesh3d\"}],\"parcoords\":[{\"line\":{\"colorbar\":{\"outlinewidth\":0,\"ticks\":\"\"}},\"type\":\"parcoords\"}],\"pie\":[{\"automargin\":true,\"type\":\"pie\"}],\"scatter3d\":[{\"line\":{\"colorbar\":{\"outlinewidth\":0,\"ticks\":\"\"}},\"marker\":{\"colorbar\":{\"outlinewidth\":0,\"ticks\":\"\"}},\"type\":\"scatter3d\"}],\"scattercarpet\":[{\"marker\":{\"colorbar\":{\"outlinewidth\":0,\"ticks\":\"\"}},\"type\":\"scattercarpet\"}],\"scattergeo\":[{\"marker\":{\"colorbar\":{\"outlinewidth\":0,\"ticks\":\"\"}},\"type\":\"scattergeo\"}],\"scattergl\":[{\"marker\":{\"colorbar\":{\"outlinewidth\":0,\"ticks\":\"\"}},\"type\":\"scattergl\"}],\"scattermapbox\":[{\"marker\":{\"colorbar\":{\"outlinewidth\":0,\"ticks\":\"\"}},\"type\":\"scattermapbox\"}],\"scatterpolargl\":[{\"marker\":{\"colorbar\":{\"outlinewidth\":0,\"ticks\":\"\"}},\"type\":\"scatterpolargl\"}],\"scatterpolar\":[{\"marker\":{\"colorbar\":{\"outlinewidth\":0,\"ticks\":\"\"}},\"type\":\"scatterpolar\"}],\"scatter\":[{\"fillpattern\":{\"fillmode\":\"overlay\",\"size\":10,\"solidity\":0.2},\"type\":\"scatter\"}],\"scatterternary\":[{\"marker\":{\"colorbar\":{\"outlinewidth\":0,\"ticks\":\"\"}},\"type\":\"scatterternary\"}],\"surface\":[{\"colorbar\":{\"outlinewidth\":0,\"ticks\":\"\"},\"colorscale\":[[0.0,\"#0d0887\"],[0.1111111111111111,\"#46039f\"],[0.2222222222222222,\"#7201a8\"],[0.3333333333333333,\"#9c179e\"],[0.4444444444444444,\"#bd3786\"],[0.5555555555555556,\"#d8576b\"],[0.6666666666666666,\"#ed7953\"],[0.7777777777777778,\"#fb9f3a\"],[0.8888888888888888,\"#fdca26\"],[1.0,\"#f0f921\"]],\"type\":\"surface\"}],\"table\":[{\"cells\":{\"fill\":{\"color\":\"#EBF0F8\"},\"line\":{\"color\":\"white\"}},\"header\":{\"fill\":{\"color\":\"#C8D4E3\"},\"line\":{\"color\":\"white\"}},\"type\":\"table\"}]},\"layout\":{\"annotationdefaults\":{\"arrowcolor\":\"#2a3f5f\",\"arrowhead\":0,\"arrowwidth\":1},\"autotypenumbers\":\"strict\",\"coloraxis\":{\"colorbar\":{\"outlinewidth\":0,\"ticks\":\"\"}},\"colorscale\":{\"diverging\":[[0,\"#8e0152\"],[0.1,\"#c51b7d\"],[0.2,\"#de77ae\"],[0.3,\"#f1b6da\"],[0.4,\"#fde0ef\"],[0.5,\"#f7f7f7\"],[0.6,\"#e6f5d0\"],[0.7,\"#b8e186\"],[0.8,\"#7fbc41\"],[0.9,\"#4d9221\"],[1,\"#276419\"]],\"sequential\":[[0.0,\"#0d0887\"],[0.1111111111111111,\"#46039f\"],[0.2222222222222222,\"#7201a8\"],[0.3333333333333333,\"#9c179e\"],[0.4444444444444444,\"#bd3786\"],[0.5555555555555556,\"#d8576b\"],[0.6666666666666666,\"#ed7953\"],[0.7777777777777778,\"#fb9f3a\"],[0.8888888888888888,\"#fdca26\"],[1.0,\"#f0f921\"]],\"sequentialminus\":[[0.0,\"#0d0887\"],[0.1111111111111111,\"#46039f\"],[0.2222222222222222,\"#7201a8\"],[0.3333333333333333,\"#9c179e\"],[0.4444444444444444,\"#bd3786\"],[0.5555555555555556,\"#d8576b\"],[0.6666666666666666,\"#ed7953\"],[0.7777777777777778,\"#fb9f3a\"],[0.8888888888888888,\"#fdca26\"],[1.0,\"#f0f921\"]]},\"colorway\":[\"#636efa\",\"#EF553B\",\"#00cc96\",\"#ab63fa\",\"#FFA15A\",\"#19d3f3\",\"#FF6692\",\"#B6E880\",\"#FF97FF\",\"#FECB52\"],\"font\":{\"color\":\"#2a3f5f\"},\"geo\":{\"bgcolor\":\"white\",\"lakecolor\":\"white\",\"landcolor\":\"#E5ECF6\",\"showlakes\":true,\"showland\":true,\"subunitcolor\":\"white\"},\"hoverlabel\":{\"align\":\"left\"},\"hovermode\":\"closest\",\"mapbox\":{\"style\":\"light\"},\"paper_bgcolor\":\"white\",\"plot_bgcolor\":\"#E5ECF6\",\"polar\":{\"angularaxis\":{\"gridcolor\":\"white\",\"linecolor\":\"white\",\"ticks\":\"\"},\"bgcolor\":\"#E5ECF6\",\"radialaxis\":{\"gridcolor\":\"white\",\"linecolor\":\"white\",\"ticks\":\"\"}},\"scene\":{\"xaxis\":{\"backgroundcolor\":\"#E5ECF6\",\"gridcolor\":\"white\",\"gridwidth\":2,\"linecolor\":\"white\",\"showbackground\":true,\"ticks\":\"\",\"zerolinecolor\":\"white\"},\"yaxis\":{\"backgroundcolor\":\"#E5ECF6\",\"gridcolor\":\"white\",\"gridwidth\":2,\"linecolor\":\"white\",\"showbackground\":true,\"ticks\":\"\",\"zerolinecolor\":\"white\"},\"zaxis\":{\"backgroundcolor\":\"#E5ECF6\",\"gridcolor\":\"white\",\"gridwidth\":2,\"linecolor\":\"white\",\"showbackground\":true,\"ticks\":\"\",\"zerolinecolor\":\"white\"}},\"shapedefaults\":{\"line\":{\"color\":\"#2a3f5f\"}},\"ternary\":{\"aaxis\":{\"gridcolor\":\"white\",\"linecolor\":\"white\",\"ticks\":\"\"},\"baxis\":{\"gridcolor\":\"white\",\"linecolor\":\"white\",\"ticks\":\"\"},\"bgcolor\":\"#E5ECF6\",\"caxis\":{\"gridcolor\":\"white\",\"linecolor\":\"white\",\"ticks\":\"\"}},\"title\":{\"x\":0.05},\"xaxis\":{\"automargin\":true,\"gridcolor\":\"white\",\"linecolor\":\"white\",\"ticks\":\"\",\"title\":{\"standoff\":15},\"zerolinecolor\":\"white\",\"zerolinewidth\":2},\"yaxis\":{\"automargin\":true,\"gridcolor\":\"white\",\"linecolor\":\"white\",\"ticks\":\"\",\"title\":{\"standoff\":15},\"zerolinecolor\":\"white\",\"zerolinewidth\":2}}},\"title\":{\"font\":{\"color\":\"#4D5663\"}},\"xaxis\":{\"gridcolor\":\"#E1E5ED\",\"showgrid\":true,\"tickfont\":{\"color\":\"#4D5663\"},\"title\":{\"font\":{\"color\":\"#4D5663\"},\"text\":\"\"},\"zerolinecolor\":\"#E1E5ED\"},\"yaxis\":{\"gridcolor\":\"#E1E5ED\",\"showgrid\":true,\"tickfont\":{\"color\":\"#4D5663\"},\"title\":{\"font\":{\"color\":\"#4D5663\"},\"text\":\"\"},\"zerolinecolor\":\"#E1E5ED\"}},                        {\"showLink\": true, \"linkText\": \"Export to plot.ly\", \"plotlyServerURL\": \"https://plot.ly\", \"responsive\": true}                    ).then(function(){\n",
       "                            \n",
       "var gd = document.getElementById('755caa26-02cf-4a0c-9bd9-4125484b481c');\n",
       "var x = new MutationObserver(function (mutations, observer) {{\n",
       "        var display = window.getComputedStyle(gd).display;\n",
       "        if (!display || display === 'none') {{\n",
       "            console.log([gd, 'removed!']);\n",
       "            Plotly.purge(gd);\n",
       "            observer.disconnect();\n",
       "        }}\n",
       "}});\n",
       "\n",
       "// Listen for the removal of the full notebook cells\n",
       "var notebookContainer = gd.closest('#notebook-container');\n",
       "if (notebookContainer) {{\n",
       "    x.observe(notebookContainer, {childList: true});\n",
       "}}\n",
       "\n",
       "// Listen for the clearing of the current output cell\n",
       "var outputEl = gd.closest('.output');\n",
       "if (outputEl) {{\n",
       "    x.observe(outputEl, {childList: true});\n",
       "}}\n",
       "\n",
       "                        })                };                });            </script>        </div>"
      ]
     },
     "metadata": {},
     "output_type": "display_data"
    }
   ],
   "source": [
    "df.iplot() # Interactivce"
   ]
  },
  {
   "cell_type": "markdown",
   "id": "f94bf4a0",
   "metadata": {},
   "source": [
    "## Using Cufflinks and iplot()\n",
    "\n",
    "* scatter\n",
    "* bar\n",
    "* box\n",
    "* spread\n",
    "* ratio\n",
    "* heatmap\n",
    "* surface\n",
    "* histogram\n",
    "* bubble"
   ]
  },
  {
   "cell_type": "markdown",
   "id": "b67be79d",
   "metadata": {},
   "source": [
    "### Scatter"
   ]
  },
  {
   "cell_type": "code",
   "execution_count": 13,
   "id": "12bd8feb",
   "metadata": {},
   "outputs": [
    {
     "data": {
      "application/vnd.plotly.v1+json": {
       "config": {
        "linkText": "Export to plot.ly",
        "plotlyServerURL": "https://plot.ly",
        "showLink": true
       },
       "data": [
        {
         "line": {
          "color": "rgba(255, 153, 51, 1.0)",
          "dash": "solid",
          "shape": "linear",
          "width": 1.3
         },
         "mode": "lines",
         "name": "B",
         "text": "",
         "type": "scatter",
         "x": [
          0.778457933302214,
          -0.9680449357550578,
          0.39359084183301096,
          -1.2394985928585338,
          -0.2164835093388013,
          -0.1356228708503378,
          -1.2521746730325765,
          -1.0835243246963888,
          0.6250752248509963,
          0.7718451818596955,
          0.4318676271026053,
          -0.8686984687467546,
          0.18229522144610463,
          -0.17752709417956644,
          -0.7853823575966619,
          -0.06893337907779387,
          -0.9466983840211649,
          -0.9221095109610769,
          1.5774648689521218,
          0.3930242065630447,
          0.8277738191842602,
          -0.8241508298553344,
          0.07495661144670138,
          -0.3590170031546842,
          1.2734557212058224,
          -1.504383022229239,
          -0.12596790196229846,
          0.6123225576918307,
          0.3426474625945798,
          0.846089362700548,
          1.3523055165355302,
          0.284811559971216,
          -1.6013083992544557,
          1.6679084568187605,
          1.5145816453277892,
          -0.0046250819630932315,
          -0.07829149222527237,
          0.9916207650528954,
          1.1145048640682926,
          -1.089729192815636,
          0.17314040189558932,
          -0.033796344362975864,
          0.07562690561269443,
          1.892594834465393,
          -1.8348706724093262,
          1.2584334190829263,
          0.17218282514485775,
          0.34213290139111757,
          -0.7402663222325283,
          -0.588544402128247,
          -0.27975100910657263,
          -0.36609359684194237,
          -0.8452472534162175,
          -0.4468861894570877,
          0.6034241098470298,
          3.1023651388360145,
          0.214644091222445,
          -0.8612338237196326,
          0.13263420361251016,
          -0.9710094581449149,
          0.7227469378577297,
          -0.7822128929376538,
          -0.22143889112664097,
          0.14416334626005273,
          -0.8833756073627672,
          1.2612268675473937,
          0.7928279434498183,
          -1.0251422302062176,
          -0.4536854547609093,
          -0.45958745335640483,
          0.5182900495849041,
          0.850977459520938,
          0.04421513310499319,
          -1.1175849668722495,
          -0.8030693507661488,
          1.92519394398426,
          0.7217912827510005,
          -0.3116468245019817,
          -1.750355552577647,
          -0.6873302147493952,
          1.5993325144520412,
          1.2093688325747638,
          0.7382608277486163,
          -0.01307177710019666,
          0.4249358964426604,
          1.8114662802257053,
          -0.23812364488121177,
          -0.04821109509459664,
          -0.47886446654041864,
          -0.4038921916964521,
          0.5091420384625585,
          0.4801272970933442,
          -0.48912145451354583,
          -1.147042924817787,
          -0.01032179386658933,
          0.1321566262110016,
          -0.384385463475132,
          1.2891000679608127,
          0.9391036286315693,
          1.0197304435884655
         ],
         "y": [
          -0.12418495906275873,
          0.5285054303759434,
          -0.6483376777606301,
          -0.2882240309938093,
          0.5736212497816112,
          2.239254267902068,
          -3.7132010957566717,
          -0.827361314325003,
          -0.07056871306249225,
          0.4485007765695378,
          -1.1425087248215398,
          0.713665370670025,
          -0.12237518106470253,
          -1.5779230985738613,
          -1.6518453654137415,
          0.7872739570953827,
          0.6696097676881092,
          0.12485407678766407,
          -0.2592731741227891,
          -0.6034697000193865,
          -0.1634147137662408,
          -0.9185909367956211,
          -1.5225614971140846,
          0.32708339513992823,
          -0.7881580126865311,
          -0.253793228203105,
          -0.20667844715897066,
          0.9083395167937691,
          0.48256960720999503,
          -0.9609842265734008,
          -0.9045949603882426,
          -0.8259097380548978,
          -0.4414993729915333,
          -0.2965042673868797,
          -1.8110254612575696,
          -0.6947125921837172,
          0.22518886816166567,
          0.9620639813793939,
          -1.4689365913873842,
          -0.5002907290334543,
          0.15554850993818742,
          1.0644877346151136,
          0.08741835263849135,
          -1.2266050665518022,
          0.009267372916793585,
          0.9365478847521909,
          -0.06849812894451411,
          0.572511977530958,
          0.2490562834386925,
          -0.7544740172893082,
          0.6270155247426541,
          0.4392751700611625,
          0.8876910389681761,
          0.6895447204388416,
          -0.08376221605853913,
          0.7519574530059915,
          0.7928931750275154,
          -0.07844246435307307,
          -0.6610778230711215,
          0.4710622226800591,
          -3.102751806348052,
          1.3879524318512182,
          -1.9793711097598718,
          0.08488617246516036,
          -1.6306338131169662,
          0.31209134076027195,
          1.527604855019396,
          2.0868502636121495,
          -0.41398376859852154,
          -0.5958562882694559,
          0.1407586248600635,
          1.1241522625681128,
          -0.7699943106290851,
          0.13748390446668632,
          -1.0344313621767662,
          1.589065501698242,
          -1.483419352532759,
          1.1109792033938501,
          0.6953782435953554,
          0.5181307791043384,
          1.3792400569088539,
          -0.19834484065509467,
          -1.6984989450444554,
          0.6454744077409759,
          1.156837525492291,
          -1.3392031859801345,
          -1.0476297371919077,
          0.8978011452694012,
          0.21692629572147912,
          -0.4597509119081817,
          0.19481940643523454,
          -0.08341557197324237,
          0.7726127026487843,
          -1.6792646825069584,
          -0.6350127596847416,
          1.0570017823937987,
          -1.0115000812255166,
          -1.5882588060836178,
          -1.8493217471273957,
          -1.1361901014810987
         ]
        }
       ],
       "layout": {
        "legend": {
         "bgcolor": "#F5F6F9",
         "font": {
          "color": "#4D5663"
         }
        },
        "paper_bgcolor": "#F5F6F9",
        "plot_bgcolor": "#F5F6F9",
        "template": {
         "data": {
          "bar": [
           {
            "error_x": {
             "color": "#2a3f5f"
            },
            "error_y": {
             "color": "#2a3f5f"
            },
            "marker": {
             "line": {
              "color": "#E5ECF6",
              "width": 0.5
             },
             "pattern": {
              "fillmode": "overlay",
              "size": 10,
              "solidity": 0.2
             }
            },
            "type": "bar"
           }
          ],
          "barpolar": [
           {
            "marker": {
             "line": {
              "color": "#E5ECF6",
              "width": 0.5
             },
             "pattern": {
              "fillmode": "overlay",
              "size": 10,
              "solidity": 0.2
             }
            },
            "type": "barpolar"
           }
          ],
          "carpet": [
           {
            "aaxis": {
             "endlinecolor": "#2a3f5f",
             "gridcolor": "white",
             "linecolor": "white",
             "minorgridcolor": "white",
             "startlinecolor": "#2a3f5f"
            },
            "baxis": {
             "endlinecolor": "#2a3f5f",
             "gridcolor": "white",
             "linecolor": "white",
             "minorgridcolor": "white",
             "startlinecolor": "#2a3f5f"
            },
            "type": "carpet"
           }
          ],
          "choropleth": [
           {
            "colorbar": {
             "outlinewidth": 0,
             "ticks": ""
            },
            "type": "choropleth"
           }
          ],
          "contour": [
           {
            "colorbar": {
             "outlinewidth": 0,
             "ticks": ""
            },
            "colorscale": [
             [
              0,
              "#0d0887"
             ],
             [
              0.1111111111111111,
              "#46039f"
             ],
             [
              0.2222222222222222,
              "#7201a8"
             ],
             [
              0.3333333333333333,
              "#9c179e"
             ],
             [
              0.4444444444444444,
              "#bd3786"
             ],
             [
              0.5555555555555556,
              "#d8576b"
             ],
             [
              0.6666666666666666,
              "#ed7953"
             ],
             [
              0.7777777777777778,
              "#fb9f3a"
             ],
             [
              0.8888888888888888,
              "#fdca26"
             ],
             [
              1,
              "#f0f921"
             ]
            ],
            "type": "contour"
           }
          ],
          "contourcarpet": [
           {
            "colorbar": {
             "outlinewidth": 0,
             "ticks": ""
            },
            "type": "contourcarpet"
           }
          ],
          "heatmap": [
           {
            "colorbar": {
             "outlinewidth": 0,
             "ticks": ""
            },
            "colorscale": [
             [
              0,
              "#0d0887"
             ],
             [
              0.1111111111111111,
              "#46039f"
             ],
             [
              0.2222222222222222,
              "#7201a8"
             ],
             [
              0.3333333333333333,
              "#9c179e"
             ],
             [
              0.4444444444444444,
              "#bd3786"
             ],
             [
              0.5555555555555556,
              "#d8576b"
             ],
             [
              0.6666666666666666,
              "#ed7953"
             ],
             [
              0.7777777777777778,
              "#fb9f3a"
             ],
             [
              0.8888888888888888,
              "#fdca26"
             ],
             [
              1,
              "#f0f921"
             ]
            ],
            "type": "heatmap"
           }
          ],
          "heatmapgl": [
           {
            "colorbar": {
             "outlinewidth": 0,
             "ticks": ""
            },
            "colorscale": [
             [
              0,
              "#0d0887"
             ],
             [
              0.1111111111111111,
              "#46039f"
             ],
             [
              0.2222222222222222,
              "#7201a8"
             ],
             [
              0.3333333333333333,
              "#9c179e"
             ],
             [
              0.4444444444444444,
              "#bd3786"
             ],
             [
              0.5555555555555556,
              "#d8576b"
             ],
             [
              0.6666666666666666,
              "#ed7953"
             ],
             [
              0.7777777777777778,
              "#fb9f3a"
             ],
             [
              0.8888888888888888,
              "#fdca26"
             ],
             [
              1,
              "#f0f921"
             ]
            ],
            "type": "heatmapgl"
           }
          ],
          "histogram": [
           {
            "marker": {
             "pattern": {
              "fillmode": "overlay",
              "size": 10,
              "solidity": 0.2
             }
            },
            "type": "histogram"
           }
          ],
          "histogram2d": [
           {
            "colorbar": {
             "outlinewidth": 0,
             "ticks": ""
            },
            "colorscale": [
             [
              0,
              "#0d0887"
             ],
             [
              0.1111111111111111,
              "#46039f"
             ],
             [
              0.2222222222222222,
              "#7201a8"
             ],
             [
              0.3333333333333333,
              "#9c179e"
             ],
             [
              0.4444444444444444,
              "#bd3786"
             ],
             [
              0.5555555555555556,
              "#d8576b"
             ],
             [
              0.6666666666666666,
              "#ed7953"
             ],
             [
              0.7777777777777778,
              "#fb9f3a"
             ],
             [
              0.8888888888888888,
              "#fdca26"
             ],
             [
              1,
              "#f0f921"
             ]
            ],
            "type": "histogram2d"
           }
          ],
          "histogram2dcontour": [
           {
            "colorbar": {
             "outlinewidth": 0,
             "ticks": ""
            },
            "colorscale": [
             [
              0,
              "#0d0887"
             ],
             [
              0.1111111111111111,
              "#46039f"
             ],
             [
              0.2222222222222222,
              "#7201a8"
             ],
             [
              0.3333333333333333,
              "#9c179e"
             ],
             [
              0.4444444444444444,
              "#bd3786"
             ],
             [
              0.5555555555555556,
              "#d8576b"
             ],
             [
              0.6666666666666666,
              "#ed7953"
             ],
             [
              0.7777777777777778,
              "#fb9f3a"
             ],
             [
              0.8888888888888888,
              "#fdca26"
             ],
             [
              1,
              "#f0f921"
             ]
            ],
            "type": "histogram2dcontour"
           }
          ],
          "mesh3d": [
           {
            "colorbar": {
             "outlinewidth": 0,
             "ticks": ""
            },
            "type": "mesh3d"
           }
          ],
          "parcoords": [
           {
            "line": {
             "colorbar": {
              "outlinewidth": 0,
              "ticks": ""
             }
            },
            "type": "parcoords"
           }
          ],
          "pie": [
           {
            "automargin": true,
            "type": "pie"
           }
          ],
          "scatter": [
           {
            "fillpattern": {
             "fillmode": "overlay",
             "size": 10,
             "solidity": 0.2
            },
            "type": "scatter"
           }
          ],
          "scatter3d": [
           {
            "line": {
             "colorbar": {
              "outlinewidth": 0,
              "ticks": ""
             }
            },
            "marker": {
             "colorbar": {
              "outlinewidth": 0,
              "ticks": ""
             }
            },
            "type": "scatter3d"
           }
          ],
          "scattercarpet": [
           {
            "marker": {
             "colorbar": {
              "outlinewidth": 0,
              "ticks": ""
             }
            },
            "type": "scattercarpet"
           }
          ],
          "scattergeo": [
           {
            "marker": {
             "colorbar": {
              "outlinewidth": 0,
              "ticks": ""
             }
            },
            "type": "scattergeo"
           }
          ],
          "scattergl": [
           {
            "marker": {
             "colorbar": {
              "outlinewidth": 0,
              "ticks": ""
             }
            },
            "type": "scattergl"
           }
          ],
          "scattermapbox": [
           {
            "marker": {
             "colorbar": {
              "outlinewidth": 0,
              "ticks": ""
             }
            },
            "type": "scattermapbox"
           }
          ],
          "scatterpolar": [
           {
            "marker": {
             "colorbar": {
              "outlinewidth": 0,
              "ticks": ""
             }
            },
            "type": "scatterpolar"
           }
          ],
          "scatterpolargl": [
           {
            "marker": {
             "colorbar": {
              "outlinewidth": 0,
              "ticks": ""
             }
            },
            "type": "scatterpolargl"
           }
          ],
          "scatterternary": [
           {
            "marker": {
             "colorbar": {
              "outlinewidth": 0,
              "ticks": ""
             }
            },
            "type": "scatterternary"
           }
          ],
          "surface": [
           {
            "colorbar": {
             "outlinewidth": 0,
             "ticks": ""
            },
            "colorscale": [
             [
              0,
              "#0d0887"
             ],
             [
              0.1111111111111111,
              "#46039f"
             ],
             [
              0.2222222222222222,
              "#7201a8"
             ],
             [
              0.3333333333333333,
              "#9c179e"
             ],
             [
              0.4444444444444444,
              "#bd3786"
             ],
             [
              0.5555555555555556,
              "#d8576b"
             ],
             [
              0.6666666666666666,
              "#ed7953"
             ],
             [
              0.7777777777777778,
              "#fb9f3a"
             ],
             [
              0.8888888888888888,
              "#fdca26"
             ],
             [
              1,
              "#f0f921"
             ]
            ],
            "type": "surface"
           }
          ],
          "table": [
           {
            "cells": {
             "fill": {
              "color": "#EBF0F8"
             },
             "line": {
              "color": "white"
             }
            },
            "header": {
             "fill": {
              "color": "#C8D4E3"
             },
             "line": {
              "color": "white"
             }
            },
            "type": "table"
           }
          ]
         },
         "layout": {
          "annotationdefaults": {
           "arrowcolor": "#2a3f5f",
           "arrowhead": 0,
           "arrowwidth": 1
          },
          "autotypenumbers": "strict",
          "coloraxis": {
           "colorbar": {
            "outlinewidth": 0,
            "ticks": ""
           }
          },
          "colorscale": {
           "diverging": [
            [
             0,
             "#8e0152"
            ],
            [
             0.1,
             "#c51b7d"
            ],
            [
             0.2,
             "#de77ae"
            ],
            [
             0.3,
             "#f1b6da"
            ],
            [
             0.4,
             "#fde0ef"
            ],
            [
             0.5,
             "#f7f7f7"
            ],
            [
             0.6,
             "#e6f5d0"
            ],
            [
             0.7,
             "#b8e186"
            ],
            [
             0.8,
             "#7fbc41"
            ],
            [
             0.9,
             "#4d9221"
            ],
            [
             1,
             "#276419"
            ]
           ],
           "sequential": [
            [
             0,
             "#0d0887"
            ],
            [
             0.1111111111111111,
             "#46039f"
            ],
            [
             0.2222222222222222,
             "#7201a8"
            ],
            [
             0.3333333333333333,
             "#9c179e"
            ],
            [
             0.4444444444444444,
             "#bd3786"
            ],
            [
             0.5555555555555556,
             "#d8576b"
            ],
            [
             0.6666666666666666,
             "#ed7953"
            ],
            [
             0.7777777777777778,
             "#fb9f3a"
            ],
            [
             0.8888888888888888,
             "#fdca26"
            ],
            [
             1,
             "#f0f921"
            ]
           ],
           "sequentialminus": [
            [
             0,
             "#0d0887"
            ],
            [
             0.1111111111111111,
             "#46039f"
            ],
            [
             0.2222222222222222,
             "#7201a8"
            ],
            [
             0.3333333333333333,
             "#9c179e"
            ],
            [
             0.4444444444444444,
             "#bd3786"
            ],
            [
             0.5555555555555556,
             "#d8576b"
            ],
            [
             0.6666666666666666,
             "#ed7953"
            ],
            [
             0.7777777777777778,
             "#fb9f3a"
            ],
            [
             0.8888888888888888,
             "#fdca26"
            ],
            [
             1,
             "#f0f921"
            ]
           ]
          },
          "colorway": [
           "#636efa",
           "#EF553B",
           "#00cc96",
           "#ab63fa",
           "#FFA15A",
           "#19d3f3",
           "#FF6692",
           "#B6E880",
           "#FF97FF",
           "#FECB52"
          ],
          "font": {
           "color": "#2a3f5f"
          },
          "geo": {
           "bgcolor": "white",
           "lakecolor": "white",
           "landcolor": "#E5ECF6",
           "showlakes": true,
           "showland": true,
           "subunitcolor": "white"
          },
          "hoverlabel": {
           "align": "left"
          },
          "hovermode": "closest",
          "mapbox": {
           "style": "light"
          },
          "paper_bgcolor": "white",
          "plot_bgcolor": "#E5ECF6",
          "polar": {
           "angularaxis": {
            "gridcolor": "white",
            "linecolor": "white",
            "ticks": ""
           },
           "bgcolor": "#E5ECF6",
           "radialaxis": {
            "gridcolor": "white",
            "linecolor": "white",
            "ticks": ""
           }
          },
          "scene": {
           "xaxis": {
            "backgroundcolor": "#E5ECF6",
            "gridcolor": "white",
            "gridwidth": 2,
            "linecolor": "white",
            "showbackground": true,
            "ticks": "",
            "zerolinecolor": "white"
           },
           "yaxis": {
            "backgroundcolor": "#E5ECF6",
            "gridcolor": "white",
            "gridwidth": 2,
            "linecolor": "white",
            "showbackground": true,
            "ticks": "",
            "zerolinecolor": "white"
           },
           "zaxis": {
            "backgroundcolor": "#E5ECF6",
            "gridcolor": "white",
            "gridwidth": 2,
            "linecolor": "white",
            "showbackground": true,
            "ticks": "",
            "zerolinecolor": "white"
           }
          },
          "shapedefaults": {
           "line": {
            "color": "#2a3f5f"
           }
          },
          "ternary": {
           "aaxis": {
            "gridcolor": "white",
            "linecolor": "white",
            "ticks": ""
           },
           "baxis": {
            "gridcolor": "white",
            "linecolor": "white",
            "ticks": ""
           },
           "bgcolor": "#E5ECF6",
           "caxis": {
            "gridcolor": "white",
            "linecolor": "white",
            "ticks": ""
           }
          },
          "title": {
           "x": 0.05
          },
          "xaxis": {
           "automargin": true,
           "gridcolor": "white",
           "linecolor": "white",
           "ticks": "",
           "title": {
            "standoff": 15
           },
           "zerolinecolor": "white",
           "zerolinewidth": 2
          },
          "yaxis": {
           "automargin": true,
           "gridcolor": "white",
           "linecolor": "white",
           "ticks": "",
           "title": {
            "standoff": 15
           },
           "zerolinecolor": "white",
           "zerolinewidth": 2
          }
         }
        },
        "title": {
         "font": {
          "color": "#4D5663"
         }
        },
        "xaxis": {
         "gridcolor": "#E1E5ED",
         "showgrid": true,
         "tickfont": {
          "color": "#4D5663"
         },
         "title": {
          "font": {
           "color": "#4D5663"
          },
          "text": ""
         },
         "zerolinecolor": "#E1E5ED"
        },
        "yaxis": {
         "gridcolor": "#E1E5ED",
         "showgrid": true,
         "tickfont": {
          "color": "#4D5663"
         },
         "title": {
          "font": {
           "color": "#4D5663"
          },
          "text": ""
         },
         "zerolinecolor": "#E1E5ED"
        }
       }
      },
      "text/html": [
       "<div>                            <div id=\"4ce626ad-4bd1-48ea-9da4-1d336ab02cb0\" class=\"plotly-graph-div\" style=\"height:525px; width:100%;\"></div>            <script type=\"text/javascript\">                require([\"plotly\"], function(Plotly) {                    window.PLOTLYENV=window.PLOTLYENV || {};\n",
       "                    window.PLOTLYENV.BASE_URL='https://plot.ly';                                    if (document.getElementById(\"4ce626ad-4bd1-48ea-9da4-1d336ab02cb0\")) {                    Plotly.newPlot(                        \"4ce626ad-4bd1-48ea-9da4-1d336ab02cb0\",                        [{\"line\":{\"color\":\"rgba(255, 153, 51, 1.0)\",\"dash\":\"solid\",\"shape\":\"linear\",\"width\":1.3},\"mode\":\"lines\",\"name\":\"B\",\"text\":\"\",\"x\":[0.778457933302214,-0.9680449357550578,0.39359084183301096,-1.2394985928585338,-0.2164835093388013,-0.1356228708503378,-1.2521746730325765,-1.0835243246963888,0.6250752248509963,0.7718451818596955,0.4318676271026053,-0.8686984687467546,0.18229522144610463,-0.17752709417956644,-0.7853823575966619,-0.06893337907779387,-0.9466983840211649,-0.9221095109610769,1.5774648689521218,0.3930242065630447,0.8277738191842602,-0.8241508298553344,0.07495661144670138,-0.3590170031546842,1.2734557212058224,-1.504383022229239,-0.12596790196229846,0.6123225576918307,0.3426474625945798,0.846089362700548,1.3523055165355302,0.284811559971216,-1.6013083992544557,1.6679084568187605,1.5145816453277892,-0.0046250819630932315,-0.07829149222527237,0.9916207650528954,1.1145048640682926,-1.089729192815636,0.17314040189558932,-0.033796344362975864,0.07562690561269443,1.892594834465393,-1.8348706724093262,1.2584334190829263,0.17218282514485775,0.34213290139111757,-0.7402663222325283,-0.588544402128247,-0.27975100910657263,-0.36609359684194237,-0.8452472534162175,-0.4468861894570877,0.6034241098470298,3.1023651388360145,0.214644091222445,-0.8612338237196326,0.13263420361251016,-0.9710094581449149,0.7227469378577297,-0.7822128929376538,-0.22143889112664097,0.14416334626005273,-0.8833756073627672,1.2612268675473937,0.7928279434498183,-1.0251422302062176,-0.4536854547609093,-0.45958745335640483,0.5182900495849041,0.850977459520938,0.04421513310499319,-1.1175849668722495,-0.8030693507661488,1.92519394398426,0.7217912827510005,-0.3116468245019817,-1.750355552577647,-0.6873302147493952,1.5993325144520412,1.2093688325747638,0.7382608277486163,-0.01307177710019666,0.4249358964426604,1.8114662802257053,-0.23812364488121177,-0.04821109509459664,-0.47886446654041864,-0.4038921916964521,0.5091420384625585,0.4801272970933442,-0.48912145451354583,-1.147042924817787,-0.01032179386658933,0.1321566262110016,-0.384385463475132,1.2891000679608127,0.9391036286315693,1.0197304435884655],\"y\":[-0.12418495906275873,0.5285054303759434,-0.6483376777606301,-0.2882240309938093,0.5736212497816112,2.239254267902068,-3.7132010957566717,-0.827361314325003,-0.07056871306249225,0.4485007765695378,-1.1425087248215398,0.713665370670025,-0.12237518106470253,-1.5779230985738613,-1.6518453654137415,0.7872739570953827,0.6696097676881092,0.12485407678766407,-0.2592731741227891,-0.6034697000193865,-0.1634147137662408,-0.9185909367956211,-1.5225614971140846,0.32708339513992823,-0.7881580126865311,-0.253793228203105,-0.20667844715897066,0.9083395167937691,0.48256960720999503,-0.9609842265734008,-0.9045949603882426,-0.8259097380548978,-0.4414993729915333,-0.2965042673868797,-1.8110254612575696,-0.6947125921837172,0.22518886816166567,0.9620639813793939,-1.4689365913873842,-0.5002907290334543,0.15554850993818742,1.0644877346151136,0.08741835263849135,-1.2266050665518022,0.009267372916793585,0.9365478847521909,-0.06849812894451411,0.572511977530958,0.2490562834386925,-0.7544740172893082,0.6270155247426541,0.4392751700611625,0.8876910389681761,0.6895447204388416,-0.08376221605853913,0.7519574530059915,0.7928931750275154,-0.07844246435307307,-0.6610778230711215,0.4710622226800591,-3.102751806348052,1.3879524318512182,-1.9793711097598718,0.08488617246516036,-1.6306338131169662,0.31209134076027195,1.527604855019396,2.0868502636121495,-0.41398376859852154,-0.5958562882694559,0.1407586248600635,1.1241522625681128,-0.7699943106290851,0.13748390446668632,-1.0344313621767662,1.589065501698242,-1.483419352532759,1.1109792033938501,0.6953782435953554,0.5181307791043384,1.3792400569088539,-0.19834484065509467,-1.6984989450444554,0.6454744077409759,1.156837525492291,-1.3392031859801345,-1.0476297371919077,0.8978011452694012,0.21692629572147912,-0.4597509119081817,0.19481940643523454,-0.08341557197324237,0.7726127026487843,-1.6792646825069584,-0.6350127596847416,1.0570017823937987,-1.0115000812255166,-1.5882588060836178,-1.8493217471273957,-1.1361901014810987],\"type\":\"scatter\"}],                        {\"legend\":{\"bgcolor\":\"#F5F6F9\",\"font\":{\"color\":\"#4D5663\"}},\"paper_bgcolor\":\"#F5F6F9\",\"plot_bgcolor\":\"#F5F6F9\",\"template\":{\"data\":{\"barpolar\":[{\"marker\":{\"line\":{\"color\":\"#E5ECF6\",\"width\":0.5},\"pattern\":{\"fillmode\":\"overlay\",\"size\":10,\"solidity\":0.2}},\"type\":\"barpolar\"}],\"bar\":[{\"error_x\":{\"color\":\"#2a3f5f\"},\"error_y\":{\"color\":\"#2a3f5f\"},\"marker\":{\"line\":{\"color\":\"#E5ECF6\",\"width\":0.5},\"pattern\":{\"fillmode\":\"overlay\",\"size\":10,\"solidity\":0.2}},\"type\":\"bar\"}],\"carpet\":[{\"aaxis\":{\"endlinecolor\":\"#2a3f5f\",\"gridcolor\":\"white\",\"linecolor\":\"white\",\"minorgridcolor\":\"white\",\"startlinecolor\":\"#2a3f5f\"},\"baxis\":{\"endlinecolor\":\"#2a3f5f\",\"gridcolor\":\"white\",\"linecolor\":\"white\",\"minorgridcolor\":\"white\",\"startlinecolor\":\"#2a3f5f\"},\"type\":\"carpet\"}],\"choropleth\":[{\"colorbar\":{\"outlinewidth\":0,\"ticks\":\"\"},\"type\":\"choropleth\"}],\"contourcarpet\":[{\"colorbar\":{\"outlinewidth\":0,\"ticks\":\"\"},\"type\":\"contourcarpet\"}],\"contour\":[{\"colorbar\":{\"outlinewidth\":0,\"ticks\":\"\"},\"colorscale\":[[0.0,\"#0d0887\"],[0.1111111111111111,\"#46039f\"],[0.2222222222222222,\"#7201a8\"],[0.3333333333333333,\"#9c179e\"],[0.4444444444444444,\"#bd3786\"],[0.5555555555555556,\"#d8576b\"],[0.6666666666666666,\"#ed7953\"],[0.7777777777777778,\"#fb9f3a\"],[0.8888888888888888,\"#fdca26\"],[1.0,\"#f0f921\"]],\"type\":\"contour\"}],\"heatmapgl\":[{\"colorbar\":{\"outlinewidth\":0,\"ticks\":\"\"},\"colorscale\":[[0.0,\"#0d0887\"],[0.1111111111111111,\"#46039f\"],[0.2222222222222222,\"#7201a8\"],[0.3333333333333333,\"#9c179e\"],[0.4444444444444444,\"#bd3786\"],[0.5555555555555556,\"#d8576b\"],[0.6666666666666666,\"#ed7953\"],[0.7777777777777778,\"#fb9f3a\"],[0.8888888888888888,\"#fdca26\"],[1.0,\"#f0f921\"]],\"type\":\"heatmapgl\"}],\"heatmap\":[{\"colorbar\":{\"outlinewidth\":0,\"ticks\":\"\"},\"colorscale\":[[0.0,\"#0d0887\"],[0.1111111111111111,\"#46039f\"],[0.2222222222222222,\"#7201a8\"],[0.3333333333333333,\"#9c179e\"],[0.4444444444444444,\"#bd3786\"],[0.5555555555555556,\"#d8576b\"],[0.6666666666666666,\"#ed7953\"],[0.7777777777777778,\"#fb9f3a\"],[0.8888888888888888,\"#fdca26\"],[1.0,\"#f0f921\"]],\"type\":\"heatmap\"}],\"histogram2dcontour\":[{\"colorbar\":{\"outlinewidth\":0,\"ticks\":\"\"},\"colorscale\":[[0.0,\"#0d0887\"],[0.1111111111111111,\"#46039f\"],[0.2222222222222222,\"#7201a8\"],[0.3333333333333333,\"#9c179e\"],[0.4444444444444444,\"#bd3786\"],[0.5555555555555556,\"#d8576b\"],[0.6666666666666666,\"#ed7953\"],[0.7777777777777778,\"#fb9f3a\"],[0.8888888888888888,\"#fdca26\"],[1.0,\"#f0f921\"]],\"type\":\"histogram2dcontour\"}],\"histogram2d\":[{\"colorbar\":{\"outlinewidth\":0,\"ticks\":\"\"},\"colorscale\":[[0.0,\"#0d0887\"],[0.1111111111111111,\"#46039f\"],[0.2222222222222222,\"#7201a8\"],[0.3333333333333333,\"#9c179e\"],[0.4444444444444444,\"#bd3786\"],[0.5555555555555556,\"#d8576b\"],[0.6666666666666666,\"#ed7953\"],[0.7777777777777778,\"#fb9f3a\"],[0.8888888888888888,\"#fdca26\"],[1.0,\"#f0f921\"]],\"type\":\"histogram2d\"}],\"histogram\":[{\"marker\":{\"pattern\":{\"fillmode\":\"overlay\",\"size\":10,\"solidity\":0.2}},\"type\":\"histogram\"}],\"mesh3d\":[{\"colorbar\":{\"outlinewidth\":0,\"ticks\":\"\"},\"type\":\"mesh3d\"}],\"parcoords\":[{\"line\":{\"colorbar\":{\"outlinewidth\":0,\"ticks\":\"\"}},\"type\":\"parcoords\"}],\"pie\":[{\"automargin\":true,\"type\":\"pie\"}],\"scatter3d\":[{\"line\":{\"colorbar\":{\"outlinewidth\":0,\"ticks\":\"\"}},\"marker\":{\"colorbar\":{\"outlinewidth\":0,\"ticks\":\"\"}},\"type\":\"scatter3d\"}],\"scattercarpet\":[{\"marker\":{\"colorbar\":{\"outlinewidth\":0,\"ticks\":\"\"}},\"type\":\"scattercarpet\"}],\"scattergeo\":[{\"marker\":{\"colorbar\":{\"outlinewidth\":0,\"ticks\":\"\"}},\"type\":\"scattergeo\"}],\"scattergl\":[{\"marker\":{\"colorbar\":{\"outlinewidth\":0,\"ticks\":\"\"}},\"type\":\"scattergl\"}],\"scattermapbox\":[{\"marker\":{\"colorbar\":{\"outlinewidth\":0,\"ticks\":\"\"}},\"type\":\"scattermapbox\"}],\"scatterpolargl\":[{\"marker\":{\"colorbar\":{\"outlinewidth\":0,\"ticks\":\"\"}},\"type\":\"scatterpolargl\"}],\"scatterpolar\":[{\"marker\":{\"colorbar\":{\"outlinewidth\":0,\"ticks\":\"\"}},\"type\":\"scatterpolar\"}],\"scatter\":[{\"fillpattern\":{\"fillmode\":\"overlay\",\"size\":10,\"solidity\":0.2},\"type\":\"scatter\"}],\"scatterternary\":[{\"marker\":{\"colorbar\":{\"outlinewidth\":0,\"ticks\":\"\"}},\"type\":\"scatterternary\"}],\"surface\":[{\"colorbar\":{\"outlinewidth\":0,\"ticks\":\"\"},\"colorscale\":[[0.0,\"#0d0887\"],[0.1111111111111111,\"#46039f\"],[0.2222222222222222,\"#7201a8\"],[0.3333333333333333,\"#9c179e\"],[0.4444444444444444,\"#bd3786\"],[0.5555555555555556,\"#d8576b\"],[0.6666666666666666,\"#ed7953\"],[0.7777777777777778,\"#fb9f3a\"],[0.8888888888888888,\"#fdca26\"],[1.0,\"#f0f921\"]],\"type\":\"surface\"}],\"table\":[{\"cells\":{\"fill\":{\"color\":\"#EBF0F8\"},\"line\":{\"color\":\"white\"}},\"header\":{\"fill\":{\"color\":\"#C8D4E3\"},\"line\":{\"color\":\"white\"}},\"type\":\"table\"}]},\"layout\":{\"annotationdefaults\":{\"arrowcolor\":\"#2a3f5f\",\"arrowhead\":0,\"arrowwidth\":1},\"autotypenumbers\":\"strict\",\"coloraxis\":{\"colorbar\":{\"outlinewidth\":0,\"ticks\":\"\"}},\"colorscale\":{\"diverging\":[[0,\"#8e0152\"],[0.1,\"#c51b7d\"],[0.2,\"#de77ae\"],[0.3,\"#f1b6da\"],[0.4,\"#fde0ef\"],[0.5,\"#f7f7f7\"],[0.6,\"#e6f5d0\"],[0.7,\"#b8e186\"],[0.8,\"#7fbc41\"],[0.9,\"#4d9221\"],[1,\"#276419\"]],\"sequential\":[[0.0,\"#0d0887\"],[0.1111111111111111,\"#46039f\"],[0.2222222222222222,\"#7201a8\"],[0.3333333333333333,\"#9c179e\"],[0.4444444444444444,\"#bd3786\"],[0.5555555555555556,\"#d8576b\"],[0.6666666666666666,\"#ed7953\"],[0.7777777777777778,\"#fb9f3a\"],[0.8888888888888888,\"#fdca26\"],[1.0,\"#f0f921\"]],\"sequentialminus\":[[0.0,\"#0d0887\"],[0.1111111111111111,\"#46039f\"],[0.2222222222222222,\"#7201a8\"],[0.3333333333333333,\"#9c179e\"],[0.4444444444444444,\"#bd3786\"],[0.5555555555555556,\"#d8576b\"],[0.6666666666666666,\"#ed7953\"],[0.7777777777777778,\"#fb9f3a\"],[0.8888888888888888,\"#fdca26\"],[1.0,\"#f0f921\"]]},\"colorway\":[\"#636efa\",\"#EF553B\",\"#00cc96\",\"#ab63fa\",\"#FFA15A\",\"#19d3f3\",\"#FF6692\",\"#B6E880\",\"#FF97FF\",\"#FECB52\"],\"font\":{\"color\":\"#2a3f5f\"},\"geo\":{\"bgcolor\":\"white\",\"lakecolor\":\"white\",\"landcolor\":\"#E5ECF6\",\"showlakes\":true,\"showland\":true,\"subunitcolor\":\"white\"},\"hoverlabel\":{\"align\":\"left\"},\"hovermode\":\"closest\",\"mapbox\":{\"style\":\"light\"},\"paper_bgcolor\":\"white\",\"plot_bgcolor\":\"#E5ECF6\",\"polar\":{\"angularaxis\":{\"gridcolor\":\"white\",\"linecolor\":\"white\",\"ticks\":\"\"},\"bgcolor\":\"#E5ECF6\",\"radialaxis\":{\"gridcolor\":\"white\",\"linecolor\":\"white\",\"ticks\":\"\"}},\"scene\":{\"xaxis\":{\"backgroundcolor\":\"#E5ECF6\",\"gridcolor\":\"white\",\"gridwidth\":2,\"linecolor\":\"white\",\"showbackground\":true,\"ticks\":\"\",\"zerolinecolor\":\"white\"},\"yaxis\":{\"backgroundcolor\":\"#E5ECF6\",\"gridcolor\":\"white\",\"gridwidth\":2,\"linecolor\":\"white\",\"showbackground\":true,\"ticks\":\"\",\"zerolinecolor\":\"white\"},\"zaxis\":{\"backgroundcolor\":\"#E5ECF6\",\"gridcolor\":\"white\",\"gridwidth\":2,\"linecolor\":\"white\",\"showbackground\":true,\"ticks\":\"\",\"zerolinecolor\":\"white\"}},\"shapedefaults\":{\"line\":{\"color\":\"#2a3f5f\"}},\"ternary\":{\"aaxis\":{\"gridcolor\":\"white\",\"linecolor\":\"white\",\"ticks\":\"\"},\"baxis\":{\"gridcolor\":\"white\",\"linecolor\":\"white\",\"ticks\":\"\"},\"bgcolor\":\"#E5ECF6\",\"caxis\":{\"gridcolor\":\"white\",\"linecolor\":\"white\",\"ticks\":\"\"}},\"title\":{\"x\":0.05},\"xaxis\":{\"automargin\":true,\"gridcolor\":\"white\",\"linecolor\":\"white\",\"ticks\":\"\",\"title\":{\"standoff\":15},\"zerolinecolor\":\"white\",\"zerolinewidth\":2},\"yaxis\":{\"automargin\":true,\"gridcolor\":\"white\",\"linecolor\":\"white\",\"ticks\":\"\",\"title\":{\"standoff\":15},\"zerolinecolor\":\"white\",\"zerolinewidth\":2}}},\"title\":{\"font\":{\"color\":\"#4D5663\"}},\"xaxis\":{\"gridcolor\":\"#E1E5ED\",\"showgrid\":true,\"tickfont\":{\"color\":\"#4D5663\"},\"title\":{\"font\":{\"color\":\"#4D5663\"},\"text\":\"\"},\"zerolinecolor\":\"#E1E5ED\"},\"yaxis\":{\"gridcolor\":\"#E1E5ED\",\"showgrid\":true,\"tickfont\":{\"color\":\"#4D5663\"},\"title\":{\"font\":{\"color\":\"#4D5663\"},\"text\":\"\"},\"zerolinecolor\":\"#E1E5ED\"}},                        {\"showLink\": true, \"linkText\": \"Export to plot.ly\", \"plotlyServerURL\": \"https://plot.ly\", \"responsive\": true}                    ).then(function(){\n",
       "                            \n",
       "var gd = document.getElementById('4ce626ad-4bd1-48ea-9da4-1d336ab02cb0');\n",
       "var x = new MutationObserver(function (mutations, observer) {{\n",
       "        var display = window.getComputedStyle(gd).display;\n",
       "        if (!display || display === 'none') {{\n",
       "            console.log([gd, 'removed!']);\n",
       "            Plotly.purge(gd);\n",
       "            observer.disconnect();\n",
       "        }}\n",
       "}});\n",
       "\n",
       "// Listen for the removal of the full notebook cells\n",
       "var notebookContainer = gd.closest('#notebook-container');\n",
       "if (notebookContainer) {{\n",
       "    x.observe(notebookContainer, {childList: true});\n",
       "}}\n",
       "\n",
       "// Listen for the clearing of the current output cell\n",
       "var outputEl = gd.closest('.output');\n",
       "if (outputEl) {{\n",
       "    x.observe(outputEl, {childList: true});\n",
       "}}\n",
       "\n",
       "                        })                };                });            </script>        </div>"
      ]
     },
     "metadata": {},
     "output_type": "display_data"
    }
   ],
   "source": [
    "df.iplot(kind='scatter', x='A', y='B') # Tenta traçar linhas conectando todos os pontos"
   ]
  },
  {
   "cell_type": "code",
   "execution_count": 14,
   "id": "4c1dc77a",
   "metadata": {},
   "outputs": [
    {
     "data": {
      "application/vnd.plotly.v1+json": {
       "config": {
        "linkText": "Export to plot.ly",
        "plotlyServerURL": "https://plot.ly",
        "showLink": true
       },
       "data": [
        {
         "line": {
          "color": "rgba(255, 153, 51, 1.0)",
          "dash": "solid",
          "shape": "linear",
          "width": 1.3
         },
         "marker": {
          "size": 20,
          "symbol": "circle"
         },
         "mode": "markers",
         "name": "B",
         "text": "",
         "type": "scatter",
         "x": [
          0.778457933302214,
          -0.9680449357550578,
          0.39359084183301096,
          -1.2394985928585338,
          -0.2164835093388013,
          -0.1356228708503378,
          -1.2521746730325765,
          -1.0835243246963888,
          0.6250752248509963,
          0.7718451818596955,
          0.4318676271026053,
          -0.8686984687467546,
          0.18229522144610463,
          -0.17752709417956644,
          -0.7853823575966619,
          -0.06893337907779387,
          -0.9466983840211649,
          -0.9221095109610769,
          1.5774648689521218,
          0.3930242065630447,
          0.8277738191842602,
          -0.8241508298553344,
          0.07495661144670138,
          -0.3590170031546842,
          1.2734557212058224,
          -1.504383022229239,
          -0.12596790196229846,
          0.6123225576918307,
          0.3426474625945798,
          0.846089362700548,
          1.3523055165355302,
          0.284811559971216,
          -1.6013083992544557,
          1.6679084568187605,
          1.5145816453277892,
          -0.0046250819630932315,
          -0.07829149222527237,
          0.9916207650528954,
          1.1145048640682926,
          -1.089729192815636,
          0.17314040189558932,
          -0.033796344362975864,
          0.07562690561269443,
          1.892594834465393,
          -1.8348706724093262,
          1.2584334190829263,
          0.17218282514485775,
          0.34213290139111757,
          -0.7402663222325283,
          -0.588544402128247,
          -0.27975100910657263,
          -0.36609359684194237,
          -0.8452472534162175,
          -0.4468861894570877,
          0.6034241098470298,
          3.1023651388360145,
          0.214644091222445,
          -0.8612338237196326,
          0.13263420361251016,
          -0.9710094581449149,
          0.7227469378577297,
          -0.7822128929376538,
          -0.22143889112664097,
          0.14416334626005273,
          -0.8833756073627672,
          1.2612268675473937,
          0.7928279434498183,
          -1.0251422302062176,
          -0.4536854547609093,
          -0.45958745335640483,
          0.5182900495849041,
          0.850977459520938,
          0.04421513310499319,
          -1.1175849668722495,
          -0.8030693507661488,
          1.92519394398426,
          0.7217912827510005,
          -0.3116468245019817,
          -1.750355552577647,
          -0.6873302147493952,
          1.5993325144520412,
          1.2093688325747638,
          0.7382608277486163,
          -0.01307177710019666,
          0.4249358964426604,
          1.8114662802257053,
          -0.23812364488121177,
          -0.04821109509459664,
          -0.47886446654041864,
          -0.4038921916964521,
          0.5091420384625585,
          0.4801272970933442,
          -0.48912145451354583,
          -1.147042924817787,
          -0.01032179386658933,
          0.1321566262110016,
          -0.384385463475132,
          1.2891000679608127,
          0.9391036286315693,
          1.0197304435884655
         ],
         "y": [
          -0.12418495906275873,
          0.5285054303759434,
          -0.6483376777606301,
          -0.2882240309938093,
          0.5736212497816112,
          2.239254267902068,
          -3.7132010957566717,
          -0.827361314325003,
          -0.07056871306249225,
          0.4485007765695378,
          -1.1425087248215398,
          0.713665370670025,
          -0.12237518106470253,
          -1.5779230985738613,
          -1.6518453654137415,
          0.7872739570953827,
          0.6696097676881092,
          0.12485407678766407,
          -0.2592731741227891,
          -0.6034697000193865,
          -0.1634147137662408,
          -0.9185909367956211,
          -1.5225614971140846,
          0.32708339513992823,
          -0.7881580126865311,
          -0.253793228203105,
          -0.20667844715897066,
          0.9083395167937691,
          0.48256960720999503,
          -0.9609842265734008,
          -0.9045949603882426,
          -0.8259097380548978,
          -0.4414993729915333,
          -0.2965042673868797,
          -1.8110254612575696,
          -0.6947125921837172,
          0.22518886816166567,
          0.9620639813793939,
          -1.4689365913873842,
          -0.5002907290334543,
          0.15554850993818742,
          1.0644877346151136,
          0.08741835263849135,
          -1.2266050665518022,
          0.009267372916793585,
          0.9365478847521909,
          -0.06849812894451411,
          0.572511977530958,
          0.2490562834386925,
          -0.7544740172893082,
          0.6270155247426541,
          0.4392751700611625,
          0.8876910389681761,
          0.6895447204388416,
          -0.08376221605853913,
          0.7519574530059915,
          0.7928931750275154,
          -0.07844246435307307,
          -0.6610778230711215,
          0.4710622226800591,
          -3.102751806348052,
          1.3879524318512182,
          -1.9793711097598718,
          0.08488617246516036,
          -1.6306338131169662,
          0.31209134076027195,
          1.527604855019396,
          2.0868502636121495,
          -0.41398376859852154,
          -0.5958562882694559,
          0.1407586248600635,
          1.1241522625681128,
          -0.7699943106290851,
          0.13748390446668632,
          -1.0344313621767662,
          1.589065501698242,
          -1.483419352532759,
          1.1109792033938501,
          0.6953782435953554,
          0.5181307791043384,
          1.3792400569088539,
          -0.19834484065509467,
          -1.6984989450444554,
          0.6454744077409759,
          1.156837525492291,
          -1.3392031859801345,
          -1.0476297371919077,
          0.8978011452694012,
          0.21692629572147912,
          -0.4597509119081817,
          0.19481940643523454,
          -0.08341557197324237,
          0.7726127026487843,
          -1.6792646825069584,
          -0.6350127596847416,
          1.0570017823937987,
          -1.0115000812255166,
          -1.5882588060836178,
          -1.8493217471273957,
          -1.1361901014810987
         ]
        }
       ],
       "layout": {
        "legend": {
         "bgcolor": "#F5F6F9",
         "font": {
          "color": "#4D5663"
         }
        },
        "paper_bgcolor": "#F5F6F9",
        "plot_bgcolor": "#F5F6F9",
        "template": {
         "data": {
          "bar": [
           {
            "error_x": {
             "color": "#2a3f5f"
            },
            "error_y": {
             "color": "#2a3f5f"
            },
            "marker": {
             "line": {
              "color": "#E5ECF6",
              "width": 0.5
             },
             "pattern": {
              "fillmode": "overlay",
              "size": 10,
              "solidity": 0.2
             }
            },
            "type": "bar"
           }
          ],
          "barpolar": [
           {
            "marker": {
             "line": {
              "color": "#E5ECF6",
              "width": 0.5
             },
             "pattern": {
              "fillmode": "overlay",
              "size": 10,
              "solidity": 0.2
             }
            },
            "type": "barpolar"
           }
          ],
          "carpet": [
           {
            "aaxis": {
             "endlinecolor": "#2a3f5f",
             "gridcolor": "white",
             "linecolor": "white",
             "minorgridcolor": "white",
             "startlinecolor": "#2a3f5f"
            },
            "baxis": {
             "endlinecolor": "#2a3f5f",
             "gridcolor": "white",
             "linecolor": "white",
             "minorgridcolor": "white",
             "startlinecolor": "#2a3f5f"
            },
            "type": "carpet"
           }
          ],
          "choropleth": [
           {
            "colorbar": {
             "outlinewidth": 0,
             "ticks": ""
            },
            "type": "choropleth"
           }
          ],
          "contour": [
           {
            "colorbar": {
             "outlinewidth": 0,
             "ticks": ""
            },
            "colorscale": [
             [
              0,
              "#0d0887"
             ],
             [
              0.1111111111111111,
              "#46039f"
             ],
             [
              0.2222222222222222,
              "#7201a8"
             ],
             [
              0.3333333333333333,
              "#9c179e"
             ],
             [
              0.4444444444444444,
              "#bd3786"
             ],
             [
              0.5555555555555556,
              "#d8576b"
             ],
             [
              0.6666666666666666,
              "#ed7953"
             ],
             [
              0.7777777777777778,
              "#fb9f3a"
             ],
             [
              0.8888888888888888,
              "#fdca26"
             ],
             [
              1,
              "#f0f921"
             ]
            ],
            "type": "contour"
           }
          ],
          "contourcarpet": [
           {
            "colorbar": {
             "outlinewidth": 0,
             "ticks": ""
            },
            "type": "contourcarpet"
           }
          ],
          "heatmap": [
           {
            "colorbar": {
             "outlinewidth": 0,
             "ticks": ""
            },
            "colorscale": [
             [
              0,
              "#0d0887"
             ],
             [
              0.1111111111111111,
              "#46039f"
             ],
             [
              0.2222222222222222,
              "#7201a8"
             ],
             [
              0.3333333333333333,
              "#9c179e"
             ],
             [
              0.4444444444444444,
              "#bd3786"
             ],
             [
              0.5555555555555556,
              "#d8576b"
             ],
             [
              0.6666666666666666,
              "#ed7953"
             ],
             [
              0.7777777777777778,
              "#fb9f3a"
             ],
             [
              0.8888888888888888,
              "#fdca26"
             ],
             [
              1,
              "#f0f921"
             ]
            ],
            "type": "heatmap"
           }
          ],
          "heatmapgl": [
           {
            "colorbar": {
             "outlinewidth": 0,
             "ticks": ""
            },
            "colorscale": [
             [
              0,
              "#0d0887"
             ],
             [
              0.1111111111111111,
              "#46039f"
             ],
             [
              0.2222222222222222,
              "#7201a8"
             ],
             [
              0.3333333333333333,
              "#9c179e"
             ],
             [
              0.4444444444444444,
              "#bd3786"
             ],
             [
              0.5555555555555556,
              "#d8576b"
             ],
             [
              0.6666666666666666,
              "#ed7953"
             ],
             [
              0.7777777777777778,
              "#fb9f3a"
             ],
             [
              0.8888888888888888,
              "#fdca26"
             ],
             [
              1,
              "#f0f921"
             ]
            ],
            "type": "heatmapgl"
           }
          ],
          "histogram": [
           {
            "marker": {
             "pattern": {
              "fillmode": "overlay",
              "size": 10,
              "solidity": 0.2
             }
            },
            "type": "histogram"
           }
          ],
          "histogram2d": [
           {
            "colorbar": {
             "outlinewidth": 0,
             "ticks": ""
            },
            "colorscale": [
             [
              0,
              "#0d0887"
             ],
             [
              0.1111111111111111,
              "#46039f"
             ],
             [
              0.2222222222222222,
              "#7201a8"
             ],
             [
              0.3333333333333333,
              "#9c179e"
             ],
             [
              0.4444444444444444,
              "#bd3786"
             ],
             [
              0.5555555555555556,
              "#d8576b"
             ],
             [
              0.6666666666666666,
              "#ed7953"
             ],
             [
              0.7777777777777778,
              "#fb9f3a"
             ],
             [
              0.8888888888888888,
              "#fdca26"
             ],
             [
              1,
              "#f0f921"
             ]
            ],
            "type": "histogram2d"
           }
          ],
          "histogram2dcontour": [
           {
            "colorbar": {
             "outlinewidth": 0,
             "ticks": ""
            },
            "colorscale": [
             [
              0,
              "#0d0887"
             ],
             [
              0.1111111111111111,
              "#46039f"
             ],
             [
              0.2222222222222222,
              "#7201a8"
             ],
             [
              0.3333333333333333,
              "#9c179e"
             ],
             [
              0.4444444444444444,
              "#bd3786"
             ],
             [
              0.5555555555555556,
              "#d8576b"
             ],
             [
              0.6666666666666666,
              "#ed7953"
             ],
             [
              0.7777777777777778,
              "#fb9f3a"
             ],
             [
              0.8888888888888888,
              "#fdca26"
             ],
             [
              1,
              "#f0f921"
             ]
            ],
            "type": "histogram2dcontour"
           }
          ],
          "mesh3d": [
           {
            "colorbar": {
             "outlinewidth": 0,
             "ticks": ""
            },
            "type": "mesh3d"
           }
          ],
          "parcoords": [
           {
            "line": {
             "colorbar": {
              "outlinewidth": 0,
              "ticks": ""
             }
            },
            "type": "parcoords"
           }
          ],
          "pie": [
           {
            "automargin": true,
            "type": "pie"
           }
          ],
          "scatter": [
           {
            "fillpattern": {
             "fillmode": "overlay",
             "size": 10,
             "solidity": 0.2
            },
            "type": "scatter"
           }
          ],
          "scatter3d": [
           {
            "line": {
             "colorbar": {
              "outlinewidth": 0,
              "ticks": ""
             }
            },
            "marker": {
             "colorbar": {
              "outlinewidth": 0,
              "ticks": ""
             }
            },
            "type": "scatter3d"
           }
          ],
          "scattercarpet": [
           {
            "marker": {
             "colorbar": {
              "outlinewidth": 0,
              "ticks": ""
             }
            },
            "type": "scattercarpet"
           }
          ],
          "scattergeo": [
           {
            "marker": {
             "colorbar": {
              "outlinewidth": 0,
              "ticks": ""
             }
            },
            "type": "scattergeo"
           }
          ],
          "scattergl": [
           {
            "marker": {
             "colorbar": {
              "outlinewidth": 0,
              "ticks": ""
             }
            },
            "type": "scattergl"
           }
          ],
          "scattermapbox": [
           {
            "marker": {
             "colorbar": {
              "outlinewidth": 0,
              "ticks": ""
             }
            },
            "type": "scattermapbox"
           }
          ],
          "scatterpolar": [
           {
            "marker": {
             "colorbar": {
              "outlinewidth": 0,
              "ticks": ""
             }
            },
            "type": "scatterpolar"
           }
          ],
          "scatterpolargl": [
           {
            "marker": {
             "colorbar": {
              "outlinewidth": 0,
              "ticks": ""
             }
            },
            "type": "scatterpolargl"
           }
          ],
          "scatterternary": [
           {
            "marker": {
             "colorbar": {
              "outlinewidth": 0,
              "ticks": ""
             }
            },
            "type": "scatterternary"
           }
          ],
          "surface": [
           {
            "colorbar": {
             "outlinewidth": 0,
             "ticks": ""
            },
            "colorscale": [
             [
              0,
              "#0d0887"
             ],
             [
              0.1111111111111111,
              "#46039f"
             ],
             [
              0.2222222222222222,
              "#7201a8"
             ],
             [
              0.3333333333333333,
              "#9c179e"
             ],
             [
              0.4444444444444444,
              "#bd3786"
             ],
             [
              0.5555555555555556,
              "#d8576b"
             ],
             [
              0.6666666666666666,
              "#ed7953"
             ],
             [
              0.7777777777777778,
              "#fb9f3a"
             ],
             [
              0.8888888888888888,
              "#fdca26"
             ],
             [
              1,
              "#f0f921"
             ]
            ],
            "type": "surface"
           }
          ],
          "table": [
           {
            "cells": {
             "fill": {
              "color": "#EBF0F8"
             },
             "line": {
              "color": "white"
             }
            },
            "header": {
             "fill": {
              "color": "#C8D4E3"
             },
             "line": {
              "color": "white"
             }
            },
            "type": "table"
           }
          ]
         },
         "layout": {
          "annotationdefaults": {
           "arrowcolor": "#2a3f5f",
           "arrowhead": 0,
           "arrowwidth": 1
          },
          "autotypenumbers": "strict",
          "coloraxis": {
           "colorbar": {
            "outlinewidth": 0,
            "ticks": ""
           }
          },
          "colorscale": {
           "diverging": [
            [
             0,
             "#8e0152"
            ],
            [
             0.1,
             "#c51b7d"
            ],
            [
             0.2,
             "#de77ae"
            ],
            [
             0.3,
             "#f1b6da"
            ],
            [
             0.4,
             "#fde0ef"
            ],
            [
             0.5,
             "#f7f7f7"
            ],
            [
             0.6,
             "#e6f5d0"
            ],
            [
             0.7,
             "#b8e186"
            ],
            [
             0.8,
             "#7fbc41"
            ],
            [
             0.9,
             "#4d9221"
            ],
            [
             1,
             "#276419"
            ]
           ],
           "sequential": [
            [
             0,
             "#0d0887"
            ],
            [
             0.1111111111111111,
             "#46039f"
            ],
            [
             0.2222222222222222,
             "#7201a8"
            ],
            [
             0.3333333333333333,
             "#9c179e"
            ],
            [
             0.4444444444444444,
             "#bd3786"
            ],
            [
             0.5555555555555556,
             "#d8576b"
            ],
            [
             0.6666666666666666,
             "#ed7953"
            ],
            [
             0.7777777777777778,
             "#fb9f3a"
            ],
            [
             0.8888888888888888,
             "#fdca26"
            ],
            [
             1,
             "#f0f921"
            ]
           ],
           "sequentialminus": [
            [
             0,
             "#0d0887"
            ],
            [
             0.1111111111111111,
             "#46039f"
            ],
            [
             0.2222222222222222,
             "#7201a8"
            ],
            [
             0.3333333333333333,
             "#9c179e"
            ],
            [
             0.4444444444444444,
             "#bd3786"
            ],
            [
             0.5555555555555556,
             "#d8576b"
            ],
            [
             0.6666666666666666,
             "#ed7953"
            ],
            [
             0.7777777777777778,
             "#fb9f3a"
            ],
            [
             0.8888888888888888,
             "#fdca26"
            ],
            [
             1,
             "#f0f921"
            ]
           ]
          },
          "colorway": [
           "#636efa",
           "#EF553B",
           "#00cc96",
           "#ab63fa",
           "#FFA15A",
           "#19d3f3",
           "#FF6692",
           "#B6E880",
           "#FF97FF",
           "#FECB52"
          ],
          "font": {
           "color": "#2a3f5f"
          },
          "geo": {
           "bgcolor": "white",
           "lakecolor": "white",
           "landcolor": "#E5ECF6",
           "showlakes": true,
           "showland": true,
           "subunitcolor": "white"
          },
          "hoverlabel": {
           "align": "left"
          },
          "hovermode": "closest",
          "mapbox": {
           "style": "light"
          },
          "paper_bgcolor": "white",
          "plot_bgcolor": "#E5ECF6",
          "polar": {
           "angularaxis": {
            "gridcolor": "white",
            "linecolor": "white",
            "ticks": ""
           },
           "bgcolor": "#E5ECF6",
           "radialaxis": {
            "gridcolor": "white",
            "linecolor": "white",
            "ticks": ""
           }
          },
          "scene": {
           "xaxis": {
            "backgroundcolor": "#E5ECF6",
            "gridcolor": "white",
            "gridwidth": 2,
            "linecolor": "white",
            "showbackground": true,
            "ticks": "",
            "zerolinecolor": "white"
           },
           "yaxis": {
            "backgroundcolor": "#E5ECF6",
            "gridcolor": "white",
            "gridwidth": 2,
            "linecolor": "white",
            "showbackground": true,
            "ticks": "",
            "zerolinecolor": "white"
           },
           "zaxis": {
            "backgroundcolor": "#E5ECF6",
            "gridcolor": "white",
            "gridwidth": 2,
            "linecolor": "white",
            "showbackground": true,
            "ticks": "",
            "zerolinecolor": "white"
           }
          },
          "shapedefaults": {
           "line": {
            "color": "#2a3f5f"
           }
          },
          "ternary": {
           "aaxis": {
            "gridcolor": "white",
            "linecolor": "white",
            "ticks": ""
           },
           "baxis": {
            "gridcolor": "white",
            "linecolor": "white",
            "ticks": ""
           },
           "bgcolor": "#E5ECF6",
           "caxis": {
            "gridcolor": "white",
            "linecolor": "white",
            "ticks": ""
           }
          },
          "title": {
           "x": 0.05
          },
          "xaxis": {
           "automargin": true,
           "gridcolor": "white",
           "linecolor": "white",
           "ticks": "",
           "title": {
            "standoff": 15
           },
           "zerolinecolor": "white",
           "zerolinewidth": 2
          },
          "yaxis": {
           "automargin": true,
           "gridcolor": "white",
           "linecolor": "white",
           "ticks": "",
           "title": {
            "standoff": 15
           },
           "zerolinecolor": "white",
           "zerolinewidth": 2
          }
         }
        },
        "title": {
         "font": {
          "color": "#4D5663"
         }
        },
        "xaxis": {
         "gridcolor": "#E1E5ED",
         "showgrid": true,
         "tickfont": {
          "color": "#4D5663"
         },
         "title": {
          "font": {
           "color": "#4D5663"
          },
          "text": ""
         },
         "zerolinecolor": "#E1E5ED"
        },
        "yaxis": {
         "gridcolor": "#E1E5ED",
         "showgrid": true,
         "tickfont": {
          "color": "#4D5663"
         },
         "title": {
          "font": {
           "color": "#4D5663"
          },
          "text": ""
         },
         "zerolinecolor": "#E1E5ED"
        }
       }
      },
      "text/html": [
       "<div>                            <div id=\"ea8e60d2-88d9-439f-9903-671febceb593\" class=\"plotly-graph-div\" style=\"height:525px; width:100%;\"></div>            <script type=\"text/javascript\">                require([\"plotly\"], function(Plotly) {                    window.PLOTLYENV=window.PLOTLYENV || {};\n",
       "                    window.PLOTLYENV.BASE_URL='https://plot.ly';                                    if (document.getElementById(\"ea8e60d2-88d9-439f-9903-671febceb593\")) {                    Plotly.newPlot(                        \"ea8e60d2-88d9-439f-9903-671febceb593\",                        [{\"line\":{\"color\":\"rgba(255, 153, 51, 1.0)\",\"dash\":\"solid\",\"shape\":\"linear\",\"width\":1.3},\"marker\":{\"size\":20,\"symbol\":\"circle\"},\"mode\":\"markers\",\"name\":\"B\",\"text\":\"\",\"x\":[0.778457933302214,-0.9680449357550578,0.39359084183301096,-1.2394985928585338,-0.2164835093388013,-0.1356228708503378,-1.2521746730325765,-1.0835243246963888,0.6250752248509963,0.7718451818596955,0.4318676271026053,-0.8686984687467546,0.18229522144610463,-0.17752709417956644,-0.7853823575966619,-0.06893337907779387,-0.9466983840211649,-0.9221095109610769,1.5774648689521218,0.3930242065630447,0.8277738191842602,-0.8241508298553344,0.07495661144670138,-0.3590170031546842,1.2734557212058224,-1.504383022229239,-0.12596790196229846,0.6123225576918307,0.3426474625945798,0.846089362700548,1.3523055165355302,0.284811559971216,-1.6013083992544557,1.6679084568187605,1.5145816453277892,-0.0046250819630932315,-0.07829149222527237,0.9916207650528954,1.1145048640682926,-1.089729192815636,0.17314040189558932,-0.033796344362975864,0.07562690561269443,1.892594834465393,-1.8348706724093262,1.2584334190829263,0.17218282514485775,0.34213290139111757,-0.7402663222325283,-0.588544402128247,-0.27975100910657263,-0.36609359684194237,-0.8452472534162175,-0.4468861894570877,0.6034241098470298,3.1023651388360145,0.214644091222445,-0.8612338237196326,0.13263420361251016,-0.9710094581449149,0.7227469378577297,-0.7822128929376538,-0.22143889112664097,0.14416334626005273,-0.8833756073627672,1.2612268675473937,0.7928279434498183,-1.0251422302062176,-0.4536854547609093,-0.45958745335640483,0.5182900495849041,0.850977459520938,0.04421513310499319,-1.1175849668722495,-0.8030693507661488,1.92519394398426,0.7217912827510005,-0.3116468245019817,-1.750355552577647,-0.6873302147493952,1.5993325144520412,1.2093688325747638,0.7382608277486163,-0.01307177710019666,0.4249358964426604,1.8114662802257053,-0.23812364488121177,-0.04821109509459664,-0.47886446654041864,-0.4038921916964521,0.5091420384625585,0.4801272970933442,-0.48912145451354583,-1.147042924817787,-0.01032179386658933,0.1321566262110016,-0.384385463475132,1.2891000679608127,0.9391036286315693,1.0197304435884655],\"y\":[-0.12418495906275873,0.5285054303759434,-0.6483376777606301,-0.2882240309938093,0.5736212497816112,2.239254267902068,-3.7132010957566717,-0.827361314325003,-0.07056871306249225,0.4485007765695378,-1.1425087248215398,0.713665370670025,-0.12237518106470253,-1.5779230985738613,-1.6518453654137415,0.7872739570953827,0.6696097676881092,0.12485407678766407,-0.2592731741227891,-0.6034697000193865,-0.1634147137662408,-0.9185909367956211,-1.5225614971140846,0.32708339513992823,-0.7881580126865311,-0.253793228203105,-0.20667844715897066,0.9083395167937691,0.48256960720999503,-0.9609842265734008,-0.9045949603882426,-0.8259097380548978,-0.4414993729915333,-0.2965042673868797,-1.8110254612575696,-0.6947125921837172,0.22518886816166567,0.9620639813793939,-1.4689365913873842,-0.5002907290334543,0.15554850993818742,1.0644877346151136,0.08741835263849135,-1.2266050665518022,0.009267372916793585,0.9365478847521909,-0.06849812894451411,0.572511977530958,0.2490562834386925,-0.7544740172893082,0.6270155247426541,0.4392751700611625,0.8876910389681761,0.6895447204388416,-0.08376221605853913,0.7519574530059915,0.7928931750275154,-0.07844246435307307,-0.6610778230711215,0.4710622226800591,-3.102751806348052,1.3879524318512182,-1.9793711097598718,0.08488617246516036,-1.6306338131169662,0.31209134076027195,1.527604855019396,2.0868502636121495,-0.41398376859852154,-0.5958562882694559,0.1407586248600635,1.1241522625681128,-0.7699943106290851,0.13748390446668632,-1.0344313621767662,1.589065501698242,-1.483419352532759,1.1109792033938501,0.6953782435953554,0.5181307791043384,1.3792400569088539,-0.19834484065509467,-1.6984989450444554,0.6454744077409759,1.156837525492291,-1.3392031859801345,-1.0476297371919077,0.8978011452694012,0.21692629572147912,-0.4597509119081817,0.19481940643523454,-0.08341557197324237,0.7726127026487843,-1.6792646825069584,-0.6350127596847416,1.0570017823937987,-1.0115000812255166,-1.5882588060836178,-1.8493217471273957,-1.1361901014810987],\"type\":\"scatter\"}],                        {\"legend\":{\"bgcolor\":\"#F5F6F9\",\"font\":{\"color\":\"#4D5663\"}},\"paper_bgcolor\":\"#F5F6F9\",\"plot_bgcolor\":\"#F5F6F9\",\"template\":{\"data\":{\"barpolar\":[{\"marker\":{\"line\":{\"color\":\"#E5ECF6\",\"width\":0.5},\"pattern\":{\"fillmode\":\"overlay\",\"size\":10,\"solidity\":0.2}},\"type\":\"barpolar\"}],\"bar\":[{\"error_x\":{\"color\":\"#2a3f5f\"},\"error_y\":{\"color\":\"#2a3f5f\"},\"marker\":{\"line\":{\"color\":\"#E5ECF6\",\"width\":0.5},\"pattern\":{\"fillmode\":\"overlay\",\"size\":10,\"solidity\":0.2}},\"type\":\"bar\"}],\"carpet\":[{\"aaxis\":{\"endlinecolor\":\"#2a3f5f\",\"gridcolor\":\"white\",\"linecolor\":\"white\",\"minorgridcolor\":\"white\",\"startlinecolor\":\"#2a3f5f\"},\"baxis\":{\"endlinecolor\":\"#2a3f5f\",\"gridcolor\":\"white\",\"linecolor\":\"white\",\"minorgridcolor\":\"white\",\"startlinecolor\":\"#2a3f5f\"},\"type\":\"carpet\"}],\"choropleth\":[{\"colorbar\":{\"outlinewidth\":0,\"ticks\":\"\"},\"type\":\"choropleth\"}],\"contourcarpet\":[{\"colorbar\":{\"outlinewidth\":0,\"ticks\":\"\"},\"type\":\"contourcarpet\"}],\"contour\":[{\"colorbar\":{\"outlinewidth\":0,\"ticks\":\"\"},\"colorscale\":[[0.0,\"#0d0887\"],[0.1111111111111111,\"#46039f\"],[0.2222222222222222,\"#7201a8\"],[0.3333333333333333,\"#9c179e\"],[0.4444444444444444,\"#bd3786\"],[0.5555555555555556,\"#d8576b\"],[0.6666666666666666,\"#ed7953\"],[0.7777777777777778,\"#fb9f3a\"],[0.8888888888888888,\"#fdca26\"],[1.0,\"#f0f921\"]],\"type\":\"contour\"}],\"heatmapgl\":[{\"colorbar\":{\"outlinewidth\":0,\"ticks\":\"\"},\"colorscale\":[[0.0,\"#0d0887\"],[0.1111111111111111,\"#46039f\"],[0.2222222222222222,\"#7201a8\"],[0.3333333333333333,\"#9c179e\"],[0.4444444444444444,\"#bd3786\"],[0.5555555555555556,\"#d8576b\"],[0.6666666666666666,\"#ed7953\"],[0.7777777777777778,\"#fb9f3a\"],[0.8888888888888888,\"#fdca26\"],[1.0,\"#f0f921\"]],\"type\":\"heatmapgl\"}],\"heatmap\":[{\"colorbar\":{\"outlinewidth\":0,\"ticks\":\"\"},\"colorscale\":[[0.0,\"#0d0887\"],[0.1111111111111111,\"#46039f\"],[0.2222222222222222,\"#7201a8\"],[0.3333333333333333,\"#9c179e\"],[0.4444444444444444,\"#bd3786\"],[0.5555555555555556,\"#d8576b\"],[0.6666666666666666,\"#ed7953\"],[0.7777777777777778,\"#fb9f3a\"],[0.8888888888888888,\"#fdca26\"],[1.0,\"#f0f921\"]],\"type\":\"heatmap\"}],\"histogram2dcontour\":[{\"colorbar\":{\"outlinewidth\":0,\"ticks\":\"\"},\"colorscale\":[[0.0,\"#0d0887\"],[0.1111111111111111,\"#46039f\"],[0.2222222222222222,\"#7201a8\"],[0.3333333333333333,\"#9c179e\"],[0.4444444444444444,\"#bd3786\"],[0.5555555555555556,\"#d8576b\"],[0.6666666666666666,\"#ed7953\"],[0.7777777777777778,\"#fb9f3a\"],[0.8888888888888888,\"#fdca26\"],[1.0,\"#f0f921\"]],\"type\":\"histogram2dcontour\"}],\"histogram2d\":[{\"colorbar\":{\"outlinewidth\":0,\"ticks\":\"\"},\"colorscale\":[[0.0,\"#0d0887\"],[0.1111111111111111,\"#46039f\"],[0.2222222222222222,\"#7201a8\"],[0.3333333333333333,\"#9c179e\"],[0.4444444444444444,\"#bd3786\"],[0.5555555555555556,\"#d8576b\"],[0.6666666666666666,\"#ed7953\"],[0.7777777777777778,\"#fb9f3a\"],[0.8888888888888888,\"#fdca26\"],[1.0,\"#f0f921\"]],\"type\":\"histogram2d\"}],\"histogram\":[{\"marker\":{\"pattern\":{\"fillmode\":\"overlay\",\"size\":10,\"solidity\":0.2}},\"type\":\"histogram\"}],\"mesh3d\":[{\"colorbar\":{\"outlinewidth\":0,\"ticks\":\"\"},\"type\":\"mesh3d\"}],\"parcoords\":[{\"line\":{\"colorbar\":{\"outlinewidth\":0,\"ticks\":\"\"}},\"type\":\"parcoords\"}],\"pie\":[{\"automargin\":true,\"type\":\"pie\"}],\"scatter3d\":[{\"line\":{\"colorbar\":{\"outlinewidth\":0,\"ticks\":\"\"}},\"marker\":{\"colorbar\":{\"outlinewidth\":0,\"ticks\":\"\"}},\"type\":\"scatter3d\"}],\"scattercarpet\":[{\"marker\":{\"colorbar\":{\"outlinewidth\":0,\"ticks\":\"\"}},\"type\":\"scattercarpet\"}],\"scattergeo\":[{\"marker\":{\"colorbar\":{\"outlinewidth\":0,\"ticks\":\"\"}},\"type\":\"scattergeo\"}],\"scattergl\":[{\"marker\":{\"colorbar\":{\"outlinewidth\":0,\"ticks\":\"\"}},\"type\":\"scattergl\"}],\"scattermapbox\":[{\"marker\":{\"colorbar\":{\"outlinewidth\":0,\"ticks\":\"\"}},\"type\":\"scattermapbox\"}],\"scatterpolargl\":[{\"marker\":{\"colorbar\":{\"outlinewidth\":0,\"ticks\":\"\"}},\"type\":\"scatterpolargl\"}],\"scatterpolar\":[{\"marker\":{\"colorbar\":{\"outlinewidth\":0,\"ticks\":\"\"}},\"type\":\"scatterpolar\"}],\"scatter\":[{\"fillpattern\":{\"fillmode\":\"overlay\",\"size\":10,\"solidity\":0.2},\"type\":\"scatter\"}],\"scatterternary\":[{\"marker\":{\"colorbar\":{\"outlinewidth\":0,\"ticks\":\"\"}},\"type\":\"scatterternary\"}],\"surface\":[{\"colorbar\":{\"outlinewidth\":0,\"ticks\":\"\"},\"colorscale\":[[0.0,\"#0d0887\"],[0.1111111111111111,\"#46039f\"],[0.2222222222222222,\"#7201a8\"],[0.3333333333333333,\"#9c179e\"],[0.4444444444444444,\"#bd3786\"],[0.5555555555555556,\"#d8576b\"],[0.6666666666666666,\"#ed7953\"],[0.7777777777777778,\"#fb9f3a\"],[0.8888888888888888,\"#fdca26\"],[1.0,\"#f0f921\"]],\"type\":\"surface\"}],\"table\":[{\"cells\":{\"fill\":{\"color\":\"#EBF0F8\"},\"line\":{\"color\":\"white\"}},\"header\":{\"fill\":{\"color\":\"#C8D4E3\"},\"line\":{\"color\":\"white\"}},\"type\":\"table\"}]},\"layout\":{\"annotationdefaults\":{\"arrowcolor\":\"#2a3f5f\",\"arrowhead\":0,\"arrowwidth\":1},\"autotypenumbers\":\"strict\",\"coloraxis\":{\"colorbar\":{\"outlinewidth\":0,\"ticks\":\"\"}},\"colorscale\":{\"diverging\":[[0,\"#8e0152\"],[0.1,\"#c51b7d\"],[0.2,\"#de77ae\"],[0.3,\"#f1b6da\"],[0.4,\"#fde0ef\"],[0.5,\"#f7f7f7\"],[0.6,\"#e6f5d0\"],[0.7,\"#b8e186\"],[0.8,\"#7fbc41\"],[0.9,\"#4d9221\"],[1,\"#276419\"]],\"sequential\":[[0.0,\"#0d0887\"],[0.1111111111111111,\"#46039f\"],[0.2222222222222222,\"#7201a8\"],[0.3333333333333333,\"#9c179e\"],[0.4444444444444444,\"#bd3786\"],[0.5555555555555556,\"#d8576b\"],[0.6666666666666666,\"#ed7953\"],[0.7777777777777778,\"#fb9f3a\"],[0.8888888888888888,\"#fdca26\"],[1.0,\"#f0f921\"]],\"sequentialminus\":[[0.0,\"#0d0887\"],[0.1111111111111111,\"#46039f\"],[0.2222222222222222,\"#7201a8\"],[0.3333333333333333,\"#9c179e\"],[0.4444444444444444,\"#bd3786\"],[0.5555555555555556,\"#d8576b\"],[0.6666666666666666,\"#ed7953\"],[0.7777777777777778,\"#fb9f3a\"],[0.8888888888888888,\"#fdca26\"],[1.0,\"#f0f921\"]]},\"colorway\":[\"#636efa\",\"#EF553B\",\"#00cc96\",\"#ab63fa\",\"#FFA15A\",\"#19d3f3\",\"#FF6692\",\"#B6E880\",\"#FF97FF\",\"#FECB52\"],\"font\":{\"color\":\"#2a3f5f\"},\"geo\":{\"bgcolor\":\"white\",\"lakecolor\":\"white\",\"landcolor\":\"#E5ECF6\",\"showlakes\":true,\"showland\":true,\"subunitcolor\":\"white\"},\"hoverlabel\":{\"align\":\"left\"},\"hovermode\":\"closest\",\"mapbox\":{\"style\":\"light\"},\"paper_bgcolor\":\"white\",\"plot_bgcolor\":\"#E5ECF6\",\"polar\":{\"angularaxis\":{\"gridcolor\":\"white\",\"linecolor\":\"white\",\"ticks\":\"\"},\"bgcolor\":\"#E5ECF6\",\"radialaxis\":{\"gridcolor\":\"white\",\"linecolor\":\"white\",\"ticks\":\"\"}},\"scene\":{\"xaxis\":{\"backgroundcolor\":\"#E5ECF6\",\"gridcolor\":\"white\",\"gridwidth\":2,\"linecolor\":\"white\",\"showbackground\":true,\"ticks\":\"\",\"zerolinecolor\":\"white\"},\"yaxis\":{\"backgroundcolor\":\"#E5ECF6\",\"gridcolor\":\"white\",\"gridwidth\":2,\"linecolor\":\"white\",\"showbackground\":true,\"ticks\":\"\",\"zerolinecolor\":\"white\"},\"zaxis\":{\"backgroundcolor\":\"#E5ECF6\",\"gridcolor\":\"white\",\"gridwidth\":2,\"linecolor\":\"white\",\"showbackground\":true,\"ticks\":\"\",\"zerolinecolor\":\"white\"}},\"shapedefaults\":{\"line\":{\"color\":\"#2a3f5f\"}},\"ternary\":{\"aaxis\":{\"gridcolor\":\"white\",\"linecolor\":\"white\",\"ticks\":\"\"},\"baxis\":{\"gridcolor\":\"white\",\"linecolor\":\"white\",\"ticks\":\"\"},\"bgcolor\":\"#E5ECF6\",\"caxis\":{\"gridcolor\":\"white\",\"linecolor\":\"white\",\"ticks\":\"\"}},\"title\":{\"x\":0.05},\"xaxis\":{\"automargin\":true,\"gridcolor\":\"white\",\"linecolor\":\"white\",\"ticks\":\"\",\"title\":{\"standoff\":15},\"zerolinecolor\":\"white\",\"zerolinewidth\":2},\"yaxis\":{\"automargin\":true,\"gridcolor\":\"white\",\"linecolor\":\"white\",\"ticks\":\"\",\"title\":{\"standoff\":15},\"zerolinecolor\":\"white\",\"zerolinewidth\":2}}},\"title\":{\"font\":{\"color\":\"#4D5663\"}},\"xaxis\":{\"gridcolor\":\"#E1E5ED\",\"showgrid\":true,\"tickfont\":{\"color\":\"#4D5663\"},\"title\":{\"font\":{\"color\":\"#4D5663\"},\"text\":\"\"},\"zerolinecolor\":\"#E1E5ED\"},\"yaxis\":{\"gridcolor\":\"#E1E5ED\",\"showgrid\":true,\"tickfont\":{\"color\":\"#4D5663\"},\"title\":{\"font\":{\"color\":\"#4D5663\"},\"text\":\"\"},\"zerolinecolor\":\"#E1E5ED\"}},                        {\"showLink\": true, \"linkText\": \"Export to plot.ly\", \"plotlyServerURL\": \"https://plot.ly\", \"responsive\": true}                    ).then(function(){\n",
       "                            \n",
       "var gd = document.getElementById('ea8e60d2-88d9-439f-9903-671febceb593');\n",
       "var x = new MutationObserver(function (mutations, observer) {{\n",
       "        var display = window.getComputedStyle(gd).display;\n",
       "        if (!display || display === 'none') {{\n",
       "            console.log([gd, 'removed!']);\n",
       "            Plotly.purge(gd);\n",
       "            observer.disconnect();\n",
       "        }}\n",
       "}});\n",
       "\n",
       "// Listen for the removal of the full notebook cells\n",
       "var notebookContainer = gd.closest('#notebook-container');\n",
       "if (notebookContainer) {{\n",
       "    x.observe(notebookContainer, {childList: true});\n",
       "}}\n",
       "\n",
       "// Listen for the clearing of the current output cell\n",
       "var outputEl = gd.closest('.output');\n",
       "if (outputEl) {{\n",
       "    x.observe(outputEl, {childList: true});\n",
       "}}\n",
       "\n",
       "                        })                };                });            </script>        </div>"
      ]
     },
     "metadata": {},
     "output_type": "display_data"
    }
   ],
   "source": [
    "df.iplot(kind='scatter', x='A', y='B', mode='markers', size=20)"
   ]
  },
  {
   "cell_type": "markdown",
   "id": "708d1957",
   "metadata": {},
   "source": [
    "### Bar Plots"
   ]
  },
  {
   "cell_type": "code",
   "execution_count": 15,
   "id": "fca6d92e",
   "metadata": {},
   "outputs": [
    {
     "data": {
      "application/vnd.plotly.v1+json": {
       "config": {
        "linkText": "Export to plot.ly",
        "plotlyServerURL": "https://plot.ly",
        "showLink": true
       },
       "data": [
        {
         "marker": {
          "color": "rgba(255, 153, 51, 0.6)",
          "line": {
           "color": "rgba(255, 153, 51, 1.0)",
           "width": 1
          }
         },
         "name": "Values",
         "orientation": "v",
         "text": "",
         "type": "bar",
         "x": [
          "A",
          "B",
          "C"
         ],
         "y": [
          32,
          43,
          50
         ]
        }
       ],
       "layout": {
        "legend": {
         "bgcolor": "#F5F6F9",
         "font": {
          "color": "#4D5663"
         }
        },
        "paper_bgcolor": "#F5F6F9",
        "plot_bgcolor": "#F5F6F9",
        "template": {
         "data": {
          "bar": [
           {
            "error_x": {
             "color": "#2a3f5f"
            },
            "error_y": {
             "color": "#2a3f5f"
            },
            "marker": {
             "line": {
              "color": "#E5ECF6",
              "width": 0.5
             },
             "pattern": {
              "fillmode": "overlay",
              "size": 10,
              "solidity": 0.2
             }
            },
            "type": "bar"
           }
          ],
          "barpolar": [
           {
            "marker": {
             "line": {
              "color": "#E5ECF6",
              "width": 0.5
             },
             "pattern": {
              "fillmode": "overlay",
              "size": 10,
              "solidity": 0.2
             }
            },
            "type": "barpolar"
           }
          ],
          "carpet": [
           {
            "aaxis": {
             "endlinecolor": "#2a3f5f",
             "gridcolor": "white",
             "linecolor": "white",
             "minorgridcolor": "white",
             "startlinecolor": "#2a3f5f"
            },
            "baxis": {
             "endlinecolor": "#2a3f5f",
             "gridcolor": "white",
             "linecolor": "white",
             "minorgridcolor": "white",
             "startlinecolor": "#2a3f5f"
            },
            "type": "carpet"
           }
          ],
          "choropleth": [
           {
            "colorbar": {
             "outlinewidth": 0,
             "ticks": ""
            },
            "type": "choropleth"
           }
          ],
          "contour": [
           {
            "colorbar": {
             "outlinewidth": 0,
             "ticks": ""
            },
            "colorscale": [
             [
              0,
              "#0d0887"
             ],
             [
              0.1111111111111111,
              "#46039f"
             ],
             [
              0.2222222222222222,
              "#7201a8"
             ],
             [
              0.3333333333333333,
              "#9c179e"
             ],
             [
              0.4444444444444444,
              "#bd3786"
             ],
             [
              0.5555555555555556,
              "#d8576b"
             ],
             [
              0.6666666666666666,
              "#ed7953"
             ],
             [
              0.7777777777777778,
              "#fb9f3a"
             ],
             [
              0.8888888888888888,
              "#fdca26"
             ],
             [
              1,
              "#f0f921"
             ]
            ],
            "type": "contour"
           }
          ],
          "contourcarpet": [
           {
            "colorbar": {
             "outlinewidth": 0,
             "ticks": ""
            },
            "type": "contourcarpet"
           }
          ],
          "heatmap": [
           {
            "colorbar": {
             "outlinewidth": 0,
             "ticks": ""
            },
            "colorscale": [
             [
              0,
              "#0d0887"
             ],
             [
              0.1111111111111111,
              "#46039f"
             ],
             [
              0.2222222222222222,
              "#7201a8"
             ],
             [
              0.3333333333333333,
              "#9c179e"
             ],
             [
              0.4444444444444444,
              "#bd3786"
             ],
             [
              0.5555555555555556,
              "#d8576b"
             ],
             [
              0.6666666666666666,
              "#ed7953"
             ],
             [
              0.7777777777777778,
              "#fb9f3a"
             ],
             [
              0.8888888888888888,
              "#fdca26"
             ],
             [
              1,
              "#f0f921"
             ]
            ],
            "type": "heatmap"
           }
          ],
          "heatmapgl": [
           {
            "colorbar": {
             "outlinewidth": 0,
             "ticks": ""
            },
            "colorscale": [
             [
              0,
              "#0d0887"
             ],
             [
              0.1111111111111111,
              "#46039f"
             ],
             [
              0.2222222222222222,
              "#7201a8"
             ],
             [
              0.3333333333333333,
              "#9c179e"
             ],
             [
              0.4444444444444444,
              "#bd3786"
             ],
             [
              0.5555555555555556,
              "#d8576b"
             ],
             [
              0.6666666666666666,
              "#ed7953"
             ],
             [
              0.7777777777777778,
              "#fb9f3a"
             ],
             [
              0.8888888888888888,
              "#fdca26"
             ],
             [
              1,
              "#f0f921"
             ]
            ],
            "type": "heatmapgl"
           }
          ],
          "histogram": [
           {
            "marker": {
             "pattern": {
              "fillmode": "overlay",
              "size": 10,
              "solidity": 0.2
             }
            },
            "type": "histogram"
           }
          ],
          "histogram2d": [
           {
            "colorbar": {
             "outlinewidth": 0,
             "ticks": ""
            },
            "colorscale": [
             [
              0,
              "#0d0887"
             ],
             [
              0.1111111111111111,
              "#46039f"
             ],
             [
              0.2222222222222222,
              "#7201a8"
             ],
             [
              0.3333333333333333,
              "#9c179e"
             ],
             [
              0.4444444444444444,
              "#bd3786"
             ],
             [
              0.5555555555555556,
              "#d8576b"
             ],
             [
              0.6666666666666666,
              "#ed7953"
             ],
             [
              0.7777777777777778,
              "#fb9f3a"
             ],
             [
              0.8888888888888888,
              "#fdca26"
             ],
             [
              1,
              "#f0f921"
             ]
            ],
            "type": "histogram2d"
           }
          ],
          "histogram2dcontour": [
           {
            "colorbar": {
             "outlinewidth": 0,
             "ticks": ""
            },
            "colorscale": [
             [
              0,
              "#0d0887"
             ],
             [
              0.1111111111111111,
              "#46039f"
             ],
             [
              0.2222222222222222,
              "#7201a8"
             ],
             [
              0.3333333333333333,
              "#9c179e"
             ],
             [
              0.4444444444444444,
              "#bd3786"
             ],
             [
              0.5555555555555556,
              "#d8576b"
             ],
             [
              0.6666666666666666,
              "#ed7953"
             ],
             [
              0.7777777777777778,
              "#fb9f3a"
             ],
             [
              0.8888888888888888,
              "#fdca26"
             ],
             [
              1,
              "#f0f921"
             ]
            ],
            "type": "histogram2dcontour"
           }
          ],
          "mesh3d": [
           {
            "colorbar": {
             "outlinewidth": 0,
             "ticks": ""
            },
            "type": "mesh3d"
           }
          ],
          "parcoords": [
           {
            "line": {
             "colorbar": {
              "outlinewidth": 0,
              "ticks": ""
             }
            },
            "type": "parcoords"
           }
          ],
          "pie": [
           {
            "automargin": true,
            "type": "pie"
           }
          ],
          "scatter": [
           {
            "fillpattern": {
             "fillmode": "overlay",
             "size": 10,
             "solidity": 0.2
            },
            "type": "scatter"
           }
          ],
          "scatter3d": [
           {
            "line": {
             "colorbar": {
              "outlinewidth": 0,
              "ticks": ""
             }
            },
            "marker": {
             "colorbar": {
              "outlinewidth": 0,
              "ticks": ""
             }
            },
            "type": "scatter3d"
           }
          ],
          "scattercarpet": [
           {
            "marker": {
             "colorbar": {
              "outlinewidth": 0,
              "ticks": ""
             }
            },
            "type": "scattercarpet"
           }
          ],
          "scattergeo": [
           {
            "marker": {
             "colorbar": {
              "outlinewidth": 0,
              "ticks": ""
             }
            },
            "type": "scattergeo"
           }
          ],
          "scattergl": [
           {
            "marker": {
             "colorbar": {
              "outlinewidth": 0,
              "ticks": ""
             }
            },
            "type": "scattergl"
           }
          ],
          "scattermapbox": [
           {
            "marker": {
             "colorbar": {
              "outlinewidth": 0,
              "ticks": ""
             }
            },
            "type": "scattermapbox"
           }
          ],
          "scatterpolar": [
           {
            "marker": {
             "colorbar": {
              "outlinewidth": 0,
              "ticks": ""
             }
            },
            "type": "scatterpolar"
           }
          ],
          "scatterpolargl": [
           {
            "marker": {
             "colorbar": {
              "outlinewidth": 0,
              "ticks": ""
             }
            },
            "type": "scatterpolargl"
           }
          ],
          "scatterternary": [
           {
            "marker": {
             "colorbar": {
              "outlinewidth": 0,
              "ticks": ""
             }
            },
            "type": "scatterternary"
           }
          ],
          "surface": [
           {
            "colorbar": {
             "outlinewidth": 0,
             "ticks": ""
            },
            "colorscale": [
             [
              0,
              "#0d0887"
             ],
             [
              0.1111111111111111,
              "#46039f"
             ],
             [
              0.2222222222222222,
              "#7201a8"
             ],
             [
              0.3333333333333333,
              "#9c179e"
             ],
             [
              0.4444444444444444,
              "#bd3786"
             ],
             [
              0.5555555555555556,
              "#d8576b"
             ],
             [
              0.6666666666666666,
              "#ed7953"
             ],
             [
              0.7777777777777778,
              "#fb9f3a"
             ],
             [
              0.8888888888888888,
              "#fdca26"
             ],
             [
              1,
              "#f0f921"
             ]
            ],
            "type": "surface"
           }
          ],
          "table": [
           {
            "cells": {
             "fill": {
              "color": "#EBF0F8"
             },
             "line": {
              "color": "white"
             }
            },
            "header": {
             "fill": {
              "color": "#C8D4E3"
             },
             "line": {
              "color": "white"
             }
            },
            "type": "table"
           }
          ]
         },
         "layout": {
          "annotationdefaults": {
           "arrowcolor": "#2a3f5f",
           "arrowhead": 0,
           "arrowwidth": 1
          },
          "autotypenumbers": "strict",
          "coloraxis": {
           "colorbar": {
            "outlinewidth": 0,
            "ticks": ""
           }
          },
          "colorscale": {
           "diverging": [
            [
             0,
             "#8e0152"
            ],
            [
             0.1,
             "#c51b7d"
            ],
            [
             0.2,
             "#de77ae"
            ],
            [
             0.3,
             "#f1b6da"
            ],
            [
             0.4,
             "#fde0ef"
            ],
            [
             0.5,
             "#f7f7f7"
            ],
            [
             0.6,
             "#e6f5d0"
            ],
            [
             0.7,
             "#b8e186"
            ],
            [
             0.8,
             "#7fbc41"
            ],
            [
             0.9,
             "#4d9221"
            ],
            [
             1,
             "#276419"
            ]
           ],
           "sequential": [
            [
             0,
             "#0d0887"
            ],
            [
             0.1111111111111111,
             "#46039f"
            ],
            [
             0.2222222222222222,
             "#7201a8"
            ],
            [
             0.3333333333333333,
             "#9c179e"
            ],
            [
             0.4444444444444444,
             "#bd3786"
            ],
            [
             0.5555555555555556,
             "#d8576b"
            ],
            [
             0.6666666666666666,
             "#ed7953"
            ],
            [
             0.7777777777777778,
             "#fb9f3a"
            ],
            [
             0.8888888888888888,
             "#fdca26"
            ],
            [
             1,
             "#f0f921"
            ]
           ],
           "sequentialminus": [
            [
             0,
             "#0d0887"
            ],
            [
             0.1111111111111111,
             "#46039f"
            ],
            [
             0.2222222222222222,
             "#7201a8"
            ],
            [
             0.3333333333333333,
             "#9c179e"
            ],
            [
             0.4444444444444444,
             "#bd3786"
            ],
            [
             0.5555555555555556,
             "#d8576b"
            ],
            [
             0.6666666666666666,
             "#ed7953"
            ],
            [
             0.7777777777777778,
             "#fb9f3a"
            ],
            [
             0.8888888888888888,
             "#fdca26"
            ],
            [
             1,
             "#f0f921"
            ]
           ]
          },
          "colorway": [
           "#636efa",
           "#EF553B",
           "#00cc96",
           "#ab63fa",
           "#FFA15A",
           "#19d3f3",
           "#FF6692",
           "#B6E880",
           "#FF97FF",
           "#FECB52"
          ],
          "font": {
           "color": "#2a3f5f"
          },
          "geo": {
           "bgcolor": "white",
           "lakecolor": "white",
           "landcolor": "#E5ECF6",
           "showlakes": true,
           "showland": true,
           "subunitcolor": "white"
          },
          "hoverlabel": {
           "align": "left"
          },
          "hovermode": "closest",
          "mapbox": {
           "style": "light"
          },
          "paper_bgcolor": "white",
          "plot_bgcolor": "#E5ECF6",
          "polar": {
           "angularaxis": {
            "gridcolor": "white",
            "linecolor": "white",
            "ticks": ""
           },
           "bgcolor": "#E5ECF6",
           "radialaxis": {
            "gridcolor": "white",
            "linecolor": "white",
            "ticks": ""
           }
          },
          "scene": {
           "xaxis": {
            "backgroundcolor": "#E5ECF6",
            "gridcolor": "white",
            "gridwidth": 2,
            "linecolor": "white",
            "showbackground": true,
            "ticks": "",
            "zerolinecolor": "white"
           },
           "yaxis": {
            "backgroundcolor": "#E5ECF6",
            "gridcolor": "white",
            "gridwidth": 2,
            "linecolor": "white",
            "showbackground": true,
            "ticks": "",
            "zerolinecolor": "white"
           },
           "zaxis": {
            "backgroundcolor": "#E5ECF6",
            "gridcolor": "white",
            "gridwidth": 2,
            "linecolor": "white",
            "showbackground": true,
            "ticks": "",
            "zerolinecolor": "white"
           }
          },
          "shapedefaults": {
           "line": {
            "color": "#2a3f5f"
           }
          },
          "ternary": {
           "aaxis": {
            "gridcolor": "white",
            "linecolor": "white",
            "ticks": ""
           },
           "baxis": {
            "gridcolor": "white",
            "linecolor": "white",
            "ticks": ""
           },
           "bgcolor": "#E5ECF6",
           "caxis": {
            "gridcolor": "white",
            "linecolor": "white",
            "ticks": ""
           }
          },
          "title": {
           "x": 0.05
          },
          "xaxis": {
           "automargin": true,
           "gridcolor": "white",
           "linecolor": "white",
           "ticks": "",
           "title": {
            "standoff": 15
           },
           "zerolinecolor": "white",
           "zerolinewidth": 2
          },
          "yaxis": {
           "automargin": true,
           "gridcolor": "white",
           "linecolor": "white",
           "ticks": "",
           "title": {
            "standoff": 15
           },
           "zerolinecolor": "white",
           "zerolinewidth": 2
          }
         }
        },
        "title": {
         "font": {
          "color": "#4D5663"
         }
        },
        "xaxis": {
         "gridcolor": "#E1E5ED",
         "showgrid": true,
         "tickfont": {
          "color": "#4D5663"
         },
         "title": {
          "font": {
           "color": "#4D5663"
          },
          "text": ""
         },
         "zerolinecolor": "#E1E5ED"
        },
        "yaxis": {
         "gridcolor": "#E1E5ED",
         "showgrid": true,
         "tickfont": {
          "color": "#4D5663"
         },
         "title": {
          "font": {
           "color": "#4D5663"
          },
          "text": ""
         },
         "zerolinecolor": "#E1E5ED"
        }
       }
      },
      "text/html": [
       "<div>                            <div id=\"b26dbc5a-5c1c-43ed-b894-534a77e5f572\" class=\"plotly-graph-div\" style=\"height:525px; width:100%;\"></div>            <script type=\"text/javascript\">                require([\"plotly\"], function(Plotly) {                    window.PLOTLYENV=window.PLOTLYENV || {};\n",
       "                    window.PLOTLYENV.BASE_URL='https://plot.ly';                                    if (document.getElementById(\"b26dbc5a-5c1c-43ed-b894-534a77e5f572\")) {                    Plotly.newPlot(                        \"b26dbc5a-5c1c-43ed-b894-534a77e5f572\",                        [{\"marker\":{\"color\":\"rgba(255, 153, 51, 0.6)\",\"line\":{\"color\":\"rgba(255, 153, 51, 1.0)\",\"width\":1}},\"name\":\"Values\",\"orientation\":\"v\",\"text\":\"\",\"x\":[\"A\",\"B\",\"C\"],\"y\":[32,43,50],\"type\":\"bar\"}],                        {\"legend\":{\"bgcolor\":\"#F5F6F9\",\"font\":{\"color\":\"#4D5663\"}},\"paper_bgcolor\":\"#F5F6F9\",\"plot_bgcolor\":\"#F5F6F9\",\"template\":{\"data\":{\"barpolar\":[{\"marker\":{\"line\":{\"color\":\"#E5ECF6\",\"width\":0.5},\"pattern\":{\"fillmode\":\"overlay\",\"size\":10,\"solidity\":0.2}},\"type\":\"barpolar\"}],\"bar\":[{\"error_x\":{\"color\":\"#2a3f5f\"},\"error_y\":{\"color\":\"#2a3f5f\"},\"marker\":{\"line\":{\"color\":\"#E5ECF6\",\"width\":0.5},\"pattern\":{\"fillmode\":\"overlay\",\"size\":10,\"solidity\":0.2}},\"type\":\"bar\"}],\"carpet\":[{\"aaxis\":{\"endlinecolor\":\"#2a3f5f\",\"gridcolor\":\"white\",\"linecolor\":\"white\",\"minorgridcolor\":\"white\",\"startlinecolor\":\"#2a3f5f\"},\"baxis\":{\"endlinecolor\":\"#2a3f5f\",\"gridcolor\":\"white\",\"linecolor\":\"white\",\"minorgridcolor\":\"white\",\"startlinecolor\":\"#2a3f5f\"},\"type\":\"carpet\"}],\"choropleth\":[{\"colorbar\":{\"outlinewidth\":0,\"ticks\":\"\"},\"type\":\"choropleth\"}],\"contourcarpet\":[{\"colorbar\":{\"outlinewidth\":0,\"ticks\":\"\"},\"type\":\"contourcarpet\"}],\"contour\":[{\"colorbar\":{\"outlinewidth\":0,\"ticks\":\"\"},\"colorscale\":[[0.0,\"#0d0887\"],[0.1111111111111111,\"#46039f\"],[0.2222222222222222,\"#7201a8\"],[0.3333333333333333,\"#9c179e\"],[0.4444444444444444,\"#bd3786\"],[0.5555555555555556,\"#d8576b\"],[0.6666666666666666,\"#ed7953\"],[0.7777777777777778,\"#fb9f3a\"],[0.8888888888888888,\"#fdca26\"],[1.0,\"#f0f921\"]],\"type\":\"contour\"}],\"heatmapgl\":[{\"colorbar\":{\"outlinewidth\":0,\"ticks\":\"\"},\"colorscale\":[[0.0,\"#0d0887\"],[0.1111111111111111,\"#46039f\"],[0.2222222222222222,\"#7201a8\"],[0.3333333333333333,\"#9c179e\"],[0.4444444444444444,\"#bd3786\"],[0.5555555555555556,\"#d8576b\"],[0.6666666666666666,\"#ed7953\"],[0.7777777777777778,\"#fb9f3a\"],[0.8888888888888888,\"#fdca26\"],[1.0,\"#f0f921\"]],\"type\":\"heatmapgl\"}],\"heatmap\":[{\"colorbar\":{\"outlinewidth\":0,\"ticks\":\"\"},\"colorscale\":[[0.0,\"#0d0887\"],[0.1111111111111111,\"#46039f\"],[0.2222222222222222,\"#7201a8\"],[0.3333333333333333,\"#9c179e\"],[0.4444444444444444,\"#bd3786\"],[0.5555555555555556,\"#d8576b\"],[0.6666666666666666,\"#ed7953\"],[0.7777777777777778,\"#fb9f3a\"],[0.8888888888888888,\"#fdca26\"],[1.0,\"#f0f921\"]],\"type\":\"heatmap\"}],\"histogram2dcontour\":[{\"colorbar\":{\"outlinewidth\":0,\"ticks\":\"\"},\"colorscale\":[[0.0,\"#0d0887\"],[0.1111111111111111,\"#46039f\"],[0.2222222222222222,\"#7201a8\"],[0.3333333333333333,\"#9c179e\"],[0.4444444444444444,\"#bd3786\"],[0.5555555555555556,\"#d8576b\"],[0.6666666666666666,\"#ed7953\"],[0.7777777777777778,\"#fb9f3a\"],[0.8888888888888888,\"#fdca26\"],[1.0,\"#f0f921\"]],\"type\":\"histogram2dcontour\"}],\"histogram2d\":[{\"colorbar\":{\"outlinewidth\":0,\"ticks\":\"\"},\"colorscale\":[[0.0,\"#0d0887\"],[0.1111111111111111,\"#46039f\"],[0.2222222222222222,\"#7201a8\"],[0.3333333333333333,\"#9c179e\"],[0.4444444444444444,\"#bd3786\"],[0.5555555555555556,\"#d8576b\"],[0.6666666666666666,\"#ed7953\"],[0.7777777777777778,\"#fb9f3a\"],[0.8888888888888888,\"#fdca26\"],[1.0,\"#f0f921\"]],\"type\":\"histogram2d\"}],\"histogram\":[{\"marker\":{\"pattern\":{\"fillmode\":\"overlay\",\"size\":10,\"solidity\":0.2}},\"type\":\"histogram\"}],\"mesh3d\":[{\"colorbar\":{\"outlinewidth\":0,\"ticks\":\"\"},\"type\":\"mesh3d\"}],\"parcoords\":[{\"line\":{\"colorbar\":{\"outlinewidth\":0,\"ticks\":\"\"}},\"type\":\"parcoords\"}],\"pie\":[{\"automargin\":true,\"type\":\"pie\"}],\"scatter3d\":[{\"line\":{\"colorbar\":{\"outlinewidth\":0,\"ticks\":\"\"}},\"marker\":{\"colorbar\":{\"outlinewidth\":0,\"ticks\":\"\"}},\"type\":\"scatter3d\"}],\"scattercarpet\":[{\"marker\":{\"colorbar\":{\"outlinewidth\":0,\"ticks\":\"\"}},\"type\":\"scattercarpet\"}],\"scattergeo\":[{\"marker\":{\"colorbar\":{\"outlinewidth\":0,\"ticks\":\"\"}},\"type\":\"scattergeo\"}],\"scattergl\":[{\"marker\":{\"colorbar\":{\"outlinewidth\":0,\"ticks\":\"\"}},\"type\":\"scattergl\"}],\"scattermapbox\":[{\"marker\":{\"colorbar\":{\"outlinewidth\":0,\"ticks\":\"\"}},\"type\":\"scattermapbox\"}],\"scatterpolargl\":[{\"marker\":{\"colorbar\":{\"outlinewidth\":0,\"ticks\":\"\"}},\"type\":\"scatterpolargl\"}],\"scatterpolar\":[{\"marker\":{\"colorbar\":{\"outlinewidth\":0,\"ticks\":\"\"}},\"type\":\"scatterpolar\"}],\"scatter\":[{\"fillpattern\":{\"fillmode\":\"overlay\",\"size\":10,\"solidity\":0.2},\"type\":\"scatter\"}],\"scatterternary\":[{\"marker\":{\"colorbar\":{\"outlinewidth\":0,\"ticks\":\"\"}},\"type\":\"scatterternary\"}],\"surface\":[{\"colorbar\":{\"outlinewidth\":0,\"ticks\":\"\"},\"colorscale\":[[0.0,\"#0d0887\"],[0.1111111111111111,\"#46039f\"],[0.2222222222222222,\"#7201a8\"],[0.3333333333333333,\"#9c179e\"],[0.4444444444444444,\"#bd3786\"],[0.5555555555555556,\"#d8576b\"],[0.6666666666666666,\"#ed7953\"],[0.7777777777777778,\"#fb9f3a\"],[0.8888888888888888,\"#fdca26\"],[1.0,\"#f0f921\"]],\"type\":\"surface\"}],\"table\":[{\"cells\":{\"fill\":{\"color\":\"#EBF0F8\"},\"line\":{\"color\":\"white\"}},\"header\":{\"fill\":{\"color\":\"#C8D4E3\"},\"line\":{\"color\":\"white\"}},\"type\":\"table\"}]},\"layout\":{\"annotationdefaults\":{\"arrowcolor\":\"#2a3f5f\",\"arrowhead\":0,\"arrowwidth\":1},\"autotypenumbers\":\"strict\",\"coloraxis\":{\"colorbar\":{\"outlinewidth\":0,\"ticks\":\"\"}},\"colorscale\":{\"diverging\":[[0,\"#8e0152\"],[0.1,\"#c51b7d\"],[0.2,\"#de77ae\"],[0.3,\"#f1b6da\"],[0.4,\"#fde0ef\"],[0.5,\"#f7f7f7\"],[0.6,\"#e6f5d0\"],[0.7,\"#b8e186\"],[0.8,\"#7fbc41\"],[0.9,\"#4d9221\"],[1,\"#276419\"]],\"sequential\":[[0.0,\"#0d0887\"],[0.1111111111111111,\"#46039f\"],[0.2222222222222222,\"#7201a8\"],[0.3333333333333333,\"#9c179e\"],[0.4444444444444444,\"#bd3786\"],[0.5555555555555556,\"#d8576b\"],[0.6666666666666666,\"#ed7953\"],[0.7777777777777778,\"#fb9f3a\"],[0.8888888888888888,\"#fdca26\"],[1.0,\"#f0f921\"]],\"sequentialminus\":[[0.0,\"#0d0887\"],[0.1111111111111111,\"#46039f\"],[0.2222222222222222,\"#7201a8\"],[0.3333333333333333,\"#9c179e\"],[0.4444444444444444,\"#bd3786\"],[0.5555555555555556,\"#d8576b\"],[0.6666666666666666,\"#ed7953\"],[0.7777777777777778,\"#fb9f3a\"],[0.8888888888888888,\"#fdca26\"],[1.0,\"#f0f921\"]]},\"colorway\":[\"#636efa\",\"#EF553B\",\"#00cc96\",\"#ab63fa\",\"#FFA15A\",\"#19d3f3\",\"#FF6692\",\"#B6E880\",\"#FF97FF\",\"#FECB52\"],\"font\":{\"color\":\"#2a3f5f\"},\"geo\":{\"bgcolor\":\"white\",\"lakecolor\":\"white\",\"landcolor\":\"#E5ECF6\",\"showlakes\":true,\"showland\":true,\"subunitcolor\":\"white\"},\"hoverlabel\":{\"align\":\"left\"},\"hovermode\":\"closest\",\"mapbox\":{\"style\":\"light\"},\"paper_bgcolor\":\"white\",\"plot_bgcolor\":\"#E5ECF6\",\"polar\":{\"angularaxis\":{\"gridcolor\":\"white\",\"linecolor\":\"white\",\"ticks\":\"\"},\"bgcolor\":\"#E5ECF6\",\"radialaxis\":{\"gridcolor\":\"white\",\"linecolor\":\"white\",\"ticks\":\"\"}},\"scene\":{\"xaxis\":{\"backgroundcolor\":\"#E5ECF6\",\"gridcolor\":\"white\",\"gridwidth\":2,\"linecolor\":\"white\",\"showbackground\":true,\"ticks\":\"\",\"zerolinecolor\":\"white\"},\"yaxis\":{\"backgroundcolor\":\"#E5ECF6\",\"gridcolor\":\"white\",\"gridwidth\":2,\"linecolor\":\"white\",\"showbackground\":true,\"ticks\":\"\",\"zerolinecolor\":\"white\"},\"zaxis\":{\"backgroundcolor\":\"#E5ECF6\",\"gridcolor\":\"white\",\"gridwidth\":2,\"linecolor\":\"white\",\"showbackground\":true,\"ticks\":\"\",\"zerolinecolor\":\"white\"}},\"shapedefaults\":{\"line\":{\"color\":\"#2a3f5f\"}},\"ternary\":{\"aaxis\":{\"gridcolor\":\"white\",\"linecolor\":\"white\",\"ticks\":\"\"},\"baxis\":{\"gridcolor\":\"white\",\"linecolor\":\"white\",\"ticks\":\"\"},\"bgcolor\":\"#E5ECF6\",\"caxis\":{\"gridcolor\":\"white\",\"linecolor\":\"white\",\"ticks\":\"\"}},\"title\":{\"x\":0.05},\"xaxis\":{\"automargin\":true,\"gridcolor\":\"white\",\"linecolor\":\"white\",\"ticks\":\"\",\"title\":{\"standoff\":15},\"zerolinecolor\":\"white\",\"zerolinewidth\":2},\"yaxis\":{\"automargin\":true,\"gridcolor\":\"white\",\"linecolor\":\"white\",\"ticks\":\"\",\"title\":{\"standoff\":15},\"zerolinecolor\":\"white\",\"zerolinewidth\":2}}},\"title\":{\"font\":{\"color\":\"#4D5663\"}},\"xaxis\":{\"gridcolor\":\"#E1E5ED\",\"showgrid\":true,\"tickfont\":{\"color\":\"#4D5663\"},\"title\":{\"font\":{\"color\":\"#4D5663\"},\"text\":\"\"},\"zerolinecolor\":\"#E1E5ED\"},\"yaxis\":{\"gridcolor\":\"#E1E5ED\",\"showgrid\":true,\"tickfont\":{\"color\":\"#4D5663\"},\"title\":{\"font\":{\"color\":\"#4D5663\"},\"text\":\"\"},\"zerolinecolor\":\"#E1E5ED\"}},                        {\"showLink\": true, \"linkText\": \"Export to plot.ly\", \"plotlyServerURL\": \"https://plot.ly\", \"responsive\": true}                    ).then(function(){\n",
       "                            \n",
       "var gd = document.getElementById('b26dbc5a-5c1c-43ed-b894-534a77e5f572');\n",
       "var x = new MutationObserver(function (mutations, observer) {{\n",
       "        var display = window.getComputedStyle(gd).display;\n",
       "        if (!display || display === 'none') {{\n",
       "            console.log([gd, 'removed!']);\n",
       "            Plotly.purge(gd);\n",
       "            observer.disconnect();\n",
       "        }}\n",
       "}});\n",
       "\n",
       "// Listen for the removal of the full notebook cells\n",
       "var notebookContainer = gd.closest('#notebook-container');\n",
       "if (notebookContainer) {{\n",
       "    x.observe(notebookContainer, {childList: true});\n",
       "}}\n",
       "\n",
       "// Listen for the clearing of the current output cell\n",
       "var outputEl = gd.closest('.output');\n",
       "if (outputEl) {{\n",
       "    x.observe(outputEl, {childList: true});\n",
       "}}\n",
       "\n",
       "                        })                };                });            </script>        </div>"
      ]
     },
     "metadata": {},
     "output_type": "display_data"
    }
   ],
   "source": [
    "df2.iplot(kind='bar', x='Category', y='Values')"
   ]
  },
  {
   "cell_type": "code",
   "execution_count": 16,
   "id": "2eb91eb6",
   "metadata": {},
   "outputs": [
    {
     "data": {
      "application/vnd.plotly.v1+json": {
       "config": {
        "linkText": "Export to plot.ly",
        "plotlyServerURL": "https://plot.ly",
        "showLink": true
       },
       "data": [
        {
         "marker": {
          "color": "rgba(255, 153, 51, 0.6)",
          "line": {
           "color": "rgba(255, 153, 51, 1.0)",
           "width": 1
          }
         },
         "name": "A",
         "orientation": "v",
         "text": "",
         "type": "bar",
         "x": [
          0,
          1,
          2,
          3,
          4,
          5,
          6,
          7,
          8,
          9,
          10,
          11,
          12,
          13,
          14,
          15,
          16,
          17,
          18,
          19,
          20,
          21,
          22,
          23,
          24,
          25,
          26,
          27,
          28,
          29,
          30,
          31,
          32,
          33,
          34,
          35,
          36,
          37,
          38,
          39,
          40,
          41,
          42,
          43,
          44,
          45,
          46,
          47,
          48,
          49,
          50,
          51,
          52,
          53,
          54,
          55,
          56,
          57,
          58,
          59,
          60,
          61,
          62,
          63,
          64,
          65,
          66,
          67,
          68,
          69,
          70,
          71,
          72,
          73,
          74,
          75,
          76,
          77,
          78,
          79,
          80,
          81,
          82,
          83,
          84,
          85,
          86,
          87,
          88,
          89,
          90,
          91,
          92,
          93,
          94,
          95,
          96,
          97,
          98,
          99
         ],
         "y": [
          0.778457933302214,
          -0.9680449357550578,
          0.39359084183301096,
          -1.2394985928585338,
          -0.2164835093388013,
          -0.1356228708503378,
          -1.2521746730325765,
          -1.0835243246963888,
          0.6250752248509963,
          0.7718451818596955,
          0.4318676271026053,
          -0.8686984687467546,
          0.18229522144610463,
          -0.17752709417956644,
          -0.7853823575966619,
          -0.06893337907779387,
          -0.9466983840211649,
          -0.9221095109610769,
          1.5774648689521218,
          0.3930242065630447,
          0.8277738191842602,
          -0.8241508298553344,
          0.07495661144670138,
          -0.3590170031546842,
          1.2734557212058224,
          -1.504383022229239,
          -0.12596790196229846,
          0.6123225576918307,
          0.3426474625945798,
          0.846089362700548,
          1.3523055165355302,
          0.284811559971216,
          -1.6013083992544557,
          1.6679084568187605,
          1.5145816453277892,
          -0.0046250819630932315,
          -0.07829149222527237,
          0.9916207650528954,
          1.1145048640682926,
          -1.089729192815636,
          0.17314040189558932,
          -0.033796344362975864,
          0.07562690561269443,
          1.892594834465393,
          -1.8348706724093262,
          1.2584334190829263,
          0.17218282514485775,
          0.34213290139111757,
          -0.7402663222325283,
          -0.588544402128247,
          -0.27975100910657263,
          -0.36609359684194237,
          -0.8452472534162175,
          -0.4468861894570877,
          0.6034241098470298,
          3.1023651388360145,
          0.214644091222445,
          -0.8612338237196326,
          0.13263420361251016,
          -0.9710094581449149,
          0.7227469378577297,
          -0.7822128929376538,
          -0.22143889112664097,
          0.14416334626005273,
          -0.8833756073627672,
          1.2612268675473937,
          0.7928279434498183,
          -1.0251422302062176,
          -0.4536854547609093,
          -0.45958745335640483,
          0.5182900495849041,
          0.850977459520938,
          0.04421513310499319,
          -1.1175849668722495,
          -0.8030693507661488,
          1.92519394398426,
          0.7217912827510005,
          -0.3116468245019817,
          -1.750355552577647,
          -0.6873302147493952,
          1.5993325144520412,
          1.2093688325747638,
          0.7382608277486163,
          -0.01307177710019666,
          0.4249358964426604,
          1.8114662802257053,
          -0.23812364488121177,
          -0.04821109509459664,
          -0.47886446654041864,
          -0.4038921916964521,
          0.5091420384625585,
          0.4801272970933442,
          -0.48912145451354583,
          -1.147042924817787,
          -0.01032179386658933,
          0.1321566262110016,
          -0.384385463475132,
          1.2891000679608127,
          0.9391036286315693,
          1.0197304435884655
         ]
        },
        {
         "marker": {
          "color": "rgba(55, 128, 191, 0.6)",
          "line": {
           "color": "rgba(55, 128, 191, 1.0)",
           "width": 1
          }
         },
         "name": "B",
         "orientation": "v",
         "text": "",
         "type": "bar",
         "x": [
          0,
          1,
          2,
          3,
          4,
          5,
          6,
          7,
          8,
          9,
          10,
          11,
          12,
          13,
          14,
          15,
          16,
          17,
          18,
          19,
          20,
          21,
          22,
          23,
          24,
          25,
          26,
          27,
          28,
          29,
          30,
          31,
          32,
          33,
          34,
          35,
          36,
          37,
          38,
          39,
          40,
          41,
          42,
          43,
          44,
          45,
          46,
          47,
          48,
          49,
          50,
          51,
          52,
          53,
          54,
          55,
          56,
          57,
          58,
          59,
          60,
          61,
          62,
          63,
          64,
          65,
          66,
          67,
          68,
          69,
          70,
          71,
          72,
          73,
          74,
          75,
          76,
          77,
          78,
          79,
          80,
          81,
          82,
          83,
          84,
          85,
          86,
          87,
          88,
          89,
          90,
          91,
          92,
          93,
          94,
          95,
          96,
          97,
          98,
          99
         ],
         "y": [
          -0.12418495906275873,
          0.5285054303759434,
          -0.6483376777606301,
          -0.2882240309938093,
          0.5736212497816112,
          2.239254267902068,
          -3.7132010957566717,
          -0.827361314325003,
          -0.07056871306249225,
          0.4485007765695378,
          -1.1425087248215398,
          0.713665370670025,
          -0.12237518106470253,
          -1.5779230985738613,
          -1.6518453654137415,
          0.7872739570953827,
          0.6696097676881092,
          0.12485407678766407,
          -0.2592731741227891,
          -0.6034697000193865,
          -0.1634147137662408,
          -0.9185909367956211,
          -1.5225614971140846,
          0.32708339513992823,
          -0.7881580126865311,
          -0.253793228203105,
          -0.20667844715897066,
          0.9083395167937691,
          0.48256960720999503,
          -0.9609842265734008,
          -0.9045949603882426,
          -0.8259097380548978,
          -0.4414993729915333,
          -0.2965042673868797,
          -1.8110254612575696,
          -0.6947125921837172,
          0.22518886816166567,
          0.9620639813793939,
          -1.4689365913873842,
          -0.5002907290334543,
          0.15554850993818742,
          1.0644877346151136,
          0.08741835263849135,
          -1.2266050665518022,
          0.009267372916793585,
          0.9365478847521909,
          -0.06849812894451411,
          0.572511977530958,
          0.2490562834386925,
          -0.7544740172893082,
          0.6270155247426541,
          0.4392751700611625,
          0.8876910389681761,
          0.6895447204388416,
          -0.08376221605853913,
          0.7519574530059915,
          0.7928931750275154,
          -0.07844246435307307,
          -0.6610778230711215,
          0.4710622226800591,
          -3.102751806348052,
          1.3879524318512182,
          -1.9793711097598718,
          0.08488617246516036,
          -1.6306338131169662,
          0.31209134076027195,
          1.527604855019396,
          2.0868502636121495,
          -0.41398376859852154,
          -0.5958562882694559,
          0.1407586248600635,
          1.1241522625681128,
          -0.7699943106290851,
          0.13748390446668632,
          -1.0344313621767662,
          1.589065501698242,
          -1.483419352532759,
          1.1109792033938501,
          0.6953782435953554,
          0.5181307791043384,
          1.3792400569088539,
          -0.19834484065509467,
          -1.6984989450444554,
          0.6454744077409759,
          1.156837525492291,
          -1.3392031859801345,
          -1.0476297371919077,
          0.8978011452694012,
          0.21692629572147912,
          -0.4597509119081817,
          0.19481940643523454,
          -0.08341557197324237,
          0.7726127026487843,
          -1.6792646825069584,
          -0.6350127596847416,
          1.0570017823937987,
          -1.0115000812255166,
          -1.5882588060836178,
          -1.8493217471273957,
          -1.1361901014810987
         ]
        },
        {
         "marker": {
          "color": "rgba(50, 171, 96, 0.6)",
          "line": {
           "color": "rgba(50, 171, 96, 1.0)",
           "width": 1
          }
         },
         "name": "C",
         "orientation": "v",
         "text": "",
         "type": "bar",
         "x": [
          0,
          1,
          2,
          3,
          4,
          5,
          6,
          7,
          8,
          9,
          10,
          11,
          12,
          13,
          14,
          15,
          16,
          17,
          18,
          19,
          20,
          21,
          22,
          23,
          24,
          25,
          26,
          27,
          28,
          29,
          30,
          31,
          32,
          33,
          34,
          35,
          36,
          37,
          38,
          39,
          40,
          41,
          42,
          43,
          44,
          45,
          46,
          47,
          48,
          49,
          50,
          51,
          52,
          53,
          54,
          55,
          56,
          57,
          58,
          59,
          60,
          61,
          62,
          63,
          64,
          65,
          66,
          67,
          68,
          69,
          70,
          71,
          72,
          73,
          74,
          75,
          76,
          77,
          78,
          79,
          80,
          81,
          82,
          83,
          84,
          85,
          86,
          87,
          88,
          89,
          90,
          91,
          92,
          93,
          94,
          95,
          96,
          97,
          98,
          99
         ],
         "y": [
          -0.03802047411749776,
          0.8773557408303123,
          -1.118725034659502,
          -0.10026853830176642,
          -0.7732404050535409,
          0.5046837399056341,
          1.0405541917419667,
          0.12608346116189315,
          0.40577463423542737,
          -0.7153215479409281,
          1.327560943752907,
          1.1656233384029329,
          -2.556184188197719,
          0.180403725260928,
          -0.6420497906812835,
          0.08261155402733383,
          -0.8722369739240854,
          -0.5958593510195808,
          0.5411573911111616,
          1.5574465766371541,
          0.35858615040219993,
          0.1359352618178365,
          1.2729618354111418,
          -0.724388992300664,
          0.8689737956283615,
          1.0324712942410976,
          -0.10856722968255036,
          0.47116535782786606,
          0.9854431855075556,
          0.5648817725467724,
          -0.6741775517296723,
          -0.08507260800209669,
          -1.8491296419326837,
          1.1585345801397426,
          0.7410669957381095,
          0.2377646618768121,
          0.19636956338180683,
          1.5272074918028045,
          -0.29867294983582043,
          -0.1412752058259444,
          0.9105342836340018,
          -0.16649235126773396,
          -0.7152579905771318,
          1.4136319519783282,
          -0.3128878018946804,
          -0.433290552957218,
          0.8179761999340025,
          -1.3827284215191413,
          -0.24279974102893276,
          0.11564818225015172,
          0.4496854850035945,
          -0.4559239150446873,
          -2.252429793836703,
          -0.8597249668399786,
          -2.460767890721159,
          -0.08821510633908855,
          -0.7027062778648545,
          -0.3130299866317652,
          1.0320592354230556,
          -0.777357882169852,
          -2.3438996888466708,
          -0.5605666594946894,
          0.06741236942830532,
          -1.649231246416628,
          0.22273379564641857,
          0.13066572471482163,
          0.5362449801226784,
          1.4914964504089971,
          2.2322188903267848,
          -1.112526390987042,
          0.1861509871569323,
          1.1601974306427612,
          1.2891048070459077,
          0.9421954734630205,
          1.175179094583278,
          0.8345503271306458,
          0.3124997756836522,
          0.7382997585383295,
          2.3441395948533015,
          -1.4850691091821289,
          0.3943088653341731,
          -0.7125698889211279,
          -0.9260100929069468,
          0.9521314338176424,
          -1.3468987254887934,
          0.07818695724198196,
          -0.48812591175553643,
          -0.22272894573145505,
          -0.8905830222532648,
          0.5555690475707767,
          -0.7112369108121137,
          -0.893619327106401,
          2.1987281322799466,
          -0.7478258734501629,
          -0.11900790060739504,
          -0.8285148541919645,
          0.3855746642174358,
          -0.29794909083781856,
          -0.16683726369167023,
          -0.8803568268703029
         ]
        },
        {
         "marker": {
          "color": "rgba(128, 0, 128, 0.6)",
          "line": {
           "color": "rgba(128, 0, 128, 1.0)",
           "width": 1
          }
         },
         "name": "D",
         "orientation": "v",
         "text": "",
         "type": "bar",
         "x": [
          0,
          1,
          2,
          3,
          4,
          5,
          6,
          7,
          8,
          9,
          10,
          11,
          12,
          13,
          14,
          15,
          16,
          17,
          18,
          19,
          20,
          21,
          22,
          23,
          24,
          25,
          26,
          27,
          28,
          29,
          30,
          31,
          32,
          33,
          34,
          35,
          36,
          37,
          38,
          39,
          40,
          41,
          42,
          43,
          44,
          45,
          46,
          47,
          48,
          49,
          50,
          51,
          52,
          53,
          54,
          55,
          56,
          57,
          58,
          59,
          60,
          61,
          62,
          63,
          64,
          65,
          66,
          67,
          68,
          69,
          70,
          71,
          72,
          73,
          74,
          75,
          76,
          77,
          78,
          79,
          80,
          81,
          82,
          83,
          84,
          85,
          86,
          87,
          88,
          89,
          90,
          91,
          92,
          93,
          94,
          95,
          96,
          97,
          98,
          99
         ],
         "y": [
          0.19364859956418953,
          0.18583207547663305,
          1.9923921588463627,
          1.3188125240482078,
          0.537805874410933,
          -0.03848186401102001,
          -0.32930061650478093,
          2.2958952087568933,
          0.466505724210726,
          -0.7716409579262643,
          0.5784030178865545,
          -0.3085829845995051,
          1.0569521428997875,
          -0.021678681671287593,
          -0.15327032167682586,
          0.38532094024232333,
          1.624630133457499,
          1.6736838752131884,
          0.507620878463986,
          -1.3331888479271912,
          -0.008692936117062714,
          1.2755057690525256,
          0.8334251065844482,
          0.10786480563820008,
          -1.4328300955495161,
          0.6307401316199052,
          0.3757313710757838,
          -0.12381204243145601,
          2.444630116068402,
          1.2776539720839692,
          -0.2753571484946713,
          1.074406283764291,
          0.8935449560464446,
          0.8226339589212641,
          -0.3760182003569667,
          -0.5435492836183557,
          -1.204887322087643,
          -0.6063927925516598,
          -1.0747457830894218,
          0.2609786837151405,
          0.8486504892819745,
          -1.1875268382847586,
          0.7291652246195226,
          -0.2714729225650268,
          -0.3149788852602245,
          0.5933801088684901,
          -0.7001484527953258,
          0.31057113592398455,
          0.8941997046364684,
          0.696871322191756,
          0.9667732459813809,
          0.0795886917274917,
          1.4708668673386436,
          1.435440588634307,
          1.5617836556337106,
          -1.9930260097477197,
          0.33343907469044654,
          0.7127913736643632,
          0.43648801789717556,
          -0.48176628908925917,
          2.1851520391957804,
          -0.2831216918398867,
          1.5002057782776956,
          -0.7422075662104347,
          0.4674871043293601,
          1.487680377713003,
          -0.8109754686950558,
          1.1836151400260517,
          -3.2886518125876725,
          0.47420116098063736,
          0.4156506373988291,
          -1.4147882771469515,
          1.706363977610135,
          0.2884294207465923,
          0.14815841816801092,
          -0.6279943804082091,
          -0.5284554553268069,
          -1.3528423917747028,
          0.7441972948781518,
          -0.5380758183313948,
          -1.4680677526079209,
          0.42836894521875163,
          0.4874581159173152,
          -0.03322481239843942,
          -0.4362206070834838,
          -2.235968198210766,
          0.5219170909718297,
          0.7372645208846011,
          1.3745998157042327,
          -0.34707955390016204,
          -1.5015300123463025,
          1.0820404851499366,
          -0.526174680349923,
          1.1793021497147862,
          -0.10148494094334251,
          1.2444090645162498,
          2.236896752361946,
          0.4292984789795256,
          0.7317923794372792,
          -1.2032486736964108
         ]
        }
       ],
       "layout": {
        "legend": {
         "bgcolor": "#F5F6F9",
         "font": {
          "color": "#4D5663"
         }
        },
        "paper_bgcolor": "#F5F6F9",
        "plot_bgcolor": "#F5F6F9",
        "template": {
         "data": {
          "bar": [
           {
            "error_x": {
             "color": "#2a3f5f"
            },
            "error_y": {
             "color": "#2a3f5f"
            },
            "marker": {
             "line": {
              "color": "#E5ECF6",
              "width": 0.5
             },
             "pattern": {
              "fillmode": "overlay",
              "size": 10,
              "solidity": 0.2
             }
            },
            "type": "bar"
           }
          ],
          "barpolar": [
           {
            "marker": {
             "line": {
              "color": "#E5ECF6",
              "width": 0.5
             },
             "pattern": {
              "fillmode": "overlay",
              "size": 10,
              "solidity": 0.2
             }
            },
            "type": "barpolar"
           }
          ],
          "carpet": [
           {
            "aaxis": {
             "endlinecolor": "#2a3f5f",
             "gridcolor": "white",
             "linecolor": "white",
             "minorgridcolor": "white",
             "startlinecolor": "#2a3f5f"
            },
            "baxis": {
             "endlinecolor": "#2a3f5f",
             "gridcolor": "white",
             "linecolor": "white",
             "minorgridcolor": "white",
             "startlinecolor": "#2a3f5f"
            },
            "type": "carpet"
           }
          ],
          "choropleth": [
           {
            "colorbar": {
             "outlinewidth": 0,
             "ticks": ""
            },
            "type": "choropleth"
           }
          ],
          "contour": [
           {
            "colorbar": {
             "outlinewidth": 0,
             "ticks": ""
            },
            "colorscale": [
             [
              0,
              "#0d0887"
             ],
             [
              0.1111111111111111,
              "#46039f"
             ],
             [
              0.2222222222222222,
              "#7201a8"
             ],
             [
              0.3333333333333333,
              "#9c179e"
             ],
             [
              0.4444444444444444,
              "#bd3786"
             ],
             [
              0.5555555555555556,
              "#d8576b"
             ],
             [
              0.6666666666666666,
              "#ed7953"
             ],
             [
              0.7777777777777778,
              "#fb9f3a"
             ],
             [
              0.8888888888888888,
              "#fdca26"
             ],
             [
              1,
              "#f0f921"
             ]
            ],
            "type": "contour"
           }
          ],
          "contourcarpet": [
           {
            "colorbar": {
             "outlinewidth": 0,
             "ticks": ""
            },
            "type": "contourcarpet"
           }
          ],
          "heatmap": [
           {
            "colorbar": {
             "outlinewidth": 0,
             "ticks": ""
            },
            "colorscale": [
             [
              0,
              "#0d0887"
             ],
             [
              0.1111111111111111,
              "#46039f"
             ],
             [
              0.2222222222222222,
              "#7201a8"
             ],
             [
              0.3333333333333333,
              "#9c179e"
             ],
             [
              0.4444444444444444,
              "#bd3786"
             ],
             [
              0.5555555555555556,
              "#d8576b"
             ],
             [
              0.6666666666666666,
              "#ed7953"
             ],
             [
              0.7777777777777778,
              "#fb9f3a"
             ],
             [
              0.8888888888888888,
              "#fdca26"
             ],
             [
              1,
              "#f0f921"
             ]
            ],
            "type": "heatmap"
           }
          ],
          "heatmapgl": [
           {
            "colorbar": {
             "outlinewidth": 0,
             "ticks": ""
            },
            "colorscale": [
             [
              0,
              "#0d0887"
             ],
             [
              0.1111111111111111,
              "#46039f"
             ],
             [
              0.2222222222222222,
              "#7201a8"
             ],
             [
              0.3333333333333333,
              "#9c179e"
             ],
             [
              0.4444444444444444,
              "#bd3786"
             ],
             [
              0.5555555555555556,
              "#d8576b"
             ],
             [
              0.6666666666666666,
              "#ed7953"
             ],
             [
              0.7777777777777778,
              "#fb9f3a"
             ],
             [
              0.8888888888888888,
              "#fdca26"
             ],
             [
              1,
              "#f0f921"
             ]
            ],
            "type": "heatmapgl"
           }
          ],
          "histogram": [
           {
            "marker": {
             "pattern": {
              "fillmode": "overlay",
              "size": 10,
              "solidity": 0.2
             }
            },
            "type": "histogram"
           }
          ],
          "histogram2d": [
           {
            "colorbar": {
             "outlinewidth": 0,
             "ticks": ""
            },
            "colorscale": [
             [
              0,
              "#0d0887"
             ],
             [
              0.1111111111111111,
              "#46039f"
             ],
             [
              0.2222222222222222,
              "#7201a8"
             ],
             [
              0.3333333333333333,
              "#9c179e"
             ],
             [
              0.4444444444444444,
              "#bd3786"
             ],
             [
              0.5555555555555556,
              "#d8576b"
             ],
             [
              0.6666666666666666,
              "#ed7953"
             ],
             [
              0.7777777777777778,
              "#fb9f3a"
             ],
             [
              0.8888888888888888,
              "#fdca26"
             ],
             [
              1,
              "#f0f921"
             ]
            ],
            "type": "histogram2d"
           }
          ],
          "histogram2dcontour": [
           {
            "colorbar": {
             "outlinewidth": 0,
             "ticks": ""
            },
            "colorscale": [
             [
              0,
              "#0d0887"
             ],
             [
              0.1111111111111111,
              "#46039f"
             ],
             [
              0.2222222222222222,
              "#7201a8"
             ],
             [
              0.3333333333333333,
              "#9c179e"
             ],
             [
              0.4444444444444444,
              "#bd3786"
             ],
             [
              0.5555555555555556,
              "#d8576b"
             ],
             [
              0.6666666666666666,
              "#ed7953"
             ],
             [
              0.7777777777777778,
              "#fb9f3a"
             ],
             [
              0.8888888888888888,
              "#fdca26"
             ],
             [
              1,
              "#f0f921"
             ]
            ],
            "type": "histogram2dcontour"
           }
          ],
          "mesh3d": [
           {
            "colorbar": {
             "outlinewidth": 0,
             "ticks": ""
            },
            "type": "mesh3d"
           }
          ],
          "parcoords": [
           {
            "line": {
             "colorbar": {
              "outlinewidth": 0,
              "ticks": ""
             }
            },
            "type": "parcoords"
           }
          ],
          "pie": [
           {
            "automargin": true,
            "type": "pie"
           }
          ],
          "scatter": [
           {
            "fillpattern": {
             "fillmode": "overlay",
             "size": 10,
             "solidity": 0.2
            },
            "type": "scatter"
           }
          ],
          "scatter3d": [
           {
            "line": {
             "colorbar": {
              "outlinewidth": 0,
              "ticks": ""
             }
            },
            "marker": {
             "colorbar": {
              "outlinewidth": 0,
              "ticks": ""
             }
            },
            "type": "scatter3d"
           }
          ],
          "scattercarpet": [
           {
            "marker": {
             "colorbar": {
              "outlinewidth": 0,
              "ticks": ""
             }
            },
            "type": "scattercarpet"
           }
          ],
          "scattergeo": [
           {
            "marker": {
             "colorbar": {
              "outlinewidth": 0,
              "ticks": ""
             }
            },
            "type": "scattergeo"
           }
          ],
          "scattergl": [
           {
            "marker": {
             "colorbar": {
              "outlinewidth": 0,
              "ticks": ""
             }
            },
            "type": "scattergl"
           }
          ],
          "scattermapbox": [
           {
            "marker": {
             "colorbar": {
              "outlinewidth": 0,
              "ticks": ""
             }
            },
            "type": "scattermapbox"
           }
          ],
          "scatterpolar": [
           {
            "marker": {
             "colorbar": {
              "outlinewidth": 0,
              "ticks": ""
             }
            },
            "type": "scatterpolar"
           }
          ],
          "scatterpolargl": [
           {
            "marker": {
             "colorbar": {
              "outlinewidth": 0,
              "ticks": ""
             }
            },
            "type": "scatterpolargl"
           }
          ],
          "scatterternary": [
           {
            "marker": {
             "colorbar": {
              "outlinewidth": 0,
              "ticks": ""
             }
            },
            "type": "scatterternary"
           }
          ],
          "surface": [
           {
            "colorbar": {
             "outlinewidth": 0,
             "ticks": ""
            },
            "colorscale": [
             [
              0,
              "#0d0887"
             ],
             [
              0.1111111111111111,
              "#46039f"
             ],
             [
              0.2222222222222222,
              "#7201a8"
             ],
             [
              0.3333333333333333,
              "#9c179e"
             ],
             [
              0.4444444444444444,
              "#bd3786"
             ],
             [
              0.5555555555555556,
              "#d8576b"
             ],
             [
              0.6666666666666666,
              "#ed7953"
             ],
             [
              0.7777777777777778,
              "#fb9f3a"
             ],
             [
              0.8888888888888888,
              "#fdca26"
             ],
             [
              1,
              "#f0f921"
             ]
            ],
            "type": "surface"
           }
          ],
          "table": [
           {
            "cells": {
             "fill": {
              "color": "#EBF0F8"
             },
             "line": {
              "color": "white"
             }
            },
            "header": {
             "fill": {
              "color": "#C8D4E3"
             },
             "line": {
              "color": "white"
             }
            },
            "type": "table"
           }
          ]
         },
         "layout": {
          "annotationdefaults": {
           "arrowcolor": "#2a3f5f",
           "arrowhead": 0,
           "arrowwidth": 1
          },
          "autotypenumbers": "strict",
          "coloraxis": {
           "colorbar": {
            "outlinewidth": 0,
            "ticks": ""
           }
          },
          "colorscale": {
           "diverging": [
            [
             0,
             "#8e0152"
            ],
            [
             0.1,
             "#c51b7d"
            ],
            [
             0.2,
             "#de77ae"
            ],
            [
             0.3,
             "#f1b6da"
            ],
            [
             0.4,
             "#fde0ef"
            ],
            [
             0.5,
             "#f7f7f7"
            ],
            [
             0.6,
             "#e6f5d0"
            ],
            [
             0.7,
             "#b8e186"
            ],
            [
             0.8,
             "#7fbc41"
            ],
            [
             0.9,
             "#4d9221"
            ],
            [
             1,
             "#276419"
            ]
           ],
           "sequential": [
            [
             0,
             "#0d0887"
            ],
            [
             0.1111111111111111,
             "#46039f"
            ],
            [
             0.2222222222222222,
             "#7201a8"
            ],
            [
             0.3333333333333333,
             "#9c179e"
            ],
            [
             0.4444444444444444,
             "#bd3786"
            ],
            [
             0.5555555555555556,
             "#d8576b"
            ],
            [
             0.6666666666666666,
             "#ed7953"
            ],
            [
             0.7777777777777778,
             "#fb9f3a"
            ],
            [
             0.8888888888888888,
             "#fdca26"
            ],
            [
             1,
             "#f0f921"
            ]
           ],
           "sequentialminus": [
            [
             0,
             "#0d0887"
            ],
            [
             0.1111111111111111,
             "#46039f"
            ],
            [
             0.2222222222222222,
             "#7201a8"
            ],
            [
             0.3333333333333333,
             "#9c179e"
            ],
            [
             0.4444444444444444,
             "#bd3786"
            ],
            [
             0.5555555555555556,
             "#d8576b"
            ],
            [
             0.6666666666666666,
             "#ed7953"
            ],
            [
             0.7777777777777778,
             "#fb9f3a"
            ],
            [
             0.8888888888888888,
             "#fdca26"
            ],
            [
             1,
             "#f0f921"
            ]
           ]
          },
          "colorway": [
           "#636efa",
           "#EF553B",
           "#00cc96",
           "#ab63fa",
           "#FFA15A",
           "#19d3f3",
           "#FF6692",
           "#B6E880",
           "#FF97FF",
           "#FECB52"
          ],
          "font": {
           "color": "#2a3f5f"
          },
          "geo": {
           "bgcolor": "white",
           "lakecolor": "white",
           "landcolor": "#E5ECF6",
           "showlakes": true,
           "showland": true,
           "subunitcolor": "white"
          },
          "hoverlabel": {
           "align": "left"
          },
          "hovermode": "closest",
          "mapbox": {
           "style": "light"
          },
          "paper_bgcolor": "white",
          "plot_bgcolor": "#E5ECF6",
          "polar": {
           "angularaxis": {
            "gridcolor": "white",
            "linecolor": "white",
            "ticks": ""
           },
           "bgcolor": "#E5ECF6",
           "radialaxis": {
            "gridcolor": "white",
            "linecolor": "white",
            "ticks": ""
           }
          },
          "scene": {
           "xaxis": {
            "backgroundcolor": "#E5ECF6",
            "gridcolor": "white",
            "gridwidth": 2,
            "linecolor": "white",
            "showbackground": true,
            "ticks": "",
            "zerolinecolor": "white"
           },
           "yaxis": {
            "backgroundcolor": "#E5ECF6",
            "gridcolor": "white",
            "gridwidth": 2,
            "linecolor": "white",
            "showbackground": true,
            "ticks": "",
            "zerolinecolor": "white"
           },
           "zaxis": {
            "backgroundcolor": "#E5ECF6",
            "gridcolor": "white",
            "gridwidth": 2,
            "linecolor": "white",
            "showbackground": true,
            "ticks": "",
            "zerolinecolor": "white"
           }
          },
          "shapedefaults": {
           "line": {
            "color": "#2a3f5f"
           }
          },
          "ternary": {
           "aaxis": {
            "gridcolor": "white",
            "linecolor": "white",
            "ticks": ""
           },
           "baxis": {
            "gridcolor": "white",
            "linecolor": "white",
            "ticks": ""
           },
           "bgcolor": "#E5ECF6",
           "caxis": {
            "gridcolor": "white",
            "linecolor": "white",
            "ticks": ""
           }
          },
          "title": {
           "x": 0.05
          },
          "xaxis": {
           "automargin": true,
           "gridcolor": "white",
           "linecolor": "white",
           "ticks": "",
           "title": {
            "standoff": 15
           },
           "zerolinecolor": "white",
           "zerolinewidth": 2
          },
          "yaxis": {
           "automargin": true,
           "gridcolor": "white",
           "linecolor": "white",
           "ticks": "",
           "title": {
            "standoff": 15
           },
           "zerolinecolor": "white",
           "zerolinewidth": 2
          }
         }
        },
        "title": {
         "font": {
          "color": "#4D5663"
         }
        },
        "xaxis": {
         "gridcolor": "#E1E5ED",
         "showgrid": true,
         "tickfont": {
          "color": "#4D5663"
         },
         "title": {
          "font": {
           "color": "#4D5663"
          },
          "text": ""
         },
         "zerolinecolor": "#E1E5ED"
        },
        "yaxis": {
         "gridcolor": "#E1E5ED",
         "showgrid": true,
         "tickfont": {
          "color": "#4D5663"
         },
         "title": {
          "font": {
           "color": "#4D5663"
          },
          "text": ""
         },
         "zerolinecolor": "#E1E5ED"
        }
       }
      },
      "text/html": [
       "<div>                            <div id=\"44c38e37-574c-45f1-8e2b-19e82c2e48cb\" class=\"plotly-graph-div\" style=\"height:525px; width:100%;\"></div>            <script type=\"text/javascript\">                require([\"plotly\"], function(Plotly) {                    window.PLOTLYENV=window.PLOTLYENV || {};\n",
       "                    window.PLOTLYENV.BASE_URL='https://plot.ly';                                    if (document.getElementById(\"44c38e37-574c-45f1-8e2b-19e82c2e48cb\")) {                    Plotly.newPlot(                        \"44c38e37-574c-45f1-8e2b-19e82c2e48cb\",                        [{\"marker\":{\"color\":\"rgba(255, 153, 51, 0.6)\",\"line\":{\"color\":\"rgba(255, 153, 51, 1.0)\",\"width\":1}},\"name\":\"A\",\"orientation\":\"v\",\"text\":\"\",\"x\":[0,1,2,3,4,5,6,7,8,9,10,11,12,13,14,15,16,17,18,19,20,21,22,23,24,25,26,27,28,29,30,31,32,33,34,35,36,37,38,39,40,41,42,43,44,45,46,47,48,49,50,51,52,53,54,55,56,57,58,59,60,61,62,63,64,65,66,67,68,69,70,71,72,73,74,75,76,77,78,79,80,81,82,83,84,85,86,87,88,89,90,91,92,93,94,95,96,97,98,99],\"y\":[0.778457933302214,-0.9680449357550578,0.39359084183301096,-1.2394985928585338,-0.2164835093388013,-0.1356228708503378,-1.2521746730325765,-1.0835243246963888,0.6250752248509963,0.7718451818596955,0.4318676271026053,-0.8686984687467546,0.18229522144610463,-0.17752709417956644,-0.7853823575966619,-0.06893337907779387,-0.9466983840211649,-0.9221095109610769,1.5774648689521218,0.3930242065630447,0.8277738191842602,-0.8241508298553344,0.07495661144670138,-0.3590170031546842,1.2734557212058224,-1.504383022229239,-0.12596790196229846,0.6123225576918307,0.3426474625945798,0.846089362700548,1.3523055165355302,0.284811559971216,-1.6013083992544557,1.6679084568187605,1.5145816453277892,-0.0046250819630932315,-0.07829149222527237,0.9916207650528954,1.1145048640682926,-1.089729192815636,0.17314040189558932,-0.033796344362975864,0.07562690561269443,1.892594834465393,-1.8348706724093262,1.2584334190829263,0.17218282514485775,0.34213290139111757,-0.7402663222325283,-0.588544402128247,-0.27975100910657263,-0.36609359684194237,-0.8452472534162175,-0.4468861894570877,0.6034241098470298,3.1023651388360145,0.214644091222445,-0.8612338237196326,0.13263420361251016,-0.9710094581449149,0.7227469378577297,-0.7822128929376538,-0.22143889112664097,0.14416334626005273,-0.8833756073627672,1.2612268675473937,0.7928279434498183,-1.0251422302062176,-0.4536854547609093,-0.45958745335640483,0.5182900495849041,0.850977459520938,0.04421513310499319,-1.1175849668722495,-0.8030693507661488,1.92519394398426,0.7217912827510005,-0.3116468245019817,-1.750355552577647,-0.6873302147493952,1.5993325144520412,1.2093688325747638,0.7382608277486163,-0.01307177710019666,0.4249358964426604,1.8114662802257053,-0.23812364488121177,-0.04821109509459664,-0.47886446654041864,-0.4038921916964521,0.5091420384625585,0.4801272970933442,-0.48912145451354583,-1.147042924817787,-0.01032179386658933,0.1321566262110016,-0.384385463475132,1.2891000679608127,0.9391036286315693,1.0197304435884655],\"type\":\"bar\"},{\"marker\":{\"color\":\"rgba(55, 128, 191, 0.6)\",\"line\":{\"color\":\"rgba(55, 128, 191, 1.0)\",\"width\":1}},\"name\":\"B\",\"orientation\":\"v\",\"text\":\"\",\"x\":[0,1,2,3,4,5,6,7,8,9,10,11,12,13,14,15,16,17,18,19,20,21,22,23,24,25,26,27,28,29,30,31,32,33,34,35,36,37,38,39,40,41,42,43,44,45,46,47,48,49,50,51,52,53,54,55,56,57,58,59,60,61,62,63,64,65,66,67,68,69,70,71,72,73,74,75,76,77,78,79,80,81,82,83,84,85,86,87,88,89,90,91,92,93,94,95,96,97,98,99],\"y\":[-0.12418495906275873,0.5285054303759434,-0.6483376777606301,-0.2882240309938093,0.5736212497816112,2.239254267902068,-3.7132010957566717,-0.827361314325003,-0.07056871306249225,0.4485007765695378,-1.1425087248215398,0.713665370670025,-0.12237518106470253,-1.5779230985738613,-1.6518453654137415,0.7872739570953827,0.6696097676881092,0.12485407678766407,-0.2592731741227891,-0.6034697000193865,-0.1634147137662408,-0.9185909367956211,-1.5225614971140846,0.32708339513992823,-0.7881580126865311,-0.253793228203105,-0.20667844715897066,0.9083395167937691,0.48256960720999503,-0.9609842265734008,-0.9045949603882426,-0.8259097380548978,-0.4414993729915333,-0.2965042673868797,-1.8110254612575696,-0.6947125921837172,0.22518886816166567,0.9620639813793939,-1.4689365913873842,-0.5002907290334543,0.15554850993818742,1.0644877346151136,0.08741835263849135,-1.2266050665518022,0.009267372916793585,0.9365478847521909,-0.06849812894451411,0.572511977530958,0.2490562834386925,-0.7544740172893082,0.6270155247426541,0.4392751700611625,0.8876910389681761,0.6895447204388416,-0.08376221605853913,0.7519574530059915,0.7928931750275154,-0.07844246435307307,-0.6610778230711215,0.4710622226800591,-3.102751806348052,1.3879524318512182,-1.9793711097598718,0.08488617246516036,-1.6306338131169662,0.31209134076027195,1.527604855019396,2.0868502636121495,-0.41398376859852154,-0.5958562882694559,0.1407586248600635,1.1241522625681128,-0.7699943106290851,0.13748390446668632,-1.0344313621767662,1.589065501698242,-1.483419352532759,1.1109792033938501,0.6953782435953554,0.5181307791043384,1.3792400569088539,-0.19834484065509467,-1.6984989450444554,0.6454744077409759,1.156837525492291,-1.3392031859801345,-1.0476297371919077,0.8978011452694012,0.21692629572147912,-0.4597509119081817,0.19481940643523454,-0.08341557197324237,0.7726127026487843,-1.6792646825069584,-0.6350127596847416,1.0570017823937987,-1.0115000812255166,-1.5882588060836178,-1.8493217471273957,-1.1361901014810987],\"type\":\"bar\"},{\"marker\":{\"color\":\"rgba(50, 171, 96, 0.6)\",\"line\":{\"color\":\"rgba(50, 171, 96, 1.0)\",\"width\":1}},\"name\":\"C\",\"orientation\":\"v\",\"text\":\"\",\"x\":[0,1,2,3,4,5,6,7,8,9,10,11,12,13,14,15,16,17,18,19,20,21,22,23,24,25,26,27,28,29,30,31,32,33,34,35,36,37,38,39,40,41,42,43,44,45,46,47,48,49,50,51,52,53,54,55,56,57,58,59,60,61,62,63,64,65,66,67,68,69,70,71,72,73,74,75,76,77,78,79,80,81,82,83,84,85,86,87,88,89,90,91,92,93,94,95,96,97,98,99],\"y\":[-0.03802047411749776,0.8773557408303123,-1.118725034659502,-0.10026853830176642,-0.7732404050535409,0.5046837399056341,1.0405541917419667,0.12608346116189315,0.40577463423542737,-0.7153215479409281,1.327560943752907,1.1656233384029329,-2.556184188197719,0.180403725260928,-0.6420497906812835,0.08261155402733383,-0.8722369739240854,-0.5958593510195808,0.5411573911111616,1.5574465766371541,0.35858615040219993,0.1359352618178365,1.2729618354111418,-0.724388992300664,0.8689737956283615,1.0324712942410976,-0.10856722968255036,0.47116535782786606,0.9854431855075556,0.5648817725467724,-0.6741775517296723,-0.08507260800209669,-1.8491296419326837,1.1585345801397426,0.7410669957381095,0.2377646618768121,0.19636956338180683,1.5272074918028045,-0.29867294983582043,-0.1412752058259444,0.9105342836340018,-0.16649235126773396,-0.7152579905771318,1.4136319519783282,-0.3128878018946804,-0.433290552957218,0.8179761999340025,-1.3827284215191413,-0.24279974102893276,0.11564818225015172,0.4496854850035945,-0.4559239150446873,-2.252429793836703,-0.8597249668399786,-2.460767890721159,-0.08821510633908855,-0.7027062778648545,-0.3130299866317652,1.0320592354230556,-0.777357882169852,-2.3438996888466708,-0.5605666594946894,0.06741236942830532,-1.649231246416628,0.22273379564641857,0.13066572471482163,0.5362449801226784,1.4914964504089971,2.2322188903267848,-1.112526390987042,0.1861509871569323,1.1601974306427612,1.2891048070459077,0.9421954734630205,1.175179094583278,0.8345503271306458,0.3124997756836522,0.7382997585383295,2.3441395948533015,-1.4850691091821289,0.3943088653341731,-0.7125698889211279,-0.9260100929069468,0.9521314338176424,-1.3468987254887934,0.07818695724198196,-0.48812591175553643,-0.22272894573145505,-0.8905830222532648,0.5555690475707767,-0.7112369108121137,-0.893619327106401,2.1987281322799466,-0.7478258734501629,-0.11900790060739504,-0.8285148541919645,0.3855746642174358,-0.29794909083781856,-0.16683726369167023,-0.8803568268703029],\"type\":\"bar\"},{\"marker\":{\"color\":\"rgba(128, 0, 128, 0.6)\",\"line\":{\"color\":\"rgba(128, 0, 128, 1.0)\",\"width\":1}},\"name\":\"D\",\"orientation\":\"v\",\"text\":\"\",\"x\":[0,1,2,3,4,5,6,7,8,9,10,11,12,13,14,15,16,17,18,19,20,21,22,23,24,25,26,27,28,29,30,31,32,33,34,35,36,37,38,39,40,41,42,43,44,45,46,47,48,49,50,51,52,53,54,55,56,57,58,59,60,61,62,63,64,65,66,67,68,69,70,71,72,73,74,75,76,77,78,79,80,81,82,83,84,85,86,87,88,89,90,91,92,93,94,95,96,97,98,99],\"y\":[0.19364859956418953,0.18583207547663305,1.9923921588463627,1.3188125240482078,0.537805874410933,-0.03848186401102001,-0.32930061650478093,2.2958952087568933,0.466505724210726,-0.7716409579262643,0.5784030178865545,-0.3085829845995051,1.0569521428997875,-0.021678681671287593,-0.15327032167682586,0.38532094024232333,1.624630133457499,1.6736838752131884,0.507620878463986,-1.3331888479271912,-0.008692936117062714,1.2755057690525256,0.8334251065844482,0.10786480563820008,-1.4328300955495161,0.6307401316199052,0.3757313710757838,-0.12381204243145601,2.444630116068402,1.2776539720839692,-0.2753571484946713,1.074406283764291,0.8935449560464446,0.8226339589212641,-0.3760182003569667,-0.5435492836183557,-1.204887322087643,-0.6063927925516598,-1.0747457830894218,0.2609786837151405,0.8486504892819745,-1.1875268382847586,0.7291652246195226,-0.2714729225650268,-0.3149788852602245,0.5933801088684901,-0.7001484527953258,0.31057113592398455,0.8941997046364684,0.696871322191756,0.9667732459813809,0.0795886917274917,1.4708668673386436,1.435440588634307,1.5617836556337106,-1.9930260097477197,0.33343907469044654,0.7127913736643632,0.43648801789717556,-0.48176628908925917,2.1851520391957804,-0.2831216918398867,1.5002057782776956,-0.7422075662104347,0.4674871043293601,1.487680377713003,-0.8109754686950558,1.1836151400260517,-3.2886518125876725,0.47420116098063736,0.4156506373988291,-1.4147882771469515,1.706363977610135,0.2884294207465923,0.14815841816801092,-0.6279943804082091,-0.5284554553268069,-1.3528423917747028,0.7441972948781518,-0.5380758183313948,-1.4680677526079209,0.42836894521875163,0.4874581159173152,-0.03322481239843942,-0.4362206070834838,-2.235968198210766,0.5219170909718297,0.7372645208846011,1.3745998157042327,-0.34707955390016204,-1.5015300123463025,1.0820404851499366,-0.526174680349923,1.1793021497147862,-0.10148494094334251,1.2444090645162498,2.236896752361946,0.4292984789795256,0.7317923794372792,-1.2032486736964108],\"type\":\"bar\"}],                        {\"legend\":{\"bgcolor\":\"#F5F6F9\",\"font\":{\"color\":\"#4D5663\"}},\"paper_bgcolor\":\"#F5F6F9\",\"plot_bgcolor\":\"#F5F6F9\",\"template\":{\"data\":{\"barpolar\":[{\"marker\":{\"line\":{\"color\":\"#E5ECF6\",\"width\":0.5},\"pattern\":{\"fillmode\":\"overlay\",\"size\":10,\"solidity\":0.2}},\"type\":\"barpolar\"}],\"bar\":[{\"error_x\":{\"color\":\"#2a3f5f\"},\"error_y\":{\"color\":\"#2a3f5f\"},\"marker\":{\"line\":{\"color\":\"#E5ECF6\",\"width\":0.5},\"pattern\":{\"fillmode\":\"overlay\",\"size\":10,\"solidity\":0.2}},\"type\":\"bar\"}],\"carpet\":[{\"aaxis\":{\"endlinecolor\":\"#2a3f5f\",\"gridcolor\":\"white\",\"linecolor\":\"white\",\"minorgridcolor\":\"white\",\"startlinecolor\":\"#2a3f5f\"},\"baxis\":{\"endlinecolor\":\"#2a3f5f\",\"gridcolor\":\"white\",\"linecolor\":\"white\",\"minorgridcolor\":\"white\",\"startlinecolor\":\"#2a3f5f\"},\"type\":\"carpet\"}],\"choropleth\":[{\"colorbar\":{\"outlinewidth\":0,\"ticks\":\"\"},\"type\":\"choropleth\"}],\"contourcarpet\":[{\"colorbar\":{\"outlinewidth\":0,\"ticks\":\"\"},\"type\":\"contourcarpet\"}],\"contour\":[{\"colorbar\":{\"outlinewidth\":0,\"ticks\":\"\"},\"colorscale\":[[0.0,\"#0d0887\"],[0.1111111111111111,\"#46039f\"],[0.2222222222222222,\"#7201a8\"],[0.3333333333333333,\"#9c179e\"],[0.4444444444444444,\"#bd3786\"],[0.5555555555555556,\"#d8576b\"],[0.6666666666666666,\"#ed7953\"],[0.7777777777777778,\"#fb9f3a\"],[0.8888888888888888,\"#fdca26\"],[1.0,\"#f0f921\"]],\"type\":\"contour\"}],\"heatmapgl\":[{\"colorbar\":{\"outlinewidth\":0,\"ticks\":\"\"},\"colorscale\":[[0.0,\"#0d0887\"],[0.1111111111111111,\"#46039f\"],[0.2222222222222222,\"#7201a8\"],[0.3333333333333333,\"#9c179e\"],[0.4444444444444444,\"#bd3786\"],[0.5555555555555556,\"#d8576b\"],[0.6666666666666666,\"#ed7953\"],[0.7777777777777778,\"#fb9f3a\"],[0.8888888888888888,\"#fdca26\"],[1.0,\"#f0f921\"]],\"type\":\"heatmapgl\"}],\"heatmap\":[{\"colorbar\":{\"outlinewidth\":0,\"ticks\":\"\"},\"colorscale\":[[0.0,\"#0d0887\"],[0.1111111111111111,\"#46039f\"],[0.2222222222222222,\"#7201a8\"],[0.3333333333333333,\"#9c179e\"],[0.4444444444444444,\"#bd3786\"],[0.5555555555555556,\"#d8576b\"],[0.6666666666666666,\"#ed7953\"],[0.7777777777777778,\"#fb9f3a\"],[0.8888888888888888,\"#fdca26\"],[1.0,\"#f0f921\"]],\"type\":\"heatmap\"}],\"histogram2dcontour\":[{\"colorbar\":{\"outlinewidth\":0,\"ticks\":\"\"},\"colorscale\":[[0.0,\"#0d0887\"],[0.1111111111111111,\"#46039f\"],[0.2222222222222222,\"#7201a8\"],[0.3333333333333333,\"#9c179e\"],[0.4444444444444444,\"#bd3786\"],[0.5555555555555556,\"#d8576b\"],[0.6666666666666666,\"#ed7953\"],[0.7777777777777778,\"#fb9f3a\"],[0.8888888888888888,\"#fdca26\"],[1.0,\"#f0f921\"]],\"type\":\"histogram2dcontour\"}],\"histogram2d\":[{\"colorbar\":{\"outlinewidth\":0,\"ticks\":\"\"},\"colorscale\":[[0.0,\"#0d0887\"],[0.1111111111111111,\"#46039f\"],[0.2222222222222222,\"#7201a8\"],[0.3333333333333333,\"#9c179e\"],[0.4444444444444444,\"#bd3786\"],[0.5555555555555556,\"#d8576b\"],[0.6666666666666666,\"#ed7953\"],[0.7777777777777778,\"#fb9f3a\"],[0.8888888888888888,\"#fdca26\"],[1.0,\"#f0f921\"]],\"type\":\"histogram2d\"}],\"histogram\":[{\"marker\":{\"pattern\":{\"fillmode\":\"overlay\",\"size\":10,\"solidity\":0.2}},\"type\":\"histogram\"}],\"mesh3d\":[{\"colorbar\":{\"outlinewidth\":0,\"ticks\":\"\"},\"type\":\"mesh3d\"}],\"parcoords\":[{\"line\":{\"colorbar\":{\"outlinewidth\":0,\"ticks\":\"\"}},\"type\":\"parcoords\"}],\"pie\":[{\"automargin\":true,\"type\":\"pie\"}],\"scatter3d\":[{\"line\":{\"colorbar\":{\"outlinewidth\":0,\"ticks\":\"\"}},\"marker\":{\"colorbar\":{\"outlinewidth\":0,\"ticks\":\"\"}},\"type\":\"scatter3d\"}],\"scattercarpet\":[{\"marker\":{\"colorbar\":{\"outlinewidth\":0,\"ticks\":\"\"}},\"type\":\"scattercarpet\"}],\"scattergeo\":[{\"marker\":{\"colorbar\":{\"outlinewidth\":0,\"ticks\":\"\"}},\"type\":\"scattergeo\"}],\"scattergl\":[{\"marker\":{\"colorbar\":{\"outlinewidth\":0,\"ticks\":\"\"}},\"type\":\"scattergl\"}],\"scattermapbox\":[{\"marker\":{\"colorbar\":{\"outlinewidth\":0,\"ticks\":\"\"}},\"type\":\"scattermapbox\"}],\"scatterpolargl\":[{\"marker\":{\"colorbar\":{\"outlinewidth\":0,\"ticks\":\"\"}},\"type\":\"scatterpolargl\"}],\"scatterpolar\":[{\"marker\":{\"colorbar\":{\"outlinewidth\":0,\"ticks\":\"\"}},\"type\":\"scatterpolar\"}],\"scatter\":[{\"fillpattern\":{\"fillmode\":\"overlay\",\"size\":10,\"solidity\":0.2},\"type\":\"scatter\"}],\"scatterternary\":[{\"marker\":{\"colorbar\":{\"outlinewidth\":0,\"ticks\":\"\"}},\"type\":\"scatterternary\"}],\"surface\":[{\"colorbar\":{\"outlinewidth\":0,\"ticks\":\"\"},\"colorscale\":[[0.0,\"#0d0887\"],[0.1111111111111111,\"#46039f\"],[0.2222222222222222,\"#7201a8\"],[0.3333333333333333,\"#9c179e\"],[0.4444444444444444,\"#bd3786\"],[0.5555555555555556,\"#d8576b\"],[0.6666666666666666,\"#ed7953\"],[0.7777777777777778,\"#fb9f3a\"],[0.8888888888888888,\"#fdca26\"],[1.0,\"#f0f921\"]],\"type\":\"surface\"}],\"table\":[{\"cells\":{\"fill\":{\"color\":\"#EBF0F8\"},\"line\":{\"color\":\"white\"}},\"header\":{\"fill\":{\"color\":\"#C8D4E3\"},\"line\":{\"color\":\"white\"}},\"type\":\"table\"}]},\"layout\":{\"annotationdefaults\":{\"arrowcolor\":\"#2a3f5f\",\"arrowhead\":0,\"arrowwidth\":1},\"autotypenumbers\":\"strict\",\"coloraxis\":{\"colorbar\":{\"outlinewidth\":0,\"ticks\":\"\"}},\"colorscale\":{\"diverging\":[[0,\"#8e0152\"],[0.1,\"#c51b7d\"],[0.2,\"#de77ae\"],[0.3,\"#f1b6da\"],[0.4,\"#fde0ef\"],[0.5,\"#f7f7f7\"],[0.6,\"#e6f5d0\"],[0.7,\"#b8e186\"],[0.8,\"#7fbc41\"],[0.9,\"#4d9221\"],[1,\"#276419\"]],\"sequential\":[[0.0,\"#0d0887\"],[0.1111111111111111,\"#46039f\"],[0.2222222222222222,\"#7201a8\"],[0.3333333333333333,\"#9c179e\"],[0.4444444444444444,\"#bd3786\"],[0.5555555555555556,\"#d8576b\"],[0.6666666666666666,\"#ed7953\"],[0.7777777777777778,\"#fb9f3a\"],[0.8888888888888888,\"#fdca26\"],[1.0,\"#f0f921\"]],\"sequentialminus\":[[0.0,\"#0d0887\"],[0.1111111111111111,\"#46039f\"],[0.2222222222222222,\"#7201a8\"],[0.3333333333333333,\"#9c179e\"],[0.4444444444444444,\"#bd3786\"],[0.5555555555555556,\"#d8576b\"],[0.6666666666666666,\"#ed7953\"],[0.7777777777777778,\"#fb9f3a\"],[0.8888888888888888,\"#fdca26\"],[1.0,\"#f0f921\"]]},\"colorway\":[\"#636efa\",\"#EF553B\",\"#00cc96\",\"#ab63fa\",\"#FFA15A\",\"#19d3f3\",\"#FF6692\",\"#B6E880\",\"#FF97FF\",\"#FECB52\"],\"font\":{\"color\":\"#2a3f5f\"},\"geo\":{\"bgcolor\":\"white\",\"lakecolor\":\"white\",\"landcolor\":\"#E5ECF6\",\"showlakes\":true,\"showland\":true,\"subunitcolor\":\"white\"},\"hoverlabel\":{\"align\":\"left\"},\"hovermode\":\"closest\",\"mapbox\":{\"style\":\"light\"},\"paper_bgcolor\":\"white\",\"plot_bgcolor\":\"#E5ECF6\",\"polar\":{\"angularaxis\":{\"gridcolor\":\"white\",\"linecolor\":\"white\",\"ticks\":\"\"},\"bgcolor\":\"#E5ECF6\",\"radialaxis\":{\"gridcolor\":\"white\",\"linecolor\":\"white\",\"ticks\":\"\"}},\"scene\":{\"xaxis\":{\"backgroundcolor\":\"#E5ECF6\",\"gridcolor\":\"white\",\"gridwidth\":2,\"linecolor\":\"white\",\"showbackground\":true,\"ticks\":\"\",\"zerolinecolor\":\"white\"},\"yaxis\":{\"backgroundcolor\":\"#E5ECF6\",\"gridcolor\":\"white\",\"gridwidth\":2,\"linecolor\":\"white\",\"showbackground\":true,\"ticks\":\"\",\"zerolinecolor\":\"white\"},\"zaxis\":{\"backgroundcolor\":\"#E5ECF6\",\"gridcolor\":\"white\",\"gridwidth\":2,\"linecolor\":\"white\",\"showbackground\":true,\"ticks\":\"\",\"zerolinecolor\":\"white\"}},\"shapedefaults\":{\"line\":{\"color\":\"#2a3f5f\"}},\"ternary\":{\"aaxis\":{\"gridcolor\":\"white\",\"linecolor\":\"white\",\"ticks\":\"\"},\"baxis\":{\"gridcolor\":\"white\",\"linecolor\":\"white\",\"ticks\":\"\"},\"bgcolor\":\"#E5ECF6\",\"caxis\":{\"gridcolor\":\"white\",\"linecolor\":\"white\",\"ticks\":\"\"}},\"title\":{\"x\":0.05},\"xaxis\":{\"automargin\":true,\"gridcolor\":\"white\",\"linecolor\":\"white\",\"ticks\":\"\",\"title\":{\"standoff\":15},\"zerolinecolor\":\"white\",\"zerolinewidth\":2},\"yaxis\":{\"automargin\":true,\"gridcolor\":\"white\",\"linecolor\":\"white\",\"ticks\":\"\",\"title\":{\"standoff\":15},\"zerolinecolor\":\"white\",\"zerolinewidth\":2}}},\"title\":{\"font\":{\"color\":\"#4D5663\"}},\"xaxis\":{\"gridcolor\":\"#E1E5ED\",\"showgrid\":true,\"tickfont\":{\"color\":\"#4D5663\"},\"title\":{\"font\":{\"color\":\"#4D5663\"},\"text\":\"\"},\"zerolinecolor\":\"#E1E5ED\"},\"yaxis\":{\"gridcolor\":\"#E1E5ED\",\"showgrid\":true,\"tickfont\":{\"color\":\"#4D5663\"},\"title\":{\"font\":{\"color\":\"#4D5663\"},\"text\":\"\"},\"zerolinecolor\":\"#E1E5ED\"}},                        {\"showLink\": true, \"linkText\": \"Export to plot.ly\", \"plotlyServerURL\": \"https://plot.ly\", \"responsive\": true}                    ).then(function(){\n",
       "                            \n",
       "var gd = document.getElementById('44c38e37-574c-45f1-8e2b-19e82c2e48cb');\n",
       "var x = new MutationObserver(function (mutations, observer) {{\n",
       "        var display = window.getComputedStyle(gd).display;\n",
       "        if (!display || display === 'none') {{\n",
       "            console.log([gd, 'removed!']);\n",
       "            Plotly.purge(gd);\n",
       "            observer.disconnect();\n",
       "        }}\n",
       "}});\n",
       "\n",
       "// Listen for the removal of the full notebook cells\n",
       "var notebookContainer = gd.closest('#notebook-container');\n",
       "if (notebookContainer) {{\n",
       "    x.observe(notebookContainer, {childList: true});\n",
       "}}\n",
       "\n",
       "// Listen for the clearing of the current output cell\n",
       "var outputEl = gd.closest('.output');\n",
       "if (outputEl) {{\n",
       "    x.observe(outputEl, {childList: true});\n",
       "}}\n",
       "\n",
       "                        })                };                });            </script>        </div>"
      ]
     },
     "metadata": {},
     "output_type": "display_data"
    }
   ],
   "source": [
    "df.iplot(kind='bar') # Inviavel"
   ]
  },
  {
   "cell_type": "code",
   "execution_count": 17,
   "id": "5978295f",
   "metadata": {},
   "outputs": [
    {
     "data": {
      "application/vnd.plotly.v1+json": {
       "config": {
        "linkText": "Export to plot.ly",
        "plotlyServerURL": "https://plot.ly",
        "showLink": true
       },
       "data": [
        {
         "marker": {
          "color": "rgba(255, 153, 51, 0.6)",
          "line": {
           "color": "rgba(255, 153, 51, 1.0)",
           "width": 1
          }
         },
         "name": "None",
         "orientation": "v",
         "text": "",
         "type": "bar",
         "x": [
          "A",
          "B",
          "C",
          "D"
         ],
         "y": [
          100,
          100,
          100,
          100
         ]
        }
       ],
       "layout": {
        "legend": {
         "bgcolor": "#F5F6F9",
         "font": {
          "color": "#4D5663"
         }
        },
        "paper_bgcolor": "#F5F6F9",
        "plot_bgcolor": "#F5F6F9",
        "template": {
         "data": {
          "bar": [
           {
            "error_x": {
             "color": "#2a3f5f"
            },
            "error_y": {
             "color": "#2a3f5f"
            },
            "marker": {
             "line": {
              "color": "#E5ECF6",
              "width": 0.5
             },
             "pattern": {
              "fillmode": "overlay",
              "size": 10,
              "solidity": 0.2
             }
            },
            "type": "bar"
           }
          ],
          "barpolar": [
           {
            "marker": {
             "line": {
              "color": "#E5ECF6",
              "width": 0.5
             },
             "pattern": {
              "fillmode": "overlay",
              "size": 10,
              "solidity": 0.2
             }
            },
            "type": "barpolar"
           }
          ],
          "carpet": [
           {
            "aaxis": {
             "endlinecolor": "#2a3f5f",
             "gridcolor": "white",
             "linecolor": "white",
             "minorgridcolor": "white",
             "startlinecolor": "#2a3f5f"
            },
            "baxis": {
             "endlinecolor": "#2a3f5f",
             "gridcolor": "white",
             "linecolor": "white",
             "minorgridcolor": "white",
             "startlinecolor": "#2a3f5f"
            },
            "type": "carpet"
           }
          ],
          "choropleth": [
           {
            "colorbar": {
             "outlinewidth": 0,
             "ticks": ""
            },
            "type": "choropleth"
           }
          ],
          "contour": [
           {
            "colorbar": {
             "outlinewidth": 0,
             "ticks": ""
            },
            "colorscale": [
             [
              0,
              "#0d0887"
             ],
             [
              0.1111111111111111,
              "#46039f"
             ],
             [
              0.2222222222222222,
              "#7201a8"
             ],
             [
              0.3333333333333333,
              "#9c179e"
             ],
             [
              0.4444444444444444,
              "#bd3786"
             ],
             [
              0.5555555555555556,
              "#d8576b"
             ],
             [
              0.6666666666666666,
              "#ed7953"
             ],
             [
              0.7777777777777778,
              "#fb9f3a"
             ],
             [
              0.8888888888888888,
              "#fdca26"
             ],
             [
              1,
              "#f0f921"
             ]
            ],
            "type": "contour"
           }
          ],
          "contourcarpet": [
           {
            "colorbar": {
             "outlinewidth": 0,
             "ticks": ""
            },
            "type": "contourcarpet"
           }
          ],
          "heatmap": [
           {
            "colorbar": {
             "outlinewidth": 0,
             "ticks": ""
            },
            "colorscale": [
             [
              0,
              "#0d0887"
             ],
             [
              0.1111111111111111,
              "#46039f"
             ],
             [
              0.2222222222222222,
              "#7201a8"
             ],
             [
              0.3333333333333333,
              "#9c179e"
             ],
             [
              0.4444444444444444,
              "#bd3786"
             ],
             [
              0.5555555555555556,
              "#d8576b"
             ],
             [
              0.6666666666666666,
              "#ed7953"
             ],
             [
              0.7777777777777778,
              "#fb9f3a"
             ],
             [
              0.8888888888888888,
              "#fdca26"
             ],
             [
              1,
              "#f0f921"
             ]
            ],
            "type": "heatmap"
           }
          ],
          "heatmapgl": [
           {
            "colorbar": {
             "outlinewidth": 0,
             "ticks": ""
            },
            "colorscale": [
             [
              0,
              "#0d0887"
             ],
             [
              0.1111111111111111,
              "#46039f"
             ],
             [
              0.2222222222222222,
              "#7201a8"
             ],
             [
              0.3333333333333333,
              "#9c179e"
             ],
             [
              0.4444444444444444,
              "#bd3786"
             ],
             [
              0.5555555555555556,
              "#d8576b"
             ],
             [
              0.6666666666666666,
              "#ed7953"
             ],
             [
              0.7777777777777778,
              "#fb9f3a"
             ],
             [
              0.8888888888888888,
              "#fdca26"
             ],
             [
              1,
              "#f0f921"
             ]
            ],
            "type": "heatmapgl"
           }
          ],
          "histogram": [
           {
            "marker": {
             "pattern": {
              "fillmode": "overlay",
              "size": 10,
              "solidity": 0.2
             }
            },
            "type": "histogram"
           }
          ],
          "histogram2d": [
           {
            "colorbar": {
             "outlinewidth": 0,
             "ticks": ""
            },
            "colorscale": [
             [
              0,
              "#0d0887"
             ],
             [
              0.1111111111111111,
              "#46039f"
             ],
             [
              0.2222222222222222,
              "#7201a8"
             ],
             [
              0.3333333333333333,
              "#9c179e"
             ],
             [
              0.4444444444444444,
              "#bd3786"
             ],
             [
              0.5555555555555556,
              "#d8576b"
             ],
             [
              0.6666666666666666,
              "#ed7953"
             ],
             [
              0.7777777777777778,
              "#fb9f3a"
             ],
             [
              0.8888888888888888,
              "#fdca26"
             ],
             [
              1,
              "#f0f921"
             ]
            ],
            "type": "histogram2d"
           }
          ],
          "histogram2dcontour": [
           {
            "colorbar": {
             "outlinewidth": 0,
             "ticks": ""
            },
            "colorscale": [
             [
              0,
              "#0d0887"
             ],
             [
              0.1111111111111111,
              "#46039f"
             ],
             [
              0.2222222222222222,
              "#7201a8"
             ],
             [
              0.3333333333333333,
              "#9c179e"
             ],
             [
              0.4444444444444444,
              "#bd3786"
             ],
             [
              0.5555555555555556,
              "#d8576b"
             ],
             [
              0.6666666666666666,
              "#ed7953"
             ],
             [
              0.7777777777777778,
              "#fb9f3a"
             ],
             [
              0.8888888888888888,
              "#fdca26"
             ],
             [
              1,
              "#f0f921"
             ]
            ],
            "type": "histogram2dcontour"
           }
          ],
          "mesh3d": [
           {
            "colorbar": {
             "outlinewidth": 0,
             "ticks": ""
            },
            "type": "mesh3d"
           }
          ],
          "parcoords": [
           {
            "line": {
             "colorbar": {
              "outlinewidth": 0,
              "ticks": ""
             }
            },
            "type": "parcoords"
           }
          ],
          "pie": [
           {
            "automargin": true,
            "type": "pie"
           }
          ],
          "scatter": [
           {
            "fillpattern": {
             "fillmode": "overlay",
             "size": 10,
             "solidity": 0.2
            },
            "type": "scatter"
           }
          ],
          "scatter3d": [
           {
            "line": {
             "colorbar": {
              "outlinewidth": 0,
              "ticks": ""
             }
            },
            "marker": {
             "colorbar": {
              "outlinewidth": 0,
              "ticks": ""
             }
            },
            "type": "scatter3d"
           }
          ],
          "scattercarpet": [
           {
            "marker": {
             "colorbar": {
              "outlinewidth": 0,
              "ticks": ""
             }
            },
            "type": "scattercarpet"
           }
          ],
          "scattergeo": [
           {
            "marker": {
             "colorbar": {
              "outlinewidth": 0,
              "ticks": ""
             }
            },
            "type": "scattergeo"
           }
          ],
          "scattergl": [
           {
            "marker": {
             "colorbar": {
              "outlinewidth": 0,
              "ticks": ""
             }
            },
            "type": "scattergl"
           }
          ],
          "scattermapbox": [
           {
            "marker": {
             "colorbar": {
              "outlinewidth": 0,
              "ticks": ""
             }
            },
            "type": "scattermapbox"
           }
          ],
          "scatterpolar": [
           {
            "marker": {
             "colorbar": {
              "outlinewidth": 0,
              "ticks": ""
             }
            },
            "type": "scatterpolar"
           }
          ],
          "scatterpolargl": [
           {
            "marker": {
             "colorbar": {
              "outlinewidth": 0,
              "ticks": ""
             }
            },
            "type": "scatterpolargl"
           }
          ],
          "scatterternary": [
           {
            "marker": {
             "colorbar": {
              "outlinewidth": 0,
              "ticks": ""
             }
            },
            "type": "scatterternary"
           }
          ],
          "surface": [
           {
            "colorbar": {
             "outlinewidth": 0,
             "ticks": ""
            },
            "colorscale": [
             [
              0,
              "#0d0887"
             ],
             [
              0.1111111111111111,
              "#46039f"
             ],
             [
              0.2222222222222222,
              "#7201a8"
             ],
             [
              0.3333333333333333,
              "#9c179e"
             ],
             [
              0.4444444444444444,
              "#bd3786"
             ],
             [
              0.5555555555555556,
              "#d8576b"
             ],
             [
              0.6666666666666666,
              "#ed7953"
             ],
             [
              0.7777777777777778,
              "#fb9f3a"
             ],
             [
              0.8888888888888888,
              "#fdca26"
             ],
             [
              1,
              "#f0f921"
             ]
            ],
            "type": "surface"
           }
          ],
          "table": [
           {
            "cells": {
             "fill": {
              "color": "#EBF0F8"
             },
             "line": {
              "color": "white"
             }
            },
            "header": {
             "fill": {
              "color": "#C8D4E3"
             },
             "line": {
              "color": "white"
             }
            },
            "type": "table"
           }
          ]
         },
         "layout": {
          "annotationdefaults": {
           "arrowcolor": "#2a3f5f",
           "arrowhead": 0,
           "arrowwidth": 1
          },
          "autotypenumbers": "strict",
          "coloraxis": {
           "colorbar": {
            "outlinewidth": 0,
            "ticks": ""
           }
          },
          "colorscale": {
           "diverging": [
            [
             0,
             "#8e0152"
            ],
            [
             0.1,
             "#c51b7d"
            ],
            [
             0.2,
             "#de77ae"
            ],
            [
             0.3,
             "#f1b6da"
            ],
            [
             0.4,
             "#fde0ef"
            ],
            [
             0.5,
             "#f7f7f7"
            ],
            [
             0.6,
             "#e6f5d0"
            ],
            [
             0.7,
             "#b8e186"
            ],
            [
             0.8,
             "#7fbc41"
            ],
            [
             0.9,
             "#4d9221"
            ],
            [
             1,
             "#276419"
            ]
           ],
           "sequential": [
            [
             0,
             "#0d0887"
            ],
            [
             0.1111111111111111,
             "#46039f"
            ],
            [
             0.2222222222222222,
             "#7201a8"
            ],
            [
             0.3333333333333333,
             "#9c179e"
            ],
            [
             0.4444444444444444,
             "#bd3786"
            ],
            [
             0.5555555555555556,
             "#d8576b"
            ],
            [
             0.6666666666666666,
             "#ed7953"
            ],
            [
             0.7777777777777778,
             "#fb9f3a"
            ],
            [
             0.8888888888888888,
             "#fdca26"
            ],
            [
             1,
             "#f0f921"
            ]
           ],
           "sequentialminus": [
            [
             0,
             "#0d0887"
            ],
            [
             0.1111111111111111,
             "#46039f"
            ],
            [
             0.2222222222222222,
             "#7201a8"
            ],
            [
             0.3333333333333333,
             "#9c179e"
            ],
            [
             0.4444444444444444,
             "#bd3786"
            ],
            [
             0.5555555555555556,
             "#d8576b"
            ],
            [
             0.6666666666666666,
             "#ed7953"
            ],
            [
             0.7777777777777778,
             "#fb9f3a"
            ],
            [
             0.8888888888888888,
             "#fdca26"
            ],
            [
             1,
             "#f0f921"
            ]
           ]
          },
          "colorway": [
           "#636efa",
           "#EF553B",
           "#00cc96",
           "#ab63fa",
           "#FFA15A",
           "#19d3f3",
           "#FF6692",
           "#B6E880",
           "#FF97FF",
           "#FECB52"
          ],
          "font": {
           "color": "#2a3f5f"
          },
          "geo": {
           "bgcolor": "white",
           "lakecolor": "white",
           "landcolor": "#E5ECF6",
           "showlakes": true,
           "showland": true,
           "subunitcolor": "white"
          },
          "hoverlabel": {
           "align": "left"
          },
          "hovermode": "closest",
          "mapbox": {
           "style": "light"
          },
          "paper_bgcolor": "white",
          "plot_bgcolor": "#E5ECF6",
          "polar": {
           "angularaxis": {
            "gridcolor": "white",
            "linecolor": "white",
            "ticks": ""
           },
           "bgcolor": "#E5ECF6",
           "radialaxis": {
            "gridcolor": "white",
            "linecolor": "white",
            "ticks": ""
           }
          },
          "scene": {
           "xaxis": {
            "backgroundcolor": "#E5ECF6",
            "gridcolor": "white",
            "gridwidth": 2,
            "linecolor": "white",
            "showbackground": true,
            "ticks": "",
            "zerolinecolor": "white"
           },
           "yaxis": {
            "backgroundcolor": "#E5ECF6",
            "gridcolor": "white",
            "gridwidth": 2,
            "linecolor": "white",
            "showbackground": true,
            "ticks": "",
            "zerolinecolor": "white"
           },
           "zaxis": {
            "backgroundcolor": "#E5ECF6",
            "gridcolor": "white",
            "gridwidth": 2,
            "linecolor": "white",
            "showbackground": true,
            "ticks": "",
            "zerolinecolor": "white"
           }
          },
          "shapedefaults": {
           "line": {
            "color": "#2a3f5f"
           }
          },
          "ternary": {
           "aaxis": {
            "gridcolor": "white",
            "linecolor": "white",
            "ticks": ""
           },
           "baxis": {
            "gridcolor": "white",
            "linecolor": "white",
            "ticks": ""
           },
           "bgcolor": "#E5ECF6",
           "caxis": {
            "gridcolor": "white",
            "linecolor": "white",
            "ticks": ""
           }
          },
          "title": {
           "x": 0.05
          },
          "xaxis": {
           "automargin": true,
           "gridcolor": "white",
           "linecolor": "white",
           "ticks": "",
           "title": {
            "standoff": 15
           },
           "zerolinecolor": "white",
           "zerolinewidth": 2
          },
          "yaxis": {
           "automargin": true,
           "gridcolor": "white",
           "linecolor": "white",
           "ticks": "",
           "title": {
            "standoff": 15
           },
           "zerolinecolor": "white",
           "zerolinewidth": 2
          }
         }
        },
        "title": {
         "font": {
          "color": "#4D5663"
         }
        },
        "xaxis": {
         "gridcolor": "#E1E5ED",
         "showgrid": true,
         "tickfont": {
          "color": "#4D5663"
         },
         "title": {
          "font": {
           "color": "#4D5663"
          },
          "text": ""
         },
         "zerolinecolor": "#E1E5ED"
        },
        "yaxis": {
         "gridcolor": "#E1E5ED",
         "showgrid": true,
         "tickfont": {
          "color": "#4D5663"
         },
         "title": {
          "font": {
           "color": "#4D5663"
          },
          "text": ""
         },
         "zerolinecolor": "#E1E5ED"
        }
       }
      },
      "text/html": [
       "<div>                            <div id=\"935b91a5-1abf-4184-a427-2c5553b087b3\" class=\"plotly-graph-div\" style=\"height:525px; width:100%;\"></div>            <script type=\"text/javascript\">                require([\"plotly\"], function(Plotly) {                    window.PLOTLYENV=window.PLOTLYENV || {};\n",
       "                    window.PLOTLYENV.BASE_URL='https://plot.ly';                                    if (document.getElementById(\"935b91a5-1abf-4184-a427-2c5553b087b3\")) {                    Plotly.newPlot(                        \"935b91a5-1abf-4184-a427-2c5553b087b3\",                        [{\"marker\":{\"color\":\"rgba(255, 153, 51, 0.6)\",\"line\":{\"color\":\"rgba(255, 153, 51, 1.0)\",\"width\":1}},\"name\":\"None\",\"orientation\":\"v\",\"text\":\"\",\"x\":[\"A\",\"B\",\"C\",\"D\"],\"y\":[100,100,100,100],\"type\":\"bar\"}],                        {\"legend\":{\"bgcolor\":\"#F5F6F9\",\"font\":{\"color\":\"#4D5663\"}},\"paper_bgcolor\":\"#F5F6F9\",\"plot_bgcolor\":\"#F5F6F9\",\"template\":{\"data\":{\"barpolar\":[{\"marker\":{\"line\":{\"color\":\"#E5ECF6\",\"width\":0.5},\"pattern\":{\"fillmode\":\"overlay\",\"size\":10,\"solidity\":0.2}},\"type\":\"barpolar\"}],\"bar\":[{\"error_x\":{\"color\":\"#2a3f5f\"},\"error_y\":{\"color\":\"#2a3f5f\"},\"marker\":{\"line\":{\"color\":\"#E5ECF6\",\"width\":0.5},\"pattern\":{\"fillmode\":\"overlay\",\"size\":10,\"solidity\":0.2}},\"type\":\"bar\"}],\"carpet\":[{\"aaxis\":{\"endlinecolor\":\"#2a3f5f\",\"gridcolor\":\"white\",\"linecolor\":\"white\",\"minorgridcolor\":\"white\",\"startlinecolor\":\"#2a3f5f\"},\"baxis\":{\"endlinecolor\":\"#2a3f5f\",\"gridcolor\":\"white\",\"linecolor\":\"white\",\"minorgridcolor\":\"white\",\"startlinecolor\":\"#2a3f5f\"},\"type\":\"carpet\"}],\"choropleth\":[{\"colorbar\":{\"outlinewidth\":0,\"ticks\":\"\"},\"type\":\"choropleth\"}],\"contourcarpet\":[{\"colorbar\":{\"outlinewidth\":0,\"ticks\":\"\"},\"type\":\"contourcarpet\"}],\"contour\":[{\"colorbar\":{\"outlinewidth\":0,\"ticks\":\"\"},\"colorscale\":[[0.0,\"#0d0887\"],[0.1111111111111111,\"#46039f\"],[0.2222222222222222,\"#7201a8\"],[0.3333333333333333,\"#9c179e\"],[0.4444444444444444,\"#bd3786\"],[0.5555555555555556,\"#d8576b\"],[0.6666666666666666,\"#ed7953\"],[0.7777777777777778,\"#fb9f3a\"],[0.8888888888888888,\"#fdca26\"],[1.0,\"#f0f921\"]],\"type\":\"contour\"}],\"heatmapgl\":[{\"colorbar\":{\"outlinewidth\":0,\"ticks\":\"\"},\"colorscale\":[[0.0,\"#0d0887\"],[0.1111111111111111,\"#46039f\"],[0.2222222222222222,\"#7201a8\"],[0.3333333333333333,\"#9c179e\"],[0.4444444444444444,\"#bd3786\"],[0.5555555555555556,\"#d8576b\"],[0.6666666666666666,\"#ed7953\"],[0.7777777777777778,\"#fb9f3a\"],[0.8888888888888888,\"#fdca26\"],[1.0,\"#f0f921\"]],\"type\":\"heatmapgl\"}],\"heatmap\":[{\"colorbar\":{\"outlinewidth\":0,\"ticks\":\"\"},\"colorscale\":[[0.0,\"#0d0887\"],[0.1111111111111111,\"#46039f\"],[0.2222222222222222,\"#7201a8\"],[0.3333333333333333,\"#9c179e\"],[0.4444444444444444,\"#bd3786\"],[0.5555555555555556,\"#d8576b\"],[0.6666666666666666,\"#ed7953\"],[0.7777777777777778,\"#fb9f3a\"],[0.8888888888888888,\"#fdca26\"],[1.0,\"#f0f921\"]],\"type\":\"heatmap\"}],\"histogram2dcontour\":[{\"colorbar\":{\"outlinewidth\":0,\"ticks\":\"\"},\"colorscale\":[[0.0,\"#0d0887\"],[0.1111111111111111,\"#46039f\"],[0.2222222222222222,\"#7201a8\"],[0.3333333333333333,\"#9c179e\"],[0.4444444444444444,\"#bd3786\"],[0.5555555555555556,\"#d8576b\"],[0.6666666666666666,\"#ed7953\"],[0.7777777777777778,\"#fb9f3a\"],[0.8888888888888888,\"#fdca26\"],[1.0,\"#f0f921\"]],\"type\":\"histogram2dcontour\"}],\"histogram2d\":[{\"colorbar\":{\"outlinewidth\":0,\"ticks\":\"\"},\"colorscale\":[[0.0,\"#0d0887\"],[0.1111111111111111,\"#46039f\"],[0.2222222222222222,\"#7201a8\"],[0.3333333333333333,\"#9c179e\"],[0.4444444444444444,\"#bd3786\"],[0.5555555555555556,\"#d8576b\"],[0.6666666666666666,\"#ed7953\"],[0.7777777777777778,\"#fb9f3a\"],[0.8888888888888888,\"#fdca26\"],[1.0,\"#f0f921\"]],\"type\":\"histogram2d\"}],\"histogram\":[{\"marker\":{\"pattern\":{\"fillmode\":\"overlay\",\"size\":10,\"solidity\":0.2}},\"type\":\"histogram\"}],\"mesh3d\":[{\"colorbar\":{\"outlinewidth\":0,\"ticks\":\"\"},\"type\":\"mesh3d\"}],\"parcoords\":[{\"line\":{\"colorbar\":{\"outlinewidth\":0,\"ticks\":\"\"}},\"type\":\"parcoords\"}],\"pie\":[{\"automargin\":true,\"type\":\"pie\"}],\"scatter3d\":[{\"line\":{\"colorbar\":{\"outlinewidth\":0,\"ticks\":\"\"}},\"marker\":{\"colorbar\":{\"outlinewidth\":0,\"ticks\":\"\"}},\"type\":\"scatter3d\"}],\"scattercarpet\":[{\"marker\":{\"colorbar\":{\"outlinewidth\":0,\"ticks\":\"\"}},\"type\":\"scattercarpet\"}],\"scattergeo\":[{\"marker\":{\"colorbar\":{\"outlinewidth\":0,\"ticks\":\"\"}},\"type\":\"scattergeo\"}],\"scattergl\":[{\"marker\":{\"colorbar\":{\"outlinewidth\":0,\"ticks\":\"\"}},\"type\":\"scattergl\"}],\"scattermapbox\":[{\"marker\":{\"colorbar\":{\"outlinewidth\":0,\"ticks\":\"\"}},\"type\":\"scattermapbox\"}],\"scatterpolargl\":[{\"marker\":{\"colorbar\":{\"outlinewidth\":0,\"ticks\":\"\"}},\"type\":\"scatterpolargl\"}],\"scatterpolar\":[{\"marker\":{\"colorbar\":{\"outlinewidth\":0,\"ticks\":\"\"}},\"type\":\"scatterpolar\"}],\"scatter\":[{\"fillpattern\":{\"fillmode\":\"overlay\",\"size\":10,\"solidity\":0.2},\"type\":\"scatter\"}],\"scatterternary\":[{\"marker\":{\"colorbar\":{\"outlinewidth\":0,\"ticks\":\"\"}},\"type\":\"scatterternary\"}],\"surface\":[{\"colorbar\":{\"outlinewidth\":0,\"ticks\":\"\"},\"colorscale\":[[0.0,\"#0d0887\"],[0.1111111111111111,\"#46039f\"],[0.2222222222222222,\"#7201a8\"],[0.3333333333333333,\"#9c179e\"],[0.4444444444444444,\"#bd3786\"],[0.5555555555555556,\"#d8576b\"],[0.6666666666666666,\"#ed7953\"],[0.7777777777777778,\"#fb9f3a\"],[0.8888888888888888,\"#fdca26\"],[1.0,\"#f0f921\"]],\"type\":\"surface\"}],\"table\":[{\"cells\":{\"fill\":{\"color\":\"#EBF0F8\"},\"line\":{\"color\":\"white\"}},\"header\":{\"fill\":{\"color\":\"#C8D4E3\"},\"line\":{\"color\":\"white\"}},\"type\":\"table\"}]},\"layout\":{\"annotationdefaults\":{\"arrowcolor\":\"#2a3f5f\",\"arrowhead\":0,\"arrowwidth\":1},\"autotypenumbers\":\"strict\",\"coloraxis\":{\"colorbar\":{\"outlinewidth\":0,\"ticks\":\"\"}},\"colorscale\":{\"diverging\":[[0,\"#8e0152\"],[0.1,\"#c51b7d\"],[0.2,\"#de77ae\"],[0.3,\"#f1b6da\"],[0.4,\"#fde0ef\"],[0.5,\"#f7f7f7\"],[0.6,\"#e6f5d0\"],[0.7,\"#b8e186\"],[0.8,\"#7fbc41\"],[0.9,\"#4d9221\"],[1,\"#276419\"]],\"sequential\":[[0.0,\"#0d0887\"],[0.1111111111111111,\"#46039f\"],[0.2222222222222222,\"#7201a8\"],[0.3333333333333333,\"#9c179e\"],[0.4444444444444444,\"#bd3786\"],[0.5555555555555556,\"#d8576b\"],[0.6666666666666666,\"#ed7953\"],[0.7777777777777778,\"#fb9f3a\"],[0.8888888888888888,\"#fdca26\"],[1.0,\"#f0f921\"]],\"sequentialminus\":[[0.0,\"#0d0887\"],[0.1111111111111111,\"#46039f\"],[0.2222222222222222,\"#7201a8\"],[0.3333333333333333,\"#9c179e\"],[0.4444444444444444,\"#bd3786\"],[0.5555555555555556,\"#d8576b\"],[0.6666666666666666,\"#ed7953\"],[0.7777777777777778,\"#fb9f3a\"],[0.8888888888888888,\"#fdca26\"],[1.0,\"#f0f921\"]]},\"colorway\":[\"#636efa\",\"#EF553B\",\"#00cc96\",\"#ab63fa\",\"#FFA15A\",\"#19d3f3\",\"#FF6692\",\"#B6E880\",\"#FF97FF\",\"#FECB52\"],\"font\":{\"color\":\"#2a3f5f\"},\"geo\":{\"bgcolor\":\"white\",\"lakecolor\":\"white\",\"landcolor\":\"#E5ECF6\",\"showlakes\":true,\"showland\":true,\"subunitcolor\":\"white\"},\"hoverlabel\":{\"align\":\"left\"},\"hovermode\":\"closest\",\"mapbox\":{\"style\":\"light\"},\"paper_bgcolor\":\"white\",\"plot_bgcolor\":\"#E5ECF6\",\"polar\":{\"angularaxis\":{\"gridcolor\":\"white\",\"linecolor\":\"white\",\"ticks\":\"\"},\"bgcolor\":\"#E5ECF6\",\"radialaxis\":{\"gridcolor\":\"white\",\"linecolor\":\"white\",\"ticks\":\"\"}},\"scene\":{\"xaxis\":{\"backgroundcolor\":\"#E5ECF6\",\"gridcolor\":\"white\",\"gridwidth\":2,\"linecolor\":\"white\",\"showbackground\":true,\"ticks\":\"\",\"zerolinecolor\":\"white\"},\"yaxis\":{\"backgroundcolor\":\"#E5ECF6\",\"gridcolor\":\"white\",\"gridwidth\":2,\"linecolor\":\"white\",\"showbackground\":true,\"ticks\":\"\",\"zerolinecolor\":\"white\"},\"zaxis\":{\"backgroundcolor\":\"#E5ECF6\",\"gridcolor\":\"white\",\"gridwidth\":2,\"linecolor\":\"white\",\"showbackground\":true,\"ticks\":\"\",\"zerolinecolor\":\"white\"}},\"shapedefaults\":{\"line\":{\"color\":\"#2a3f5f\"}},\"ternary\":{\"aaxis\":{\"gridcolor\":\"white\",\"linecolor\":\"white\",\"ticks\":\"\"},\"baxis\":{\"gridcolor\":\"white\",\"linecolor\":\"white\",\"ticks\":\"\"},\"bgcolor\":\"#E5ECF6\",\"caxis\":{\"gridcolor\":\"white\",\"linecolor\":\"white\",\"ticks\":\"\"}},\"title\":{\"x\":0.05},\"xaxis\":{\"automargin\":true,\"gridcolor\":\"white\",\"linecolor\":\"white\",\"ticks\":\"\",\"title\":{\"standoff\":15},\"zerolinecolor\":\"white\",\"zerolinewidth\":2},\"yaxis\":{\"automargin\":true,\"gridcolor\":\"white\",\"linecolor\":\"white\",\"ticks\":\"\",\"title\":{\"standoff\":15},\"zerolinecolor\":\"white\",\"zerolinewidth\":2}}},\"title\":{\"font\":{\"color\":\"#4D5663\"}},\"xaxis\":{\"gridcolor\":\"#E1E5ED\",\"showgrid\":true,\"tickfont\":{\"color\":\"#4D5663\"},\"title\":{\"font\":{\"color\":\"#4D5663\"},\"text\":\"\"},\"zerolinecolor\":\"#E1E5ED\"},\"yaxis\":{\"gridcolor\":\"#E1E5ED\",\"showgrid\":true,\"tickfont\":{\"color\":\"#4D5663\"},\"title\":{\"font\":{\"color\":\"#4D5663\"},\"text\":\"\"},\"zerolinecolor\":\"#E1E5ED\"}},                        {\"showLink\": true, \"linkText\": \"Export to plot.ly\", \"plotlyServerURL\": \"https://plot.ly\", \"responsive\": true}                    ).then(function(){\n",
       "                            \n",
       "var gd = document.getElementById('935b91a5-1abf-4184-a427-2c5553b087b3');\n",
       "var x = new MutationObserver(function (mutations, observer) {{\n",
       "        var display = window.getComputedStyle(gd).display;\n",
       "        if (!display || display === 'none') {{\n",
       "            console.log([gd, 'removed!']);\n",
       "            Plotly.purge(gd);\n",
       "            observer.disconnect();\n",
       "        }}\n",
       "}});\n",
       "\n",
       "// Listen for the removal of the full notebook cells\n",
       "var notebookContainer = gd.closest('#notebook-container');\n",
       "if (notebookContainer) {{\n",
       "    x.observe(notebookContainer, {childList: true});\n",
       "}}\n",
       "\n",
       "// Listen for the clearing of the current output cell\n",
       "var outputEl = gd.closest('.output');\n",
       "if (outputEl) {{\n",
       "    x.observe(outputEl, {childList: true});\n",
       "}}\n",
       "\n",
       "                        })                };                });            </script>        </div>"
      ]
     },
     "metadata": {},
     "output_type": "display_data"
    }
   ],
   "source": [
    "df.count().iplot(kind='bar') # Função de agregação"
   ]
  },
  {
   "cell_type": "code",
   "execution_count": 18,
   "id": "ff962c7e",
   "metadata": {},
   "outputs": [
    {
     "data": {
      "application/vnd.plotly.v1+json": {
       "config": {
        "linkText": "Export to plot.ly",
        "plotlyServerURL": "https://plot.ly",
        "showLink": true
       },
       "data": [
        {
         "marker": {
          "color": "rgba(255, 153, 51, 0.6)",
          "line": {
           "color": "rgba(255, 153, 51, 1.0)",
           "width": 1
          }
         },
         "name": "None",
         "orientation": "v",
         "text": "",
         "type": "bar",
         "x": [
          "A",
          "B",
          "C",
          "D"
         ],
         "y": [
          8.229601349473107,
          -15.635766116205618,
          1.487380250370308,
          23.94765558710426
         ]
        }
       ],
       "layout": {
        "legend": {
         "bgcolor": "#F5F6F9",
         "font": {
          "color": "#4D5663"
         }
        },
        "paper_bgcolor": "#F5F6F9",
        "plot_bgcolor": "#F5F6F9",
        "template": {
         "data": {
          "bar": [
           {
            "error_x": {
             "color": "#2a3f5f"
            },
            "error_y": {
             "color": "#2a3f5f"
            },
            "marker": {
             "line": {
              "color": "#E5ECF6",
              "width": 0.5
             },
             "pattern": {
              "fillmode": "overlay",
              "size": 10,
              "solidity": 0.2
             }
            },
            "type": "bar"
           }
          ],
          "barpolar": [
           {
            "marker": {
             "line": {
              "color": "#E5ECF6",
              "width": 0.5
             },
             "pattern": {
              "fillmode": "overlay",
              "size": 10,
              "solidity": 0.2
             }
            },
            "type": "barpolar"
           }
          ],
          "carpet": [
           {
            "aaxis": {
             "endlinecolor": "#2a3f5f",
             "gridcolor": "white",
             "linecolor": "white",
             "minorgridcolor": "white",
             "startlinecolor": "#2a3f5f"
            },
            "baxis": {
             "endlinecolor": "#2a3f5f",
             "gridcolor": "white",
             "linecolor": "white",
             "minorgridcolor": "white",
             "startlinecolor": "#2a3f5f"
            },
            "type": "carpet"
           }
          ],
          "choropleth": [
           {
            "colorbar": {
             "outlinewidth": 0,
             "ticks": ""
            },
            "type": "choropleth"
           }
          ],
          "contour": [
           {
            "colorbar": {
             "outlinewidth": 0,
             "ticks": ""
            },
            "colorscale": [
             [
              0,
              "#0d0887"
             ],
             [
              0.1111111111111111,
              "#46039f"
             ],
             [
              0.2222222222222222,
              "#7201a8"
             ],
             [
              0.3333333333333333,
              "#9c179e"
             ],
             [
              0.4444444444444444,
              "#bd3786"
             ],
             [
              0.5555555555555556,
              "#d8576b"
             ],
             [
              0.6666666666666666,
              "#ed7953"
             ],
             [
              0.7777777777777778,
              "#fb9f3a"
             ],
             [
              0.8888888888888888,
              "#fdca26"
             ],
             [
              1,
              "#f0f921"
             ]
            ],
            "type": "contour"
           }
          ],
          "contourcarpet": [
           {
            "colorbar": {
             "outlinewidth": 0,
             "ticks": ""
            },
            "type": "contourcarpet"
           }
          ],
          "heatmap": [
           {
            "colorbar": {
             "outlinewidth": 0,
             "ticks": ""
            },
            "colorscale": [
             [
              0,
              "#0d0887"
             ],
             [
              0.1111111111111111,
              "#46039f"
             ],
             [
              0.2222222222222222,
              "#7201a8"
             ],
             [
              0.3333333333333333,
              "#9c179e"
             ],
             [
              0.4444444444444444,
              "#bd3786"
             ],
             [
              0.5555555555555556,
              "#d8576b"
             ],
             [
              0.6666666666666666,
              "#ed7953"
             ],
             [
              0.7777777777777778,
              "#fb9f3a"
             ],
             [
              0.8888888888888888,
              "#fdca26"
             ],
             [
              1,
              "#f0f921"
             ]
            ],
            "type": "heatmap"
           }
          ],
          "heatmapgl": [
           {
            "colorbar": {
             "outlinewidth": 0,
             "ticks": ""
            },
            "colorscale": [
             [
              0,
              "#0d0887"
             ],
             [
              0.1111111111111111,
              "#46039f"
             ],
             [
              0.2222222222222222,
              "#7201a8"
             ],
             [
              0.3333333333333333,
              "#9c179e"
             ],
             [
              0.4444444444444444,
              "#bd3786"
             ],
             [
              0.5555555555555556,
              "#d8576b"
             ],
             [
              0.6666666666666666,
              "#ed7953"
             ],
             [
              0.7777777777777778,
              "#fb9f3a"
             ],
             [
              0.8888888888888888,
              "#fdca26"
             ],
             [
              1,
              "#f0f921"
             ]
            ],
            "type": "heatmapgl"
           }
          ],
          "histogram": [
           {
            "marker": {
             "pattern": {
              "fillmode": "overlay",
              "size": 10,
              "solidity": 0.2
             }
            },
            "type": "histogram"
           }
          ],
          "histogram2d": [
           {
            "colorbar": {
             "outlinewidth": 0,
             "ticks": ""
            },
            "colorscale": [
             [
              0,
              "#0d0887"
             ],
             [
              0.1111111111111111,
              "#46039f"
             ],
             [
              0.2222222222222222,
              "#7201a8"
             ],
             [
              0.3333333333333333,
              "#9c179e"
             ],
             [
              0.4444444444444444,
              "#bd3786"
             ],
             [
              0.5555555555555556,
              "#d8576b"
             ],
             [
              0.6666666666666666,
              "#ed7953"
             ],
             [
              0.7777777777777778,
              "#fb9f3a"
             ],
             [
              0.8888888888888888,
              "#fdca26"
             ],
             [
              1,
              "#f0f921"
             ]
            ],
            "type": "histogram2d"
           }
          ],
          "histogram2dcontour": [
           {
            "colorbar": {
             "outlinewidth": 0,
             "ticks": ""
            },
            "colorscale": [
             [
              0,
              "#0d0887"
             ],
             [
              0.1111111111111111,
              "#46039f"
             ],
             [
              0.2222222222222222,
              "#7201a8"
             ],
             [
              0.3333333333333333,
              "#9c179e"
             ],
             [
              0.4444444444444444,
              "#bd3786"
             ],
             [
              0.5555555555555556,
              "#d8576b"
             ],
             [
              0.6666666666666666,
              "#ed7953"
             ],
             [
              0.7777777777777778,
              "#fb9f3a"
             ],
             [
              0.8888888888888888,
              "#fdca26"
             ],
             [
              1,
              "#f0f921"
             ]
            ],
            "type": "histogram2dcontour"
           }
          ],
          "mesh3d": [
           {
            "colorbar": {
             "outlinewidth": 0,
             "ticks": ""
            },
            "type": "mesh3d"
           }
          ],
          "parcoords": [
           {
            "line": {
             "colorbar": {
              "outlinewidth": 0,
              "ticks": ""
             }
            },
            "type": "parcoords"
           }
          ],
          "pie": [
           {
            "automargin": true,
            "type": "pie"
           }
          ],
          "scatter": [
           {
            "fillpattern": {
             "fillmode": "overlay",
             "size": 10,
             "solidity": 0.2
            },
            "type": "scatter"
           }
          ],
          "scatter3d": [
           {
            "line": {
             "colorbar": {
              "outlinewidth": 0,
              "ticks": ""
             }
            },
            "marker": {
             "colorbar": {
              "outlinewidth": 0,
              "ticks": ""
             }
            },
            "type": "scatter3d"
           }
          ],
          "scattercarpet": [
           {
            "marker": {
             "colorbar": {
              "outlinewidth": 0,
              "ticks": ""
             }
            },
            "type": "scattercarpet"
           }
          ],
          "scattergeo": [
           {
            "marker": {
             "colorbar": {
              "outlinewidth": 0,
              "ticks": ""
             }
            },
            "type": "scattergeo"
           }
          ],
          "scattergl": [
           {
            "marker": {
             "colorbar": {
              "outlinewidth": 0,
              "ticks": ""
             }
            },
            "type": "scattergl"
           }
          ],
          "scattermapbox": [
           {
            "marker": {
             "colorbar": {
              "outlinewidth": 0,
              "ticks": ""
             }
            },
            "type": "scattermapbox"
           }
          ],
          "scatterpolar": [
           {
            "marker": {
             "colorbar": {
              "outlinewidth": 0,
              "ticks": ""
             }
            },
            "type": "scatterpolar"
           }
          ],
          "scatterpolargl": [
           {
            "marker": {
             "colorbar": {
              "outlinewidth": 0,
              "ticks": ""
             }
            },
            "type": "scatterpolargl"
           }
          ],
          "scatterternary": [
           {
            "marker": {
             "colorbar": {
              "outlinewidth": 0,
              "ticks": ""
             }
            },
            "type": "scatterternary"
           }
          ],
          "surface": [
           {
            "colorbar": {
             "outlinewidth": 0,
             "ticks": ""
            },
            "colorscale": [
             [
              0,
              "#0d0887"
             ],
             [
              0.1111111111111111,
              "#46039f"
             ],
             [
              0.2222222222222222,
              "#7201a8"
             ],
             [
              0.3333333333333333,
              "#9c179e"
             ],
             [
              0.4444444444444444,
              "#bd3786"
             ],
             [
              0.5555555555555556,
              "#d8576b"
             ],
             [
              0.6666666666666666,
              "#ed7953"
             ],
             [
              0.7777777777777778,
              "#fb9f3a"
             ],
             [
              0.8888888888888888,
              "#fdca26"
             ],
             [
              1,
              "#f0f921"
             ]
            ],
            "type": "surface"
           }
          ],
          "table": [
           {
            "cells": {
             "fill": {
              "color": "#EBF0F8"
             },
             "line": {
              "color": "white"
             }
            },
            "header": {
             "fill": {
              "color": "#C8D4E3"
             },
             "line": {
              "color": "white"
             }
            },
            "type": "table"
           }
          ]
         },
         "layout": {
          "annotationdefaults": {
           "arrowcolor": "#2a3f5f",
           "arrowhead": 0,
           "arrowwidth": 1
          },
          "autotypenumbers": "strict",
          "coloraxis": {
           "colorbar": {
            "outlinewidth": 0,
            "ticks": ""
           }
          },
          "colorscale": {
           "diverging": [
            [
             0,
             "#8e0152"
            ],
            [
             0.1,
             "#c51b7d"
            ],
            [
             0.2,
             "#de77ae"
            ],
            [
             0.3,
             "#f1b6da"
            ],
            [
             0.4,
             "#fde0ef"
            ],
            [
             0.5,
             "#f7f7f7"
            ],
            [
             0.6,
             "#e6f5d0"
            ],
            [
             0.7,
             "#b8e186"
            ],
            [
             0.8,
             "#7fbc41"
            ],
            [
             0.9,
             "#4d9221"
            ],
            [
             1,
             "#276419"
            ]
           ],
           "sequential": [
            [
             0,
             "#0d0887"
            ],
            [
             0.1111111111111111,
             "#46039f"
            ],
            [
             0.2222222222222222,
             "#7201a8"
            ],
            [
             0.3333333333333333,
             "#9c179e"
            ],
            [
             0.4444444444444444,
             "#bd3786"
            ],
            [
             0.5555555555555556,
             "#d8576b"
            ],
            [
             0.6666666666666666,
             "#ed7953"
            ],
            [
             0.7777777777777778,
             "#fb9f3a"
            ],
            [
             0.8888888888888888,
             "#fdca26"
            ],
            [
             1,
             "#f0f921"
            ]
           ],
           "sequentialminus": [
            [
             0,
             "#0d0887"
            ],
            [
             0.1111111111111111,
             "#46039f"
            ],
            [
             0.2222222222222222,
             "#7201a8"
            ],
            [
             0.3333333333333333,
             "#9c179e"
            ],
            [
             0.4444444444444444,
             "#bd3786"
            ],
            [
             0.5555555555555556,
             "#d8576b"
            ],
            [
             0.6666666666666666,
             "#ed7953"
            ],
            [
             0.7777777777777778,
             "#fb9f3a"
            ],
            [
             0.8888888888888888,
             "#fdca26"
            ],
            [
             1,
             "#f0f921"
            ]
           ]
          },
          "colorway": [
           "#636efa",
           "#EF553B",
           "#00cc96",
           "#ab63fa",
           "#FFA15A",
           "#19d3f3",
           "#FF6692",
           "#B6E880",
           "#FF97FF",
           "#FECB52"
          ],
          "font": {
           "color": "#2a3f5f"
          },
          "geo": {
           "bgcolor": "white",
           "lakecolor": "white",
           "landcolor": "#E5ECF6",
           "showlakes": true,
           "showland": true,
           "subunitcolor": "white"
          },
          "hoverlabel": {
           "align": "left"
          },
          "hovermode": "closest",
          "mapbox": {
           "style": "light"
          },
          "paper_bgcolor": "white",
          "plot_bgcolor": "#E5ECF6",
          "polar": {
           "angularaxis": {
            "gridcolor": "white",
            "linecolor": "white",
            "ticks": ""
           },
           "bgcolor": "#E5ECF6",
           "radialaxis": {
            "gridcolor": "white",
            "linecolor": "white",
            "ticks": ""
           }
          },
          "scene": {
           "xaxis": {
            "backgroundcolor": "#E5ECF6",
            "gridcolor": "white",
            "gridwidth": 2,
            "linecolor": "white",
            "showbackground": true,
            "ticks": "",
            "zerolinecolor": "white"
           },
           "yaxis": {
            "backgroundcolor": "#E5ECF6",
            "gridcolor": "white",
            "gridwidth": 2,
            "linecolor": "white",
            "showbackground": true,
            "ticks": "",
            "zerolinecolor": "white"
           },
           "zaxis": {
            "backgroundcolor": "#E5ECF6",
            "gridcolor": "white",
            "gridwidth": 2,
            "linecolor": "white",
            "showbackground": true,
            "ticks": "",
            "zerolinecolor": "white"
           }
          },
          "shapedefaults": {
           "line": {
            "color": "#2a3f5f"
           }
          },
          "ternary": {
           "aaxis": {
            "gridcolor": "white",
            "linecolor": "white",
            "ticks": ""
           },
           "baxis": {
            "gridcolor": "white",
            "linecolor": "white",
            "ticks": ""
           },
           "bgcolor": "#E5ECF6",
           "caxis": {
            "gridcolor": "white",
            "linecolor": "white",
            "ticks": ""
           }
          },
          "title": {
           "x": 0.05
          },
          "xaxis": {
           "automargin": true,
           "gridcolor": "white",
           "linecolor": "white",
           "ticks": "",
           "title": {
            "standoff": 15
           },
           "zerolinecolor": "white",
           "zerolinewidth": 2
          },
          "yaxis": {
           "automargin": true,
           "gridcolor": "white",
           "linecolor": "white",
           "ticks": "",
           "title": {
            "standoff": 15
           },
           "zerolinecolor": "white",
           "zerolinewidth": 2
          }
         }
        },
        "title": {
         "font": {
          "color": "#4D5663"
         }
        },
        "xaxis": {
         "gridcolor": "#E1E5ED",
         "showgrid": true,
         "tickfont": {
          "color": "#4D5663"
         },
         "title": {
          "font": {
           "color": "#4D5663"
          },
          "text": ""
         },
         "zerolinecolor": "#E1E5ED"
        },
        "yaxis": {
         "gridcolor": "#E1E5ED",
         "showgrid": true,
         "tickfont": {
          "color": "#4D5663"
         },
         "title": {
          "font": {
           "color": "#4D5663"
          },
          "text": ""
         },
         "zerolinecolor": "#E1E5ED"
        }
       }
      },
      "text/html": [
       "<div>                            <div id=\"94c9faad-e9d1-4b24-82bf-256d786a8240\" class=\"plotly-graph-div\" style=\"height:525px; width:100%;\"></div>            <script type=\"text/javascript\">                require([\"plotly\"], function(Plotly) {                    window.PLOTLYENV=window.PLOTLYENV || {};\n",
       "                    window.PLOTLYENV.BASE_URL='https://plot.ly';                                    if (document.getElementById(\"94c9faad-e9d1-4b24-82bf-256d786a8240\")) {                    Plotly.newPlot(                        \"94c9faad-e9d1-4b24-82bf-256d786a8240\",                        [{\"marker\":{\"color\":\"rgba(255, 153, 51, 0.6)\",\"line\":{\"color\":\"rgba(255, 153, 51, 1.0)\",\"width\":1}},\"name\":\"None\",\"orientation\":\"v\",\"text\":\"\",\"x\":[\"A\",\"B\",\"C\",\"D\"],\"y\":[8.229601349473107,-15.635766116205618,1.487380250370308,23.94765558710426],\"type\":\"bar\"}],                        {\"legend\":{\"bgcolor\":\"#F5F6F9\",\"font\":{\"color\":\"#4D5663\"}},\"paper_bgcolor\":\"#F5F6F9\",\"plot_bgcolor\":\"#F5F6F9\",\"template\":{\"data\":{\"barpolar\":[{\"marker\":{\"line\":{\"color\":\"#E5ECF6\",\"width\":0.5},\"pattern\":{\"fillmode\":\"overlay\",\"size\":10,\"solidity\":0.2}},\"type\":\"barpolar\"}],\"bar\":[{\"error_x\":{\"color\":\"#2a3f5f\"},\"error_y\":{\"color\":\"#2a3f5f\"},\"marker\":{\"line\":{\"color\":\"#E5ECF6\",\"width\":0.5},\"pattern\":{\"fillmode\":\"overlay\",\"size\":10,\"solidity\":0.2}},\"type\":\"bar\"}],\"carpet\":[{\"aaxis\":{\"endlinecolor\":\"#2a3f5f\",\"gridcolor\":\"white\",\"linecolor\":\"white\",\"minorgridcolor\":\"white\",\"startlinecolor\":\"#2a3f5f\"},\"baxis\":{\"endlinecolor\":\"#2a3f5f\",\"gridcolor\":\"white\",\"linecolor\":\"white\",\"minorgridcolor\":\"white\",\"startlinecolor\":\"#2a3f5f\"},\"type\":\"carpet\"}],\"choropleth\":[{\"colorbar\":{\"outlinewidth\":0,\"ticks\":\"\"},\"type\":\"choropleth\"}],\"contourcarpet\":[{\"colorbar\":{\"outlinewidth\":0,\"ticks\":\"\"},\"type\":\"contourcarpet\"}],\"contour\":[{\"colorbar\":{\"outlinewidth\":0,\"ticks\":\"\"},\"colorscale\":[[0.0,\"#0d0887\"],[0.1111111111111111,\"#46039f\"],[0.2222222222222222,\"#7201a8\"],[0.3333333333333333,\"#9c179e\"],[0.4444444444444444,\"#bd3786\"],[0.5555555555555556,\"#d8576b\"],[0.6666666666666666,\"#ed7953\"],[0.7777777777777778,\"#fb9f3a\"],[0.8888888888888888,\"#fdca26\"],[1.0,\"#f0f921\"]],\"type\":\"contour\"}],\"heatmapgl\":[{\"colorbar\":{\"outlinewidth\":0,\"ticks\":\"\"},\"colorscale\":[[0.0,\"#0d0887\"],[0.1111111111111111,\"#46039f\"],[0.2222222222222222,\"#7201a8\"],[0.3333333333333333,\"#9c179e\"],[0.4444444444444444,\"#bd3786\"],[0.5555555555555556,\"#d8576b\"],[0.6666666666666666,\"#ed7953\"],[0.7777777777777778,\"#fb9f3a\"],[0.8888888888888888,\"#fdca26\"],[1.0,\"#f0f921\"]],\"type\":\"heatmapgl\"}],\"heatmap\":[{\"colorbar\":{\"outlinewidth\":0,\"ticks\":\"\"},\"colorscale\":[[0.0,\"#0d0887\"],[0.1111111111111111,\"#46039f\"],[0.2222222222222222,\"#7201a8\"],[0.3333333333333333,\"#9c179e\"],[0.4444444444444444,\"#bd3786\"],[0.5555555555555556,\"#d8576b\"],[0.6666666666666666,\"#ed7953\"],[0.7777777777777778,\"#fb9f3a\"],[0.8888888888888888,\"#fdca26\"],[1.0,\"#f0f921\"]],\"type\":\"heatmap\"}],\"histogram2dcontour\":[{\"colorbar\":{\"outlinewidth\":0,\"ticks\":\"\"},\"colorscale\":[[0.0,\"#0d0887\"],[0.1111111111111111,\"#46039f\"],[0.2222222222222222,\"#7201a8\"],[0.3333333333333333,\"#9c179e\"],[0.4444444444444444,\"#bd3786\"],[0.5555555555555556,\"#d8576b\"],[0.6666666666666666,\"#ed7953\"],[0.7777777777777778,\"#fb9f3a\"],[0.8888888888888888,\"#fdca26\"],[1.0,\"#f0f921\"]],\"type\":\"histogram2dcontour\"}],\"histogram2d\":[{\"colorbar\":{\"outlinewidth\":0,\"ticks\":\"\"},\"colorscale\":[[0.0,\"#0d0887\"],[0.1111111111111111,\"#46039f\"],[0.2222222222222222,\"#7201a8\"],[0.3333333333333333,\"#9c179e\"],[0.4444444444444444,\"#bd3786\"],[0.5555555555555556,\"#d8576b\"],[0.6666666666666666,\"#ed7953\"],[0.7777777777777778,\"#fb9f3a\"],[0.8888888888888888,\"#fdca26\"],[1.0,\"#f0f921\"]],\"type\":\"histogram2d\"}],\"histogram\":[{\"marker\":{\"pattern\":{\"fillmode\":\"overlay\",\"size\":10,\"solidity\":0.2}},\"type\":\"histogram\"}],\"mesh3d\":[{\"colorbar\":{\"outlinewidth\":0,\"ticks\":\"\"},\"type\":\"mesh3d\"}],\"parcoords\":[{\"line\":{\"colorbar\":{\"outlinewidth\":0,\"ticks\":\"\"}},\"type\":\"parcoords\"}],\"pie\":[{\"automargin\":true,\"type\":\"pie\"}],\"scatter3d\":[{\"line\":{\"colorbar\":{\"outlinewidth\":0,\"ticks\":\"\"}},\"marker\":{\"colorbar\":{\"outlinewidth\":0,\"ticks\":\"\"}},\"type\":\"scatter3d\"}],\"scattercarpet\":[{\"marker\":{\"colorbar\":{\"outlinewidth\":0,\"ticks\":\"\"}},\"type\":\"scattercarpet\"}],\"scattergeo\":[{\"marker\":{\"colorbar\":{\"outlinewidth\":0,\"ticks\":\"\"}},\"type\":\"scattergeo\"}],\"scattergl\":[{\"marker\":{\"colorbar\":{\"outlinewidth\":0,\"ticks\":\"\"}},\"type\":\"scattergl\"}],\"scattermapbox\":[{\"marker\":{\"colorbar\":{\"outlinewidth\":0,\"ticks\":\"\"}},\"type\":\"scattermapbox\"}],\"scatterpolargl\":[{\"marker\":{\"colorbar\":{\"outlinewidth\":0,\"ticks\":\"\"}},\"type\":\"scatterpolargl\"}],\"scatterpolar\":[{\"marker\":{\"colorbar\":{\"outlinewidth\":0,\"ticks\":\"\"}},\"type\":\"scatterpolar\"}],\"scatter\":[{\"fillpattern\":{\"fillmode\":\"overlay\",\"size\":10,\"solidity\":0.2},\"type\":\"scatter\"}],\"scatterternary\":[{\"marker\":{\"colorbar\":{\"outlinewidth\":0,\"ticks\":\"\"}},\"type\":\"scatterternary\"}],\"surface\":[{\"colorbar\":{\"outlinewidth\":0,\"ticks\":\"\"},\"colorscale\":[[0.0,\"#0d0887\"],[0.1111111111111111,\"#46039f\"],[0.2222222222222222,\"#7201a8\"],[0.3333333333333333,\"#9c179e\"],[0.4444444444444444,\"#bd3786\"],[0.5555555555555556,\"#d8576b\"],[0.6666666666666666,\"#ed7953\"],[0.7777777777777778,\"#fb9f3a\"],[0.8888888888888888,\"#fdca26\"],[1.0,\"#f0f921\"]],\"type\":\"surface\"}],\"table\":[{\"cells\":{\"fill\":{\"color\":\"#EBF0F8\"},\"line\":{\"color\":\"white\"}},\"header\":{\"fill\":{\"color\":\"#C8D4E3\"},\"line\":{\"color\":\"white\"}},\"type\":\"table\"}]},\"layout\":{\"annotationdefaults\":{\"arrowcolor\":\"#2a3f5f\",\"arrowhead\":0,\"arrowwidth\":1},\"autotypenumbers\":\"strict\",\"coloraxis\":{\"colorbar\":{\"outlinewidth\":0,\"ticks\":\"\"}},\"colorscale\":{\"diverging\":[[0,\"#8e0152\"],[0.1,\"#c51b7d\"],[0.2,\"#de77ae\"],[0.3,\"#f1b6da\"],[0.4,\"#fde0ef\"],[0.5,\"#f7f7f7\"],[0.6,\"#e6f5d0\"],[0.7,\"#b8e186\"],[0.8,\"#7fbc41\"],[0.9,\"#4d9221\"],[1,\"#276419\"]],\"sequential\":[[0.0,\"#0d0887\"],[0.1111111111111111,\"#46039f\"],[0.2222222222222222,\"#7201a8\"],[0.3333333333333333,\"#9c179e\"],[0.4444444444444444,\"#bd3786\"],[0.5555555555555556,\"#d8576b\"],[0.6666666666666666,\"#ed7953\"],[0.7777777777777778,\"#fb9f3a\"],[0.8888888888888888,\"#fdca26\"],[1.0,\"#f0f921\"]],\"sequentialminus\":[[0.0,\"#0d0887\"],[0.1111111111111111,\"#46039f\"],[0.2222222222222222,\"#7201a8\"],[0.3333333333333333,\"#9c179e\"],[0.4444444444444444,\"#bd3786\"],[0.5555555555555556,\"#d8576b\"],[0.6666666666666666,\"#ed7953\"],[0.7777777777777778,\"#fb9f3a\"],[0.8888888888888888,\"#fdca26\"],[1.0,\"#f0f921\"]]},\"colorway\":[\"#636efa\",\"#EF553B\",\"#00cc96\",\"#ab63fa\",\"#FFA15A\",\"#19d3f3\",\"#FF6692\",\"#B6E880\",\"#FF97FF\",\"#FECB52\"],\"font\":{\"color\":\"#2a3f5f\"},\"geo\":{\"bgcolor\":\"white\",\"lakecolor\":\"white\",\"landcolor\":\"#E5ECF6\",\"showlakes\":true,\"showland\":true,\"subunitcolor\":\"white\"},\"hoverlabel\":{\"align\":\"left\"},\"hovermode\":\"closest\",\"mapbox\":{\"style\":\"light\"},\"paper_bgcolor\":\"white\",\"plot_bgcolor\":\"#E5ECF6\",\"polar\":{\"angularaxis\":{\"gridcolor\":\"white\",\"linecolor\":\"white\",\"ticks\":\"\"},\"bgcolor\":\"#E5ECF6\",\"radialaxis\":{\"gridcolor\":\"white\",\"linecolor\":\"white\",\"ticks\":\"\"}},\"scene\":{\"xaxis\":{\"backgroundcolor\":\"#E5ECF6\",\"gridcolor\":\"white\",\"gridwidth\":2,\"linecolor\":\"white\",\"showbackground\":true,\"ticks\":\"\",\"zerolinecolor\":\"white\"},\"yaxis\":{\"backgroundcolor\":\"#E5ECF6\",\"gridcolor\":\"white\",\"gridwidth\":2,\"linecolor\":\"white\",\"showbackground\":true,\"ticks\":\"\",\"zerolinecolor\":\"white\"},\"zaxis\":{\"backgroundcolor\":\"#E5ECF6\",\"gridcolor\":\"white\",\"gridwidth\":2,\"linecolor\":\"white\",\"showbackground\":true,\"ticks\":\"\",\"zerolinecolor\":\"white\"}},\"shapedefaults\":{\"line\":{\"color\":\"#2a3f5f\"}},\"ternary\":{\"aaxis\":{\"gridcolor\":\"white\",\"linecolor\":\"white\",\"ticks\":\"\"},\"baxis\":{\"gridcolor\":\"white\",\"linecolor\":\"white\",\"ticks\":\"\"},\"bgcolor\":\"#E5ECF6\",\"caxis\":{\"gridcolor\":\"white\",\"linecolor\":\"white\",\"ticks\":\"\"}},\"title\":{\"x\":0.05},\"xaxis\":{\"automargin\":true,\"gridcolor\":\"white\",\"linecolor\":\"white\",\"ticks\":\"\",\"title\":{\"standoff\":15},\"zerolinecolor\":\"white\",\"zerolinewidth\":2},\"yaxis\":{\"automargin\":true,\"gridcolor\":\"white\",\"linecolor\":\"white\",\"ticks\":\"\",\"title\":{\"standoff\":15},\"zerolinecolor\":\"white\",\"zerolinewidth\":2}}},\"title\":{\"font\":{\"color\":\"#4D5663\"}},\"xaxis\":{\"gridcolor\":\"#E1E5ED\",\"showgrid\":true,\"tickfont\":{\"color\":\"#4D5663\"},\"title\":{\"font\":{\"color\":\"#4D5663\"},\"text\":\"\"},\"zerolinecolor\":\"#E1E5ED\"},\"yaxis\":{\"gridcolor\":\"#E1E5ED\",\"showgrid\":true,\"tickfont\":{\"color\":\"#4D5663\"},\"title\":{\"font\":{\"color\":\"#4D5663\"},\"text\":\"\"},\"zerolinecolor\":\"#E1E5ED\"}},                        {\"showLink\": true, \"linkText\": \"Export to plot.ly\", \"plotlyServerURL\": \"https://plot.ly\", \"responsive\": true}                    ).then(function(){\n",
       "                            \n",
       "var gd = document.getElementById('94c9faad-e9d1-4b24-82bf-256d786a8240');\n",
       "var x = new MutationObserver(function (mutations, observer) {{\n",
       "        var display = window.getComputedStyle(gd).display;\n",
       "        if (!display || display === 'none') {{\n",
       "            console.log([gd, 'removed!']);\n",
       "            Plotly.purge(gd);\n",
       "            observer.disconnect();\n",
       "        }}\n",
       "}});\n",
       "\n",
       "// Listen for the removal of the full notebook cells\n",
       "var notebookContainer = gd.closest('#notebook-container');\n",
       "if (notebookContainer) {{\n",
       "    x.observe(notebookContainer, {childList: true});\n",
       "}}\n",
       "\n",
       "// Listen for the clearing of the current output cell\n",
       "var outputEl = gd.closest('.output');\n",
       "if (outputEl) {{\n",
       "    x.observe(outputEl, {childList: true});\n",
       "}}\n",
       "\n",
       "                        })                };                });            </script>        </div>"
      ]
     },
     "metadata": {},
     "output_type": "display_data"
    }
   ],
   "source": [
    "df.sum().iplot(kind='bar') # Função de agregação"
   ]
  },
  {
   "cell_type": "markdown",
   "id": "fba1cb4c",
   "metadata": {},
   "source": [
    "### Box Plots"
   ]
  },
  {
   "cell_type": "code",
   "execution_count": 19,
   "id": "a65db7af",
   "metadata": {},
   "outputs": [
    {
     "data": {
      "application/vnd.plotly.v1+json": {
       "config": {
        "linkText": "Export to plot.ly",
        "plotlyServerURL": "https://plot.ly",
        "showLink": true
       },
       "data": [
        {
         "boxpoints": false,
         "line": {
          "width": 1.3
         },
         "marker": {
          "color": "rgba(255, 153, 51, 1.0)"
         },
         "name": "A",
         "orientation": "v",
         "type": "box",
         "y": [
          0.778457933302214,
          -0.9680449357550578,
          0.39359084183301096,
          -1.2394985928585338,
          -0.2164835093388013,
          -0.1356228708503378,
          -1.2521746730325765,
          -1.0835243246963888,
          0.6250752248509963,
          0.7718451818596955,
          0.4318676271026053,
          -0.8686984687467546,
          0.18229522144610463,
          -0.17752709417956644,
          -0.7853823575966619,
          -0.06893337907779387,
          -0.9466983840211649,
          -0.9221095109610769,
          1.5774648689521218,
          0.3930242065630447,
          0.8277738191842602,
          -0.8241508298553344,
          0.07495661144670138,
          -0.3590170031546842,
          1.2734557212058224,
          -1.504383022229239,
          -0.12596790196229846,
          0.6123225576918307,
          0.3426474625945798,
          0.846089362700548,
          1.3523055165355302,
          0.284811559971216,
          -1.6013083992544557,
          1.6679084568187605,
          1.5145816453277892,
          -0.0046250819630932315,
          -0.07829149222527237,
          0.9916207650528954,
          1.1145048640682926,
          -1.089729192815636,
          0.17314040189558932,
          -0.033796344362975864,
          0.07562690561269443,
          1.892594834465393,
          -1.8348706724093262,
          1.2584334190829263,
          0.17218282514485775,
          0.34213290139111757,
          -0.7402663222325283,
          -0.588544402128247,
          -0.27975100910657263,
          -0.36609359684194237,
          -0.8452472534162175,
          -0.4468861894570877,
          0.6034241098470298,
          3.1023651388360145,
          0.214644091222445,
          -0.8612338237196326,
          0.13263420361251016,
          -0.9710094581449149,
          0.7227469378577297,
          -0.7822128929376538,
          -0.22143889112664097,
          0.14416334626005273,
          -0.8833756073627672,
          1.2612268675473937,
          0.7928279434498183,
          -1.0251422302062176,
          -0.4536854547609093,
          -0.45958745335640483,
          0.5182900495849041,
          0.850977459520938,
          0.04421513310499319,
          -1.1175849668722495,
          -0.8030693507661488,
          1.92519394398426,
          0.7217912827510005,
          -0.3116468245019817,
          -1.750355552577647,
          -0.6873302147493952,
          1.5993325144520412,
          1.2093688325747638,
          0.7382608277486163,
          -0.01307177710019666,
          0.4249358964426604,
          1.8114662802257053,
          -0.23812364488121177,
          -0.04821109509459664,
          -0.47886446654041864,
          -0.4038921916964521,
          0.5091420384625585,
          0.4801272970933442,
          -0.48912145451354583,
          -1.147042924817787,
          -0.01032179386658933,
          0.1321566262110016,
          -0.384385463475132,
          1.2891000679608127,
          0.9391036286315693,
          1.0197304435884655
         ]
        },
        {
         "boxpoints": false,
         "line": {
          "width": 1.3
         },
         "marker": {
          "color": "rgba(55, 128, 191, 1.0)"
         },
         "name": "B",
         "orientation": "v",
         "type": "box",
         "y": [
          -0.12418495906275873,
          0.5285054303759434,
          -0.6483376777606301,
          -0.2882240309938093,
          0.5736212497816112,
          2.239254267902068,
          -3.7132010957566717,
          -0.827361314325003,
          -0.07056871306249225,
          0.4485007765695378,
          -1.1425087248215398,
          0.713665370670025,
          -0.12237518106470253,
          -1.5779230985738613,
          -1.6518453654137415,
          0.7872739570953827,
          0.6696097676881092,
          0.12485407678766407,
          -0.2592731741227891,
          -0.6034697000193865,
          -0.1634147137662408,
          -0.9185909367956211,
          -1.5225614971140846,
          0.32708339513992823,
          -0.7881580126865311,
          -0.253793228203105,
          -0.20667844715897066,
          0.9083395167937691,
          0.48256960720999503,
          -0.9609842265734008,
          -0.9045949603882426,
          -0.8259097380548978,
          -0.4414993729915333,
          -0.2965042673868797,
          -1.8110254612575696,
          -0.6947125921837172,
          0.22518886816166567,
          0.9620639813793939,
          -1.4689365913873842,
          -0.5002907290334543,
          0.15554850993818742,
          1.0644877346151136,
          0.08741835263849135,
          -1.2266050665518022,
          0.009267372916793585,
          0.9365478847521909,
          -0.06849812894451411,
          0.572511977530958,
          0.2490562834386925,
          -0.7544740172893082,
          0.6270155247426541,
          0.4392751700611625,
          0.8876910389681761,
          0.6895447204388416,
          -0.08376221605853913,
          0.7519574530059915,
          0.7928931750275154,
          -0.07844246435307307,
          -0.6610778230711215,
          0.4710622226800591,
          -3.102751806348052,
          1.3879524318512182,
          -1.9793711097598718,
          0.08488617246516036,
          -1.6306338131169662,
          0.31209134076027195,
          1.527604855019396,
          2.0868502636121495,
          -0.41398376859852154,
          -0.5958562882694559,
          0.1407586248600635,
          1.1241522625681128,
          -0.7699943106290851,
          0.13748390446668632,
          -1.0344313621767662,
          1.589065501698242,
          -1.483419352532759,
          1.1109792033938501,
          0.6953782435953554,
          0.5181307791043384,
          1.3792400569088539,
          -0.19834484065509467,
          -1.6984989450444554,
          0.6454744077409759,
          1.156837525492291,
          -1.3392031859801345,
          -1.0476297371919077,
          0.8978011452694012,
          0.21692629572147912,
          -0.4597509119081817,
          0.19481940643523454,
          -0.08341557197324237,
          0.7726127026487843,
          -1.6792646825069584,
          -0.6350127596847416,
          1.0570017823937987,
          -1.0115000812255166,
          -1.5882588060836178,
          -1.8493217471273957,
          -1.1361901014810987
         ]
        },
        {
         "boxpoints": false,
         "line": {
          "width": 1.3
         },
         "marker": {
          "color": "rgba(50, 171, 96, 1.0)"
         },
         "name": "C",
         "orientation": "v",
         "type": "box",
         "y": [
          -0.03802047411749776,
          0.8773557408303123,
          -1.118725034659502,
          -0.10026853830176642,
          -0.7732404050535409,
          0.5046837399056341,
          1.0405541917419667,
          0.12608346116189315,
          0.40577463423542737,
          -0.7153215479409281,
          1.327560943752907,
          1.1656233384029329,
          -2.556184188197719,
          0.180403725260928,
          -0.6420497906812835,
          0.08261155402733383,
          -0.8722369739240854,
          -0.5958593510195808,
          0.5411573911111616,
          1.5574465766371541,
          0.35858615040219993,
          0.1359352618178365,
          1.2729618354111418,
          -0.724388992300664,
          0.8689737956283615,
          1.0324712942410976,
          -0.10856722968255036,
          0.47116535782786606,
          0.9854431855075556,
          0.5648817725467724,
          -0.6741775517296723,
          -0.08507260800209669,
          -1.8491296419326837,
          1.1585345801397426,
          0.7410669957381095,
          0.2377646618768121,
          0.19636956338180683,
          1.5272074918028045,
          -0.29867294983582043,
          -0.1412752058259444,
          0.9105342836340018,
          -0.16649235126773396,
          -0.7152579905771318,
          1.4136319519783282,
          -0.3128878018946804,
          -0.433290552957218,
          0.8179761999340025,
          -1.3827284215191413,
          -0.24279974102893276,
          0.11564818225015172,
          0.4496854850035945,
          -0.4559239150446873,
          -2.252429793836703,
          -0.8597249668399786,
          -2.460767890721159,
          -0.08821510633908855,
          -0.7027062778648545,
          -0.3130299866317652,
          1.0320592354230556,
          -0.777357882169852,
          -2.3438996888466708,
          -0.5605666594946894,
          0.06741236942830532,
          -1.649231246416628,
          0.22273379564641857,
          0.13066572471482163,
          0.5362449801226784,
          1.4914964504089971,
          2.2322188903267848,
          -1.112526390987042,
          0.1861509871569323,
          1.1601974306427612,
          1.2891048070459077,
          0.9421954734630205,
          1.175179094583278,
          0.8345503271306458,
          0.3124997756836522,
          0.7382997585383295,
          2.3441395948533015,
          -1.4850691091821289,
          0.3943088653341731,
          -0.7125698889211279,
          -0.9260100929069468,
          0.9521314338176424,
          -1.3468987254887934,
          0.07818695724198196,
          -0.48812591175553643,
          -0.22272894573145505,
          -0.8905830222532648,
          0.5555690475707767,
          -0.7112369108121137,
          -0.893619327106401,
          2.1987281322799466,
          -0.7478258734501629,
          -0.11900790060739504,
          -0.8285148541919645,
          0.3855746642174358,
          -0.29794909083781856,
          -0.16683726369167023,
          -0.8803568268703029
         ]
        },
        {
         "boxpoints": false,
         "line": {
          "width": 1.3
         },
         "marker": {
          "color": "rgba(128, 0, 128, 1.0)"
         },
         "name": "D",
         "orientation": "v",
         "type": "box",
         "y": [
          0.19364859956418953,
          0.18583207547663305,
          1.9923921588463627,
          1.3188125240482078,
          0.537805874410933,
          -0.03848186401102001,
          -0.32930061650478093,
          2.2958952087568933,
          0.466505724210726,
          -0.7716409579262643,
          0.5784030178865545,
          -0.3085829845995051,
          1.0569521428997875,
          -0.021678681671287593,
          -0.15327032167682586,
          0.38532094024232333,
          1.624630133457499,
          1.6736838752131884,
          0.507620878463986,
          -1.3331888479271912,
          -0.008692936117062714,
          1.2755057690525256,
          0.8334251065844482,
          0.10786480563820008,
          -1.4328300955495161,
          0.6307401316199052,
          0.3757313710757838,
          -0.12381204243145601,
          2.444630116068402,
          1.2776539720839692,
          -0.2753571484946713,
          1.074406283764291,
          0.8935449560464446,
          0.8226339589212641,
          -0.3760182003569667,
          -0.5435492836183557,
          -1.204887322087643,
          -0.6063927925516598,
          -1.0747457830894218,
          0.2609786837151405,
          0.8486504892819745,
          -1.1875268382847586,
          0.7291652246195226,
          -0.2714729225650268,
          -0.3149788852602245,
          0.5933801088684901,
          -0.7001484527953258,
          0.31057113592398455,
          0.8941997046364684,
          0.696871322191756,
          0.9667732459813809,
          0.0795886917274917,
          1.4708668673386436,
          1.435440588634307,
          1.5617836556337106,
          -1.9930260097477197,
          0.33343907469044654,
          0.7127913736643632,
          0.43648801789717556,
          -0.48176628908925917,
          2.1851520391957804,
          -0.2831216918398867,
          1.5002057782776956,
          -0.7422075662104347,
          0.4674871043293601,
          1.487680377713003,
          -0.8109754686950558,
          1.1836151400260517,
          -3.2886518125876725,
          0.47420116098063736,
          0.4156506373988291,
          -1.4147882771469515,
          1.706363977610135,
          0.2884294207465923,
          0.14815841816801092,
          -0.6279943804082091,
          -0.5284554553268069,
          -1.3528423917747028,
          0.7441972948781518,
          -0.5380758183313948,
          -1.4680677526079209,
          0.42836894521875163,
          0.4874581159173152,
          -0.03322481239843942,
          -0.4362206070834838,
          -2.235968198210766,
          0.5219170909718297,
          0.7372645208846011,
          1.3745998157042327,
          -0.34707955390016204,
          -1.5015300123463025,
          1.0820404851499366,
          -0.526174680349923,
          1.1793021497147862,
          -0.10148494094334251,
          1.2444090645162498,
          2.236896752361946,
          0.4292984789795256,
          0.7317923794372792,
          -1.2032486736964108
         ]
        }
       ],
       "layout": {
        "legend": {
         "bgcolor": "#F5F6F9",
         "font": {
          "color": "#4D5663"
         }
        },
        "paper_bgcolor": "#F5F6F9",
        "plot_bgcolor": "#F5F6F9",
        "template": {
         "data": {
          "bar": [
           {
            "error_x": {
             "color": "#2a3f5f"
            },
            "error_y": {
             "color": "#2a3f5f"
            },
            "marker": {
             "line": {
              "color": "#E5ECF6",
              "width": 0.5
             },
             "pattern": {
              "fillmode": "overlay",
              "size": 10,
              "solidity": 0.2
             }
            },
            "type": "bar"
           }
          ],
          "barpolar": [
           {
            "marker": {
             "line": {
              "color": "#E5ECF6",
              "width": 0.5
             },
             "pattern": {
              "fillmode": "overlay",
              "size": 10,
              "solidity": 0.2
             }
            },
            "type": "barpolar"
           }
          ],
          "carpet": [
           {
            "aaxis": {
             "endlinecolor": "#2a3f5f",
             "gridcolor": "white",
             "linecolor": "white",
             "minorgridcolor": "white",
             "startlinecolor": "#2a3f5f"
            },
            "baxis": {
             "endlinecolor": "#2a3f5f",
             "gridcolor": "white",
             "linecolor": "white",
             "minorgridcolor": "white",
             "startlinecolor": "#2a3f5f"
            },
            "type": "carpet"
           }
          ],
          "choropleth": [
           {
            "colorbar": {
             "outlinewidth": 0,
             "ticks": ""
            },
            "type": "choropleth"
           }
          ],
          "contour": [
           {
            "colorbar": {
             "outlinewidth": 0,
             "ticks": ""
            },
            "colorscale": [
             [
              0,
              "#0d0887"
             ],
             [
              0.1111111111111111,
              "#46039f"
             ],
             [
              0.2222222222222222,
              "#7201a8"
             ],
             [
              0.3333333333333333,
              "#9c179e"
             ],
             [
              0.4444444444444444,
              "#bd3786"
             ],
             [
              0.5555555555555556,
              "#d8576b"
             ],
             [
              0.6666666666666666,
              "#ed7953"
             ],
             [
              0.7777777777777778,
              "#fb9f3a"
             ],
             [
              0.8888888888888888,
              "#fdca26"
             ],
             [
              1,
              "#f0f921"
             ]
            ],
            "type": "contour"
           }
          ],
          "contourcarpet": [
           {
            "colorbar": {
             "outlinewidth": 0,
             "ticks": ""
            },
            "type": "contourcarpet"
           }
          ],
          "heatmap": [
           {
            "colorbar": {
             "outlinewidth": 0,
             "ticks": ""
            },
            "colorscale": [
             [
              0,
              "#0d0887"
             ],
             [
              0.1111111111111111,
              "#46039f"
             ],
             [
              0.2222222222222222,
              "#7201a8"
             ],
             [
              0.3333333333333333,
              "#9c179e"
             ],
             [
              0.4444444444444444,
              "#bd3786"
             ],
             [
              0.5555555555555556,
              "#d8576b"
             ],
             [
              0.6666666666666666,
              "#ed7953"
             ],
             [
              0.7777777777777778,
              "#fb9f3a"
             ],
             [
              0.8888888888888888,
              "#fdca26"
             ],
             [
              1,
              "#f0f921"
             ]
            ],
            "type": "heatmap"
           }
          ],
          "heatmapgl": [
           {
            "colorbar": {
             "outlinewidth": 0,
             "ticks": ""
            },
            "colorscale": [
             [
              0,
              "#0d0887"
             ],
             [
              0.1111111111111111,
              "#46039f"
             ],
             [
              0.2222222222222222,
              "#7201a8"
             ],
             [
              0.3333333333333333,
              "#9c179e"
             ],
             [
              0.4444444444444444,
              "#bd3786"
             ],
             [
              0.5555555555555556,
              "#d8576b"
             ],
             [
              0.6666666666666666,
              "#ed7953"
             ],
             [
              0.7777777777777778,
              "#fb9f3a"
             ],
             [
              0.8888888888888888,
              "#fdca26"
             ],
             [
              1,
              "#f0f921"
             ]
            ],
            "type": "heatmapgl"
           }
          ],
          "histogram": [
           {
            "marker": {
             "pattern": {
              "fillmode": "overlay",
              "size": 10,
              "solidity": 0.2
             }
            },
            "type": "histogram"
           }
          ],
          "histogram2d": [
           {
            "colorbar": {
             "outlinewidth": 0,
             "ticks": ""
            },
            "colorscale": [
             [
              0,
              "#0d0887"
             ],
             [
              0.1111111111111111,
              "#46039f"
             ],
             [
              0.2222222222222222,
              "#7201a8"
             ],
             [
              0.3333333333333333,
              "#9c179e"
             ],
             [
              0.4444444444444444,
              "#bd3786"
             ],
             [
              0.5555555555555556,
              "#d8576b"
             ],
             [
              0.6666666666666666,
              "#ed7953"
             ],
             [
              0.7777777777777778,
              "#fb9f3a"
             ],
             [
              0.8888888888888888,
              "#fdca26"
             ],
             [
              1,
              "#f0f921"
             ]
            ],
            "type": "histogram2d"
           }
          ],
          "histogram2dcontour": [
           {
            "colorbar": {
             "outlinewidth": 0,
             "ticks": ""
            },
            "colorscale": [
             [
              0,
              "#0d0887"
             ],
             [
              0.1111111111111111,
              "#46039f"
             ],
             [
              0.2222222222222222,
              "#7201a8"
             ],
             [
              0.3333333333333333,
              "#9c179e"
             ],
             [
              0.4444444444444444,
              "#bd3786"
             ],
             [
              0.5555555555555556,
              "#d8576b"
             ],
             [
              0.6666666666666666,
              "#ed7953"
             ],
             [
              0.7777777777777778,
              "#fb9f3a"
             ],
             [
              0.8888888888888888,
              "#fdca26"
             ],
             [
              1,
              "#f0f921"
             ]
            ],
            "type": "histogram2dcontour"
           }
          ],
          "mesh3d": [
           {
            "colorbar": {
             "outlinewidth": 0,
             "ticks": ""
            },
            "type": "mesh3d"
           }
          ],
          "parcoords": [
           {
            "line": {
             "colorbar": {
              "outlinewidth": 0,
              "ticks": ""
             }
            },
            "type": "parcoords"
           }
          ],
          "pie": [
           {
            "automargin": true,
            "type": "pie"
           }
          ],
          "scatter": [
           {
            "fillpattern": {
             "fillmode": "overlay",
             "size": 10,
             "solidity": 0.2
            },
            "type": "scatter"
           }
          ],
          "scatter3d": [
           {
            "line": {
             "colorbar": {
              "outlinewidth": 0,
              "ticks": ""
             }
            },
            "marker": {
             "colorbar": {
              "outlinewidth": 0,
              "ticks": ""
             }
            },
            "type": "scatter3d"
           }
          ],
          "scattercarpet": [
           {
            "marker": {
             "colorbar": {
              "outlinewidth": 0,
              "ticks": ""
             }
            },
            "type": "scattercarpet"
           }
          ],
          "scattergeo": [
           {
            "marker": {
             "colorbar": {
              "outlinewidth": 0,
              "ticks": ""
             }
            },
            "type": "scattergeo"
           }
          ],
          "scattergl": [
           {
            "marker": {
             "colorbar": {
              "outlinewidth": 0,
              "ticks": ""
             }
            },
            "type": "scattergl"
           }
          ],
          "scattermapbox": [
           {
            "marker": {
             "colorbar": {
              "outlinewidth": 0,
              "ticks": ""
             }
            },
            "type": "scattermapbox"
           }
          ],
          "scatterpolar": [
           {
            "marker": {
             "colorbar": {
              "outlinewidth": 0,
              "ticks": ""
             }
            },
            "type": "scatterpolar"
           }
          ],
          "scatterpolargl": [
           {
            "marker": {
             "colorbar": {
              "outlinewidth": 0,
              "ticks": ""
             }
            },
            "type": "scatterpolargl"
           }
          ],
          "scatterternary": [
           {
            "marker": {
             "colorbar": {
              "outlinewidth": 0,
              "ticks": ""
             }
            },
            "type": "scatterternary"
           }
          ],
          "surface": [
           {
            "colorbar": {
             "outlinewidth": 0,
             "ticks": ""
            },
            "colorscale": [
             [
              0,
              "#0d0887"
             ],
             [
              0.1111111111111111,
              "#46039f"
             ],
             [
              0.2222222222222222,
              "#7201a8"
             ],
             [
              0.3333333333333333,
              "#9c179e"
             ],
             [
              0.4444444444444444,
              "#bd3786"
             ],
             [
              0.5555555555555556,
              "#d8576b"
             ],
             [
              0.6666666666666666,
              "#ed7953"
             ],
             [
              0.7777777777777778,
              "#fb9f3a"
             ],
             [
              0.8888888888888888,
              "#fdca26"
             ],
             [
              1,
              "#f0f921"
             ]
            ],
            "type": "surface"
           }
          ],
          "table": [
           {
            "cells": {
             "fill": {
              "color": "#EBF0F8"
             },
             "line": {
              "color": "white"
             }
            },
            "header": {
             "fill": {
              "color": "#C8D4E3"
             },
             "line": {
              "color": "white"
             }
            },
            "type": "table"
           }
          ]
         },
         "layout": {
          "annotationdefaults": {
           "arrowcolor": "#2a3f5f",
           "arrowhead": 0,
           "arrowwidth": 1
          },
          "autotypenumbers": "strict",
          "coloraxis": {
           "colorbar": {
            "outlinewidth": 0,
            "ticks": ""
           }
          },
          "colorscale": {
           "diverging": [
            [
             0,
             "#8e0152"
            ],
            [
             0.1,
             "#c51b7d"
            ],
            [
             0.2,
             "#de77ae"
            ],
            [
             0.3,
             "#f1b6da"
            ],
            [
             0.4,
             "#fde0ef"
            ],
            [
             0.5,
             "#f7f7f7"
            ],
            [
             0.6,
             "#e6f5d0"
            ],
            [
             0.7,
             "#b8e186"
            ],
            [
             0.8,
             "#7fbc41"
            ],
            [
             0.9,
             "#4d9221"
            ],
            [
             1,
             "#276419"
            ]
           ],
           "sequential": [
            [
             0,
             "#0d0887"
            ],
            [
             0.1111111111111111,
             "#46039f"
            ],
            [
             0.2222222222222222,
             "#7201a8"
            ],
            [
             0.3333333333333333,
             "#9c179e"
            ],
            [
             0.4444444444444444,
             "#bd3786"
            ],
            [
             0.5555555555555556,
             "#d8576b"
            ],
            [
             0.6666666666666666,
             "#ed7953"
            ],
            [
             0.7777777777777778,
             "#fb9f3a"
            ],
            [
             0.8888888888888888,
             "#fdca26"
            ],
            [
             1,
             "#f0f921"
            ]
           ],
           "sequentialminus": [
            [
             0,
             "#0d0887"
            ],
            [
             0.1111111111111111,
             "#46039f"
            ],
            [
             0.2222222222222222,
             "#7201a8"
            ],
            [
             0.3333333333333333,
             "#9c179e"
            ],
            [
             0.4444444444444444,
             "#bd3786"
            ],
            [
             0.5555555555555556,
             "#d8576b"
            ],
            [
             0.6666666666666666,
             "#ed7953"
            ],
            [
             0.7777777777777778,
             "#fb9f3a"
            ],
            [
             0.8888888888888888,
             "#fdca26"
            ],
            [
             1,
             "#f0f921"
            ]
           ]
          },
          "colorway": [
           "#636efa",
           "#EF553B",
           "#00cc96",
           "#ab63fa",
           "#FFA15A",
           "#19d3f3",
           "#FF6692",
           "#B6E880",
           "#FF97FF",
           "#FECB52"
          ],
          "font": {
           "color": "#2a3f5f"
          },
          "geo": {
           "bgcolor": "white",
           "lakecolor": "white",
           "landcolor": "#E5ECF6",
           "showlakes": true,
           "showland": true,
           "subunitcolor": "white"
          },
          "hoverlabel": {
           "align": "left"
          },
          "hovermode": "closest",
          "mapbox": {
           "style": "light"
          },
          "paper_bgcolor": "white",
          "plot_bgcolor": "#E5ECF6",
          "polar": {
           "angularaxis": {
            "gridcolor": "white",
            "linecolor": "white",
            "ticks": ""
           },
           "bgcolor": "#E5ECF6",
           "radialaxis": {
            "gridcolor": "white",
            "linecolor": "white",
            "ticks": ""
           }
          },
          "scene": {
           "xaxis": {
            "backgroundcolor": "#E5ECF6",
            "gridcolor": "white",
            "gridwidth": 2,
            "linecolor": "white",
            "showbackground": true,
            "ticks": "",
            "zerolinecolor": "white"
           },
           "yaxis": {
            "backgroundcolor": "#E5ECF6",
            "gridcolor": "white",
            "gridwidth": 2,
            "linecolor": "white",
            "showbackground": true,
            "ticks": "",
            "zerolinecolor": "white"
           },
           "zaxis": {
            "backgroundcolor": "#E5ECF6",
            "gridcolor": "white",
            "gridwidth": 2,
            "linecolor": "white",
            "showbackground": true,
            "ticks": "",
            "zerolinecolor": "white"
           }
          },
          "shapedefaults": {
           "line": {
            "color": "#2a3f5f"
           }
          },
          "ternary": {
           "aaxis": {
            "gridcolor": "white",
            "linecolor": "white",
            "ticks": ""
           },
           "baxis": {
            "gridcolor": "white",
            "linecolor": "white",
            "ticks": ""
           },
           "bgcolor": "#E5ECF6",
           "caxis": {
            "gridcolor": "white",
            "linecolor": "white",
            "ticks": ""
           }
          },
          "title": {
           "x": 0.05
          },
          "xaxis": {
           "automargin": true,
           "gridcolor": "white",
           "linecolor": "white",
           "ticks": "",
           "title": {
            "standoff": 15
           },
           "zerolinecolor": "white",
           "zerolinewidth": 2
          },
          "yaxis": {
           "automargin": true,
           "gridcolor": "white",
           "linecolor": "white",
           "ticks": "",
           "title": {
            "standoff": 15
           },
           "zerolinecolor": "white",
           "zerolinewidth": 2
          }
         }
        },
        "title": {
         "font": {
          "color": "#4D5663"
         }
        },
        "xaxis": {
         "gridcolor": "#E1E5ED",
         "showgrid": true,
         "tickfont": {
          "color": "#4D5663"
         },
         "title": {
          "font": {
           "color": "#4D5663"
          },
          "text": ""
         },
         "zerolinecolor": "#E1E5ED"
        },
        "yaxis": {
         "gridcolor": "#E1E5ED",
         "showgrid": true,
         "tickfont": {
          "color": "#4D5663"
         },
         "title": {
          "font": {
           "color": "#4D5663"
          },
          "text": ""
         },
         "zerolinecolor": "#E1E5ED"
        }
       }
      },
      "text/html": [
       "<div>                            <div id=\"a0d67315-bd4e-4a97-a7a4-f5cb332c128e\" class=\"plotly-graph-div\" style=\"height:525px; width:100%;\"></div>            <script type=\"text/javascript\">                require([\"plotly\"], function(Plotly) {                    window.PLOTLYENV=window.PLOTLYENV || {};\n",
       "                    window.PLOTLYENV.BASE_URL='https://plot.ly';                                    if (document.getElementById(\"a0d67315-bd4e-4a97-a7a4-f5cb332c128e\")) {                    Plotly.newPlot(                        \"a0d67315-bd4e-4a97-a7a4-f5cb332c128e\",                        [{\"boxpoints\":false,\"line\":{\"width\":1.3},\"marker\":{\"color\":\"rgba(255, 153, 51, 1.0)\"},\"name\":\"A\",\"orientation\":\"v\",\"y\":[0.778457933302214,-0.9680449357550578,0.39359084183301096,-1.2394985928585338,-0.2164835093388013,-0.1356228708503378,-1.2521746730325765,-1.0835243246963888,0.6250752248509963,0.7718451818596955,0.4318676271026053,-0.8686984687467546,0.18229522144610463,-0.17752709417956644,-0.7853823575966619,-0.06893337907779387,-0.9466983840211649,-0.9221095109610769,1.5774648689521218,0.3930242065630447,0.8277738191842602,-0.8241508298553344,0.07495661144670138,-0.3590170031546842,1.2734557212058224,-1.504383022229239,-0.12596790196229846,0.6123225576918307,0.3426474625945798,0.846089362700548,1.3523055165355302,0.284811559971216,-1.6013083992544557,1.6679084568187605,1.5145816453277892,-0.0046250819630932315,-0.07829149222527237,0.9916207650528954,1.1145048640682926,-1.089729192815636,0.17314040189558932,-0.033796344362975864,0.07562690561269443,1.892594834465393,-1.8348706724093262,1.2584334190829263,0.17218282514485775,0.34213290139111757,-0.7402663222325283,-0.588544402128247,-0.27975100910657263,-0.36609359684194237,-0.8452472534162175,-0.4468861894570877,0.6034241098470298,3.1023651388360145,0.214644091222445,-0.8612338237196326,0.13263420361251016,-0.9710094581449149,0.7227469378577297,-0.7822128929376538,-0.22143889112664097,0.14416334626005273,-0.8833756073627672,1.2612268675473937,0.7928279434498183,-1.0251422302062176,-0.4536854547609093,-0.45958745335640483,0.5182900495849041,0.850977459520938,0.04421513310499319,-1.1175849668722495,-0.8030693507661488,1.92519394398426,0.7217912827510005,-0.3116468245019817,-1.750355552577647,-0.6873302147493952,1.5993325144520412,1.2093688325747638,0.7382608277486163,-0.01307177710019666,0.4249358964426604,1.8114662802257053,-0.23812364488121177,-0.04821109509459664,-0.47886446654041864,-0.4038921916964521,0.5091420384625585,0.4801272970933442,-0.48912145451354583,-1.147042924817787,-0.01032179386658933,0.1321566262110016,-0.384385463475132,1.2891000679608127,0.9391036286315693,1.0197304435884655],\"type\":\"box\"},{\"boxpoints\":false,\"line\":{\"width\":1.3},\"marker\":{\"color\":\"rgba(55, 128, 191, 1.0)\"},\"name\":\"B\",\"orientation\":\"v\",\"y\":[-0.12418495906275873,0.5285054303759434,-0.6483376777606301,-0.2882240309938093,0.5736212497816112,2.239254267902068,-3.7132010957566717,-0.827361314325003,-0.07056871306249225,0.4485007765695378,-1.1425087248215398,0.713665370670025,-0.12237518106470253,-1.5779230985738613,-1.6518453654137415,0.7872739570953827,0.6696097676881092,0.12485407678766407,-0.2592731741227891,-0.6034697000193865,-0.1634147137662408,-0.9185909367956211,-1.5225614971140846,0.32708339513992823,-0.7881580126865311,-0.253793228203105,-0.20667844715897066,0.9083395167937691,0.48256960720999503,-0.9609842265734008,-0.9045949603882426,-0.8259097380548978,-0.4414993729915333,-0.2965042673868797,-1.8110254612575696,-0.6947125921837172,0.22518886816166567,0.9620639813793939,-1.4689365913873842,-0.5002907290334543,0.15554850993818742,1.0644877346151136,0.08741835263849135,-1.2266050665518022,0.009267372916793585,0.9365478847521909,-0.06849812894451411,0.572511977530958,0.2490562834386925,-0.7544740172893082,0.6270155247426541,0.4392751700611625,0.8876910389681761,0.6895447204388416,-0.08376221605853913,0.7519574530059915,0.7928931750275154,-0.07844246435307307,-0.6610778230711215,0.4710622226800591,-3.102751806348052,1.3879524318512182,-1.9793711097598718,0.08488617246516036,-1.6306338131169662,0.31209134076027195,1.527604855019396,2.0868502636121495,-0.41398376859852154,-0.5958562882694559,0.1407586248600635,1.1241522625681128,-0.7699943106290851,0.13748390446668632,-1.0344313621767662,1.589065501698242,-1.483419352532759,1.1109792033938501,0.6953782435953554,0.5181307791043384,1.3792400569088539,-0.19834484065509467,-1.6984989450444554,0.6454744077409759,1.156837525492291,-1.3392031859801345,-1.0476297371919077,0.8978011452694012,0.21692629572147912,-0.4597509119081817,0.19481940643523454,-0.08341557197324237,0.7726127026487843,-1.6792646825069584,-0.6350127596847416,1.0570017823937987,-1.0115000812255166,-1.5882588060836178,-1.8493217471273957,-1.1361901014810987],\"type\":\"box\"},{\"boxpoints\":false,\"line\":{\"width\":1.3},\"marker\":{\"color\":\"rgba(50, 171, 96, 1.0)\"},\"name\":\"C\",\"orientation\":\"v\",\"y\":[-0.03802047411749776,0.8773557408303123,-1.118725034659502,-0.10026853830176642,-0.7732404050535409,0.5046837399056341,1.0405541917419667,0.12608346116189315,0.40577463423542737,-0.7153215479409281,1.327560943752907,1.1656233384029329,-2.556184188197719,0.180403725260928,-0.6420497906812835,0.08261155402733383,-0.8722369739240854,-0.5958593510195808,0.5411573911111616,1.5574465766371541,0.35858615040219993,0.1359352618178365,1.2729618354111418,-0.724388992300664,0.8689737956283615,1.0324712942410976,-0.10856722968255036,0.47116535782786606,0.9854431855075556,0.5648817725467724,-0.6741775517296723,-0.08507260800209669,-1.8491296419326837,1.1585345801397426,0.7410669957381095,0.2377646618768121,0.19636956338180683,1.5272074918028045,-0.29867294983582043,-0.1412752058259444,0.9105342836340018,-0.16649235126773396,-0.7152579905771318,1.4136319519783282,-0.3128878018946804,-0.433290552957218,0.8179761999340025,-1.3827284215191413,-0.24279974102893276,0.11564818225015172,0.4496854850035945,-0.4559239150446873,-2.252429793836703,-0.8597249668399786,-2.460767890721159,-0.08821510633908855,-0.7027062778648545,-0.3130299866317652,1.0320592354230556,-0.777357882169852,-2.3438996888466708,-0.5605666594946894,0.06741236942830532,-1.649231246416628,0.22273379564641857,0.13066572471482163,0.5362449801226784,1.4914964504089971,2.2322188903267848,-1.112526390987042,0.1861509871569323,1.1601974306427612,1.2891048070459077,0.9421954734630205,1.175179094583278,0.8345503271306458,0.3124997756836522,0.7382997585383295,2.3441395948533015,-1.4850691091821289,0.3943088653341731,-0.7125698889211279,-0.9260100929069468,0.9521314338176424,-1.3468987254887934,0.07818695724198196,-0.48812591175553643,-0.22272894573145505,-0.8905830222532648,0.5555690475707767,-0.7112369108121137,-0.893619327106401,2.1987281322799466,-0.7478258734501629,-0.11900790060739504,-0.8285148541919645,0.3855746642174358,-0.29794909083781856,-0.16683726369167023,-0.8803568268703029],\"type\":\"box\"},{\"boxpoints\":false,\"line\":{\"width\":1.3},\"marker\":{\"color\":\"rgba(128, 0, 128, 1.0)\"},\"name\":\"D\",\"orientation\":\"v\",\"y\":[0.19364859956418953,0.18583207547663305,1.9923921588463627,1.3188125240482078,0.537805874410933,-0.03848186401102001,-0.32930061650478093,2.2958952087568933,0.466505724210726,-0.7716409579262643,0.5784030178865545,-0.3085829845995051,1.0569521428997875,-0.021678681671287593,-0.15327032167682586,0.38532094024232333,1.624630133457499,1.6736838752131884,0.507620878463986,-1.3331888479271912,-0.008692936117062714,1.2755057690525256,0.8334251065844482,0.10786480563820008,-1.4328300955495161,0.6307401316199052,0.3757313710757838,-0.12381204243145601,2.444630116068402,1.2776539720839692,-0.2753571484946713,1.074406283764291,0.8935449560464446,0.8226339589212641,-0.3760182003569667,-0.5435492836183557,-1.204887322087643,-0.6063927925516598,-1.0747457830894218,0.2609786837151405,0.8486504892819745,-1.1875268382847586,0.7291652246195226,-0.2714729225650268,-0.3149788852602245,0.5933801088684901,-0.7001484527953258,0.31057113592398455,0.8941997046364684,0.696871322191756,0.9667732459813809,0.0795886917274917,1.4708668673386436,1.435440588634307,1.5617836556337106,-1.9930260097477197,0.33343907469044654,0.7127913736643632,0.43648801789717556,-0.48176628908925917,2.1851520391957804,-0.2831216918398867,1.5002057782776956,-0.7422075662104347,0.4674871043293601,1.487680377713003,-0.8109754686950558,1.1836151400260517,-3.2886518125876725,0.47420116098063736,0.4156506373988291,-1.4147882771469515,1.706363977610135,0.2884294207465923,0.14815841816801092,-0.6279943804082091,-0.5284554553268069,-1.3528423917747028,0.7441972948781518,-0.5380758183313948,-1.4680677526079209,0.42836894521875163,0.4874581159173152,-0.03322481239843942,-0.4362206070834838,-2.235968198210766,0.5219170909718297,0.7372645208846011,1.3745998157042327,-0.34707955390016204,-1.5015300123463025,1.0820404851499366,-0.526174680349923,1.1793021497147862,-0.10148494094334251,1.2444090645162498,2.236896752361946,0.4292984789795256,0.7317923794372792,-1.2032486736964108],\"type\":\"box\"}],                        {\"legend\":{\"bgcolor\":\"#F5F6F9\",\"font\":{\"color\":\"#4D5663\"}},\"paper_bgcolor\":\"#F5F6F9\",\"plot_bgcolor\":\"#F5F6F9\",\"template\":{\"data\":{\"barpolar\":[{\"marker\":{\"line\":{\"color\":\"#E5ECF6\",\"width\":0.5},\"pattern\":{\"fillmode\":\"overlay\",\"size\":10,\"solidity\":0.2}},\"type\":\"barpolar\"}],\"bar\":[{\"error_x\":{\"color\":\"#2a3f5f\"},\"error_y\":{\"color\":\"#2a3f5f\"},\"marker\":{\"line\":{\"color\":\"#E5ECF6\",\"width\":0.5},\"pattern\":{\"fillmode\":\"overlay\",\"size\":10,\"solidity\":0.2}},\"type\":\"bar\"}],\"carpet\":[{\"aaxis\":{\"endlinecolor\":\"#2a3f5f\",\"gridcolor\":\"white\",\"linecolor\":\"white\",\"minorgridcolor\":\"white\",\"startlinecolor\":\"#2a3f5f\"},\"baxis\":{\"endlinecolor\":\"#2a3f5f\",\"gridcolor\":\"white\",\"linecolor\":\"white\",\"minorgridcolor\":\"white\",\"startlinecolor\":\"#2a3f5f\"},\"type\":\"carpet\"}],\"choropleth\":[{\"colorbar\":{\"outlinewidth\":0,\"ticks\":\"\"},\"type\":\"choropleth\"}],\"contourcarpet\":[{\"colorbar\":{\"outlinewidth\":0,\"ticks\":\"\"},\"type\":\"contourcarpet\"}],\"contour\":[{\"colorbar\":{\"outlinewidth\":0,\"ticks\":\"\"},\"colorscale\":[[0.0,\"#0d0887\"],[0.1111111111111111,\"#46039f\"],[0.2222222222222222,\"#7201a8\"],[0.3333333333333333,\"#9c179e\"],[0.4444444444444444,\"#bd3786\"],[0.5555555555555556,\"#d8576b\"],[0.6666666666666666,\"#ed7953\"],[0.7777777777777778,\"#fb9f3a\"],[0.8888888888888888,\"#fdca26\"],[1.0,\"#f0f921\"]],\"type\":\"contour\"}],\"heatmapgl\":[{\"colorbar\":{\"outlinewidth\":0,\"ticks\":\"\"},\"colorscale\":[[0.0,\"#0d0887\"],[0.1111111111111111,\"#46039f\"],[0.2222222222222222,\"#7201a8\"],[0.3333333333333333,\"#9c179e\"],[0.4444444444444444,\"#bd3786\"],[0.5555555555555556,\"#d8576b\"],[0.6666666666666666,\"#ed7953\"],[0.7777777777777778,\"#fb9f3a\"],[0.8888888888888888,\"#fdca26\"],[1.0,\"#f0f921\"]],\"type\":\"heatmapgl\"}],\"heatmap\":[{\"colorbar\":{\"outlinewidth\":0,\"ticks\":\"\"},\"colorscale\":[[0.0,\"#0d0887\"],[0.1111111111111111,\"#46039f\"],[0.2222222222222222,\"#7201a8\"],[0.3333333333333333,\"#9c179e\"],[0.4444444444444444,\"#bd3786\"],[0.5555555555555556,\"#d8576b\"],[0.6666666666666666,\"#ed7953\"],[0.7777777777777778,\"#fb9f3a\"],[0.8888888888888888,\"#fdca26\"],[1.0,\"#f0f921\"]],\"type\":\"heatmap\"}],\"histogram2dcontour\":[{\"colorbar\":{\"outlinewidth\":0,\"ticks\":\"\"},\"colorscale\":[[0.0,\"#0d0887\"],[0.1111111111111111,\"#46039f\"],[0.2222222222222222,\"#7201a8\"],[0.3333333333333333,\"#9c179e\"],[0.4444444444444444,\"#bd3786\"],[0.5555555555555556,\"#d8576b\"],[0.6666666666666666,\"#ed7953\"],[0.7777777777777778,\"#fb9f3a\"],[0.8888888888888888,\"#fdca26\"],[1.0,\"#f0f921\"]],\"type\":\"histogram2dcontour\"}],\"histogram2d\":[{\"colorbar\":{\"outlinewidth\":0,\"ticks\":\"\"},\"colorscale\":[[0.0,\"#0d0887\"],[0.1111111111111111,\"#46039f\"],[0.2222222222222222,\"#7201a8\"],[0.3333333333333333,\"#9c179e\"],[0.4444444444444444,\"#bd3786\"],[0.5555555555555556,\"#d8576b\"],[0.6666666666666666,\"#ed7953\"],[0.7777777777777778,\"#fb9f3a\"],[0.8888888888888888,\"#fdca26\"],[1.0,\"#f0f921\"]],\"type\":\"histogram2d\"}],\"histogram\":[{\"marker\":{\"pattern\":{\"fillmode\":\"overlay\",\"size\":10,\"solidity\":0.2}},\"type\":\"histogram\"}],\"mesh3d\":[{\"colorbar\":{\"outlinewidth\":0,\"ticks\":\"\"},\"type\":\"mesh3d\"}],\"parcoords\":[{\"line\":{\"colorbar\":{\"outlinewidth\":0,\"ticks\":\"\"}},\"type\":\"parcoords\"}],\"pie\":[{\"automargin\":true,\"type\":\"pie\"}],\"scatter3d\":[{\"line\":{\"colorbar\":{\"outlinewidth\":0,\"ticks\":\"\"}},\"marker\":{\"colorbar\":{\"outlinewidth\":0,\"ticks\":\"\"}},\"type\":\"scatter3d\"}],\"scattercarpet\":[{\"marker\":{\"colorbar\":{\"outlinewidth\":0,\"ticks\":\"\"}},\"type\":\"scattercarpet\"}],\"scattergeo\":[{\"marker\":{\"colorbar\":{\"outlinewidth\":0,\"ticks\":\"\"}},\"type\":\"scattergeo\"}],\"scattergl\":[{\"marker\":{\"colorbar\":{\"outlinewidth\":0,\"ticks\":\"\"}},\"type\":\"scattergl\"}],\"scattermapbox\":[{\"marker\":{\"colorbar\":{\"outlinewidth\":0,\"ticks\":\"\"}},\"type\":\"scattermapbox\"}],\"scatterpolargl\":[{\"marker\":{\"colorbar\":{\"outlinewidth\":0,\"ticks\":\"\"}},\"type\":\"scatterpolargl\"}],\"scatterpolar\":[{\"marker\":{\"colorbar\":{\"outlinewidth\":0,\"ticks\":\"\"}},\"type\":\"scatterpolar\"}],\"scatter\":[{\"fillpattern\":{\"fillmode\":\"overlay\",\"size\":10,\"solidity\":0.2},\"type\":\"scatter\"}],\"scatterternary\":[{\"marker\":{\"colorbar\":{\"outlinewidth\":0,\"ticks\":\"\"}},\"type\":\"scatterternary\"}],\"surface\":[{\"colorbar\":{\"outlinewidth\":0,\"ticks\":\"\"},\"colorscale\":[[0.0,\"#0d0887\"],[0.1111111111111111,\"#46039f\"],[0.2222222222222222,\"#7201a8\"],[0.3333333333333333,\"#9c179e\"],[0.4444444444444444,\"#bd3786\"],[0.5555555555555556,\"#d8576b\"],[0.6666666666666666,\"#ed7953\"],[0.7777777777777778,\"#fb9f3a\"],[0.8888888888888888,\"#fdca26\"],[1.0,\"#f0f921\"]],\"type\":\"surface\"}],\"table\":[{\"cells\":{\"fill\":{\"color\":\"#EBF0F8\"},\"line\":{\"color\":\"white\"}},\"header\":{\"fill\":{\"color\":\"#C8D4E3\"},\"line\":{\"color\":\"white\"}},\"type\":\"table\"}]},\"layout\":{\"annotationdefaults\":{\"arrowcolor\":\"#2a3f5f\",\"arrowhead\":0,\"arrowwidth\":1},\"autotypenumbers\":\"strict\",\"coloraxis\":{\"colorbar\":{\"outlinewidth\":0,\"ticks\":\"\"}},\"colorscale\":{\"diverging\":[[0,\"#8e0152\"],[0.1,\"#c51b7d\"],[0.2,\"#de77ae\"],[0.3,\"#f1b6da\"],[0.4,\"#fde0ef\"],[0.5,\"#f7f7f7\"],[0.6,\"#e6f5d0\"],[0.7,\"#b8e186\"],[0.8,\"#7fbc41\"],[0.9,\"#4d9221\"],[1,\"#276419\"]],\"sequential\":[[0.0,\"#0d0887\"],[0.1111111111111111,\"#46039f\"],[0.2222222222222222,\"#7201a8\"],[0.3333333333333333,\"#9c179e\"],[0.4444444444444444,\"#bd3786\"],[0.5555555555555556,\"#d8576b\"],[0.6666666666666666,\"#ed7953\"],[0.7777777777777778,\"#fb9f3a\"],[0.8888888888888888,\"#fdca26\"],[1.0,\"#f0f921\"]],\"sequentialminus\":[[0.0,\"#0d0887\"],[0.1111111111111111,\"#46039f\"],[0.2222222222222222,\"#7201a8\"],[0.3333333333333333,\"#9c179e\"],[0.4444444444444444,\"#bd3786\"],[0.5555555555555556,\"#d8576b\"],[0.6666666666666666,\"#ed7953\"],[0.7777777777777778,\"#fb9f3a\"],[0.8888888888888888,\"#fdca26\"],[1.0,\"#f0f921\"]]},\"colorway\":[\"#636efa\",\"#EF553B\",\"#00cc96\",\"#ab63fa\",\"#FFA15A\",\"#19d3f3\",\"#FF6692\",\"#B6E880\",\"#FF97FF\",\"#FECB52\"],\"font\":{\"color\":\"#2a3f5f\"},\"geo\":{\"bgcolor\":\"white\",\"lakecolor\":\"white\",\"landcolor\":\"#E5ECF6\",\"showlakes\":true,\"showland\":true,\"subunitcolor\":\"white\"},\"hoverlabel\":{\"align\":\"left\"},\"hovermode\":\"closest\",\"mapbox\":{\"style\":\"light\"},\"paper_bgcolor\":\"white\",\"plot_bgcolor\":\"#E5ECF6\",\"polar\":{\"angularaxis\":{\"gridcolor\":\"white\",\"linecolor\":\"white\",\"ticks\":\"\"},\"bgcolor\":\"#E5ECF6\",\"radialaxis\":{\"gridcolor\":\"white\",\"linecolor\":\"white\",\"ticks\":\"\"}},\"scene\":{\"xaxis\":{\"backgroundcolor\":\"#E5ECF6\",\"gridcolor\":\"white\",\"gridwidth\":2,\"linecolor\":\"white\",\"showbackground\":true,\"ticks\":\"\",\"zerolinecolor\":\"white\"},\"yaxis\":{\"backgroundcolor\":\"#E5ECF6\",\"gridcolor\":\"white\",\"gridwidth\":2,\"linecolor\":\"white\",\"showbackground\":true,\"ticks\":\"\",\"zerolinecolor\":\"white\"},\"zaxis\":{\"backgroundcolor\":\"#E5ECF6\",\"gridcolor\":\"white\",\"gridwidth\":2,\"linecolor\":\"white\",\"showbackground\":true,\"ticks\":\"\",\"zerolinecolor\":\"white\"}},\"shapedefaults\":{\"line\":{\"color\":\"#2a3f5f\"}},\"ternary\":{\"aaxis\":{\"gridcolor\":\"white\",\"linecolor\":\"white\",\"ticks\":\"\"},\"baxis\":{\"gridcolor\":\"white\",\"linecolor\":\"white\",\"ticks\":\"\"},\"bgcolor\":\"#E5ECF6\",\"caxis\":{\"gridcolor\":\"white\",\"linecolor\":\"white\",\"ticks\":\"\"}},\"title\":{\"x\":0.05},\"xaxis\":{\"automargin\":true,\"gridcolor\":\"white\",\"linecolor\":\"white\",\"ticks\":\"\",\"title\":{\"standoff\":15},\"zerolinecolor\":\"white\",\"zerolinewidth\":2},\"yaxis\":{\"automargin\":true,\"gridcolor\":\"white\",\"linecolor\":\"white\",\"ticks\":\"\",\"title\":{\"standoff\":15},\"zerolinecolor\":\"white\",\"zerolinewidth\":2}}},\"title\":{\"font\":{\"color\":\"#4D5663\"}},\"xaxis\":{\"gridcolor\":\"#E1E5ED\",\"showgrid\":true,\"tickfont\":{\"color\":\"#4D5663\"},\"title\":{\"font\":{\"color\":\"#4D5663\"},\"text\":\"\"},\"zerolinecolor\":\"#E1E5ED\"},\"yaxis\":{\"gridcolor\":\"#E1E5ED\",\"showgrid\":true,\"tickfont\":{\"color\":\"#4D5663\"},\"title\":{\"font\":{\"color\":\"#4D5663\"},\"text\":\"\"},\"zerolinecolor\":\"#E1E5ED\"}},                        {\"showLink\": true, \"linkText\": \"Export to plot.ly\", \"plotlyServerURL\": \"https://plot.ly\", \"responsive\": true}                    ).then(function(){\n",
       "                            \n",
       "var gd = document.getElementById('a0d67315-bd4e-4a97-a7a4-f5cb332c128e');\n",
       "var x = new MutationObserver(function (mutations, observer) {{\n",
       "        var display = window.getComputedStyle(gd).display;\n",
       "        if (!display || display === 'none') {{\n",
       "            console.log([gd, 'removed!']);\n",
       "            Plotly.purge(gd);\n",
       "            observer.disconnect();\n",
       "        }}\n",
       "}});\n",
       "\n",
       "// Listen for the removal of the full notebook cells\n",
       "var notebookContainer = gd.closest('#notebook-container');\n",
       "if (notebookContainer) {{\n",
       "    x.observe(notebookContainer, {childList: true});\n",
       "}}\n",
       "\n",
       "// Listen for the clearing of the current output cell\n",
       "var outputEl = gd.closest('.output');\n",
       "if (outputEl) {{\n",
       "    x.observe(outputEl, {childList: true});\n",
       "}}\n",
       "\n",
       "                        })                };                });            </script>        </div>"
      ]
     },
     "metadata": {},
     "output_type": "display_data"
    }
   ],
   "source": [
    "df.iplot(kind='box')"
   ]
  },
  {
   "cell_type": "markdown",
   "id": "a3a8d02b",
   "metadata": {},
   "source": [
    "### 3D Surface"
   ]
  },
  {
   "cell_type": "code",
   "execution_count": 22,
   "id": "5e190a69",
   "metadata": {},
   "outputs": [],
   "source": [
    "df3 = pd.DataFrame({'x':[1,2,3,4,5],'y':[10,20,30,20,10],'z':[5,4,3,2,1]})"
   ]
  },
  {
   "cell_type": "code",
   "execution_count": 21,
   "id": "531b442c",
   "metadata": {},
   "outputs": [
    {
     "data": {
      "application/vnd.plotly.v1+json": {
       "config": {
        "linkText": "Export to plot.ly",
        "plotlyServerURL": "https://plot.ly",
        "showLink": true
       },
       "data": [
        {
         "colorscale": [
          [
           0,
           "rgb(165,0,38)"
          ],
          [
           0.1,
           "rgb(215,48,39)"
          ],
          [
           0.2,
           "rgb(244,109,67)"
          ],
          [
           0.3,
           "rgb(253,174,97)"
          ],
          [
           0.4,
           "rgb(254,224,144)"
          ],
          [
           0.5,
           "rgb(255,255,191)"
          ],
          [
           0.6,
           "rgb(224,243,248)"
          ],
          [
           0.7,
           "rgb(171,217,233)"
          ],
          [
           0.8,
           "rgb(116,173,209)"
          ],
          [
           0.9,
           "rgb(69,117,180)"
          ],
          [
           1,
           "rgb(49,54,149)"
          ]
         ],
         "type": "surface",
         "x": [
          0,
          1,
          2,
          3,
          4
         ],
         "y": [
          "x",
          "y",
          "z"
         ],
         "z": [
          [
           1,
           2,
           3,
           4,
           5
          ],
          [
           10,
           20,
           30,
           20,
           10
          ],
          [
           5,
           4,
           3,
           2,
           1
          ]
         ]
        }
       ],
       "layout": {
        "legend": {
         "bgcolor": "#F5F6F9",
         "font": {
          "color": "#4D5663"
         }
        },
        "paper_bgcolor": "#F5F6F9",
        "plot_bgcolor": "#F5F6F9",
        "template": {
         "data": {
          "bar": [
           {
            "error_x": {
             "color": "#2a3f5f"
            },
            "error_y": {
             "color": "#2a3f5f"
            },
            "marker": {
             "line": {
              "color": "#E5ECF6",
              "width": 0.5
             },
             "pattern": {
              "fillmode": "overlay",
              "size": 10,
              "solidity": 0.2
             }
            },
            "type": "bar"
           }
          ],
          "barpolar": [
           {
            "marker": {
             "line": {
              "color": "#E5ECF6",
              "width": 0.5
             },
             "pattern": {
              "fillmode": "overlay",
              "size": 10,
              "solidity": 0.2
             }
            },
            "type": "barpolar"
           }
          ],
          "carpet": [
           {
            "aaxis": {
             "endlinecolor": "#2a3f5f",
             "gridcolor": "white",
             "linecolor": "white",
             "minorgridcolor": "white",
             "startlinecolor": "#2a3f5f"
            },
            "baxis": {
             "endlinecolor": "#2a3f5f",
             "gridcolor": "white",
             "linecolor": "white",
             "minorgridcolor": "white",
             "startlinecolor": "#2a3f5f"
            },
            "type": "carpet"
           }
          ],
          "choropleth": [
           {
            "colorbar": {
             "outlinewidth": 0,
             "ticks": ""
            },
            "type": "choropleth"
           }
          ],
          "contour": [
           {
            "colorbar": {
             "outlinewidth": 0,
             "ticks": ""
            },
            "colorscale": [
             [
              0,
              "#0d0887"
             ],
             [
              0.1111111111111111,
              "#46039f"
             ],
             [
              0.2222222222222222,
              "#7201a8"
             ],
             [
              0.3333333333333333,
              "#9c179e"
             ],
             [
              0.4444444444444444,
              "#bd3786"
             ],
             [
              0.5555555555555556,
              "#d8576b"
             ],
             [
              0.6666666666666666,
              "#ed7953"
             ],
             [
              0.7777777777777778,
              "#fb9f3a"
             ],
             [
              0.8888888888888888,
              "#fdca26"
             ],
             [
              1,
              "#f0f921"
             ]
            ],
            "type": "contour"
           }
          ],
          "contourcarpet": [
           {
            "colorbar": {
             "outlinewidth": 0,
             "ticks": ""
            },
            "type": "contourcarpet"
           }
          ],
          "heatmap": [
           {
            "colorbar": {
             "outlinewidth": 0,
             "ticks": ""
            },
            "colorscale": [
             [
              0,
              "#0d0887"
             ],
             [
              0.1111111111111111,
              "#46039f"
             ],
             [
              0.2222222222222222,
              "#7201a8"
             ],
             [
              0.3333333333333333,
              "#9c179e"
             ],
             [
              0.4444444444444444,
              "#bd3786"
             ],
             [
              0.5555555555555556,
              "#d8576b"
             ],
             [
              0.6666666666666666,
              "#ed7953"
             ],
             [
              0.7777777777777778,
              "#fb9f3a"
             ],
             [
              0.8888888888888888,
              "#fdca26"
             ],
             [
              1,
              "#f0f921"
             ]
            ],
            "type": "heatmap"
           }
          ],
          "heatmapgl": [
           {
            "colorbar": {
             "outlinewidth": 0,
             "ticks": ""
            },
            "colorscale": [
             [
              0,
              "#0d0887"
             ],
             [
              0.1111111111111111,
              "#46039f"
             ],
             [
              0.2222222222222222,
              "#7201a8"
             ],
             [
              0.3333333333333333,
              "#9c179e"
             ],
             [
              0.4444444444444444,
              "#bd3786"
             ],
             [
              0.5555555555555556,
              "#d8576b"
             ],
             [
              0.6666666666666666,
              "#ed7953"
             ],
             [
              0.7777777777777778,
              "#fb9f3a"
             ],
             [
              0.8888888888888888,
              "#fdca26"
             ],
             [
              1,
              "#f0f921"
             ]
            ],
            "type": "heatmapgl"
           }
          ],
          "histogram": [
           {
            "marker": {
             "pattern": {
              "fillmode": "overlay",
              "size": 10,
              "solidity": 0.2
             }
            },
            "type": "histogram"
           }
          ],
          "histogram2d": [
           {
            "colorbar": {
             "outlinewidth": 0,
             "ticks": ""
            },
            "colorscale": [
             [
              0,
              "#0d0887"
             ],
             [
              0.1111111111111111,
              "#46039f"
             ],
             [
              0.2222222222222222,
              "#7201a8"
             ],
             [
              0.3333333333333333,
              "#9c179e"
             ],
             [
              0.4444444444444444,
              "#bd3786"
             ],
             [
              0.5555555555555556,
              "#d8576b"
             ],
             [
              0.6666666666666666,
              "#ed7953"
             ],
             [
              0.7777777777777778,
              "#fb9f3a"
             ],
             [
              0.8888888888888888,
              "#fdca26"
             ],
             [
              1,
              "#f0f921"
             ]
            ],
            "type": "histogram2d"
           }
          ],
          "histogram2dcontour": [
           {
            "colorbar": {
             "outlinewidth": 0,
             "ticks": ""
            },
            "colorscale": [
             [
              0,
              "#0d0887"
             ],
             [
              0.1111111111111111,
              "#46039f"
             ],
             [
              0.2222222222222222,
              "#7201a8"
             ],
             [
              0.3333333333333333,
              "#9c179e"
             ],
             [
              0.4444444444444444,
              "#bd3786"
             ],
             [
              0.5555555555555556,
              "#d8576b"
             ],
             [
              0.6666666666666666,
              "#ed7953"
             ],
             [
              0.7777777777777778,
              "#fb9f3a"
             ],
             [
              0.8888888888888888,
              "#fdca26"
             ],
             [
              1,
              "#f0f921"
             ]
            ],
            "type": "histogram2dcontour"
           }
          ],
          "mesh3d": [
           {
            "colorbar": {
             "outlinewidth": 0,
             "ticks": ""
            },
            "type": "mesh3d"
           }
          ],
          "parcoords": [
           {
            "line": {
             "colorbar": {
              "outlinewidth": 0,
              "ticks": ""
             }
            },
            "type": "parcoords"
           }
          ],
          "pie": [
           {
            "automargin": true,
            "type": "pie"
           }
          ],
          "scatter": [
           {
            "fillpattern": {
             "fillmode": "overlay",
             "size": 10,
             "solidity": 0.2
            },
            "type": "scatter"
           }
          ],
          "scatter3d": [
           {
            "line": {
             "colorbar": {
              "outlinewidth": 0,
              "ticks": ""
             }
            },
            "marker": {
             "colorbar": {
              "outlinewidth": 0,
              "ticks": ""
             }
            },
            "type": "scatter3d"
           }
          ],
          "scattercarpet": [
           {
            "marker": {
             "colorbar": {
              "outlinewidth": 0,
              "ticks": ""
             }
            },
            "type": "scattercarpet"
           }
          ],
          "scattergeo": [
           {
            "marker": {
             "colorbar": {
              "outlinewidth": 0,
              "ticks": ""
             }
            },
            "type": "scattergeo"
           }
          ],
          "scattergl": [
           {
            "marker": {
             "colorbar": {
              "outlinewidth": 0,
              "ticks": ""
             }
            },
            "type": "scattergl"
           }
          ],
          "scattermapbox": [
           {
            "marker": {
             "colorbar": {
              "outlinewidth": 0,
              "ticks": ""
             }
            },
            "type": "scattermapbox"
           }
          ],
          "scatterpolar": [
           {
            "marker": {
             "colorbar": {
              "outlinewidth": 0,
              "ticks": ""
             }
            },
            "type": "scatterpolar"
           }
          ],
          "scatterpolargl": [
           {
            "marker": {
             "colorbar": {
              "outlinewidth": 0,
              "ticks": ""
             }
            },
            "type": "scatterpolargl"
           }
          ],
          "scatterternary": [
           {
            "marker": {
             "colorbar": {
              "outlinewidth": 0,
              "ticks": ""
             }
            },
            "type": "scatterternary"
           }
          ],
          "surface": [
           {
            "colorbar": {
             "outlinewidth": 0,
             "ticks": ""
            },
            "colorscale": [
             [
              0,
              "#0d0887"
             ],
             [
              0.1111111111111111,
              "#46039f"
             ],
             [
              0.2222222222222222,
              "#7201a8"
             ],
             [
              0.3333333333333333,
              "#9c179e"
             ],
             [
              0.4444444444444444,
              "#bd3786"
             ],
             [
              0.5555555555555556,
              "#d8576b"
             ],
             [
              0.6666666666666666,
              "#ed7953"
             ],
             [
              0.7777777777777778,
              "#fb9f3a"
             ],
             [
              0.8888888888888888,
              "#fdca26"
             ],
             [
              1,
              "#f0f921"
             ]
            ],
            "type": "surface"
           }
          ],
          "table": [
           {
            "cells": {
             "fill": {
              "color": "#EBF0F8"
             },
             "line": {
              "color": "white"
             }
            },
            "header": {
             "fill": {
              "color": "#C8D4E3"
             },
             "line": {
              "color": "white"
             }
            },
            "type": "table"
           }
          ]
         },
         "layout": {
          "annotationdefaults": {
           "arrowcolor": "#2a3f5f",
           "arrowhead": 0,
           "arrowwidth": 1
          },
          "autotypenumbers": "strict",
          "coloraxis": {
           "colorbar": {
            "outlinewidth": 0,
            "ticks": ""
           }
          },
          "colorscale": {
           "diverging": [
            [
             0,
             "#8e0152"
            ],
            [
             0.1,
             "#c51b7d"
            ],
            [
             0.2,
             "#de77ae"
            ],
            [
             0.3,
             "#f1b6da"
            ],
            [
             0.4,
             "#fde0ef"
            ],
            [
             0.5,
             "#f7f7f7"
            ],
            [
             0.6,
             "#e6f5d0"
            ],
            [
             0.7,
             "#b8e186"
            ],
            [
             0.8,
             "#7fbc41"
            ],
            [
             0.9,
             "#4d9221"
            ],
            [
             1,
             "#276419"
            ]
           ],
           "sequential": [
            [
             0,
             "#0d0887"
            ],
            [
             0.1111111111111111,
             "#46039f"
            ],
            [
             0.2222222222222222,
             "#7201a8"
            ],
            [
             0.3333333333333333,
             "#9c179e"
            ],
            [
             0.4444444444444444,
             "#bd3786"
            ],
            [
             0.5555555555555556,
             "#d8576b"
            ],
            [
             0.6666666666666666,
             "#ed7953"
            ],
            [
             0.7777777777777778,
             "#fb9f3a"
            ],
            [
             0.8888888888888888,
             "#fdca26"
            ],
            [
             1,
             "#f0f921"
            ]
           ],
           "sequentialminus": [
            [
             0,
             "#0d0887"
            ],
            [
             0.1111111111111111,
             "#46039f"
            ],
            [
             0.2222222222222222,
             "#7201a8"
            ],
            [
             0.3333333333333333,
             "#9c179e"
            ],
            [
             0.4444444444444444,
             "#bd3786"
            ],
            [
             0.5555555555555556,
             "#d8576b"
            ],
            [
             0.6666666666666666,
             "#ed7953"
            ],
            [
             0.7777777777777778,
             "#fb9f3a"
            ],
            [
             0.8888888888888888,
             "#fdca26"
            ],
            [
             1,
             "#f0f921"
            ]
           ]
          },
          "colorway": [
           "#636efa",
           "#EF553B",
           "#00cc96",
           "#ab63fa",
           "#FFA15A",
           "#19d3f3",
           "#FF6692",
           "#B6E880",
           "#FF97FF",
           "#FECB52"
          ],
          "font": {
           "color": "#2a3f5f"
          },
          "geo": {
           "bgcolor": "white",
           "lakecolor": "white",
           "landcolor": "#E5ECF6",
           "showlakes": true,
           "showland": true,
           "subunitcolor": "white"
          },
          "hoverlabel": {
           "align": "left"
          },
          "hovermode": "closest",
          "mapbox": {
           "style": "light"
          },
          "paper_bgcolor": "white",
          "plot_bgcolor": "#E5ECF6",
          "polar": {
           "angularaxis": {
            "gridcolor": "white",
            "linecolor": "white",
            "ticks": ""
           },
           "bgcolor": "#E5ECF6",
           "radialaxis": {
            "gridcolor": "white",
            "linecolor": "white",
            "ticks": ""
           }
          },
          "scene": {
           "xaxis": {
            "backgroundcolor": "#E5ECF6",
            "gridcolor": "white",
            "gridwidth": 2,
            "linecolor": "white",
            "showbackground": true,
            "ticks": "",
            "zerolinecolor": "white"
           },
           "yaxis": {
            "backgroundcolor": "#E5ECF6",
            "gridcolor": "white",
            "gridwidth": 2,
            "linecolor": "white",
            "showbackground": true,
            "ticks": "",
            "zerolinecolor": "white"
           },
           "zaxis": {
            "backgroundcolor": "#E5ECF6",
            "gridcolor": "white",
            "gridwidth": 2,
            "linecolor": "white",
            "showbackground": true,
            "ticks": "",
            "zerolinecolor": "white"
           }
          },
          "shapedefaults": {
           "line": {
            "color": "#2a3f5f"
           }
          },
          "ternary": {
           "aaxis": {
            "gridcolor": "white",
            "linecolor": "white",
            "ticks": ""
           },
           "baxis": {
            "gridcolor": "white",
            "linecolor": "white",
            "ticks": ""
           },
           "bgcolor": "#E5ECF6",
           "caxis": {
            "gridcolor": "white",
            "linecolor": "white",
            "ticks": ""
           }
          },
          "title": {
           "x": 0.05
          },
          "xaxis": {
           "automargin": true,
           "gridcolor": "white",
           "linecolor": "white",
           "ticks": "",
           "title": {
            "standoff": 15
           },
           "zerolinecolor": "white",
           "zerolinewidth": 2
          },
          "yaxis": {
           "automargin": true,
           "gridcolor": "white",
           "linecolor": "white",
           "ticks": "",
           "title": {
            "standoff": 15
           },
           "zerolinecolor": "white",
           "zerolinewidth": 2
          }
         }
        },
        "title": {
         "font": {
          "color": "#4D5663"
         }
        },
        "xaxis": {
         "gridcolor": "#E1E5ED",
         "showgrid": true,
         "tickfont": {
          "color": "#4D5663"
         },
         "title": {
          "font": {
           "color": "#4D5663"
          },
          "text": ""
         },
         "zerolinecolor": "#E1E5ED"
        },
        "yaxis": {
         "gridcolor": "#E1E5ED",
         "showgrid": true,
         "tickfont": {
          "color": "#4D5663"
         },
         "title": {
          "font": {
           "color": "#4D5663"
          },
          "text": ""
         },
         "zerolinecolor": "#E1E5ED"
        }
       }
      },
      "text/html": [
       "<div>                            <div id=\"9b7e363e-96d4-47c6-9687-e448bc75d724\" class=\"plotly-graph-div\" style=\"height:525px; width:100%;\"></div>            <script type=\"text/javascript\">                require([\"plotly\"], function(Plotly) {                    window.PLOTLYENV=window.PLOTLYENV || {};\n",
       "                    window.PLOTLYENV.BASE_URL='https://plot.ly';                                    if (document.getElementById(\"9b7e363e-96d4-47c6-9687-e448bc75d724\")) {                    Plotly.newPlot(                        \"9b7e363e-96d4-47c6-9687-e448bc75d724\",                        [{\"colorscale\":[[0.0,\"rgb(165,0,38)\"],[0.1,\"rgb(215,48,39)\"],[0.2,\"rgb(244,109,67)\"],[0.3,\"rgb(253,174,97)\"],[0.4,\"rgb(254,224,144)\"],[0.5,\"rgb(255,255,191)\"],[0.6,\"rgb(224,243,248)\"],[0.7,\"rgb(171,217,233)\"],[0.8,\"rgb(116,173,209)\"],[0.9,\"rgb(69,117,180)\"],[1.0,\"rgb(49,54,149)\"]],\"x\":[0,1,2,3,4],\"y\":[\"x\",\"y\",\"z\"],\"z\":[[1,2,3,4,5],[10,20,30,20,10],[5,4,3,2,1]],\"type\":\"surface\"}],                        {\"legend\":{\"bgcolor\":\"#F5F6F9\",\"font\":{\"color\":\"#4D5663\"}},\"paper_bgcolor\":\"#F5F6F9\",\"plot_bgcolor\":\"#F5F6F9\",\"template\":{\"data\":{\"barpolar\":[{\"marker\":{\"line\":{\"color\":\"#E5ECF6\",\"width\":0.5},\"pattern\":{\"fillmode\":\"overlay\",\"size\":10,\"solidity\":0.2}},\"type\":\"barpolar\"}],\"bar\":[{\"error_x\":{\"color\":\"#2a3f5f\"},\"error_y\":{\"color\":\"#2a3f5f\"},\"marker\":{\"line\":{\"color\":\"#E5ECF6\",\"width\":0.5},\"pattern\":{\"fillmode\":\"overlay\",\"size\":10,\"solidity\":0.2}},\"type\":\"bar\"}],\"carpet\":[{\"aaxis\":{\"endlinecolor\":\"#2a3f5f\",\"gridcolor\":\"white\",\"linecolor\":\"white\",\"minorgridcolor\":\"white\",\"startlinecolor\":\"#2a3f5f\"},\"baxis\":{\"endlinecolor\":\"#2a3f5f\",\"gridcolor\":\"white\",\"linecolor\":\"white\",\"minorgridcolor\":\"white\",\"startlinecolor\":\"#2a3f5f\"},\"type\":\"carpet\"}],\"choropleth\":[{\"colorbar\":{\"outlinewidth\":0,\"ticks\":\"\"},\"type\":\"choropleth\"}],\"contourcarpet\":[{\"colorbar\":{\"outlinewidth\":0,\"ticks\":\"\"},\"type\":\"contourcarpet\"}],\"contour\":[{\"colorbar\":{\"outlinewidth\":0,\"ticks\":\"\"},\"colorscale\":[[0.0,\"#0d0887\"],[0.1111111111111111,\"#46039f\"],[0.2222222222222222,\"#7201a8\"],[0.3333333333333333,\"#9c179e\"],[0.4444444444444444,\"#bd3786\"],[0.5555555555555556,\"#d8576b\"],[0.6666666666666666,\"#ed7953\"],[0.7777777777777778,\"#fb9f3a\"],[0.8888888888888888,\"#fdca26\"],[1.0,\"#f0f921\"]],\"type\":\"contour\"}],\"heatmapgl\":[{\"colorbar\":{\"outlinewidth\":0,\"ticks\":\"\"},\"colorscale\":[[0.0,\"#0d0887\"],[0.1111111111111111,\"#46039f\"],[0.2222222222222222,\"#7201a8\"],[0.3333333333333333,\"#9c179e\"],[0.4444444444444444,\"#bd3786\"],[0.5555555555555556,\"#d8576b\"],[0.6666666666666666,\"#ed7953\"],[0.7777777777777778,\"#fb9f3a\"],[0.8888888888888888,\"#fdca26\"],[1.0,\"#f0f921\"]],\"type\":\"heatmapgl\"}],\"heatmap\":[{\"colorbar\":{\"outlinewidth\":0,\"ticks\":\"\"},\"colorscale\":[[0.0,\"#0d0887\"],[0.1111111111111111,\"#46039f\"],[0.2222222222222222,\"#7201a8\"],[0.3333333333333333,\"#9c179e\"],[0.4444444444444444,\"#bd3786\"],[0.5555555555555556,\"#d8576b\"],[0.6666666666666666,\"#ed7953\"],[0.7777777777777778,\"#fb9f3a\"],[0.8888888888888888,\"#fdca26\"],[1.0,\"#f0f921\"]],\"type\":\"heatmap\"}],\"histogram2dcontour\":[{\"colorbar\":{\"outlinewidth\":0,\"ticks\":\"\"},\"colorscale\":[[0.0,\"#0d0887\"],[0.1111111111111111,\"#46039f\"],[0.2222222222222222,\"#7201a8\"],[0.3333333333333333,\"#9c179e\"],[0.4444444444444444,\"#bd3786\"],[0.5555555555555556,\"#d8576b\"],[0.6666666666666666,\"#ed7953\"],[0.7777777777777778,\"#fb9f3a\"],[0.8888888888888888,\"#fdca26\"],[1.0,\"#f0f921\"]],\"type\":\"histogram2dcontour\"}],\"histogram2d\":[{\"colorbar\":{\"outlinewidth\":0,\"ticks\":\"\"},\"colorscale\":[[0.0,\"#0d0887\"],[0.1111111111111111,\"#46039f\"],[0.2222222222222222,\"#7201a8\"],[0.3333333333333333,\"#9c179e\"],[0.4444444444444444,\"#bd3786\"],[0.5555555555555556,\"#d8576b\"],[0.6666666666666666,\"#ed7953\"],[0.7777777777777778,\"#fb9f3a\"],[0.8888888888888888,\"#fdca26\"],[1.0,\"#f0f921\"]],\"type\":\"histogram2d\"}],\"histogram\":[{\"marker\":{\"pattern\":{\"fillmode\":\"overlay\",\"size\":10,\"solidity\":0.2}},\"type\":\"histogram\"}],\"mesh3d\":[{\"colorbar\":{\"outlinewidth\":0,\"ticks\":\"\"},\"type\":\"mesh3d\"}],\"parcoords\":[{\"line\":{\"colorbar\":{\"outlinewidth\":0,\"ticks\":\"\"}},\"type\":\"parcoords\"}],\"pie\":[{\"automargin\":true,\"type\":\"pie\"}],\"scatter3d\":[{\"line\":{\"colorbar\":{\"outlinewidth\":0,\"ticks\":\"\"}},\"marker\":{\"colorbar\":{\"outlinewidth\":0,\"ticks\":\"\"}},\"type\":\"scatter3d\"}],\"scattercarpet\":[{\"marker\":{\"colorbar\":{\"outlinewidth\":0,\"ticks\":\"\"}},\"type\":\"scattercarpet\"}],\"scattergeo\":[{\"marker\":{\"colorbar\":{\"outlinewidth\":0,\"ticks\":\"\"}},\"type\":\"scattergeo\"}],\"scattergl\":[{\"marker\":{\"colorbar\":{\"outlinewidth\":0,\"ticks\":\"\"}},\"type\":\"scattergl\"}],\"scattermapbox\":[{\"marker\":{\"colorbar\":{\"outlinewidth\":0,\"ticks\":\"\"}},\"type\":\"scattermapbox\"}],\"scatterpolargl\":[{\"marker\":{\"colorbar\":{\"outlinewidth\":0,\"ticks\":\"\"}},\"type\":\"scatterpolargl\"}],\"scatterpolar\":[{\"marker\":{\"colorbar\":{\"outlinewidth\":0,\"ticks\":\"\"}},\"type\":\"scatterpolar\"}],\"scatter\":[{\"fillpattern\":{\"fillmode\":\"overlay\",\"size\":10,\"solidity\":0.2},\"type\":\"scatter\"}],\"scatterternary\":[{\"marker\":{\"colorbar\":{\"outlinewidth\":0,\"ticks\":\"\"}},\"type\":\"scatterternary\"}],\"surface\":[{\"colorbar\":{\"outlinewidth\":0,\"ticks\":\"\"},\"colorscale\":[[0.0,\"#0d0887\"],[0.1111111111111111,\"#46039f\"],[0.2222222222222222,\"#7201a8\"],[0.3333333333333333,\"#9c179e\"],[0.4444444444444444,\"#bd3786\"],[0.5555555555555556,\"#d8576b\"],[0.6666666666666666,\"#ed7953\"],[0.7777777777777778,\"#fb9f3a\"],[0.8888888888888888,\"#fdca26\"],[1.0,\"#f0f921\"]],\"type\":\"surface\"}],\"table\":[{\"cells\":{\"fill\":{\"color\":\"#EBF0F8\"},\"line\":{\"color\":\"white\"}},\"header\":{\"fill\":{\"color\":\"#C8D4E3\"},\"line\":{\"color\":\"white\"}},\"type\":\"table\"}]},\"layout\":{\"annotationdefaults\":{\"arrowcolor\":\"#2a3f5f\",\"arrowhead\":0,\"arrowwidth\":1},\"autotypenumbers\":\"strict\",\"coloraxis\":{\"colorbar\":{\"outlinewidth\":0,\"ticks\":\"\"}},\"colorscale\":{\"diverging\":[[0,\"#8e0152\"],[0.1,\"#c51b7d\"],[0.2,\"#de77ae\"],[0.3,\"#f1b6da\"],[0.4,\"#fde0ef\"],[0.5,\"#f7f7f7\"],[0.6,\"#e6f5d0\"],[0.7,\"#b8e186\"],[0.8,\"#7fbc41\"],[0.9,\"#4d9221\"],[1,\"#276419\"]],\"sequential\":[[0.0,\"#0d0887\"],[0.1111111111111111,\"#46039f\"],[0.2222222222222222,\"#7201a8\"],[0.3333333333333333,\"#9c179e\"],[0.4444444444444444,\"#bd3786\"],[0.5555555555555556,\"#d8576b\"],[0.6666666666666666,\"#ed7953\"],[0.7777777777777778,\"#fb9f3a\"],[0.8888888888888888,\"#fdca26\"],[1.0,\"#f0f921\"]],\"sequentialminus\":[[0.0,\"#0d0887\"],[0.1111111111111111,\"#46039f\"],[0.2222222222222222,\"#7201a8\"],[0.3333333333333333,\"#9c179e\"],[0.4444444444444444,\"#bd3786\"],[0.5555555555555556,\"#d8576b\"],[0.6666666666666666,\"#ed7953\"],[0.7777777777777778,\"#fb9f3a\"],[0.8888888888888888,\"#fdca26\"],[1.0,\"#f0f921\"]]},\"colorway\":[\"#636efa\",\"#EF553B\",\"#00cc96\",\"#ab63fa\",\"#FFA15A\",\"#19d3f3\",\"#FF6692\",\"#B6E880\",\"#FF97FF\",\"#FECB52\"],\"font\":{\"color\":\"#2a3f5f\"},\"geo\":{\"bgcolor\":\"white\",\"lakecolor\":\"white\",\"landcolor\":\"#E5ECF6\",\"showlakes\":true,\"showland\":true,\"subunitcolor\":\"white\"},\"hoverlabel\":{\"align\":\"left\"},\"hovermode\":\"closest\",\"mapbox\":{\"style\":\"light\"},\"paper_bgcolor\":\"white\",\"plot_bgcolor\":\"#E5ECF6\",\"polar\":{\"angularaxis\":{\"gridcolor\":\"white\",\"linecolor\":\"white\",\"ticks\":\"\"},\"bgcolor\":\"#E5ECF6\",\"radialaxis\":{\"gridcolor\":\"white\",\"linecolor\":\"white\",\"ticks\":\"\"}},\"scene\":{\"xaxis\":{\"backgroundcolor\":\"#E5ECF6\",\"gridcolor\":\"white\",\"gridwidth\":2,\"linecolor\":\"white\",\"showbackground\":true,\"ticks\":\"\",\"zerolinecolor\":\"white\"},\"yaxis\":{\"backgroundcolor\":\"#E5ECF6\",\"gridcolor\":\"white\",\"gridwidth\":2,\"linecolor\":\"white\",\"showbackground\":true,\"ticks\":\"\",\"zerolinecolor\":\"white\"},\"zaxis\":{\"backgroundcolor\":\"#E5ECF6\",\"gridcolor\":\"white\",\"gridwidth\":2,\"linecolor\":\"white\",\"showbackground\":true,\"ticks\":\"\",\"zerolinecolor\":\"white\"}},\"shapedefaults\":{\"line\":{\"color\":\"#2a3f5f\"}},\"ternary\":{\"aaxis\":{\"gridcolor\":\"white\",\"linecolor\":\"white\",\"ticks\":\"\"},\"baxis\":{\"gridcolor\":\"white\",\"linecolor\":\"white\",\"ticks\":\"\"},\"bgcolor\":\"#E5ECF6\",\"caxis\":{\"gridcolor\":\"white\",\"linecolor\":\"white\",\"ticks\":\"\"}},\"title\":{\"x\":0.05},\"xaxis\":{\"automargin\":true,\"gridcolor\":\"white\",\"linecolor\":\"white\",\"ticks\":\"\",\"title\":{\"standoff\":15},\"zerolinecolor\":\"white\",\"zerolinewidth\":2},\"yaxis\":{\"automargin\":true,\"gridcolor\":\"white\",\"linecolor\":\"white\",\"ticks\":\"\",\"title\":{\"standoff\":15},\"zerolinecolor\":\"white\",\"zerolinewidth\":2}}},\"title\":{\"font\":{\"color\":\"#4D5663\"}},\"xaxis\":{\"gridcolor\":\"#E1E5ED\",\"showgrid\":true,\"tickfont\":{\"color\":\"#4D5663\"},\"title\":{\"font\":{\"color\":\"#4D5663\"},\"text\":\"\"},\"zerolinecolor\":\"#E1E5ED\"},\"yaxis\":{\"gridcolor\":\"#E1E5ED\",\"showgrid\":true,\"tickfont\":{\"color\":\"#4D5663\"},\"title\":{\"font\":{\"color\":\"#4D5663\"},\"text\":\"\"},\"zerolinecolor\":\"#E1E5ED\"}},                        {\"showLink\": true, \"linkText\": \"Export to plot.ly\", \"plotlyServerURL\": \"https://plot.ly\", \"responsive\": true}                    ).then(function(){\n",
       "                            \n",
       "var gd = document.getElementById('9b7e363e-96d4-47c6-9687-e448bc75d724');\n",
       "var x = new MutationObserver(function (mutations, observer) {{\n",
       "        var display = window.getComputedStyle(gd).display;\n",
       "        if (!display || display === 'none') {{\n",
       "            console.log([gd, 'removed!']);\n",
       "            Plotly.purge(gd);\n",
       "            observer.disconnect();\n",
       "        }}\n",
       "}});\n",
       "\n",
       "// Listen for the removal of the full notebook cells\n",
       "var notebookContainer = gd.closest('#notebook-container');\n",
       "if (notebookContainer) {{\n",
       "    x.observe(notebookContainer, {childList: true});\n",
       "}}\n",
       "\n",
       "// Listen for the clearing of the current output cell\n",
       "var outputEl = gd.closest('.output');\n",
       "if (outputEl) {{\n",
       "    x.observe(outputEl, {childList: true});\n",
       "}}\n",
       "\n",
       "                        })                };                });            </script>        </div>"
      ]
     },
     "metadata": {},
     "output_type": "display_data"
    }
   ],
   "source": [
    "df3.iplot(kind='surface', colorscale='rdylbu')"
   ]
  },
  {
   "cell_type": "markdown",
   "id": "c900888f",
   "metadata": {},
   "source": [
    "### Spread"
   ]
  },
  {
   "cell_type": "code",
   "execution_count": 25,
   "id": "4d56b70e",
   "metadata": {},
   "outputs": [
    {
     "name": "stderr",
     "output_type": "stream",
     "text": [
      "/home/kauas/anaconda3/lib/python3.9/site-packages/cufflinks/plotlytools.py:849: FutureWarning:\n",
      "\n",
      "The pandas.np module is deprecated and will be removed from pandas in a future version. Import numpy directly instead.\n",
      "\n",
      "/home/kauas/anaconda3/lib/python3.9/site-packages/cufflinks/plotlytools.py:850: FutureWarning:\n",
      "\n",
      "The pandas.np module is deprecated and will be removed from pandas in a future version. Import numpy directly instead.\n",
      "\n"
     ]
    },
    {
     "data": {
      "application/vnd.plotly.v1+json": {
       "config": {
        "linkText": "Export to plot.ly",
        "plotlyServerURL": "https://plot.ly",
        "showLink": true
       },
       "data": [
        {
         "line": {
          "color": "rgba(255, 153, 51, 1.0)",
          "dash": "solid",
          "shape": "linear",
          "width": 1.3
         },
         "mode": "lines",
         "name": "A",
         "text": "",
         "type": "scatter",
         "x": [
          0,
          1,
          2,
          3,
          4,
          5,
          6,
          7,
          8,
          9,
          10,
          11,
          12,
          13,
          14,
          15,
          16,
          17,
          18,
          19,
          20,
          21,
          22,
          23,
          24,
          25,
          26,
          27,
          28,
          29,
          30,
          31,
          32,
          33,
          34,
          35,
          36,
          37,
          38,
          39,
          40,
          41,
          42,
          43,
          44,
          45,
          46,
          47,
          48,
          49,
          50,
          51,
          52,
          53,
          54,
          55,
          56,
          57,
          58,
          59,
          60,
          61,
          62,
          63,
          64,
          65,
          66,
          67,
          68,
          69,
          70,
          71,
          72,
          73,
          74,
          75,
          76,
          77,
          78,
          79,
          80,
          81,
          82,
          83,
          84,
          85,
          86,
          87,
          88,
          89,
          90,
          91,
          92,
          93,
          94,
          95,
          96,
          97,
          98,
          99
         ],
         "y": [
          0.778457933302214,
          -0.9680449357550578,
          0.39359084183301096,
          -1.2394985928585338,
          -0.2164835093388013,
          -0.1356228708503378,
          -1.2521746730325765,
          -1.0835243246963888,
          0.6250752248509963,
          0.7718451818596955,
          0.4318676271026053,
          -0.8686984687467546,
          0.18229522144610463,
          -0.17752709417956644,
          -0.7853823575966619,
          -0.06893337907779387,
          -0.9466983840211649,
          -0.9221095109610769,
          1.5774648689521218,
          0.3930242065630447,
          0.8277738191842602,
          -0.8241508298553344,
          0.07495661144670138,
          -0.3590170031546842,
          1.2734557212058224,
          -1.504383022229239,
          -0.12596790196229846,
          0.6123225576918307,
          0.3426474625945798,
          0.846089362700548,
          1.3523055165355302,
          0.284811559971216,
          -1.6013083992544557,
          1.6679084568187605,
          1.5145816453277892,
          -0.0046250819630932315,
          -0.07829149222527237,
          0.9916207650528954,
          1.1145048640682926,
          -1.089729192815636,
          0.17314040189558932,
          -0.033796344362975864,
          0.07562690561269443,
          1.892594834465393,
          -1.8348706724093262,
          1.2584334190829263,
          0.17218282514485775,
          0.34213290139111757,
          -0.7402663222325283,
          -0.588544402128247,
          -0.27975100910657263,
          -0.36609359684194237,
          -0.8452472534162175,
          -0.4468861894570877,
          0.6034241098470298,
          3.1023651388360145,
          0.214644091222445,
          -0.8612338237196326,
          0.13263420361251016,
          -0.9710094581449149,
          0.7227469378577297,
          -0.7822128929376538,
          -0.22143889112664097,
          0.14416334626005273,
          -0.8833756073627672,
          1.2612268675473937,
          0.7928279434498183,
          -1.0251422302062176,
          -0.4536854547609093,
          -0.45958745335640483,
          0.5182900495849041,
          0.850977459520938,
          0.04421513310499319,
          -1.1175849668722495,
          -0.8030693507661488,
          1.92519394398426,
          0.7217912827510005,
          -0.3116468245019817,
          -1.750355552577647,
          -0.6873302147493952,
          1.5993325144520412,
          1.2093688325747638,
          0.7382608277486163,
          -0.01307177710019666,
          0.4249358964426604,
          1.8114662802257053,
          -0.23812364488121177,
          -0.04821109509459664,
          -0.47886446654041864,
          -0.4038921916964521,
          0.5091420384625585,
          0.4801272970933442,
          -0.48912145451354583,
          -1.147042924817787,
          -0.01032179386658933,
          0.1321566262110016,
          -0.384385463475132,
          1.2891000679608127,
          0.9391036286315693,
          1.0197304435884655
         ]
        },
        {
         "line": {
          "color": "rgba(55, 128, 191, 1.0)",
          "dash": "solid",
          "shape": "linear",
          "width": 1.3
         },
         "mode": "lines",
         "name": "B",
         "text": "",
         "type": "scatter",
         "x": [
          0,
          1,
          2,
          3,
          4,
          5,
          6,
          7,
          8,
          9,
          10,
          11,
          12,
          13,
          14,
          15,
          16,
          17,
          18,
          19,
          20,
          21,
          22,
          23,
          24,
          25,
          26,
          27,
          28,
          29,
          30,
          31,
          32,
          33,
          34,
          35,
          36,
          37,
          38,
          39,
          40,
          41,
          42,
          43,
          44,
          45,
          46,
          47,
          48,
          49,
          50,
          51,
          52,
          53,
          54,
          55,
          56,
          57,
          58,
          59,
          60,
          61,
          62,
          63,
          64,
          65,
          66,
          67,
          68,
          69,
          70,
          71,
          72,
          73,
          74,
          75,
          76,
          77,
          78,
          79,
          80,
          81,
          82,
          83,
          84,
          85,
          86,
          87,
          88,
          89,
          90,
          91,
          92,
          93,
          94,
          95,
          96,
          97,
          98,
          99
         ],
         "y": [
          -0.12418495906275873,
          0.5285054303759434,
          -0.6483376777606301,
          -0.2882240309938093,
          0.5736212497816112,
          2.239254267902068,
          -3.7132010957566717,
          -0.827361314325003,
          -0.07056871306249225,
          0.4485007765695378,
          -1.1425087248215398,
          0.713665370670025,
          -0.12237518106470253,
          -1.5779230985738613,
          -1.6518453654137415,
          0.7872739570953827,
          0.6696097676881092,
          0.12485407678766407,
          -0.2592731741227891,
          -0.6034697000193865,
          -0.1634147137662408,
          -0.9185909367956211,
          -1.5225614971140846,
          0.32708339513992823,
          -0.7881580126865311,
          -0.253793228203105,
          -0.20667844715897066,
          0.9083395167937691,
          0.48256960720999503,
          -0.9609842265734008,
          -0.9045949603882426,
          -0.8259097380548978,
          -0.4414993729915333,
          -0.2965042673868797,
          -1.8110254612575696,
          -0.6947125921837172,
          0.22518886816166567,
          0.9620639813793939,
          -1.4689365913873842,
          -0.5002907290334543,
          0.15554850993818742,
          1.0644877346151136,
          0.08741835263849135,
          -1.2266050665518022,
          0.009267372916793585,
          0.9365478847521909,
          -0.06849812894451411,
          0.572511977530958,
          0.2490562834386925,
          -0.7544740172893082,
          0.6270155247426541,
          0.4392751700611625,
          0.8876910389681761,
          0.6895447204388416,
          -0.08376221605853913,
          0.7519574530059915,
          0.7928931750275154,
          -0.07844246435307307,
          -0.6610778230711215,
          0.4710622226800591,
          -3.102751806348052,
          1.3879524318512182,
          -1.9793711097598718,
          0.08488617246516036,
          -1.6306338131169662,
          0.31209134076027195,
          1.527604855019396,
          2.0868502636121495,
          -0.41398376859852154,
          -0.5958562882694559,
          0.1407586248600635,
          1.1241522625681128,
          -0.7699943106290851,
          0.13748390446668632,
          -1.0344313621767662,
          1.589065501698242,
          -1.483419352532759,
          1.1109792033938501,
          0.6953782435953554,
          0.5181307791043384,
          1.3792400569088539,
          -0.19834484065509467,
          -1.6984989450444554,
          0.6454744077409759,
          1.156837525492291,
          -1.3392031859801345,
          -1.0476297371919077,
          0.8978011452694012,
          0.21692629572147912,
          -0.4597509119081817,
          0.19481940643523454,
          -0.08341557197324237,
          0.7726127026487843,
          -1.6792646825069584,
          -0.6350127596847416,
          1.0570017823937987,
          -1.0115000812255166,
          -1.5882588060836178,
          -1.8493217471273957,
          -1.1361901014810987
         ]
        },
        {
         "connectgaps": false,
         "fill": "tozeroy",
         "line": {
          "color": "green",
          "dash": "solid",
          "shape": "linear",
          "width": 0.5
         },
         "mode": "lines",
         "name": "Spread",
         "showlegend": false,
         "type": "scatter",
         "x": [
          0,
          1,
          2,
          3,
          4,
          5,
          6,
          7,
          8,
          9,
          10,
          11,
          12,
          13,
          14,
          15,
          16,
          17,
          18,
          19,
          20,
          21,
          22,
          23,
          24,
          25,
          26,
          27,
          28,
          29,
          30,
          31,
          32,
          33,
          34,
          35,
          36,
          37,
          38,
          39,
          40,
          41,
          42,
          43,
          44,
          45,
          46,
          47,
          48,
          49,
          50,
          51,
          52,
          53,
          54,
          55,
          56,
          57,
          58,
          59,
          60,
          61,
          62,
          63,
          64,
          65,
          66,
          67,
          68,
          69,
          70,
          71,
          72,
          73,
          74,
          75,
          76,
          77,
          78,
          79,
          80,
          81,
          82,
          83,
          84,
          85,
          86,
          87,
          88,
          89,
          90,
          91,
          92,
          93,
          94,
          95,
          96,
          97,
          98,
          99
         ],
         "xaxis": "x2",
         "y": [
          0.9026428923649727,
          "",
          1.041928519593641,
          "",
          "",
          "",
          2.461026422724095,
          "",
          0.6956439379134886,
          0.32334440529015773,
          1.574376351924145,
          "",
          0.3046704025108072,
          1.400396004394295,
          0.8664630078170796,
          "",
          "",
          "",
          1.836738043074911,
          0.9964939065824312,
          0.991188532950501,
          0.0944401069402867,
          1.597518108560786,
          "",
          2.0616137338923535,
          "",
          0.0807105451966722,
          "",
          "",
          1.8070735892739487,
          2.256900476923773,
          1.1107212980261139,
          "",
          1.9644127242056402,
          3.325607106585359,
          0.690087510220624,
          "",
          0.029556783673501563,
          2.583441455455677,
          "",
          0.017591891957401906,
          "",
          "",
          3.119199901017195,
          "",
          0.3218855343307354,
          0.24068095408937185,
          "",
          "",
          0.1659296151610612,
          "",
          "",
          "",
          "",
          0.6871863259055689,
          2.350407685830023,
          "",
          "",
          0.7937120266836317,
          "",
          3.8254987442057815,
          "",
          1.757932218633231,
          0.05927717379489236,
          0.747258205754199,
          0.9491355267871218,
          "",
          "",
          "",
          0.13626883491305108,
          0.3775314247248406,
          "",
          0.8142094437340782,
          "",
          0.2313620114106174,
          0.336128442286018,
          2.2052106352837595,
          "",
          "",
          "",
          0.2200924575431873,
          1.4077136732298585,
          2.4367597727930717,
          "",
          "",
          3.15066946620584,
          0.8095060923106959,
          "",
          "",
          0.05585872021172961,
          0.3143226320273239,
          0.5635428690665866,
          "",
          0.5322217576891715,
          0.6246909658181522,
          "",
          0.6271146177503846,
          2.8773588740444307,
          2.788425375758965,
          2.155920545069564
         ],
         "yaxis": "y2"
        },
        {
         "connectgaps": false,
         "fill": "tozeroy",
         "line": {
          "color": "red",
          "dash": "solid",
          "shape": "linear",
          "width": 0.5
         },
         "mode": "lines",
         "name": "Spread",
         "showlegend": false,
         "type": "scatter",
         "x": [
          0,
          1,
          2,
          3,
          4,
          5,
          6,
          7,
          8,
          9,
          10,
          11,
          12,
          13,
          14,
          15,
          16,
          17,
          18,
          19,
          20,
          21,
          22,
          23,
          24,
          25,
          26,
          27,
          28,
          29,
          30,
          31,
          32,
          33,
          34,
          35,
          36,
          37,
          38,
          39,
          40,
          41,
          42,
          43,
          44,
          45,
          46,
          47,
          48,
          49,
          50,
          51,
          52,
          53,
          54,
          55,
          56,
          57,
          58,
          59,
          60,
          61,
          62,
          63,
          64,
          65,
          66,
          67,
          68,
          69,
          70,
          71,
          72,
          73,
          74,
          75,
          76,
          77,
          78,
          79,
          80,
          81,
          82,
          83,
          84,
          85,
          86,
          87,
          88,
          89,
          90,
          91,
          92,
          93,
          94,
          95,
          96,
          97,
          98,
          99
         ],
         "xaxis": "x2",
         "y": [
          "",
          -1.4965503661310011,
          "",
          -0.9512745618647245,
          -0.7901047591204126,
          -2.3748771387524057,
          "",
          -0.2561630103713858,
          "",
          "",
          "",
          -1.5823638394167796,
          "",
          "",
          "",
          -0.8562073361731766,
          -1.616308151709274,
          -1.0469635877487409,
          "",
          "",
          "",
          "",
          "",
          -0.6861003982946124,
          "",
          -1.250589794026134,
          "",
          -0.29601695910193837,
          -0.13992214461541524,
          "",
          "",
          "",
          -1.1598090262629224,
          "",
          "",
          "",
          -0.30348036038693804,
          "",
          "",
          -0.5894384637821818,
          "",
          -1.0982840789780894,
          -0.011791447025796917,
          "",
          -1.8441380453261198,
          "",
          "",
          -0.23037907613984038,
          -0.9893226056712208,
          "",
          -0.9067665338492268,
          -0.8053687669031049,
          -1.7329382923843937,
          -1.1364309098959293,
          "",
          "",
          -0.5782490838050705,
          -0.7827913593665595,
          "",
          -1.442071680824974,
          "",
          -2.170165324788872,
          "",
          "",
          "",
          "",
          -0.7347769115695776,
          -3.1119924938183674,
          -0.039701686162387784,
          "",
          "",
          -0.2731748030471749,
          "",
          -1.2550688713389357,
          "",
          "",
          "",
          -1.4226260278958318,
          -2.4457337961730024,
          -1.2054609938537335,
          "",
          "",
          "",
          -0.6585461848411726,
          -0.7319016290496305,
          "",
          "",
          -0.9460122403639979,
          -0.6957907622618977,
          "",
          "",
          "",
          -1.2617341571623302,
          "",
          "",
          -0.9248451561827971,
          "",
          "",
          "",
          ""
         ],
         "yaxis": "y2"
        }
       ],
       "layout": {
        "hovermode": "x",
        "legend": {
         "bgcolor": "#F5F6F9",
         "font": {
          "color": "#4D5663"
         }
        },
        "paper_bgcolor": "#F5F6F9",
        "plot_bgcolor": "#F5F6F9",
        "template": {
         "data": {
          "bar": [
           {
            "error_x": {
             "color": "#2a3f5f"
            },
            "error_y": {
             "color": "#2a3f5f"
            },
            "marker": {
             "line": {
              "color": "#E5ECF6",
              "width": 0.5
             },
             "pattern": {
              "fillmode": "overlay",
              "size": 10,
              "solidity": 0.2
             }
            },
            "type": "bar"
           }
          ],
          "barpolar": [
           {
            "marker": {
             "line": {
              "color": "#E5ECF6",
              "width": 0.5
             },
             "pattern": {
              "fillmode": "overlay",
              "size": 10,
              "solidity": 0.2
             }
            },
            "type": "barpolar"
           }
          ],
          "carpet": [
           {
            "aaxis": {
             "endlinecolor": "#2a3f5f",
             "gridcolor": "white",
             "linecolor": "white",
             "minorgridcolor": "white",
             "startlinecolor": "#2a3f5f"
            },
            "baxis": {
             "endlinecolor": "#2a3f5f",
             "gridcolor": "white",
             "linecolor": "white",
             "minorgridcolor": "white",
             "startlinecolor": "#2a3f5f"
            },
            "type": "carpet"
           }
          ],
          "choropleth": [
           {
            "colorbar": {
             "outlinewidth": 0,
             "ticks": ""
            },
            "type": "choropleth"
           }
          ],
          "contour": [
           {
            "colorbar": {
             "outlinewidth": 0,
             "ticks": ""
            },
            "colorscale": [
             [
              0,
              "#0d0887"
             ],
             [
              0.1111111111111111,
              "#46039f"
             ],
             [
              0.2222222222222222,
              "#7201a8"
             ],
             [
              0.3333333333333333,
              "#9c179e"
             ],
             [
              0.4444444444444444,
              "#bd3786"
             ],
             [
              0.5555555555555556,
              "#d8576b"
             ],
             [
              0.6666666666666666,
              "#ed7953"
             ],
             [
              0.7777777777777778,
              "#fb9f3a"
             ],
             [
              0.8888888888888888,
              "#fdca26"
             ],
             [
              1,
              "#f0f921"
             ]
            ],
            "type": "contour"
           }
          ],
          "contourcarpet": [
           {
            "colorbar": {
             "outlinewidth": 0,
             "ticks": ""
            },
            "type": "contourcarpet"
           }
          ],
          "heatmap": [
           {
            "colorbar": {
             "outlinewidth": 0,
             "ticks": ""
            },
            "colorscale": [
             [
              0,
              "#0d0887"
             ],
             [
              0.1111111111111111,
              "#46039f"
             ],
             [
              0.2222222222222222,
              "#7201a8"
             ],
             [
              0.3333333333333333,
              "#9c179e"
             ],
             [
              0.4444444444444444,
              "#bd3786"
             ],
             [
              0.5555555555555556,
              "#d8576b"
             ],
             [
              0.6666666666666666,
              "#ed7953"
             ],
             [
              0.7777777777777778,
              "#fb9f3a"
             ],
             [
              0.8888888888888888,
              "#fdca26"
             ],
             [
              1,
              "#f0f921"
             ]
            ],
            "type": "heatmap"
           }
          ],
          "heatmapgl": [
           {
            "colorbar": {
             "outlinewidth": 0,
             "ticks": ""
            },
            "colorscale": [
             [
              0,
              "#0d0887"
             ],
             [
              0.1111111111111111,
              "#46039f"
             ],
             [
              0.2222222222222222,
              "#7201a8"
             ],
             [
              0.3333333333333333,
              "#9c179e"
             ],
             [
              0.4444444444444444,
              "#bd3786"
             ],
             [
              0.5555555555555556,
              "#d8576b"
             ],
             [
              0.6666666666666666,
              "#ed7953"
             ],
             [
              0.7777777777777778,
              "#fb9f3a"
             ],
             [
              0.8888888888888888,
              "#fdca26"
             ],
             [
              1,
              "#f0f921"
             ]
            ],
            "type": "heatmapgl"
           }
          ],
          "histogram": [
           {
            "marker": {
             "pattern": {
              "fillmode": "overlay",
              "size": 10,
              "solidity": 0.2
             }
            },
            "type": "histogram"
           }
          ],
          "histogram2d": [
           {
            "colorbar": {
             "outlinewidth": 0,
             "ticks": ""
            },
            "colorscale": [
             [
              0,
              "#0d0887"
             ],
             [
              0.1111111111111111,
              "#46039f"
             ],
             [
              0.2222222222222222,
              "#7201a8"
             ],
             [
              0.3333333333333333,
              "#9c179e"
             ],
             [
              0.4444444444444444,
              "#bd3786"
             ],
             [
              0.5555555555555556,
              "#d8576b"
             ],
             [
              0.6666666666666666,
              "#ed7953"
             ],
             [
              0.7777777777777778,
              "#fb9f3a"
             ],
             [
              0.8888888888888888,
              "#fdca26"
             ],
             [
              1,
              "#f0f921"
             ]
            ],
            "type": "histogram2d"
           }
          ],
          "histogram2dcontour": [
           {
            "colorbar": {
             "outlinewidth": 0,
             "ticks": ""
            },
            "colorscale": [
             [
              0,
              "#0d0887"
             ],
             [
              0.1111111111111111,
              "#46039f"
             ],
             [
              0.2222222222222222,
              "#7201a8"
             ],
             [
              0.3333333333333333,
              "#9c179e"
             ],
             [
              0.4444444444444444,
              "#bd3786"
             ],
             [
              0.5555555555555556,
              "#d8576b"
             ],
             [
              0.6666666666666666,
              "#ed7953"
             ],
             [
              0.7777777777777778,
              "#fb9f3a"
             ],
             [
              0.8888888888888888,
              "#fdca26"
             ],
             [
              1,
              "#f0f921"
             ]
            ],
            "type": "histogram2dcontour"
           }
          ],
          "mesh3d": [
           {
            "colorbar": {
             "outlinewidth": 0,
             "ticks": ""
            },
            "type": "mesh3d"
           }
          ],
          "parcoords": [
           {
            "line": {
             "colorbar": {
              "outlinewidth": 0,
              "ticks": ""
             }
            },
            "type": "parcoords"
           }
          ],
          "pie": [
           {
            "automargin": true,
            "type": "pie"
           }
          ],
          "scatter": [
           {
            "fillpattern": {
             "fillmode": "overlay",
             "size": 10,
             "solidity": 0.2
            },
            "type": "scatter"
           }
          ],
          "scatter3d": [
           {
            "line": {
             "colorbar": {
              "outlinewidth": 0,
              "ticks": ""
             }
            },
            "marker": {
             "colorbar": {
              "outlinewidth": 0,
              "ticks": ""
             }
            },
            "type": "scatter3d"
           }
          ],
          "scattercarpet": [
           {
            "marker": {
             "colorbar": {
              "outlinewidth": 0,
              "ticks": ""
             }
            },
            "type": "scattercarpet"
           }
          ],
          "scattergeo": [
           {
            "marker": {
             "colorbar": {
              "outlinewidth": 0,
              "ticks": ""
             }
            },
            "type": "scattergeo"
           }
          ],
          "scattergl": [
           {
            "marker": {
             "colorbar": {
              "outlinewidth": 0,
              "ticks": ""
             }
            },
            "type": "scattergl"
           }
          ],
          "scattermapbox": [
           {
            "marker": {
             "colorbar": {
              "outlinewidth": 0,
              "ticks": ""
             }
            },
            "type": "scattermapbox"
           }
          ],
          "scatterpolar": [
           {
            "marker": {
             "colorbar": {
              "outlinewidth": 0,
              "ticks": ""
             }
            },
            "type": "scatterpolar"
           }
          ],
          "scatterpolargl": [
           {
            "marker": {
             "colorbar": {
              "outlinewidth": 0,
              "ticks": ""
             }
            },
            "type": "scatterpolargl"
           }
          ],
          "scatterternary": [
           {
            "marker": {
             "colorbar": {
              "outlinewidth": 0,
              "ticks": ""
             }
            },
            "type": "scatterternary"
           }
          ],
          "surface": [
           {
            "colorbar": {
             "outlinewidth": 0,
             "ticks": ""
            },
            "colorscale": [
             [
              0,
              "#0d0887"
             ],
             [
              0.1111111111111111,
              "#46039f"
             ],
             [
              0.2222222222222222,
              "#7201a8"
             ],
             [
              0.3333333333333333,
              "#9c179e"
             ],
             [
              0.4444444444444444,
              "#bd3786"
             ],
             [
              0.5555555555555556,
              "#d8576b"
             ],
             [
              0.6666666666666666,
              "#ed7953"
             ],
             [
              0.7777777777777778,
              "#fb9f3a"
             ],
             [
              0.8888888888888888,
              "#fdca26"
             ],
             [
              1,
              "#f0f921"
             ]
            ],
            "type": "surface"
           }
          ],
          "table": [
           {
            "cells": {
             "fill": {
              "color": "#EBF0F8"
             },
             "line": {
              "color": "white"
             }
            },
            "header": {
             "fill": {
              "color": "#C8D4E3"
             },
             "line": {
              "color": "white"
             }
            },
            "type": "table"
           }
          ]
         },
         "layout": {
          "annotationdefaults": {
           "arrowcolor": "#2a3f5f",
           "arrowhead": 0,
           "arrowwidth": 1
          },
          "autotypenumbers": "strict",
          "coloraxis": {
           "colorbar": {
            "outlinewidth": 0,
            "ticks": ""
           }
          },
          "colorscale": {
           "diverging": [
            [
             0,
             "#8e0152"
            ],
            [
             0.1,
             "#c51b7d"
            ],
            [
             0.2,
             "#de77ae"
            ],
            [
             0.3,
             "#f1b6da"
            ],
            [
             0.4,
             "#fde0ef"
            ],
            [
             0.5,
             "#f7f7f7"
            ],
            [
             0.6,
             "#e6f5d0"
            ],
            [
             0.7,
             "#b8e186"
            ],
            [
             0.8,
             "#7fbc41"
            ],
            [
             0.9,
             "#4d9221"
            ],
            [
             1,
             "#276419"
            ]
           ],
           "sequential": [
            [
             0,
             "#0d0887"
            ],
            [
             0.1111111111111111,
             "#46039f"
            ],
            [
             0.2222222222222222,
             "#7201a8"
            ],
            [
             0.3333333333333333,
             "#9c179e"
            ],
            [
             0.4444444444444444,
             "#bd3786"
            ],
            [
             0.5555555555555556,
             "#d8576b"
            ],
            [
             0.6666666666666666,
             "#ed7953"
            ],
            [
             0.7777777777777778,
             "#fb9f3a"
            ],
            [
             0.8888888888888888,
             "#fdca26"
            ],
            [
             1,
             "#f0f921"
            ]
           ],
           "sequentialminus": [
            [
             0,
             "#0d0887"
            ],
            [
             0.1111111111111111,
             "#46039f"
            ],
            [
             0.2222222222222222,
             "#7201a8"
            ],
            [
             0.3333333333333333,
             "#9c179e"
            ],
            [
             0.4444444444444444,
             "#bd3786"
            ],
            [
             0.5555555555555556,
             "#d8576b"
            ],
            [
             0.6666666666666666,
             "#ed7953"
            ],
            [
             0.7777777777777778,
             "#fb9f3a"
            ],
            [
             0.8888888888888888,
             "#fdca26"
            ],
            [
             1,
             "#f0f921"
            ]
           ]
          },
          "colorway": [
           "#636efa",
           "#EF553B",
           "#00cc96",
           "#ab63fa",
           "#FFA15A",
           "#19d3f3",
           "#FF6692",
           "#B6E880",
           "#FF97FF",
           "#FECB52"
          ],
          "font": {
           "color": "#2a3f5f"
          },
          "geo": {
           "bgcolor": "white",
           "lakecolor": "white",
           "landcolor": "#E5ECF6",
           "showlakes": true,
           "showland": true,
           "subunitcolor": "white"
          },
          "hoverlabel": {
           "align": "left"
          },
          "hovermode": "closest",
          "mapbox": {
           "style": "light"
          },
          "paper_bgcolor": "white",
          "plot_bgcolor": "#E5ECF6",
          "polar": {
           "angularaxis": {
            "gridcolor": "white",
            "linecolor": "white",
            "ticks": ""
           },
           "bgcolor": "#E5ECF6",
           "radialaxis": {
            "gridcolor": "white",
            "linecolor": "white",
            "ticks": ""
           }
          },
          "scene": {
           "xaxis": {
            "backgroundcolor": "#E5ECF6",
            "gridcolor": "white",
            "gridwidth": 2,
            "linecolor": "white",
            "showbackground": true,
            "ticks": "",
            "zerolinecolor": "white"
           },
           "yaxis": {
            "backgroundcolor": "#E5ECF6",
            "gridcolor": "white",
            "gridwidth": 2,
            "linecolor": "white",
            "showbackground": true,
            "ticks": "",
            "zerolinecolor": "white"
           },
           "zaxis": {
            "backgroundcolor": "#E5ECF6",
            "gridcolor": "white",
            "gridwidth": 2,
            "linecolor": "white",
            "showbackground": true,
            "ticks": "",
            "zerolinecolor": "white"
           }
          },
          "shapedefaults": {
           "line": {
            "color": "#2a3f5f"
           }
          },
          "ternary": {
           "aaxis": {
            "gridcolor": "white",
            "linecolor": "white",
            "ticks": ""
           },
           "baxis": {
            "gridcolor": "white",
            "linecolor": "white",
            "ticks": ""
           },
           "bgcolor": "#E5ECF6",
           "caxis": {
            "gridcolor": "white",
            "linecolor": "white",
            "ticks": ""
           }
          },
          "title": {
           "x": 0.05
          },
          "xaxis": {
           "automargin": true,
           "gridcolor": "white",
           "linecolor": "white",
           "ticks": "",
           "title": {
            "standoff": 15
           },
           "zerolinecolor": "white",
           "zerolinewidth": 2
          },
          "yaxis": {
           "automargin": true,
           "gridcolor": "white",
           "linecolor": "white",
           "ticks": "",
           "title": {
            "standoff": 15
           },
           "zerolinecolor": "white",
           "zerolinewidth": 2
          }
         }
        },
        "title": {
         "font": {
          "color": "#4D5663"
         }
        },
        "xaxis": {
         "gridcolor": "#E1E5ED",
         "showgrid": true,
         "tickfont": {
          "color": "#4D5663"
         },
         "title": {
          "font": {
           "color": "#4D5663"
          },
          "text": ""
         },
         "zerolinecolor": "#E1E5ED"
        },
        "xaxis2": {
         "anchor": "y2",
         "gridcolor": "#E1E5ED",
         "showgrid": true,
         "showticklabels": false,
         "tickfont": {
          "color": "#4D5663"
         },
         "title": {
          "font": {
           "color": "#4D5663"
          },
          "text": ""
         },
         "zerolinecolor": "#E1E5ED"
        },
        "yaxis": {
         "domain": [
          0.3,
          1
         ],
         "gridcolor": "#E1E5ED",
         "showgrid": true,
         "tickfont": {
          "color": "#4D5663"
         },
         "title": {
          "font": {
           "color": "#4D5663"
          },
          "text": ""
         },
         "zerolinecolor": "#E1E5ED"
        },
        "yaxis2": {
         "domain": [
          0,
          0.25
         ],
         "gridcolor": "#E1E5ED",
         "showgrid": true,
         "tickfont": {
          "color": "#4D5663"
         },
         "title": {
          "font": {
           "color": "#4D5663"
          },
          "text": "Spread"
         },
         "zerolinecolor": "#E1E5ED"
        }
       }
      },
      "text/html": [
       "<div>                            <div id=\"96c39507-5196-4181-b71c-24f2b7605623\" class=\"plotly-graph-div\" style=\"height:525px; width:100%;\"></div>            <script type=\"text/javascript\">                require([\"plotly\"], function(Plotly) {                    window.PLOTLYENV=window.PLOTLYENV || {};\n",
       "                    window.PLOTLYENV.BASE_URL='https://plot.ly';                                    if (document.getElementById(\"96c39507-5196-4181-b71c-24f2b7605623\")) {                    Plotly.newPlot(                        \"96c39507-5196-4181-b71c-24f2b7605623\",                        [{\"line\":{\"color\":\"rgba(255, 153, 51, 1.0)\",\"dash\":\"solid\",\"shape\":\"linear\",\"width\":1.3},\"mode\":\"lines\",\"name\":\"A\",\"text\":\"\",\"x\":[0,1,2,3,4,5,6,7,8,9,10,11,12,13,14,15,16,17,18,19,20,21,22,23,24,25,26,27,28,29,30,31,32,33,34,35,36,37,38,39,40,41,42,43,44,45,46,47,48,49,50,51,52,53,54,55,56,57,58,59,60,61,62,63,64,65,66,67,68,69,70,71,72,73,74,75,76,77,78,79,80,81,82,83,84,85,86,87,88,89,90,91,92,93,94,95,96,97,98,99],\"y\":[0.778457933302214,-0.9680449357550578,0.39359084183301096,-1.2394985928585338,-0.2164835093388013,-0.1356228708503378,-1.2521746730325765,-1.0835243246963888,0.6250752248509963,0.7718451818596955,0.4318676271026053,-0.8686984687467546,0.18229522144610463,-0.17752709417956644,-0.7853823575966619,-0.06893337907779387,-0.9466983840211649,-0.9221095109610769,1.5774648689521218,0.3930242065630447,0.8277738191842602,-0.8241508298553344,0.07495661144670138,-0.3590170031546842,1.2734557212058224,-1.504383022229239,-0.12596790196229846,0.6123225576918307,0.3426474625945798,0.846089362700548,1.3523055165355302,0.284811559971216,-1.6013083992544557,1.6679084568187605,1.5145816453277892,-0.0046250819630932315,-0.07829149222527237,0.9916207650528954,1.1145048640682926,-1.089729192815636,0.17314040189558932,-0.033796344362975864,0.07562690561269443,1.892594834465393,-1.8348706724093262,1.2584334190829263,0.17218282514485775,0.34213290139111757,-0.7402663222325283,-0.588544402128247,-0.27975100910657263,-0.36609359684194237,-0.8452472534162175,-0.4468861894570877,0.6034241098470298,3.1023651388360145,0.214644091222445,-0.8612338237196326,0.13263420361251016,-0.9710094581449149,0.7227469378577297,-0.7822128929376538,-0.22143889112664097,0.14416334626005273,-0.8833756073627672,1.2612268675473937,0.7928279434498183,-1.0251422302062176,-0.4536854547609093,-0.45958745335640483,0.5182900495849041,0.850977459520938,0.04421513310499319,-1.1175849668722495,-0.8030693507661488,1.92519394398426,0.7217912827510005,-0.3116468245019817,-1.750355552577647,-0.6873302147493952,1.5993325144520412,1.2093688325747638,0.7382608277486163,-0.01307177710019666,0.4249358964426604,1.8114662802257053,-0.23812364488121177,-0.04821109509459664,-0.47886446654041864,-0.4038921916964521,0.5091420384625585,0.4801272970933442,-0.48912145451354583,-1.147042924817787,-0.01032179386658933,0.1321566262110016,-0.384385463475132,1.2891000679608127,0.9391036286315693,1.0197304435884655],\"type\":\"scatter\"},{\"line\":{\"color\":\"rgba(55, 128, 191, 1.0)\",\"dash\":\"solid\",\"shape\":\"linear\",\"width\":1.3},\"mode\":\"lines\",\"name\":\"B\",\"text\":\"\",\"x\":[0,1,2,3,4,5,6,7,8,9,10,11,12,13,14,15,16,17,18,19,20,21,22,23,24,25,26,27,28,29,30,31,32,33,34,35,36,37,38,39,40,41,42,43,44,45,46,47,48,49,50,51,52,53,54,55,56,57,58,59,60,61,62,63,64,65,66,67,68,69,70,71,72,73,74,75,76,77,78,79,80,81,82,83,84,85,86,87,88,89,90,91,92,93,94,95,96,97,98,99],\"y\":[-0.12418495906275873,0.5285054303759434,-0.6483376777606301,-0.2882240309938093,0.5736212497816112,2.239254267902068,-3.7132010957566717,-0.827361314325003,-0.07056871306249225,0.4485007765695378,-1.1425087248215398,0.713665370670025,-0.12237518106470253,-1.5779230985738613,-1.6518453654137415,0.7872739570953827,0.6696097676881092,0.12485407678766407,-0.2592731741227891,-0.6034697000193865,-0.1634147137662408,-0.9185909367956211,-1.5225614971140846,0.32708339513992823,-0.7881580126865311,-0.253793228203105,-0.20667844715897066,0.9083395167937691,0.48256960720999503,-0.9609842265734008,-0.9045949603882426,-0.8259097380548978,-0.4414993729915333,-0.2965042673868797,-1.8110254612575696,-0.6947125921837172,0.22518886816166567,0.9620639813793939,-1.4689365913873842,-0.5002907290334543,0.15554850993818742,1.0644877346151136,0.08741835263849135,-1.2266050665518022,0.009267372916793585,0.9365478847521909,-0.06849812894451411,0.572511977530958,0.2490562834386925,-0.7544740172893082,0.6270155247426541,0.4392751700611625,0.8876910389681761,0.6895447204388416,-0.08376221605853913,0.7519574530059915,0.7928931750275154,-0.07844246435307307,-0.6610778230711215,0.4710622226800591,-3.102751806348052,1.3879524318512182,-1.9793711097598718,0.08488617246516036,-1.6306338131169662,0.31209134076027195,1.527604855019396,2.0868502636121495,-0.41398376859852154,-0.5958562882694559,0.1407586248600635,1.1241522625681128,-0.7699943106290851,0.13748390446668632,-1.0344313621767662,1.589065501698242,-1.483419352532759,1.1109792033938501,0.6953782435953554,0.5181307791043384,1.3792400569088539,-0.19834484065509467,-1.6984989450444554,0.6454744077409759,1.156837525492291,-1.3392031859801345,-1.0476297371919077,0.8978011452694012,0.21692629572147912,-0.4597509119081817,0.19481940643523454,-0.08341557197324237,0.7726127026487843,-1.6792646825069584,-0.6350127596847416,1.0570017823937987,-1.0115000812255166,-1.5882588060836178,-1.8493217471273957,-1.1361901014810987],\"type\":\"scatter\"},{\"connectgaps\":false,\"fill\":\"tozeroy\",\"line\":{\"color\":\"green\",\"dash\":\"solid\",\"shape\":\"linear\",\"width\":0.5},\"mode\":\"lines\",\"name\":\"Spread\",\"showlegend\":false,\"x\":[0,1,2,3,4,5,6,7,8,9,10,11,12,13,14,15,16,17,18,19,20,21,22,23,24,25,26,27,28,29,30,31,32,33,34,35,36,37,38,39,40,41,42,43,44,45,46,47,48,49,50,51,52,53,54,55,56,57,58,59,60,61,62,63,64,65,66,67,68,69,70,71,72,73,74,75,76,77,78,79,80,81,82,83,84,85,86,87,88,89,90,91,92,93,94,95,96,97,98,99],\"xaxis\":\"x2\",\"y\":[0.9026428923649727,\"\",1.041928519593641,\"\",\"\",\"\",2.461026422724095,\"\",0.6956439379134886,0.32334440529015773,1.574376351924145,\"\",0.3046704025108072,1.400396004394295,0.8664630078170796,\"\",\"\",\"\",1.836738043074911,0.9964939065824312,0.991188532950501,0.0944401069402867,1.597518108560786,\"\",2.0616137338923535,\"\",0.0807105451966722,\"\",\"\",1.8070735892739487,2.256900476923773,1.1107212980261139,\"\",1.9644127242056402,3.325607106585359,0.690087510220624,\"\",0.029556783673501563,2.583441455455677,\"\",0.017591891957401906,\"\",\"\",3.119199901017195,\"\",0.3218855343307354,0.24068095408937185,\"\",\"\",0.1659296151610612,\"\",\"\",\"\",\"\",0.6871863259055689,2.350407685830023,\"\",\"\",0.7937120266836317,\"\",3.8254987442057815,\"\",1.757932218633231,0.05927717379489236,0.747258205754199,0.9491355267871218,\"\",\"\",\"\",0.13626883491305108,0.3775314247248406,\"\",0.8142094437340782,\"\",0.2313620114106174,0.336128442286018,2.2052106352837595,\"\",\"\",\"\",0.2200924575431873,1.4077136732298585,2.4367597727930717,\"\",\"\",3.15066946620584,0.8095060923106959,\"\",\"\",0.05585872021172961,0.3143226320273239,0.5635428690665866,\"\",0.5322217576891715,0.6246909658181522,\"\",0.6271146177503846,2.8773588740444307,2.788425375758965,2.155920545069564],\"yaxis\":\"y2\",\"type\":\"scatter\"},{\"connectgaps\":false,\"fill\":\"tozeroy\",\"line\":{\"color\":\"red\",\"dash\":\"solid\",\"shape\":\"linear\",\"width\":0.5},\"mode\":\"lines\",\"name\":\"Spread\",\"showlegend\":false,\"x\":[0,1,2,3,4,5,6,7,8,9,10,11,12,13,14,15,16,17,18,19,20,21,22,23,24,25,26,27,28,29,30,31,32,33,34,35,36,37,38,39,40,41,42,43,44,45,46,47,48,49,50,51,52,53,54,55,56,57,58,59,60,61,62,63,64,65,66,67,68,69,70,71,72,73,74,75,76,77,78,79,80,81,82,83,84,85,86,87,88,89,90,91,92,93,94,95,96,97,98,99],\"xaxis\":\"x2\",\"y\":[\"\",-1.4965503661310011,\"\",-0.9512745618647245,-0.7901047591204126,-2.3748771387524057,\"\",-0.2561630103713858,\"\",\"\",\"\",-1.5823638394167796,\"\",\"\",\"\",-0.8562073361731766,-1.616308151709274,-1.0469635877487409,\"\",\"\",\"\",\"\",\"\",-0.6861003982946124,\"\",-1.250589794026134,\"\",-0.29601695910193837,-0.13992214461541524,\"\",\"\",\"\",-1.1598090262629224,\"\",\"\",\"\",-0.30348036038693804,\"\",\"\",-0.5894384637821818,\"\",-1.0982840789780894,-0.011791447025796917,\"\",-1.8441380453261198,\"\",\"\",-0.23037907613984038,-0.9893226056712208,\"\",-0.9067665338492268,-0.8053687669031049,-1.7329382923843937,-1.1364309098959293,\"\",\"\",-0.5782490838050705,-0.7827913593665595,\"\",-1.442071680824974,\"\",-2.170165324788872,\"\",\"\",\"\",\"\",-0.7347769115695776,-3.1119924938183674,-0.039701686162387784,\"\",\"\",-0.2731748030471749,\"\",-1.2550688713389357,\"\",\"\",\"\",-1.4226260278958318,-2.4457337961730024,-1.2054609938537335,\"\",\"\",\"\",-0.6585461848411726,-0.7319016290496305,\"\",\"\",-0.9460122403639979,-0.6957907622618977,\"\",\"\",\"\",-1.2617341571623302,\"\",\"\",-0.9248451561827971,\"\",\"\",\"\",\"\"],\"yaxis\":\"y2\",\"type\":\"scatter\"}],                        {\"hovermode\":\"x\",\"legend\":{\"bgcolor\":\"#F5F6F9\",\"font\":{\"color\":\"#4D5663\"}},\"paper_bgcolor\":\"#F5F6F9\",\"plot_bgcolor\":\"#F5F6F9\",\"template\":{\"data\":{\"barpolar\":[{\"marker\":{\"line\":{\"color\":\"#E5ECF6\",\"width\":0.5},\"pattern\":{\"fillmode\":\"overlay\",\"size\":10,\"solidity\":0.2}},\"type\":\"barpolar\"}],\"bar\":[{\"error_x\":{\"color\":\"#2a3f5f\"},\"error_y\":{\"color\":\"#2a3f5f\"},\"marker\":{\"line\":{\"color\":\"#E5ECF6\",\"width\":0.5},\"pattern\":{\"fillmode\":\"overlay\",\"size\":10,\"solidity\":0.2}},\"type\":\"bar\"}],\"carpet\":[{\"aaxis\":{\"endlinecolor\":\"#2a3f5f\",\"gridcolor\":\"white\",\"linecolor\":\"white\",\"minorgridcolor\":\"white\",\"startlinecolor\":\"#2a3f5f\"},\"baxis\":{\"endlinecolor\":\"#2a3f5f\",\"gridcolor\":\"white\",\"linecolor\":\"white\",\"minorgridcolor\":\"white\",\"startlinecolor\":\"#2a3f5f\"},\"type\":\"carpet\"}],\"choropleth\":[{\"colorbar\":{\"outlinewidth\":0,\"ticks\":\"\"},\"type\":\"choropleth\"}],\"contourcarpet\":[{\"colorbar\":{\"outlinewidth\":0,\"ticks\":\"\"},\"type\":\"contourcarpet\"}],\"contour\":[{\"colorbar\":{\"outlinewidth\":0,\"ticks\":\"\"},\"colorscale\":[[0.0,\"#0d0887\"],[0.1111111111111111,\"#46039f\"],[0.2222222222222222,\"#7201a8\"],[0.3333333333333333,\"#9c179e\"],[0.4444444444444444,\"#bd3786\"],[0.5555555555555556,\"#d8576b\"],[0.6666666666666666,\"#ed7953\"],[0.7777777777777778,\"#fb9f3a\"],[0.8888888888888888,\"#fdca26\"],[1.0,\"#f0f921\"]],\"type\":\"contour\"}],\"heatmapgl\":[{\"colorbar\":{\"outlinewidth\":0,\"ticks\":\"\"},\"colorscale\":[[0.0,\"#0d0887\"],[0.1111111111111111,\"#46039f\"],[0.2222222222222222,\"#7201a8\"],[0.3333333333333333,\"#9c179e\"],[0.4444444444444444,\"#bd3786\"],[0.5555555555555556,\"#d8576b\"],[0.6666666666666666,\"#ed7953\"],[0.7777777777777778,\"#fb9f3a\"],[0.8888888888888888,\"#fdca26\"],[1.0,\"#f0f921\"]],\"type\":\"heatmapgl\"}],\"heatmap\":[{\"colorbar\":{\"outlinewidth\":0,\"ticks\":\"\"},\"colorscale\":[[0.0,\"#0d0887\"],[0.1111111111111111,\"#46039f\"],[0.2222222222222222,\"#7201a8\"],[0.3333333333333333,\"#9c179e\"],[0.4444444444444444,\"#bd3786\"],[0.5555555555555556,\"#d8576b\"],[0.6666666666666666,\"#ed7953\"],[0.7777777777777778,\"#fb9f3a\"],[0.8888888888888888,\"#fdca26\"],[1.0,\"#f0f921\"]],\"type\":\"heatmap\"}],\"histogram2dcontour\":[{\"colorbar\":{\"outlinewidth\":0,\"ticks\":\"\"},\"colorscale\":[[0.0,\"#0d0887\"],[0.1111111111111111,\"#46039f\"],[0.2222222222222222,\"#7201a8\"],[0.3333333333333333,\"#9c179e\"],[0.4444444444444444,\"#bd3786\"],[0.5555555555555556,\"#d8576b\"],[0.6666666666666666,\"#ed7953\"],[0.7777777777777778,\"#fb9f3a\"],[0.8888888888888888,\"#fdca26\"],[1.0,\"#f0f921\"]],\"type\":\"histogram2dcontour\"}],\"histogram2d\":[{\"colorbar\":{\"outlinewidth\":0,\"ticks\":\"\"},\"colorscale\":[[0.0,\"#0d0887\"],[0.1111111111111111,\"#46039f\"],[0.2222222222222222,\"#7201a8\"],[0.3333333333333333,\"#9c179e\"],[0.4444444444444444,\"#bd3786\"],[0.5555555555555556,\"#d8576b\"],[0.6666666666666666,\"#ed7953\"],[0.7777777777777778,\"#fb9f3a\"],[0.8888888888888888,\"#fdca26\"],[1.0,\"#f0f921\"]],\"type\":\"histogram2d\"}],\"histogram\":[{\"marker\":{\"pattern\":{\"fillmode\":\"overlay\",\"size\":10,\"solidity\":0.2}},\"type\":\"histogram\"}],\"mesh3d\":[{\"colorbar\":{\"outlinewidth\":0,\"ticks\":\"\"},\"type\":\"mesh3d\"}],\"parcoords\":[{\"line\":{\"colorbar\":{\"outlinewidth\":0,\"ticks\":\"\"}},\"type\":\"parcoords\"}],\"pie\":[{\"automargin\":true,\"type\":\"pie\"}],\"scatter3d\":[{\"line\":{\"colorbar\":{\"outlinewidth\":0,\"ticks\":\"\"}},\"marker\":{\"colorbar\":{\"outlinewidth\":0,\"ticks\":\"\"}},\"type\":\"scatter3d\"}],\"scattercarpet\":[{\"marker\":{\"colorbar\":{\"outlinewidth\":0,\"ticks\":\"\"}},\"type\":\"scattercarpet\"}],\"scattergeo\":[{\"marker\":{\"colorbar\":{\"outlinewidth\":0,\"ticks\":\"\"}},\"type\":\"scattergeo\"}],\"scattergl\":[{\"marker\":{\"colorbar\":{\"outlinewidth\":0,\"ticks\":\"\"}},\"type\":\"scattergl\"}],\"scattermapbox\":[{\"marker\":{\"colorbar\":{\"outlinewidth\":0,\"ticks\":\"\"}},\"type\":\"scattermapbox\"}],\"scatterpolargl\":[{\"marker\":{\"colorbar\":{\"outlinewidth\":0,\"ticks\":\"\"}},\"type\":\"scatterpolargl\"}],\"scatterpolar\":[{\"marker\":{\"colorbar\":{\"outlinewidth\":0,\"ticks\":\"\"}},\"type\":\"scatterpolar\"}],\"scatter\":[{\"fillpattern\":{\"fillmode\":\"overlay\",\"size\":10,\"solidity\":0.2},\"type\":\"scatter\"}],\"scatterternary\":[{\"marker\":{\"colorbar\":{\"outlinewidth\":0,\"ticks\":\"\"}},\"type\":\"scatterternary\"}],\"surface\":[{\"colorbar\":{\"outlinewidth\":0,\"ticks\":\"\"},\"colorscale\":[[0.0,\"#0d0887\"],[0.1111111111111111,\"#46039f\"],[0.2222222222222222,\"#7201a8\"],[0.3333333333333333,\"#9c179e\"],[0.4444444444444444,\"#bd3786\"],[0.5555555555555556,\"#d8576b\"],[0.6666666666666666,\"#ed7953\"],[0.7777777777777778,\"#fb9f3a\"],[0.8888888888888888,\"#fdca26\"],[1.0,\"#f0f921\"]],\"type\":\"surface\"}],\"table\":[{\"cells\":{\"fill\":{\"color\":\"#EBF0F8\"},\"line\":{\"color\":\"white\"}},\"header\":{\"fill\":{\"color\":\"#C8D4E3\"},\"line\":{\"color\":\"white\"}},\"type\":\"table\"}]},\"layout\":{\"annotationdefaults\":{\"arrowcolor\":\"#2a3f5f\",\"arrowhead\":0,\"arrowwidth\":1},\"autotypenumbers\":\"strict\",\"coloraxis\":{\"colorbar\":{\"outlinewidth\":0,\"ticks\":\"\"}},\"colorscale\":{\"diverging\":[[0,\"#8e0152\"],[0.1,\"#c51b7d\"],[0.2,\"#de77ae\"],[0.3,\"#f1b6da\"],[0.4,\"#fde0ef\"],[0.5,\"#f7f7f7\"],[0.6,\"#e6f5d0\"],[0.7,\"#b8e186\"],[0.8,\"#7fbc41\"],[0.9,\"#4d9221\"],[1,\"#276419\"]],\"sequential\":[[0.0,\"#0d0887\"],[0.1111111111111111,\"#46039f\"],[0.2222222222222222,\"#7201a8\"],[0.3333333333333333,\"#9c179e\"],[0.4444444444444444,\"#bd3786\"],[0.5555555555555556,\"#d8576b\"],[0.6666666666666666,\"#ed7953\"],[0.7777777777777778,\"#fb9f3a\"],[0.8888888888888888,\"#fdca26\"],[1.0,\"#f0f921\"]],\"sequentialminus\":[[0.0,\"#0d0887\"],[0.1111111111111111,\"#46039f\"],[0.2222222222222222,\"#7201a8\"],[0.3333333333333333,\"#9c179e\"],[0.4444444444444444,\"#bd3786\"],[0.5555555555555556,\"#d8576b\"],[0.6666666666666666,\"#ed7953\"],[0.7777777777777778,\"#fb9f3a\"],[0.8888888888888888,\"#fdca26\"],[1.0,\"#f0f921\"]]},\"colorway\":[\"#636efa\",\"#EF553B\",\"#00cc96\",\"#ab63fa\",\"#FFA15A\",\"#19d3f3\",\"#FF6692\",\"#B6E880\",\"#FF97FF\",\"#FECB52\"],\"font\":{\"color\":\"#2a3f5f\"},\"geo\":{\"bgcolor\":\"white\",\"lakecolor\":\"white\",\"landcolor\":\"#E5ECF6\",\"showlakes\":true,\"showland\":true,\"subunitcolor\":\"white\"},\"hoverlabel\":{\"align\":\"left\"},\"hovermode\":\"closest\",\"mapbox\":{\"style\":\"light\"},\"paper_bgcolor\":\"white\",\"plot_bgcolor\":\"#E5ECF6\",\"polar\":{\"angularaxis\":{\"gridcolor\":\"white\",\"linecolor\":\"white\",\"ticks\":\"\"},\"bgcolor\":\"#E5ECF6\",\"radialaxis\":{\"gridcolor\":\"white\",\"linecolor\":\"white\",\"ticks\":\"\"}},\"scene\":{\"xaxis\":{\"backgroundcolor\":\"#E5ECF6\",\"gridcolor\":\"white\",\"gridwidth\":2,\"linecolor\":\"white\",\"showbackground\":true,\"ticks\":\"\",\"zerolinecolor\":\"white\"},\"yaxis\":{\"backgroundcolor\":\"#E5ECF6\",\"gridcolor\":\"white\",\"gridwidth\":2,\"linecolor\":\"white\",\"showbackground\":true,\"ticks\":\"\",\"zerolinecolor\":\"white\"},\"zaxis\":{\"backgroundcolor\":\"#E5ECF6\",\"gridcolor\":\"white\",\"gridwidth\":2,\"linecolor\":\"white\",\"showbackground\":true,\"ticks\":\"\",\"zerolinecolor\":\"white\"}},\"shapedefaults\":{\"line\":{\"color\":\"#2a3f5f\"}},\"ternary\":{\"aaxis\":{\"gridcolor\":\"white\",\"linecolor\":\"white\",\"ticks\":\"\"},\"baxis\":{\"gridcolor\":\"white\",\"linecolor\":\"white\",\"ticks\":\"\"},\"bgcolor\":\"#E5ECF6\",\"caxis\":{\"gridcolor\":\"white\",\"linecolor\":\"white\",\"ticks\":\"\"}},\"title\":{\"x\":0.05},\"xaxis\":{\"automargin\":true,\"gridcolor\":\"white\",\"linecolor\":\"white\",\"ticks\":\"\",\"title\":{\"standoff\":15},\"zerolinecolor\":\"white\",\"zerolinewidth\":2},\"yaxis\":{\"automargin\":true,\"gridcolor\":\"white\",\"linecolor\":\"white\",\"ticks\":\"\",\"title\":{\"standoff\":15},\"zerolinecolor\":\"white\",\"zerolinewidth\":2}}},\"title\":{\"font\":{\"color\":\"#4D5663\"}},\"xaxis\":{\"gridcolor\":\"#E1E5ED\",\"showgrid\":true,\"tickfont\":{\"color\":\"#4D5663\"},\"title\":{\"font\":{\"color\":\"#4D5663\"},\"text\":\"\"},\"zerolinecolor\":\"#E1E5ED\"},\"yaxis\":{\"domain\":[0.3,1],\"gridcolor\":\"#E1E5ED\",\"showgrid\":true,\"tickfont\":{\"color\":\"#4D5663\"},\"title\":{\"font\":{\"color\":\"#4D5663\"},\"text\":\"\"},\"zerolinecolor\":\"#E1E5ED\"},\"yaxis2\":{\"domain\":[0,0.25],\"gridcolor\":\"#E1E5ED\",\"showgrid\":true,\"tickfont\":{\"color\":\"#4D5663\"},\"title\":{\"font\":{\"color\":\"#4D5663\"},\"text\":\"Spread\"},\"zerolinecolor\":\"#E1E5ED\"},\"xaxis2\":{\"anchor\":\"y2\",\"gridcolor\":\"#E1E5ED\",\"showgrid\":true,\"showticklabels\":false,\"tickfont\":{\"color\":\"#4D5663\"},\"title\":{\"font\":{\"color\":\"#4D5663\"},\"text\":\"\"},\"zerolinecolor\":\"#E1E5ED\"}},                        {\"showLink\": true, \"linkText\": \"Export to plot.ly\", \"plotlyServerURL\": \"https://plot.ly\", \"responsive\": true}                    ).then(function(){\n",
       "                            \n",
       "var gd = document.getElementById('96c39507-5196-4181-b71c-24f2b7605623');\n",
       "var x = new MutationObserver(function (mutations, observer) {{\n",
       "        var display = window.getComputedStyle(gd).display;\n",
       "        if (!display || display === 'none') {{\n",
       "            console.log([gd, 'removed!']);\n",
       "            Plotly.purge(gd);\n",
       "            observer.disconnect();\n",
       "        }}\n",
       "}});\n",
       "\n",
       "// Listen for the removal of the full notebook cells\n",
       "var notebookContainer = gd.closest('#notebook-container');\n",
       "if (notebookContainer) {{\n",
       "    x.observe(notebookContainer, {childList: true});\n",
       "}}\n",
       "\n",
       "// Listen for the clearing of the current output cell\n",
       "var outputEl = gd.closest('.output');\n",
       "if (outputEl) {{\n",
       "    x.observe(outputEl, {childList: true});\n",
       "}}\n",
       "\n",
       "                        })                };                });            </script>        </div>"
      ]
     },
     "metadata": {},
     "output_type": "display_data"
    }
   ],
   "source": [
    "df[['A', 'B']].iplot(kind='spread')"
   ]
  },
  {
   "cell_type": "markdown",
   "id": "4e5ae420",
   "metadata": {},
   "source": [
    "### Histogram"
   ]
  },
  {
   "cell_type": "code",
   "execution_count": 26,
   "id": "614237e3",
   "metadata": {},
   "outputs": [
    {
     "data": {
      "application/vnd.plotly.v1+json": {
       "config": {
        "linkText": "Export to plot.ly",
        "plotlyServerURL": "https://plot.ly",
        "showLink": true
       },
       "data": [
        {
         "histfunc": "count",
         "histnorm": "",
         "marker": {
          "color": "rgba(255, 153, 51, 1.0)",
          "line": {
           "color": "#4D5663",
           "width": 1.3
          }
         },
         "name": "A",
         "opacity": 0.8,
         "orientation": "v",
         "type": "histogram",
         "x": [
          0.778457933302214,
          -0.9680449357550578,
          0.39359084183301096,
          -1.2394985928585338,
          -0.2164835093388013,
          -0.1356228708503378,
          -1.2521746730325765,
          -1.0835243246963888,
          0.6250752248509963,
          0.7718451818596955,
          0.4318676271026053,
          -0.8686984687467546,
          0.18229522144610463,
          -0.17752709417956644,
          -0.7853823575966619,
          -0.06893337907779387,
          -0.9466983840211649,
          -0.9221095109610769,
          1.5774648689521218,
          0.3930242065630447,
          0.8277738191842602,
          -0.8241508298553344,
          0.07495661144670138,
          -0.3590170031546842,
          1.2734557212058224,
          -1.504383022229239,
          -0.12596790196229846,
          0.6123225576918307,
          0.3426474625945798,
          0.846089362700548,
          1.3523055165355302,
          0.284811559971216,
          -1.6013083992544557,
          1.6679084568187605,
          1.5145816453277892,
          -0.0046250819630932315,
          -0.07829149222527237,
          0.9916207650528954,
          1.1145048640682926,
          -1.089729192815636,
          0.17314040189558932,
          -0.033796344362975864,
          0.07562690561269443,
          1.892594834465393,
          -1.8348706724093262,
          1.2584334190829263,
          0.17218282514485775,
          0.34213290139111757,
          -0.7402663222325283,
          -0.588544402128247,
          -0.27975100910657263,
          -0.36609359684194237,
          -0.8452472534162175,
          -0.4468861894570877,
          0.6034241098470298,
          3.1023651388360145,
          0.214644091222445,
          -0.8612338237196326,
          0.13263420361251016,
          -0.9710094581449149,
          0.7227469378577297,
          -0.7822128929376538,
          -0.22143889112664097,
          0.14416334626005273,
          -0.8833756073627672,
          1.2612268675473937,
          0.7928279434498183,
          -1.0251422302062176,
          -0.4536854547609093,
          -0.45958745335640483,
          0.5182900495849041,
          0.850977459520938,
          0.04421513310499319,
          -1.1175849668722495,
          -0.8030693507661488,
          1.92519394398426,
          0.7217912827510005,
          -0.3116468245019817,
          -1.750355552577647,
          -0.6873302147493952,
          1.5993325144520412,
          1.2093688325747638,
          0.7382608277486163,
          -0.01307177710019666,
          0.4249358964426604,
          1.8114662802257053,
          -0.23812364488121177,
          -0.04821109509459664,
          -0.47886446654041864,
          -0.4038921916964521,
          0.5091420384625585,
          0.4801272970933442,
          -0.48912145451354583,
          -1.147042924817787,
          -0.01032179386658933,
          0.1321566262110016,
          -0.384385463475132,
          1.2891000679608127,
          0.9391036286315693,
          1.0197304435884655
         ]
        }
       ],
       "layout": {
        "barmode": "overlay",
        "legend": {
         "bgcolor": "#F5F6F9",
         "font": {
          "color": "#4D5663"
         }
        },
        "paper_bgcolor": "#F5F6F9",
        "plot_bgcolor": "#F5F6F9",
        "template": {
         "data": {
          "bar": [
           {
            "error_x": {
             "color": "#2a3f5f"
            },
            "error_y": {
             "color": "#2a3f5f"
            },
            "marker": {
             "line": {
              "color": "#E5ECF6",
              "width": 0.5
             },
             "pattern": {
              "fillmode": "overlay",
              "size": 10,
              "solidity": 0.2
             }
            },
            "type": "bar"
           }
          ],
          "barpolar": [
           {
            "marker": {
             "line": {
              "color": "#E5ECF6",
              "width": 0.5
             },
             "pattern": {
              "fillmode": "overlay",
              "size": 10,
              "solidity": 0.2
             }
            },
            "type": "barpolar"
           }
          ],
          "carpet": [
           {
            "aaxis": {
             "endlinecolor": "#2a3f5f",
             "gridcolor": "white",
             "linecolor": "white",
             "minorgridcolor": "white",
             "startlinecolor": "#2a3f5f"
            },
            "baxis": {
             "endlinecolor": "#2a3f5f",
             "gridcolor": "white",
             "linecolor": "white",
             "minorgridcolor": "white",
             "startlinecolor": "#2a3f5f"
            },
            "type": "carpet"
           }
          ],
          "choropleth": [
           {
            "colorbar": {
             "outlinewidth": 0,
             "ticks": ""
            },
            "type": "choropleth"
           }
          ],
          "contour": [
           {
            "colorbar": {
             "outlinewidth": 0,
             "ticks": ""
            },
            "colorscale": [
             [
              0,
              "#0d0887"
             ],
             [
              0.1111111111111111,
              "#46039f"
             ],
             [
              0.2222222222222222,
              "#7201a8"
             ],
             [
              0.3333333333333333,
              "#9c179e"
             ],
             [
              0.4444444444444444,
              "#bd3786"
             ],
             [
              0.5555555555555556,
              "#d8576b"
             ],
             [
              0.6666666666666666,
              "#ed7953"
             ],
             [
              0.7777777777777778,
              "#fb9f3a"
             ],
             [
              0.8888888888888888,
              "#fdca26"
             ],
             [
              1,
              "#f0f921"
             ]
            ],
            "type": "contour"
           }
          ],
          "contourcarpet": [
           {
            "colorbar": {
             "outlinewidth": 0,
             "ticks": ""
            },
            "type": "contourcarpet"
           }
          ],
          "heatmap": [
           {
            "colorbar": {
             "outlinewidth": 0,
             "ticks": ""
            },
            "colorscale": [
             [
              0,
              "#0d0887"
             ],
             [
              0.1111111111111111,
              "#46039f"
             ],
             [
              0.2222222222222222,
              "#7201a8"
             ],
             [
              0.3333333333333333,
              "#9c179e"
             ],
             [
              0.4444444444444444,
              "#bd3786"
             ],
             [
              0.5555555555555556,
              "#d8576b"
             ],
             [
              0.6666666666666666,
              "#ed7953"
             ],
             [
              0.7777777777777778,
              "#fb9f3a"
             ],
             [
              0.8888888888888888,
              "#fdca26"
             ],
             [
              1,
              "#f0f921"
             ]
            ],
            "type": "heatmap"
           }
          ],
          "heatmapgl": [
           {
            "colorbar": {
             "outlinewidth": 0,
             "ticks": ""
            },
            "colorscale": [
             [
              0,
              "#0d0887"
             ],
             [
              0.1111111111111111,
              "#46039f"
             ],
             [
              0.2222222222222222,
              "#7201a8"
             ],
             [
              0.3333333333333333,
              "#9c179e"
             ],
             [
              0.4444444444444444,
              "#bd3786"
             ],
             [
              0.5555555555555556,
              "#d8576b"
             ],
             [
              0.6666666666666666,
              "#ed7953"
             ],
             [
              0.7777777777777778,
              "#fb9f3a"
             ],
             [
              0.8888888888888888,
              "#fdca26"
             ],
             [
              1,
              "#f0f921"
             ]
            ],
            "type": "heatmapgl"
           }
          ],
          "histogram": [
           {
            "marker": {
             "pattern": {
              "fillmode": "overlay",
              "size": 10,
              "solidity": 0.2
             }
            },
            "type": "histogram"
           }
          ],
          "histogram2d": [
           {
            "colorbar": {
             "outlinewidth": 0,
             "ticks": ""
            },
            "colorscale": [
             [
              0,
              "#0d0887"
             ],
             [
              0.1111111111111111,
              "#46039f"
             ],
             [
              0.2222222222222222,
              "#7201a8"
             ],
             [
              0.3333333333333333,
              "#9c179e"
             ],
             [
              0.4444444444444444,
              "#bd3786"
             ],
             [
              0.5555555555555556,
              "#d8576b"
             ],
             [
              0.6666666666666666,
              "#ed7953"
             ],
             [
              0.7777777777777778,
              "#fb9f3a"
             ],
             [
              0.8888888888888888,
              "#fdca26"
             ],
             [
              1,
              "#f0f921"
             ]
            ],
            "type": "histogram2d"
           }
          ],
          "histogram2dcontour": [
           {
            "colorbar": {
             "outlinewidth": 0,
             "ticks": ""
            },
            "colorscale": [
             [
              0,
              "#0d0887"
             ],
             [
              0.1111111111111111,
              "#46039f"
             ],
             [
              0.2222222222222222,
              "#7201a8"
             ],
             [
              0.3333333333333333,
              "#9c179e"
             ],
             [
              0.4444444444444444,
              "#bd3786"
             ],
             [
              0.5555555555555556,
              "#d8576b"
             ],
             [
              0.6666666666666666,
              "#ed7953"
             ],
             [
              0.7777777777777778,
              "#fb9f3a"
             ],
             [
              0.8888888888888888,
              "#fdca26"
             ],
             [
              1,
              "#f0f921"
             ]
            ],
            "type": "histogram2dcontour"
           }
          ],
          "mesh3d": [
           {
            "colorbar": {
             "outlinewidth": 0,
             "ticks": ""
            },
            "type": "mesh3d"
           }
          ],
          "parcoords": [
           {
            "line": {
             "colorbar": {
              "outlinewidth": 0,
              "ticks": ""
             }
            },
            "type": "parcoords"
           }
          ],
          "pie": [
           {
            "automargin": true,
            "type": "pie"
           }
          ],
          "scatter": [
           {
            "fillpattern": {
             "fillmode": "overlay",
             "size": 10,
             "solidity": 0.2
            },
            "type": "scatter"
           }
          ],
          "scatter3d": [
           {
            "line": {
             "colorbar": {
              "outlinewidth": 0,
              "ticks": ""
             }
            },
            "marker": {
             "colorbar": {
              "outlinewidth": 0,
              "ticks": ""
             }
            },
            "type": "scatter3d"
           }
          ],
          "scattercarpet": [
           {
            "marker": {
             "colorbar": {
              "outlinewidth": 0,
              "ticks": ""
             }
            },
            "type": "scattercarpet"
           }
          ],
          "scattergeo": [
           {
            "marker": {
             "colorbar": {
              "outlinewidth": 0,
              "ticks": ""
             }
            },
            "type": "scattergeo"
           }
          ],
          "scattergl": [
           {
            "marker": {
             "colorbar": {
              "outlinewidth": 0,
              "ticks": ""
             }
            },
            "type": "scattergl"
           }
          ],
          "scattermapbox": [
           {
            "marker": {
             "colorbar": {
              "outlinewidth": 0,
              "ticks": ""
             }
            },
            "type": "scattermapbox"
           }
          ],
          "scatterpolar": [
           {
            "marker": {
             "colorbar": {
              "outlinewidth": 0,
              "ticks": ""
             }
            },
            "type": "scatterpolar"
           }
          ],
          "scatterpolargl": [
           {
            "marker": {
             "colorbar": {
              "outlinewidth": 0,
              "ticks": ""
             }
            },
            "type": "scatterpolargl"
           }
          ],
          "scatterternary": [
           {
            "marker": {
             "colorbar": {
              "outlinewidth": 0,
              "ticks": ""
             }
            },
            "type": "scatterternary"
           }
          ],
          "surface": [
           {
            "colorbar": {
             "outlinewidth": 0,
             "ticks": ""
            },
            "colorscale": [
             [
              0,
              "#0d0887"
             ],
             [
              0.1111111111111111,
              "#46039f"
             ],
             [
              0.2222222222222222,
              "#7201a8"
             ],
             [
              0.3333333333333333,
              "#9c179e"
             ],
             [
              0.4444444444444444,
              "#bd3786"
             ],
             [
              0.5555555555555556,
              "#d8576b"
             ],
             [
              0.6666666666666666,
              "#ed7953"
             ],
             [
              0.7777777777777778,
              "#fb9f3a"
             ],
             [
              0.8888888888888888,
              "#fdca26"
             ],
             [
              1,
              "#f0f921"
             ]
            ],
            "type": "surface"
           }
          ],
          "table": [
           {
            "cells": {
             "fill": {
              "color": "#EBF0F8"
             },
             "line": {
              "color": "white"
             }
            },
            "header": {
             "fill": {
              "color": "#C8D4E3"
             },
             "line": {
              "color": "white"
             }
            },
            "type": "table"
           }
          ]
         },
         "layout": {
          "annotationdefaults": {
           "arrowcolor": "#2a3f5f",
           "arrowhead": 0,
           "arrowwidth": 1
          },
          "autotypenumbers": "strict",
          "coloraxis": {
           "colorbar": {
            "outlinewidth": 0,
            "ticks": ""
           }
          },
          "colorscale": {
           "diverging": [
            [
             0,
             "#8e0152"
            ],
            [
             0.1,
             "#c51b7d"
            ],
            [
             0.2,
             "#de77ae"
            ],
            [
             0.3,
             "#f1b6da"
            ],
            [
             0.4,
             "#fde0ef"
            ],
            [
             0.5,
             "#f7f7f7"
            ],
            [
             0.6,
             "#e6f5d0"
            ],
            [
             0.7,
             "#b8e186"
            ],
            [
             0.8,
             "#7fbc41"
            ],
            [
             0.9,
             "#4d9221"
            ],
            [
             1,
             "#276419"
            ]
           ],
           "sequential": [
            [
             0,
             "#0d0887"
            ],
            [
             0.1111111111111111,
             "#46039f"
            ],
            [
             0.2222222222222222,
             "#7201a8"
            ],
            [
             0.3333333333333333,
             "#9c179e"
            ],
            [
             0.4444444444444444,
             "#bd3786"
            ],
            [
             0.5555555555555556,
             "#d8576b"
            ],
            [
             0.6666666666666666,
             "#ed7953"
            ],
            [
             0.7777777777777778,
             "#fb9f3a"
            ],
            [
             0.8888888888888888,
             "#fdca26"
            ],
            [
             1,
             "#f0f921"
            ]
           ],
           "sequentialminus": [
            [
             0,
             "#0d0887"
            ],
            [
             0.1111111111111111,
             "#46039f"
            ],
            [
             0.2222222222222222,
             "#7201a8"
            ],
            [
             0.3333333333333333,
             "#9c179e"
            ],
            [
             0.4444444444444444,
             "#bd3786"
            ],
            [
             0.5555555555555556,
             "#d8576b"
            ],
            [
             0.6666666666666666,
             "#ed7953"
            ],
            [
             0.7777777777777778,
             "#fb9f3a"
            ],
            [
             0.8888888888888888,
             "#fdca26"
            ],
            [
             1,
             "#f0f921"
            ]
           ]
          },
          "colorway": [
           "#636efa",
           "#EF553B",
           "#00cc96",
           "#ab63fa",
           "#FFA15A",
           "#19d3f3",
           "#FF6692",
           "#B6E880",
           "#FF97FF",
           "#FECB52"
          ],
          "font": {
           "color": "#2a3f5f"
          },
          "geo": {
           "bgcolor": "white",
           "lakecolor": "white",
           "landcolor": "#E5ECF6",
           "showlakes": true,
           "showland": true,
           "subunitcolor": "white"
          },
          "hoverlabel": {
           "align": "left"
          },
          "hovermode": "closest",
          "mapbox": {
           "style": "light"
          },
          "paper_bgcolor": "white",
          "plot_bgcolor": "#E5ECF6",
          "polar": {
           "angularaxis": {
            "gridcolor": "white",
            "linecolor": "white",
            "ticks": ""
           },
           "bgcolor": "#E5ECF6",
           "radialaxis": {
            "gridcolor": "white",
            "linecolor": "white",
            "ticks": ""
           }
          },
          "scene": {
           "xaxis": {
            "backgroundcolor": "#E5ECF6",
            "gridcolor": "white",
            "gridwidth": 2,
            "linecolor": "white",
            "showbackground": true,
            "ticks": "",
            "zerolinecolor": "white"
           },
           "yaxis": {
            "backgroundcolor": "#E5ECF6",
            "gridcolor": "white",
            "gridwidth": 2,
            "linecolor": "white",
            "showbackground": true,
            "ticks": "",
            "zerolinecolor": "white"
           },
           "zaxis": {
            "backgroundcolor": "#E5ECF6",
            "gridcolor": "white",
            "gridwidth": 2,
            "linecolor": "white",
            "showbackground": true,
            "ticks": "",
            "zerolinecolor": "white"
           }
          },
          "shapedefaults": {
           "line": {
            "color": "#2a3f5f"
           }
          },
          "ternary": {
           "aaxis": {
            "gridcolor": "white",
            "linecolor": "white",
            "ticks": ""
           },
           "baxis": {
            "gridcolor": "white",
            "linecolor": "white",
            "ticks": ""
           },
           "bgcolor": "#E5ECF6",
           "caxis": {
            "gridcolor": "white",
            "linecolor": "white",
            "ticks": ""
           }
          },
          "title": {
           "x": 0.05
          },
          "xaxis": {
           "automargin": true,
           "gridcolor": "white",
           "linecolor": "white",
           "ticks": "",
           "title": {
            "standoff": 15
           },
           "zerolinecolor": "white",
           "zerolinewidth": 2
          },
          "yaxis": {
           "automargin": true,
           "gridcolor": "white",
           "linecolor": "white",
           "ticks": "",
           "title": {
            "standoff": 15
           },
           "zerolinecolor": "white",
           "zerolinewidth": 2
          }
         }
        },
        "title": {
         "font": {
          "color": "#4D5663"
         }
        },
        "xaxis": {
         "gridcolor": "#E1E5ED",
         "showgrid": true,
         "tickfont": {
          "color": "#4D5663"
         },
         "title": {
          "font": {
           "color": "#4D5663"
          },
          "text": ""
         },
         "zerolinecolor": "#E1E5ED"
        },
        "yaxis": {
         "gridcolor": "#E1E5ED",
         "showgrid": true,
         "tickfont": {
          "color": "#4D5663"
         },
         "title": {
          "font": {
           "color": "#4D5663"
          },
          "text": ""
         },
         "zerolinecolor": "#E1E5ED"
        }
       }
      },
      "text/html": [
       "<div>                            <div id=\"1612b29a-69f3-4aab-8f51-96452aefe78f\" class=\"plotly-graph-div\" style=\"height:525px; width:100%;\"></div>            <script type=\"text/javascript\">                require([\"plotly\"], function(Plotly) {                    window.PLOTLYENV=window.PLOTLYENV || {};\n",
       "                    window.PLOTLYENV.BASE_URL='https://plot.ly';                                    if (document.getElementById(\"1612b29a-69f3-4aab-8f51-96452aefe78f\")) {                    Plotly.newPlot(                        \"1612b29a-69f3-4aab-8f51-96452aefe78f\",                        [{\"histfunc\":\"count\",\"histnorm\":\"\",\"marker\":{\"color\":\"rgba(255, 153, 51, 1.0)\",\"line\":{\"color\":\"#4D5663\",\"width\":1.3}},\"name\":\"A\",\"opacity\":0.8,\"orientation\":\"v\",\"x\":[0.778457933302214,-0.9680449357550578,0.39359084183301096,-1.2394985928585338,-0.2164835093388013,-0.1356228708503378,-1.2521746730325765,-1.0835243246963888,0.6250752248509963,0.7718451818596955,0.4318676271026053,-0.8686984687467546,0.18229522144610463,-0.17752709417956644,-0.7853823575966619,-0.06893337907779387,-0.9466983840211649,-0.9221095109610769,1.5774648689521218,0.3930242065630447,0.8277738191842602,-0.8241508298553344,0.07495661144670138,-0.3590170031546842,1.2734557212058224,-1.504383022229239,-0.12596790196229846,0.6123225576918307,0.3426474625945798,0.846089362700548,1.3523055165355302,0.284811559971216,-1.6013083992544557,1.6679084568187605,1.5145816453277892,-0.0046250819630932315,-0.07829149222527237,0.9916207650528954,1.1145048640682926,-1.089729192815636,0.17314040189558932,-0.033796344362975864,0.07562690561269443,1.892594834465393,-1.8348706724093262,1.2584334190829263,0.17218282514485775,0.34213290139111757,-0.7402663222325283,-0.588544402128247,-0.27975100910657263,-0.36609359684194237,-0.8452472534162175,-0.4468861894570877,0.6034241098470298,3.1023651388360145,0.214644091222445,-0.8612338237196326,0.13263420361251016,-0.9710094581449149,0.7227469378577297,-0.7822128929376538,-0.22143889112664097,0.14416334626005273,-0.8833756073627672,1.2612268675473937,0.7928279434498183,-1.0251422302062176,-0.4536854547609093,-0.45958745335640483,0.5182900495849041,0.850977459520938,0.04421513310499319,-1.1175849668722495,-0.8030693507661488,1.92519394398426,0.7217912827510005,-0.3116468245019817,-1.750355552577647,-0.6873302147493952,1.5993325144520412,1.2093688325747638,0.7382608277486163,-0.01307177710019666,0.4249358964426604,1.8114662802257053,-0.23812364488121177,-0.04821109509459664,-0.47886446654041864,-0.4038921916964521,0.5091420384625585,0.4801272970933442,-0.48912145451354583,-1.147042924817787,-0.01032179386658933,0.1321566262110016,-0.384385463475132,1.2891000679608127,0.9391036286315693,1.0197304435884655],\"type\":\"histogram\"}],                        {\"barmode\":\"overlay\",\"legend\":{\"bgcolor\":\"#F5F6F9\",\"font\":{\"color\":\"#4D5663\"}},\"paper_bgcolor\":\"#F5F6F9\",\"plot_bgcolor\":\"#F5F6F9\",\"template\":{\"data\":{\"barpolar\":[{\"marker\":{\"line\":{\"color\":\"#E5ECF6\",\"width\":0.5},\"pattern\":{\"fillmode\":\"overlay\",\"size\":10,\"solidity\":0.2}},\"type\":\"barpolar\"}],\"bar\":[{\"error_x\":{\"color\":\"#2a3f5f\"},\"error_y\":{\"color\":\"#2a3f5f\"},\"marker\":{\"line\":{\"color\":\"#E5ECF6\",\"width\":0.5},\"pattern\":{\"fillmode\":\"overlay\",\"size\":10,\"solidity\":0.2}},\"type\":\"bar\"}],\"carpet\":[{\"aaxis\":{\"endlinecolor\":\"#2a3f5f\",\"gridcolor\":\"white\",\"linecolor\":\"white\",\"minorgridcolor\":\"white\",\"startlinecolor\":\"#2a3f5f\"},\"baxis\":{\"endlinecolor\":\"#2a3f5f\",\"gridcolor\":\"white\",\"linecolor\":\"white\",\"minorgridcolor\":\"white\",\"startlinecolor\":\"#2a3f5f\"},\"type\":\"carpet\"}],\"choropleth\":[{\"colorbar\":{\"outlinewidth\":0,\"ticks\":\"\"},\"type\":\"choropleth\"}],\"contourcarpet\":[{\"colorbar\":{\"outlinewidth\":0,\"ticks\":\"\"},\"type\":\"contourcarpet\"}],\"contour\":[{\"colorbar\":{\"outlinewidth\":0,\"ticks\":\"\"},\"colorscale\":[[0.0,\"#0d0887\"],[0.1111111111111111,\"#46039f\"],[0.2222222222222222,\"#7201a8\"],[0.3333333333333333,\"#9c179e\"],[0.4444444444444444,\"#bd3786\"],[0.5555555555555556,\"#d8576b\"],[0.6666666666666666,\"#ed7953\"],[0.7777777777777778,\"#fb9f3a\"],[0.8888888888888888,\"#fdca26\"],[1.0,\"#f0f921\"]],\"type\":\"contour\"}],\"heatmapgl\":[{\"colorbar\":{\"outlinewidth\":0,\"ticks\":\"\"},\"colorscale\":[[0.0,\"#0d0887\"],[0.1111111111111111,\"#46039f\"],[0.2222222222222222,\"#7201a8\"],[0.3333333333333333,\"#9c179e\"],[0.4444444444444444,\"#bd3786\"],[0.5555555555555556,\"#d8576b\"],[0.6666666666666666,\"#ed7953\"],[0.7777777777777778,\"#fb9f3a\"],[0.8888888888888888,\"#fdca26\"],[1.0,\"#f0f921\"]],\"type\":\"heatmapgl\"}],\"heatmap\":[{\"colorbar\":{\"outlinewidth\":0,\"ticks\":\"\"},\"colorscale\":[[0.0,\"#0d0887\"],[0.1111111111111111,\"#46039f\"],[0.2222222222222222,\"#7201a8\"],[0.3333333333333333,\"#9c179e\"],[0.4444444444444444,\"#bd3786\"],[0.5555555555555556,\"#d8576b\"],[0.6666666666666666,\"#ed7953\"],[0.7777777777777778,\"#fb9f3a\"],[0.8888888888888888,\"#fdca26\"],[1.0,\"#f0f921\"]],\"type\":\"heatmap\"}],\"histogram2dcontour\":[{\"colorbar\":{\"outlinewidth\":0,\"ticks\":\"\"},\"colorscale\":[[0.0,\"#0d0887\"],[0.1111111111111111,\"#46039f\"],[0.2222222222222222,\"#7201a8\"],[0.3333333333333333,\"#9c179e\"],[0.4444444444444444,\"#bd3786\"],[0.5555555555555556,\"#d8576b\"],[0.6666666666666666,\"#ed7953\"],[0.7777777777777778,\"#fb9f3a\"],[0.8888888888888888,\"#fdca26\"],[1.0,\"#f0f921\"]],\"type\":\"histogram2dcontour\"}],\"histogram2d\":[{\"colorbar\":{\"outlinewidth\":0,\"ticks\":\"\"},\"colorscale\":[[0.0,\"#0d0887\"],[0.1111111111111111,\"#46039f\"],[0.2222222222222222,\"#7201a8\"],[0.3333333333333333,\"#9c179e\"],[0.4444444444444444,\"#bd3786\"],[0.5555555555555556,\"#d8576b\"],[0.6666666666666666,\"#ed7953\"],[0.7777777777777778,\"#fb9f3a\"],[0.8888888888888888,\"#fdca26\"],[1.0,\"#f0f921\"]],\"type\":\"histogram2d\"}],\"histogram\":[{\"marker\":{\"pattern\":{\"fillmode\":\"overlay\",\"size\":10,\"solidity\":0.2}},\"type\":\"histogram\"}],\"mesh3d\":[{\"colorbar\":{\"outlinewidth\":0,\"ticks\":\"\"},\"type\":\"mesh3d\"}],\"parcoords\":[{\"line\":{\"colorbar\":{\"outlinewidth\":0,\"ticks\":\"\"}},\"type\":\"parcoords\"}],\"pie\":[{\"automargin\":true,\"type\":\"pie\"}],\"scatter3d\":[{\"line\":{\"colorbar\":{\"outlinewidth\":0,\"ticks\":\"\"}},\"marker\":{\"colorbar\":{\"outlinewidth\":0,\"ticks\":\"\"}},\"type\":\"scatter3d\"}],\"scattercarpet\":[{\"marker\":{\"colorbar\":{\"outlinewidth\":0,\"ticks\":\"\"}},\"type\":\"scattercarpet\"}],\"scattergeo\":[{\"marker\":{\"colorbar\":{\"outlinewidth\":0,\"ticks\":\"\"}},\"type\":\"scattergeo\"}],\"scattergl\":[{\"marker\":{\"colorbar\":{\"outlinewidth\":0,\"ticks\":\"\"}},\"type\":\"scattergl\"}],\"scattermapbox\":[{\"marker\":{\"colorbar\":{\"outlinewidth\":0,\"ticks\":\"\"}},\"type\":\"scattermapbox\"}],\"scatterpolargl\":[{\"marker\":{\"colorbar\":{\"outlinewidth\":0,\"ticks\":\"\"}},\"type\":\"scatterpolargl\"}],\"scatterpolar\":[{\"marker\":{\"colorbar\":{\"outlinewidth\":0,\"ticks\":\"\"}},\"type\":\"scatterpolar\"}],\"scatter\":[{\"fillpattern\":{\"fillmode\":\"overlay\",\"size\":10,\"solidity\":0.2},\"type\":\"scatter\"}],\"scatterternary\":[{\"marker\":{\"colorbar\":{\"outlinewidth\":0,\"ticks\":\"\"}},\"type\":\"scatterternary\"}],\"surface\":[{\"colorbar\":{\"outlinewidth\":0,\"ticks\":\"\"},\"colorscale\":[[0.0,\"#0d0887\"],[0.1111111111111111,\"#46039f\"],[0.2222222222222222,\"#7201a8\"],[0.3333333333333333,\"#9c179e\"],[0.4444444444444444,\"#bd3786\"],[0.5555555555555556,\"#d8576b\"],[0.6666666666666666,\"#ed7953\"],[0.7777777777777778,\"#fb9f3a\"],[0.8888888888888888,\"#fdca26\"],[1.0,\"#f0f921\"]],\"type\":\"surface\"}],\"table\":[{\"cells\":{\"fill\":{\"color\":\"#EBF0F8\"},\"line\":{\"color\":\"white\"}},\"header\":{\"fill\":{\"color\":\"#C8D4E3\"},\"line\":{\"color\":\"white\"}},\"type\":\"table\"}]},\"layout\":{\"annotationdefaults\":{\"arrowcolor\":\"#2a3f5f\",\"arrowhead\":0,\"arrowwidth\":1},\"autotypenumbers\":\"strict\",\"coloraxis\":{\"colorbar\":{\"outlinewidth\":0,\"ticks\":\"\"}},\"colorscale\":{\"diverging\":[[0,\"#8e0152\"],[0.1,\"#c51b7d\"],[0.2,\"#de77ae\"],[0.3,\"#f1b6da\"],[0.4,\"#fde0ef\"],[0.5,\"#f7f7f7\"],[0.6,\"#e6f5d0\"],[0.7,\"#b8e186\"],[0.8,\"#7fbc41\"],[0.9,\"#4d9221\"],[1,\"#276419\"]],\"sequential\":[[0.0,\"#0d0887\"],[0.1111111111111111,\"#46039f\"],[0.2222222222222222,\"#7201a8\"],[0.3333333333333333,\"#9c179e\"],[0.4444444444444444,\"#bd3786\"],[0.5555555555555556,\"#d8576b\"],[0.6666666666666666,\"#ed7953\"],[0.7777777777777778,\"#fb9f3a\"],[0.8888888888888888,\"#fdca26\"],[1.0,\"#f0f921\"]],\"sequentialminus\":[[0.0,\"#0d0887\"],[0.1111111111111111,\"#46039f\"],[0.2222222222222222,\"#7201a8\"],[0.3333333333333333,\"#9c179e\"],[0.4444444444444444,\"#bd3786\"],[0.5555555555555556,\"#d8576b\"],[0.6666666666666666,\"#ed7953\"],[0.7777777777777778,\"#fb9f3a\"],[0.8888888888888888,\"#fdca26\"],[1.0,\"#f0f921\"]]},\"colorway\":[\"#636efa\",\"#EF553B\",\"#00cc96\",\"#ab63fa\",\"#FFA15A\",\"#19d3f3\",\"#FF6692\",\"#B6E880\",\"#FF97FF\",\"#FECB52\"],\"font\":{\"color\":\"#2a3f5f\"},\"geo\":{\"bgcolor\":\"white\",\"lakecolor\":\"white\",\"landcolor\":\"#E5ECF6\",\"showlakes\":true,\"showland\":true,\"subunitcolor\":\"white\"},\"hoverlabel\":{\"align\":\"left\"},\"hovermode\":\"closest\",\"mapbox\":{\"style\":\"light\"},\"paper_bgcolor\":\"white\",\"plot_bgcolor\":\"#E5ECF6\",\"polar\":{\"angularaxis\":{\"gridcolor\":\"white\",\"linecolor\":\"white\",\"ticks\":\"\"},\"bgcolor\":\"#E5ECF6\",\"radialaxis\":{\"gridcolor\":\"white\",\"linecolor\":\"white\",\"ticks\":\"\"}},\"scene\":{\"xaxis\":{\"backgroundcolor\":\"#E5ECF6\",\"gridcolor\":\"white\",\"gridwidth\":2,\"linecolor\":\"white\",\"showbackground\":true,\"ticks\":\"\",\"zerolinecolor\":\"white\"},\"yaxis\":{\"backgroundcolor\":\"#E5ECF6\",\"gridcolor\":\"white\",\"gridwidth\":2,\"linecolor\":\"white\",\"showbackground\":true,\"ticks\":\"\",\"zerolinecolor\":\"white\"},\"zaxis\":{\"backgroundcolor\":\"#E5ECF6\",\"gridcolor\":\"white\",\"gridwidth\":2,\"linecolor\":\"white\",\"showbackground\":true,\"ticks\":\"\",\"zerolinecolor\":\"white\"}},\"shapedefaults\":{\"line\":{\"color\":\"#2a3f5f\"}},\"ternary\":{\"aaxis\":{\"gridcolor\":\"white\",\"linecolor\":\"white\",\"ticks\":\"\"},\"baxis\":{\"gridcolor\":\"white\",\"linecolor\":\"white\",\"ticks\":\"\"},\"bgcolor\":\"#E5ECF6\",\"caxis\":{\"gridcolor\":\"white\",\"linecolor\":\"white\",\"ticks\":\"\"}},\"title\":{\"x\":0.05},\"xaxis\":{\"automargin\":true,\"gridcolor\":\"white\",\"linecolor\":\"white\",\"ticks\":\"\",\"title\":{\"standoff\":15},\"zerolinecolor\":\"white\",\"zerolinewidth\":2},\"yaxis\":{\"automargin\":true,\"gridcolor\":\"white\",\"linecolor\":\"white\",\"ticks\":\"\",\"title\":{\"standoff\":15},\"zerolinecolor\":\"white\",\"zerolinewidth\":2}}},\"title\":{\"font\":{\"color\":\"#4D5663\"}},\"xaxis\":{\"gridcolor\":\"#E1E5ED\",\"showgrid\":true,\"tickfont\":{\"color\":\"#4D5663\"},\"title\":{\"font\":{\"color\":\"#4D5663\"},\"text\":\"\"},\"zerolinecolor\":\"#E1E5ED\"},\"yaxis\":{\"gridcolor\":\"#E1E5ED\",\"showgrid\":true,\"tickfont\":{\"color\":\"#4D5663\"},\"title\":{\"font\":{\"color\":\"#4D5663\"},\"text\":\"\"},\"zerolinecolor\":\"#E1E5ED\"}},                        {\"showLink\": true, \"linkText\": \"Export to plot.ly\", \"plotlyServerURL\": \"https://plot.ly\", \"responsive\": true}                    ).then(function(){\n",
       "                            \n",
       "var gd = document.getElementById('1612b29a-69f3-4aab-8f51-96452aefe78f');\n",
       "var x = new MutationObserver(function (mutations, observer) {{\n",
       "        var display = window.getComputedStyle(gd).display;\n",
       "        if (!display || display === 'none') {{\n",
       "            console.log([gd, 'removed!']);\n",
       "            Plotly.purge(gd);\n",
       "            observer.disconnect();\n",
       "        }}\n",
       "}});\n",
       "\n",
       "// Listen for the removal of the full notebook cells\n",
       "var notebookContainer = gd.closest('#notebook-container');\n",
       "if (notebookContainer) {{\n",
       "    x.observe(notebookContainer, {childList: true});\n",
       "}}\n",
       "\n",
       "// Listen for the clearing of the current output cell\n",
       "var outputEl = gd.closest('.output');\n",
       "if (outputEl) {{\n",
       "    x.observe(outputEl, {childList: true});\n",
       "}}\n",
       "\n",
       "                        })                };                });            </script>        </div>"
      ]
     },
     "metadata": {},
     "output_type": "display_data"
    }
   ],
   "source": [
    "df['A'].iplot(kind='hist')"
   ]
  },
  {
   "cell_type": "code",
   "execution_count": 28,
   "id": "2344a71a",
   "metadata": {},
   "outputs": [
    {
     "data": {
      "application/vnd.plotly.v1+json": {
       "config": {
        "linkText": "Export to plot.ly",
        "plotlyServerURL": "https://plot.ly",
        "showLink": true
       },
       "data": [
        {
         "histfunc": "count",
         "histnorm": "",
         "marker": {
          "color": "rgba(255, 153, 51, 1.0)",
          "line": {
           "color": "#4D5663",
           "width": 1.3
          }
         },
         "name": "A",
         "nbinsx": 30,
         "opacity": 0.8,
         "orientation": "v",
         "type": "histogram",
         "x": [
          0.778457933302214,
          -0.9680449357550578,
          0.39359084183301096,
          -1.2394985928585338,
          -0.2164835093388013,
          -0.1356228708503378,
          -1.2521746730325765,
          -1.0835243246963888,
          0.6250752248509963,
          0.7718451818596955,
          0.4318676271026053,
          -0.8686984687467546,
          0.18229522144610463,
          -0.17752709417956644,
          -0.7853823575966619,
          -0.06893337907779387,
          -0.9466983840211649,
          -0.9221095109610769,
          1.5774648689521218,
          0.3930242065630447,
          0.8277738191842602,
          -0.8241508298553344,
          0.07495661144670138,
          -0.3590170031546842,
          1.2734557212058224,
          -1.504383022229239,
          -0.12596790196229846,
          0.6123225576918307,
          0.3426474625945798,
          0.846089362700548,
          1.3523055165355302,
          0.284811559971216,
          -1.6013083992544557,
          1.6679084568187605,
          1.5145816453277892,
          -0.0046250819630932315,
          -0.07829149222527237,
          0.9916207650528954,
          1.1145048640682926,
          -1.089729192815636,
          0.17314040189558932,
          -0.033796344362975864,
          0.07562690561269443,
          1.892594834465393,
          -1.8348706724093262,
          1.2584334190829263,
          0.17218282514485775,
          0.34213290139111757,
          -0.7402663222325283,
          -0.588544402128247,
          -0.27975100910657263,
          -0.36609359684194237,
          -0.8452472534162175,
          -0.4468861894570877,
          0.6034241098470298,
          3.1023651388360145,
          0.214644091222445,
          -0.8612338237196326,
          0.13263420361251016,
          -0.9710094581449149,
          0.7227469378577297,
          -0.7822128929376538,
          -0.22143889112664097,
          0.14416334626005273,
          -0.8833756073627672,
          1.2612268675473937,
          0.7928279434498183,
          -1.0251422302062176,
          -0.4536854547609093,
          -0.45958745335640483,
          0.5182900495849041,
          0.850977459520938,
          0.04421513310499319,
          -1.1175849668722495,
          -0.8030693507661488,
          1.92519394398426,
          0.7217912827510005,
          -0.3116468245019817,
          -1.750355552577647,
          -0.6873302147493952,
          1.5993325144520412,
          1.2093688325747638,
          0.7382608277486163,
          -0.01307177710019666,
          0.4249358964426604,
          1.8114662802257053,
          -0.23812364488121177,
          -0.04821109509459664,
          -0.47886446654041864,
          -0.4038921916964521,
          0.5091420384625585,
          0.4801272970933442,
          -0.48912145451354583,
          -1.147042924817787,
          -0.01032179386658933,
          0.1321566262110016,
          -0.384385463475132,
          1.2891000679608127,
          0.9391036286315693,
          1.0197304435884655
         ]
        }
       ],
       "layout": {
        "barmode": "overlay",
        "legend": {
         "bgcolor": "#F5F6F9",
         "font": {
          "color": "#4D5663"
         }
        },
        "paper_bgcolor": "#F5F6F9",
        "plot_bgcolor": "#F5F6F9",
        "template": {
         "data": {
          "bar": [
           {
            "error_x": {
             "color": "#2a3f5f"
            },
            "error_y": {
             "color": "#2a3f5f"
            },
            "marker": {
             "line": {
              "color": "#E5ECF6",
              "width": 0.5
             },
             "pattern": {
              "fillmode": "overlay",
              "size": 10,
              "solidity": 0.2
             }
            },
            "type": "bar"
           }
          ],
          "barpolar": [
           {
            "marker": {
             "line": {
              "color": "#E5ECF6",
              "width": 0.5
             },
             "pattern": {
              "fillmode": "overlay",
              "size": 10,
              "solidity": 0.2
             }
            },
            "type": "barpolar"
           }
          ],
          "carpet": [
           {
            "aaxis": {
             "endlinecolor": "#2a3f5f",
             "gridcolor": "white",
             "linecolor": "white",
             "minorgridcolor": "white",
             "startlinecolor": "#2a3f5f"
            },
            "baxis": {
             "endlinecolor": "#2a3f5f",
             "gridcolor": "white",
             "linecolor": "white",
             "minorgridcolor": "white",
             "startlinecolor": "#2a3f5f"
            },
            "type": "carpet"
           }
          ],
          "choropleth": [
           {
            "colorbar": {
             "outlinewidth": 0,
             "ticks": ""
            },
            "type": "choropleth"
           }
          ],
          "contour": [
           {
            "colorbar": {
             "outlinewidth": 0,
             "ticks": ""
            },
            "colorscale": [
             [
              0,
              "#0d0887"
             ],
             [
              0.1111111111111111,
              "#46039f"
             ],
             [
              0.2222222222222222,
              "#7201a8"
             ],
             [
              0.3333333333333333,
              "#9c179e"
             ],
             [
              0.4444444444444444,
              "#bd3786"
             ],
             [
              0.5555555555555556,
              "#d8576b"
             ],
             [
              0.6666666666666666,
              "#ed7953"
             ],
             [
              0.7777777777777778,
              "#fb9f3a"
             ],
             [
              0.8888888888888888,
              "#fdca26"
             ],
             [
              1,
              "#f0f921"
             ]
            ],
            "type": "contour"
           }
          ],
          "contourcarpet": [
           {
            "colorbar": {
             "outlinewidth": 0,
             "ticks": ""
            },
            "type": "contourcarpet"
           }
          ],
          "heatmap": [
           {
            "colorbar": {
             "outlinewidth": 0,
             "ticks": ""
            },
            "colorscale": [
             [
              0,
              "#0d0887"
             ],
             [
              0.1111111111111111,
              "#46039f"
             ],
             [
              0.2222222222222222,
              "#7201a8"
             ],
             [
              0.3333333333333333,
              "#9c179e"
             ],
             [
              0.4444444444444444,
              "#bd3786"
             ],
             [
              0.5555555555555556,
              "#d8576b"
             ],
             [
              0.6666666666666666,
              "#ed7953"
             ],
             [
              0.7777777777777778,
              "#fb9f3a"
             ],
             [
              0.8888888888888888,
              "#fdca26"
             ],
             [
              1,
              "#f0f921"
             ]
            ],
            "type": "heatmap"
           }
          ],
          "heatmapgl": [
           {
            "colorbar": {
             "outlinewidth": 0,
             "ticks": ""
            },
            "colorscale": [
             [
              0,
              "#0d0887"
             ],
             [
              0.1111111111111111,
              "#46039f"
             ],
             [
              0.2222222222222222,
              "#7201a8"
             ],
             [
              0.3333333333333333,
              "#9c179e"
             ],
             [
              0.4444444444444444,
              "#bd3786"
             ],
             [
              0.5555555555555556,
              "#d8576b"
             ],
             [
              0.6666666666666666,
              "#ed7953"
             ],
             [
              0.7777777777777778,
              "#fb9f3a"
             ],
             [
              0.8888888888888888,
              "#fdca26"
             ],
             [
              1,
              "#f0f921"
             ]
            ],
            "type": "heatmapgl"
           }
          ],
          "histogram": [
           {
            "marker": {
             "pattern": {
              "fillmode": "overlay",
              "size": 10,
              "solidity": 0.2
             }
            },
            "type": "histogram"
           }
          ],
          "histogram2d": [
           {
            "colorbar": {
             "outlinewidth": 0,
             "ticks": ""
            },
            "colorscale": [
             [
              0,
              "#0d0887"
             ],
             [
              0.1111111111111111,
              "#46039f"
             ],
             [
              0.2222222222222222,
              "#7201a8"
             ],
             [
              0.3333333333333333,
              "#9c179e"
             ],
             [
              0.4444444444444444,
              "#bd3786"
             ],
             [
              0.5555555555555556,
              "#d8576b"
             ],
             [
              0.6666666666666666,
              "#ed7953"
             ],
             [
              0.7777777777777778,
              "#fb9f3a"
             ],
             [
              0.8888888888888888,
              "#fdca26"
             ],
             [
              1,
              "#f0f921"
             ]
            ],
            "type": "histogram2d"
           }
          ],
          "histogram2dcontour": [
           {
            "colorbar": {
             "outlinewidth": 0,
             "ticks": ""
            },
            "colorscale": [
             [
              0,
              "#0d0887"
             ],
             [
              0.1111111111111111,
              "#46039f"
             ],
             [
              0.2222222222222222,
              "#7201a8"
             ],
             [
              0.3333333333333333,
              "#9c179e"
             ],
             [
              0.4444444444444444,
              "#bd3786"
             ],
             [
              0.5555555555555556,
              "#d8576b"
             ],
             [
              0.6666666666666666,
              "#ed7953"
             ],
             [
              0.7777777777777778,
              "#fb9f3a"
             ],
             [
              0.8888888888888888,
              "#fdca26"
             ],
             [
              1,
              "#f0f921"
             ]
            ],
            "type": "histogram2dcontour"
           }
          ],
          "mesh3d": [
           {
            "colorbar": {
             "outlinewidth": 0,
             "ticks": ""
            },
            "type": "mesh3d"
           }
          ],
          "parcoords": [
           {
            "line": {
             "colorbar": {
              "outlinewidth": 0,
              "ticks": ""
             }
            },
            "type": "parcoords"
           }
          ],
          "pie": [
           {
            "automargin": true,
            "type": "pie"
           }
          ],
          "scatter": [
           {
            "fillpattern": {
             "fillmode": "overlay",
             "size": 10,
             "solidity": 0.2
            },
            "type": "scatter"
           }
          ],
          "scatter3d": [
           {
            "line": {
             "colorbar": {
              "outlinewidth": 0,
              "ticks": ""
             }
            },
            "marker": {
             "colorbar": {
              "outlinewidth": 0,
              "ticks": ""
             }
            },
            "type": "scatter3d"
           }
          ],
          "scattercarpet": [
           {
            "marker": {
             "colorbar": {
              "outlinewidth": 0,
              "ticks": ""
             }
            },
            "type": "scattercarpet"
           }
          ],
          "scattergeo": [
           {
            "marker": {
             "colorbar": {
              "outlinewidth": 0,
              "ticks": ""
             }
            },
            "type": "scattergeo"
           }
          ],
          "scattergl": [
           {
            "marker": {
             "colorbar": {
              "outlinewidth": 0,
              "ticks": ""
             }
            },
            "type": "scattergl"
           }
          ],
          "scattermapbox": [
           {
            "marker": {
             "colorbar": {
              "outlinewidth": 0,
              "ticks": ""
             }
            },
            "type": "scattermapbox"
           }
          ],
          "scatterpolar": [
           {
            "marker": {
             "colorbar": {
              "outlinewidth": 0,
              "ticks": ""
             }
            },
            "type": "scatterpolar"
           }
          ],
          "scatterpolargl": [
           {
            "marker": {
             "colorbar": {
              "outlinewidth": 0,
              "ticks": ""
             }
            },
            "type": "scatterpolargl"
           }
          ],
          "scatterternary": [
           {
            "marker": {
             "colorbar": {
              "outlinewidth": 0,
              "ticks": ""
             }
            },
            "type": "scatterternary"
           }
          ],
          "surface": [
           {
            "colorbar": {
             "outlinewidth": 0,
             "ticks": ""
            },
            "colorscale": [
             [
              0,
              "#0d0887"
             ],
             [
              0.1111111111111111,
              "#46039f"
             ],
             [
              0.2222222222222222,
              "#7201a8"
             ],
             [
              0.3333333333333333,
              "#9c179e"
             ],
             [
              0.4444444444444444,
              "#bd3786"
             ],
             [
              0.5555555555555556,
              "#d8576b"
             ],
             [
              0.6666666666666666,
              "#ed7953"
             ],
             [
              0.7777777777777778,
              "#fb9f3a"
             ],
             [
              0.8888888888888888,
              "#fdca26"
             ],
             [
              1,
              "#f0f921"
             ]
            ],
            "type": "surface"
           }
          ],
          "table": [
           {
            "cells": {
             "fill": {
              "color": "#EBF0F8"
             },
             "line": {
              "color": "white"
             }
            },
            "header": {
             "fill": {
              "color": "#C8D4E3"
             },
             "line": {
              "color": "white"
             }
            },
            "type": "table"
           }
          ]
         },
         "layout": {
          "annotationdefaults": {
           "arrowcolor": "#2a3f5f",
           "arrowhead": 0,
           "arrowwidth": 1
          },
          "autotypenumbers": "strict",
          "coloraxis": {
           "colorbar": {
            "outlinewidth": 0,
            "ticks": ""
           }
          },
          "colorscale": {
           "diverging": [
            [
             0,
             "#8e0152"
            ],
            [
             0.1,
             "#c51b7d"
            ],
            [
             0.2,
             "#de77ae"
            ],
            [
             0.3,
             "#f1b6da"
            ],
            [
             0.4,
             "#fde0ef"
            ],
            [
             0.5,
             "#f7f7f7"
            ],
            [
             0.6,
             "#e6f5d0"
            ],
            [
             0.7,
             "#b8e186"
            ],
            [
             0.8,
             "#7fbc41"
            ],
            [
             0.9,
             "#4d9221"
            ],
            [
             1,
             "#276419"
            ]
           ],
           "sequential": [
            [
             0,
             "#0d0887"
            ],
            [
             0.1111111111111111,
             "#46039f"
            ],
            [
             0.2222222222222222,
             "#7201a8"
            ],
            [
             0.3333333333333333,
             "#9c179e"
            ],
            [
             0.4444444444444444,
             "#bd3786"
            ],
            [
             0.5555555555555556,
             "#d8576b"
            ],
            [
             0.6666666666666666,
             "#ed7953"
            ],
            [
             0.7777777777777778,
             "#fb9f3a"
            ],
            [
             0.8888888888888888,
             "#fdca26"
            ],
            [
             1,
             "#f0f921"
            ]
           ],
           "sequentialminus": [
            [
             0,
             "#0d0887"
            ],
            [
             0.1111111111111111,
             "#46039f"
            ],
            [
             0.2222222222222222,
             "#7201a8"
            ],
            [
             0.3333333333333333,
             "#9c179e"
            ],
            [
             0.4444444444444444,
             "#bd3786"
            ],
            [
             0.5555555555555556,
             "#d8576b"
            ],
            [
             0.6666666666666666,
             "#ed7953"
            ],
            [
             0.7777777777777778,
             "#fb9f3a"
            ],
            [
             0.8888888888888888,
             "#fdca26"
            ],
            [
             1,
             "#f0f921"
            ]
           ]
          },
          "colorway": [
           "#636efa",
           "#EF553B",
           "#00cc96",
           "#ab63fa",
           "#FFA15A",
           "#19d3f3",
           "#FF6692",
           "#B6E880",
           "#FF97FF",
           "#FECB52"
          ],
          "font": {
           "color": "#2a3f5f"
          },
          "geo": {
           "bgcolor": "white",
           "lakecolor": "white",
           "landcolor": "#E5ECF6",
           "showlakes": true,
           "showland": true,
           "subunitcolor": "white"
          },
          "hoverlabel": {
           "align": "left"
          },
          "hovermode": "closest",
          "mapbox": {
           "style": "light"
          },
          "paper_bgcolor": "white",
          "plot_bgcolor": "#E5ECF6",
          "polar": {
           "angularaxis": {
            "gridcolor": "white",
            "linecolor": "white",
            "ticks": ""
           },
           "bgcolor": "#E5ECF6",
           "radialaxis": {
            "gridcolor": "white",
            "linecolor": "white",
            "ticks": ""
           }
          },
          "scene": {
           "xaxis": {
            "backgroundcolor": "#E5ECF6",
            "gridcolor": "white",
            "gridwidth": 2,
            "linecolor": "white",
            "showbackground": true,
            "ticks": "",
            "zerolinecolor": "white"
           },
           "yaxis": {
            "backgroundcolor": "#E5ECF6",
            "gridcolor": "white",
            "gridwidth": 2,
            "linecolor": "white",
            "showbackground": true,
            "ticks": "",
            "zerolinecolor": "white"
           },
           "zaxis": {
            "backgroundcolor": "#E5ECF6",
            "gridcolor": "white",
            "gridwidth": 2,
            "linecolor": "white",
            "showbackground": true,
            "ticks": "",
            "zerolinecolor": "white"
           }
          },
          "shapedefaults": {
           "line": {
            "color": "#2a3f5f"
           }
          },
          "ternary": {
           "aaxis": {
            "gridcolor": "white",
            "linecolor": "white",
            "ticks": ""
           },
           "baxis": {
            "gridcolor": "white",
            "linecolor": "white",
            "ticks": ""
           },
           "bgcolor": "#E5ECF6",
           "caxis": {
            "gridcolor": "white",
            "linecolor": "white",
            "ticks": ""
           }
          },
          "title": {
           "x": 0.05
          },
          "xaxis": {
           "automargin": true,
           "gridcolor": "white",
           "linecolor": "white",
           "ticks": "",
           "title": {
            "standoff": 15
           },
           "zerolinecolor": "white",
           "zerolinewidth": 2
          },
          "yaxis": {
           "automargin": true,
           "gridcolor": "white",
           "linecolor": "white",
           "ticks": "",
           "title": {
            "standoff": 15
           },
           "zerolinecolor": "white",
           "zerolinewidth": 2
          }
         }
        },
        "title": {
         "font": {
          "color": "#4D5663"
         }
        },
        "xaxis": {
         "gridcolor": "#E1E5ED",
         "showgrid": true,
         "tickfont": {
          "color": "#4D5663"
         },
         "title": {
          "font": {
           "color": "#4D5663"
          },
          "text": ""
         },
         "zerolinecolor": "#E1E5ED"
        },
        "yaxis": {
         "gridcolor": "#E1E5ED",
         "showgrid": true,
         "tickfont": {
          "color": "#4D5663"
         },
         "title": {
          "font": {
           "color": "#4D5663"
          },
          "text": ""
         },
         "zerolinecolor": "#E1E5ED"
        }
       }
      },
      "text/html": [
       "<div>                            <div id=\"02b41ef2-8cbe-415a-81b4-dc6d903d49d0\" class=\"plotly-graph-div\" style=\"height:525px; width:100%;\"></div>            <script type=\"text/javascript\">                require([\"plotly\"], function(Plotly) {                    window.PLOTLYENV=window.PLOTLYENV || {};\n",
       "                    window.PLOTLYENV.BASE_URL='https://plot.ly';                                    if (document.getElementById(\"02b41ef2-8cbe-415a-81b4-dc6d903d49d0\")) {                    Plotly.newPlot(                        \"02b41ef2-8cbe-415a-81b4-dc6d903d49d0\",                        [{\"histfunc\":\"count\",\"histnorm\":\"\",\"marker\":{\"color\":\"rgba(255, 153, 51, 1.0)\",\"line\":{\"color\":\"#4D5663\",\"width\":1.3}},\"name\":\"A\",\"nbinsx\":30,\"opacity\":0.8,\"orientation\":\"v\",\"x\":[0.778457933302214,-0.9680449357550578,0.39359084183301096,-1.2394985928585338,-0.2164835093388013,-0.1356228708503378,-1.2521746730325765,-1.0835243246963888,0.6250752248509963,0.7718451818596955,0.4318676271026053,-0.8686984687467546,0.18229522144610463,-0.17752709417956644,-0.7853823575966619,-0.06893337907779387,-0.9466983840211649,-0.9221095109610769,1.5774648689521218,0.3930242065630447,0.8277738191842602,-0.8241508298553344,0.07495661144670138,-0.3590170031546842,1.2734557212058224,-1.504383022229239,-0.12596790196229846,0.6123225576918307,0.3426474625945798,0.846089362700548,1.3523055165355302,0.284811559971216,-1.6013083992544557,1.6679084568187605,1.5145816453277892,-0.0046250819630932315,-0.07829149222527237,0.9916207650528954,1.1145048640682926,-1.089729192815636,0.17314040189558932,-0.033796344362975864,0.07562690561269443,1.892594834465393,-1.8348706724093262,1.2584334190829263,0.17218282514485775,0.34213290139111757,-0.7402663222325283,-0.588544402128247,-0.27975100910657263,-0.36609359684194237,-0.8452472534162175,-0.4468861894570877,0.6034241098470298,3.1023651388360145,0.214644091222445,-0.8612338237196326,0.13263420361251016,-0.9710094581449149,0.7227469378577297,-0.7822128929376538,-0.22143889112664097,0.14416334626005273,-0.8833756073627672,1.2612268675473937,0.7928279434498183,-1.0251422302062176,-0.4536854547609093,-0.45958745335640483,0.5182900495849041,0.850977459520938,0.04421513310499319,-1.1175849668722495,-0.8030693507661488,1.92519394398426,0.7217912827510005,-0.3116468245019817,-1.750355552577647,-0.6873302147493952,1.5993325144520412,1.2093688325747638,0.7382608277486163,-0.01307177710019666,0.4249358964426604,1.8114662802257053,-0.23812364488121177,-0.04821109509459664,-0.47886446654041864,-0.4038921916964521,0.5091420384625585,0.4801272970933442,-0.48912145451354583,-1.147042924817787,-0.01032179386658933,0.1321566262110016,-0.384385463475132,1.2891000679608127,0.9391036286315693,1.0197304435884655],\"type\":\"histogram\"}],                        {\"barmode\":\"overlay\",\"legend\":{\"bgcolor\":\"#F5F6F9\",\"font\":{\"color\":\"#4D5663\"}},\"paper_bgcolor\":\"#F5F6F9\",\"plot_bgcolor\":\"#F5F6F9\",\"template\":{\"data\":{\"barpolar\":[{\"marker\":{\"line\":{\"color\":\"#E5ECF6\",\"width\":0.5},\"pattern\":{\"fillmode\":\"overlay\",\"size\":10,\"solidity\":0.2}},\"type\":\"barpolar\"}],\"bar\":[{\"error_x\":{\"color\":\"#2a3f5f\"},\"error_y\":{\"color\":\"#2a3f5f\"},\"marker\":{\"line\":{\"color\":\"#E5ECF6\",\"width\":0.5},\"pattern\":{\"fillmode\":\"overlay\",\"size\":10,\"solidity\":0.2}},\"type\":\"bar\"}],\"carpet\":[{\"aaxis\":{\"endlinecolor\":\"#2a3f5f\",\"gridcolor\":\"white\",\"linecolor\":\"white\",\"minorgridcolor\":\"white\",\"startlinecolor\":\"#2a3f5f\"},\"baxis\":{\"endlinecolor\":\"#2a3f5f\",\"gridcolor\":\"white\",\"linecolor\":\"white\",\"minorgridcolor\":\"white\",\"startlinecolor\":\"#2a3f5f\"},\"type\":\"carpet\"}],\"choropleth\":[{\"colorbar\":{\"outlinewidth\":0,\"ticks\":\"\"},\"type\":\"choropleth\"}],\"contourcarpet\":[{\"colorbar\":{\"outlinewidth\":0,\"ticks\":\"\"},\"type\":\"contourcarpet\"}],\"contour\":[{\"colorbar\":{\"outlinewidth\":0,\"ticks\":\"\"},\"colorscale\":[[0.0,\"#0d0887\"],[0.1111111111111111,\"#46039f\"],[0.2222222222222222,\"#7201a8\"],[0.3333333333333333,\"#9c179e\"],[0.4444444444444444,\"#bd3786\"],[0.5555555555555556,\"#d8576b\"],[0.6666666666666666,\"#ed7953\"],[0.7777777777777778,\"#fb9f3a\"],[0.8888888888888888,\"#fdca26\"],[1.0,\"#f0f921\"]],\"type\":\"contour\"}],\"heatmapgl\":[{\"colorbar\":{\"outlinewidth\":0,\"ticks\":\"\"},\"colorscale\":[[0.0,\"#0d0887\"],[0.1111111111111111,\"#46039f\"],[0.2222222222222222,\"#7201a8\"],[0.3333333333333333,\"#9c179e\"],[0.4444444444444444,\"#bd3786\"],[0.5555555555555556,\"#d8576b\"],[0.6666666666666666,\"#ed7953\"],[0.7777777777777778,\"#fb9f3a\"],[0.8888888888888888,\"#fdca26\"],[1.0,\"#f0f921\"]],\"type\":\"heatmapgl\"}],\"heatmap\":[{\"colorbar\":{\"outlinewidth\":0,\"ticks\":\"\"},\"colorscale\":[[0.0,\"#0d0887\"],[0.1111111111111111,\"#46039f\"],[0.2222222222222222,\"#7201a8\"],[0.3333333333333333,\"#9c179e\"],[0.4444444444444444,\"#bd3786\"],[0.5555555555555556,\"#d8576b\"],[0.6666666666666666,\"#ed7953\"],[0.7777777777777778,\"#fb9f3a\"],[0.8888888888888888,\"#fdca26\"],[1.0,\"#f0f921\"]],\"type\":\"heatmap\"}],\"histogram2dcontour\":[{\"colorbar\":{\"outlinewidth\":0,\"ticks\":\"\"},\"colorscale\":[[0.0,\"#0d0887\"],[0.1111111111111111,\"#46039f\"],[0.2222222222222222,\"#7201a8\"],[0.3333333333333333,\"#9c179e\"],[0.4444444444444444,\"#bd3786\"],[0.5555555555555556,\"#d8576b\"],[0.6666666666666666,\"#ed7953\"],[0.7777777777777778,\"#fb9f3a\"],[0.8888888888888888,\"#fdca26\"],[1.0,\"#f0f921\"]],\"type\":\"histogram2dcontour\"}],\"histogram2d\":[{\"colorbar\":{\"outlinewidth\":0,\"ticks\":\"\"},\"colorscale\":[[0.0,\"#0d0887\"],[0.1111111111111111,\"#46039f\"],[0.2222222222222222,\"#7201a8\"],[0.3333333333333333,\"#9c179e\"],[0.4444444444444444,\"#bd3786\"],[0.5555555555555556,\"#d8576b\"],[0.6666666666666666,\"#ed7953\"],[0.7777777777777778,\"#fb9f3a\"],[0.8888888888888888,\"#fdca26\"],[1.0,\"#f0f921\"]],\"type\":\"histogram2d\"}],\"histogram\":[{\"marker\":{\"pattern\":{\"fillmode\":\"overlay\",\"size\":10,\"solidity\":0.2}},\"type\":\"histogram\"}],\"mesh3d\":[{\"colorbar\":{\"outlinewidth\":0,\"ticks\":\"\"},\"type\":\"mesh3d\"}],\"parcoords\":[{\"line\":{\"colorbar\":{\"outlinewidth\":0,\"ticks\":\"\"}},\"type\":\"parcoords\"}],\"pie\":[{\"automargin\":true,\"type\":\"pie\"}],\"scatter3d\":[{\"line\":{\"colorbar\":{\"outlinewidth\":0,\"ticks\":\"\"}},\"marker\":{\"colorbar\":{\"outlinewidth\":0,\"ticks\":\"\"}},\"type\":\"scatter3d\"}],\"scattercarpet\":[{\"marker\":{\"colorbar\":{\"outlinewidth\":0,\"ticks\":\"\"}},\"type\":\"scattercarpet\"}],\"scattergeo\":[{\"marker\":{\"colorbar\":{\"outlinewidth\":0,\"ticks\":\"\"}},\"type\":\"scattergeo\"}],\"scattergl\":[{\"marker\":{\"colorbar\":{\"outlinewidth\":0,\"ticks\":\"\"}},\"type\":\"scattergl\"}],\"scattermapbox\":[{\"marker\":{\"colorbar\":{\"outlinewidth\":0,\"ticks\":\"\"}},\"type\":\"scattermapbox\"}],\"scatterpolargl\":[{\"marker\":{\"colorbar\":{\"outlinewidth\":0,\"ticks\":\"\"}},\"type\":\"scatterpolargl\"}],\"scatterpolar\":[{\"marker\":{\"colorbar\":{\"outlinewidth\":0,\"ticks\":\"\"}},\"type\":\"scatterpolar\"}],\"scatter\":[{\"fillpattern\":{\"fillmode\":\"overlay\",\"size\":10,\"solidity\":0.2},\"type\":\"scatter\"}],\"scatterternary\":[{\"marker\":{\"colorbar\":{\"outlinewidth\":0,\"ticks\":\"\"}},\"type\":\"scatterternary\"}],\"surface\":[{\"colorbar\":{\"outlinewidth\":0,\"ticks\":\"\"},\"colorscale\":[[0.0,\"#0d0887\"],[0.1111111111111111,\"#46039f\"],[0.2222222222222222,\"#7201a8\"],[0.3333333333333333,\"#9c179e\"],[0.4444444444444444,\"#bd3786\"],[0.5555555555555556,\"#d8576b\"],[0.6666666666666666,\"#ed7953\"],[0.7777777777777778,\"#fb9f3a\"],[0.8888888888888888,\"#fdca26\"],[1.0,\"#f0f921\"]],\"type\":\"surface\"}],\"table\":[{\"cells\":{\"fill\":{\"color\":\"#EBF0F8\"},\"line\":{\"color\":\"white\"}},\"header\":{\"fill\":{\"color\":\"#C8D4E3\"},\"line\":{\"color\":\"white\"}},\"type\":\"table\"}]},\"layout\":{\"annotationdefaults\":{\"arrowcolor\":\"#2a3f5f\",\"arrowhead\":0,\"arrowwidth\":1},\"autotypenumbers\":\"strict\",\"coloraxis\":{\"colorbar\":{\"outlinewidth\":0,\"ticks\":\"\"}},\"colorscale\":{\"diverging\":[[0,\"#8e0152\"],[0.1,\"#c51b7d\"],[0.2,\"#de77ae\"],[0.3,\"#f1b6da\"],[0.4,\"#fde0ef\"],[0.5,\"#f7f7f7\"],[0.6,\"#e6f5d0\"],[0.7,\"#b8e186\"],[0.8,\"#7fbc41\"],[0.9,\"#4d9221\"],[1,\"#276419\"]],\"sequential\":[[0.0,\"#0d0887\"],[0.1111111111111111,\"#46039f\"],[0.2222222222222222,\"#7201a8\"],[0.3333333333333333,\"#9c179e\"],[0.4444444444444444,\"#bd3786\"],[0.5555555555555556,\"#d8576b\"],[0.6666666666666666,\"#ed7953\"],[0.7777777777777778,\"#fb9f3a\"],[0.8888888888888888,\"#fdca26\"],[1.0,\"#f0f921\"]],\"sequentialminus\":[[0.0,\"#0d0887\"],[0.1111111111111111,\"#46039f\"],[0.2222222222222222,\"#7201a8\"],[0.3333333333333333,\"#9c179e\"],[0.4444444444444444,\"#bd3786\"],[0.5555555555555556,\"#d8576b\"],[0.6666666666666666,\"#ed7953\"],[0.7777777777777778,\"#fb9f3a\"],[0.8888888888888888,\"#fdca26\"],[1.0,\"#f0f921\"]]},\"colorway\":[\"#636efa\",\"#EF553B\",\"#00cc96\",\"#ab63fa\",\"#FFA15A\",\"#19d3f3\",\"#FF6692\",\"#B6E880\",\"#FF97FF\",\"#FECB52\"],\"font\":{\"color\":\"#2a3f5f\"},\"geo\":{\"bgcolor\":\"white\",\"lakecolor\":\"white\",\"landcolor\":\"#E5ECF6\",\"showlakes\":true,\"showland\":true,\"subunitcolor\":\"white\"},\"hoverlabel\":{\"align\":\"left\"},\"hovermode\":\"closest\",\"mapbox\":{\"style\":\"light\"},\"paper_bgcolor\":\"white\",\"plot_bgcolor\":\"#E5ECF6\",\"polar\":{\"angularaxis\":{\"gridcolor\":\"white\",\"linecolor\":\"white\",\"ticks\":\"\"},\"bgcolor\":\"#E5ECF6\",\"radialaxis\":{\"gridcolor\":\"white\",\"linecolor\":\"white\",\"ticks\":\"\"}},\"scene\":{\"xaxis\":{\"backgroundcolor\":\"#E5ECF6\",\"gridcolor\":\"white\",\"gridwidth\":2,\"linecolor\":\"white\",\"showbackground\":true,\"ticks\":\"\",\"zerolinecolor\":\"white\"},\"yaxis\":{\"backgroundcolor\":\"#E5ECF6\",\"gridcolor\":\"white\",\"gridwidth\":2,\"linecolor\":\"white\",\"showbackground\":true,\"ticks\":\"\",\"zerolinecolor\":\"white\"},\"zaxis\":{\"backgroundcolor\":\"#E5ECF6\",\"gridcolor\":\"white\",\"gridwidth\":2,\"linecolor\":\"white\",\"showbackground\":true,\"ticks\":\"\",\"zerolinecolor\":\"white\"}},\"shapedefaults\":{\"line\":{\"color\":\"#2a3f5f\"}},\"ternary\":{\"aaxis\":{\"gridcolor\":\"white\",\"linecolor\":\"white\",\"ticks\":\"\"},\"baxis\":{\"gridcolor\":\"white\",\"linecolor\":\"white\",\"ticks\":\"\"},\"bgcolor\":\"#E5ECF6\",\"caxis\":{\"gridcolor\":\"white\",\"linecolor\":\"white\",\"ticks\":\"\"}},\"title\":{\"x\":0.05},\"xaxis\":{\"automargin\":true,\"gridcolor\":\"white\",\"linecolor\":\"white\",\"ticks\":\"\",\"title\":{\"standoff\":15},\"zerolinecolor\":\"white\",\"zerolinewidth\":2},\"yaxis\":{\"automargin\":true,\"gridcolor\":\"white\",\"linecolor\":\"white\",\"ticks\":\"\",\"title\":{\"standoff\":15},\"zerolinecolor\":\"white\",\"zerolinewidth\":2}}},\"title\":{\"font\":{\"color\":\"#4D5663\"}},\"xaxis\":{\"gridcolor\":\"#E1E5ED\",\"showgrid\":true,\"tickfont\":{\"color\":\"#4D5663\"},\"title\":{\"font\":{\"color\":\"#4D5663\"},\"text\":\"\"},\"zerolinecolor\":\"#E1E5ED\"},\"yaxis\":{\"gridcolor\":\"#E1E5ED\",\"showgrid\":true,\"tickfont\":{\"color\":\"#4D5663\"},\"title\":{\"font\":{\"color\":\"#4D5663\"},\"text\":\"\"},\"zerolinecolor\":\"#E1E5ED\"}},                        {\"showLink\": true, \"linkText\": \"Export to plot.ly\", \"plotlyServerURL\": \"https://plot.ly\", \"responsive\": true}                    ).then(function(){\n",
       "                            \n",
       "var gd = document.getElementById('02b41ef2-8cbe-415a-81b4-dc6d903d49d0');\n",
       "var x = new MutationObserver(function (mutations, observer) {{\n",
       "        var display = window.getComputedStyle(gd).display;\n",
       "        if (!display || display === 'none') {{\n",
       "            console.log([gd, 'removed!']);\n",
       "            Plotly.purge(gd);\n",
       "            observer.disconnect();\n",
       "        }}\n",
       "}});\n",
       "\n",
       "// Listen for the removal of the full notebook cells\n",
       "var notebookContainer = gd.closest('#notebook-container');\n",
       "if (notebookContainer) {{\n",
       "    x.observe(notebookContainer, {childList: true});\n",
       "}}\n",
       "\n",
       "// Listen for the clearing of the current output cell\n",
       "var outputEl = gd.closest('.output');\n",
       "if (outputEl) {{\n",
       "    x.observe(outputEl, {childList: true});\n",
       "}}\n",
       "\n",
       "                        })                };                });            </script>        </div>"
      ]
     },
     "metadata": {},
     "output_type": "display_data"
    }
   ],
   "source": [
    "df['A'].iplot(kind='hist', bins=30)"
   ]
  },
  {
   "cell_type": "code",
   "execution_count": 29,
   "id": "1d637bf7",
   "metadata": {},
   "outputs": [
    {
     "data": {
      "application/vnd.plotly.v1+json": {
       "config": {
        "linkText": "Export to plot.ly",
        "plotlyServerURL": "https://plot.ly",
        "showLink": true
       },
       "data": [
        {
         "histfunc": "count",
         "histnorm": "",
         "marker": {
          "color": "rgba(255, 153, 51, 1.0)",
          "line": {
           "color": "#4D5663",
           "width": 1.3
          }
         },
         "name": "A",
         "opacity": 0.8,
         "orientation": "v",
         "type": "histogram",
         "x": [
          0.778457933302214,
          -0.9680449357550578,
          0.39359084183301096,
          -1.2394985928585338,
          -0.2164835093388013,
          -0.1356228708503378,
          -1.2521746730325765,
          -1.0835243246963888,
          0.6250752248509963,
          0.7718451818596955,
          0.4318676271026053,
          -0.8686984687467546,
          0.18229522144610463,
          -0.17752709417956644,
          -0.7853823575966619,
          -0.06893337907779387,
          -0.9466983840211649,
          -0.9221095109610769,
          1.5774648689521218,
          0.3930242065630447,
          0.8277738191842602,
          -0.8241508298553344,
          0.07495661144670138,
          -0.3590170031546842,
          1.2734557212058224,
          -1.504383022229239,
          -0.12596790196229846,
          0.6123225576918307,
          0.3426474625945798,
          0.846089362700548,
          1.3523055165355302,
          0.284811559971216,
          -1.6013083992544557,
          1.6679084568187605,
          1.5145816453277892,
          -0.0046250819630932315,
          -0.07829149222527237,
          0.9916207650528954,
          1.1145048640682926,
          -1.089729192815636,
          0.17314040189558932,
          -0.033796344362975864,
          0.07562690561269443,
          1.892594834465393,
          -1.8348706724093262,
          1.2584334190829263,
          0.17218282514485775,
          0.34213290139111757,
          -0.7402663222325283,
          -0.588544402128247,
          -0.27975100910657263,
          -0.36609359684194237,
          -0.8452472534162175,
          -0.4468861894570877,
          0.6034241098470298,
          3.1023651388360145,
          0.214644091222445,
          -0.8612338237196326,
          0.13263420361251016,
          -0.9710094581449149,
          0.7227469378577297,
          -0.7822128929376538,
          -0.22143889112664097,
          0.14416334626005273,
          -0.8833756073627672,
          1.2612268675473937,
          0.7928279434498183,
          -1.0251422302062176,
          -0.4536854547609093,
          -0.45958745335640483,
          0.5182900495849041,
          0.850977459520938,
          0.04421513310499319,
          -1.1175849668722495,
          -0.8030693507661488,
          1.92519394398426,
          0.7217912827510005,
          -0.3116468245019817,
          -1.750355552577647,
          -0.6873302147493952,
          1.5993325144520412,
          1.2093688325747638,
          0.7382608277486163,
          -0.01307177710019666,
          0.4249358964426604,
          1.8114662802257053,
          -0.23812364488121177,
          -0.04821109509459664,
          -0.47886446654041864,
          -0.4038921916964521,
          0.5091420384625585,
          0.4801272970933442,
          -0.48912145451354583,
          -1.147042924817787,
          -0.01032179386658933,
          0.1321566262110016,
          -0.384385463475132,
          1.2891000679608127,
          0.9391036286315693,
          1.0197304435884655
         ]
        },
        {
         "histfunc": "count",
         "histnorm": "",
         "marker": {
          "color": "rgba(55, 128, 191, 1.0)",
          "line": {
           "color": "#4D5663",
           "width": 1.3
          }
         },
         "name": "B",
         "opacity": 0.8,
         "orientation": "v",
         "type": "histogram",
         "x": [
          -0.12418495906275873,
          0.5285054303759434,
          -0.6483376777606301,
          -0.2882240309938093,
          0.5736212497816112,
          2.239254267902068,
          -3.7132010957566717,
          -0.827361314325003,
          -0.07056871306249225,
          0.4485007765695378,
          -1.1425087248215398,
          0.713665370670025,
          -0.12237518106470253,
          -1.5779230985738613,
          -1.6518453654137415,
          0.7872739570953827,
          0.6696097676881092,
          0.12485407678766407,
          -0.2592731741227891,
          -0.6034697000193865,
          -0.1634147137662408,
          -0.9185909367956211,
          -1.5225614971140846,
          0.32708339513992823,
          -0.7881580126865311,
          -0.253793228203105,
          -0.20667844715897066,
          0.9083395167937691,
          0.48256960720999503,
          -0.9609842265734008,
          -0.9045949603882426,
          -0.8259097380548978,
          -0.4414993729915333,
          -0.2965042673868797,
          -1.8110254612575696,
          -0.6947125921837172,
          0.22518886816166567,
          0.9620639813793939,
          -1.4689365913873842,
          -0.5002907290334543,
          0.15554850993818742,
          1.0644877346151136,
          0.08741835263849135,
          -1.2266050665518022,
          0.009267372916793585,
          0.9365478847521909,
          -0.06849812894451411,
          0.572511977530958,
          0.2490562834386925,
          -0.7544740172893082,
          0.6270155247426541,
          0.4392751700611625,
          0.8876910389681761,
          0.6895447204388416,
          -0.08376221605853913,
          0.7519574530059915,
          0.7928931750275154,
          -0.07844246435307307,
          -0.6610778230711215,
          0.4710622226800591,
          -3.102751806348052,
          1.3879524318512182,
          -1.9793711097598718,
          0.08488617246516036,
          -1.6306338131169662,
          0.31209134076027195,
          1.527604855019396,
          2.0868502636121495,
          -0.41398376859852154,
          -0.5958562882694559,
          0.1407586248600635,
          1.1241522625681128,
          -0.7699943106290851,
          0.13748390446668632,
          -1.0344313621767662,
          1.589065501698242,
          -1.483419352532759,
          1.1109792033938501,
          0.6953782435953554,
          0.5181307791043384,
          1.3792400569088539,
          -0.19834484065509467,
          -1.6984989450444554,
          0.6454744077409759,
          1.156837525492291,
          -1.3392031859801345,
          -1.0476297371919077,
          0.8978011452694012,
          0.21692629572147912,
          -0.4597509119081817,
          0.19481940643523454,
          -0.08341557197324237,
          0.7726127026487843,
          -1.6792646825069584,
          -0.6350127596847416,
          1.0570017823937987,
          -1.0115000812255166,
          -1.5882588060836178,
          -1.8493217471273957,
          -1.1361901014810987
         ]
        },
        {
         "histfunc": "count",
         "histnorm": "",
         "marker": {
          "color": "rgba(50, 171, 96, 1.0)",
          "line": {
           "color": "#4D5663",
           "width": 1.3
          }
         },
         "name": "C",
         "opacity": 0.8,
         "orientation": "v",
         "type": "histogram",
         "x": [
          -0.03802047411749776,
          0.8773557408303123,
          -1.118725034659502,
          -0.10026853830176642,
          -0.7732404050535409,
          0.5046837399056341,
          1.0405541917419667,
          0.12608346116189315,
          0.40577463423542737,
          -0.7153215479409281,
          1.327560943752907,
          1.1656233384029329,
          -2.556184188197719,
          0.180403725260928,
          -0.6420497906812835,
          0.08261155402733383,
          -0.8722369739240854,
          -0.5958593510195808,
          0.5411573911111616,
          1.5574465766371541,
          0.35858615040219993,
          0.1359352618178365,
          1.2729618354111418,
          -0.724388992300664,
          0.8689737956283615,
          1.0324712942410976,
          -0.10856722968255036,
          0.47116535782786606,
          0.9854431855075556,
          0.5648817725467724,
          -0.6741775517296723,
          -0.08507260800209669,
          -1.8491296419326837,
          1.1585345801397426,
          0.7410669957381095,
          0.2377646618768121,
          0.19636956338180683,
          1.5272074918028045,
          -0.29867294983582043,
          -0.1412752058259444,
          0.9105342836340018,
          -0.16649235126773396,
          -0.7152579905771318,
          1.4136319519783282,
          -0.3128878018946804,
          -0.433290552957218,
          0.8179761999340025,
          -1.3827284215191413,
          -0.24279974102893276,
          0.11564818225015172,
          0.4496854850035945,
          -0.4559239150446873,
          -2.252429793836703,
          -0.8597249668399786,
          -2.460767890721159,
          -0.08821510633908855,
          -0.7027062778648545,
          -0.3130299866317652,
          1.0320592354230556,
          -0.777357882169852,
          -2.3438996888466708,
          -0.5605666594946894,
          0.06741236942830532,
          -1.649231246416628,
          0.22273379564641857,
          0.13066572471482163,
          0.5362449801226784,
          1.4914964504089971,
          2.2322188903267848,
          -1.112526390987042,
          0.1861509871569323,
          1.1601974306427612,
          1.2891048070459077,
          0.9421954734630205,
          1.175179094583278,
          0.8345503271306458,
          0.3124997756836522,
          0.7382997585383295,
          2.3441395948533015,
          -1.4850691091821289,
          0.3943088653341731,
          -0.7125698889211279,
          -0.9260100929069468,
          0.9521314338176424,
          -1.3468987254887934,
          0.07818695724198196,
          -0.48812591175553643,
          -0.22272894573145505,
          -0.8905830222532648,
          0.5555690475707767,
          -0.7112369108121137,
          -0.893619327106401,
          2.1987281322799466,
          -0.7478258734501629,
          -0.11900790060739504,
          -0.8285148541919645,
          0.3855746642174358,
          -0.29794909083781856,
          -0.16683726369167023,
          -0.8803568268703029
         ]
        },
        {
         "histfunc": "count",
         "histnorm": "",
         "marker": {
          "color": "rgba(128, 0, 128, 1.0)",
          "line": {
           "color": "#4D5663",
           "width": 1.3
          }
         },
         "name": "D",
         "opacity": 0.8,
         "orientation": "v",
         "type": "histogram",
         "x": [
          0.19364859956418953,
          0.18583207547663305,
          1.9923921588463627,
          1.3188125240482078,
          0.537805874410933,
          -0.03848186401102001,
          -0.32930061650478093,
          2.2958952087568933,
          0.466505724210726,
          -0.7716409579262643,
          0.5784030178865545,
          -0.3085829845995051,
          1.0569521428997875,
          -0.021678681671287593,
          -0.15327032167682586,
          0.38532094024232333,
          1.624630133457499,
          1.6736838752131884,
          0.507620878463986,
          -1.3331888479271912,
          -0.008692936117062714,
          1.2755057690525256,
          0.8334251065844482,
          0.10786480563820008,
          -1.4328300955495161,
          0.6307401316199052,
          0.3757313710757838,
          -0.12381204243145601,
          2.444630116068402,
          1.2776539720839692,
          -0.2753571484946713,
          1.074406283764291,
          0.8935449560464446,
          0.8226339589212641,
          -0.3760182003569667,
          -0.5435492836183557,
          -1.204887322087643,
          -0.6063927925516598,
          -1.0747457830894218,
          0.2609786837151405,
          0.8486504892819745,
          -1.1875268382847586,
          0.7291652246195226,
          -0.2714729225650268,
          -0.3149788852602245,
          0.5933801088684901,
          -0.7001484527953258,
          0.31057113592398455,
          0.8941997046364684,
          0.696871322191756,
          0.9667732459813809,
          0.0795886917274917,
          1.4708668673386436,
          1.435440588634307,
          1.5617836556337106,
          -1.9930260097477197,
          0.33343907469044654,
          0.7127913736643632,
          0.43648801789717556,
          -0.48176628908925917,
          2.1851520391957804,
          -0.2831216918398867,
          1.5002057782776956,
          -0.7422075662104347,
          0.4674871043293601,
          1.487680377713003,
          -0.8109754686950558,
          1.1836151400260517,
          -3.2886518125876725,
          0.47420116098063736,
          0.4156506373988291,
          -1.4147882771469515,
          1.706363977610135,
          0.2884294207465923,
          0.14815841816801092,
          -0.6279943804082091,
          -0.5284554553268069,
          -1.3528423917747028,
          0.7441972948781518,
          -0.5380758183313948,
          -1.4680677526079209,
          0.42836894521875163,
          0.4874581159173152,
          -0.03322481239843942,
          -0.4362206070834838,
          -2.235968198210766,
          0.5219170909718297,
          0.7372645208846011,
          1.3745998157042327,
          -0.34707955390016204,
          -1.5015300123463025,
          1.0820404851499366,
          -0.526174680349923,
          1.1793021497147862,
          -0.10148494094334251,
          1.2444090645162498,
          2.236896752361946,
          0.4292984789795256,
          0.7317923794372792,
          -1.2032486736964108
         ]
        }
       ],
       "layout": {
        "barmode": "overlay",
        "legend": {
         "bgcolor": "#F5F6F9",
         "font": {
          "color": "#4D5663"
         }
        },
        "paper_bgcolor": "#F5F6F9",
        "plot_bgcolor": "#F5F6F9",
        "template": {
         "data": {
          "bar": [
           {
            "error_x": {
             "color": "#2a3f5f"
            },
            "error_y": {
             "color": "#2a3f5f"
            },
            "marker": {
             "line": {
              "color": "#E5ECF6",
              "width": 0.5
             },
             "pattern": {
              "fillmode": "overlay",
              "size": 10,
              "solidity": 0.2
             }
            },
            "type": "bar"
           }
          ],
          "barpolar": [
           {
            "marker": {
             "line": {
              "color": "#E5ECF6",
              "width": 0.5
             },
             "pattern": {
              "fillmode": "overlay",
              "size": 10,
              "solidity": 0.2
             }
            },
            "type": "barpolar"
           }
          ],
          "carpet": [
           {
            "aaxis": {
             "endlinecolor": "#2a3f5f",
             "gridcolor": "white",
             "linecolor": "white",
             "minorgridcolor": "white",
             "startlinecolor": "#2a3f5f"
            },
            "baxis": {
             "endlinecolor": "#2a3f5f",
             "gridcolor": "white",
             "linecolor": "white",
             "minorgridcolor": "white",
             "startlinecolor": "#2a3f5f"
            },
            "type": "carpet"
           }
          ],
          "choropleth": [
           {
            "colorbar": {
             "outlinewidth": 0,
             "ticks": ""
            },
            "type": "choropleth"
           }
          ],
          "contour": [
           {
            "colorbar": {
             "outlinewidth": 0,
             "ticks": ""
            },
            "colorscale": [
             [
              0,
              "#0d0887"
             ],
             [
              0.1111111111111111,
              "#46039f"
             ],
             [
              0.2222222222222222,
              "#7201a8"
             ],
             [
              0.3333333333333333,
              "#9c179e"
             ],
             [
              0.4444444444444444,
              "#bd3786"
             ],
             [
              0.5555555555555556,
              "#d8576b"
             ],
             [
              0.6666666666666666,
              "#ed7953"
             ],
             [
              0.7777777777777778,
              "#fb9f3a"
             ],
             [
              0.8888888888888888,
              "#fdca26"
             ],
             [
              1,
              "#f0f921"
             ]
            ],
            "type": "contour"
           }
          ],
          "contourcarpet": [
           {
            "colorbar": {
             "outlinewidth": 0,
             "ticks": ""
            },
            "type": "contourcarpet"
           }
          ],
          "heatmap": [
           {
            "colorbar": {
             "outlinewidth": 0,
             "ticks": ""
            },
            "colorscale": [
             [
              0,
              "#0d0887"
             ],
             [
              0.1111111111111111,
              "#46039f"
             ],
             [
              0.2222222222222222,
              "#7201a8"
             ],
             [
              0.3333333333333333,
              "#9c179e"
             ],
             [
              0.4444444444444444,
              "#bd3786"
             ],
             [
              0.5555555555555556,
              "#d8576b"
             ],
             [
              0.6666666666666666,
              "#ed7953"
             ],
             [
              0.7777777777777778,
              "#fb9f3a"
             ],
             [
              0.8888888888888888,
              "#fdca26"
             ],
             [
              1,
              "#f0f921"
             ]
            ],
            "type": "heatmap"
           }
          ],
          "heatmapgl": [
           {
            "colorbar": {
             "outlinewidth": 0,
             "ticks": ""
            },
            "colorscale": [
             [
              0,
              "#0d0887"
             ],
             [
              0.1111111111111111,
              "#46039f"
             ],
             [
              0.2222222222222222,
              "#7201a8"
             ],
             [
              0.3333333333333333,
              "#9c179e"
             ],
             [
              0.4444444444444444,
              "#bd3786"
             ],
             [
              0.5555555555555556,
              "#d8576b"
             ],
             [
              0.6666666666666666,
              "#ed7953"
             ],
             [
              0.7777777777777778,
              "#fb9f3a"
             ],
             [
              0.8888888888888888,
              "#fdca26"
             ],
             [
              1,
              "#f0f921"
             ]
            ],
            "type": "heatmapgl"
           }
          ],
          "histogram": [
           {
            "marker": {
             "pattern": {
              "fillmode": "overlay",
              "size": 10,
              "solidity": 0.2
             }
            },
            "type": "histogram"
           }
          ],
          "histogram2d": [
           {
            "colorbar": {
             "outlinewidth": 0,
             "ticks": ""
            },
            "colorscale": [
             [
              0,
              "#0d0887"
             ],
             [
              0.1111111111111111,
              "#46039f"
             ],
             [
              0.2222222222222222,
              "#7201a8"
             ],
             [
              0.3333333333333333,
              "#9c179e"
             ],
             [
              0.4444444444444444,
              "#bd3786"
             ],
             [
              0.5555555555555556,
              "#d8576b"
             ],
             [
              0.6666666666666666,
              "#ed7953"
             ],
             [
              0.7777777777777778,
              "#fb9f3a"
             ],
             [
              0.8888888888888888,
              "#fdca26"
             ],
             [
              1,
              "#f0f921"
             ]
            ],
            "type": "histogram2d"
           }
          ],
          "histogram2dcontour": [
           {
            "colorbar": {
             "outlinewidth": 0,
             "ticks": ""
            },
            "colorscale": [
             [
              0,
              "#0d0887"
             ],
             [
              0.1111111111111111,
              "#46039f"
             ],
             [
              0.2222222222222222,
              "#7201a8"
             ],
             [
              0.3333333333333333,
              "#9c179e"
             ],
             [
              0.4444444444444444,
              "#bd3786"
             ],
             [
              0.5555555555555556,
              "#d8576b"
             ],
             [
              0.6666666666666666,
              "#ed7953"
             ],
             [
              0.7777777777777778,
              "#fb9f3a"
             ],
             [
              0.8888888888888888,
              "#fdca26"
             ],
             [
              1,
              "#f0f921"
             ]
            ],
            "type": "histogram2dcontour"
           }
          ],
          "mesh3d": [
           {
            "colorbar": {
             "outlinewidth": 0,
             "ticks": ""
            },
            "type": "mesh3d"
           }
          ],
          "parcoords": [
           {
            "line": {
             "colorbar": {
              "outlinewidth": 0,
              "ticks": ""
             }
            },
            "type": "parcoords"
           }
          ],
          "pie": [
           {
            "automargin": true,
            "type": "pie"
           }
          ],
          "scatter": [
           {
            "fillpattern": {
             "fillmode": "overlay",
             "size": 10,
             "solidity": 0.2
            },
            "type": "scatter"
           }
          ],
          "scatter3d": [
           {
            "line": {
             "colorbar": {
              "outlinewidth": 0,
              "ticks": ""
             }
            },
            "marker": {
             "colorbar": {
              "outlinewidth": 0,
              "ticks": ""
             }
            },
            "type": "scatter3d"
           }
          ],
          "scattercarpet": [
           {
            "marker": {
             "colorbar": {
              "outlinewidth": 0,
              "ticks": ""
             }
            },
            "type": "scattercarpet"
           }
          ],
          "scattergeo": [
           {
            "marker": {
             "colorbar": {
              "outlinewidth": 0,
              "ticks": ""
             }
            },
            "type": "scattergeo"
           }
          ],
          "scattergl": [
           {
            "marker": {
             "colorbar": {
              "outlinewidth": 0,
              "ticks": ""
             }
            },
            "type": "scattergl"
           }
          ],
          "scattermapbox": [
           {
            "marker": {
             "colorbar": {
              "outlinewidth": 0,
              "ticks": ""
             }
            },
            "type": "scattermapbox"
           }
          ],
          "scatterpolar": [
           {
            "marker": {
             "colorbar": {
              "outlinewidth": 0,
              "ticks": ""
             }
            },
            "type": "scatterpolar"
           }
          ],
          "scatterpolargl": [
           {
            "marker": {
             "colorbar": {
              "outlinewidth": 0,
              "ticks": ""
             }
            },
            "type": "scatterpolargl"
           }
          ],
          "scatterternary": [
           {
            "marker": {
             "colorbar": {
              "outlinewidth": 0,
              "ticks": ""
             }
            },
            "type": "scatterternary"
           }
          ],
          "surface": [
           {
            "colorbar": {
             "outlinewidth": 0,
             "ticks": ""
            },
            "colorscale": [
             [
              0,
              "#0d0887"
             ],
             [
              0.1111111111111111,
              "#46039f"
             ],
             [
              0.2222222222222222,
              "#7201a8"
             ],
             [
              0.3333333333333333,
              "#9c179e"
             ],
             [
              0.4444444444444444,
              "#bd3786"
             ],
             [
              0.5555555555555556,
              "#d8576b"
             ],
             [
              0.6666666666666666,
              "#ed7953"
             ],
             [
              0.7777777777777778,
              "#fb9f3a"
             ],
             [
              0.8888888888888888,
              "#fdca26"
             ],
             [
              1,
              "#f0f921"
             ]
            ],
            "type": "surface"
           }
          ],
          "table": [
           {
            "cells": {
             "fill": {
              "color": "#EBF0F8"
             },
             "line": {
              "color": "white"
             }
            },
            "header": {
             "fill": {
              "color": "#C8D4E3"
             },
             "line": {
              "color": "white"
             }
            },
            "type": "table"
           }
          ]
         },
         "layout": {
          "annotationdefaults": {
           "arrowcolor": "#2a3f5f",
           "arrowhead": 0,
           "arrowwidth": 1
          },
          "autotypenumbers": "strict",
          "coloraxis": {
           "colorbar": {
            "outlinewidth": 0,
            "ticks": ""
           }
          },
          "colorscale": {
           "diverging": [
            [
             0,
             "#8e0152"
            ],
            [
             0.1,
             "#c51b7d"
            ],
            [
             0.2,
             "#de77ae"
            ],
            [
             0.3,
             "#f1b6da"
            ],
            [
             0.4,
             "#fde0ef"
            ],
            [
             0.5,
             "#f7f7f7"
            ],
            [
             0.6,
             "#e6f5d0"
            ],
            [
             0.7,
             "#b8e186"
            ],
            [
             0.8,
             "#7fbc41"
            ],
            [
             0.9,
             "#4d9221"
            ],
            [
             1,
             "#276419"
            ]
           ],
           "sequential": [
            [
             0,
             "#0d0887"
            ],
            [
             0.1111111111111111,
             "#46039f"
            ],
            [
             0.2222222222222222,
             "#7201a8"
            ],
            [
             0.3333333333333333,
             "#9c179e"
            ],
            [
             0.4444444444444444,
             "#bd3786"
            ],
            [
             0.5555555555555556,
             "#d8576b"
            ],
            [
             0.6666666666666666,
             "#ed7953"
            ],
            [
             0.7777777777777778,
             "#fb9f3a"
            ],
            [
             0.8888888888888888,
             "#fdca26"
            ],
            [
             1,
             "#f0f921"
            ]
           ],
           "sequentialminus": [
            [
             0,
             "#0d0887"
            ],
            [
             0.1111111111111111,
             "#46039f"
            ],
            [
             0.2222222222222222,
             "#7201a8"
            ],
            [
             0.3333333333333333,
             "#9c179e"
            ],
            [
             0.4444444444444444,
             "#bd3786"
            ],
            [
             0.5555555555555556,
             "#d8576b"
            ],
            [
             0.6666666666666666,
             "#ed7953"
            ],
            [
             0.7777777777777778,
             "#fb9f3a"
            ],
            [
             0.8888888888888888,
             "#fdca26"
            ],
            [
             1,
             "#f0f921"
            ]
           ]
          },
          "colorway": [
           "#636efa",
           "#EF553B",
           "#00cc96",
           "#ab63fa",
           "#FFA15A",
           "#19d3f3",
           "#FF6692",
           "#B6E880",
           "#FF97FF",
           "#FECB52"
          ],
          "font": {
           "color": "#2a3f5f"
          },
          "geo": {
           "bgcolor": "white",
           "lakecolor": "white",
           "landcolor": "#E5ECF6",
           "showlakes": true,
           "showland": true,
           "subunitcolor": "white"
          },
          "hoverlabel": {
           "align": "left"
          },
          "hovermode": "closest",
          "mapbox": {
           "style": "light"
          },
          "paper_bgcolor": "white",
          "plot_bgcolor": "#E5ECF6",
          "polar": {
           "angularaxis": {
            "gridcolor": "white",
            "linecolor": "white",
            "ticks": ""
           },
           "bgcolor": "#E5ECF6",
           "radialaxis": {
            "gridcolor": "white",
            "linecolor": "white",
            "ticks": ""
           }
          },
          "scene": {
           "xaxis": {
            "backgroundcolor": "#E5ECF6",
            "gridcolor": "white",
            "gridwidth": 2,
            "linecolor": "white",
            "showbackground": true,
            "ticks": "",
            "zerolinecolor": "white"
           },
           "yaxis": {
            "backgroundcolor": "#E5ECF6",
            "gridcolor": "white",
            "gridwidth": 2,
            "linecolor": "white",
            "showbackground": true,
            "ticks": "",
            "zerolinecolor": "white"
           },
           "zaxis": {
            "backgroundcolor": "#E5ECF6",
            "gridcolor": "white",
            "gridwidth": 2,
            "linecolor": "white",
            "showbackground": true,
            "ticks": "",
            "zerolinecolor": "white"
           }
          },
          "shapedefaults": {
           "line": {
            "color": "#2a3f5f"
           }
          },
          "ternary": {
           "aaxis": {
            "gridcolor": "white",
            "linecolor": "white",
            "ticks": ""
           },
           "baxis": {
            "gridcolor": "white",
            "linecolor": "white",
            "ticks": ""
           },
           "bgcolor": "#E5ECF6",
           "caxis": {
            "gridcolor": "white",
            "linecolor": "white",
            "ticks": ""
           }
          },
          "title": {
           "x": 0.05
          },
          "xaxis": {
           "automargin": true,
           "gridcolor": "white",
           "linecolor": "white",
           "ticks": "",
           "title": {
            "standoff": 15
           },
           "zerolinecolor": "white",
           "zerolinewidth": 2
          },
          "yaxis": {
           "automargin": true,
           "gridcolor": "white",
           "linecolor": "white",
           "ticks": "",
           "title": {
            "standoff": 15
           },
           "zerolinecolor": "white",
           "zerolinewidth": 2
          }
         }
        },
        "title": {
         "font": {
          "color": "#4D5663"
         }
        },
        "xaxis": {
         "gridcolor": "#E1E5ED",
         "showgrid": true,
         "tickfont": {
          "color": "#4D5663"
         },
         "title": {
          "font": {
           "color": "#4D5663"
          },
          "text": ""
         },
         "zerolinecolor": "#E1E5ED"
        },
        "yaxis": {
         "gridcolor": "#E1E5ED",
         "showgrid": true,
         "tickfont": {
          "color": "#4D5663"
         },
         "title": {
          "font": {
           "color": "#4D5663"
          },
          "text": ""
         },
         "zerolinecolor": "#E1E5ED"
        }
       }
      },
      "text/html": [
       "<div>                            <div id=\"fde5294a-9165-4d80-b909-1bd61ce94eee\" class=\"plotly-graph-div\" style=\"height:525px; width:100%;\"></div>            <script type=\"text/javascript\">                require([\"plotly\"], function(Plotly) {                    window.PLOTLYENV=window.PLOTLYENV || {};\n",
       "                    window.PLOTLYENV.BASE_URL='https://plot.ly';                                    if (document.getElementById(\"fde5294a-9165-4d80-b909-1bd61ce94eee\")) {                    Plotly.newPlot(                        \"fde5294a-9165-4d80-b909-1bd61ce94eee\",                        [{\"histfunc\":\"count\",\"histnorm\":\"\",\"marker\":{\"color\":\"rgba(255, 153, 51, 1.0)\",\"line\":{\"color\":\"#4D5663\",\"width\":1.3}},\"name\":\"A\",\"opacity\":0.8,\"orientation\":\"v\",\"x\":[0.778457933302214,-0.9680449357550578,0.39359084183301096,-1.2394985928585338,-0.2164835093388013,-0.1356228708503378,-1.2521746730325765,-1.0835243246963888,0.6250752248509963,0.7718451818596955,0.4318676271026053,-0.8686984687467546,0.18229522144610463,-0.17752709417956644,-0.7853823575966619,-0.06893337907779387,-0.9466983840211649,-0.9221095109610769,1.5774648689521218,0.3930242065630447,0.8277738191842602,-0.8241508298553344,0.07495661144670138,-0.3590170031546842,1.2734557212058224,-1.504383022229239,-0.12596790196229846,0.6123225576918307,0.3426474625945798,0.846089362700548,1.3523055165355302,0.284811559971216,-1.6013083992544557,1.6679084568187605,1.5145816453277892,-0.0046250819630932315,-0.07829149222527237,0.9916207650528954,1.1145048640682926,-1.089729192815636,0.17314040189558932,-0.033796344362975864,0.07562690561269443,1.892594834465393,-1.8348706724093262,1.2584334190829263,0.17218282514485775,0.34213290139111757,-0.7402663222325283,-0.588544402128247,-0.27975100910657263,-0.36609359684194237,-0.8452472534162175,-0.4468861894570877,0.6034241098470298,3.1023651388360145,0.214644091222445,-0.8612338237196326,0.13263420361251016,-0.9710094581449149,0.7227469378577297,-0.7822128929376538,-0.22143889112664097,0.14416334626005273,-0.8833756073627672,1.2612268675473937,0.7928279434498183,-1.0251422302062176,-0.4536854547609093,-0.45958745335640483,0.5182900495849041,0.850977459520938,0.04421513310499319,-1.1175849668722495,-0.8030693507661488,1.92519394398426,0.7217912827510005,-0.3116468245019817,-1.750355552577647,-0.6873302147493952,1.5993325144520412,1.2093688325747638,0.7382608277486163,-0.01307177710019666,0.4249358964426604,1.8114662802257053,-0.23812364488121177,-0.04821109509459664,-0.47886446654041864,-0.4038921916964521,0.5091420384625585,0.4801272970933442,-0.48912145451354583,-1.147042924817787,-0.01032179386658933,0.1321566262110016,-0.384385463475132,1.2891000679608127,0.9391036286315693,1.0197304435884655],\"type\":\"histogram\"},{\"histfunc\":\"count\",\"histnorm\":\"\",\"marker\":{\"color\":\"rgba(55, 128, 191, 1.0)\",\"line\":{\"color\":\"#4D5663\",\"width\":1.3}},\"name\":\"B\",\"opacity\":0.8,\"orientation\":\"v\",\"x\":[-0.12418495906275873,0.5285054303759434,-0.6483376777606301,-0.2882240309938093,0.5736212497816112,2.239254267902068,-3.7132010957566717,-0.827361314325003,-0.07056871306249225,0.4485007765695378,-1.1425087248215398,0.713665370670025,-0.12237518106470253,-1.5779230985738613,-1.6518453654137415,0.7872739570953827,0.6696097676881092,0.12485407678766407,-0.2592731741227891,-0.6034697000193865,-0.1634147137662408,-0.9185909367956211,-1.5225614971140846,0.32708339513992823,-0.7881580126865311,-0.253793228203105,-0.20667844715897066,0.9083395167937691,0.48256960720999503,-0.9609842265734008,-0.9045949603882426,-0.8259097380548978,-0.4414993729915333,-0.2965042673868797,-1.8110254612575696,-0.6947125921837172,0.22518886816166567,0.9620639813793939,-1.4689365913873842,-0.5002907290334543,0.15554850993818742,1.0644877346151136,0.08741835263849135,-1.2266050665518022,0.009267372916793585,0.9365478847521909,-0.06849812894451411,0.572511977530958,0.2490562834386925,-0.7544740172893082,0.6270155247426541,0.4392751700611625,0.8876910389681761,0.6895447204388416,-0.08376221605853913,0.7519574530059915,0.7928931750275154,-0.07844246435307307,-0.6610778230711215,0.4710622226800591,-3.102751806348052,1.3879524318512182,-1.9793711097598718,0.08488617246516036,-1.6306338131169662,0.31209134076027195,1.527604855019396,2.0868502636121495,-0.41398376859852154,-0.5958562882694559,0.1407586248600635,1.1241522625681128,-0.7699943106290851,0.13748390446668632,-1.0344313621767662,1.589065501698242,-1.483419352532759,1.1109792033938501,0.6953782435953554,0.5181307791043384,1.3792400569088539,-0.19834484065509467,-1.6984989450444554,0.6454744077409759,1.156837525492291,-1.3392031859801345,-1.0476297371919077,0.8978011452694012,0.21692629572147912,-0.4597509119081817,0.19481940643523454,-0.08341557197324237,0.7726127026487843,-1.6792646825069584,-0.6350127596847416,1.0570017823937987,-1.0115000812255166,-1.5882588060836178,-1.8493217471273957,-1.1361901014810987],\"type\":\"histogram\"},{\"histfunc\":\"count\",\"histnorm\":\"\",\"marker\":{\"color\":\"rgba(50, 171, 96, 1.0)\",\"line\":{\"color\":\"#4D5663\",\"width\":1.3}},\"name\":\"C\",\"opacity\":0.8,\"orientation\":\"v\",\"x\":[-0.03802047411749776,0.8773557408303123,-1.118725034659502,-0.10026853830176642,-0.7732404050535409,0.5046837399056341,1.0405541917419667,0.12608346116189315,0.40577463423542737,-0.7153215479409281,1.327560943752907,1.1656233384029329,-2.556184188197719,0.180403725260928,-0.6420497906812835,0.08261155402733383,-0.8722369739240854,-0.5958593510195808,0.5411573911111616,1.5574465766371541,0.35858615040219993,0.1359352618178365,1.2729618354111418,-0.724388992300664,0.8689737956283615,1.0324712942410976,-0.10856722968255036,0.47116535782786606,0.9854431855075556,0.5648817725467724,-0.6741775517296723,-0.08507260800209669,-1.8491296419326837,1.1585345801397426,0.7410669957381095,0.2377646618768121,0.19636956338180683,1.5272074918028045,-0.29867294983582043,-0.1412752058259444,0.9105342836340018,-0.16649235126773396,-0.7152579905771318,1.4136319519783282,-0.3128878018946804,-0.433290552957218,0.8179761999340025,-1.3827284215191413,-0.24279974102893276,0.11564818225015172,0.4496854850035945,-0.4559239150446873,-2.252429793836703,-0.8597249668399786,-2.460767890721159,-0.08821510633908855,-0.7027062778648545,-0.3130299866317652,1.0320592354230556,-0.777357882169852,-2.3438996888466708,-0.5605666594946894,0.06741236942830532,-1.649231246416628,0.22273379564641857,0.13066572471482163,0.5362449801226784,1.4914964504089971,2.2322188903267848,-1.112526390987042,0.1861509871569323,1.1601974306427612,1.2891048070459077,0.9421954734630205,1.175179094583278,0.8345503271306458,0.3124997756836522,0.7382997585383295,2.3441395948533015,-1.4850691091821289,0.3943088653341731,-0.7125698889211279,-0.9260100929069468,0.9521314338176424,-1.3468987254887934,0.07818695724198196,-0.48812591175553643,-0.22272894573145505,-0.8905830222532648,0.5555690475707767,-0.7112369108121137,-0.893619327106401,2.1987281322799466,-0.7478258734501629,-0.11900790060739504,-0.8285148541919645,0.3855746642174358,-0.29794909083781856,-0.16683726369167023,-0.8803568268703029],\"type\":\"histogram\"},{\"histfunc\":\"count\",\"histnorm\":\"\",\"marker\":{\"color\":\"rgba(128, 0, 128, 1.0)\",\"line\":{\"color\":\"#4D5663\",\"width\":1.3}},\"name\":\"D\",\"opacity\":0.8,\"orientation\":\"v\",\"x\":[0.19364859956418953,0.18583207547663305,1.9923921588463627,1.3188125240482078,0.537805874410933,-0.03848186401102001,-0.32930061650478093,2.2958952087568933,0.466505724210726,-0.7716409579262643,0.5784030178865545,-0.3085829845995051,1.0569521428997875,-0.021678681671287593,-0.15327032167682586,0.38532094024232333,1.624630133457499,1.6736838752131884,0.507620878463986,-1.3331888479271912,-0.008692936117062714,1.2755057690525256,0.8334251065844482,0.10786480563820008,-1.4328300955495161,0.6307401316199052,0.3757313710757838,-0.12381204243145601,2.444630116068402,1.2776539720839692,-0.2753571484946713,1.074406283764291,0.8935449560464446,0.8226339589212641,-0.3760182003569667,-0.5435492836183557,-1.204887322087643,-0.6063927925516598,-1.0747457830894218,0.2609786837151405,0.8486504892819745,-1.1875268382847586,0.7291652246195226,-0.2714729225650268,-0.3149788852602245,0.5933801088684901,-0.7001484527953258,0.31057113592398455,0.8941997046364684,0.696871322191756,0.9667732459813809,0.0795886917274917,1.4708668673386436,1.435440588634307,1.5617836556337106,-1.9930260097477197,0.33343907469044654,0.7127913736643632,0.43648801789717556,-0.48176628908925917,2.1851520391957804,-0.2831216918398867,1.5002057782776956,-0.7422075662104347,0.4674871043293601,1.487680377713003,-0.8109754686950558,1.1836151400260517,-3.2886518125876725,0.47420116098063736,0.4156506373988291,-1.4147882771469515,1.706363977610135,0.2884294207465923,0.14815841816801092,-0.6279943804082091,-0.5284554553268069,-1.3528423917747028,0.7441972948781518,-0.5380758183313948,-1.4680677526079209,0.42836894521875163,0.4874581159173152,-0.03322481239843942,-0.4362206070834838,-2.235968198210766,0.5219170909718297,0.7372645208846011,1.3745998157042327,-0.34707955390016204,-1.5015300123463025,1.0820404851499366,-0.526174680349923,1.1793021497147862,-0.10148494094334251,1.2444090645162498,2.236896752361946,0.4292984789795256,0.7317923794372792,-1.2032486736964108],\"type\":\"histogram\"}],                        {\"barmode\":\"overlay\",\"legend\":{\"bgcolor\":\"#F5F6F9\",\"font\":{\"color\":\"#4D5663\"}},\"paper_bgcolor\":\"#F5F6F9\",\"plot_bgcolor\":\"#F5F6F9\",\"template\":{\"data\":{\"barpolar\":[{\"marker\":{\"line\":{\"color\":\"#E5ECF6\",\"width\":0.5},\"pattern\":{\"fillmode\":\"overlay\",\"size\":10,\"solidity\":0.2}},\"type\":\"barpolar\"}],\"bar\":[{\"error_x\":{\"color\":\"#2a3f5f\"},\"error_y\":{\"color\":\"#2a3f5f\"},\"marker\":{\"line\":{\"color\":\"#E5ECF6\",\"width\":0.5},\"pattern\":{\"fillmode\":\"overlay\",\"size\":10,\"solidity\":0.2}},\"type\":\"bar\"}],\"carpet\":[{\"aaxis\":{\"endlinecolor\":\"#2a3f5f\",\"gridcolor\":\"white\",\"linecolor\":\"white\",\"minorgridcolor\":\"white\",\"startlinecolor\":\"#2a3f5f\"},\"baxis\":{\"endlinecolor\":\"#2a3f5f\",\"gridcolor\":\"white\",\"linecolor\":\"white\",\"minorgridcolor\":\"white\",\"startlinecolor\":\"#2a3f5f\"},\"type\":\"carpet\"}],\"choropleth\":[{\"colorbar\":{\"outlinewidth\":0,\"ticks\":\"\"},\"type\":\"choropleth\"}],\"contourcarpet\":[{\"colorbar\":{\"outlinewidth\":0,\"ticks\":\"\"},\"type\":\"contourcarpet\"}],\"contour\":[{\"colorbar\":{\"outlinewidth\":0,\"ticks\":\"\"},\"colorscale\":[[0.0,\"#0d0887\"],[0.1111111111111111,\"#46039f\"],[0.2222222222222222,\"#7201a8\"],[0.3333333333333333,\"#9c179e\"],[0.4444444444444444,\"#bd3786\"],[0.5555555555555556,\"#d8576b\"],[0.6666666666666666,\"#ed7953\"],[0.7777777777777778,\"#fb9f3a\"],[0.8888888888888888,\"#fdca26\"],[1.0,\"#f0f921\"]],\"type\":\"contour\"}],\"heatmapgl\":[{\"colorbar\":{\"outlinewidth\":0,\"ticks\":\"\"},\"colorscale\":[[0.0,\"#0d0887\"],[0.1111111111111111,\"#46039f\"],[0.2222222222222222,\"#7201a8\"],[0.3333333333333333,\"#9c179e\"],[0.4444444444444444,\"#bd3786\"],[0.5555555555555556,\"#d8576b\"],[0.6666666666666666,\"#ed7953\"],[0.7777777777777778,\"#fb9f3a\"],[0.8888888888888888,\"#fdca26\"],[1.0,\"#f0f921\"]],\"type\":\"heatmapgl\"}],\"heatmap\":[{\"colorbar\":{\"outlinewidth\":0,\"ticks\":\"\"},\"colorscale\":[[0.0,\"#0d0887\"],[0.1111111111111111,\"#46039f\"],[0.2222222222222222,\"#7201a8\"],[0.3333333333333333,\"#9c179e\"],[0.4444444444444444,\"#bd3786\"],[0.5555555555555556,\"#d8576b\"],[0.6666666666666666,\"#ed7953\"],[0.7777777777777778,\"#fb9f3a\"],[0.8888888888888888,\"#fdca26\"],[1.0,\"#f0f921\"]],\"type\":\"heatmap\"}],\"histogram2dcontour\":[{\"colorbar\":{\"outlinewidth\":0,\"ticks\":\"\"},\"colorscale\":[[0.0,\"#0d0887\"],[0.1111111111111111,\"#46039f\"],[0.2222222222222222,\"#7201a8\"],[0.3333333333333333,\"#9c179e\"],[0.4444444444444444,\"#bd3786\"],[0.5555555555555556,\"#d8576b\"],[0.6666666666666666,\"#ed7953\"],[0.7777777777777778,\"#fb9f3a\"],[0.8888888888888888,\"#fdca26\"],[1.0,\"#f0f921\"]],\"type\":\"histogram2dcontour\"}],\"histogram2d\":[{\"colorbar\":{\"outlinewidth\":0,\"ticks\":\"\"},\"colorscale\":[[0.0,\"#0d0887\"],[0.1111111111111111,\"#46039f\"],[0.2222222222222222,\"#7201a8\"],[0.3333333333333333,\"#9c179e\"],[0.4444444444444444,\"#bd3786\"],[0.5555555555555556,\"#d8576b\"],[0.6666666666666666,\"#ed7953\"],[0.7777777777777778,\"#fb9f3a\"],[0.8888888888888888,\"#fdca26\"],[1.0,\"#f0f921\"]],\"type\":\"histogram2d\"}],\"histogram\":[{\"marker\":{\"pattern\":{\"fillmode\":\"overlay\",\"size\":10,\"solidity\":0.2}},\"type\":\"histogram\"}],\"mesh3d\":[{\"colorbar\":{\"outlinewidth\":0,\"ticks\":\"\"},\"type\":\"mesh3d\"}],\"parcoords\":[{\"line\":{\"colorbar\":{\"outlinewidth\":0,\"ticks\":\"\"}},\"type\":\"parcoords\"}],\"pie\":[{\"automargin\":true,\"type\":\"pie\"}],\"scatter3d\":[{\"line\":{\"colorbar\":{\"outlinewidth\":0,\"ticks\":\"\"}},\"marker\":{\"colorbar\":{\"outlinewidth\":0,\"ticks\":\"\"}},\"type\":\"scatter3d\"}],\"scattercarpet\":[{\"marker\":{\"colorbar\":{\"outlinewidth\":0,\"ticks\":\"\"}},\"type\":\"scattercarpet\"}],\"scattergeo\":[{\"marker\":{\"colorbar\":{\"outlinewidth\":0,\"ticks\":\"\"}},\"type\":\"scattergeo\"}],\"scattergl\":[{\"marker\":{\"colorbar\":{\"outlinewidth\":0,\"ticks\":\"\"}},\"type\":\"scattergl\"}],\"scattermapbox\":[{\"marker\":{\"colorbar\":{\"outlinewidth\":0,\"ticks\":\"\"}},\"type\":\"scattermapbox\"}],\"scatterpolargl\":[{\"marker\":{\"colorbar\":{\"outlinewidth\":0,\"ticks\":\"\"}},\"type\":\"scatterpolargl\"}],\"scatterpolar\":[{\"marker\":{\"colorbar\":{\"outlinewidth\":0,\"ticks\":\"\"}},\"type\":\"scatterpolar\"}],\"scatter\":[{\"fillpattern\":{\"fillmode\":\"overlay\",\"size\":10,\"solidity\":0.2},\"type\":\"scatter\"}],\"scatterternary\":[{\"marker\":{\"colorbar\":{\"outlinewidth\":0,\"ticks\":\"\"}},\"type\":\"scatterternary\"}],\"surface\":[{\"colorbar\":{\"outlinewidth\":0,\"ticks\":\"\"},\"colorscale\":[[0.0,\"#0d0887\"],[0.1111111111111111,\"#46039f\"],[0.2222222222222222,\"#7201a8\"],[0.3333333333333333,\"#9c179e\"],[0.4444444444444444,\"#bd3786\"],[0.5555555555555556,\"#d8576b\"],[0.6666666666666666,\"#ed7953\"],[0.7777777777777778,\"#fb9f3a\"],[0.8888888888888888,\"#fdca26\"],[1.0,\"#f0f921\"]],\"type\":\"surface\"}],\"table\":[{\"cells\":{\"fill\":{\"color\":\"#EBF0F8\"},\"line\":{\"color\":\"white\"}},\"header\":{\"fill\":{\"color\":\"#C8D4E3\"},\"line\":{\"color\":\"white\"}},\"type\":\"table\"}]},\"layout\":{\"annotationdefaults\":{\"arrowcolor\":\"#2a3f5f\",\"arrowhead\":0,\"arrowwidth\":1},\"autotypenumbers\":\"strict\",\"coloraxis\":{\"colorbar\":{\"outlinewidth\":0,\"ticks\":\"\"}},\"colorscale\":{\"diverging\":[[0,\"#8e0152\"],[0.1,\"#c51b7d\"],[0.2,\"#de77ae\"],[0.3,\"#f1b6da\"],[0.4,\"#fde0ef\"],[0.5,\"#f7f7f7\"],[0.6,\"#e6f5d0\"],[0.7,\"#b8e186\"],[0.8,\"#7fbc41\"],[0.9,\"#4d9221\"],[1,\"#276419\"]],\"sequential\":[[0.0,\"#0d0887\"],[0.1111111111111111,\"#46039f\"],[0.2222222222222222,\"#7201a8\"],[0.3333333333333333,\"#9c179e\"],[0.4444444444444444,\"#bd3786\"],[0.5555555555555556,\"#d8576b\"],[0.6666666666666666,\"#ed7953\"],[0.7777777777777778,\"#fb9f3a\"],[0.8888888888888888,\"#fdca26\"],[1.0,\"#f0f921\"]],\"sequentialminus\":[[0.0,\"#0d0887\"],[0.1111111111111111,\"#46039f\"],[0.2222222222222222,\"#7201a8\"],[0.3333333333333333,\"#9c179e\"],[0.4444444444444444,\"#bd3786\"],[0.5555555555555556,\"#d8576b\"],[0.6666666666666666,\"#ed7953\"],[0.7777777777777778,\"#fb9f3a\"],[0.8888888888888888,\"#fdca26\"],[1.0,\"#f0f921\"]]},\"colorway\":[\"#636efa\",\"#EF553B\",\"#00cc96\",\"#ab63fa\",\"#FFA15A\",\"#19d3f3\",\"#FF6692\",\"#B6E880\",\"#FF97FF\",\"#FECB52\"],\"font\":{\"color\":\"#2a3f5f\"},\"geo\":{\"bgcolor\":\"white\",\"lakecolor\":\"white\",\"landcolor\":\"#E5ECF6\",\"showlakes\":true,\"showland\":true,\"subunitcolor\":\"white\"},\"hoverlabel\":{\"align\":\"left\"},\"hovermode\":\"closest\",\"mapbox\":{\"style\":\"light\"},\"paper_bgcolor\":\"white\",\"plot_bgcolor\":\"#E5ECF6\",\"polar\":{\"angularaxis\":{\"gridcolor\":\"white\",\"linecolor\":\"white\",\"ticks\":\"\"},\"bgcolor\":\"#E5ECF6\",\"radialaxis\":{\"gridcolor\":\"white\",\"linecolor\":\"white\",\"ticks\":\"\"}},\"scene\":{\"xaxis\":{\"backgroundcolor\":\"#E5ECF6\",\"gridcolor\":\"white\",\"gridwidth\":2,\"linecolor\":\"white\",\"showbackground\":true,\"ticks\":\"\",\"zerolinecolor\":\"white\"},\"yaxis\":{\"backgroundcolor\":\"#E5ECF6\",\"gridcolor\":\"white\",\"gridwidth\":2,\"linecolor\":\"white\",\"showbackground\":true,\"ticks\":\"\",\"zerolinecolor\":\"white\"},\"zaxis\":{\"backgroundcolor\":\"#E5ECF6\",\"gridcolor\":\"white\",\"gridwidth\":2,\"linecolor\":\"white\",\"showbackground\":true,\"ticks\":\"\",\"zerolinecolor\":\"white\"}},\"shapedefaults\":{\"line\":{\"color\":\"#2a3f5f\"}},\"ternary\":{\"aaxis\":{\"gridcolor\":\"white\",\"linecolor\":\"white\",\"ticks\":\"\"},\"baxis\":{\"gridcolor\":\"white\",\"linecolor\":\"white\",\"ticks\":\"\"},\"bgcolor\":\"#E5ECF6\",\"caxis\":{\"gridcolor\":\"white\",\"linecolor\":\"white\",\"ticks\":\"\"}},\"title\":{\"x\":0.05},\"xaxis\":{\"automargin\":true,\"gridcolor\":\"white\",\"linecolor\":\"white\",\"ticks\":\"\",\"title\":{\"standoff\":15},\"zerolinecolor\":\"white\",\"zerolinewidth\":2},\"yaxis\":{\"automargin\":true,\"gridcolor\":\"white\",\"linecolor\":\"white\",\"ticks\":\"\",\"title\":{\"standoff\":15},\"zerolinecolor\":\"white\",\"zerolinewidth\":2}}},\"title\":{\"font\":{\"color\":\"#4D5663\"}},\"xaxis\":{\"gridcolor\":\"#E1E5ED\",\"showgrid\":true,\"tickfont\":{\"color\":\"#4D5663\"},\"title\":{\"font\":{\"color\":\"#4D5663\"},\"text\":\"\"},\"zerolinecolor\":\"#E1E5ED\"},\"yaxis\":{\"gridcolor\":\"#E1E5ED\",\"showgrid\":true,\"tickfont\":{\"color\":\"#4D5663\"},\"title\":{\"font\":{\"color\":\"#4D5663\"},\"text\":\"\"},\"zerolinecolor\":\"#E1E5ED\"}},                        {\"showLink\": true, \"linkText\": \"Export to plot.ly\", \"plotlyServerURL\": \"https://plot.ly\", \"responsive\": true}                    ).then(function(){\n",
       "                            \n",
       "var gd = document.getElementById('fde5294a-9165-4d80-b909-1bd61ce94eee');\n",
       "var x = new MutationObserver(function (mutations, observer) {{\n",
       "        var display = window.getComputedStyle(gd).display;\n",
       "        if (!display || display === 'none') {{\n",
       "            console.log([gd, 'removed!']);\n",
       "            Plotly.purge(gd);\n",
       "            observer.disconnect();\n",
       "        }}\n",
       "}});\n",
       "\n",
       "// Listen for the removal of the full notebook cells\n",
       "var notebookContainer = gd.closest('#notebook-container');\n",
       "if (notebookContainer) {{\n",
       "    x.observe(notebookContainer, {childList: true});\n",
       "}}\n",
       "\n",
       "// Listen for the clearing of the current output cell\n",
       "var outputEl = gd.closest('.output');\n",
       "if (outputEl) {{\n",
       "    x.observe(outputEl, {childList: true});\n",
       "}}\n",
       "\n",
       "                        })                };                });            </script>        </div>"
      ]
     },
     "metadata": {},
     "output_type": "display_data"
    }
   ],
   "source": [
    "df.iplot(kind='hist')"
   ]
  },
  {
   "cell_type": "markdown",
   "id": "e75925e8",
   "metadata": {},
   "source": [
    "### Bubble"
   ]
  },
  {
   "cell_type": "code",
   "execution_count": 33,
   "id": "f02399ad",
   "metadata": {},
   "outputs": [
    {
     "data": {
      "application/vnd.plotly.v1+json": {
       "config": {
        "linkText": "Export to plot.ly",
        "plotlyServerURL": "https://plot.ly",
        "showLink": true
       },
       "data": [
        {
         "marker": {
          "color": [
           "rgb(255, 153, 51)",
           "rgb(55, 128, 191)",
           "rgb(50, 171, 96)",
           "rgb(128, 0, 128)",
           "rgb(219, 64, 82)",
           "rgb(0, 128, 128)",
           "rgb(255, 255, 51)",
           "rgb(128, 128, 0)",
           "rgb(251, 128, 114)",
           "rgb(128, 177, 211)"
          ],
          "line": {
           "width": 1.3
          },
          "size": [
           63,
           82,
           41,
           62,
           48,
           74,
           85,
           66,
           72,
           49,
           91,
           87,
           12,
           67,
           51,
           65,
           46,
           52,
           75,
           95,
           71,
           66,
           90,
           49,
           81,
           85,
           61,
           73,
           84,
           75,
           50,
           62,
           26,
           87,
           79,
           69,
           68,
           95,
           58,
           61,
           82,
           60,
           49,
           93,
           57,
           55,
           80,
           35,
           59,
           66,
           73,
           54,
           18,
           46,
           13,
           62,
           49,
           57,
           85,
           48,
           16,
           52,
           65,
           30,
           68,
           66,
           75,
           94,
           109,
           41,
           67,
           87,
           90,
           83,
           88,
           81,
           70,
           79,
           112,
           33,
           72,
           49,
           45,
           83,
           36,
           65,
           54,
           59,
           45,
           75,
           49,
           45,
           109,
           48,
           61,
           47,
           72,
           58,
           60,
           46
          ],
          "symbol": "circle"
         },
         "mode": "markers",
         "text": "",
         "type": "scatter",
         "x": [
          0.778457933302214,
          -0.9680449357550578,
          0.39359084183301096,
          -1.2394985928585338,
          -0.2164835093388013,
          -0.1356228708503378,
          -1.2521746730325765,
          -1.0835243246963888,
          0.6250752248509963,
          0.7718451818596955,
          0.4318676271026053,
          -0.8686984687467546,
          0.18229522144610463,
          -0.17752709417956644,
          -0.7853823575966619,
          -0.06893337907779387,
          -0.9466983840211649,
          -0.9221095109610769,
          1.5774648689521218,
          0.3930242065630447,
          0.8277738191842602,
          -0.8241508298553344,
          0.07495661144670138,
          -0.3590170031546842,
          1.2734557212058224,
          -1.504383022229239,
          -0.12596790196229846,
          0.6123225576918307,
          0.3426474625945798,
          0.846089362700548,
          1.3523055165355302,
          0.284811559971216,
          -1.6013083992544557,
          1.6679084568187605,
          1.5145816453277892,
          -0.0046250819630932315,
          -0.07829149222527237,
          0.9916207650528954,
          1.1145048640682926,
          -1.089729192815636,
          0.17314040189558932,
          -0.033796344362975864,
          0.07562690561269443,
          1.892594834465393,
          -1.8348706724093262,
          1.2584334190829263,
          0.17218282514485775,
          0.34213290139111757,
          -0.7402663222325283,
          -0.588544402128247,
          -0.27975100910657263,
          -0.36609359684194237,
          -0.8452472534162175,
          -0.4468861894570877,
          0.6034241098470298,
          3.1023651388360145,
          0.214644091222445,
          -0.8612338237196326,
          0.13263420361251016,
          -0.9710094581449149,
          0.7227469378577297,
          -0.7822128929376538,
          -0.22143889112664097,
          0.14416334626005273,
          -0.8833756073627672,
          1.2612268675473937,
          0.7928279434498183,
          -1.0251422302062176,
          -0.4536854547609093,
          -0.45958745335640483,
          0.5182900495849041,
          0.850977459520938,
          0.04421513310499319,
          -1.1175849668722495,
          -0.8030693507661488,
          1.92519394398426,
          0.7217912827510005,
          -0.3116468245019817,
          -1.750355552577647,
          -0.6873302147493952,
          1.5993325144520412,
          1.2093688325747638,
          0.7382608277486163,
          -0.01307177710019666,
          0.4249358964426604,
          1.8114662802257053,
          -0.23812364488121177,
          -0.04821109509459664,
          -0.47886446654041864,
          -0.4038921916964521,
          0.5091420384625585,
          0.4801272970933442,
          -0.48912145451354583,
          -1.147042924817787,
          -0.01032179386658933,
          0.1321566262110016,
          -0.384385463475132,
          1.2891000679608127,
          0.9391036286315693,
          1.0197304435884655
         ],
         "y": [
          -0.12418495906275873,
          0.5285054303759434,
          -0.6483376777606301,
          -0.2882240309938093,
          0.5736212497816112,
          2.239254267902068,
          -3.7132010957566717,
          -0.827361314325003,
          -0.07056871306249225,
          0.4485007765695378,
          -1.1425087248215398,
          0.713665370670025,
          -0.12237518106470253,
          -1.5779230985738613,
          -1.6518453654137415,
          0.7872739570953827,
          0.6696097676881092,
          0.12485407678766407,
          -0.2592731741227891,
          -0.6034697000193865,
          -0.1634147137662408,
          -0.9185909367956211,
          -1.5225614971140846,
          0.32708339513992823,
          -0.7881580126865311,
          -0.253793228203105,
          -0.20667844715897066,
          0.9083395167937691,
          0.48256960720999503,
          -0.9609842265734008,
          -0.9045949603882426,
          -0.8259097380548978,
          -0.4414993729915333,
          -0.2965042673868797,
          -1.8110254612575696,
          -0.6947125921837172,
          0.22518886816166567,
          0.9620639813793939,
          -1.4689365913873842,
          -0.5002907290334543,
          0.15554850993818742,
          1.0644877346151136,
          0.08741835263849135,
          -1.2266050665518022,
          0.009267372916793585,
          0.9365478847521909,
          -0.06849812894451411,
          0.572511977530958,
          0.2490562834386925,
          -0.7544740172893082,
          0.6270155247426541,
          0.4392751700611625,
          0.8876910389681761,
          0.6895447204388416,
          -0.08376221605853913,
          0.7519574530059915,
          0.7928931750275154,
          -0.07844246435307307,
          -0.6610778230711215,
          0.4710622226800591,
          -3.102751806348052,
          1.3879524318512182,
          -1.9793711097598718,
          0.08488617246516036,
          -1.6306338131169662,
          0.31209134076027195,
          1.527604855019396,
          2.0868502636121495,
          -0.41398376859852154,
          -0.5958562882694559,
          0.1407586248600635,
          1.1241522625681128,
          -0.7699943106290851,
          0.13748390446668632,
          -1.0344313621767662,
          1.589065501698242,
          -1.483419352532759,
          1.1109792033938501,
          0.6953782435953554,
          0.5181307791043384,
          1.3792400569088539,
          -0.19834484065509467,
          -1.6984989450444554,
          0.6454744077409759,
          1.156837525492291,
          -1.3392031859801345,
          -1.0476297371919077,
          0.8978011452694012,
          0.21692629572147912,
          -0.4597509119081817,
          0.19481940643523454,
          -0.08341557197324237,
          0.7726127026487843,
          -1.6792646825069584,
          -0.6350127596847416,
          1.0570017823937987,
          -1.0115000812255166,
          -1.5882588060836178,
          -1.8493217471273957,
          -1.1361901014810987
         ]
        }
       ],
       "layout": {
        "legend": {
         "bgcolor": "#F5F6F9",
         "font": {
          "color": "#4D5663"
         }
        },
        "paper_bgcolor": "#F5F6F9",
        "plot_bgcolor": "#F5F6F9",
        "template": {
         "data": {
          "bar": [
           {
            "error_x": {
             "color": "#2a3f5f"
            },
            "error_y": {
             "color": "#2a3f5f"
            },
            "marker": {
             "line": {
              "color": "#E5ECF6",
              "width": 0.5
             },
             "pattern": {
              "fillmode": "overlay",
              "size": 10,
              "solidity": 0.2
             }
            },
            "type": "bar"
           }
          ],
          "barpolar": [
           {
            "marker": {
             "line": {
              "color": "#E5ECF6",
              "width": 0.5
             },
             "pattern": {
              "fillmode": "overlay",
              "size": 10,
              "solidity": 0.2
             }
            },
            "type": "barpolar"
           }
          ],
          "carpet": [
           {
            "aaxis": {
             "endlinecolor": "#2a3f5f",
             "gridcolor": "white",
             "linecolor": "white",
             "minorgridcolor": "white",
             "startlinecolor": "#2a3f5f"
            },
            "baxis": {
             "endlinecolor": "#2a3f5f",
             "gridcolor": "white",
             "linecolor": "white",
             "minorgridcolor": "white",
             "startlinecolor": "#2a3f5f"
            },
            "type": "carpet"
           }
          ],
          "choropleth": [
           {
            "colorbar": {
             "outlinewidth": 0,
             "ticks": ""
            },
            "type": "choropleth"
           }
          ],
          "contour": [
           {
            "colorbar": {
             "outlinewidth": 0,
             "ticks": ""
            },
            "colorscale": [
             [
              0,
              "#0d0887"
             ],
             [
              0.1111111111111111,
              "#46039f"
             ],
             [
              0.2222222222222222,
              "#7201a8"
             ],
             [
              0.3333333333333333,
              "#9c179e"
             ],
             [
              0.4444444444444444,
              "#bd3786"
             ],
             [
              0.5555555555555556,
              "#d8576b"
             ],
             [
              0.6666666666666666,
              "#ed7953"
             ],
             [
              0.7777777777777778,
              "#fb9f3a"
             ],
             [
              0.8888888888888888,
              "#fdca26"
             ],
             [
              1,
              "#f0f921"
             ]
            ],
            "type": "contour"
           }
          ],
          "contourcarpet": [
           {
            "colorbar": {
             "outlinewidth": 0,
             "ticks": ""
            },
            "type": "contourcarpet"
           }
          ],
          "heatmap": [
           {
            "colorbar": {
             "outlinewidth": 0,
             "ticks": ""
            },
            "colorscale": [
             [
              0,
              "#0d0887"
             ],
             [
              0.1111111111111111,
              "#46039f"
             ],
             [
              0.2222222222222222,
              "#7201a8"
             ],
             [
              0.3333333333333333,
              "#9c179e"
             ],
             [
              0.4444444444444444,
              "#bd3786"
             ],
             [
              0.5555555555555556,
              "#d8576b"
             ],
             [
              0.6666666666666666,
              "#ed7953"
             ],
             [
              0.7777777777777778,
              "#fb9f3a"
             ],
             [
              0.8888888888888888,
              "#fdca26"
             ],
             [
              1,
              "#f0f921"
             ]
            ],
            "type": "heatmap"
           }
          ],
          "heatmapgl": [
           {
            "colorbar": {
             "outlinewidth": 0,
             "ticks": ""
            },
            "colorscale": [
             [
              0,
              "#0d0887"
             ],
             [
              0.1111111111111111,
              "#46039f"
             ],
             [
              0.2222222222222222,
              "#7201a8"
             ],
             [
              0.3333333333333333,
              "#9c179e"
             ],
             [
              0.4444444444444444,
              "#bd3786"
             ],
             [
              0.5555555555555556,
              "#d8576b"
             ],
             [
              0.6666666666666666,
              "#ed7953"
             ],
             [
              0.7777777777777778,
              "#fb9f3a"
             ],
             [
              0.8888888888888888,
              "#fdca26"
             ],
             [
              1,
              "#f0f921"
             ]
            ],
            "type": "heatmapgl"
           }
          ],
          "histogram": [
           {
            "marker": {
             "pattern": {
              "fillmode": "overlay",
              "size": 10,
              "solidity": 0.2
             }
            },
            "type": "histogram"
           }
          ],
          "histogram2d": [
           {
            "colorbar": {
             "outlinewidth": 0,
             "ticks": ""
            },
            "colorscale": [
             [
              0,
              "#0d0887"
             ],
             [
              0.1111111111111111,
              "#46039f"
             ],
             [
              0.2222222222222222,
              "#7201a8"
             ],
             [
              0.3333333333333333,
              "#9c179e"
             ],
             [
              0.4444444444444444,
              "#bd3786"
             ],
             [
              0.5555555555555556,
              "#d8576b"
             ],
             [
              0.6666666666666666,
              "#ed7953"
             ],
             [
              0.7777777777777778,
              "#fb9f3a"
             ],
             [
              0.8888888888888888,
              "#fdca26"
             ],
             [
              1,
              "#f0f921"
             ]
            ],
            "type": "histogram2d"
           }
          ],
          "histogram2dcontour": [
           {
            "colorbar": {
             "outlinewidth": 0,
             "ticks": ""
            },
            "colorscale": [
             [
              0,
              "#0d0887"
             ],
             [
              0.1111111111111111,
              "#46039f"
             ],
             [
              0.2222222222222222,
              "#7201a8"
             ],
             [
              0.3333333333333333,
              "#9c179e"
             ],
             [
              0.4444444444444444,
              "#bd3786"
             ],
             [
              0.5555555555555556,
              "#d8576b"
             ],
             [
              0.6666666666666666,
              "#ed7953"
             ],
             [
              0.7777777777777778,
              "#fb9f3a"
             ],
             [
              0.8888888888888888,
              "#fdca26"
             ],
             [
              1,
              "#f0f921"
             ]
            ],
            "type": "histogram2dcontour"
           }
          ],
          "mesh3d": [
           {
            "colorbar": {
             "outlinewidth": 0,
             "ticks": ""
            },
            "type": "mesh3d"
           }
          ],
          "parcoords": [
           {
            "line": {
             "colorbar": {
              "outlinewidth": 0,
              "ticks": ""
             }
            },
            "type": "parcoords"
           }
          ],
          "pie": [
           {
            "automargin": true,
            "type": "pie"
           }
          ],
          "scatter": [
           {
            "fillpattern": {
             "fillmode": "overlay",
             "size": 10,
             "solidity": 0.2
            },
            "type": "scatter"
           }
          ],
          "scatter3d": [
           {
            "line": {
             "colorbar": {
              "outlinewidth": 0,
              "ticks": ""
             }
            },
            "marker": {
             "colorbar": {
              "outlinewidth": 0,
              "ticks": ""
             }
            },
            "type": "scatter3d"
           }
          ],
          "scattercarpet": [
           {
            "marker": {
             "colorbar": {
              "outlinewidth": 0,
              "ticks": ""
             }
            },
            "type": "scattercarpet"
           }
          ],
          "scattergeo": [
           {
            "marker": {
             "colorbar": {
              "outlinewidth": 0,
              "ticks": ""
             }
            },
            "type": "scattergeo"
           }
          ],
          "scattergl": [
           {
            "marker": {
             "colorbar": {
              "outlinewidth": 0,
              "ticks": ""
             }
            },
            "type": "scattergl"
           }
          ],
          "scattermapbox": [
           {
            "marker": {
             "colorbar": {
              "outlinewidth": 0,
              "ticks": ""
             }
            },
            "type": "scattermapbox"
           }
          ],
          "scatterpolar": [
           {
            "marker": {
             "colorbar": {
              "outlinewidth": 0,
              "ticks": ""
             }
            },
            "type": "scatterpolar"
           }
          ],
          "scatterpolargl": [
           {
            "marker": {
             "colorbar": {
              "outlinewidth": 0,
              "ticks": ""
             }
            },
            "type": "scatterpolargl"
           }
          ],
          "scatterternary": [
           {
            "marker": {
             "colorbar": {
              "outlinewidth": 0,
              "ticks": ""
             }
            },
            "type": "scatterternary"
           }
          ],
          "surface": [
           {
            "colorbar": {
             "outlinewidth": 0,
             "ticks": ""
            },
            "colorscale": [
             [
              0,
              "#0d0887"
             ],
             [
              0.1111111111111111,
              "#46039f"
             ],
             [
              0.2222222222222222,
              "#7201a8"
             ],
             [
              0.3333333333333333,
              "#9c179e"
             ],
             [
              0.4444444444444444,
              "#bd3786"
             ],
             [
              0.5555555555555556,
              "#d8576b"
             ],
             [
              0.6666666666666666,
              "#ed7953"
             ],
             [
              0.7777777777777778,
              "#fb9f3a"
             ],
             [
              0.8888888888888888,
              "#fdca26"
             ],
             [
              1,
              "#f0f921"
             ]
            ],
            "type": "surface"
           }
          ],
          "table": [
           {
            "cells": {
             "fill": {
              "color": "#EBF0F8"
             },
             "line": {
              "color": "white"
             }
            },
            "header": {
             "fill": {
              "color": "#C8D4E3"
             },
             "line": {
              "color": "white"
             }
            },
            "type": "table"
           }
          ]
         },
         "layout": {
          "annotationdefaults": {
           "arrowcolor": "#2a3f5f",
           "arrowhead": 0,
           "arrowwidth": 1
          },
          "autotypenumbers": "strict",
          "coloraxis": {
           "colorbar": {
            "outlinewidth": 0,
            "ticks": ""
           }
          },
          "colorscale": {
           "diverging": [
            [
             0,
             "#8e0152"
            ],
            [
             0.1,
             "#c51b7d"
            ],
            [
             0.2,
             "#de77ae"
            ],
            [
             0.3,
             "#f1b6da"
            ],
            [
             0.4,
             "#fde0ef"
            ],
            [
             0.5,
             "#f7f7f7"
            ],
            [
             0.6,
             "#e6f5d0"
            ],
            [
             0.7,
             "#b8e186"
            ],
            [
             0.8,
             "#7fbc41"
            ],
            [
             0.9,
             "#4d9221"
            ],
            [
             1,
             "#276419"
            ]
           ],
           "sequential": [
            [
             0,
             "#0d0887"
            ],
            [
             0.1111111111111111,
             "#46039f"
            ],
            [
             0.2222222222222222,
             "#7201a8"
            ],
            [
             0.3333333333333333,
             "#9c179e"
            ],
            [
             0.4444444444444444,
             "#bd3786"
            ],
            [
             0.5555555555555556,
             "#d8576b"
            ],
            [
             0.6666666666666666,
             "#ed7953"
            ],
            [
             0.7777777777777778,
             "#fb9f3a"
            ],
            [
             0.8888888888888888,
             "#fdca26"
            ],
            [
             1,
             "#f0f921"
            ]
           ],
           "sequentialminus": [
            [
             0,
             "#0d0887"
            ],
            [
             0.1111111111111111,
             "#46039f"
            ],
            [
             0.2222222222222222,
             "#7201a8"
            ],
            [
             0.3333333333333333,
             "#9c179e"
            ],
            [
             0.4444444444444444,
             "#bd3786"
            ],
            [
             0.5555555555555556,
             "#d8576b"
            ],
            [
             0.6666666666666666,
             "#ed7953"
            ],
            [
             0.7777777777777778,
             "#fb9f3a"
            ],
            [
             0.8888888888888888,
             "#fdca26"
            ],
            [
             1,
             "#f0f921"
            ]
           ]
          },
          "colorway": [
           "#636efa",
           "#EF553B",
           "#00cc96",
           "#ab63fa",
           "#FFA15A",
           "#19d3f3",
           "#FF6692",
           "#B6E880",
           "#FF97FF",
           "#FECB52"
          ],
          "font": {
           "color": "#2a3f5f"
          },
          "geo": {
           "bgcolor": "white",
           "lakecolor": "white",
           "landcolor": "#E5ECF6",
           "showlakes": true,
           "showland": true,
           "subunitcolor": "white"
          },
          "hoverlabel": {
           "align": "left"
          },
          "hovermode": "closest",
          "mapbox": {
           "style": "light"
          },
          "paper_bgcolor": "white",
          "plot_bgcolor": "#E5ECF6",
          "polar": {
           "angularaxis": {
            "gridcolor": "white",
            "linecolor": "white",
            "ticks": ""
           },
           "bgcolor": "#E5ECF6",
           "radialaxis": {
            "gridcolor": "white",
            "linecolor": "white",
            "ticks": ""
           }
          },
          "scene": {
           "xaxis": {
            "backgroundcolor": "#E5ECF6",
            "gridcolor": "white",
            "gridwidth": 2,
            "linecolor": "white",
            "showbackground": true,
            "ticks": "",
            "zerolinecolor": "white"
           },
           "yaxis": {
            "backgroundcolor": "#E5ECF6",
            "gridcolor": "white",
            "gridwidth": 2,
            "linecolor": "white",
            "showbackground": true,
            "ticks": "",
            "zerolinecolor": "white"
           },
           "zaxis": {
            "backgroundcolor": "#E5ECF6",
            "gridcolor": "white",
            "gridwidth": 2,
            "linecolor": "white",
            "showbackground": true,
            "ticks": "",
            "zerolinecolor": "white"
           }
          },
          "shapedefaults": {
           "line": {
            "color": "#2a3f5f"
           }
          },
          "ternary": {
           "aaxis": {
            "gridcolor": "white",
            "linecolor": "white",
            "ticks": ""
           },
           "baxis": {
            "gridcolor": "white",
            "linecolor": "white",
            "ticks": ""
           },
           "bgcolor": "#E5ECF6",
           "caxis": {
            "gridcolor": "white",
            "linecolor": "white",
            "ticks": ""
           }
          },
          "title": {
           "x": 0.05
          },
          "xaxis": {
           "automargin": true,
           "gridcolor": "white",
           "linecolor": "white",
           "ticks": "",
           "title": {
            "standoff": 15
           },
           "zerolinecolor": "white",
           "zerolinewidth": 2
          },
          "yaxis": {
           "automargin": true,
           "gridcolor": "white",
           "linecolor": "white",
           "ticks": "",
           "title": {
            "standoff": 15
           },
           "zerolinecolor": "white",
           "zerolinewidth": 2
          }
         }
        },
        "title": {
         "font": {
          "color": "#4D5663"
         }
        },
        "xaxis": {
         "gridcolor": "#E1E5ED",
         "showgrid": true,
         "tickfont": {
          "color": "#4D5663"
         },
         "title": {
          "font": {
           "color": "#4D5663"
          },
          "text": ""
         },
         "zerolinecolor": "#E1E5ED"
        },
        "yaxis": {
         "gridcolor": "#E1E5ED",
         "showgrid": true,
         "tickfont": {
          "color": "#4D5663"
         },
         "title": {
          "font": {
           "color": "#4D5663"
          },
          "text": ""
         },
         "zerolinecolor": "#E1E5ED"
        }
       }
      },
      "text/html": [
       "<div>                            <div id=\"8acff8a6-dff5-4257-b320-67bf5d67f885\" class=\"plotly-graph-div\" style=\"height:525px; width:100%;\"></div>            <script type=\"text/javascript\">                require([\"plotly\"], function(Plotly) {                    window.PLOTLYENV=window.PLOTLYENV || {};\n",
       "                    window.PLOTLYENV.BASE_URL='https://plot.ly';                                    if (document.getElementById(\"8acff8a6-dff5-4257-b320-67bf5d67f885\")) {                    Plotly.newPlot(                        \"8acff8a6-dff5-4257-b320-67bf5d67f885\",                        [{\"marker\":{\"color\":[\"rgb(255, 153, 51)\",\"rgb(55, 128, 191)\",\"rgb(50, 171, 96)\",\"rgb(128, 0, 128)\",\"rgb(219, 64, 82)\",\"rgb(0, 128, 128)\",\"rgb(255, 255, 51)\",\"rgb(128, 128, 0)\",\"rgb(251, 128, 114)\",\"rgb(128, 177, 211)\"],\"line\":{\"width\":1.3},\"size\":[63,82,41,62,48,74,85,66,72,49,91,87,12,67,51,65,46,52,75,95,71,66,90,49,81,85,61,73,84,75,50,62,26,87,79,69,68,95,58,61,82,60,49,93,57,55,80,35,59,66,73,54,18,46,13,62,49,57,85,48,16,52,65,30,68,66,75,94,109,41,67,87,90,83,88,81,70,79,112,33,72,49,45,83,36,65,54,59,45,75,49,45,109,48,61,47,72,58,60,46],\"symbol\":\"circle\"},\"mode\":\"markers\",\"text\":\"\",\"x\":[0.778457933302214,-0.9680449357550578,0.39359084183301096,-1.2394985928585338,-0.2164835093388013,-0.1356228708503378,-1.2521746730325765,-1.0835243246963888,0.6250752248509963,0.7718451818596955,0.4318676271026053,-0.8686984687467546,0.18229522144610463,-0.17752709417956644,-0.7853823575966619,-0.06893337907779387,-0.9466983840211649,-0.9221095109610769,1.5774648689521218,0.3930242065630447,0.8277738191842602,-0.8241508298553344,0.07495661144670138,-0.3590170031546842,1.2734557212058224,-1.504383022229239,-0.12596790196229846,0.6123225576918307,0.3426474625945798,0.846089362700548,1.3523055165355302,0.284811559971216,-1.6013083992544557,1.6679084568187605,1.5145816453277892,-0.0046250819630932315,-0.07829149222527237,0.9916207650528954,1.1145048640682926,-1.089729192815636,0.17314040189558932,-0.033796344362975864,0.07562690561269443,1.892594834465393,-1.8348706724093262,1.2584334190829263,0.17218282514485775,0.34213290139111757,-0.7402663222325283,-0.588544402128247,-0.27975100910657263,-0.36609359684194237,-0.8452472534162175,-0.4468861894570877,0.6034241098470298,3.1023651388360145,0.214644091222445,-0.8612338237196326,0.13263420361251016,-0.9710094581449149,0.7227469378577297,-0.7822128929376538,-0.22143889112664097,0.14416334626005273,-0.8833756073627672,1.2612268675473937,0.7928279434498183,-1.0251422302062176,-0.4536854547609093,-0.45958745335640483,0.5182900495849041,0.850977459520938,0.04421513310499319,-1.1175849668722495,-0.8030693507661488,1.92519394398426,0.7217912827510005,-0.3116468245019817,-1.750355552577647,-0.6873302147493952,1.5993325144520412,1.2093688325747638,0.7382608277486163,-0.01307177710019666,0.4249358964426604,1.8114662802257053,-0.23812364488121177,-0.04821109509459664,-0.47886446654041864,-0.4038921916964521,0.5091420384625585,0.4801272970933442,-0.48912145451354583,-1.147042924817787,-0.01032179386658933,0.1321566262110016,-0.384385463475132,1.2891000679608127,0.9391036286315693,1.0197304435884655],\"y\":[-0.12418495906275873,0.5285054303759434,-0.6483376777606301,-0.2882240309938093,0.5736212497816112,2.239254267902068,-3.7132010957566717,-0.827361314325003,-0.07056871306249225,0.4485007765695378,-1.1425087248215398,0.713665370670025,-0.12237518106470253,-1.5779230985738613,-1.6518453654137415,0.7872739570953827,0.6696097676881092,0.12485407678766407,-0.2592731741227891,-0.6034697000193865,-0.1634147137662408,-0.9185909367956211,-1.5225614971140846,0.32708339513992823,-0.7881580126865311,-0.253793228203105,-0.20667844715897066,0.9083395167937691,0.48256960720999503,-0.9609842265734008,-0.9045949603882426,-0.8259097380548978,-0.4414993729915333,-0.2965042673868797,-1.8110254612575696,-0.6947125921837172,0.22518886816166567,0.9620639813793939,-1.4689365913873842,-0.5002907290334543,0.15554850993818742,1.0644877346151136,0.08741835263849135,-1.2266050665518022,0.009267372916793585,0.9365478847521909,-0.06849812894451411,0.572511977530958,0.2490562834386925,-0.7544740172893082,0.6270155247426541,0.4392751700611625,0.8876910389681761,0.6895447204388416,-0.08376221605853913,0.7519574530059915,0.7928931750275154,-0.07844246435307307,-0.6610778230711215,0.4710622226800591,-3.102751806348052,1.3879524318512182,-1.9793711097598718,0.08488617246516036,-1.6306338131169662,0.31209134076027195,1.527604855019396,2.0868502636121495,-0.41398376859852154,-0.5958562882694559,0.1407586248600635,1.1241522625681128,-0.7699943106290851,0.13748390446668632,-1.0344313621767662,1.589065501698242,-1.483419352532759,1.1109792033938501,0.6953782435953554,0.5181307791043384,1.3792400569088539,-0.19834484065509467,-1.6984989450444554,0.6454744077409759,1.156837525492291,-1.3392031859801345,-1.0476297371919077,0.8978011452694012,0.21692629572147912,-0.4597509119081817,0.19481940643523454,-0.08341557197324237,0.7726127026487843,-1.6792646825069584,-0.6350127596847416,1.0570017823937987,-1.0115000812255166,-1.5882588060836178,-1.8493217471273957,-1.1361901014810987],\"type\":\"scatter\"}],                        {\"legend\":{\"bgcolor\":\"#F5F6F9\",\"font\":{\"color\":\"#4D5663\"}},\"paper_bgcolor\":\"#F5F6F9\",\"plot_bgcolor\":\"#F5F6F9\",\"template\":{\"data\":{\"barpolar\":[{\"marker\":{\"line\":{\"color\":\"#E5ECF6\",\"width\":0.5},\"pattern\":{\"fillmode\":\"overlay\",\"size\":10,\"solidity\":0.2}},\"type\":\"barpolar\"}],\"bar\":[{\"error_x\":{\"color\":\"#2a3f5f\"},\"error_y\":{\"color\":\"#2a3f5f\"},\"marker\":{\"line\":{\"color\":\"#E5ECF6\",\"width\":0.5},\"pattern\":{\"fillmode\":\"overlay\",\"size\":10,\"solidity\":0.2}},\"type\":\"bar\"}],\"carpet\":[{\"aaxis\":{\"endlinecolor\":\"#2a3f5f\",\"gridcolor\":\"white\",\"linecolor\":\"white\",\"minorgridcolor\":\"white\",\"startlinecolor\":\"#2a3f5f\"},\"baxis\":{\"endlinecolor\":\"#2a3f5f\",\"gridcolor\":\"white\",\"linecolor\":\"white\",\"minorgridcolor\":\"white\",\"startlinecolor\":\"#2a3f5f\"},\"type\":\"carpet\"}],\"choropleth\":[{\"colorbar\":{\"outlinewidth\":0,\"ticks\":\"\"},\"type\":\"choropleth\"}],\"contourcarpet\":[{\"colorbar\":{\"outlinewidth\":0,\"ticks\":\"\"},\"type\":\"contourcarpet\"}],\"contour\":[{\"colorbar\":{\"outlinewidth\":0,\"ticks\":\"\"},\"colorscale\":[[0.0,\"#0d0887\"],[0.1111111111111111,\"#46039f\"],[0.2222222222222222,\"#7201a8\"],[0.3333333333333333,\"#9c179e\"],[0.4444444444444444,\"#bd3786\"],[0.5555555555555556,\"#d8576b\"],[0.6666666666666666,\"#ed7953\"],[0.7777777777777778,\"#fb9f3a\"],[0.8888888888888888,\"#fdca26\"],[1.0,\"#f0f921\"]],\"type\":\"contour\"}],\"heatmapgl\":[{\"colorbar\":{\"outlinewidth\":0,\"ticks\":\"\"},\"colorscale\":[[0.0,\"#0d0887\"],[0.1111111111111111,\"#46039f\"],[0.2222222222222222,\"#7201a8\"],[0.3333333333333333,\"#9c179e\"],[0.4444444444444444,\"#bd3786\"],[0.5555555555555556,\"#d8576b\"],[0.6666666666666666,\"#ed7953\"],[0.7777777777777778,\"#fb9f3a\"],[0.8888888888888888,\"#fdca26\"],[1.0,\"#f0f921\"]],\"type\":\"heatmapgl\"}],\"heatmap\":[{\"colorbar\":{\"outlinewidth\":0,\"ticks\":\"\"},\"colorscale\":[[0.0,\"#0d0887\"],[0.1111111111111111,\"#46039f\"],[0.2222222222222222,\"#7201a8\"],[0.3333333333333333,\"#9c179e\"],[0.4444444444444444,\"#bd3786\"],[0.5555555555555556,\"#d8576b\"],[0.6666666666666666,\"#ed7953\"],[0.7777777777777778,\"#fb9f3a\"],[0.8888888888888888,\"#fdca26\"],[1.0,\"#f0f921\"]],\"type\":\"heatmap\"}],\"histogram2dcontour\":[{\"colorbar\":{\"outlinewidth\":0,\"ticks\":\"\"},\"colorscale\":[[0.0,\"#0d0887\"],[0.1111111111111111,\"#46039f\"],[0.2222222222222222,\"#7201a8\"],[0.3333333333333333,\"#9c179e\"],[0.4444444444444444,\"#bd3786\"],[0.5555555555555556,\"#d8576b\"],[0.6666666666666666,\"#ed7953\"],[0.7777777777777778,\"#fb9f3a\"],[0.8888888888888888,\"#fdca26\"],[1.0,\"#f0f921\"]],\"type\":\"histogram2dcontour\"}],\"histogram2d\":[{\"colorbar\":{\"outlinewidth\":0,\"ticks\":\"\"},\"colorscale\":[[0.0,\"#0d0887\"],[0.1111111111111111,\"#46039f\"],[0.2222222222222222,\"#7201a8\"],[0.3333333333333333,\"#9c179e\"],[0.4444444444444444,\"#bd3786\"],[0.5555555555555556,\"#d8576b\"],[0.6666666666666666,\"#ed7953\"],[0.7777777777777778,\"#fb9f3a\"],[0.8888888888888888,\"#fdca26\"],[1.0,\"#f0f921\"]],\"type\":\"histogram2d\"}],\"histogram\":[{\"marker\":{\"pattern\":{\"fillmode\":\"overlay\",\"size\":10,\"solidity\":0.2}},\"type\":\"histogram\"}],\"mesh3d\":[{\"colorbar\":{\"outlinewidth\":0,\"ticks\":\"\"},\"type\":\"mesh3d\"}],\"parcoords\":[{\"line\":{\"colorbar\":{\"outlinewidth\":0,\"ticks\":\"\"}},\"type\":\"parcoords\"}],\"pie\":[{\"automargin\":true,\"type\":\"pie\"}],\"scatter3d\":[{\"line\":{\"colorbar\":{\"outlinewidth\":0,\"ticks\":\"\"}},\"marker\":{\"colorbar\":{\"outlinewidth\":0,\"ticks\":\"\"}},\"type\":\"scatter3d\"}],\"scattercarpet\":[{\"marker\":{\"colorbar\":{\"outlinewidth\":0,\"ticks\":\"\"}},\"type\":\"scattercarpet\"}],\"scattergeo\":[{\"marker\":{\"colorbar\":{\"outlinewidth\":0,\"ticks\":\"\"}},\"type\":\"scattergeo\"}],\"scattergl\":[{\"marker\":{\"colorbar\":{\"outlinewidth\":0,\"ticks\":\"\"}},\"type\":\"scattergl\"}],\"scattermapbox\":[{\"marker\":{\"colorbar\":{\"outlinewidth\":0,\"ticks\":\"\"}},\"type\":\"scattermapbox\"}],\"scatterpolargl\":[{\"marker\":{\"colorbar\":{\"outlinewidth\":0,\"ticks\":\"\"}},\"type\":\"scatterpolargl\"}],\"scatterpolar\":[{\"marker\":{\"colorbar\":{\"outlinewidth\":0,\"ticks\":\"\"}},\"type\":\"scatterpolar\"}],\"scatter\":[{\"fillpattern\":{\"fillmode\":\"overlay\",\"size\":10,\"solidity\":0.2},\"type\":\"scatter\"}],\"scatterternary\":[{\"marker\":{\"colorbar\":{\"outlinewidth\":0,\"ticks\":\"\"}},\"type\":\"scatterternary\"}],\"surface\":[{\"colorbar\":{\"outlinewidth\":0,\"ticks\":\"\"},\"colorscale\":[[0.0,\"#0d0887\"],[0.1111111111111111,\"#46039f\"],[0.2222222222222222,\"#7201a8\"],[0.3333333333333333,\"#9c179e\"],[0.4444444444444444,\"#bd3786\"],[0.5555555555555556,\"#d8576b\"],[0.6666666666666666,\"#ed7953\"],[0.7777777777777778,\"#fb9f3a\"],[0.8888888888888888,\"#fdca26\"],[1.0,\"#f0f921\"]],\"type\":\"surface\"}],\"table\":[{\"cells\":{\"fill\":{\"color\":\"#EBF0F8\"},\"line\":{\"color\":\"white\"}},\"header\":{\"fill\":{\"color\":\"#C8D4E3\"},\"line\":{\"color\":\"white\"}},\"type\":\"table\"}]},\"layout\":{\"annotationdefaults\":{\"arrowcolor\":\"#2a3f5f\",\"arrowhead\":0,\"arrowwidth\":1},\"autotypenumbers\":\"strict\",\"coloraxis\":{\"colorbar\":{\"outlinewidth\":0,\"ticks\":\"\"}},\"colorscale\":{\"diverging\":[[0,\"#8e0152\"],[0.1,\"#c51b7d\"],[0.2,\"#de77ae\"],[0.3,\"#f1b6da\"],[0.4,\"#fde0ef\"],[0.5,\"#f7f7f7\"],[0.6,\"#e6f5d0\"],[0.7,\"#b8e186\"],[0.8,\"#7fbc41\"],[0.9,\"#4d9221\"],[1,\"#276419\"]],\"sequential\":[[0.0,\"#0d0887\"],[0.1111111111111111,\"#46039f\"],[0.2222222222222222,\"#7201a8\"],[0.3333333333333333,\"#9c179e\"],[0.4444444444444444,\"#bd3786\"],[0.5555555555555556,\"#d8576b\"],[0.6666666666666666,\"#ed7953\"],[0.7777777777777778,\"#fb9f3a\"],[0.8888888888888888,\"#fdca26\"],[1.0,\"#f0f921\"]],\"sequentialminus\":[[0.0,\"#0d0887\"],[0.1111111111111111,\"#46039f\"],[0.2222222222222222,\"#7201a8\"],[0.3333333333333333,\"#9c179e\"],[0.4444444444444444,\"#bd3786\"],[0.5555555555555556,\"#d8576b\"],[0.6666666666666666,\"#ed7953\"],[0.7777777777777778,\"#fb9f3a\"],[0.8888888888888888,\"#fdca26\"],[1.0,\"#f0f921\"]]},\"colorway\":[\"#636efa\",\"#EF553B\",\"#00cc96\",\"#ab63fa\",\"#FFA15A\",\"#19d3f3\",\"#FF6692\",\"#B6E880\",\"#FF97FF\",\"#FECB52\"],\"font\":{\"color\":\"#2a3f5f\"},\"geo\":{\"bgcolor\":\"white\",\"lakecolor\":\"white\",\"landcolor\":\"#E5ECF6\",\"showlakes\":true,\"showland\":true,\"subunitcolor\":\"white\"},\"hoverlabel\":{\"align\":\"left\"},\"hovermode\":\"closest\",\"mapbox\":{\"style\":\"light\"},\"paper_bgcolor\":\"white\",\"plot_bgcolor\":\"#E5ECF6\",\"polar\":{\"angularaxis\":{\"gridcolor\":\"white\",\"linecolor\":\"white\",\"ticks\":\"\"},\"bgcolor\":\"#E5ECF6\",\"radialaxis\":{\"gridcolor\":\"white\",\"linecolor\":\"white\",\"ticks\":\"\"}},\"scene\":{\"xaxis\":{\"backgroundcolor\":\"#E5ECF6\",\"gridcolor\":\"white\",\"gridwidth\":2,\"linecolor\":\"white\",\"showbackground\":true,\"ticks\":\"\",\"zerolinecolor\":\"white\"},\"yaxis\":{\"backgroundcolor\":\"#E5ECF6\",\"gridcolor\":\"white\",\"gridwidth\":2,\"linecolor\":\"white\",\"showbackground\":true,\"ticks\":\"\",\"zerolinecolor\":\"white\"},\"zaxis\":{\"backgroundcolor\":\"#E5ECF6\",\"gridcolor\":\"white\",\"gridwidth\":2,\"linecolor\":\"white\",\"showbackground\":true,\"ticks\":\"\",\"zerolinecolor\":\"white\"}},\"shapedefaults\":{\"line\":{\"color\":\"#2a3f5f\"}},\"ternary\":{\"aaxis\":{\"gridcolor\":\"white\",\"linecolor\":\"white\",\"ticks\":\"\"},\"baxis\":{\"gridcolor\":\"white\",\"linecolor\":\"white\",\"ticks\":\"\"},\"bgcolor\":\"#E5ECF6\",\"caxis\":{\"gridcolor\":\"white\",\"linecolor\":\"white\",\"ticks\":\"\"}},\"title\":{\"x\":0.05},\"xaxis\":{\"automargin\":true,\"gridcolor\":\"white\",\"linecolor\":\"white\",\"ticks\":\"\",\"title\":{\"standoff\":15},\"zerolinecolor\":\"white\",\"zerolinewidth\":2},\"yaxis\":{\"automargin\":true,\"gridcolor\":\"white\",\"linecolor\":\"white\",\"ticks\":\"\",\"title\":{\"standoff\":15},\"zerolinecolor\":\"white\",\"zerolinewidth\":2}}},\"title\":{\"font\":{\"color\":\"#4D5663\"}},\"xaxis\":{\"gridcolor\":\"#E1E5ED\",\"showgrid\":true,\"tickfont\":{\"color\":\"#4D5663\"},\"title\":{\"font\":{\"color\":\"#4D5663\"},\"text\":\"\"},\"zerolinecolor\":\"#E1E5ED\"},\"yaxis\":{\"gridcolor\":\"#E1E5ED\",\"showgrid\":true,\"tickfont\":{\"color\":\"#4D5663\"},\"title\":{\"font\":{\"color\":\"#4D5663\"},\"text\":\"\"},\"zerolinecolor\":\"#E1E5ED\"}},                        {\"showLink\": true, \"linkText\": \"Export to plot.ly\", \"plotlyServerURL\": \"https://plot.ly\", \"responsive\": true}                    ).then(function(){\n",
       "                            \n",
       "var gd = document.getElementById('8acff8a6-dff5-4257-b320-67bf5d67f885');\n",
       "var x = new MutationObserver(function (mutations, observer) {{\n",
       "        var display = window.getComputedStyle(gd).display;\n",
       "        if (!display || display === 'none') {{\n",
       "            console.log([gd, 'removed!']);\n",
       "            Plotly.purge(gd);\n",
       "            observer.disconnect();\n",
       "        }}\n",
       "}});\n",
       "\n",
       "// Listen for the removal of the full notebook cells\n",
       "var notebookContainer = gd.closest('#notebook-container');\n",
       "if (notebookContainer) {{\n",
       "    x.observe(notebookContainer, {childList: true});\n",
       "}}\n",
       "\n",
       "// Listen for the clearing of the current output cell\n",
       "var outputEl = gd.closest('.output');\n",
       "if (outputEl) {{\n",
       "    x.observe(outputEl, {childList: true});\n",
       "}}\n",
       "\n",
       "                        })                };                });            </script>        </div>"
      ]
     },
     "metadata": {},
     "output_type": "display_data"
    }
   ],
   "source": [
    "df.iplot(kind='bubble', x='A', y='B', size='C')"
   ]
  },
  {
   "cell_type": "markdown",
   "id": "132c8281",
   "metadata": {},
   "source": [
    "### scatter_matrix()"
   ]
  },
  {
   "cell_type": "code",
   "execution_count": 34,
   "id": "4e755299",
   "metadata": {},
   "outputs": [
    {
     "data": {
      "application/vnd.plotly.v1+json": {
       "config": {
        "linkText": "Export to plot.ly",
        "plotlyServerURL": "https://plot.ly",
        "showLink": true
       },
       "data": [
        {
         "histfunc": "count",
         "histnorm": "",
         "marker": {
          "color": "rgba(255, 153, 51, 1.0)",
          "line": {
           "color": "#4D5663",
           "width": 1.3
          }
         },
         "name": "A",
         "nbinsx": 10,
         "opacity": 0.8,
         "orientation": "v",
         "type": "histogram",
         "x": [
          0.778457933302214,
          -0.9680449357550578,
          0.39359084183301096,
          -1.2394985928585338,
          -0.2164835093388013,
          -0.1356228708503378,
          -1.2521746730325765,
          -1.0835243246963888,
          0.6250752248509963,
          0.7718451818596955,
          0.4318676271026053,
          -0.8686984687467546,
          0.18229522144610463,
          -0.17752709417956644,
          -0.7853823575966619,
          -0.06893337907779387,
          -0.9466983840211649,
          -0.9221095109610769,
          1.5774648689521218,
          0.3930242065630447,
          0.8277738191842602,
          -0.8241508298553344,
          0.07495661144670138,
          -0.3590170031546842,
          1.2734557212058224,
          -1.504383022229239,
          -0.12596790196229846,
          0.6123225576918307,
          0.3426474625945798,
          0.846089362700548,
          1.3523055165355302,
          0.284811559971216,
          -1.6013083992544557,
          1.6679084568187605,
          1.5145816453277892,
          -0.0046250819630932315,
          -0.07829149222527237,
          0.9916207650528954,
          1.1145048640682926,
          -1.089729192815636,
          0.17314040189558932,
          -0.033796344362975864,
          0.07562690561269443,
          1.892594834465393,
          -1.8348706724093262,
          1.2584334190829263,
          0.17218282514485775,
          0.34213290139111757,
          -0.7402663222325283,
          -0.588544402128247,
          -0.27975100910657263,
          -0.36609359684194237,
          -0.8452472534162175,
          -0.4468861894570877,
          0.6034241098470298,
          3.1023651388360145,
          0.214644091222445,
          -0.8612338237196326,
          0.13263420361251016,
          -0.9710094581449149,
          0.7227469378577297,
          -0.7822128929376538,
          -0.22143889112664097,
          0.14416334626005273,
          -0.8833756073627672,
          1.2612268675473937,
          0.7928279434498183,
          -1.0251422302062176,
          -0.4536854547609093,
          -0.45958745335640483,
          0.5182900495849041,
          0.850977459520938,
          0.04421513310499319,
          -1.1175849668722495,
          -0.8030693507661488,
          1.92519394398426,
          0.7217912827510005,
          -0.3116468245019817,
          -1.750355552577647,
          -0.6873302147493952,
          1.5993325144520412,
          1.2093688325747638,
          0.7382608277486163,
          -0.01307177710019666,
          0.4249358964426604,
          1.8114662802257053,
          -0.23812364488121177,
          -0.04821109509459664,
          -0.47886446654041864,
          -0.4038921916964521,
          0.5091420384625585,
          0.4801272970933442,
          -0.48912145451354583,
          -1.147042924817787,
          -0.01032179386658933,
          0.1321566262110016,
          -0.384385463475132,
          1.2891000679608127,
          0.9391036286315693,
          1.0197304435884655
         ],
         "xaxis": "x",
         "yaxis": "y"
        },
        {
         "line": {
          "color": "rgba(128, 128, 128, 1.0)",
          "dash": "solid",
          "shape": "linear",
          "width": 1.3
         },
         "marker": {
          "size": 2,
          "symbol": "circle"
         },
         "mode": "markers",
         "name": "A",
         "text": "",
         "type": "scatter",
         "x": [
          -0.12418495906275873,
          0.5285054303759434,
          -0.6483376777606301,
          -0.2882240309938093,
          0.5736212497816112,
          2.239254267902068,
          -3.7132010957566717,
          -0.827361314325003,
          -0.07056871306249225,
          0.4485007765695378,
          -1.1425087248215398,
          0.713665370670025,
          -0.12237518106470253,
          -1.5779230985738613,
          -1.6518453654137415,
          0.7872739570953827,
          0.6696097676881092,
          0.12485407678766407,
          -0.2592731741227891,
          -0.6034697000193865,
          -0.1634147137662408,
          -0.9185909367956211,
          -1.5225614971140846,
          0.32708339513992823,
          -0.7881580126865311,
          -0.253793228203105,
          -0.20667844715897066,
          0.9083395167937691,
          0.48256960720999503,
          -0.9609842265734008,
          -0.9045949603882426,
          -0.8259097380548978,
          -0.4414993729915333,
          -0.2965042673868797,
          -1.8110254612575696,
          -0.6947125921837172,
          0.22518886816166567,
          0.9620639813793939,
          -1.4689365913873842,
          -0.5002907290334543,
          0.15554850993818742,
          1.0644877346151136,
          0.08741835263849135,
          -1.2266050665518022,
          0.009267372916793585,
          0.9365478847521909,
          -0.06849812894451411,
          0.572511977530958,
          0.2490562834386925,
          -0.7544740172893082,
          0.6270155247426541,
          0.4392751700611625,
          0.8876910389681761,
          0.6895447204388416,
          -0.08376221605853913,
          0.7519574530059915,
          0.7928931750275154,
          -0.07844246435307307,
          -0.6610778230711215,
          0.4710622226800591,
          -3.102751806348052,
          1.3879524318512182,
          -1.9793711097598718,
          0.08488617246516036,
          -1.6306338131169662,
          0.31209134076027195,
          1.527604855019396,
          2.0868502636121495,
          -0.41398376859852154,
          -0.5958562882694559,
          0.1407586248600635,
          1.1241522625681128,
          -0.7699943106290851,
          0.13748390446668632,
          -1.0344313621767662,
          1.589065501698242,
          -1.483419352532759,
          1.1109792033938501,
          0.6953782435953554,
          0.5181307791043384,
          1.3792400569088539,
          -0.19834484065509467,
          -1.6984989450444554,
          0.6454744077409759,
          1.156837525492291,
          -1.3392031859801345,
          -1.0476297371919077,
          0.8978011452694012,
          0.21692629572147912,
          -0.4597509119081817,
          0.19481940643523454,
          -0.08341557197324237,
          0.7726127026487843,
          -1.6792646825069584,
          -0.6350127596847416,
          1.0570017823937987,
          -1.0115000812255166,
          -1.5882588060836178,
          -1.8493217471273957,
          -1.1361901014810987
         ],
         "xaxis": "x2",
         "y": [
          0.778457933302214,
          -0.9680449357550578,
          0.39359084183301096,
          -1.2394985928585338,
          -0.2164835093388013,
          -0.1356228708503378,
          -1.2521746730325765,
          -1.0835243246963888,
          0.6250752248509963,
          0.7718451818596955,
          0.4318676271026053,
          -0.8686984687467546,
          0.18229522144610463,
          -0.17752709417956644,
          -0.7853823575966619,
          -0.06893337907779387,
          -0.9466983840211649,
          -0.9221095109610769,
          1.5774648689521218,
          0.3930242065630447,
          0.8277738191842602,
          -0.8241508298553344,
          0.07495661144670138,
          -0.3590170031546842,
          1.2734557212058224,
          -1.504383022229239,
          -0.12596790196229846,
          0.6123225576918307,
          0.3426474625945798,
          0.846089362700548,
          1.3523055165355302,
          0.284811559971216,
          -1.6013083992544557,
          1.6679084568187605,
          1.5145816453277892,
          -0.0046250819630932315,
          -0.07829149222527237,
          0.9916207650528954,
          1.1145048640682926,
          -1.089729192815636,
          0.17314040189558932,
          -0.033796344362975864,
          0.07562690561269443,
          1.892594834465393,
          -1.8348706724093262,
          1.2584334190829263,
          0.17218282514485775,
          0.34213290139111757,
          -0.7402663222325283,
          -0.588544402128247,
          -0.27975100910657263,
          -0.36609359684194237,
          -0.8452472534162175,
          -0.4468861894570877,
          0.6034241098470298,
          3.1023651388360145,
          0.214644091222445,
          -0.8612338237196326,
          0.13263420361251016,
          -0.9710094581449149,
          0.7227469378577297,
          -0.7822128929376538,
          -0.22143889112664097,
          0.14416334626005273,
          -0.8833756073627672,
          1.2612268675473937,
          0.7928279434498183,
          -1.0251422302062176,
          -0.4536854547609093,
          -0.45958745335640483,
          0.5182900495849041,
          0.850977459520938,
          0.04421513310499319,
          -1.1175849668722495,
          -0.8030693507661488,
          1.92519394398426,
          0.7217912827510005,
          -0.3116468245019817,
          -1.750355552577647,
          -0.6873302147493952,
          1.5993325144520412,
          1.2093688325747638,
          0.7382608277486163,
          -0.01307177710019666,
          0.4249358964426604,
          1.8114662802257053,
          -0.23812364488121177,
          -0.04821109509459664,
          -0.47886446654041864,
          -0.4038921916964521,
          0.5091420384625585,
          0.4801272970933442,
          -0.48912145451354583,
          -1.147042924817787,
          -0.01032179386658933,
          0.1321566262110016,
          -0.384385463475132,
          1.2891000679608127,
          0.9391036286315693,
          1.0197304435884655
         ],
         "yaxis": "y2"
        },
        {
         "line": {
          "color": "rgba(128, 128, 128, 1.0)",
          "dash": "solid",
          "shape": "linear",
          "width": 1.3
         },
         "marker": {
          "size": 2,
          "symbol": "circle"
         },
         "mode": "markers",
         "name": "A",
         "text": "",
         "type": "scatter",
         "x": [
          -0.03802047411749776,
          0.8773557408303123,
          -1.118725034659502,
          -0.10026853830176642,
          -0.7732404050535409,
          0.5046837399056341,
          1.0405541917419667,
          0.12608346116189315,
          0.40577463423542737,
          -0.7153215479409281,
          1.327560943752907,
          1.1656233384029329,
          -2.556184188197719,
          0.180403725260928,
          -0.6420497906812835,
          0.08261155402733383,
          -0.8722369739240854,
          -0.5958593510195808,
          0.5411573911111616,
          1.5574465766371541,
          0.35858615040219993,
          0.1359352618178365,
          1.2729618354111418,
          -0.724388992300664,
          0.8689737956283615,
          1.0324712942410976,
          -0.10856722968255036,
          0.47116535782786606,
          0.9854431855075556,
          0.5648817725467724,
          -0.6741775517296723,
          -0.08507260800209669,
          -1.8491296419326837,
          1.1585345801397426,
          0.7410669957381095,
          0.2377646618768121,
          0.19636956338180683,
          1.5272074918028045,
          -0.29867294983582043,
          -0.1412752058259444,
          0.9105342836340018,
          -0.16649235126773396,
          -0.7152579905771318,
          1.4136319519783282,
          -0.3128878018946804,
          -0.433290552957218,
          0.8179761999340025,
          -1.3827284215191413,
          -0.24279974102893276,
          0.11564818225015172,
          0.4496854850035945,
          -0.4559239150446873,
          -2.252429793836703,
          -0.8597249668399786,
          -2.460767890721159,
          -0.08821510633908855,
          -0.7027062778648545,
          -0.3130299866317652,
          1.0320592354230556,
          -0.777357882169852,
          -2.3438996888466708,
          -0.5605666594946894,
          0.06741236942830532,
          -1.649231246416628,
          0.22273379564641857,
          0.13066572471482163,
          0.5362449801226784,
          1.4914964504089971,
          2.2322188903267848,
          -1.112526390987042,
          0.1861509871569323,
          1.1601974306427612,
          1.2891048070459077,
          0.9421954734630205,
          1.175179094583278,
          0.8345503271306458,
          0.3124997756836522,
          0.7382997585383295,
          2.3441395948533015,
          -1.4850691091821289,
          0.3943088653341731,
          -0.7125698889211279,
          -0.9260100929069468,
          0.9521314338176424,
          -1.3468987254887934,
          0.07818695724198196,
          -0.48812591175553643,
          -0.22272894573145505,
          -0.8905830222532648,
          0.5555690475707767,
          -0.7112369108121137,
          -0.893619327106401,
          2.1987281322799466,
          -0.7478258734501629,
          -0.11900790060739504,
          -0.8285148541919645,
          0.3855746642174358,
          -0.29794909083781856,
          -0.16683726369167023,
          -0.8803568268703029
         ],
         "xaxis": "x3",
         "y": [
          0.778457933302214,
          -0.9680449357550578,
          0.39359084183301096,
          -1.2394985928585338,
          -0.2164835093388013,
          -0.1356228708503378,
          -1.2521746730325765,
          -1.0835243246963888,
          0.6250752248509963,
          0.7718451818596955,
          0.4318676271026053,
          -0.8686984687467546,
          0.18229522144610463,
          -0.17752709417956644,
          -0.7853823575966619,
          -0.06893337907779387,
          -0.9466983840211649,
          -0.9221095109610769,
          1.5774648689521218,
          0.3930242065630447,
          0.8277738191842602,
          -0.8241508298553344,
          0.07495661144670138,
          -0.3590170031546842,
          1.2734557212058224,
          -1.504383022229239,
          -0.12596790196229846,
          0.6123225576918307,
          0.3426474625945798,
          0.846089362700548,
          1.3523055165355302,
          0.284811559971216,
          -1.6013083992544557,
          1.6679084568187605,
          1.5145816453277892,
          -0.0046250819630932315,
          -0.07829149222527237,
          0.9916207650528954,
          1.1145048640682926,
          -1.089729192815636,
          0.17314040189558932,
          -0.033796344362975864,
          0.07562690561269443,
          1.892594834465393,
          -1.8348706724093262,
          1.2584334190829263,
          0.17218282514485775,
          0.34213290139111757,
          -0.7402663222325283,
          -0.588544402128247,
          -0.27975100910657263,
          -0.36609359684194237,
          -0.8452472534162175,
          -0.4468861894570877,
          0.6034241098470298,
          3.1023651388360145,
          0.214644091222445,
          -0.8612338237196326,
          0.13263420361251016,
          -0.9710094581449149,
          0.7227469378577297,
          -0.7822128929376538,
          -0.22143889112664097,
          0.14416334626005273,
          -0.8833756073627672,
          1.2612268675473937,
          0.7928279434498183,
          -1.0251422302062176,
          -0.4536854547609093,
          -0.45958745335640483,
          0.5182900495849041,
          0.850977459520938,
          0.04421513310499319,
          -1.1175849668722495,
          -0.8030693507661488,
          1.92519394398426,
          0.7217912827510005,
          -0.3116468245019817,
          -1.750355552577647,
          -0.6873302147493952,
          1.5993325144520412,
          1.2093688325747638,
          0.7382608277486163,
          -0.01307177710019666,
          0.4249358964426604,
          1.8114662802257053,
          -0.23812364488121177,
          -0.04821109509459664,
          -0.47886446654041864,
          -0.4038921916964521,
          0.5091420384625585,
          0.4801272970933442,
          -0.48912145451354583,
          -1.147042924817787,
          -0.01032179386658933,
          0.1321566262110016,
          -0.384385463475132,
          1.2891000679608127,
          0.9391036286315693,
          1.0197304435884655
         ],
         "yaxis": "y3"
        },
        {
         "line": {
          "color": "rgba(128, 128, 128, 1.0)",
          "dash": "solid",
          "shape": "linear",
          "width": 1.3
         },
         "marker": {
          "size": 2,
          "symbol": "circle"
         },
         "mode": "markers",
         "name": "A",
         "text": "",
         "type": "scatter",
         "x": [
          0.19364859956418953,
          0.18583207547663305,
          1.9923921588463627,
          1.3188125240482078,
          0.537805874410933,
          -0.03848186401102001,
          -0.32930061650478093,
          2.2958952087568933,
          0.466505724210726,
          -0.7716409579262643,
          0.5784030178865545,
          -0.3085829845995051,
          1.0569521428997875,
          -0.021678681671287593,
          -0.15327032167682586,
          0.38532094024232333,
          1.624630133457499,
          1.6736838752131884,
          0.507620878463986,
          -1.3331888479271912,
          -0.008692936117062714,
          1.2755057690525256,
          0.8334251065844482,
          0.10786480563820008,
          -1.4328300955495161,
          0.6307401316199052,
          0.3757313710757838,
          -0.12381204243145601,
          2.444630116068402,
          1.2776539720839692,
          -0.2753571484946713,
          1.074406283764291,
          0.8935449560464446,
          0.8226339589212641,
          -0.3760182003569667,
          -0.5435492836183557,
          -1.204887322087643,
          -0.6063927925516598,
          -1.0747457830894218,
          0.2609786837151405,
          0.8486504892819745,
          -1.1875268382847586,
          0.7291652246195226,
          -0.2714729225650268,
          -0.3149788852602245,
          0.5933801088684901,
          -0.7001484527953258,
          0.31057113592398455,
          0.8941997046364684,
          0.696871322191756,
          0.9667732459813809,
          0.0795886917274917,
          1.4708668673386436,
          1.435440588634307,
          1.5617836556337106,
          -1.9930260097477197,
          0.33343907469044654,
          0.7127913736643632,
          0.43648801789717556,
          -0.48176628908925917,
          2.1851520391957804,
          -0.2831216918398867,
          1.5002057782776956,
          -0.7422075662104347,
          0.4674871043293601,
          1.487680377713003,
          -0.8109754686950558,
          1.1836151400260517,
          -3.2886518125876725,
          0.47420116098063736,
          0.4156506373988291,
          -1.4147882771469515,
          1.706363977610135,
          0.2884294207465923,
          0.14815841816801092,
          -0.6279943804082091,
          -0.5284554553268069,
          -1.3528423917747028,
          0.7441972948781518,
          -0.5380758183313948,
          -1.4680677526079209,
          0.42836894521875163,
          0.4874581159173152,
          -0.03322481239843942,
          -0.4362206070834838,
          -2.235968198210766,
          0.5219170909718297,
          0.7372645208846011,
          1.3745998157042327,
          -0.34707955390016204,
          -1.5015300123463025,
          1.0820404851499366,
          -0.526174680349923,
          1.1793021497147862,
          -0.10148494094334251,
          1.2444090645162498,
          2.236896752361946,
          0.4292984789795256,
          0.7317923794372792,
          -1.2032486736964108
         ],
         "xaxis": "x4",
         "y": [
          0.778457933302214,
          -0.9680449357550578,
          0.39359084183301096,
          -1.2394985928585338,
          -0.2164835093388013,
          -0.1356228708503378,
          -1.2521746730325765,
          -1.0835243246963888,
          0.6250752248509963,
          0.7718451818596955,
          0.4318676271026053,
          -0.8686984687467546,
          0.18229522144610463,
          -0.17752709417956644,
          -0.7853823575966619,
          -0.06893337907779387,
          -0.9466983840211649,
          -0.9221095109610769,
          1.5774648689521218,
          0.3930242065630447,
          0.8277738191842602,
          -0.8241508298553344,
          0.07495661144670138,
          -0.3590170031546842,
          1.2734557212058224,
          -1.504383022229239,
          -0.12596790196229846,
          0.6123225576918307,
          0.3426474625945798,
          0.846089362700548,
          1.3523055165355302,
          0.284811559971216,
          -1.6013083992544557,
          1.6679084568187605,
          1.5145816453277892,
          -0.0046250819630932315,
          -0.07829149222527237,
          0.9916207650528954,
          1.1145048640682926,
          -1.089729192815636,
          0.17314040189558932,
          -0.033796344362975864,
          0.07562690561269443,
          1.892594834465393,
          -1.8348706724093262,
          1.2584334190829263,
          0.17218282514485775,
          0.34213290139111757,
          -0.7402663222325283,
          -0.588544402128247,
          -0.27975100910657263,
          -0.36609359684194237,
          -0.8452472534162175,
          -0.4468861894570877,
          0.6034241098470298,
          3.1023651388360145,
          0.214644091222445,
          -0.8612338237196326,
          0.13263420361251016,
          -0.9710094581449149,
          0.7227469378577297,
          -0.7822128929376538,
          -0.22143889112664097,
          0.14416334626005273,
          -0.8833756073627672,
          1.2612268675473937,
          0.7928279434498183,
          -1.0251422302062176,
          -0.4536854547609093,
          -0.45958745335640483,
          0.5182900495849041,
          0.850977459520938,
          0.04421513310499319,
          -1.1175849668722495,
          -0.8030693507661488,
          1.92519394398426,
          0.7217912827510005,
          -0.3116468245019817,
          -1.750355552577647,
          -0.6873302147493952,
          1.5993325144520412,
          1.2093688325747638,
          0.7382608277486163,
          -0.01307177710019666,
          0.4249358964426604,
          1.8114662802257053,
          -0.23812364488121177,
          -0.04821109509459664,
          -0.47886446654041864,
          -0.4038921916964521,
          0.5091420384625585,
          0.4801272970933442,
          -0.48912145451354583,
          -1.147042924817787,
          -0.01032179386658933,
          0.1321566262110016,
          -0.384385463475132,
          1.2891000679608127,
          0.9391036286315693,
          1.0197304435884655
         ],
         "yaxis": "y4"
        },
        {
         "line": {
          "color": "rgba(128, 128, 128, 1.0)",
          "dash": "solid",
          "shape": "linear",
          "width": 1.3
         },
         "marker": {
          "size": 2,
          "symbol": "circle"
         },
         "mode": "markers",
         "name": "B",
         "text": "",
         "type": "scatter",
         "x": [
          0.778457933302214,
          -0.9680449357550578,
          0.39359084183301096,
          -1.2394985928585338,
          -0.2164835093388013,
          -0.1356228708503378,
          -1.2521746730325765,
          -1.0835243246963888,
          0.6250752248509963,
          0.7718451818596955,
          0.4318676271026053,
          -0.8686984687467546,
          0.18229522144610463,
          -0.17752709417956644,
          -0.7853823575966619,
          -0.06893337907779387,
          -0.9466983840211649,
          -0.9221095109610769,
          1.5774648689521218,
          0.3930242065630447,
          0.8277738191842602,
          -0.8241508298553344,
          0.07495661144670138,
          -0.3590170031546842,
          1.2734557212058224,
          -1.504383022229239,
          -0.12596790196229846,
          0.6123225576918307,
          0.3426474625945798,
          0.846089362700548,
          1.3523055165355302,
          0.284811559971216,
          -1.6013083992544557,
          1.6679084568187605,
          1.5145816453277892,
          -0.0046250819630932315,
          -0.07829149222527237,
          0.9916207650528954,
          1.1145048640682926,
          -1.089729192815636,
          0.17314040189558932,
          -0.033796344362975864,
          0.07562690561269443,
          1.892594834465393,
          -1.8348706724093262,
          1.2584334190829263,
          0.17218282514485775,
          0.34213290139111757,
          -0.7402663222325283,
          -0.588544402128247,
          -0.27975100910657263,
          -0.36609359684194237,
          -0.8452472534162175,
          -0.4468861894570877,
          0.6034241098470298,
          3.1023651388360145,
          0.214644091222445,
          -0.8612338237196326,
          0.13263420361251016,
          -0.9710094581449149,
          0.7227469378577297,
          -0.7822128929376538,
          -0.22143889112664097,
          0.14416334626005273,
          -0.8833756073627672,
          1.2612268675473937,
          0.7928279434498183,
          -1.0251422302062176,
          -0.4536854547609093,
          -0.45958745335640483,
          0.5182900495849041,
          0.850977459520938,
          0.04421513310499319,
          -1.1175849668722495,
          -0.8030693507661488,
          1.92519394398426,
          0.7217912827510005,
          -0.3116468245019817,
          -1.750355552577647,
          -0.6873302147493952,
          1.5993325144520412,
          1.2093688325747638,
          0.7382608277486163,
          -0.01307177710019666,
          0.4249358964426604,
          1.8114662802257053,
          -0.23812364488121177,
          -0.04821109509459664,
          -0.47886446654041864,
          -0.4038921916964521,
          0.5091420384625585,
          0.4801272970933442,
          -0.48912145451354583,
          -1.147042924817787,
          -0.01032179386658933,
          0.1321566262110016,
          -0.384385463475132,
          1.2891000679608127,
          0.9391036286315693,
          1.0197304435884655
         ],
         "xaxis": "x5",
         "y": [
          -0.12418495906275873,
          0.5285054303759434,
          -0.6483376777606301,
          -0.2882240309938093,
          0.5736212497816112,
          2.239254267902068,
          -3.7132010957566717,
          -0.827361314325003,
          -0.07056871306249225,
          0.4485007765695378,
          -1.1425087248215398,
          0.713665370670025,
          -0.12237518106470253,
          -1.5779230985738613,
          -1.6518453654137415,
          0.7872739570953827,
          0.6696097676881092,
          0.12485407678766407,
          -0.2592731741227891,
          -0.6034697000193865,
          -0.1634147137662408,
          -0.9185909367956211,
          -1.5225614971140846,
          0.32708339513992823,
          -0.7881580126865311,
          -0.253793228203105,
          -0.20667844715897066,
          0.9083395167937691,
          0.48256960720999503,
          -0.9609842265734008,
          -0.9045949603882426,
          -0.8259097380548978,
          -0.4414993729915333,
          -0.2965042673868797,
          -1.8110254612575696,
          -0.6947125921837172,
          0.22518886816166567,
          0.9620639813793939,
          -1.4689365913873842,
          -0.5002907290334543,
          0.15554850993818742,
          1.0644877346151136,
          0.08741835263849135,
          -1.2266050665518022,
          0.009267372916793585,
          0.9365478847521909,
          -0.06849812894451411,
          0.572511977530958,
          0.2490562834386925,
          -0.7544740172893082,
          0.6270155247426541,
          0.4392751700611625,
          0.8876910389681761,
          0.6895447204388416,
          -0.08376221605853913,
          0.7519574530059915,
          0.7928931750275154,
          -0.07844246435307307,
          -0.6610778230711215,
          0.4710622226800591,
          -3.102751806348052,
          1.3879524318512182,
          -1.9793711097598718,
          0.08488617246516036,
          -1.6306338131169662,
          0.31209134076027195,
          1.527604855019396,
          2.0868502636121495,
          -0.41398376859852154,
          -0.5958562882694559,
          0.1407586248600635,
          1.1241522625681128,
          -0.7699943106290851,
          0.13748390446668632,
          -1.0344313621767662,
          1.589065501698242,
          -1.483419352532759,
          1.1109792033938501,
          0.6953782435953554,
          0.5181307791043384,
          1.3792400569088539,
          -0.19834484065509467,
          -1.6984989450444554,
          0.6454744077409759,
          1.156837525492291,
          -1.3392031859801345,
          -1.0476297371919077,
          0.8978011452694012,
          0.21692629572147912,
          -0.4597509119081817,
          0.19481940643523454,
          -0.08341557197324237,
          0.7726127026487843,
          -1.6792646825069584,
          -0.6350127596847416,
          1.0570017823937987,
          -1.0115000812255166,
          -1.5882588060836178,
          -1.8493217471273957,
          -1.1361901014810987
         ],
         "yaxis": "y5"
        },
        {
         "histfunc": "count",
         "histnorm": "",
         "marker": {
          "color": "rgba(55, 128, 191, 1.0)",
          "line": {
           "color": "#4D5663",
           "width": 1.3
          }
         },
         "name": "B",
         "nbinsx": 10,
         "opacity": 0.8,
         "orientation": "v",
         "type": "histogram",
         "x": [
          -0.12418495906275873,
          0.5285054303759434,
          -0.6483376777606301,
          -0.2882240309938093,
          0.5736212497816112,
          2.239254267902068,
          -3.7132010957566717,
          -0.827361314325003,
          -0.07056871306249225,
          0.4485007765695378,
          -1.1425087248215398,
          0.713665370670025,
          -0.12237518106470253,
          -1.5779230985738613,
          -1.6518453654137415,
          0.7872739570953827,
          0.6696097676881092,
          0.12485407678766407,
          -0.2592731741227891,
          -0.6034697000193865,
          -0.1634147137662408,
          -0.9185909367956211,
          -1.5225614971140846,
          0.32708339513992823,
          -0.7881580126865311,
          -0.253793228203105,
          -0.20667844715897066,
          0.9083395167937691,
          0.48256960720999503,
          -0.9609842265734008,
          -0.9045949603882426,
          -0.8259097380548978,
          -0.4414993729915333,
          -0.2965042673868797,
          -1.8110254612575696,
          -0.6947125921837172,
          0.22518886816166567,
          0.9620639813793939,
          -1.4689365913873842,
          -0.5002907290334543,
          0.15554850993818742,
          1.0644877346151136,
          0.08741835263849135,
          -1.2266050665518022,
          0.009267372916793585,
          0.9365478847521909,
          -0.06849812894451411,
          0.572511977530958,
          0.2490562834386925,
          -0.7544740172893082,
          0.6270155247426541,
          0.4392751700611625,
          0.8876910389681761,
          0.6895447204388416,
          -0.08376221605853913,
          0.7519574530059915,
          0.7928931750275154,
          -0.07844246435307307,
          -0.6610778230711215,
          0.4710622226800591,
          -3.102751806348052,
          1.3879524318512182,
          -1.9793711097598718,
          0.08488617246516036,
          -1.6306338131169662,
          0.31209134076027195,
          1.527604855019396,
          2.0868502636121495,
          -0.41398376859852154,
          -0.5958562882694559,
          0.1407586248600635,
          1.1241522625681128,
          -0.7699943106290851,
          0.13748390446668632,
          -1.0344313621767662,
          1.589065501698242,
          -1.483419352532759,
          1.1109792033938501,
          0.6953782435953554,
          0.5181307791043384,
          1.3792400569088539,
          -0.19834484065509467,
          -1.6984989450444554,
          0.6454744077409759,
          1.156837525492291,
          -1.3392031859801345,
          -1.0476297371919077,
          0.8978011452694012,
          0.21692629572147912,
          -0.4597509119081817,
          0.19481940643523454,
          -0.08341557197324237,
          0.7726127026487843,
          -1.6792646825069584,
          -0.6350127596847416,
          1.0570017823937987,
          -1.0115000812255166,
          -1.5882588060836178,
          -1.8493217471273957,
          -1.1361901014810987
         ],
         "xaxis": "x6",
         "yaxis": "y6"
        },
        {
         "line": {
          "color": "rgba(128, 128, 128, 1.0)",
          "dash": "solid",
          "shape": "linear",
          "width": 1.3
         },
         "marker": {
          "size": 2,
          "symbol": "circle"
         },
         "mode": "markers",
         "name": "B",
         "text": "",
         "type": "scatter",
         "x": [
          -0.03802047411749776,
          0.8773557408303123,
          -1.118725034659502,
          -0.10026853830176642,
          -0.7732404050535409,
          0.5046837399056341,
          1.0405541917419667,
          0.12608346116189315,
          0.40577463423542737,
          -0.7153215479409281,
          1.327560943752907,
          1.1656233384029329,
          -2.556184188197719,
          0.180403725260928,
          -0.6420497906812835,
          0.08261155402733383,
          -0.8722369739240854,
          -0.5958593510195808,
          0.5411573911111616,
          1.5574465766371541,
          0.35858615040219993,
          0.1359352618178365,
          1.2729618354111418,
          -0.724388992300664,
          0.8689737956283615,
          1.0324712942410976,
          -0.10856722968255036,
          0.47116535782786606,
          0.9854431855075556,
          0.5648817725467724,
          -0.6741775517296723,
          -0.08507260800209669,
          -1.8491296419326837,
          1.1585345801397426,
          0.7410669957381095,
          0.2377646618768121,
          0.19636956338180683,
          1.5272074918028045,
          -0.29867294983582043,
          -0.1412752058259444,
          0.9105342836340018,
          -0.16649235126773396,
          -0.7152579905771318,
          1.4136319519783282,
          -0.3128878018946804,
          -0.433290552957218,
          0.8179761999340025,
          -1.3827284215191413,
          -0.24279974102893276,
          0.11564818225015172,
          0.4496854850035945,
          -0.4559239150446873,
          -2.252429793836703,
          -0.8597249668399786,
          -2.460767890721159,
          -0.08821510633908855,
          -0.7027062778648545,
          -0.3130299866317652,
          1.0320592354230556,
          -0.777357882169852,
          -2.3438996888466708,
          -0.5605666594946894,
          0.06741236942830532,
          -1.649231246416628,
          0.22273379564641857,
          0.13066572471482163,
          0.5362449801226784,
          1.4914964504089971,
          2.2322188903267848,
          -1.112526390987042,
          0.1861509871569323,
          1.1601974306427612,
          1.2891048070459077,
          0.9421954734630205,
          1.175179094583278,
          0.8345503271306458,
          0.3124997756836522,
          0.7382997585383295,
          2.3441395948533015,
          -1.4850691091821289,
          0.3943088653341731,
          -0.7125698889211279,
          -0.9260100929069468,
          0.9521314338176424,
          -1.3468987254887934,
          0.07818695724198196,
          -0.48812591175553643,
          -0.22272894573145505,
          -0.8905830222532648,
          0.5555690475707767,
          -0.7112369108121137,
          -0.893619327106401,
          2.1987281322799466,
          -0.7478258734501629,
          -0.11900790060739504,
          -0.8285148541919645,
          0.3855746642174358,
          -0.29794909083781856,
          -0.16683726369167023,
          -0.8803568268703029
         ],
         "xaxis": "x7",
         "y": [
          -0.12418495906275873,
          0.5285054303759434,
          -0.6483376777606301,
          -0.2882240309938093,
          0.5736212497816112,
          2.239254267902068,
          -3.7132010957566717,
          -0.827361314325003,
          -0.07056871306249225,
          0.4485007765695378,
          -1.1425087248215398,
          0.713665370670025,
          -0.12237518106470253,
          -1.5779230985738613,
          -1.6518453654137415,
          0.7872739570953827,
          0.6696097676881092,
          0.12485407678766407,
          -0.2592731741227891,
          -0.6034697000193865,
          -0.1634147137662408,
          -0.9185909367956211,
          -1.5225614971140846,
          0.32708339513992823,
          -0.7881580126865311,
          -0.253793228203105,
          -0.20667844715897066,
          0.9083395167937691,
          0.48256960720999503,
          -0.9609842265734008,
          -0.9045949603882426,
          -0.8259097380548978,
          -0.4414993729915333,
          -0.2965042673868797,
          -1.8110254612575696,
          -0.6947125921837172,
          0.22518886816166567,
          0.9620639813793939,
          -1.4689365913873842,
          -0.5002907290334543,
          0.15554850993818742,
          1.0644877346151136,
          0.08741835263849135,
          -1.2266050665518022,
          0.009267372916793585,
          0.9365478847521909,
          -0.06849812894451411,
          0.572511977530958,
          0.2490562834386925,
          -0.7544740172893082,
          0.6270155247426541,
          0.4392751700611625,
          0.8876910389681761,
          0.6895447204388416,
          -0.08376221605853913,
          0.7519574530059915,
          0.7928931750275154,
          -0.07844246435307307,
          -0.6610778230711215,
          0.4710622226800591,
          -3.102751806348052,
          1.3879524318512182,
          -1.9793711097598718,
          0.08488617246516036,
          -1.6306338131169662,
          0.31209134076027195,
          1.527604855019396,
          2.0868502636121495,
          -0.41398376859852154,
          -0.5958562882694559,
          0.1407586248600635,
          1.1241522625681128,
          -0.7699943106290851,
          0.13748390446668632,
          -1.0344313621767662,
          1.589065501698242,
          -1.483419352532759,
          1.1109792033938501,
          0.6953782435953554,
          0.5181307791043384,
          1.3792400569088539,
          -0.19834484065509467,
          -1.6984989450444554,
          0.6454744077409759,
          1.156837525492291,
          -1.3392031859801345,
          -1.0476297371919077,
          0.8978011452694012,
          0.21692629572147912,
          -0.4597509119081817,
          0.19481940643523454,
          -0.08341557197324237,
          0.7726127026487843,
          -1.6792646825069584,
          -0.6350127596847416,
          1.0570017823937987,
          -1.0115000812255166,
          -1.5882588060836178,
          -1.8493217471273957,
          -1.1361901014810987
         ],
         "yaxis": "y7"
        },
        {
         "line": {
          "color": "rgba(128, 128, 128, 1.0)",
          "dash": "solid",
          "shape": "linear",
          "width": 1.3
         },
         "marker": {
          "size": 2,
          "symbol": "circle"
         },
         "mode": "markers",
         "name": "B",
         "text": "",
         "type": "scatter",
         "x": [
          0.19364859956418953,
          0.18583207547663305,
          1.9923921588463627,
          1.3188125240482078,
          0.537805874410933,
          -0.03848186401102001,
          -0.32930061650478093,
          2.2958952087568933,
          0.466505724210726,
          -0.7716409579262643,
          0.5784030178865545,
          -0.3085829845995051,
          1.0569521428997875,
          -0.021678681671287593,
          -0.15327032167682586,
          0.38532094024232333,
          1.624630133457499,
          1.6736838752131884,
          0.507620878463986,
          -1.3331888479271912,
          -0.008692936117062714,
          1.2755057690525256,
          0.8334251065844482,
          0.10786480563820008,
          -1.4328300955495161,
          0.6307401316199052,
          0.3757313710757838,
          -0.12381204243145601,
          2.444630116068402,
          1.2776539720839692,
          -0.2753571484946713,
          1.074406283764291,
          0.8935449560464446,
          0.8226339589212641,
          -0.3760182003569667,
          -0.5435492836183557,
          -1.204887322087643,
          -0.6063927925516598,
          -1.0747457830894218,
          0.2609786837151405,
          0.8486504892819745,
          -1.1875268382847586,
          0.7291652246195226,
          -0.2714729225650268,
          -0.3149788852602245,
          0.5933801088684901,
          -0.7001484527953258,
          0.31057113592398455,
          0.8941997046364684,
          0.696871322191756,
          0.9667732459813809,
          0.0795886917274917,
          1.4708668673386436,
          1.435440588634307,
          1.5617836556337106,
          -1.9930260097477197,
          0.33343907469044654,
          0.7127913736643632,
          0.43648801789717556,
          -0.48176628908925917,
          2.1851520391957804,
          -0.2831216918398867,
          1.5002057782776956,
          -0.7422075662104347,
          0.4674871043293601,
          1.487680377713003,
          -0.8109754686950558,
          1.1836151400260517,
          -3.2886518125876725,
          0.47420116098063736,
          0.4156506373988291,
          -1.4147882771469515,
          1.706363977610135,
          0.2884294207465923,
          0.14815841816801092,
          -0.6279943804082091,
          -0.5284554553268069,
          -1.3528423917747028,
          0.7441972948781518,
          -0.5380758183313948,
          -1.4680677526079209,
          0.42836894521875163,
          0.4874581159173152,
          -0.03322481239843942,
          -0.4362206070834838,
          -2.235968198210766,
          0.5219170909718297,
          0.7372645208846011,
          1.3745998157042327,
          -0.34707955390016204,
          -1.5015300123463025,
          1.0820404851499366,
          -0.526174680349923,
          1.1793021497147862,
          -0.10148494094334251,
          1.2444090645162498,
          2.236896752361946,
          0.4292984789795256,
          0.7317923794372792,
          -1.2032486736964108
         ],
         "xaxis": "x8",
         "y": [
          -0.12418495906275873,
          0.5285054303759434,
          -0.6483376777606301,
          -0.2882240309938093,
          0.5736212497816112,
          2.239254267902068,
          -3.7132010957566717,
          -0.827361314325003,
          -0.07056871306249225,
          0.4485007765695378,
          -1.1425087248215398,
          0.713665370670025,
          -0.12237518106470253,
          -1.5779230985738613,
          -1.6518453654137415,
          0.7872739570953827,
          0.6696097676881092,
          0.12485407678766407,
          -0.2592731741227891,
          -0.6034697000193865,
          -0.1634147137662408,
          -0.9185909367956211,
          -1.5225614971140846,
          0.32708339513992823,
          -0.7881580126865311,
          -0.253793228203105,
          -0.20667844715897066,
          0.9083395167937691,
          0.48256960720999503,
          -0.9609842265734008,
          -0.9045949603882426,
          -0.8259097380548978,
          -0.4414993729915333,
          -0.2965042673868797,
          -1.8110254612575696,
          -0.6947125921837172,
          0.22518886816166567,
          0.9620639813793939,
          -1.4689365913873842,
          -0.5002907290334543,
          0.15554850993818742,
          1.0644877346151136,
          0.08741835263849135,
          -1.2266050665518022,
          0.009267372916793585,
          0.9365478847521909,
          -0.06849812894451411,
          0.572511977530958,
          0.2490562834386925,
          -0.7544740172893082,
          0.6270155247426541,
          0.4392751700611625,
          0.8876910389681761,
          0.6895447204388416,
          -0.08376221605853913,
          0.7519574530059915,
          0.7928931750275154,
          -0.07844246435307307,
          -0.6610778230711215,
          0.4710622226800591,
          -3.102751806348052,
          1.3879524318512182,
          -1.9793711097598718,
          0.08488617246516036,
          -1.6306338131169662,
          0.31209134076027195,
          1.527604855019396,
          2.0868502636121495,
          -0.41398376859852154,
          -0.5958562882694559,
          0.1407586248600635,
          1.1241522625681128,
          -0.7699943106290851,
          0.13748390446668632,
          -1.0344313621767662,
          1.589065501698242,
          -1.483419352532759,
          1.1109792033938501,
          0.6953782435953554,
          0.5181307791043384,
          1.3792400569088539,
          -0.19834484065509467,
          -1.6984989450444554,
          0.6454744077409759,
          1.156837525492291,
          -1.3392031859801345,
          -1.0476297371919077,
          0.8978011452694012,
          0.21692629572147912,
          -0.4597509119081817,
          0.19481940643523454,
          -0.08341557197324237,
          0.7726127026487843,
          -1.6792646825069584,
          -0.6350127596847416,
          1.0570017823937987,
          -1.0115000812255166,
          -1.5882588060836178,
          -1.8493217471273957,
          -1.1361901014810987
         ],
         "yaxis": "y8"
        },
        {
         "line": {
          "color": "rgba(128, 128, 128, 1.0)",
          "dash": "solid",
          "shape": "linear",
          "width": 1.3
         },
         "marker": {
          "size": 2,
          "symbol": "circle"
         },
         "mode": "markers",
         "name": "C",
         "text": "",
         "type": "scatter",
         "x": [
          0.778457933302214,
          -0.9680449357550578,
          0.39359084183301096,
          -1.2394985928585338,
          -0.2164835093388013,
          -0.1356228708503378,
          -1.2521746730325765,
          -1.0835243246963888,
          0.6250752248509963,
          0.7718451818596955,
          0.4318676271026053,
          -0.8686984687467546,
          0.18229522144610463,
          -0.17752709417956644,
          -0.7853823575966619,
          -0.06893337907779387,
          -0.9466983840211649,
          -0.9221095109610769,
          1.5774648689521218,
          0.3930242065630447,
          0.8277738191842602,
          -0.8241508298553344,
          0.07495661144670138,
          -0.3590170031546842,
          1.2734557212058224,
          -1.504383022229239,
          -0.12596790196229846,
          0.6123225576918307,
          0.3426474625945798,
          0.846089362700548,
          1.3523055165355302,
          0.284811559971216,
          -1.6013083992544557,
          1.6679084568187605,
          1.5145816453277892,
          -0.0046250819630932315,
          -0.07829149222527237,
          0.9916207650528954,
          1.1145048640682926,
          -1.089729192815636,
          0.17314040189558932,
          -0.033796344362975864,
          0.07562690561269443,
          1.892594834465393,
          -1.8348706724093262,
          1.2584334190829263,
          0.17218282514485775,
          0.34213290139111757,
          -0.7402663222325283,
          -0.588544402128247,
          -0.27975100910657263,
          -0.36609359684194237,
          -0.8452472534162175,
          -0.4468861894570877,
          0.6034241098470298,
          3.1023651388360145,
          0.214644091222445,
          -0.8612338237196326,
          0.13263420361251016,
          -0.9710094581449149,
          0.7227469378577297,
          -0.7822128929376538,
          -0.22143889112664097,
          0.14416334626005273,
          -0.8833756073627672,
          1.2612268675473937,
          0.7928279434498183,
          -1.0251422302062176,
          -0.4536854547609093,
          -0.45958745335640483,
          0.5182900495849041,
          0.850977459520938,
          0.04421513310499319,
          -1.1175849668722495,
          -0.8030693507661488,
          1.92519394398426,
          0.7217912827510005,
          -0.3116468245019817,
          -1.750355552577647,
          -0.6873302147493952,
          1.5993325144520412,
          1.2093688325747638,
          0.7382608277486163,
          -0.01307177710019666,
          0.4249358964426604,
          1.8114662802257053,
          -0.23812364488121177,
          -0.04821109509459664,
          -0.47886446654041864,
          -0.4038921916964521,
          0.5091420384625585,
          0.4801272970933442,
          -0.48912145451354583,
          -1.147042924817787,
          -0.01032179386658933,
          0.1321566262110016,
          -0.384385463475132,
          1.2891000679608127,
          0.9391036286315693,
          1.0197304435884655
         ],
         "xaxis": "x9",
         "y": [
          -0.03802047411749776,
          0.8773557408303123,
          -1.118725034659502,
          -0.10026853830176642,
          -0.7732404050535409,
          0.5046837399056341,
          1.0405541917419667,
          0.12608346116189315,
          0.40577463423542737,
          -0.7153215479409281,
          1.327560943752907,
          1.1656233384029329,
          -2.556184188197719,
          0.180403725260928,
          -0.6420497906812835,
          0.08261155402733383,
          -0.8722369739240854,
          -0.5958593510195808,
          0.5411573911111616,
          1.5574465766371541,
          0.35858615040219993,
          0.1359352618178365,
          1.2729618354111418,
          -0.724388992300664,
          0.8689737956283615,
          1.0324712942410976,
          -0.10856722968255036,
          0.47116535782786606,
          0.9854431855075556,
          0.5648817725467724,
          -0.6741775517296723,
          -0.08507260800209669,
          -1.8491296419326837,
          1.1585345801397426,
          0.7410669957381095,
          0.2377646618768121,
          0.19636956338180683,
          1.5272074918028045,
          -0.29867294983582043,
          -0.1412752058259444,
          0.9105342836340018,
          -0.16649235126773396,
          -0.7152579905771318,
          1.4136319519783282,
          -0.3128878018946804,
          -0.433290552957218,
          0.8179761999340025,
          -1.3827284215191413,
          -0.24279974102893276,
          0.11564818225015172,
          0.4496854850035945,
          -0.4559239150446873,
          -2.252429793836703,
          -0.8597249668399786,
          -2.460767890721159,
          -0.08821510633908855,
          -0.7027062778648545,
          -0.3130299866317652,
          1.0320592354230556,
          -0.777357882169852,
          -2.3438996888466708,
          -0.5605666594946894,
          0.06741236942830532,
          -1.649231246416628,
          0.22273379564641857,
          0.13066572471482163,
          0.5362449801226784,
          1.4914964504089971,
          2.2322188903267848,
          -1.112526390987042,
          0.1861509871569323,
          1.1601974306427612,
          1.2891048070459077,
          0.9421954734630205,
          1.175179094583278,
          0.8345503271306458,
          0.3124997756836522,
          0.7382997585383295,
          2.3441395948533015,
          -1.4850691091821289,
          0.3943088653341731,
          -0.7125698889211279,
          -0.9260100929069468,
          0.9521314338176424,
          -1.3468987254887934,
          0.07818695724198196,
          -0.48812591175553643,
          -0.22272894573145505,
          -0.8905830222532648,
          0.5555690475707767,
          -0.7112369108121137,
          -0.893619327106401,
          2.1987281322799466,
          -0.7478258734501629,
          -0.11900790060739504,
          -0.8285148541919645,
          0.3855746642174358,
          -0.29794909083781856,
          -0.16683726369167023,
          -0.8803568268703029
         ],
         "yaxis": "y9"
        },
        {
         "line": {
          "color": "rgba(128, 128, 128, 1.0)",
          "dash": "solid",
          "shape": "linear",
          "width": 1.3
         },
         "marker": {
          "size": 2,
          "symbol": "circle"
         },
         "mode": "markers",
         "name": "C",
         "text": "",
         "type": "scatter",
         "x": [
          -0.12418495906275873,
          0.5285054303759434,
          -0.6483376777606301,
          -0.2882240309938093,
          0.5736212497816112,
          2.239254267902068,
          -3.7132010957566717,
          -0.827361314325003,
          -0.07056871306249225,
          0.4485007765695378,
          -1.1425087248215398,
          0.713665370670025,
          -0.12237518106470253,
          -1.5779230985738613,
          -1.6518453654137415,
          0.7872739570953827,
          0.6696097676881092,
          0.12485407678766407,
          -0.2592731741227891,
          -0.6034697000193865,
          -0.1634147137662408,
          -0.9185909367956211,
          -1.5225614971140846,
          0.32708339513992823,
          -0.7881580126865311,
          -0.253793228203105,
          -0.20667844715897066,
          0.9083395167937691,
          0.48256960720999503,
          -0.9609842265734008,
          -0.9045949603882426,
          -0.8259097380548978,
          -0.4414993729915333,
          -0.2965042673868797,
          -1.8110254612575696,
          -0.6947125921837172,
          0.22518886816166567,
          0.9620639813793939,
          -1.4689365913873842,
          -0.5002907290334543,
          0.15554850993818742,
          1.0644877346151136,
          0.08741835263849135,
          -1.2266050665518022,
          0.009267372916793585,
          0.9365478847521909,
          -0.06849812894451411,
          0.572511977530958,
          0.2490562834386925,
          -0.7544740172893082,
          0.6270155247426541,
          0.4392751700611625,
          0.8876910389681761,
          0.6895447204388416,
          -0.08376221605853913,
          0.7519574530059915,
          0.7928931750275154,
          -0.07844246435307307,
          -0.6610778230711215,
          0.4710622226800591,
          -3.102751806348052,
          1.3879524318512182,
          -1.9793711097598718,
          0.08488617246516036,
          -1.6306338131169662,
          0.31209134076027195,
          1.527604855019396,
          2.0868502636121495,
          -0.41398376859852154,
          -0.5958562882694559,
          0.1407586248600635,
          1.1241522625681128,
          -0.7699943106290851,
          0.13748390446668632,
          -1.0344313621767662,
          1.589065501698242,
          -1.483419352532759,
          1.1109792033938501,
          0.6953782435953554,
          0.5181307791043384,
          1.3792400569088539,
          -0.19834484065509467,
          -1.6984989450444554,
          0.6454744077409759,
          1.156837525492291,
          -1.3392031859801345,
          -1.0476297371919077,
          0.8978011452694012,
          0.21692629572147912,
          -0.4597509119081817,
          0.19481940643523454,
          -0.08341557197324237,
          0.7726127026487843,
          -1.6792646825069584,
          -0.6350127596847416,
          1.0570017823937987,
          -1.0115000812255166,
          -1.5882588060836178,
          -1.8493217471273957,
          -1.1361901014810987
         ],
         "xaxis": "x10",
         "y": [
          -0.03802047411749776,
          0.8773557408303123,
          -1.118725034659502,
          -0.10026853830176642,
          -0.7732404050535409,
          0.5046837399056341,
          1.0405541917419667,
          0.12608346116189315,
          0.40577463423542737,
          -0.7153215479409281,
          1.327560943752907,
          1.1656233384029329,
          -2.556184188197719,
          0.180403725260928,
          -0.6420497906812835,
          0.08261155402733383,
          -0.8722369739240854,
          -0.5958593510195808,
          0.5411573911111616,
          1.5574465766371541,
          0.35858615040219993,
          0.1359352618178365,
          1.2729618354111418,
          -0.724388992300664,
          0.8689737956283615,
          1.0324712942410976,
          -0.10856722968255036,
          0.47116535782786606,
          0.9854431855075556,
          0.5648817725467724,
          -0.6741775517296723,
          -0.08507260800209669,
          -1.8491296419326837,
          1.1585345801397426,
          0.7410669957381095,
          0.2377646618768121,
          0.19636956338180683,
          1.5272074918028045,
          -0.29867294983582043,
          -0.1412752058259444,
          0.9105342836340018,
          -0.16649235126773396,
          -0.7152579905771318,
          1.4136319519783282,
          -0.3128878018946804,
          -0.433290552957218,
          0.8179761999340025,
          -1.3827284215191413,
          -0.24279974102893276,
          0.11564818225015172,
          0.4496854850035945,
          -0.4559239150446873,
          -2.252429793836703,
          -0.8597249668399786,
          -2.460767890721159,
          -0.08821510633908855,
          -0.7027062778648545,
          -0.3130299866317652,
          1.0320592354230556,
          -0.777357882169852,
          -2.3438996888466708,
          -0.5605666594946894,
          0.06741236942830532,
          -1.649231246416628,
          0.22273379564641857,
          0.13066572471482163,
          0.5362449801226784,
          1.4914964504089971,
          2.2322188903267848,
          -1.112526390987042,
          0.1861509871569323,
          1.1601974306427612,
          1.2891048070459077,
          0.9421954734630205,
          1.175179094583278,
          0.8345503271306458,
          0.3124997756836522,
          0.7382997585383295,
          2.3441395948533015,
          -1.4850691091821289,
          0.3943088653341731,
          -0.7125698889211279,
          -0.9260100929069468,
          0.9521314338176424,
          -1.3468987254887934,
          0.07818695724198196,
          -0.48812591175553643,
          -0.22272894573145505,
          -0.8905830222532648,
          0.5555690475707767,
          -0.7112369108121137,
          -0.893619327106401,
          2.1987281322799466,
          -0.7478258734501629,
          -0.11900790060739504,
          -0.8285148541919645,
          0.3855746642174358,
          -0.29794909083781856,
          -0.16683726369167023,
          -0.8803568268703029
         ],
         "yaxis": "y10"
        },
        {
         "histfunc": "count",
         "histnorm": "",
         "marker": {
          "color": "rgba(50, 171, 96, 1.0)",
          "line": {
           "color": "#4D5663",
           "width": 1.3
          }
         },
         "name": "C",
         "nbinsx": 10,
         "opacity": 0.8,
         "orientation": "v",
         "type": "histogram",
         "x": [
          -0.03802047411749776,
          0.8773557408303123,
          -1.118725034659502,
          -0.10026853830176642,
          -0.7732404050535409,
          0.5046837399056341,
          1.0405541917419667,
          0.12608346116189315,
          0.40577463423542737,
          -0.7153215479409281,
          1.327560943752907,
          1.1656233384029329,
          -2.556184188197719,
          0.180403725260928,
          -0.6420497906812835,
          0.08261155402733383,
          -0.8722369739240854,
          -0.5958593510195808,
          0.5411573911111616,
          1.5574465766371541,
          0.35858615040219993,
          0.1359352618178365,
          1.2729618354111418,
          -0.724388992300664,
          0.8689737956283615,
          1.0324712942410976,
          -0.10856722968255036,
          0.47116535782786606,
          0.9854431855075556,
          0.5648817725467724,
          -0.6741775517296723,
          -0.08507260800209669,
          -1.8491296419326837,
          1.1585345801397426,
          0.7410669957381095,
          0.2377646618768121,
          0.19636956338180683,
          1.5272074918028045,
          -0.29867294983582043,
          -0.1412752058259444,
          0.9105342836340018,
          -0.16649235126773396,
          -0.7152579905771318,
          1.4136319519783282,
          -0.3128878018946804,
          -0.433290552957218,
          0.8179761999340025,
          -1.3827284215191413,
          -0.24279974102893276,
          0.11564818225015172,
          0.4496854850035945,
          -0.4559239150446873,
          -2.252429793836703,
          -0.8597249668399786,
          -2.460767890721159,
          -0.08821510633908855,
          -0.7027062778648545,
          -0.3130299866317652,
          1.0320592354230556,
          -0.777357882169852,
          -2.3438996888466708,
          -0.5605666594946894,
          0.06741236942830532,
          -1.649231246416628,
          0.22273379564641857,
          0.13066572471482163,
          0.5362449801226784,
          1.4914964504089971,
          2.2322188903267848,
          -1.112526390987042,
          0.1861509871569323,
          1.1601974306427612,
          1.2891048070459077,
          0.9421954734630205,
          1.175179094583278,
          0.8345503271306458,
          0.3124997756836522,
          0.7382997585383295,
          2.3441395948533015,
          -1.4850691091821289,
          0.3943088653341731,
          -0.7125698889211279,
          -0.9260100929069468,
          0.9521314338176424,
          -1.3468987254887934,
          0.07818695724198196,
          -0.48812591175553643,
          -0.22272894573145505,
          -0.8905830222532648,
          0.5555690475707767,
          -0.7112369108121137,
          -0.893619327106401,
          2.1987281322799466,
          -0.7478258734501629,
          -0.11900790060739504,
          -0.8285148541919645,
          0.3855746642174358,
          -0.29794909083781856,
          -0.16683726369167023,
          -0.8803568268703029
         ],
         "xaxis": "x11",
         "yaxis": "y11"
        },
        {
         "line": {
          "color": "rgba(128, 128, 128, 1.0)",
          "dash": "solid",
          "shape": "linear",
          "width": 1.3
         },
         "marker": {
          "size": 2,
          "symbol": "circle"
         },
         "mode": "markers",
         "name": "C",
         "text": "",
         "type": "scatter",
         "x": [
          0.19364859956418953,
          0.18583207547663305,
          1.9923921588463627,
          1.3188125240482078,
          0.537805874410933,
          -0.03848186401102001,
          -0.32930061650478093,
          2.2958952087568933,
          0.466505724210726,
          -0.7716409579262643,
          0.5784030178865545,
          -0.3085829845995051,
          1.0569521428997875,
          -0.021678681671287593,
          -0.15327032167682586,
          0.38532094024232333,
          1.624630133457499,
          1.6736838752131884,
          0.507620878463986,
          -1.3331888479271912,
          -0.008692936117062714,
          1.2755057690525256,
          0.8334251065844482,
          0.10786480563820008,
          -1.4328300955495161,
          0.6307401316199052,
          0.3757313710757838,
          -0.12381204243145601,
          2.444630116068402,
          1.2776539720839692,
          -0.2753571484946713,
          1.074406283764291,
          0.8935449560464446,
          0.8226339589212641,
          -0.3760182003569667,
          -0.5435492836183557,
          -1.204887322087643,
          -0.6063927925516598,
          -1.0747457830894218,
          0.2609786837151405,
          0.8486504892819745,
          -1.1875268382847586,
          0.7291652246195226,
          -0.2714729225650268,
          -0.3149788852602245,
          0.5933801088684901,
          -0.7001484527953258,
          0.31057113592398455,
          0.8941997046364684,
          0.696871322191756,
          0.9667732459813809,
          0.0795886917274917,
          1.4708668673386436,
          1.435440588634307,
          1.5617836556337106,
          -1.9930260097477197,
          0.33343907469044654,
          0.7127913736643632,
          0.43648801789717556,
          -0.48176628908925917,
          2.1851520391957804,
          -0.2831216918398867,
          1.5002057782776956,
          -0.7422075662104347,
          0.4674871043293601,
          1.487680377713003,
          -0.8109754686950558,
          1.1836151400260517,
          -3.2886518125876725,
          0.47420116098063736,
          0.4156506373988291,
          -1.4147882771469515,
          1.706363977610135,
          0.2884294207465923,
          0.14815841816801092,
          -0.6279943804082091,
          -0.5284554553268069,
          -1.3528423917747028,
          0.7441972948781518,
          -0.5380758183313948,
          -1.4680677526079209,
          0.42836894521875163,
          0.4874581159173152,
          -0.03322481239843942,
          -0.4362206070834838,
          -2.235968198210766,
          0.5219170909718297,
          0.7372645208846011,
          1.3745998157042327,
          -0.34707955390016204,
          -1.5015300123463025,
          1.0820404851499366,
          -0.526174680349923,
          1.1793021497147862,
          -0.10148494094334251,
          1.2444090645162498,
          2.236896752361946,
          0.4292984789795256,
          0.7317923794372792,
          -1.2032486736964108
         ],
         "xaxis": "x12",
         "y": [
          -0.03802047411749776,
          0.8773557408303123,
          -1.118725034659502,
          -0.10026853830176642,
          -0.7732404050535409,
          0.5046837399056341,
          1.0405541917419667,
          0.12608346116189315,
          0.40577463423542737,
          -0.7153215479409281,
          1.327560943752907,
          1.1656233384029329,
          -2.556184188197719,
          0.180403725260928,
          -0.6420497906812835,
          0.08261155402733383,
          -0.8722369739240854,
          -0.5958593510195808,
          0.5411573911111616,
          1.5574465766371541,
          0.35858615040219993,
          0.1359352618178365,
          1.2729618354111418,
          -0.724388992300664,
          0.8689737956283615,
          1.0324712942410976,
          -0.10856722968255036,
          0.47116535782786606,
          0.9854431855075556,
          0.5648817725467724,
          -0.6741775517296723,
          -0.08507260800209669,
          -1.8491296419326837,
          1.1585345801397426,
          0.7410669957381095,
          0.2377646618768121,
          0.19636956338180683,
          1.5272074918028045,
          -0.29867294983582043,
          -0.1412752058259444,
          0.9105342836340018,
          -0.16649235126773396,
          -0.7152579905771318,
          1.4136319519783282,
          -0.3128878018946804,
          -0.433290552957218,
          0.8179761999340025,
          -1.3827284215191413,
          -0.24279974102893276,
          0.11564818225015172,
          0.4496854850035945,
          -0.4559239150446873,
          -2.252429793836703,
          -0.8597249668399786,
          -2.460767890721159,
          -0.08821510633908855,
          -0.7027062778648545,
          -0.3130299866317652,
          1.0320592354230556,
          -0.777357882169852,
          -2.3438996888466708,
          -0.5605666594946894,
          0.06741236942830532,
          -1.649231246416628,
          0.22273379564641857,
          0.13066572471482163,
          0.5362449801226784,
          1.4914964504089971,
          2.2322188903267848,
          -1.112526390987042,
          0.1861509871569323,
          1.1601974306427612,
          1.2891048070459077,
          0.9421954734630205,
          1.175179094583278,
          0.8345503271306458,
          0.3124997756836522,
          0.7382997585383295,
          2.3441395948533015,
          -1.4850691091821289,
          0.3943088653341731,
          -0.7125698889211279,
          -0.9260100929069468,
          0.9521314338176424,
          -1.3468987254887934,
          0.07818695724198196,
          -0.48812591175553643,
          -0.22272894573145505,
          -0.8905830222532648,
          0.5555690475707767,
          -0.7112369108121137,
          -0.893619327106401,
          2.1987281322799466,
          -0.7478258734501629,
          -0.11900790060739504,
          -0.8285148541919645,
          0.3855746642174358,
          -0.29794909083781856,
          -0.16683726369167023,
          -0.8803568268703029
         ],
         "yaxis": "y12"
        },
        {
         "line": {
          "color": "rgba(128, 128, 128, 1.0)",
          "dash": "solid",
          "shape": "linear",
          "width": 1.3
         },
         "marker": {
          "size": 2,
          "symbol": "circle"
         },
         "mode": "markers",
         "name": "D",
         "text": "",
         "type": "scatter",
         "x": [
          0.778457933302214,
          -0.9680449357550578,
          0.39359084183301096,
          -1.2394985928585338,
          -0.2164835093388013,
          -0.1356228708503378,
          -1.2521746730325765,
          -1.0835243246963888,
          0.6250752248509963,
          0.7718451818596955,
          0.4318676271026053,
          -0.8686984687467546,
          0.18229522144610463,
          -0.17752709417956644,
          -0.7853823575966619,
          -0.06893337907779387,
          -0.9466983840211649,
          -0.9221095109610769,
          1.5774648689521218,
          0.3930242065630447,
          0.8277738191842602,
          -0.8241508298553344,
          0.07495661144670138,
          -0.3590170031546842,
          1.2734557212058224,
          -1.504383022229239,
          -0.12596790196229846,
          0.6123225576918307,
          0.3426474625945798,
          0.846089362700548,
          1.3523055165355302,
          0.284811559971216,
          -1.6013083992544557,
          1.6679084568187605,
          1.5145816453277892,
          -0.0046250819630932315,
          -0.07829149222527237,
          0.9916207650528954,
          1.1145048640682926,
          -1.089729192815636,
          0.17314040189558932,
          -0.033796344362975864,
          0.07562690561269443,
          1.892594834465393,
          -1.8348706724093262,
          1.2584334190829263,
          0.17218282514485775,
          0.34213290139111757,
          -0.7402663222325283,
          -0.588544402128247,
          -0.27975100910657263,
          -0.36609359684194237,
          -0.8452472534162175,
          -0.4468861894570877,
          0.6034241098470298,
          3.1023651388360145,
          0.214644091222445,
          -0.8612338237196326,
          0.13263420361251016,
          -0.9710094581449149,
          0.7227469378577297,
          -0.7822128929376538,
          -0.22143889112664097,
          0.14416334626005273,
          -0.8833756073627672,
          1.2612268675473937,
          0.7928279434498183,
          -1.0251422302062176,
          -0.4536854547609093,
          -0.45958745335640483,
          0.5182900495849041,
          0.850977459520938,
          0.04421513310499319,
          -1.1175849668722495,
          -0.8030693507661488,
          1.92519394398426,
          0.7217912827510005,
          -0.3116468245019817,
          -1.750355552577647,
          -0.6873302147493952,
          1.5993325144520412,
          1.2093688325747638,
          0.7382608277486163,
          -0.01307177710019666,
          0.4249358964426604,
          1.8114662802257053,
          -0.23812364488121177,
          -0.04821109509459664,
          -0.47886446654041864,
          -0.4038921916964521,
          0.5091420384625585,
          0.4801272970933442,
          -0.48912145451354583,
          -1.147042924817787,
          -0.01032179386658933,
          0.1321566262110016,
          -0.384385463475132,
          1.2891000679608127,
          0.9391036286315693,
          1.0197304435884655
         ],
         "xaxis": "x13",
         "y": [
          0.19364859956418953,
          0.18583207547663305,
          1.9923921588463627,
          1.3188125240482078,
          0.537805874410933,
          -0.03848186401102001,
          -0.32930061650478093,
          2.2958952087568933,
          0.466505724210726,
          -0.7716409579262643,
          0.5784030178865545,
          -0.3085829845995051,
          1.0569521428997875,
          -0.021678681671287593,
          -0.15327032167682586,
          0.38532094024232333,
          1.624630133457499,
          1.6736838752131884,
          0.507620878463986,
          -1.3331888479271912,
          -0.008692936117062714,
          1.2755057690525256,
          0.8334251065844482,
          0.10786480563820008,
          -1.4328300955495161,
          0.6307401316199052,
          0.3757313710757838,
          -0.12381204243145601,
          2.444630116068402,
          1.2776539720839692,
          -0.2753571484946713,
          1.074406283764291,
          0.8935449560464446,
          0.8226339589212641,
          -0.3760182003569667,
          -0.5435492836183557,
          -1.204887322087643,
          -0.6063927925516598,
          -1.0747457830894218,
          0.2609786837151405,
          0.8486504892819745,
          -1.1875268382847586,
          0.7291652246195226,
          -0.2714729225650268,
          -0.3149788852602245,
          0.5933801088684901,
          -0.7001484527953258,
          0.31057113592398455,
          0.8941997046364684,
          0.696871322191756,
          0.9667732459813809,
          0.0795886917274917,
          1.4708668673386436,
          1.435440588634307,
          1.5617836556337106,
          -1.9930260097477197,
          0.33343907469044654,
          0.7127913736643632,
          0.43648801789717556,
          -0.48176628908925917,
          2.1851520391957804,
          -0.2831216918398867,
          1.5002057782776956,
          -0.7422075662104347,
          0.4674871043293601,
          1.487680377713003,
          -0.8109754686950558,
          1.1836151400260517,
          -3.2886518125876725,
          0.47420116098063736,
          0.4156506373988291,
          -1.4147882771469515,
          1.706363977610135,
          0.2884294207465923,
          0.14815841816801092,
          -0.6279943804082091,
          -0.5284554553268069,
          -1.3528423917747028,
          0.7441972948781518,
          -0.5380758183313948,
          -1.4680677526079209,
          0.42836894521875163,
          0.4874581159173152,
          -0.03322481239843942,
          -0.4362206070834838,
          -2.235968198210766,
          0.5219170909718297,
          0.7372645208846011,
          1.3745998157042327,
          -0.34707955390016204,
          -1.5015300123463025,
          1.0820404851499366,
          -0.526174680349923,
          1.1793021497147862,
          -0.10148494094334251,
          1.2444090645162498,
          2.236896752361946,
          0.4292984789795256,
          0.7317923794372792,
          -1.2032486736964108
         ],
         "yaxis": "y13"
        },
        {
         "line": {
          "color": "rgba(128, 128, 128, 1.0)",
          "dash": "solid",
          "shape": "linear",
          "width": 1.3
         },
         "marker": {
          "size": 2,
          "symbol": "circle"
         },
         "mode": "markers",
         "name": "D",
         "text": "",
         "type": "scatter",
         "x": [
          -0.12418495906275873,
          0.5285054303759434,
          -0.6483376777606301,
          -0.2882240309938093,
          0.5736212497816112,
          2.239254267902068,
          -3.7132010957566717,
          -0.827361314325003,
          -0.07056871306249225,
          0.4485007765695378,
          -1.1425087248215398,
          0.713665370670025,
          -0.12237518106470253,
          -1.5779230985738613,
          -1.6518453654137415,
          0.7872739570953827,
          0.6696097676881092,
          0.12485407678766407,
          -0.2592731741227891,
          -0.6034697000193865,
          -0.1634147137662408,
          -0.9185909367956211,
          -1.5225614971140846,
          0.32708339513992823,
          -0.7881580126865311,
          -0.253793228203105,
          -0.20667844715897066,
          0.9083395167937691,
          0.48256960720999503,
          -0.9609842265734008,
          -0.9045949603882426,
          -0.8259097380548978,
          -0.4414993729915333,
          -0.2965042673868797,
          -1.8110254612575696,
          -0.6947125921837172,
          0.22518886816166567,
          0.9620639813793939,
          -1.4689365913873842,
          -0.5002907290334543,
          0.15554850993818742,
          1.0644877346151136,
          0.08741835263849135,
          -1.2266050665518022,
          0.009267372916793585,
          0.9365478847521909,
          -0.06849812894451411,
          0.572511977530958,
          0.2490562834386925,
          -0.7544740172893082,
          0.6270155247426541,
          0.4392751700611625,
          0.8876910389681761,
          0.6895447204388416,
          -0.08376221605853913,
          0.7519574530059915,
          0.7928931750275154,
          -0.07844246435307307,
          -0.6610778230711215,
          0.4710622226800591,
          -3.102751806348052,
          1.3879524318512182,
          -1.9793711097598718,
          0.08488617246516036,
          -1.6306338131169662,
          0.31209134076027195,
          1.527604855019396,
          2.0868502636121495,
          -0.41398376859852154,
          -0.5958562882694559,
          0.1407586248600635,
          1.1241522625681128,
          -0.7699943106290851,
          0.13748390446668632,
          -1.0344313621767662,
          1.589065501698242,
          -1.483419352532759,
          1.1109792033938501,
          0.6953782435953554,
          0.5181307791043384,
          1.3792400569088539,
          -0.19834484065509467,
          -1.6984989450444554,
          0.6454744077409759,
          1.156837525492291,
          -1.3392031859801345,
          -1.0476297371919077,
          0.8978011452694012,
          0.21692629572147912,
          -0.4597509119081817,
          0.19481940643523454,
          -0.08341557197324237,
          0.7726127026487843,
          -1.6792646825069584,
          -0.6350127596847416,
          1.0570017823937987,
          -1.0115000812255166,
          -1.5882588060836178,
          -1.8493217471273957,
          -1.1361901014810987
         ],
         "xaxis": "x14",
         "y": [
          0.19364859956418953,
          0.18583207547663305,
          1.9923921588463627,
          1.3188125240482078,
          0.537805874410933,
          -0.03848186401102001,
          -0.32930061650478093,
          2.2958952087568933,
          0.466505724210726,
          -0.7716409579262643,
          0.5784030178865545,
          -0.3085829845995051,
          1.0569521428997875,
          -0.021678681671287593,
          -0.15327032167682586,
          0.38532094024232333,
          1.624630133457499,
          1.6736838752131884,
          0.507620878463986,
          -1.3331888479271912,
          -0.008692936117062714,
          1.2755057690525256,
          0.8334251065844482,
          0.10786480563820008,
          -1.4328300955495161,
          0.6307401316199052,
          0.3757313710757838,
          -0.12381204243145601,
          2.444630116068402,
          1.2776539720839692,
          -0.2753571484946713,
          1.074406283764291,
          0.8935449560464446,
          0.8226339589212641,
          -0.3760182003569667,
          -0.5435492836183557,
          -1.204887322087643,
          -0.6063927925516598,
          -1.0747457830894218,
          0.2609786837151405,
          0.8486504892819745,
          -1.1875268382847586,
          0.7291652246195226,
          -0.2714729225650268,
          -0.3149788852602245,
          0.5933801088684901,
          -0.7001484527953258,
          0.31057113592398455,
          0.8941997046364684,
          0.696871322191756,
          0.9667732459813809,
          0.0795886917274917,
          1.4708668673386436,
          1.435440588634307,
          1.5617836556337106,
          -1.9930260097477197,
          0.33343907469044654,
          0.7127913736643632,
          0.43648801789717556,
          -0.48176628908925917,
          2.1851520391957804,
          -0.2831216918398867,
          1.5002057782776956,
          -0.7422075662104347,
          0.4674871043293601,
          1.487680377713003,
          -0.8109754686950558,
          1.1836151400260517,
          -3.2886518125876725,
          0.47420116098063736,
          0.4156506373988291,
          -1.4147882771469515,
          1.706363977610135,
          0.2884294207465923,
          0.14815841816801092,
          -0.6279943804082091,
          -0.5284554553268069,
          -1.3528423917747028,
          0.7441972948781518,
          -0.5380758183313948,
          -1.4680677526079209,
          0.42836894521875163,
          0.4874581159173152,
          -0.03322481239843942,
          -0.4362206070834838,
          -2.235968198210766,
          0.5219170909718297,
          0.7372645208846011,
          1.3745998157042327,
          -0.34707955390016204,
          -1.5015300123463025,
          1.0820404851499366,
          -0.526174680349923,
          1.1793021497147862,
          -0.10148494094334251,
          1.2444090645162498,
          2.236896752361946,
          0.4292984789795256,
          0.7317923794372792,
          -1.2032486736964108
         ],
         "yaxis": "y14"
        },
        {
         "line": {
          "color": "rgba(128, 128, 128, 1.0)",
          "dash": "solid",
          "shape": "linear",
          "width": 1.3
         },
         "marker": {
          "size": 2,
          "symbol": "circle"
         },
         "mode": "markers",
         "name": "D",
         "text": "",
         "type": "scatter",
         "x": [
          -0.03802047411749776,
          0.8773557408303123,
          -1.118725034659502,
          -0.10026853830176642,
          -0.7732404050535409,
          0.5046837399056341,
          1.0405541917419667,
          0.12608346116189315,
          0.40577463423542737,
          -0.7153215479409281,
          1.327560943752907,
          1.1656233384029329,
          -2.556184188197719,
          0.180403725260928,
          -0.6420497906812835,
          0.08261155402733383,
          -0.8722369739240854,
          -0.5958593510195808,
          0.5411573911111616,
          1.5574465766371541,
          0.35858615040219993,
          0.1359352618178365,
          1.2729618354111418,
          -0.724388992300664,
          0.8689737956283615,
          1.0324712942410976,
          -0.10856722968255036,
          0.47116535782786606,
          0.9854431855075556,
          0.5648817725467724,
          -0.6741775517296723,
          -0.08507260800209669,
          -1.8491296419326837,
          1.1585345801397426,
          0.7410669957381095,
          0.2377646618768121,
          0.19636956338180683,
          1.5272074918028045,
          -0.29867294983582043,
          -0.1412752058259444,
          0.9105342836340018,
          -0.16649235126773396,
          -0.7152579905771318,
          1.4136319519783282,
          -0.3128878018946804,
          -0.433290552957218,
          0.8179761999340025,
          -1.3827284215191413,
          -0.24279974102893276,
          0.11564818225015172,
          0.4496854850035945,
          -0.4559239150446873,
          -2.252429793836703,
          -0.8597249668399786,
          -2.460767890721159,
          -0.08821510633908855,
          -0.7027062778648545,
          -0.3130299866317652,
          1.0320592354230556,
          -0.777357882169852,
          -2.3438996888466708,
          -0.5605666594946894,
          0.06741236942830532,
          -1.649231246416628,
          0.22273379564641857,
          0.13066572471482163,
          0.5362449801226784,
          1.4914964504089971,
          2.2322188903267848,
          -1.112526390987042,
          0.1861509871569323,
          1.1601974306427612,
          1.2891048070459077,
          0.9421954734630205,
          1.175179094583278,
          0.8345503271306458,
          0.3124997756836522,
          0.7382997585383295,
          2.3441395948533015,
          -1.4850691091821289,
          0.3943088653341731,
          -0.7125698889211279,
          -0.9260100929069468,
          0.9521314338176424,
          -1.3468987254887934,
          0.07818695724198196,
          -0.48812591175553643,
          -0.22272894573145505,
          -0.8905830222532648,
          0.5555690475707767,
          -0.7112369108121137,
          -0.893619327106401,
          2.1987281322799466,
          -0.7478258734501629,
          -0.11900790060739504,
          -0.8285148541919645,
          0.3855746642174358,
          -0.29794909083781856,
          -0.16683726369167023,
          -0.8803568268703029
         ],
         "xaxis": "x15",
         "y": [
          0.19364859956418953,
          0.18583207547663305,
          1.9923921588463627,
          1.3188125240482078,
          0.537805874410933,
          -0.03848186401102001,
          -0.32930061650478093,
          2.2958952087568933,
          0.466505724210726,
          -0.7716409579262643,
          0.5784030178865545,
          -0.3085829845995051,
          1.0569521428997875,
          -0.021678681671287593,
          -0.15327032167682586,
          0.38532094024232333,
          1.624630133457499,
          1.6736838752131884,
          0.507620878463986,
          -1.3331888479271912,
          -0.008692936117062714,
          1.2755057690525256,
          0.8334251065844482,
          0.10786480563820008,
          -1.4328300955495161,
          0.6307401316199052,
          0.3757313710757838,
          -0.12381204243145601,
          2.444630116068402,
          1.2776539720839692,
          -0.2753571484946713,
          1.074406283764291,
          0.8935449560464446,
          0.8226339589212641,
          -0.3760182003569667,
          -0.5435492836183557,
          -1.204887322087643,
          -0.6063927925516598,
          -1.0747457830894218,
          0.2609786837151405,
          0.8486504892819745,
          -1.1875268382847586,
          0.7291652246195226,
          -0.2714729225650268,
          -0.3149788852602245,
          0.5933801088684901,
          -0.7001484527953258,
          0.31057113592398455,
          0.8941997046364684,
          0.696871322191756,
          0.9667732459813809,
          0.0795886917274917,
          1.4708668673386436,
          1.435440588634307,
          1.5617836556337106,
          -1.9930260097477197,
          0.33343907469044654,
          0.7127913736643632,
          0.43648801789717556,
          -0.48176628908925917,
          2.1851520391957804,
          -0.2831216918398867,
          1.5002057782776956,
          -0.7422075662104347,
          0.4674871043293601,
          1.487680377713003,
          -0.8109754686950558,
          1.1836151400260517,
          -3.2886518125876725,
          0.47420116098063736,
          0.4156506373988291,
          -1.4147882771469515,
          1.706363977610135,
          0.2884294207465923,
          0.14815841816801092,
          -0.6279943804082091,
          -0.5284554553268069,
          -1.3528423917747028,
          0.7441972948781518,
          -0.5380758183313948,
          -1.4680677526079209,
          0.42836894521875163,
          0.4874581159173152,
          -0.03322481239843942,
          -0.4362206070834838,
          -2.235968198210766,
          0.5219170909718297,
          0.7372645208846011,
          1.3745998157042327,
          -0.34707955390016204,
          -1.5015300123463025,
          1.0820404851499366,
          -0.526174680349923,
          1.1793021497147862,
          -0.10148494094334251,
          1.2444090645162498,
          2.236896752361946,
          0.4292984789795256,
          0.7317923794372792,
          -1.2032486736964108
         ],
         "yaxis": "y15"
        },
        {
         "histfunc": "count",
         "histnorm": "",
         "marker": {
          "color": "rgba(128, 0, 128, 1.0)",
          "line": {
           "color": "#4D5663",
           "width": 1.3
          }
         },
         "name": "D",
         "nbinsx": 10,
         "opacity": 0.8,
         "orientation": "v",
         "type": "histogram",
         "x": [
          0.19364859956418953,
          0.18583207547663305,
          1.9923921588463627,
          1.3188125240482078,
          0.537805874410933,
          -0.03848186401102001,
          -0.32930061650478093,
          2.2958952087568933,
          0.466505724210726,
          -0.7716409579262643,
          0.5784030178865545,
          -0.3085829845995051,
          1.0569521428997875,
          -0.021678681671287593,
          -0.15327032167682586,
          0.38532094024232333,
          1.624630133457499,
          1.6736838752131884,
          0.507620878463986,
          -1.3331888479271912,
          -0.008692936117062714,
          1.2755057690525256,
          0.8334251065844482,
          0.10786480563820008,
          -1.4328300955495161,
          0.6307401316199052,
          0.3757313710757838,
          -0.12381204243145601,
          2.444630116068402,
          1.2776539720839692,
          -0.2753571484946713,
          1.074406283764291,
          0.8935449560464446,
          0.8226339589212641,
          -0.3760182003569667,
          -0.5435492836183557,
          -1.204887322087643,
          -0.6063927925516598,
          -1.0747457830894218,
          0.2609786837151405,
          0.8486504892819745,
          -1.1875268382847586,
          0.7291652246195226,
          -0.2714729225650268,
          -0.3149788852602245,
          0.5933801088684901,
          -0.7001484527953258,
          0.31057113592398455,
          0.8941997046364684,
          0.696871322191756,
          0.9667732459813809,
          0.0795886917274917,
          1.4708668673386436,
          1.435440588634307,
          1.5617836556337106,
          -1.9930260097477197,
          0.33343907469044654,
          0.7127913736643632,
          0.43648801789717556,
          -0.48176628908925917,
          2.1851520391957804,
          -0.2831216918398867,
          1.5002057782776956,
          -0.7422075662104347,
          0.4674871043293601,
          1.487680377713003,
          -0.8109754686950558,
          1.1836151400260517,
          -3.2886518125876725,
          0.47420116098063736,
          0.4156506373988291,
          -1.4147882771469515,
          1.706363977610135,
          0.2884294207465923,
          0.14815841816801092,
          -0.6279943804082091,
          -0.5284554553268069,
          -1.3528423917747028,
          0.7441972948781518,
          -0.5380758183313948,
          -1.4680677526079209,
          0.42836894521875163,
          0.4874581159173152,
          -0.03322481239843942,
          -0.4362206070834838,
          -2.235968198210766,
          0.5219170909718297,
          0.7372645208846011,
          1.3745998157042327,
          -0.34707955390016204,
          -1.5015300123463025,
          1.0820404851499366,
          -0.526174680349923,
          1.1793021497147862,
          -0.10148494094334251,
          1.2444090645162498,
          2.236896752361946,
          0.4292984789795256,
          0.7317923794372792,
          -1.2032486736964108
         ],
         "xaxis": "x16",
         "yaxis": "y16"
        }
       ],
       "layout": {
        "bargap": 0.02,
        "legend": {
         "bgcolor": "#F5F6F9",
         "font": {
          "color": "#4D5663"
         }
        },
        "paper_bgcolor": "#F5F6F9",
        "plot_bgcolor": "#F5F6F9",
        "showlegend": false,
        "template": {
         "data": {
          "bar": [
           {
            "error_x": {
             "color": "#2a3f5f"
            },
            "error_y": {
             "color": "#2a3f5f"
            },
            "marker": {
             "line": {
              "color": "#E5ECF6",
              "width": 0.5
             },
             "pattern": {
              "fillmode": "overlay",
              "size": 10,
              "solidity": 0.2
             }
            },
            "type": "bar"
           }
          ],
          "barpolar": [
           {
            "marker": {
             "line": {
              "color": "#E5ECF6",
              "width": 0.5
             },
             "pattern": {
              "fillmode": "overlay",
              "size": 10,
              "solidity": 0.2
             }
            },
            "type": "barpolar"
           }
          ],
          "carpet": [
           {
            "aaxis": {
             "endlinecolor": "#2a3f5f",
             "gridcolor": "white",
             "linecolor": "white",
             "minorgridcolor": "white",
             "startlinecolor": "#2a3f5f"
            },
            "baxis": {
             "endlinecolor": "#2a3f5f",
             "gridcolor": "white",
             "linecolor": "white",
             "minorgridcolor": "white",
             "startlinecolor": "#2a3f5f"
            },
            "type": "carpet"
           }
          ],
          "choropleth": [
           {
            "colorbar": {
             "outlinewidth": 0,
             "ticks": ""
            },
            "type": "choropleth"
           }
          ],
          "contour": [
           {
            "colorbar": {
             "outlinewidth": 0,
             "ticks": ""
            },
            "colorscale": [
             [
              0,
              "#0d0887"
             ],
             [
              0.1111111111111111,
              "#46039f"
             ],
             [
              0.2222222222222222,
              "#7201a8"
             ],
             [
              0.3333333333333333,
              "#9c179e"
             ],
             [
              0.4444444444444444,
              "#bd3786"
             ],
             [
              0.5555555555555556,
              "#d8576b"
             ],
             [
              0.6666666666666666,
              "#ed7953"
             ],
             [
              0.7777777777777778,
              "#fb9f3a"
             ],
             [
              0.8888888888888888,
              "#fdca26"
             ],
             [
              1,
              "#f0f921"
             ]
            ],
            "type": "contour"
           }
          ],
          "contourcarpet": [
           {
            "colorbar": {
             "outlinewidth": 0,
             "ticks": ""
            },
            "type": "contourcarpet"
           }
          ],
          "heatmap": [
           {
            "colorbar": {
             "outlinewidth": 0,
             "ticks": ""
            },
            "colorscale": [
             [
              0,
              "#0d0887"
             ],
             [
              0.1111111111111111,
              "#46039f"
             ],
             [
              0.2222222222222222,
              "#7201a8"
             ],
             [
              0.3333333333333333,
              "#9c179e"
             ],
             [
              0.4444444444444444,
              "#bd3786"
             ],
             [
              0.5555555555555556,
              "#d8576b"
             ],
             [
              0.6666666666666666,
              "#ed7953"
             ],
             [
              0.7777777777777778,
              "#fb9f3a"
             ],
             [
              0.8888888888888888,
              "#fdca26"
             ],
             [
              1,
              "#f0f921"
             ]
            ],
            "type": "heatmap"
           }
          ],
          "heatmapgl": [
           {
            "colorbar": {
             "outlinewidth": 0,
             "ticks": ""
            },
            "colorscale": [
             [
              0,
              "#0d0887"
             ],
             [
              0.1111111111111111,
              "#46039f"
             ],
             [
              0.2222222222222222,
              "#7201a8"
             ],
             [
              0.3333333333333333,
              "#9c179e"
             ],
             [
              0.4444444444444444,
              "#bd3786"
             ],
             [
              0.5555555555555556,
              "#d8576b"
             ],
             [
              0.6666666666666666,
              "#ed7953"
             ],
             [
              0.7777777777777778,
              "#fb9f3a"
             ],
             [
              0.8888888888888888,
              "#fdca26"
             ],
             [
              1,
              "#f0f921"
             ]
            ],
            "type": "heatmapgl"
           }
          ],
          "histogram": [
           {
            "marker": {
             "pattern": {
              "fillmode": "overlay",
              "size": 10,
              "solidity": 0.2
             }
            },
            "type": "histogram"
           }
          ],
          "histogram2d": [
           {
            "colorbar": {
             "outlinewidth": 0,
             "ticks": ""
            },
            "colorscale": [
             [
              0,
              "#0d0887"
             ],
             [
              0.1111111111111111,
              "#46039f"
             ],
             [
              0.2222222222222222,
              "#7201a8"
             ],
             [
              0.3333333333333333,
              "#9c179e"
             ],
             [
              0.4444444444444444,
              "#bd3786"
             ],
             [
              0.5555555555555556,
              "#d8576b"
             ],
             [
              0.6666666666666666,
              "#ed7953"
             ],
             [
              0.7777777777777778,
              "#fb9f3a"
             ],
             [
              0.8888888888888888,
              "#fdca26"
             ],
             [
              1,
              "#f0f921"
             ]
            ],
            "type": "histogram2d"
           }
          ],
          "histogram2dcontour": [
           {
            "colorbar": {
             "outlinewidth": 0,
             "ticks": ""
            },
            "colorscale": [
             [
              0,
              "#0d0887"
             ],
             [
              0.1111111111111111,
              "#46039f"
             ],
             [
              0.2222222222222222,
              "#7201a8"
             ],
             [
              0.3333333333333333,
              "#9c179e"
             ],
             [
              0.4444444444444444,
              "#bd3786"
             ],
             [
              0.5555555555555556,
              "#d8576b"
             ],
             [
              0.6666666666666666,
              "#ed7953"
             ],
             [
              0.7777777777777778,
              "#fb9f3a"
             ],
             [
              0.8888888888888888,
              "#fdca26"
             ],
             [
              1,
              "#f0f921"
             ]
            ],
            "type": "histogram2dcontour"
           }
          ],
          "mesh3d": [
           {
            "colorbar": {
             "outlinewidth": 0,
             "ticks": ""
            },
            "type": "mesh3d"
           }
          ],
          "parcoords": [
           {
            "line": {
             "colorbar": {
              "outlinewidth": 0,
              "ticks": ""
             }
            },
            "type": "parcoords"
           }
          ],
          "pie": [
           {
            "automargin": true,
            "type": "pie"
           }
          ],
          "scatter": [
           {
            "fillpattern": {
             "fillmode": "overlay",
             "size": 10,
             "solidity": 0.2
            },
            "type": "scatter"
           }
          ],
          "scatter3d": [
           {
            "line": {
             "colorbar": {
              "outlinewidth": 0,
              "ticks": ""
             }
            },
            "marker": {
             "colorbar": {
              "outlinewidth": 0,
              "ticks": ""
             }
            },
            "type": "scatter3d"
           }
          ],
          "scattercarpet": [
           {
            "marker": {
             "colorbar": {
              "outlinewidth": 0,
              "ticks": ""
             }
            },
            "type": "scattercarpet"
           }
          ],
          "scattergeo": [
           {
            "marker": {
             "colorbar": {
              "outlinewidth": 0,
              "ticks": ""
             }
            },
            "type": "scattergeo"
           }
          ],
          "scattergl": [
           {
            "marker": {
             "colorbar": {
              "outlinewidth": 0,
              "ticks": ""
             }
            },
            "type": "scattergl"
           }
          ],
          "scattermapbox": [
           {
            "marker": {
             "colorbar": {
              "outlinewidth": 0,
              "ticks": ""
             }
            },
            "type": "scattermapbox"
           }
          ],
          "scatterpolar": [
           {
            "marker": {
             "colorbar": {
              "outlinewidth": 0,
              "ticks": ""
             }
            },
            "type": "scatterpolar"
           }
          ],
          "scatterpolargl": [
           {
            "marker": {
             "colorbar": {
              "outlinewidth": 0,
              "ticks": ""
             }
            },
            "type": "scatterpolargl"
           }
          ],
          "scatterternary": [
           {
            "marker": {
             "colorbar": {
              "outlinewidth": 0,
              "ticks": ""
             }
            },
            "type": "scatterternary"
           }
          ],
          "surface": [
           {
            "colorbar": {
             "outlinewidth": 0,
             "ticks": ""
            },
            "colorscale": [
             [
              0,
              "#0d0887"
             ],
             [
              0.1111111111111111,
              "#46039f"
             ],
             [
              0.2222222222222222,
              "#7201a8"
             ],
             [
              0.3333333333333333,
              "#9c179e"
             ],
             [
              0.4444444444444444,
              "#bd3786"
             ],
             [
              0.5555555555555556,
              "#d8576b"
             ],
             [
              0.6666666666666666,
              "#ed7953"
             ],
             [
              0.7777777777777778,
              "#fb9f3a"
             ],
             [
              0.8888888888888888,
              "#fdca26"
             ],
             [
              1,
              "#f0f921"
             ]
            ],
            "type": "surface"
           }
          ],
          "table": [
           {
            "cells": {
             "fill": {
              "color": "#EBF0F8"
             },
             "line": {
              "color": "white"
             }
            },
            "header": {
             "fill": {
              "color": "#C8D4E3"
             },
             "line": {
              "color": "white"
             }
            },
            "type": "table"
           }
          ]
         },
         "layout": {
          "annotationdefaults": {
           "arrowcolor": "#2a3f5f",
           "arrowhead": 0,
           "arrowwidth": 1
          },
          "autotypenumbers": "strict",
          "coloraxis": {
           "colorbar": {
            "outlinewidth": 0,
            "ticks": ""
           }
          },
          "colorscale": {
           "diverging": [
            [
             0,
             "#8e0152"
            ],
            [
             0.1,
             "#c51b7d"
            ],
            [
             0.2,
             "#de77ae"
            ],
            [
             0.3,
             "#f1b6da"
            ],
            [
             0.4,
             "#fde0ef"
            ],
            [
             0.5,
             "#f7f7f7"
            ],
            [
             0.6,
             "#e6f5d0"
            ],
            [
             0.7,
             "#b8e186"
            ],
            [
             0.8,
             "#7fbc41"
            ],
            [
             0.9,
             "#4d9221"
            ],
            [
             1,
             "#276419"
            ]
           ],
           "sequential": [
            [
             0,
             "#0d0887"
            ],
            [
             0.1111111111111111,
             "#46039f"
            ],
            [
             0.2222222222222222,
             "#7201a8"
            ],
            [
             0.3333333333333333,
             "#9c179e"
            ],
            [
             0.4444444444444444,
             "#bd3786"
            ],
            [
             0.5555555555555556,
             "#d8576b"
            ],
            [
             0.6666666666666666,
             "#ed7953"
            ],
            [
             0.7777777777777778,
             "#fb9f3a"
            ],
            [
             0.8888888888888888,
             "#fdca26"
            ],
            [
             1,
             "#f0f921"
            ]
           ],
           "sequentialminus": [
            [
             0,
             "#0d0887"
            ],
            [
             0.1111111111111111,
             "#46039f"
            ],
            [
             0.2222222222222222,
             "#7201a8"
            ],
            [
             0.3333333333333333,
             "#9c179e"
            ],
            [
             0.4444444444444444,
             "#bd3786"
            ],
            [
             0.5555555555555556,
             "#d8576b"
            ],
            [
             0.6666666666666666,
             "#ed7953"
            ],
            [
             0.7777777777777778,
             "#fb9f3a"
            ],
            [
             0.8888888888888888,
             "#fdca26"
            ],
            [
             1,
             "#f0f921"
            ]
           ]
          },
          "colorway": [
           "#636efa",
           "#EF553B",
           "#00cc96",
           "#ab63fa",
           "#FFA15A",
           "#19d3f3",
           "#FF6692",
           "#B6E880",
           "#FF97FF",
           "#FECB52"
          ],
          "font": {
           "color": "#2a3f5f"
          },
          "geo": {
           "bgcolor": "white",
           "lakecolor": "white",
           "landcolor": "#E5ECF6",
           "showlakes": true,
           "showland": true,
           "subunitcolor": "white"
          },
          "hoverlabel": {
           "align": "left"
          },
          "hovermode": "closest",
          "mapbox": {
           "style": "light"
          },
          "paper_bgcolor": "white",
          "plot_bgcolor": "#E5ECF6",
          "polar": {
           "angularaxis": {
            "gridcolor": "white",
            "linecolor": "white",
            "ticks": ""
           },
           "bgcolor": "#E5ECF6",
           "radialaxis": {
            "gridcolor": "white",
            "linecolor": "white",
            "ticks": ""
           }
          },
          "scene": {
           "xaxis": {
            "backgroundcolor": "#E5ECF6",
            "gridcolor": "white",
            "gridwidth": 2,
            "linecolor": "white",
            "showbackground": true,
            "ticks": "",
            "zerolinecolor": "white"
           },
           "yaxis": {
            "backgroundcolor": "#E5ECF6",
            "gridcolor": "white",
            "gridwidth": 2,
            "linecolor": "white",
            "showbackground": true,
            "ticks": "",
            "zerolinecolor": "white"
           },
           "zaxis": {
            "backgroundcolor": "#E5ECF6",
            "gridcolor": "white",
            "gridwidth": 2,
            "linecolor": "white",
            "showbackground": true,
            "ticks": "",
            "zerolinecolor": "white"
           }
          },
          "shapedefaults": {
           "line": {
            "color": "#2a3f5f"
           }
          },
          "ternary": {
           "aaxis": {
            "gridcolor": "white",
            "linecolor": "white",
            "ticks": ""
           },
           "baxis": {
            "gridcolor": "white",
            "linecolor": "white",
            "ticks": ""
           },
           "bgcolor": "#E5ECF6",
           "caxis": {
            "gridcolor": "white",
            "linecolor": "white",
            "ticks": ""
           }
          },
          "title": {
           "x": 0.05
          },
          "xaxis": {
           "automargin": true,
           "gridcolor": "white",
           "linecolor": "white",
           "ticks": "",
           "title": {
            "standoff": 15
           },
           "zerolinecolor": "white",
           "zerolinewidth": 2
          },
          "yaxis": {
           "automargin": true,
           "gridcolor": "white",
           "linecolor": "white",
           "ticks": "",
           "title": {
            "standoff": 15
           },
           "zerolinecolor": "white",
           "zerolinewidth": 2
          }
         }
        },
        "title": {
         "font": {
          "color": "#4D5663"
         }
        },
        "xaxis": {
         "anchor": "y",
         "domain": [
          0,
          0.2125
         ],
         "gridcolor": "#E1E5ED",
         "showgrid": false,
         "tickfont": {
          "color": "#4D5663"
         },
         "title": {
          "font": {
           "color": "#4D5663"
          },
          "text": ""
         },
         "zerolinecolor": "#E1E5ED"
        },
        "xaxis10": {
         "anchor": "y10",
         "domain": [
          0.2625,
          0.475
         ],
         "gridcolor": "#E1E5ED",
         "showgrid": false,
         "tickfont": {
          "color": "#4D5663"
         },
         "title": {
          "font": {
           "color": "#4D5663"
          },
          "text": ""
         },
         "zerolinecolor": "#E1E5ED"
        },
        "xaxis11": {
         "anchor": "y11",
         "domain": [
          0.525,
          0.7375
         ],
         "gridcolor": "#E1E5ED",
         "showgrid": false,
         "tickfont": {
          "color": "#4D5663"
         },
         "title": {
          "font": {
           "color": "#4D5663"
          },
          "text": ""
         },
         "zerolinecolor": "#E1E5ED"
        },
        "xaxis12": {
         "anchor": "y12",
         "domain": [
          0.7875,
          1
         ],
         "gridcolor": "#E1E5ED",
         "showgrid": false,
         "tickfont": {
          "color": "#4D5663"
         },
         "title": {
          "font": {
           "color": "#4D5663"
          },
          "text": ""
         },
         "zerolinecolor": "#E1E5ED"
        },
        "xaxis13": {
         "anchor": "y13",
         "domain": [
          0,
          0.2125
         ],
         "gridcolor": "#E1E5ED",
         "showgrid": false,
         "tickfont": {
          "color": "#4D5663"
         },
         "title": {
          "font": {
           "color": "#4D5663"
          },
          "text": ""
         },
         "zerolinecolor": "#E1E5ED"
        },
        "xaxis14": {
         "anchor": "y14",
         "domain": [
          0.2625,
          0.475
         ],
         "gridcolor": "#E1E5ED",
         "showgrid": false,
         "tickfont": {
          "color": "#4D5663"
         },
         "title": {
          "font": {
           "color": "#4D5663"
          },
          "text": ""
         },
         "zerolinecolor": "#E1E5ED"
        },
        "xaxis15": {
         "anchor": "y15",
         "domain": [
          0.525,
          0.7375
         ],
         "gridcolor": "#E1E5ED",
         "showgrid": false,
         "tickfont": {
          "color": "#4D5663"
         },
         "title": {
          "font": {
           "color": "#4D5663"
          },
          "text": ""
         },
         "zerolinecolor": "#E1E5ED"
        },
        "xaxis16": {
         "anchor": "y16",
         "domain": [
          0.7875,
          1
         ],
         "gridcolor": "#E1E5ED",
         "showgrid": false,
         "tickfont": {
          "color": "#4D5663"
         },
         "title": {
          "font": {
           "color": "#4D5663"
          },
          "text": ""
         },
         "zerolinecolor": "#E1E5ED"
        },
        "xaxis2": {
         "anchor": "y2",
         "domain": [
          0.2625,
          0.475
         ],
         "gridcolor": "#E1E5ED",
         "showgrid": false,
         "tickfont": {
          "color": "#4D5663"
         },
         "title": {
          "font": {
           "color": "#4D5663"
          },
          "text": ""
         },
         "zerolinecolor": "#E1E5ED"
        },
        "xaxis3": {
         "anchor": "y3",
         "domain": [
          0.525,
          0.7375
         ],
         "gridcolor": "#E1E5ED",
         "showgrid": false,
         "tickfont": {
          "color": "#4D5663"
         },
         "title": {
          "font": {
           "color": "#4D5663"
          },
          "text": ""
         },
         "zerolinecolor": "#E1E5ED"
        },
        "xaxis4": {
         "anchor": "y4",
         "domain": [
          0.7875,
          1
         ],
         "gridcolor": "#E1E5ED",
         "showgrid": false,
         "tickfont": {
          "color": "#4D5663"
         },
         "title": {
          "font": {
           "color": "#4D5663"
          },
          "text": ""
         },
         "zerolinecolor": "#E1E5ED"
        },
        "xaxis5": {
         "anchor": "y5",
         "domain": [
          0,
          0.2125
         ],
         "gridcolor": "#E1E5ED",
         "showgrid": false,
         "tickfont": {
          "color": "#4D5663"
         },
         "title": {
          "font": {
           "color": "#4D5663"
          },
          "text": ""
         },
         "zerolinecolor": "#E1E5ED"
        },
        "xaxis6": {
         "anchor": "y6",
         "domain": [
          0.2625,
          0.475
         ],
         "gridcolor": "#E1E5ED",
         "showgrid": false,
         "tickfont": {
          "color": "#4D5663"
         },
         "title": {
          "font": {
           "color": "#4D5663"
          },
          "text": ""
         },
         "zerolinecolor": "#E1E5ED"
        },
        "xaxis7": {
         "anchor": "y7",
         "domain": [
          0.525,
          0.7375
         ],
         "gridcolor": "#E1E5ED",
         "showgrid": false,
         "tickfont": {
          "color": "#4D5663"
         },
         "title": {
          "font": {
           "color": "#4D5663"
          },
          "text": ""
         },
         "zerolinecolor": "#E1E5ED"
        },
        "xaxis8": {
         "anchor": "y8",
         "domain": [
          0.7875,
          1
         ],
         "gridcolor": "#E1E5ED",
         "showgrid": false,
         "tickfont": {
          "color": "#4D5663"
         },
         "title": {
          "font": {
           "color": "#4D5663"
          },
          "text": ""
         },
         "zerolinecolor": "#E1E5ED"
        },
        "xaxis9": {
         "anchor": "y9",
         "domain": [
          0,
          0.2125
         ],
         "gridcolor": "#E1E5ED",
         "showgrid": false,
         "tickfont": {
          "color": "#4D5663"
         },
         "title": {
          "font": {
           "color": "#4D5663"
          },
          "text": ""
         },
         "zerolinecolor": "#E1E5ED"
        },
        "yaxis": {
         "anchor": "x",
         "domain": [
          0.8025,
          1
         ],
         "gridcolor": "#E1E5ED",
         "showgrid": false,
         "tickfont": {
          "color": "#4D5663"
         },
         "title": {
          "font": {
           "color": "#4D5663"
          },
          "text": ""
         },
         "zerolinecolor": "#E1E5ED"
        },
        "yaxis10": {
         "anchor": "x10",
         "domain": [
          0.2675,
          0.465
         ],
         "gridcolor": "#E1E5ED",
         "showgrid": false,
         "tickfont": {
          "color": "#4D5663"
         },
         "title": {
          "font": {
           "color": "#4D5663"
          },
          "text": ""
         },
         "zerolinecolor": "#E1E5ED"
        },
        "yaxis11": {
         "anchor": "x11",
         "domain": [
          0.2675,
          0.465
         ],
         "gridcolor": "#E1E5ED",
         "showgrid": false,
         "tickfont": {
          "color": "#4D5663"
         },
         "title": {
          "font": {
           "color": "#4D5663"
          },
          "text": ""
         },
         "zerolinecolor": "#E1E5ED"
        },
        "yaxis12": {
         "anchor": "x12",
         "domain": [
          0.2675,
          0.465
         ],
         "gridcolor": "#E1E5ED",
         "showgrid": false,
         "tickfont": {
          "color": "#4D5663"
         },
         "title": {
          "font": {
           "color": "#4D5663"
          },
          "text": ""
         },
         "zerolinecolor": "#E1E5ED"
        },
        "yaxis13": {
         "anchor": "x13",
         "domain": [
          0,
          0.1975
         ],
         "gridcolor": "#E1E5ED",
         "showgrid": false,
         "tickfont": {
          "color": "#4D5663"
         },
         "title": {
          "font": {
           "color": "#4D5663"
          },
          "text": ""
         },
         "zerolinecolor": "#E1E5ED"
        },
        "yaxis14": {
         "anchor": "x14",
         "domain": [
          0,
          0.1975
         ],
         "gridcolor": "#E1E5ED",
         "showgrid": false,
         "tickfont": {
          "color": "#4D5663"
         },
         "title": {
          "font": {
           "color": "#4D5663"
          },
          "text": ""
         },
         "zerolinecolor": "#E1E5ED"
        },
        "yaxis15": {
         "anchor": "x15",
         "domain": [
          0,
          0.1975
         ],
         "gridcolor": "#E1E5ED",
         "showgrid": false,
         "tickfont": {
          "color": "#4D5663"
         },
         "title": {
          "font": {
           "color": "#4D5663"
          },
          "text": ""
         },
         "zerolinecolor": "#E1E5ED"
        },
        "yaxis16": {
         "anchor": "x16",
         "domain": [
          0,
          0.1975
         ],
         "gridcolor": "#E1E5ED",
         "showgrid": false,
         "tickfont": {
          "color": "#4D5663"
         },
         "title": {
          "font": {
           "color": "#4D5663"
          },
          "text": ""
         },
         "zerolinecolor": "#E1E5ED"
        },
        "yaxis2": {
         "anchor": "x2",
         "domain": [
          0.8025,
          1
         ],
         "gridcolor": "#E1E5ED",
         "showgrid": false,
         "tickfont": {
          "color": "#4D5663"
         },
         "title": {
          "font": {
           "color": "#4D5663"
          },
          "text": ""
         },
         "zerolinecolor": "#E1E5ED"
        },
        "yaxis3": {
         "anchor": "x3",
         "domain": [
          0.8025,
          1
         ],
         "gridcolor": "#E1E5ED",
         "showgrid": false,
         "tickfont": {
          "color": "#4D5663"
         },
         "title": {
          "font": {
           "color": "#4D5663"
          },
          "text": ""
         },
         "zerolinecolor": "#E1E5ED"
        },
        "yaxis4": {
         "anchor": "x4",
         "domain": [
          0.8025,
          1
         ],
         "gridcolor": "#E1E5ED",
         "showgrid": false,
         "tickfont": {
          "color": "#4D5663"
         },
         "title": {
          "font": {
           "color": "#4D5663"
          },
          "text": ""
         },
         "zerolinecolor": "#E1E5ED"
        },
        "yaxis5": {
         "anchor": "x5",
         "domain": [
          0.535,
          0.7325
         ],
         "gridcolor": "#E1E5ED",
         "showgrid": false,
         "tickfont": {
          "color": "#4D5663"
         },
         "title": {
          "font": {
           "color": "#4D5663"
          },
          "text": ""
         },
         "zerolinecolor": "#E1E5ED"
        },
        "yaxis6": {
         "anchor": "x6",
         "domain": [
          0.535,
          0.7325
         ],
         "gridcolor": "#E1E5ED",
         "showgrid": false,
         "tickfont": {
          "color": "#4D5663"
         },
         "title": {
          "font": {
           "color": "#4D5663"
          },
          "text": ""
         },
         "zerolinecolor": "#E1E5ED"
        },
        "yaxis7": {
         "anchor": "x7",
         "domain": [
          0.535,
          0.7325
         ],
         "gridcolor": "#E1E5ED",
         "showgrid": false,
         "tickfont": {
          "color": "#4D5663"
         },
         "title": {
          "font": {
           "color": "#4D5663"
          },
          "text": ""
         },
         "zerolinecolor": "#E1E5ED"
        },
        "yaxis8": {
         "anchor": "x8",
         "domain": [
          0.535,
          0.7325
         ],
         "gridcolor": "#E1E5ED",
         "showgrid": false,
         "tickfont": {
          "color": "#4D5663"
         },
         "title": {
          "font": {
           "color": "#4D5663"
          },
          "text": ""
         },
         "zerolinecolor": "#E1E5ED"
        },
        "yaxis9": {
         "anchor": "x9",
         "domain": [
          0.2675,
          0.465
         ],
         "gridcolor": "#E1E5ED",
         "showgrid": false,
         "tickfont": {
          "color": "#4D5663"
         },
         "title": {
          "font": {
           "color": "#4D5663"
          },
          "text": ""
         },
         "zerolinecolor": "#E1E5ED"
        }
       }
      },
      "text/html": [
       "<div>                            <div id=\"db976773-cef9-4e77-a819-22df59bf282b\" class=\"plotly-graph-div\" style=\"height:525px; width:100%;\"></div>            <script type=\"text/javascript\">                require([\"plotly\"], function(Plotly) {                    window.PLOTLYENV=window.PLOTLYENV || {};\n",
       "                    window.PLOTLYENV.BASE_URL='https://plot.ly';                                    if (document.getElementById(\"db976773-cef9-4e77-a819-22df59bf282b\")) {                    Plotly.newPlot(                        \"db976773-cef9-4e77-a819-22df59bf282b\",                        [{\"histfunc\":\"count\",\"histnorm\":\"\",\"marker\":{\"color\":\"rgba(255, 153, 51, 1.0)\",\"line\":{\"color\":\"#4D5663\",\"width\":1.3}},\"name\":\"A\",\"nbinsx\":10,\"opacity\":0.8,\"orientation\":\"v\",\"x\":[0.778457933302214,-0.9680449357550578,0.39359084183301096,-1.2394985928585338,-0.2164835093388013,-0.1356228708503378,-1.2521746730325765,-1.0835243246963888,0.6250752248509963,0.7718451818596955,0.4318676271026053,-0.8686984687467546,0.18229522144610463,-0.17752709417956644,-0.7853823575966619,-0.06893337907779387,-0.9466983840211649,-0.9221095109610769,1.5774648689521218,0.3930242065630447,0.8277738191842602,-0.8241508298553344,0.07495661144670138,-0.3590170031546842,1.2734557212058224,-1.504383022229239,-0.12596790196229846,0.6123225576918307,0.3426474625945798,0.846089362700548,1.3523055165355302,0.284811559971216,-1.6013083992544557,1.6679084568187605,1.5145816453277892,-0.0046250819630932315,-0.07829149222527237,0.9916207650528954,1.1145048640682926,-1.089729192815636,0.17314040189558932,-0.033796344362975864,0.07562690561269443,1.892594834465393,-1.8348706724093262,1.2584334190829263,0.17218282514485775,0.34213290139111757,-0.7402663222325283,-0.588544402128247,-0.27975100910657263,-0.36609359684194237,-0.8452472534162175,-0.4468861894570877,0.6034241098470298,3.1023651388360145,0.214644091222445,-0.8612338237196326,0.13263420361251016,-0.9710094581449149,0.7227469378577297,-0.7822128929376538,-0.22143889112664097,0.14416334626005273,-0.8833756073627672,1.2612268675473937,0.7928279434498183,-1.0251422302062176,-0.4536854547609093,-0.45958745335640483,0.5182900495849041,0.850977459520938,0.04421513310499319,-1.1175849668722495,-0.8030693507661488,1.92519394398426,0.7217912827510005,-0.3116468245019817,-1.750355552577647,-0.6873302147493952,1.5993325144520412,1.2093688325747638,0.7382608277486163,-0.01307177710019666,0.4249358964426604,1.8114662802257053,-0.23812364488121177,-0.04821109509459664,-0.47886446654041864,-0.4038921916964521,0.5091420384625585,0.4801272970933442,-0.48912145451354583,-1.147042924817787,-0.01032179386658933,0.1321566262110016,-0.384385463475132,1.2891000679608127,0.9391036286315693,1.0197304435884655],\"xaxis\":\"x\",\"yaxis\":\"y\",\"type\":\"histogram\"},{\"line\":{\"color\":\"rgba(128, 128, 128, 1.0)\",\"dash\":\"solid\",\"shape\":\"linear\",\"width\":1.3},\"marker\":{\"size\":2,\"symbol\":\"circle\"},\"mode\":\"markers\",\"name\":\"A\",\"text\":\"\",\"x\":[-0.12418495906275873,0.5285054303759434,-0.6483376777606301,-0.2882240309938093,0.5736212497816112,2.239254267902068,-3.7132010957566717,-0.827361314325003,-0.07056871306249225,0.4485007765695378,-1.1425087248215398,0.713665370670025,-0.12237518106470253,-1.5779230985738613,-1.6518453654137415,0.7872739570953827,0.6696097676881092,0.12485407678766407,-0.2592731741227891,-0.6034697000193865,-0.1634147137662408,-0.9185909367956211,-1.5225614971140846,0.32708339513992823,-0.7881580126865311,-0.253793228203105,-0.20667844715897066,0.9083395167937691,0.48256960720999503,-0.9609842265734008,-0.9045949603882426,-0.8259097380548978,-0.4414993729915333,-0.2965042673868797,-1.8110254612575696,-0.6947125921837172,0.22518886816166567,0.9620639813793939,-1.4689365913873842,-0.5002907290334543,0.15554850993818742,1.0644877346151136,0.08741835263849135,-1.2266050665518022,0.009267372916793585,0.9365478847521909,-0.06849812894451411,0.572511977530958,0.2490562834386925,-0.7544740172893082,0.6270155247426541,0.4392751700611625,0.8876910389681761,0.6895447204388416,-0.08376221605853913,0.7519574530059915,0.7928931750275154,-0.07844246435307307,-0.6610778230711215,0.4710622226800591,-3.102751806348052,1.3879524318512182,-1.9793711097598718,0.08488617246516036,-1.6306338131169662,0.31209134076027195,1.527604855019396,2.0868502636121495,-0.41398376859852154,-0.5958562882694559,0.1407586248600635,1.1241522625681128,-0.7699943106290851,0.13748390446668632,-1.0344313621767662,1.589065501698242,-1.483419352532759,1.1109792033938501,0.6953782435953554,0.5181307791043384,1.3792400569088539,-0.19834484065509467,-1.6984989450444554,0.6454744077409759,1.156837525492291,-1.3392031859801345,-1.0476297371919077,0.8978011452694012,0.21692629572147912,-0.4597509119081817,0.19481940643523454,-0.08341557197324237,0.7726127026487843,-1.6792646825069584,-0.6350127596847416,1.0570017823937987,-1.0115000812255166,-1.5882588060836178,-1.8493217471273957,-1.1361901014810987],\"xaxis\":\"x2\",\"y\":[0.778457933302214,-0.9680449357550578,0.39359084183301096,-1.2394985928585338,-0.2164835093388013,-0.1356228708503378,-1.2521746730325765,-1.0835243246963888,0.6250752248509963,0.7718451818596955,0.4318676271026053,-0.8686984687467546,0.18229522144610463,-0.17752709417956644,-0.7853823575966619,-0.06893337907779387,-0.9466983840211649,-0.9221095109610769,1.5774648689521218,0.3930242065630447,0.8277738191842602,-0.8241508298553344,0.07495661144670138,-0.3590170031546842,1.2734557212058224,-1.504383022229239,-0.12596790196229846,0.6123225576918307,0.3426474625945798,0.846089362700548,1.3523055165355302,0.284811559971216,-1.6013083992544557,1.6679084568187605,1.5145816453277892,-0.0046250819630932315,-0.07829149222527237,0.9916207650528954,1.1145048640682926,-1.089729192815636,0.17314040189558932,-0.033796344362975864,0.07562690561269443,1.892594834465393,-1.8348706724093262,1.2584334190829263,0.17218282514485775,0.34213290139111757,-0.7402663222325283,-0.588544402128247,-0.27975100910657263,-0.36609359684194237,-0.8452472534162175,-0.4468861894570877,0.6034241098470298,3.1023651388360145,0.214644091222445,-0.8612338237196326,0.13263420361251016,-0.9710094581449149,0.7227469378577297,-0.7822128929376538,-0.22143889112664097,0.14416334626005273,-0.8833756073627672,1.2612268675473937,0.7928279434498183,-1.0251422302062176,-0.4536854547609093,-0.45958745335640483,0.5182900495849041,0.850977459520938,0.04421513310499319,-1.1175849668722495,-0.8030693507661488,1.92519394398426,0.7217912827510005,-0.3116468245019817,-1.750355552577647,-0.6873302147493952,1.5993325144520412,1.2093688325747638,0.7382608277486163,-0.01307177710019666,0.4249358964426604,1.8114662802257053,-0.23812364488121177,-0.04821109509459664,-0.47886446654041864,-0.4038921916964521,0.5091420384625585,0.4801272970933442,-0.48912145451354583,-1.147042924817787,-0.01032179386658933,0.1321566262110016,-0.384385463475132,1.2891000679608127,0.9391036286315693,1.0197304435884655],\"yaxis\":\"y2\",\"type\":\"scatter\"},{\"line\":{\"color\":\"rgba(128, 128, 128, 1.0)\",\"dash\":\"solid\",\"shape\":\"linear\",\"width\":1.3},\"marker\":{\"size\":2,\"symbol\":\"circle\"},\"mode\":\"markers\",\"name\":\"A\",\"text\":\"\",\"x\":[-0.03802047411749776,0.8773557408303123,-1.118725034659502,-0.10026853830176642,-0.7732404050535409,0.5046837399056341,1.0405541917419667,0.12608346116189315,0.40577463423542737,-0.7153215479409281,1.327560943752907,1.1656233384029329,-2.556184188197719,0.180403725260928,-0.6420497906812835,0.08261155402733383,-0.8722369739240854,-0.5958593510195808,0.5411573911111616,1.5574465766371541,0.35858615040219993,0.1359352618178365,1.2729618354111418,-0.724388992300664,0.8689737956283615,1.0324712942410976,-0.10856722968255036,0.47116535782786606,0.9854431855075556,0.5648817725467724,-0.6741775517296723,-0.08507260800209669,-1.8491296419326837,1.1585345801397426,0.7410669957381095,0.2377646618768121,0.19636956338180683,1.5272074918028045,-0.29867294983582043,-0.1412752058259444,0.9105342836340018,-0.16649235126773396,-0.7152579905771318,1.4136319519783282,-0.3128878018946804,-0.433290552957218,0.8179761999340025,-1.3827284215191413,-0.24279974102893276,0.11564818225015172,0.4496854850035945,-0.4559239150446873,-2.252429793836703,-0.8597249668399786,-2.460767890721159,-0.08821510633908855,-0.7027062778648545,-0.3130299866317652,1.0320592354230556,-0.777357882169852,-2.3438996888466708,-0.5605666594946894,0.06741236942830532,-1.649231246416628,0.22273379564641857,0.13066572471482163,0.5362449801226784,1.4914964504089971,2.2322188903267848,-1.112526390987042,0.1861509871569323,1.1601974306427612,1.2891048070459077,0.9421954734630205,1.175179094583278,0.8345503271306458,0.3124997756836522,0.7382997585383295,2.3441395948533015,-1.4850691091821289,0.3943088653341731,-0.7125698889211279,-0.9260100929069468,0.9521314338176424,-1.3468987254887934,0.07818695724198196,-0.48812591175553643,-0.22272894573145505,-0.8905830222532648,0.5555690475707767,-0.7112369108121137,-0.893619327106401,2.1987281322799466,-0.7478258734501629,-0.11900790060739504,-0.8285148541919645,0.3855746642174358,-0.29794909083781856,-0.16683726369167023,-0.8803568268703029],\"xaxis\":\"x3\",\"y\":[0.778457933302214,-0.9680449357550578,0.39359084183301096,-1.2394985928585338,-0.2164835093388013,-0.1356228708503378,-1.2521746730325765,-1.0835243246963888,0.6250752248509963,0.7718451818596955,0.4318676271026053,-0.8686984687467546,0.18229522144610463,-0.17752709417956644,-0.7853823575966619,-0.06893337907779387,-0.9466983840211649,-0.9221095109610769,1.5774648689521218,0.3930242065630447,0.8277738191842602,-0.8241508298553344,0.07495661144670138,-0.3590170031546842,1.2734557212058224,-1.504383022229239,-0.12596790196229846,0.6123225576918307,0.3426474625945798,0.846089362700548,1.3523055165355302,0.284811559971216,-1.6013083992544557,1.6679084568187605,1.5145816453277892,-0.0046250819630932315,-0.07829149222527237,0.9916207650528954,1.1145048640682926,-1.089729192815636,0.17314040189558932,-0.033796344362975864,0.07562690561269443,1.892594834465393,-1.8348706724093262,1.2584334190829263,0.17218282514485775,0.34213290139111757,-0.7402663222325283,-0.588544402128247,-0.27975100910657263,-0.36609359684194237,-0.8452472534162175,-0.4468861894570877,0.6034241098470298,3.1023651388360145,0.214644091222445,-0.8612338237196326,0.13263420361251016,-0.9710094581449149,0.7227469378577297,-0.7822128929376538,-0.22143889112664097,0.14416334626005273,-0.8833756073627672,1.2612268675473937,0.7928279434498183,-1.0251422302062176,-0.4536854547609093,-0.45958745335640483,0.5182900495849041,0.850977459520938,0.04421513310499319,-1.1175849668722495,-0.8030693507661488,1.92519394398426,0.7217912827510005,-0.3116468245019817,-1.750355552577647,-0.6873302147493952,1.5993325144520412,1.2093688325747638,0.7382608277486163,-0.01307177710019666,0.4249358964426604,1.8114662802257053,-0.23812364488121177,-0.04821109509459664,-0.47886446654041864,-0.4038921916964521,0.5091420384625585,0.4801272970933442,-0.48912145451354583,-1.147042924817787,-0.01032179386658933,0.1321566262110016,-0.384385463475132,1.2891000679608127,0.9391036286315693,1.0197304435884655],\"yaxis\":\"y3\",\"type\":\"scatter\"},{\"line\":{\"color\":\"rgba(128, 128, 128, 1.0)\",\"dash\":\"solid\",\"shape\":\"linear\",\"width\":1.3},\"marker\":{\"size\":2,\"symbol\":\"circle\"},\"mode\":\"markers\",\"name\":\"A\",\"text\":\"\",\"x\":[0.19364859956418953,0.18583207547663305,1.9923921588463627,1.3188125240482078,0.537805874410933,-0.03848186401102001,-0.32930061650478093,2.2958952087568933,0.466505724210726,-0.7716409579262643,0.5784030178865545,-0.3085829845995051,1.0569521428997875,-0.021678681671287593,-0.15327032167682586,0.38532094024232333,1.624630133457499,1.6736838752131884,0.507620878463986,-1.3331888479271912,-0.008692936117062714,1.2755057690525256,0.8334251065844482,0.10786480563820008,-1.4328300955495161,0.6307401316199052,0.3757313710757838,-0.12381204243145601,2.444630116068402,1.2776539720839692,-0.2753571484946713,1.074406283764291,0.8935449560464446,0.8226339589212641,-0.3760182003569667,-0.5435492836183557,-1.204887322087643,-0.6063927925516598,-1.0747457830894218,0.2609786837151405,0.8486504892819745,-1.1875268382847586,0.7291652246195226,-0.2714729225650268,-0.3149788852602245,0.5933801088684901,-0.7001484527953258,0.31057113592398455,0.8941997046364684,0.696871322191756,0.9667732459813809,0.0795886917274917,1.4708668673386436,1.435440588634307,1.5617836556337106,-1.9930260097477197,0.33343907469044654,0.7127913736643632,0.43648801789717556,-0.48176628908925917,2.1851520391957804,-0.2831216918398867,1.5002057782776956,-0.7422075662104347,0.4674871043293601,1.487680377713003,-0.8109754686950558,1.1836151400260517,-3.2886518125876725,0.47420116098063736,0.4156506373988291,-1.4147882771469515,1.706363977610135,0.2884294207465923,0.14815841816801092,-0.6279943804082091,-0.5284554553268069,-1.3528423917747028,0.7441972948781518,-0.5380758183313948,-1.4680677526079209,0.42836894521875163,0.4874581159173152,-0.03322481239843942,-0.4362206070834838,-2.235968198210766,0.5219170909718297,0.7372645208846011,1.3745998157042327,-0.34707955390016204,-1.5015300123463025,1.0820404851499366,-0.526174680349923,1.1793021497147862,-0.10148494094334251,1.2444090645162498,2.236896752361946,0.4292984789795256,0.7317923794372792,-1.2032486736964108],\"xaxis\":\"x4\",\"y\":[0.778457933302214,-0.9680449357550578,0.39359084183301096,-1.2394985928585338,-0.2164835093388013,-0.1356228708503378,-1.2521746730325765,-1.0835243246963888,0.6250752248509963,0.7718451818596955,0.4318676271026053,-0.8686984687467546,0.18229522144610463,-0.17752709417956644,-0.7853823575966619,-0.06893337907779387,-0.9466983840211649,-0.9221095109610769,1.5774648689521218,0.3930242065630447,0.8277738191842602,-0.8241508298553344,0.07495661144670138,-0.3590170031546842,1.2734557212058224,-1.504383022229239,-0.12596790196229846,0.6123225576918307,0.3426474625945798,0.846089362700548,1.3523055165355302,0.284811559971216,-1.6013083992544557,1.6679084568187605,1.5145816453277892,-0.0046250819630932315,-0.07829149222527237,0.9916207650528954,1.1145048640682926,-1.089729192815636,0.17314040189558932,-0.033796344362975864,0.07562690561269443,1.892594834465393,-1.8348706724093262,1.2584334190829263,0.17218282514485775,0.34213290139111757,-0.7402663222325283,-0.588544402128247,-0.27975100910657263,-0.36609359684194237,-0.8452472534162175,-0.4468861894570877,0.6034241098470298,3.1023651388360145,0.214644091222445,-0.8612338237196326,0.13263420361251016,-0.9710094581449149,0.7227469378577297,-0.7822128929376538,-0.22143889112664097,0.14416334626005273,-0.8833756073627672,1.2612268675473937,0.7928279434498183,-1.0251422302062176,-0.4536854547609093,-0.45958745335640483,0.5182900495849041,0.850977459520938,0.04421513310499319,-1.1175849668722495,-0.8030693507661488,1.92519394398426,0.7217912827510005,-0.3116468245019817,-1.750355552577647,-0.6873302147493952,1.5993325144520412,1.2093688325747638,0.7382608277486163,-0.01307177710019666,0.4249358964426604,1.8114662802257053,-0.23812364488121177,-0.04821109509459664,-0.47886446654041864,-0.4038921916964521,0.5091420384625585,0.4801272970933442,-0.48912145451354583,-1.147042924817787,-0.01032179386658933,0.1321566262110016,-0.384385463475132,1.2891000679608127,0.9391036286315693,1.0197304435884655],\"yaxis\":\"y4\",\"type\":\"scatter\"},{\"line\":{\"color\":\"rgba(128, 128, 128, 1.0)\",\"dash\":\"solid\",\"shape\":\"linear\",\"width\":1.3},\"marker\":{\"size\":2,\"symbol\":\"circle\"},\"mode\":\"markers\",\"name\":\"B\",\"text\":\"\",\"x\":[0.778457933302214,-0.9680449357550578,0.39359084183301096,-1.2394985928585338,-0.2164835093388013,-0.1356228708503378,-1.2521746730325765,-1.0835243246963888,0.6250752248509963,0.7718451818596955,0.4318676271026053,-0.8686984687467546,0.18229522144610463,-0.17752709417956644,-0.7853823575966619,-0.06893337907779387,-0.9466983840211649,-0.9221095109610769,1.5774648689521218,0.3930242065630447,0.8277738191842602,-0.8241508298553344,0.07495661144670138,-0.3590170031546842,1.2734557212058224,-1.504383022229239,-0.12596790196229846,0.6123225576918307,0.3426474625945798,0.846089362700548,1.3523055165355302,0.284811559971216,-1.6013083992544557,1.6679084568187605,1.5145816453277892,-0.0046250819630932315,-0.07829149222527237,0.9916207650528954,1.1145048640682926,-1.089729192815636,0.17314040189558932,-0.033796344362975864,0.07562690561269443,1.892594834465393,-1.8348706724093262,1.2584334190829263,0.17218282514485775,0.34213290139111757,-0.7402663222325283,-0.588544402128247,-0.27975100910657263,-0.36609359684194237,-0.8452472534162175,-0.4468861894570877,0.6034241098470298,3.1023651388360145,0.214644091222445,-0.8612338237196326,0.13263420361251016,-0.9710094581449149,0.7227469378577297,-0.7822128929376538,-0.22143889112664097,0.14416334626005273,-0.8833756073627672,1.2612268675473937,0.7928279434498183,-1.0251422302062176,-0.4536854547609093,-0.45958745335640483,0.5182900495849041,0.850977459520938,0.04421513310499319,-1.1175849668722495,-0.8030693507661488,1.92519394398426,0.7217912827510005,-0.3116468245019817,-1.750355552577647,-0.6873302147493952,1.5993325144520412,1.2093688325747638,0.7382608277486163,-0.01307177710019666,0.4249358964426604,1.8114662802257053,-0.23812364488121177,-0.04821109509459664,-0.47886446654041864,-0.4038921916964521,0.5091420384625585,0.4801272970933442,-0.48912145451354583,-1.147042924817787,-0.01032179386658933,0.1321566262110016,-0.384385463475132,1.2891000679608127,0.9391036286315693,1.0197304435884655],\"xaxis\":\"x5\",\"y\":[-0.12418495906275873,0.5285054303759434,-0.6483376777606301,-0.2882240309938093,0.5736212497816112,2.239254267902068,-3.7132010957566717,-0.827361314325003,-0.07056871306249225,0.4485007765695378,-1.1425087248215398,0.713665370670025,-0.12237518106470253,-1.5779230985738613,-1.6518453654137415,0.7872739570953827,0.6696097676881092,0.12485407678766407,-0.2592731741227891,-0.6034697000193865,-0.1634147137662408,-0.9185909367956211,-1.5225614971140846,0.32708339513992823,-0.7881580126865311,-0.253793228203105,-0.20667844715897066,0.9083395167937691,0.48256960720999503,-0.9609842265734008,-0.9045949603882426,-0.8259097380548978,-0.4414993729915333,-0.2965042673868797,-1.8110254612575696,-0.6947125921837172,0.22518886816166567,0.9620639813793939,-1.4689365913873842,-0.5002907290334543,0.15554850993818742,1.0644877346151136,0.08741835263849135,-1.2266050665518022,0.009267372916793585,0.9365478847521909,-0.06849812894451411,0.572511977530958,0.2490562834386925,-0.7544740172893082,0.6270155247426541,0.4392751700611625,0.8876910389681761,0.6895447204388416,-0.08376221605853913,0.7519574530059915,0.7928931750275154,-0.07844246435307307,-0.6610778230711215,0.4710622226800591,-3.102751806348052,1.3879524318512182,-1.9793711097598718,0.08488617246516036,-1.6306338131169662,0.31209134076027195,1.527604855019396,2.0868502636121495,-0.41398376859852154,-0.5958562882694559,0.1407586248600635,1.1241522625681128,-0.7699943106290851,0.13748390446668632,-1.0344313621767662,1.589065501698242,-1.483419352532759,1.1109792033938501,0.6953782435953554,0.5181307791043384,1.3792400569088539,-0.19834484065509467,-1.6984989450444554,0.6454744077409759,1.156837525492291,-1.3392031859801345,-1.0476297371919077,0.8978011452694012,0.21692629572147912,-0.4597509119081817,0.19481940643523454,-0.08341557197324237,0.7726127026487843,-1.6792646825069584,-0.6350127596847416,1.0570017823937987,-1.0115000812255166,-1.5882588060836178,-1.8493217471273957,-1.1361901014810987],\"yaxis\":\"y5\",\"type\":\"scatter\"},{\"histfunc\":\"count\",\"histnorm\":\"\",\"marker\":{\"color\":\"rgba(55, 128, 191, 1.0)\",\"line\":{\"color\":\"#4D5663\",\"width\":1.3}},\"name\":\"B\",\"nbinsx\":10,\"opacity\":0.8,\"orientation\":\"v\",\"x\":[-0.12418495906275873,0.5285054303759434,-0.6483376777606301,-0.2882240309938093,0.5736212497816112,2.239254267902068,-3.7132010957566717,-0.827361314325003,-0.07056871306249225,0.4485007765695378,-1.1425087248215398,0.713665370670025,-0.12237518106470253,-1.5779230985738613,-1.6518453654137415,0.7872739570953827,0.6696097676881092,0.12485407678766407,-0.2592731741227891,-0.6034697000193865,-0.1634147137662408,-0.9185909367956211,-1.5225614971140846,0.32708339513992823,-0.7881580126865311,-0.253793228203105,-0.20667844715897066,0.9083395167937691,0.48256960720999503,-0.9609842265734008,-0.9045949603882426,-0.8259097380548978,-0.4414993729915333,-0.2965042673868797,-1.8110254612575696,-0.6947125921837172,0.22518886816166567,0.9620639813793939,-1.4689365913873842,-0.5002907290334543,0.15554850993818742,1.0644877346151136,0.08741835263849135,-1.2266050665518022,0.009267372916793585,0.9365478847521909,-0.06849812894451411,0.572511977530958,0.2490562834386925,-0.7544740172893082,0.6270155247426541,0.4392751700611625,0.8876910389681761,0.6895447204388416,-0.08376221605853913,0.7519574530059915,0.7928931750275154,-0.07844246435307307,-0.6610778230711215,0.4710622226800591,-3.102751806348052,1.3879524318512182,-1.9793711097598718,0.08488617246516036,-1.6306338131169662,0.31209134076027195,1.527604855019396,2.0868502636121495,-0.41398376859852154,-0.5958562882694559,0.1407586248600635,1.1241522625681128,-0.7699943106290851,0.13748390446668632,-1.0344313621767662,1.589065501698242,-1.483419352532759,1.1109792033938501,0.6953782435953554,0.5181307791043384,1.3792400569088539,-0.19834484065509467,-1.6984989450444554,0.6454744077409759,1.156837525492291,-1.3392031859801345,-1.0476297371919077,0.8978011452694012,0.21692629572147912,-0.4597509119081817,0.19481940643523454,-0.08341557197324237,0.7726127026487843,-1.6792646825069584,-0.6350127596847416,1.0570017823937987,-1.0115000812255166,-1.5882588060836178,-1.8493217471273957,-1.1361901014810987],\"xaxis\":\"x6\",\"yaxis\":\"y6\",\"type\":\"histogram\"},{\"line\":{\"color\":\"rgba(128, 128, 128, 1.0)\",\"dash\":\"solid\",\"shape\":\"linear\",\"width\":1.3},\"marker\":{\"size\":2,\"symbol\":\"circle\"},\"mode\":\"markers\",\"name\":\"B\",\"text\":\"\",\"x\":[-0.03802047411749776,0.8773557408303123,-1.118725034659502,-0.10026853830176642,-0.7732404050535409,0.5046837399056341,1.0405541917419667,0.12608346116189315,0.40577463423542737,-0.7153215479409281,1.327560943752907,1.1656233384029329,-2.556184188197719,0.180403725260928,-0.6420497906812835,0.08261155402733383,-0.8722369739240854,-0.5958593510195808,0.5411573911111616,1.5574465766371541,0.35858615040219993,0.1359352618178365,1.2729618354111418,-0.724388992300664,0.8689737956283615,1.0324712942410976,-0.10856722968255036,0.47116535782786606,0.9854431855075556,0.5648817725467724,-0.6741775517296723,-0.08507260800209669,-1.8491296419326837,1.1585345801397426,0.7410669957381095,0.2377646618768121,0.19636956338180683,1.5272074918028045,-0.29867294983582043,-0.1412752058259444,0.9105342836340018,-0.16649235126773396,-0.7152579905771318,1.4136319519783282,-0.3128878018946804,-0.433290552957218,0.8179761999340025,-1.3827284215191413,-0.24279974102893276,0.11564818225015172,0.4496854850035945,-0.4559239150446873,-2.252429793836703,-0.8597249668399786,-2.460767890721159,-0.08821510633908855,-0.7027062778648545,-0.3130299866317652,1.0320592354230556,-0.777357882169852,-2.3438996888466708,-0.5605666594946894,0.06741236942830532,-1.649231246416628,0.22273379564641857,0.13066572471482163,0.5362449801226784,1.4914964504089971,2.2322188903267848,-1.112526390987042,0.1861509871569323,1.1601974306427612,1.2891048070459077,0.9421954734630205,1.175179094583278,0.8345503271306458,0.3124997756836522,0.7382997585383295,2.3441395948533015,-1.4850691091821289,0.3943088653341731,-0.7125698889211279,-0.9260100929069468,0.9521314338176424,-1.3468987254887934,0.07818695724198196,-0.48812591175553643,-0.22272894573145505,-0.8905830222532648,0.5555690475707767,-0.7112369108121137,-0.893619327106401,2.1987281322799466,-0.7478258734501629,-0.11900790060739504,-0.8285148541919645,0.3855746642174358,-0.29794909083781856,-0.16683726369167023,-0.8803568268703029],\"xaxis\":\"x7\",\"y\":[-0.12418495906275873,0.5285054303759434,-0.6483376777606301,-0.2882240309938093,0.5736212497816112,2.239254267902068,-3.7132010957566717,-0.827361314325003,-0.07056871306249225,0.4485007765695378,-1.1425087248215398,0.713665370670025,-0.12237518106470253,-1.5779230985738613,-1.6518453654137415,0.7872739570953827,0.6696097676881092,0.12485407678766407,-0.2592731741227891,-0.6034697000193865,-0.1634147137662408,-0.9185909367956211,-1.5225614971140846,0.32708339513992823,-0.7881580126865311,-0.253793228203105,-0.20667844715897066,0.9083395167937691,0.48256960720999503,-0.9609842265734008,-0.9045949603882426,-0.8259097380548978,-0.4414993729915333,-0.2965042673868797,-1.8110254612575696,-0.6947125921837172,0.22518886816166567,0.9620639813793939,-1.4689365913873842,-0.5002907290334543,0.15554850993818742,1.0644877346151136,0.08741835263849135,-1.2266050665518022,0.009267372916793585,0.9365478847521909,-0.06849812894451411,0.572511977530958,0.2490562834386925,-0.7544740172893082,0.6270155247426541,0.4392751700611625,0.8876910389681761,0.6895447204388416,-0.08376221605853913,0.7519574530059915,0.7928931750275154,-0.07844246435307307,-0.6610778230711215,0.4710622226800591,-3.102751806348052,1.3879524318512182,-1.9793711097598718,0.08488617246516036,-1.6306338131169662,0.31209134076027195,1.527604855019396,2.0868502636121495,-0.41398376859852154,-0.5958562882694559,0.1407586248600635,1.1241522625681128,-0.7699943106290851,0.13748390446668632,-1.0344313621767662,1.589065501698242,-1.483419352532759,1.1109792033938501,0.6953782435953554,0.5181307791043384,1.3792400569088539,-0.19834484065509467,-1.6984989450444554,0.6454744077409759,1.156837525492291,-1.3392031859801345,-1.0476297371919077,0.8978011452694012,0.21692629572147912,-0.4597509119081817,0.19481940643523454,-0.08341557197324237,0.7726127026487843,-1.6792646825069584,-0.6350127596847416,1.0570017823937987,-1.0115000812255166,-1.5882588060836178,-1.8493217471273957,-1.1361901014810987],\"yaxis\":\"y7\",\"type\":\"scatter\"},{\"line\":{\"color\":\"rgba(128, 128, 128, 1.0)\",\"dash\":\"solid\",\"shape\":\"linear\",\"width\":1.3},\"marker\":{\"size\":2,\"symbol\":\"circle\"},\"mode\":\"markers\",\"name\":\"B\",\"text\":\"\",\"x\":[0.19364859956418953,0.18583207547663305,1.9923921588463627,1.3188125240482078,0.537805874410933,-0.03848186401102001,-0.32930061650478093,2.2958952087568933,0.466505724210726,-0.7716409579262643,0.5784030178865545,-0.3085829845995051,1.0569521428997875,-0.021678681671287593,-0.15327032167682586,0.38532094024232333,1.624630133457499,1.6736838752131884,0.507620878463986,-1.3331888479271912,-0.008692936117062714,1.2755057690525256,0.8334251065844482,0.10786480563820008,-1.4328300955495161,0.6307401316199052,0.3757313710757838,-0.12381204243145601,2.444630116068402,1.2776539720839692,-0.2753571484946713,1.074406283764291,0.8935449560464446,0.8226339589212641,-0.3760182003569667,-0.5435492836183557,-1.204887322087643,-0.6063927925516598,-1.0747457830894218,0.2609786837151405,0.8486504892819745,-1.1875268382847586,0.7291652246195226,-0.2714729225650268,-0.3149788852602245,0.5933801088684901,-0.7001484527953258,0.31057113592398455,0.8941997046364684,0.696871322191756,0.9667732459813809,0.0795886917274917,1.4708668673386436,1.435440588634307,1.5617836556337106,-1.9930260097477197,0.33343907469044654,0.7127913736643632,0.43648801789717556,-0.48176628908925917,2.1851520391957804,-0.2831216918398867,1.5002057782776956,-0.7422075662104347,0.4674871043293601,1.487680377713003,-0.8109754686950558,1.1836151400260517,-3.2886518125876725,0.47420116098063736,0.4156506373988291,-1.4147882771469515,1.706363977610135,0.2884294207465923,0.14815841816801092,-0.6279943804082091,-0.5284554553268069,-1.3528423917747028,0.7441972948781518,-0.5380758183313948,-1.4680677526079209,0.42836894521875163,0.4874581159173152,-0.03322481239843942,-0.4362206070834838,-2.235968198210766,0.5219170909718297,0.7372645208846011,1.3745998157042327,-0.34707955390016204,-1.5015300123463025,1.0820404851499366,-0.526174680349923,1.1793021497147862,-0.10148494094334251,1.2444090645162498,2.236896752361946,0.4292984789795256,0.7317923794372792,-1.2032486736964108],\"xaxis\":\"x8\",\"y\":[-0.12418495906275873,0.5285054303759434,-0.6483376777606301,-0.2882240309938093,0.5736212497816112,2.239254267902068,-3.7132010957566717,-0.827361314325003,-0.07056871306249225,0.4485007765695378,-1.1425087248215398,0.713665370670025,-0.12237518106470253,-1.5779230985738613,-1.6518453654137415,0.7872739570953827,0.6696097676881092,0.12485407678766407,-0.2592731741227891,-0.6034697000193865,-0.1634147137662408,-0.9185909367956211,-1.5225614971140846,0.32708339513992823,-0.7881580126865311,-0.253793228203105,-0.20667844715897066,0.9083395167937691,0.48256960720999503,-0.9609842265734008,-0.9045949603882426,-0.8259097380548978,-0.4414993729915333,-0.2965042673868797,-1.8110254612575696,-0.6947125921837172,0.22518886816166567,0.9620639813793939,-1.4689365913873842,-0.5002907290334543,0.15554850993818742,1.0644877346151136,0.08741835263849135,-1.2266050665518022,0.009267372916793585,0.9365478847521909,-0.06849812894451411,0.572511977530958,0.2490562834386925,-0.7544740172893082,0.6270155247426541,0.4392751700611625,0.8876910389681761,0.6895447204388416,-0.08376221605853913,0.7519574530059915,0.7928931750275154,-0.07844246435307307,-0.6610778230711215,0.4710622226800591,-3.102751806348052,1.3879524318512182,-1.9793711097598718,0.08488617246516036,-1.6306338131169662,0.31209134076027195,1.527604855019396,2.0868502636121495,-0.41398376859852154,-0.5958562882694559,0.1407586248600635,1.1241522625681128,-0.7699943106290851,0.13748390446668632,-1.0344313621767662,1.589065501698242,-1.483419352532759,1.1109792033938501,0.6953782435953554,0.5181307791043384,1.3792400569088539,-0.19834484065509467,-1.6984989450444554,0.6454744077409759,1.156837525492291,-1.3392031859801345,-1.0476297371919077,0.8978011452694012,0.21692629572147912,-0.4597509119081817,0.19481940643523454,-0.08341557197324237,0.7726127026487843,-1.6792646825069584,-0.6350127596847416,1.0570017823937987,-1.0115000812255166,-1.5882588060836178,-1.8493217471273957,-1.1361901014810987],\"yaxis\":\"y8\",\"type\":\"scatter\"},{\"line\":{\"color\":\"rgba(128, 128, 128, 1.0)\",\"dash\":\"solid\",\"shape\":\"linear\",\"width\":1.3},\"marker\":{\"size\":2,\"symbol\":\"circle\"},\"mode\":\"markers\",\"name\":\"C\",\"text\":\"\",\"x\":[0.778457933302214,-0.9680449357550578,0.39359084183301096,-1.2394985928585338,-0.2164835093388013,-0.1356228708503378,-1.2521746730325765,-1.0835243246963888,0.6250752248509963,0.7718451818596955,0.4318676271026053,-0.8686984687467546,0.18229522144610463,-0.17752709417956644,-0.7853823575966619,-0.06893337907779387,-0.9466983840211649,-0.9221095109610769,1.5774648689521218,0.3930242065630447,0.8277738191842602,-0.8241508298553344,0.07495661144670138,-0.3590170031546842,1.2734557212058224,-1.504383022229239,-0.12596790196229846,0.6123225576918307,0.3426474625945798,0.846089362700548,1.3523055165355302,0.284811559971216,-1.6013083992544557,1.6679084568187605,1.5145816453277892,-0.0046250819630932315,-0.07829149222527237,0.9916207650528954,1.1145048640682926,-1.089729192815636,0.17314040189558932,-0.033796344362975864,0.07562690561269443,1.892594834465393,-1.8348706724093262,1.2584334190829263,0.17218282514485775,0.34213290139111757,-0.7402663222325283,-0.588544402128247,-0.27975100910657263,-0.36609359684194237,-0.8452472534162175,-0.4468861894570877,0.6034241098470298,3.1023651388360145,0.214644091222445,-0.8612338237196326,0.13263420361251016,-0.9710094581449149,0.7227469378577297,-0.7822128929376538,-0.22143889112664097,0.14416334626005273,-0.8833756073627672,1.2612268675473937,0.7928279434498183,-1.0251422302062176,-0.4536854547609093,-0.45958745335640483,0.5182900495849041,0.850977459520938,0.04421513310499319,-1.1175849668722495,-0.8030693507661488,1.92519394398426,0.7217912827510005,-0.3116468245019817,-1.750355552577647,-0.6873302147493952,1.5993325144520412,1.2093688325747638,0.7382608277486163,-0.01307177710019666,0.4249358964426604,1.8114662802257053,-0.23812364488121177,-0.04821109509459664,-0.47886446654041864,-0.4038921916964521,0.5091420384625585,0.4801272970933442,-0.48912145451354583,-1.147042924817787,-0.01032179386658933,0.1321566262110016,-0.384385463475132,1.2891000679608127,0.9391036286315693,1.0197304435884655],\"xaxis\":\"x9\",\"y\":[-0.03802047411749776,0.8773557408303123,-1.118725034659502,-0.10026853830176642,-0.7732404050535409,0.5046837399056341,1.0405541917419667,0.12608346116189315,0.40577463423542737,-0.7153215479409281,1.327560943752907,1.1656233384029329,-2.556184188197719,0.180403725260928,-0.6420497906812835,0.08261155402733383,-0.8722369739240854,-0.5958593510195808,0.5411573911111616,1.5574465766371541,0.35858615040219993,0.1359352618178365,1.2729618354111418,-0.724388992300664,0.8689737956283615,1.0324712942410976,-0.10856722968255036,0.47116535782786606,0.9854431855075556,0.5648817725467724,-0.6741775517296723,-0.08507260800209669,-1.8491296419326837,1.1585345801397426,0.7410669957381095,0.2377646618768121,0.19636956338180683,1.5272074918028045,-0.29867294983582043,-0.1412752058259444,0.9105342836340018,-0.16649235126773396,-0.7152579905771318,1.4136319519783282,-0.3128878018946804,-0.433290552957218,0.8179761999340025,-1.3827284215191413,-0.24279974102893276,0.11564818225015172,0.4496854850035945,-0.4559239150446873,-2.252429793836703,-0.8597249668399786,-2.460767890721159,-0.08821510633908855,-0.7027062778648545,-0.3130299866317652,1.0320592354230556,-0.777357882169852,-2.3438996888466708,-0.5605666594946894,0.06741236942830532,-1.649231246416628,0.22273379564641857,0.13066572471482163,0.5362449801226784,1.4914964504089971,2.2322188903267848,-1.112526390987042,0.1861509871569323,1.1601974306427612,1.2891048070459077,0.9421954734630205,1.175179094583278,0.8345503271306458,0.3124997756836522,0.7382997585383295,2.3441395948533015,-1.4850691091821289,0.3943088653341731,-0.7125698889211279,-0.9260100929069468,0.9521314338176424,-1.3468987254887934,0.07818695724198196,-0.48812591175553643,-0.22272894573145505,-0.8905830222532648,0.5555690475707767,-0.7112369108121137,-0.893619327106401,2.1987281322799466,-0.7478258734501629,-0.11900790060739504,-0.8285148541919645,0.3855746642174358,-0.29794909083781856,-0.16683726369167023,-0.8803568268703029],\"yaxis\":\"y9\",\"type\":\"scatter\"},{\"line\":{\"color\":\"rgba(128, 128, 128, 1.0)\",\"dash\":\"solid\",\"shape\":\"linear\",\"width\":1.3},\"marker\":{\"size\":2,\"symbol\":\"circle\"},\"mode\":\"markers\",\"name\":\"C\",\"text\":\"\",\"x\":[-0.12418495906275873,0.5285054303759434,-0.6483376777606301,-0.2882240309938093,0.5736212497816112,2.239254267902068,-3.7132010957566717,-0.827361314325003,-0.07056871306249225,0.4485007765695378,-1.1425087248215398,0.713665370670025,-0.12237518106470253,-1.5779230985738613,-1.6518453654137415,0.7872739570953827,0.6696097676881092,0.12485407678766407,-0.2592731741227891,-0.6034697000193865,-0.1634147137662408,-0.9185909367956211,-1.5225614971140846,0.32708339513992823,-0.7881580126865311,-0.253793228203105,-0.20667844715897066,0.9083395167937691,0.48256960720999503,-0.9609842265734008,-0.9045949603882426,-0.8259097380548978,-0.4414993729915333,-0.2965042673868797,-1.8110254612575696,-0.6947125921837172,0.22518886816166567,0.9620639813793939,-1.4689365913873842,-0.5002907290334543,0.15554850993818742,1.0644877346151136,0.08741835263849135,-1.2266050665518022,0.009267372916793585,0.9365478847521909,-0.06849812894451411,0.572511977530958,0.2490562834386925,-0.7544740172893082,0.6270155247426541,0.4392751700611625,0.8876910389681761,0.6895447204388416,-0.08376221605853913,0.7519574530059915,0.7928931750275154,-0.07844246435307307,-0.6610778230711215,0.4710622226800591,-3.102751806348052,1.3879524318512182,-1.9793711097598718,0.08488617246516036,-1.6306338131169662,0.31209134076027195,1.527604855019396,2.0868502636121495,-0.41398376859852154,-0.5958562882694559,0.1407586248600635,1.1241522625681128,-0.7699943106290851,0.13748390446668632,-1.0344313621767662,1.589065501698242,-1.483419352532759,1.1109792033938501,0.6953782435953554,0.5181307791043384,1.3792400569088539,-0.19834484065509467,-1.6984989450444554,0.6454744077409759,1.156837525492291,-1.3392031859801345,-1.0476297371919077,0.8978011452694012,0.21692629572147912,-0.4597509119081817,0.19481940643523454,-0.08341557197324237,0.7726127026487843,-1.6792646825069584,-0.6350127596847416,1.0570017823937987,-1.0115000812255166,-1.5882588060836178,-1.8493217471273957,-1.1361901014810987],\"xaxis\":\"x10\",\"y\":[-0.03802047411749776,0.8773557408303123,-1.118725034659502,-0.10026853830176642,-0.7732404050535409,0.5046837399056341,1.0405541917419667,0.12608346116189315,0.40577463423542737,-0.7153215479409281,1.327560943752907,1.1656233384029329,-2.556184188197719,0.180403725260928,-0.6420497906812835,0.08261155402733383,-0.8722369739240854,-0.5958593510195808,0.5411573911111616,1.5574465766371541,0.35858615040219993,0.1359352618178365,1.2729618354111418,-0.724388992300664,0.8689737956283615,1.0324712942410976,-0.10856722968255036,0.47116535782786606,0.9854431855075556,0.5648817725467724,-0.6741775517296723,-0.08507260800209669,-1.8491296419326837,1.1585345801397426,0.7410669957381095,0.2377646618768121,0.19636956338180683,1.5272074918028045,-0.29867294983582043,-0.1412752058259444,0.9105342836340018,-0.16649235126773396,-0.7152579905771318,1.4136319519783282,-0.3128878018946804,-0.433290552957218,0.8179761999340025,-1.3827284215191413,-0.24279974102893276,0.11564818225015172,0.4496854850035945,-0.4559239150446873,-2.252429793836703,-0.8597249668399786,-2.460767890721159,-0.08821510633908855,-0.7027062778648545,-0.3130299866317652,1.0320592354230556,-0.777357882169852,-2.3438996888466708,-0.5605666594946894,0.06741236942830532,-1.649231246416628,0.22273379564641857,0.13066572471482163,0.5362449801226784,1.4914964504089971,2.2322188903267848,-1.112526390987042,0.1861509871569323,1.1601974306427612,1.2891048070459077,0.9421954734630205,1.175179094583278,0.8345503271306458,0.3124997756836522,0.7382997585383295,2.3441395948533015,-1.4850691091821289,0.3943088653341731,-0.7125698889211279,-0.9260100929069468,0.9521314338176424,-1.3468987254887934,0.07818695724198196,-0.48812591175553643,-0.22272894573145505,-0.8905830222532648,0.5555690475707767,-0.7112369108121137,-0.893619327106401,2.1987281322799466,-0.7478258734501629,-0.11900790060739504,-0.8285148541919645,0.3855746642174358,-0.29794909083781856,-0.16683726369167023,-0.8803568268703029],\"yaxis\":\"y10\",\"type\":\"scatter\"},{\"histfunc\":\"count\",\"histnorm\":\"\",\"marker\":{\"color\":\"rgba(50, 171, 96, 1.0)\",\"line\":{\"color\":\"#4D5663\",\"width\":1.3}},\"name\":\"C\",\"nbinsx\":10,\"opacity\":0.8,\"orientation\":\"v\",\"x\":[-0.03802047411749776,0.8773557408303123,-1.118725034659502,-0.10026853830176642,-0.7732404050535409,0.5046837399056341,1.0405541917419667,0.12608346116189315,0.40577463423542737,-0.7153215479409281,1.327560943752907,1.1656233384029329,-2.556184188197719,0.180403725260928,-0.6420497906812835,0.08261155402733383,-0.8722369739240854,-0.5958593510195808,0.5411573911111616,1.5574465766371541,0.35858615040219993,0.1359352618178365,1.2729618354111418,-0.724388992300664,0.8689737956283615,1.0324712942410976,-0.10856722968255036,0.47116535782786606,0.9854431855075556,0.5648817725467724,-0.6741775517296723,-0.08507260800209669,-1.8491296419326837,1.1585345801397426,0.7410669957381095,0.2377646618768121,0.19636956338180683,1.5272074918028045,-0.29867294983582043,-0.1412752058259444,0.9105342836340018,-0.16649235126773396,-0.7152579905771318,1.4136319519783282,-0.3128878018946804,-0.433290552957218,0.8179761999340025,-1.3827284215191413,-0.24279974102893276,0.11564818225015172,0.4496854850035945,-0.4559239150446873,-2.252429793836703,-0.8597249668399786,-2.460767890721159,-0.08821510633908855,-0.7027062778648545,-0.3130299866317652,1.0320592354230556,-0.777357882169852,-2.3438996888466708,-0.5605666594946894,0.06741236942830532,-1.649231246416628,0.22273379564641857,0.13066572471482163,0.5362449801226784,1.4914964504089971,2.2322188903267848,-1.112526390987042,0.1861509871569323,1.1601974306427612,1.2891048070459077,0.9421954734630205,1.175179094583278,0.8345503271306458,0.3124997756836522,0.7382997585383295,2.3441395948533015,-1.4850691091821289,0.3943088653341731,-0.7125698889211279,-0.9260100929069468,0.9521314338176424,-1.3468987254887934,0.07818695724198196,-0.48812591175553643,-0.22272894573145505,-0.8905830222532648,0.5555690475707767,-0.7112369108121137,-0.893619327106401,2.1987281322799466,-0.7478258734501629,-0.11900790060739504,-0.8285148541919645,0.3855746642174358,-0.29794909083781856,-0.16683726369167023,-0.8803568268703029],\"xaxis\":\"x11\",\"yaxis\":\"y11\",\"type\":\"histogram\"},{\"line\":{\"color\":\"rgba(128, 128, 128, 1.0)\",\"dash\":\"solid\",\"shape\":\"linear\",\"width\":1.3},\"marker\":{\"size\":2,\"symbol\":\"circle\"},\"mode\":\"markers\",\"name\":\"C\",\"text\":\"\",\"x\":[0.19364859956418953,0.18583207547663305,1.9923921588463627,1.3188125240482078,0.537805874410933,-0.03848186401102001,-0.32930061650478093,2.2958952087568933,0.466505724210726,-0.7716409579262643,0.5784030178865545,-0.3085829845995051,1.0569521428997875,-0.021678681671287593,-0.15327032167682586,0.38532094024232333,1.624630133457499,1.6736838752131884,0.507620878463986,-1.3331888479271912,-0.008692936117062714,1.2755057690525256,0.8334251065844482,0.10786480563820008,-1.4328300955495161,0.6307401316199052,0.3757313710757838,-0.12381204243145601,2.444630116068402,1.2776539720839692,-0.2753571484946713,1.074406283764291,0.8935449560464446,0.8226339589212641,-0.3760182003569667,-0.5435492836183557,-1.204887322087643,-0.6063927925516598,-1.0747457830894218,0.2609786837151405,0.8486504892819745,-1.1875268382847586,0.7291652246195226,-0.2714729225650268,-0.3149788852602245,0.5933801088684901,-0.7001484527953258,0.31057113592398455,0.8941997046364684,0.696871322191756,0.9667732459813809,0.0795886917274917,1.4708668673386436,1.435440588634307,1.5617836556337106,-1.9930260097477197,0.33343907469044654,0.7127913736643632,0.43648801789717556,-0.48176628908925917,2.1851520391957804,-0.2831216918398867,1.5002057782776956,-0.7422075662104347,0.4674871043293601,1.487680377713003,-0.8109754686950558,1.1836151400260517,-3.2886518125876725,0.47420116098063736,0.4156506373988291,-1.4147882771469515,1.706363977610135,0.2884294207465923,0.14815841816801092,-0.6279943804082091,-0.5284554553268069,-1.3528423917747028,0.7441972948781518,-0.5380758183313948,-1.4680677526079209,0.42836894521875163,0.4874581159173152,-0.03322481239843942,-0.4362206070834838,-2.235968198210766,0.5219170909718297,0.7372645208846011,1.3745998157042327,-0.34707955390016204,-1.5015300123463025,1.0820404851499366,-0.526174680349923,1.1793021497147862,-0.10148494094334251,1.2444090645162498,2.236896752361946,0.4292984789795256,0.7317923794372792,-1.2032486736964108],\"xaxis\":\"x12\",\"y\":[-0.03802047411749776,0.8773557408303123,-1.118725034659502,-0.10026853830176642,-0.7732404050535409,0.5046837399056341,1.0405541917419667,0.12608346116189315,0.40577463423542737,-0.7153215479409281,1.327560943752907,1.1656233384029329,-2.556184188197719,0.180403725260928,-0.6420497906812835,0.08261155402733383,-0.8722369739240854,-0.5958593510195808,0.5411573911111616,1.5574465766371541,0.35858615040219993,0.1359352618178365,1.2729618354111418,-0.724388992300664,0.8689737956283615,1.0324712942410976,-0.10856722968255036,0.47116535782786606,0.9854431855075556,0.5648817725467724,-0.6741775517296723,-0.08507260800209669,-1.8491296419326837,1.1585345801397426,0.7410669957381095,0.2377646618768121,0.19636956338180683,1.5272074918028045,-0.29867294983582043,-0.1412752058259444,0.9105342836340018,-0.16649235126773396,-0.7152579905771318,1.4136319519783282,-0.3128878018946804,-0.433290552957218,0.8179761999340025,-1.3827284215191413,-0.24279974102893276,0.11564818225015172,0.4496854850035945,-0.4559239150446873,-2.252429793836703,-0.8597249668399786,-2.460767890721159,-0.08821510633908855,-0.7027062778648545,-0.3130299866317652,1.0320592354230556,-0.777357882169852,-2.3438996888466708,-0.5605666594946894,0.06741236942830532,-1.649231246416628,0.22273379564641857,0.13066572471482163,0.5362449801226784,1.4914964504089971,2.2322188903267848,-1.112526390987042,0.1861509871569323,1.1601974306427612,1.2891048070459077,0.9421954734630205,1.175179094583278,0.8345503271306458,0.3124997756836522,0.7382997585383295,2.3441395948533015,-1.4850691091821289,0.3943088653341731,-0.7125698889211279,-0.9260100929069468,0.9521314338176424,-1.3468987254887934,0.07818695724198196,-0.48812591175553643,-0.22272894573145505,-0.8905830222532648,0.5555690475707767,-0.7112369108121137,-0.893619327106401,2.1987281322799466,-0.7478258734501629,-0.11900790060739504,-0.8285148541919645,0.3855746642174358,-0.29794909083781856,-0.16683726369167023,-0.8803568268703029],\"yaxis\":\"y12\",\"type\":\"scatter\"},{\"line\":{\"color\":\"rgba(128, 128, 128, 1.0)\",\"dash\":\"solid\",\"shape\":\"linear\",\"width\":1.3},\"marker\":{\"size\":2,\"symbol\":\"circle\"},\"mode\":\"markers\",\"name\":\"D\",\"text\":\"\",\"x\":[0.778457933302214,-0.9680449357550578,0.39359084183301096,-1.2394985928585338,-0.2164835093388013,-0.1356228708503378,-1.2521746730325765,-1.0835243246963888,0.6250752248509963,0.7718451818596955,0.4318676271026053,-0.8686984687467546,0.18229522144610463,-0.17752709417956644,-0.7853823575966619,-0.06893337907779387,-0.9466983840211649,-0.9221095109610769,1.5774648689521218,0.3930242065630447,0.8277738191842602,-0.8241508298553344,0.07495661144670138,-0.3590170031546842,1.2734557212058224,-1.504383022229239,-0.12596790196229846,0.6123225576918307,0.3426474625945798,0.846089362700548,1.3523055165355302,0.284811559971216,-1.6013083992544557,1.6679084568187605,1.5145816453277892,-0.0046250819630932315,-0.07829149222527237,0.9916207650528954,1.1145048640682926,-1.089729192815636,0.17314040189558932,-0.033796344362975864,0.07562690561269443,1.892594834465393,-1.8348706724093262,1.2584334190829263,0.17218282514485775,0.34213290139111757,-0.7402663222325283,-0.588544402128247,-0.27975100910657263,-0.36609359684194237,-0.8452472534162175,-0.4468861894570877,0.6034241098470298,3.1023651388360145,0.214644091222445,-0.8612338237196326,0.13263420361251016,-0.9710094581449149,0.7227469378577297,-0.7822128929376538,-0.22143889112664097,0.14416334626005273,-0.8833756073627672,1.2612268675473937,0.7928279434498183,-1.0251422302062176,-0.4536854547609093,-0.45958745335640483,0.5182900495849041,0.850977459520938,0.04421513310499319,-1.1175849668722495,-0.8030693507661488,1.92519394398426,0.7217912827510005,-0.3116468245019817,-1.750355552577647,-0.6873302147493952,1.5993325144520412,1.2093688325747638,0.7382608277486163,-0.01307177710019666,0.4249358964426604,1.8114662802257053,-0.23812364488121177,-0.04821109509459664,-0.47886446654041864,-0.4038921916964521,0.5091420384625585,0.4801272970933442,-0.48912145451354583,-1.147042924817787,-0.01032179386658933,0.1321566262110016,-0.384385463475132,1.2891000679608127,0.9391036286315693,1.0197304435884655],\"xaxis\":\"x13\",\"y\":[0.19364859956418953,0.18583207547663305,1.9923921588463627,1.3188125240482078,0.537805874410933,-0.03848186401102001,-0.32930061650478093,2.2958952087568933,0.466505724210726,-0.7716409579262643,0.5784030178865545,-0.3085829845995051,1.0569521428997875,-0.021678681671287593,-0.15327032167682586,0.38532094024232333,1.624630133457499,1.6736838752131884,0.507620878463986,-1.3331888479271912,-0.008692936117062714,1.2755057690525256,0.8334251065844482,0.10786480563820008,-1.4328300955495161,0.6307401316199052,0.3757313710757838,-0.12381204243145601,2.444630116068402,1.2776539720839692,-0.2753571484946713,1.074406283764291,0.8935449560464446,0.8226339589212641,-0.3760182003569667,-0.5435492836183557,-1.204887322087643,-0.6063927925516598,-1.0747457830894218,0.2609786837151405,0.8486504892819745,-1.1875268382847586,0.7291652246195226,-0.2714729225650268,-0.3149788852602245,0.5933801088684901,-0.7001484527953258,0.31057113592398455,0.8941997046364684,0.696871322191756,0.9667732459813809,0.0795886917274917,1.4708668673386436,1.435440588634307,1.5617836556337106,-1.9930260097477197,0.33343907469044654,0.7127913736643632,0.43648801789717556,-0.48176628908925917,2.1851520391957804,-0.2831216918398867,1.5002057782776956,-0.7422075662104347,0.4674871043293601,1.487680377713003,-0.8109754686950558,1.1836151400260517,-3.2886518125876725,0.47420116098063736,0.4156506373988291,-1.4147882771469515,1.706363977610135,0.2884294207465923,0.14815841816801092,-0.6279943804082091,-0.5284554553268069,-1.3528423917747028,0.7441972948781518,-0.5380758183313948,-1.4680677526079209,0.42836894521875163,0.4874581159173152,-0.03322481239843942,-0.4362206070834838,-2.235968198210766,0.5219170909718297,0.7372645208846011,1.3745998157042327,-0.34707955390016204,-1.5015300123463025,1.0820404851499366,-0.526174680349923,1.1793021497147862,-0.10148494094334251,1.2444090645162498,2.236896752361946,0.4292984789795256,0.7317923794372792,-1.2032486736964108],\"yaxis\":\"y13\",\"type\":\"scatter\"},{\"line\":{\"color\":\"rgba(128, 128, 128, 1.0)\",\"dash\":\"solid\",\"shape\":\"linear\",\"width\":1.3},\"marker\":{\"size\":2,\"symbol\":\"circle\"},\"mode\":\"markers\",\"name\":\"D\",\"text\":\"\",\"x\":[-0.12418495906275873,0.5285054303759434,-0.6483376777606301,-0.2882240309938093,0.5736212497816112,2.239254267902068,-3.7132010957566717,-0.827361314325003,-0.07056871306249225,0.4485007765695378,-1.1425087248215398,0.713665370670025,-0.12237518106470253,-1.5779230985738613,-1.6518453654137415,0.7872739570953827,0.6696097676881092,0.12485407678766407,-0.2592731741227891,-0.6034697000193865,-0.1634147137662408,-0.9185909367956211,-1.5225614971140846,0.32708339513992823,-0.7881580126865311,-0.253793228203105,-0.20667844715897066,0.9083395167937691,0.48256960720999503,-0.9609842265734008,-0.9045949603882426,-0.8259097380548978,-0.4414993729915333,-0.2965042673868797,-1.8110254612575696,-0.6947125921837172,0.22518886816166567,0.9620639813793939,-1.4689365913873842,-0.5002907290334543,0.15554850993818742,1.0644877346151136,0.08741835263849135,-1.2266050665518022,0.009267372916793585,0.9365478847521909,-0.06849812894451411,0.572511977530958,0.2490562834386925,-0.7544740172893082,0.6270155247426541,0.4392751700611625,0.8876910389681761,0.6895447204388416,-0.08376221605853913,0.7519574530059915,0.7928931750275154,-0.07844246435307307,-0.6610778230711215,0.4710622226800591,-3.102751806348052,1.3879524318512182,-1.9793711097598718,0.08488617246516036,-1.6306338131169662,0.31209134076027195,1.527604855019396,2.0868502636121495,-0.41398376859852154,-0.5958562882694559,0.1407586248600635,1.1241522625681128,-0.7699943106290851,0.13748390446668632,-1.0344313621767662,1.589065501698242,-1.483419352532759,1.1109792033938501,0.6953782435953554,0.5181307791043384,1.3792400569088539,-0.19834484065509467,-1.6984989450444554,0.6454744077409759,1.156837525492291,-1.3392031859801345,-1.0476297371919077,0.8978011452694012,0.21692629572147912,-0.4597509119081817,0.19481940643523454,-0.08341557197324237,0.7726127026487843,-1.6792646825069584,-0.6350127596847416,1.0570017823937987,-1.0115000812255166,-1.5882588060836178,-1.8493217471273957,-1.1361901014810987],\"xaxis\":\"x14\",\"y\":[0.19364859956418953,0.18583207547663305,1.9923921588463627,1.3188125240482078,0.537805874410933,-0.03848186401102001,-0.32930061650478093,2.2958952087568933,0.466505724210726,-0.7716409579262643,0.5784030178865545,-0.3085829845995051,1.0569521428997875,-0.021678681671287593,-0.15327032167682586,0.38532094024232333,1.624630133457499,1.6736838752131884,0.507620878463986,-1.3331888479271912,-0.008692936117062714,1.2755057690525256,0.8334251065844482,0.10786480563820008,-1.4328300955495161,0.6307401316199052,0.3757313710757838,-0.12381204243145601,2.444630116068402,1.2776539720839692,-0.2753571484946713,1.074406283764291,0.8935449560464446,0.8226339589212641,-0.3760182003569667,-0.5435492836183557,-1.204887322087643,-0.6063927925516598,-1.0747457830894218,0.2609786837151405,0.8486504892819745,-1.1875268382847586,0.7291652246195226,-0.2714729225650268,-0.3149788852602245,0.5933801088684901,-0.7001484527953258,0.31057113592398455,0.8941997046364684,0.696871322191756,0.9667732459813809,0.0795886917274917,1.4708668673386436,1.435440588634307,1.5617836556337106,-1.9930260097477197,0.33343907469044654,0.7127913736643632,0.43648801789717556,-0.48176628908925917,2.1851520391957804,-0.2831216918398867,1.5002057782776956,-0.7422075662104347,0.4674871043293601,1.487680377713003,-0.8109754686950558,1.1836151400260517,-3.2886518125876725,0.47420116098063736,0.4156506373988291,-1.4147882771469515,1.706363977610135,0.2884294207465923,0.14815841816801092,-0.6279943804082091,-0.5284554553268069,-1.3528423917747028,0.7441972948781518,-0.5380758183313948,-1.4680677526079209,0.42836894521875163,0.4874581159173152,-0.03322481239843942,-0.4362206070834838,-2.235968198210766,0.5219170909718297,0.7372645208846011,1.3745998157042327,-0.34707955390016204,-1.5015300123463025,1.0820404851499366,-0.526174680349923,1.1793021497147862,-0.10148494094334251,1.2444090645162498,2.236896752361946,0.4292984789795256,0.7317923794372792,-1.2032486736964108],\"yaxis\":\"y14\",\"type\":\"scatter\"},{\"line\":{\"color\":\"rgba(128, 128, 128, 1.0)\",\"dash\":\"solid\",\"shape\":\"linear\",\"width\":1.3},\"marker\":{\"size\":2,\"symbol\":\"circle\"},\"mode\":\"markers\",\"name\":\"D\",\"text\":\"\",\"x\":[-0.03802047411749776,0.8773557408303123,-1.118725034659502,-0.10026853830176642,-0.7732404050535409,0.5046837399056341,1.0405541917419667,0.12608346116189315,0.40577463423542737,-0.7153215479409281,1.327560943752907,1.1656233384029329,-2.556184188197719,0.180403725260928,-0.6420497906812835,0.08261155402733383,-0.8722369739240854,-0.5958593510195808,0.5411573911111616,1.5574465766371541,0.35858615040219993,0.1359352618178365,1.2729618354111418,-0.724388992300664,0.8689737956283615,1.0324712942410976,-0.10856722968255036,0.47116535782786606,0.9854431855075556,0.5648817725467724,-0.6741775517296723,-0.08507260800209669,-1.8491296419326837,1.1585345801397426,0.7410669957381095,0.2377646618768121,0.19636956338180683,1.5272074918028045,-0.29867294983582043,-0.1412752058259444,0.9105342836340018,-0.16649235126773396,-0.7152579905771318,1.4136319519783282,-0.3128878018946804,-0.433290552957218,0.8179761999340025,-1.3827284215191413,-0.24279974102893276,0.11564818225015172,0.4496854850035945,-0.4559239150446873,-2.252429793836703,-0.8597249668399786,-2.460767890721159,-0.08821510633908855,-0.7027062778648545,-0.3130299866317652,1.0320592354230556,-0.777357882169852,-2.3438996888466708,-0.5605666594946894,0.06741236942830532,-1.649231246416628,0.22273379564641857,0.13066572471482163,0.5362449801226784,1.4914964504089971,2.2322188903267848,-1.112526390987042,0.1861509871569323,1.1601974306427612,1.2891048070459077,0.9421954734630205,1.175179094583278,0.8345503271306458,0.3124997756836522,0.7382997585383295,2.3441395948533015,-1.4850691091821289,0.3943088653341731,-0.7125698889211279,-0.9260100929069468,0.9521314338176424,-1.3468987254887934,0.07818695724198196,-0.48812591175553643,-0.22272894573145505,-0.8905830222532648,0.5555690475707767,-0.7112369108121137,-0.893619327106401,2.1987281322799466,-0.7478258734501629,-0.11900790060739504,-0.8285148541919645,0.3855746642174358,-0.29794909083781856,-0.16683726369167023,-0.8803568268703029],\"xaxis\":\"x15\",\"y\":[0.19364859956418953,0.18583207547663305,1.9923921588463627,1.3188125240482078,0.537805874410933,-0.03848186401102001,-0.32930061650478093,2.2958952087568933,0.466505724210726,-0.7716409579262643,0.5784030178865545,-0.3085829845995051,1.0569521428997875,-0.021678681671287593,-0.15327032167682586,0.38532094024232333,1.624630133457499,1.6736838752131884,0.507620878463986,-1.3331888479271912,-0.008692936117062714,1.2755057690525256,0.8334251065844482,0.10786480563820008,-1.4328300955495161,0.6307401316199052,0.3757313710757838,-0.12381204243145601,2.444630116068402,1.2776539720839692,-0.2753571484946713,1.074406283764291,0.8935449560464446,0.8226339589212641,-0.3760182003569667,-0.5435492836183557,-1.204887322087643,-0.6063927925516598,-1.0747457830894218,0.2609786837151405,0.8486504892819745,-1.1875268382847586,0.7291652246195226,-0.2714729225650268,-0.3149788852602245,0.5933801088684901,-0.7001484527953258,0.31057113592398455,0.8941997046364684,0.696871322191756,0.9667732459813809,0.0795886917274917,1.4708668673386436,1.435440588634307,1.5617836556337106,-1.9930260097477197,0.33343907469044654,0.7127913736643632,0.43648801789717556,-0.48176628908925917,2.1851520391957804,-0.2831216918398867,1.5002057782776956,-0.7422075662104347,0.4674871043293601,1.487680377713003,-0.8109754686950558,1.1836151400260517,-3.2886518125876725,0.47420116098063736,0.4156506373988291,-1.4147882771469515,1.706363977610135,0.2884294207465923,0.14815841816801092,-0.6279943804082091,-0.5284554553268069,-1.3528423917747028,0.7441972948781518,-0.5380758183313948,-1.4680677526079209,0.42836894521875163,0.4874581159173152,-0.03322481239843942,-0.4362206070834838,-2.235968198210766,0.5219170909718297,0.7372645208846011,1.3745998157042327,-0.34707955390016204,-1.5015300123463025,1.0820404851499366,-0.526174680349923,1.1793021497147862,-0.10148494094334251,1.2444090645162498,2.236896752361946,0.4292984789795256,0.7317923794372792,-1.2032486736964108],\"yaxis\":\"y15\",\"type\":\"scatter\"},{\"histfunc\":\"count\",\"histnorm\":\"\",\"marker\":{\"color\":\"rgba(128, 0, 128, 1.0)\",\"line\":{\"color\":\"#4D5663\",\"width\":1.3}},\"name\":\"D\",\"nbinsx\":10,\"opacity\":0.8,\"orientation\":\"v\",\"x\":[0.19364859956418953,0.18583207547663305,1.9923921588463627,1.3188125240482078,0.537805874410933,-0.03848186401102001,-0.32930061650478093,2.2958952087568933,0.466505724210726,-0.7716409579262643,0.5784030178865545,-0.3085829845995051,1.0569521428997875,-0.021678681671287593,-0.15327032167682586,0.38532094024232333,1.624630133457499,1.6736838752131884,0.507620878463986,-1.3331888479271912,-0.008692936117062714,1.2755057690525256,0.8334251065844482,0.10786480563820008,-1.4328300955495161,0.6307401316199052,0.3757313710757838,-0.12381204243145601,2.444630116068402,1.2776539720839692,-0.2753571484946713,1.074406283764291,0.8935449560464446,0.8226339589212641,-0.3760182003569667,-0.5435492836183557,-1.204887322087643,-0.6063927925516598,-1.0747457830894218,0.2609786837151405,0.8486504892819745,-1.1875268382847586,0.7291652246195226,-0.2714729225650268,-0.3149788852602245,0.5933801088684901,-0.7001484527953258,0.31057113592398455,0.8941997046364684,0.696871322191756,0.9667732459813809,0.0795886917274917,1.4708668673386436,1.435440588634307,1.5617836556337106,-1.9930260097477197,0.33343907469044654,0.7127913736643632,0.43648801789717556,-0.48176628908925917,2.1851520391957804,-0.2831216918398867,1.5002057782776956,-0.7422075662104347,0.4674871043293601,1.487680377713003,-0.8109754686950558,1.1836151400260517,-3.2886518125876725,0.47420116098063736,0.4156506373988291,-1.4147882771469515,1.706363977610135,0.2884294207465923,0.14815841816801092,-0.6279943804082091,-0.5284554553268069,-1.3528423917747028,0.7441972948781518,-0.5380758183313948,-1.4680677526079209,0.42836894521875163,0.4874581159173152,-0.03322481239843942,-0.4362206070834838,-2.235968198210766,0.5219170909718297,0.7372645208846011,1.3745998157042327,-0.34707955390016204,-1.5015300123463025,1.0820404851499366,-0.526174680349923,1.1793021497147862,-0.10148494094334251,1.2444090645162498,2.236896752361946,0.4292984789795256,0.7317923794372792,-1.2032486736964108],\"xaxis\":\"x16\",\"yaxis\":\"y16\",\"type\":\"histogram\"}],                        {\"bargap\":0.02,\"legend\":{\"bgcolor\":\"#F5F6F9\",\"font\":{\"color\":\"#4D5663\"}},\"paper_bgcolor\":\"#F5F6F9\",\"plot_bgcolor\":\"#F5F6F9\",\"showlegend\":false,\"template\":{\"data\":{\"barpolar\":[{\"marker\":{\"line\":{\"color\":\"#E5ECF6\",\"width\":0.5},\"pattern\":{\"fillmode\":\"overlay\",\"size\":10,\"solidity\":0.2}},\"type\":\"barpolar\"}],\"bar\":[{\"error_x\":{\"color\":\"#2a3f5f\"},\"error_y\":{\"color\":\"#2a3f5f\"},\"marker\":{\"line\":{\"color\":\"#E5ECF6\",\"width\":0.5},\"pattern\":{\"fillmode\":\"overlay\",\"size\":10,\"solidity\":0.2}},\"type\":\"bar\"}],\"carpet\":[{\"aaxis\":{\"endlinecolor\":\"#2a3f5f\",\"gridcolor\":\"white\",\"linecolor\":\"white\",\"minorgridcolor\":\"white\",\"startlinecolor\":\"#2a3f5f\"},\"baxis\":{\"endlinecolor\":\"#2a3f5f\",\"gridcolor\":\"white\",\"linecolor\":\"white\",\"minorgridcolor\":\"white\",\"startlinecolor\":\"#2a3f5f\"},\"type\":\"carpet\"}],\"choropleth\":[{\"colorbar\":{\"outlinewidth\":0,\"ticks\":\"\"},\"type\":\"choropleth\"}],\"contourcarpet\":[{\"colorbar\":{\"outlinewidth\":0,\"ticks\":\"\"},\"type\":\"contourcarpet\"}],\"contour\":[{\"colorbar\":{\"outlinewidth\":0,\"ticks\":\"\"},\"colorscale\":[[0.0,\"#0d0887\"],[0.1111111111111111,\"#46039f\"],[0.2222222222222222,\"#7201a8\"],[0.3333333333333333,\"#9c179e\"],[0.4444444444444444,\"#bd3786\"],[0.5555555555555556,\"#d8576b\"],[0.6666666666666666,\"#ed7953\"],[0.7777777777777778,\"#fb9f3a\"],[0.8888888888888888,\"#fdca26\"],[1.0,\"#f0f921\"]],\"type\":\"contour\"}],\"heatmapgl\":[{\"colorbar\":{\"outlinewidth\":0,\"ticks\":\"\"},\"colorscale\":[[0.0,\"#0d0887\"],[0.1111111111111111,\"#46039f\"],[0.2222222222222222,\"#7201a8\"],[0.3333333333333333,\"#9c179e\"],[0.4444444444444444,\"#bd3786\"],[0.5555555555555556,\"#d8576b\"],[0.6666666666666666,\"#ed7953\"],[0.7777777777777778,\"#fb9f3a\"],[0.8888888888888888,\"#fdca26\"],[1.0,\"#f0f921\"]],\"type\":\"heatmapgl\"}],\"heatmap\":[{\"colorbar\":{\"outlinewidth\":0,\"ticks\":\"\"},\"colorscale\":[[0.0,\"#0d0887\"],[0.1111111111111111,\"#46039f\"],[0.2222222222222222,\"#7201a8\"],[0.3333333333333333,\"#9c179e\"],[0.4444444444444444,\"#bd3786\"],[0.5555555555555556,\"#d8576b\"],[0.6666666666666666,\"#ed7953\"],[0.7777777777777778,\"#fb9f3a\"],[0.8888888888888888,\"#fdca26\"],[1.0,\"#f0f921\"]],\"type\":\"heatmap\"}],\"histogram2dcontour\":[{\"colorbar\":{\"outlinewidth\":0,\"ticks\":\"\"},\"colorscale\":[[0.0,\"#0d0887\"],[0.1111111111111111,\"#46039f\"],[0.2222222222222222,\"#7201a8\"],[0.3333333333333333,\"#9c179e\"],[0.4444444444444444,\"#bd3786\"],[0.5555555555555556,\"#d8576b\"],[0.6666666666666666,\"#ed7953\"],[0.7777777777777778,\"#fb9f3a\"],[0.8888888888888888,\"#fdca26\"],[1.0,\"#f0f921\"]],\"type\":\"histogram2dcontour\"}],\"histogram2d\":[{\"colorbar\":{\"outlinewidth\":0,\"ticks\":\"\"},\"colorscale\":[[0.0,\"#0d0887\"],[0.1111111111111111,\"#46039f\"],[0.2222222222222222,\"#7201a8\"],[0.3333333333333333,\"#9c179e\"],[0.4444444444444444,\"#bd3786\"],[0.5555555555555556,\"#d8576b\"],[0.6666666666666666,\"#ed7953\"],[0.7777777777777778,\"#fb9f3a\"],[0.8888888888888888,\"#fdca26\"],[1.0,\"#f0f921\"]],\"type\":\"histogram2d\"}],\"histogram\":[{\"marker\":{\"pattern\":{\"fillmode\":\"overlay\",\"size\":10,\"solidity\":0.2}},\"type\":\"histogram\"}],\"mesh3d\":[{\"colorbar\":{\"outlinewidth\":0,\"ticks\":\"\"},\"type\":\"mesh3d\"}],\"parcoords\":[{\"line\":{\"colorbar\":{\"outlinewidth\":0,\"ticks\":\"\"}},\"type\":\"parcoords\"}],\"pie\":[{\"automargin\":true,\"type\":\"pie\"}],\"scatter3d\":[{\"line\":{\"colorbar\":{\"outlinewidth\":0,\"ticks\":\"\"}},\"marker\":{\"colorbar\":{\"outlinewidth\":0,\"ticks\":\"\"}},\"type\":\"scatter3d\"}],\"scattercarpet\":[{\"marker\":{\"colorbar\":{\"outlinewidth\":0,\"ticks\":\"\"}},\"type\":\"scattercarpet\"}],\"scattergeo\":[{\"marker\":{\"colorbar\":{\"outlinewidth\":0,\"ticks\":\"\"}},\"type\":\"scattergeo\"}],\"scattergl\":[{\"marker\":{\"colorbar\":{\"outlinewidth\":0,\"ticks\":\"\"}},\"type\":\"scattergl\"}],\"scattermapbox\":[{\"marker\":{\"colorbar\":{\"outlinewidth\":0,\"ticks\":\"\"}},\"type\":\"scattermapbox\"}],\"scatterpolargl\":[{\"marker\":{\"colorbar\":{\"outlinewidth\":0,\"ticks\":\"\"}},\"type\":\"scatterpolargl\"}],\"scatterpolar\":[{\"marker\":{\"colorbar\":{\"outlinewidth\":0,\"ticks\":\"\"}},\"type\":\"scatterpolar\"}],\"scatter\":[{\"fillpattern\":{\"fillmode\":\"overlay\",\"size\":10,\"solidity\":0.2},\"type\":\"scatter\"}],\"scatterternary\":[{\"marker\":{\"colorbar\":{\"outlinewidth\":0,\"ticks\":\"\"}},\"type\":\"scatterternary\"}],\"surface\":[{\"colorbar\":{\"outlinewidth\":0,\"ticks\":\"\"},\"colorscale\":[[0.0,\"#0d0887\"],[0.1111111111111111,\"#46039f\"],[0.2222222222222222,\"#7201a8\"],[0.3333333333333333,\"#9c179e\"],[0.4444444444444444,\"#bd3786\"],[0.5555555555555556,\"#d8576b\"],[0.6666666666666666,\"#ed7953\"],[0.7777777777777778,\"#fb9f3a\"],[0.8888888888888888,\"#fdca26\"],[1.0,\"#f0f921\"]],\"type\":\"surface\"}],\"table\":[{\"cells\":{\"fill\":{\"color\":\"#EBF0F8\"},\"line\":{\"color\":\"white\"}},\"header\":{\"fill\":{\"color\":\"#C8D4E3\"},\"line\":{\"color\":\"white\"}},\"type\":\"table\"}]},\"layout\":{\"annotationdefaults\":{\"arrowcolor\":\"#2a3f5f\",\"arrowhead\":0,\"arrowwidth\":1},\"autotypenumbers\":\"strict\",\"coloraxis\":{\"colorbar\":{\"outlinewidth\":0,\"ticks\":\"\"}},\"colorscale\":{\"diverging\":[[0,\"#8e0152\"],[0.1,\"#c51b7d\"],[0.2,\"#de77ae\"],[0.3,\"#f1b6da\"],[0.4,\"#fde0ef\"],[0.5,\"#f7f7f7\"],[0.6,\"#e6f5d0\"],[0.7,\"#b8e186\"],[0.8,\"#7fbc41\"],[0.9,\"#4d9221\"],[1,\"#276419\"]],\"sequential\":[[0.0,\"#0d0887\"],[0.1111111111111111,\"#46039f\"],[0.2222222222222222,\"#7201a8\"],[0.3333333333333333,\"#9c179e\"],[0.4444444444444444,\"#bd3786\"],[0.5555555555555556,\"#d8576b\"],[0.6666666666666666,\"#ed7953\"],[0.7777777777777778,\"#fb9f3a\"],[0.8888888888888888,\"#fdca26\"],[1.0,\"#f0f921\"]],\"sequentialminus\":[[0.0,\"#0d0887\"],[0.1111111111111111,\"#46039f\"],[0.2222222222222222,\"#7201a8\"],[0.3333333333333333,\"#9c179e\"],[0.4444444444444444,\"#bd3786\"],[0.5555555555555556,\"#d8576b\"],[0.6666666666666666,\"#ed7953\"],[0.7777777777777778,\"#fb9f3a\"],[0.8888888888888888,\"#fdca26\"],[1.0,\"#f0f921\"]]},\"colorway\":[\"#636efa\",\"#EF553B\",\"#00cc96\",\"#ab63fa\",\"#FFA15A\",\"#19d3f3\",\"#FF6692\",\"#B6E880\",\"#FF97FF\",\"#FECB52\"],\"font\":{\"color\":\"#2a3f5f\"},\"geo\":{\"bgcolor\":\"white\",\"lakecolor\":\"white\",\"landcolor\":\"#E5ECF6\",\"showlakes\":true,\"showland\":true,\"subunitcolor\":\"white\"},\"hoverlabel\":{\"align\":\"left\"},\"hovermode\":\"closest\",\"mapbox\":{\"style\":\"light\"},\"paper_bgcolor\":\"white\",\"plot_bgcolor\":\"#E5ECF6\",\"polar\":{\"angularaxis\":{\"gridcolor\":\"white\",\"linecolor\":\"white\",\"ticks\":\"\"},\"bgcolor\":\"#E5ECF6\",\"radialaxis\":{\"gridcolor\":\"white\",\"linecolor\":\"white\",\"ticks\":\"\"}},\"scene\":{\"xaxis\":{\"backgroundcolor\":\"#E5ECF6\",\"gridcolor\":\"white\",\"gridwidth\":2,\"linecolor\":\"white\",\"showbackground\":true,\"ticks\":\"\",\"zerolinecolor\":\"white\"},\"yaxis\":{\"backgroundcolor\":\"#E5ECF6\",\"gridcolor\":\"white\",\"gridwidth\":2,\"linecolor\":\"white\",\"showbackground\":true,\"ticks\":\"\",\"zerolinecolor\":\"white\"},\"zaxis\":{\"backgroundcolor\":\"#E5ECF6\",\"gridcolor\":\"white\",\"gridwidth\":2,\"linecolor\":\"white\",\"showbackground\":true,\"ticks\":\"\",\"zerolinecolor\":\"white\"}},\"shapedefaults\":{\"line\":{\"color\":\"#2a3f5f\"}},\"ternary\":{\"aaxis\":{\"gridcolor\":\"white\",\"linecolor\":\"white\",\"ticks\":\"\"},\"baxis\":{\"gridcolor\":\"white\",\"linecolor\":\"white\",\"ticks\":\"\"},\"bgcolor\":\"#E5ECF6\",\"caxis\":{\"gridcolor\":\"white\",\"linecolor\":\"white\",\"ticks\":\"\"}},\"title\":{\"x\":0.05},\"xaxis\":{\"automargin\":true,\"gridcolor\":\"white\",\"linecolor\":\"white\",\"ticks\":\"\",\"title\":{\"standoff\":15},\"zerolinecolor\":\"white\",\"zerolinewidth\":2},\"yaxis\":{\"automargin\":true,\"gridcolor\":\"white\",\"linecolor\":\"white\",\"ticks\":\"\",\"title\":{\"standoff\":15},\"zerolinecolor\":\"white\",\"zerolinewidth\":2}}},\"title\":{\"font\":{\"color\":\"#4D5663\"}},\"xaxis\":{\"anchor\":\"y\",\"domain\":[0.0,0.2125],\"gridcolor\":\"#E1E5ED\",\"showgrid\":false,\"tickfont\":{\"color\":\"#4D5663\"},\"title\":{\"font\":{\"color\":\"#4D5663\"},\"text\":\"\"},\"zerolinecolor\":\"#E1E5ED\"},\"yaxis\":{\"anchor\":\"x\",\"domain\":[0.8025,1.0],\"gridcolor\":\"#E1E5ED\",\"showgrid\":false,\"tickfont\":{\"color\":\"#4D5663\"},\"title\":{\"font\":{\"color\":\"#4D5663\"},\"text\":\"\"},\"zerolinecolor\":\"#E1E5ED\"},\"xaxis2\":{\"anchor\":\"y2\",\"domain\":[0.2625,0.475],\"gridcolor\":\"#E1E5ED\",\"showgrid\":false,\"tickfont\":{\"color\":\"#4D5663\"},\"title\":{\"font\":{\"color\":\"#4D5663\"},\"text\":\"\"},\"zerolinecolor\":\"#E1E5ED\"},\"yaxis2\":{\"anchor\":\"x2\",\"domain\":[0.8025,1.0],\"gridcolor\":\"#E1E5ED\",\"showgrid\":false,\"tickfont\":{\"color\":\"#4D5663\"},\"title\":{\"font\":{\"color\":\"#4D5663\"},\"text\":\"\"},\"zerolinecolor\":\"#E1E5ED\"},\"xaxis3\":{\"anchor\":\"y3\",\"domain\":[0.525,0.7375],\"gridcolor\":\"#E1E5ED\",\"showgrid\":false,\"tickfont\":{\"color\":\"#4D5663\"},\"title\":{\"font\":{\"color\":\"#4D5663\"},\"text\":\"\"},\"zerolinecolor\":\"#E1E5ED\"},\"yaxis3\":{\"anchor\":\"x3\",\"domain\":[0.8025,1.0],\"gridcolor\":\"#E1E5ED\",\"showgrid\":false,\"tickfont\":{\"color\":\"#4D5663\"},\"title\":{\"font\":{\"color\":\"#4D5663\"},\"text\":\"\"},\"zerolinecolor\":\"#E1E5ED\"},\"xaxis4\":{\"anchor\":\"y4\",\"domain\":[0.7875,1.0],\"gridcolor\":\"#E1E5ED\",\"showgrid\":false,\"tickfont\":{\"color\":\"#4D5663\"},\"title\":{\"font\":{\"color\":\"#4D5663\"},\"text\":\"\"},\"zerolinecolor\":\"#E1E5ED\"},\"yaxis4\":{\"anchor\":\"x4\",\"domain\":[0.8025,1.0],\"gridcolor\":\"#E1E5ED\",\"showgrid\":false,\"tickfont\":{\"color\":\"#4D5663\"},\"title\":{\"font\":{\"color\":\"#4D5663\"},\"text\":\"\"},\"zerolinecolor\":\"#E1E5ED\"},\"xaxis5\":{\"anchor\":\"y5\",\"domain\":[0.0,0.2125],\"gridcolor\":\"#E1E5ED\",\"showgrid\":false,\"tickfont\":{\"color\":\"#4D5663\"},\"title\":{\"font\":{\"color\":\"#4D5663\"},\"text\":\"\"},\"zerolinecolor\":\"#E1E5ED\"},\"yaxis5\":{\"anchor\":\"x5\",\"domain\":[0.535,0.7325],\"gridcolor\":\"#E1E5ED\",\"showgrid\":false,\"tickfont\":{\"color\":\"#4D5663\"},\"title\":{\"font\":{\"color\":\"#4D5663\"},\"text\":\"\"},\"zerolinecolor\":\"#E1E5ED\"},\"xaxis6\":{\"anchor\":\"y6\",\"domain\":[0.2625,0.475],\"gridcolor\":\"#E1E5ED\",\"showgrid\":false,\"tickfont\":{\"color\":\"#4D5663\"},\"title\":{\"font\":{\"color\":\"#4D5663\"},\"text\":\"\"},\"zerolinecolor\":\"#E1E5ED\"},\"yaxis6\":{\"anchor\":\"x6\",\"domain\":[0.535,0.7325],\"gridcolor\":\"#E1E5ED\",\"showgrid\":false,\"tickfont\":{\"color\":\"#4D5663\"},\"title\":{\"font\":{\"color\":\"#4D5663\"},\"text\":\"\"},\"zerolinecolor\":\"#E1E5ED\"},\"xaxis7\":{\"anchor\":\"y7\",\"domain\":[0.525,0.7375],\"gridcolor\":\"#E1E5ED\",\"showgrid\":false,\"tickfont\":{\"color\":\"#4D5663\"},\"title\":{\"font\":{\"color\":\"#4D5663\"},\"text\":\"\"},\"zerolinecolor\":\"#E1E5ED\"},\"yaxis7\":{\"anchor\":\"x7\",\"domain\":[0.535,0.7325],\"gridcolor\":\"#E1E5ED\",\"showgrid\":false,\"tickfont\":{\"color\":\"#4D5663\"},\"title\":{\"font\":{\"color\":\"#4D5663\"},\"text\":\"\"},\"zerolinecolor\":\"#E1E5ED\"},\"xaxis8\":{\"anchor\":\"y8\",\"domain\":[0.7875,1.0],\"gridcolor\":\"#E1E5ED\",\"showgrid\":false,\"tickfont\":{\"color\":\"#4D5663\"},\"title\":{\"font\":{\"color\":\"#4D5663\"},\"text\":\"\"},\"zerolinecolor\":\"#E1E5ED\"},\"yaxis8\":{\"anchor\":\"x8\",\"domain\":[0.535,0.7325],\"gridcolor\":\"#E1E5ED\",\"showgrid\":false,\"tickfont\":{\"color\":\"#4D5663\"},\"title\":{\"font\":{\"color\":\"#4D5663\"},\"text\":\"\"},\"zerolinecolor\":\"#E1E5ED\"},\"xaxis9\":{\"anchor\":\"y9\",\"domain\":[0.0,0.2125],\"gridcolor\":\"#E1E5ED\",\"showgrid\":false,\"tickfont\":{\"color\":\"#4D5663\"},\"title\":{\"font\":{\"color\":\"#4D5663\"},\"text\":\"\"},\"zerolinecolor\":\"#E1E5ED\"},\"yaxis9\":{\"anchor\":\"x9\",\"domain\":[0.2675,0.465],\"gridcolor\":\"#E1E5ED\",\"showgrid\":false,\"tickfont\":{\"color\":\"#4D5663\"},\"title\":{\"font\":{\"color\":\"#4D5663\"},\"text\":\"\"},\"zerolinecolor\":\"#E1E5ED\"},\"xaxis10\":{\"anchor\":\"y10\",\"domain\":[0.2625,0.475],\"gridcolor\":\"#E1E5ED\",\"showgrid\":false,\"tickfont\":{\"color\":\"#4D5663\"},\"title\":{\"font\":{\"color\":\"#4D5663\"},\"text\":\"\"},\"zerolinecolor\":\"#E1E5ED\"},\"yaxis10\":{\"anchor\":\"x10\",\"domain\":[0.2675,0.465],\"gridcolor\":\"#E1E5ED\",\"showgrid\":false,\"tickfont\":{\"color\":\"#4D5663\"},\"title\":{\"font\":{\"color\":\"#4D5663\"},\"text\":\"\"},\"zerolinecolor\":\"#E1E5ED\"},\"xaxis11\":{\"anchor\":\"y11\",\"domain\":[0.525,0.7375],\"gridcolor\":\"#E1E5ED\",\"showgrid\":false,\"tickfont\":{\"color\":\"#4D5663\"},\"title\":{\"font\":{\"color\":\"#4D5663\"},\"text\":\"\"},\"zerolinecolor\":\"#E1E5ED\"},\"yaxis11\":{\"anchor\":\"x11\",\"domain\":[0.2675,0.465],\"gridcolor\":\"#E1E5ED\",\"showgrid\":false,\"tickfont\":{\"color\":\"#4D5663\"},\"title\":{\"font\":{\"color\":\"#4D5663\"},\"text\":\"\"},\"zerolinecolor\":\"#E1E5ED\"},\"xaxis12\":{\"anchor\":\"y12\",\"domain\":[0.7875,1.0],\"gridcolor\":\"#E1E5ED\",\"showgrid\":false,\"tickfont\":{\"color\":\"#4D5663\"},\"title\":{\"font\":{\"color\":\"#4D5663\"},\"text\":\"\"},\"zerolinecolor\":\"#E1E5ED\"},\"yaxis12\":{\"anchor\":\"x12\",\"domain\":[0.2675,0.465],\"gridcolor\":\"#E1E5ED\",\"showgrid\":false,\"tickfont\":{\"color\":\"#4D5663\"},\"title\":{\"font\":{\"color\":\"#4D5663\"},\"text\":\"\"},\"zerolinecolor\":\"#E1E5ED\"},\"xaxis13\":{\"anchor\":\"y13\",\"domain\":[0.0,0.2125],\"gridcolor\":\"#E1E5ED\",\"showgrid\":false,\"tickfont\":{\"color\":\"#4D5663\"},\"title\":{\"font\":{\"color\":\"#4D5663\"},\"text\":\"\"},\"zerolinecolor\":\"#E1E5ED\"},\"yaxis13\":{\"anchor\":\"x13\",\"domain\":[0.0,0.1975],\"gridcolor\":\"#E1E5ED\",\"showgrid\":false,\"tickfont\":{\"color\":\"#4D5663\"},\"title\":{\"font\":{\"color\":\"#4D5663\"},\"text\":\"\"},\"zerolinecolor\":\"#E1E5ED\"},\"xaxis14\":{\"anchor\":\"y14\",\"domain\":[0.2625,0.475],\"gridcolor\":\"#E1E5ED\",\"showgrid\":false,\"tickfont\":{\"color\":\"#4D5663\"},\"title\":{\"font\":{\"color\":\"#4D5663\"},\"text\":\"\"},\"zerolinecolor\":\"#E1E5ED\"},\"yaxis14\":{\"anchor\":\"x14\",\"domain\":[0.0,0.1975],\"gridcolor\":\"#E1E5ED\",\"showgrid\":false,\"tickfont\":{\"color\":\"#4D5663\"},\"title\":{\"font\":{\"color\":\"#4D5663\"},\"text\":\"\"},\"zerolinecolor\":\"#E1E5ED\"},\"xaxis15\":{\"anchor\":\"y15\",\"domain\":[0.525,0.7375],\"gridcolor\":\"#E1E5ED\",\"showgrid\":false,\"tickfont\":{\"color\":\"#4D5663\"},\"title\":{\"font\":{\"color\":\"#4D5663\"},\"text\":\"\"},\"zerolinecolor\":\"#E1E5ED\"},\"yaxis15\":{\"anchor\":\"x15\",\"domain\":[0.0,0.1975],\"gridcolor\":\"#E1E5ED\",\"showgrid\":false,\"tickfont\":{\"color\":\"#4D5663\"},\"title\":{\"font\":{\"color\":\"#4D5663\"},\"text\":\"\"},\"zerolinecolor\":\"#E1E5ED\"},\"xaxis16\":{\"anchor\":\"y16\",\"domain\":[0.7875,1.0],\"gridcolor\":\"#E1E5ED\",\"showgrid\":false,\"tickfont\":{\"color\":\"#4D5663\"},\"title\":{\"font\":{\"color\":\"#4D5663\"},\"text\":\"\"},\"zerolinecolor\":\"#E1E5ED\"},\"yaxis16\":{\"anchor\":\"x16\",\"domain\":[0.0,0.1975],\"gridcolor\":\"#E1E5ED\",\"showgrid\":false,\"tickfont\":{\"color\":\"#4D5663\"},\"title\":{\"font\":{\"color\":\"#4D5663\"},\"text\":\"\"},\"zerolinecolor\":\"#E1E5ED\"}},                        {\"showLink\": true, \"linkText\": \"Export to plot.ly\", \"plotlyServerURL\": \"https://plot.ly\", \"responsive\": true}                    ).then(function(){\n",
       "                            \n",
       "var gd = document.getElementById('db976773-cef9-4e77-a819-22df59bf282b');\n",
       "var x = new MutationObserver(function (mutations, observer) {{\n",
       "        var display = window.getComputedStyle(gd).display;\n",
       "        if (!display || display === 'none') {{\n",
       "            console.log([gd, 'removed!']);\n",
       "            Plotly.purge(gd);\n",
       "            observer.disconnect();\n",
       "        }}\n",
       "}});\n",
       "\n",
       "// Listen for the removal of the full notebook cells\n",
       "var notebookContainer = gd.closest('#notebook-container');\n",
       "if (notebookContainer) {{\n",
       "    x.observe(notebookContainer, {childList: true});\n",
       "}}\n",
       "\n",
       "// Listen for the clearing of the current output cell\n",
       "var outputEl = gd.closest('.output');\n",
       "if (outputEl) {{\n",
       "    x.observe(outputEl, {childList: true});\n",
       "}}\n",
       "\n",
       "                        })                };                });            </script>        </div>"
      ]
     },
     "metadata": {},
     "output_type": "display_data"
    }
   ],
   "source": [
    "df.scatter_matrix()"
   ]
  },
  {
   "cell_type": "code",
   "execution_count": null,
   "id": "b7572acb",
   "metadata": {},
   "outputs": [],
   "source": []
  }
 ],
 "metadata": {
  "kernelspec": {
   "display_name": "Python 3 (ipykernel)",
   "language": "python",
   "name": "python3"
  },
  "language_info": {
   "codemirror_mode": {
    "name": "ipython",
    "version": 3
   },
   "file_extension": ".py",
   "mimetype": "text/x-python",
   "name": "python",
   "nbconvert_exporter": "python",
   "pygments_lexer": "ipython3",
   "version": "3.9.13"
  }
 },
 "nbformat": 4,
 "nbformat_minor": 5
}
